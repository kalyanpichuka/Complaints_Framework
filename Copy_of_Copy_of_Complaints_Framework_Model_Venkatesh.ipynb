{
  "nbformat": 4,
  "nbformat_minor": 0,
  "metadata": {
    "colab": {
      "name": "Copy of Copy of Complaints_Framework_Model_Venkatesh.ipynb",
      "version": "0.3.2",
      "provenance": [],
      "collapsed_sections": [],
      "include_colab_link": true
    },
    "kernelspec": {
      "name": "python3",
      "display_name": "Python 3"
    },
    "accelerator": "GPU"
  },
  "cells": [
    {
      "cell_type": "markdown",
      "metadata": {
        "id": "view-in-github",
        "colab_type": "text"
      },
      "source": [
        "[View in Colaboratory](https://colab.research.google.com/github/venkatakula9652/Complaints_Framework/blob/master/Copy_of_Copy_of_Complaints_Framework_Model_Venkatesh.ipynb)"
      ]
    },
    {
      "metadata": {
        "id": "hcuJP6MmtPxQ",
        "colab_type": "code",
        "colab": {}
      },
      "cell_type": "code",
      "source": [
        "# IMPORTING NECESSARY PACKAGES\n",
        "import pandas as pd\n",
        "import numpy as np\n",
        "import matplotlib.pyplot as plt\n",
        "import os"
      ],
      "execution_count": 0,
      "outputs": []
    },
    {
      "metadata": {
        "id": "UAgaIOov2xLd",
        "colab_type": "code",
        "colab": {}
      },
      "cell_type": "code",
      "source": [
        "!apt-get install -y -qq software-properties-common python-software-properties module-init-tools\n",
        "!add-apt-repository -y ppa:alessandro-strada/ppa 2>&1 > /dev/null\n",
        "!apt-get update -qq 2>&1 > /dev/null\n",
        "!apt-get -y install -qq google-drive-ocamlfuse fuse\n",
        "from google.colab import auth\n",
        "auth.authenticate_user()\n",
        "from oauth2client.client import GoogleCredentials\n",
        "creds = GoogleCredentials.get_application_default()\n",
        "import getpass\n",
        "!google-drive-ocamlfuse -headless -id={creds.client_id} -secret={creds.client_secret} < /dev/null 2>&1 | grep URL\n",
        "vcode = getpass.getpass()\n",
        "!echo {vcode} | google-drive-ocamlfuse -headless -id={creds.client_id} -secret={creds.client_secret}"
      ],
      "execution_count": 0,
      "outputs": []
    },
    {
      "metadata": {
        "id": "MWrH7zuh5fEv",
        "colab_type": "code",
        "colab": {}
      },
      "cell_type": "code",
      "source": [
        "!mkdir -p drive\n",
        "!google-drive-ocamlfuse drive"
      ],
      "execution_count": 0,
      "outputs": []
    },
    {
      "metadata": {
        "id": "BUN9evG359S4",
        "colab_type": "code",
        "colab": {
          "base_uri": "https://localhost:8080/",
          "height": 71
        },
        "outputId": "83ea5682-83b8-4e5f-acbd-8513411d4d8b"
      },
      "cell_type": "code",
      "source": [
        "data = pd.read_csv(\"drive/Complaints_Dataset/complaints-2018-08-17.csv\")"
      ],
      "execution_count": 64,
      "outputs": [
        {
          "output_type": "stream",
          "text": [
            "/usr/local/lib/python3.6/dist-packages/IPython/core/interactiveshell.py:2718: DtypeWarning: Columns (25,30,31,32) have mixed types. Specify dtype option on import or set low_memory=False.\n",
            "  interactivity=interactivity, compiler=compiler, result=result)\n"
          ],
          "name": "stderr"
        }
      ]
    },
    {
      "metadata": {
        "id": "lDW6HKRO6BfM",
        "colab_type": "code",
        "colab": {
          "base_uri": "https://localhost:8080/",
          "height": 576
        },
        "outputId": "496c347f-3edf-4ccf-a519-4be8c64abe00"
      },
      "cell_type": "code",
      "source": [
        "data.head()"
      ],
      "execution_count": 65,
      "outputs": [
        {
          "output_type": "execute_result",
          "data": {
            "text/html": [
              "<div>\n",
              "<style scoped>\n",
              "    .dataframe tbody tr th:only-of-type {\n",
              "        vertical-align: middle;\n",
              "    }\n",
              "\n",
              "    .dataframe tbody tr th {\n",
              "        vertical-align: top;\n",
              "    }\n",
              "\n",
              "    .dataframe thead th {\n",
              "        text-align: right;\n",
              "    }\n",
              "</style>\n",
              "<table border=\"1\" class=\"dataframe\">\n",
              "  <thead>\n",
              "    <tr style=\"text-align: right;\">\n",
              "      <th></th>\n",
              "      <th>Date received</th>\n",
              "      <th>Product</th>\n",
              "      <th>Sub-product</th>\n",
              "      <th>Issue</th>\n",
              "      <th>Sub-issue</th>\n",
              "      <th>Consumer complaint narrative</th>\n",
              "      <th>Company public response</th>\n",
              "      <th>Company</th>\n",
              "      <th>State</th>\n",
              "      <th>ZIP code</th>\n",
              "      <th>...</th>\n",
              "      <th>Unnamed: 23</th>\n",
              "      <th>Zip Code</th>\n",
              "      <th>Place Name</th>\n",
              "      <th>Unnamed: 26</th>\n",
              "      <th>Unnamed: 27</th>\n",
              "      <th>Unnamed: 28</th>\n",
              "      <th>Unnamed: 29</th>\n",
              "      <th>Unnamed: 30</th>\n",
              "      <th>Unnamed: 31</th>\n",
              "      <th>Unnamed: 32</th>\n",
              "    </tr>\n",
              "  </thead>\n",
              "  <tbody>\n",
              "    <tr>\n",
              "      <th>0</th>\n",
              "      <td>05-11-2018</td>\n",
              "      <td>Mortgage</td>\n",
              "      <td>FHA mortgage</td>\n",
              "      <td>Trouble during payment process</td>\n",
              "      <td>NaN</td>\n",
              "      <td>NaN</td>\n",
              "      <td>Company believes complaint is the result of an...</td>\n",
              "      <td>loanDepot.com, LLC</td>\n",
              "      <td>AA</td>\n",
              "      <td>34031</td>\n",
              "      <td>...</td>\n",
              "      <td>NaN</td>\n",
              "      <td>501.0</td>\n",
              "      <td>Holtsville</td>\n",
              "      <td>NaN</td>\n",
              "      <td>NaN</td>\n",
              "      <td>NaN</td>\n",
              "      <td>92274.0</td>\n",
              "      <td>100 Palms</td>\n",
              "      <td>California</td>\n",
              "      <td>CA</td>\n",
              "    </tr>\n",
              "    <tr>\n",
              "      <th>1</th>\n",
              "      <td>02/20/13</td>\n",
              "      <td>Mortgage</td>\n",
              "      <td>Other mortgage</td>\n",
              "      <td>Loan modification,collection,foreclosure</td>\n",
              "      <td>NaN</td>\n",
              "      <td>NaN</td>\n",
              "      <td>NaN</td>\n",
              "      <td>WELLS FARGO &amp; COMPANY</td>\n",
              "      <td>AA</td>\n",
              "      <td>98282</td>\n",
              "      <td>...</td>\n",
              "      <td>NaN</td>\n",
              "      <td>544.0</td>\n",
              "      <td>Holtsville</td>\n",
              "      <td>NaN</td>\n",
              "      <td>NaN</td>\n",
              "      <td>NaN</td>\n",
              "      <td>92276.0</td>\n",
              "      <td>1000 Palms</td>\n",
              "      <td>California</td>\n",
              "      <td>CA</td>\n",
              "    </tr>\n",
              "    <tr>\n",
              "      <th>2</th>\n",
              "      <td>09/17/16</td>\n",
              "      <td>Mortgage</td>\n",
              "      <td>VA mortgage</td>\n",
              "      <td>Loan modification,collection,foreclosure</td>\n",
              "      <td>NaN</td>\n",
              "      <td>I ran into some financial issues and contacted...</td>\n",
              "      <td>NaN</td>\n",
              "      <td>FIFTH THIRD FINANCIAL CORPORATION</td>\n",
              "      <td>AA</td>\n",
              "      <td>340XX</td>\n",
              "      <td>...</td>\n",
              "      <td>NaN</td>\n",
              "      <td>1001.0</td>\n",
              "      <td>Agawam</td>\n",
              "      <td>NaN</td>\n",
              "      <td>NaN</td>\n",
              "      <td>NaN</td>\n",
              "      <td>92277.0</td>\n",
              "      <td>29 Palms</td>\n",
              "      <td>California</td>\n",
              "      <td>CA</td>\n",
              "    </tr>\n",
              "    <tr>\n",
              "      <th>3</th>\n",
              "      <td>08/18/15</td>\n",
              "      <td>Mortgage</td>\n",
              "      <td>Conventional fixed mortgage</td>\n",
              "      <td>Loan servicing, payments, escrow account</td>\n",
              "      <td>NaN</td>\n",
              "      <td>My mortgage servicer, PHH corporation, has fai...</td>\n",
              "      <td>NaN</td>\n",
              "      <td>PHH Mortgage Services Corporation</td>\n",
              "      <td>AA</td>\n",
              "      <td>340XX</td>\n",
              "      <td>...</td>\n",
              "      <td>NaN</td>\n",
              "      <td>1002.0</td>\n",
              "      <td>Amherst</td>\n",
              "      <td>NaN</td>\n",
              "      <td>NaN</td>\n",
              "      <td>NaN</td>\n",
              "      <td>92278.0</td>\n",
              "      <td>29 Palms</td>\n",
              "      <td>California</td>\n",
              "      <td>CA</td>\n",
              "    </tr>\n",
              "    <tr>\n",
              "      <th>4</th>\n",
              "      <td>05/28/14</td>\n",
              "      <td>Mortgage</td>\n",
              "      <td>Conventional fixed mortgage</td>\n",
              "      <td>Loan servicing, payments, escrow account</td>\n",
              "      <td>NaN</td>\n",
              "      <td>NaN</td>\n",
              "      <td>NaN</td>\n",
              "      <td>CITIBANK, N.A.</td>\n",
              "      <td>AA</td>\n",
              "      <td>34058</td>\n",
              "      <td>...</td>\n",
              "      <td>NaN</td>\n",
              "      <td>1003.0</td>\n",
              "      <td>Amherst</td>\n",
              "      <td>NaN</td>\n",
              "      <td>NaN</td>\n",
              "      <td>NaN</td>\n",
              "      <td>90848.0</td>\n",
              "      <td>A A R P</td>\n",
              "      <td>California</td>\n",
              "      <td>CA</td>\n",
              "    </tr>\n",
              "  </tbody>\n",
              "</table>\n",
              "<p>5 rows × 33 columns</p>\n",
              "</div>"
            ],
            "text/plain": [
              "  Date received   Product                  Sub-product  \\\n",
              "0    05-11-2018  Mortgage                 FHA mortgage   \n",
              "1      02/20/13  Mortgage               Other mortgage   \n",
              "2      09/17/16  Mortgage                  VA mortgage   \n",
              "3      08/18/15  Mortgage  Conventional fixed mortgage   \n",
              "4      05/28/14  Mortgage  Conventional fixed mortgage   \n",
              "\n",
              "                                      Issue  Sub-issue  \\\n",
              "0            Trouble during payment process        NaN   \n",
              "1  Loan modification,collection,foreclosure        NaN   \n",
              "2  Loan modification,collection,foreclosure        NaN   \n",
              "3  Loan servicing, payments, escrow account        NaN   \n",
              "4  Loan servicing, payments, escrow account        NaN   \n",
              "\n",
              "                        Consumer complaint narrative  \\\n",
              "0                                                NaN   \n",
              "1                                                NaN   \n",
              "2  I ran into some financial issues and contacted...   \n",
              "3  My mortgage servicer, PHH corporation, has fai...   \n",
              "4                                                NaN   \n",
              "\n",
              "                             Company public response  \\\n",
              "0  Company believes complaint is the result of an...   \n",
              "1                                                NaN   \n",
              "2                                                NaN   \n",
              "3                                                NaN   \n",
              "4                                                NaN   \n",
              "\n",
              "                             Company State ZIP code     ...      Unnamed: 23  \\\n",
              "0                 loanDepot.com, LLC    AA    34031     ...              NaN   \n",
              "1              WELLS FARGO & COMPANY    AA    98282     ...              NaN   \n",
              "2  FIFTH THIRD FINANCIAL CORPORATION    AA    340XX     ...              NaN   \n",
              "3  PHH Mortgage Services Corporation    AA    340XX     ...              NaN   \n",
              "4                     CITIBANK, N.A.    AA    34058     ...              NaN   \n",
              "\n",
              "  Zip Code  Place Name Unnamed: 26 Unnamed: 27 Unnamed: 28 Unnamed: 29  \\\n",
              "0    501.0  Holtsville         NaN         NaN         NaN     92274.0   \n",
              "1    544.0  Holtsville         NaN         NaN         NaN     92276.0   \n",
              "2   1001.0      Agawam         NaN         NaN         NaN     92277.0   \n",
              "3   1002.0     Amherst         NaN         NaN         NaN     92278.0   \n",
              "4   1003.0     Amherst         NaN         NaN         NaN     90848.0   \n",
              "\n",
              "   Unnamed: 30 Unnamed: 31  Unnamed: 32  \n",
              "0    100 Palms  California           CA  \n",
              "1   1000 Palms  California           CA  \n",
              "2     29 Palms  California           CA  \n",
              "3     29 Palms  California           CA  \n",
              "4      A A R P  California           CA  \n",
              "\n",
              "[5 rows x 33 columns]"
            ]
          },
          "metadata": {
            "tags": []
          },
          "execution_count": 65
        }
      ]
    },
    {
      "metadata": {
        "id": "7nLwqjwo6FeW",
        "colab_type": "code",
        "colab": {}
      },
      "cell_type": "code",
      "source": [
        "data = data[data.Company == 'WELLS FARGO & COMPANY']"
      ],
      "execution_count": 0,
      "outputs": []
    },
    {
      "metadata": {
        "id": "-0sQpqDB95iW",
        "colab_type": "code",
        "colab": {}
      },
      "cell_type": "code",
      "source": [
        "data = data[data.State.isin(['AK','AL','AR','AZ','CA','CO','CT','DC','DE','FL','GA','HI','IA','ID','IL','IN','KS','KY','LA','MA','MD','ME','MI','MN','MO','MS','MT','NC','ND','NE','NH','NJ','NM','NV','NY','OH','OK','OR','PA','PR','RI','SC','SD','TN','TX','UT','VA','VT','WA','WI','WV','WY'])]"
      ],
      "execution_count": 0,
      "outputs": []
    },
    {
      "metadata": {
        "id": "3Xh52LSB6LRZ",
        "colab_type": "code",
        "colab": {
          "base_uri": "https://localhost:8080/",
          "height": 559
        },
        "outputId": "09fd4798-f8cd-4a16-d1b8-12eb581fb765"
      },
      "cell_type": "code",
      "source": [
        "data.head()"
      ],
      "execution_count": 68,
      "outputs": [
        {
          "output_type": "execute_result",
          "data": {
            "text/html": [
              "<div>\n",
              "<style scoped>\n",
              "    .dataframe tbody tr th:only-of-type {\n",
              "        vertical-align: middle;\n",
              "    }\n",
              "\n",
              "    .dataframe tbody tr th {\n",
              "        vertical-align: top;\n",
              "    }\n",
              "\n",
              "    .dataframe thead th {\n",
              "        text-align: right;\n",
              "    }\n",
              "</style>\n",
              "<table border=\"1\" class=\"dataframe\">\n",
              "  <thead>\n",
              "    <tr style=\"text-align: right;\">\n",
              "      <th></th>\n",
              "      <th>Date received</th>\n",
              "      <th>Product</th>\n",
              "      <th>Sub-product</th>\n",
              "      <th>Issue</th>\n",
              "      <th>Sub-issue</th>\n",
              "      <th>Consumer complaint narrative</th>\n",
              "      <th>Company public response</th>\n",
              "      <th>Company</th>\n",
              "      <th>State</th>\n",
              "      <th>ZIP code</th>\n",
              "      <th>...</th>\n",
              "      <th>Unnamed: 23</th>\n",
              "      <th>Zip Code</th>\n",
              "      <th>Place Name</th>\n",
              "      <th>Unnamed: 26</th>\n",
              "      <th>Unnamed: 27</th>\n",
              "      <th>Unnamed: 28</th>\n",
              "      <th>Unnamed: 29</th>\n",
              "      <th>Unnamed: 30</th>\n",
              "      <th>Unnamed: 31</th>\n",
              "      <th>Unnamed: 32</th>\n",
              "    </tr>\n",
              "  </thead>\n",
              "  <tbody>\n",
              "    <tr>\n",
              "      <th>114</th>\n",
              "      <td>11/14/16</td>\n",
              "      <td>Mortgage</td>\n",
              "      <td>Other mortgage</td>\n",
              "      <td>Loan modification,collection,foreclosure</td>\n",
              "      <td>NaN</td>\n",
              "      <td>NaN</td>\n",
              "      <td>Company has responded to the consumer and the ...</td>\n",
              "      <td>WELLS FARGO &amp; COMPANY</td>\n",
              "      <td>AK</td>\n",
              "      <td>99524</td>\n",
              "      <td>...</td>\n",
              "      <td>NaN</td>\n",
              "      <td>1245.0</td>\n",
              "      <td>Monterey</td>\n",
              "      <td>NaN</td>\n",
              "      <td>NaN</td>\n",
              "      <td>NaN</td>\n",
              "      <td>92307.0</td>\n",
              "      <td>Apple Valley</td>\n",
              "      <td>California</td>\n",
              "      <td>CA</td>\n",
              "    </tr>\n",
              "    <tr>\n",
              "      <th>117</th>\n",
              "      <td>02-09-2015</td>\n",
              "      <td>Mortgage</td>\n",
              "      <td>FHA mortgage</td>\n",
              "      <td>Loan modification,collection,foreclosure</td>\n",
              "      <td>NaN</td>\n",
              "      <td>NaN</td>\n",
              "      <td>NaN</td>\n",
              "      <td>WELLS FARGO &amp; COMPANY</td>\n",
              "      <td>AK</td>\n",
              "      <td>99567</td>\n",
              "      <td>...</td>\n",
              "      <td>NaN</td>\n",
              "      <td>1253.0</td>\n",
              "      <td>Otis</td>\n",
              "      <td>NaN</td>\n",
              "      <td>NaN</td>\n",
              "      <td>NaN</td>\n",
              "      <td>95001.0</td>\n",
              "      <td>Aptos</td>\n",
              "      <td>California</td>\n",
              "      <td>CA</td>\n",
              "    </tr>\n",
              "    <tr>\n",
              "      <th>118</th>\n",
              "      <td>03-02-2016</td>\n",
              "      <td>Mortgage</td>\n",
              "      <td>Other mortgage</td>\n",
              "      <td>Application, originator, mortgage broker</td>\n",
              "      <td>NaN</td>\n",
              "      <td>I refinanced my loan with Wells Fargo. The ori...</td>\n",
              "      <td>Company has responded to the consumer and the ...</td>\n",
              "      <td>WELLS FARGO &amp; COMPANY</td>\n",
              "      <td>AK</td>\n",
              "      <td>995XX</td>\n",
              "      <td>...</td>\n",
              "      <td>NaN</td>\n",
              "      <td>1254.0</td>\n",
              "      <td>Richmond</td>\n",
              "      <td>NaN</td>\n",
              "      <td>NaN</td>\n",
              "      <td>NaN</td>\n",
              "      <td>95003.0</td>\n",
              "      <td>Aptos</td>\n",
              "      <td>California</td>\n",
              "      <td>CA</td>\n",
              "    </tr>\n",
              "    <tr>\n",
              "      <th>120</th>\n",
              "      <td>12-02-2014</td>\n",
              "      <td>Mortgage</td>\n",
              "      <td>FHA mortgage</td>\n",
              "      <td>Loan modification,collection,foreclosure</td>\n",
              "      <td>NaN</td>\n",
              "      <td>NaN</td>\n",
              "      <td>NaN</td>\n",
              "      <td>WELLS FARGO &amp; COMPANY</td>\n",
              "      <td>AK</td>\n",
              "      <td>99507</td>\n",
              "      <td>...</td>\n",
              "      <td>NaN</td>\n",
              "      <td>1256.0</td>\n",
              "      <td>Savoy</td>\n",
              "      <td>NaN</td>\n",
              "      <td>NaN</td>\n",
              "      <td>NaN</td>\n",
              "      <td>95912.0</td>\n",
              "      <td>Arbuckle</td>\n",
              "      <td>California</td>\n",
              "      <td>CA</td>\n",
              "    </tr>\n",
              "    <tr>\n",
              "      <th>123</th>\n",
              "      <td>03-07-2013</td>\n",
              "      <td>Mortgage</td>\n",
              "      <td>Other mortgage</td>\n",
              "      <td>Loan servicing, payments, escrow account</td>\n",
              "      <td>NaN</td>\n",
              "      <td>NaN</td>\n",
              "      <td>NaN</td>\n",
              "      <td>WELLS FARGO &amp; COMPANY</td>\n",
              "      <td>AK</td>\n",
              "      <td>99516</td>\n",
              "      <td>...</td>\n",
              "      <td>NaN</td>\n",
              "      <td>1259.0</td>\n",
              "      <td>Southfield</td>\n",
              "      <td>NaN</td>\n",
              "      <td>NaN</td>\n",
              "      <td>NaN</td>\n",
              "      <td>91066.0</td>\n",
              "      <td>Arcadia</td>\n",
              "      <td>California</td>\n",
              "      <td>CA</td>\n",
              "    </tr>\n",
              "  </tbody>\n",
              "</table>\n",
              "<p>5 rows × 33 columns</p>\n",
              "</div>"
            ],
            "text/plain": [
              "    Date received   Product     Sub-product  \\\n",
              "114      11/14/16  Mortgage  Other mortgage   \n",
              "117    02-09-2015  Mortgage    FHA mortgage   \n",
              "118    03-02-2016  Mortgage  Other mortgage   \n",
              "120    12-02-2014  Mortgage    FHA mortgage   \n",
              "123    03-07-2013  Mortgage  Other mortgage   \n",
              "\n",
              "                                        Issue  Sub-issue  \\\n",
              "114  Loan modification,collection,foreclosure        NaN   \n",
              "117  Loan modification,collection,foreclosure        NaN   \n",
              "118  Application, originator, mortgage broker        NaN   \n",
              "120  Loan modification,collection,foreclosure        NaN   \n",
              "123  Loan servicing, payments, escrow account        NaN   \n",
              "\n",
              "                          Consumer complaint narrative  \\\n",
              "114                                                NaN   \n",
              "117                                                NaN   \n",
              "118  I refinanced my loan with Wells Fargo. The ori...   \n",
              "120                                                NaN   \n",
              "123                                                NaN   \n",
              "\n",
              "                               Company public response                Company  \\\n",
              "114  Company has responded to the consumer and the ...  WELLS FARGO & COMPANY   \n",
              "117                                                NaN  WELLS FARGO & COMPANY   \n",
              "118  Company has responded to the consumer and the ...  WELLS FARGO & COMPANY   \n",
              "120                                                NaN  WELLS FARGO & COMPANY   \n",
              "123                                                NaN  WELLS FARGO & COMPANY   \n",
              "\n",
              "    State ZIP code     ...      Unnamed: 23 Zip Code  Place Name Unnamed: 26  \\\n",
              "114    AK    99524     ...              NaN   1245.0    Monterey         NaN   \n",
              "117    AK    99567     ...              NaN   1253.0        Otis         NaN   \n",
              "118    AK    995XX     ...              NaN   1254.0    Richmond         NaN   \n",
              "120    AK    99507     ...              NaN   1256.0       Savoy         NaN   \n",
              "123    AK    99516     ...              NaN   1259.0  Southfield         NaN   \n",
              "\n",
              "    Unnamed: 27 Unnamed: 28 Unnamed: 29   Unnamed: 30 Unnamed: 31  Unnamed: 32  \n",
              "114         NaN         NaN     92307.0  Apple Valley  California           CA  \n",
              "117         NaN         NaN     95001.0         Aptos  California           CA  \n",
              "118         NaN         NaN     95003.0         Aptos  California           CA  \n",
              "120         NaN         NaN     95912.0      Arbuckle  California           CA  \n",
              "123         NaN         NaN     91066.0       Arcadia  California           CA  \n",
              "\n",
              "[5 rows x 33 columns]"
            ]
          },
          "metadata": {
            "tags": []
          },
          "execution_count": 68
        }
      ]
    },
    {
      "metadata": {
        "id": "_Mx5HVmSc2hJ",
        "colab_type": "code",
        "colab": {
          "base_uri": "https://localhost:8080/",
          "height": 559
        },
        "outputId": "46b98f93-fd1e-40df-e812-b5aa47dda538"
      },
      "cell_type": "code",
      "source": [
        "data.index = range(data.shape[0])\n",
        "data.head()"
      ],
      "execution_count": 69,
      "outputs": [
        {
          "output_type": "execute_result",
          "data": {
            "text/html": [
              "<div>\n",
              "<style scoped>\n",
              "    .dataframe tbody tr th:only-of-type {\n",
              "        vertical-align: middle;\n",
              "    }\n",
              "\n",
              "    .dataframe tbody tr th {\n",
              "        vertical-align: top;\n",
              "    }\n",
              "\n",
              "    .dataframe thead th {\n",
              "        text-align: right;\n",
              "    }\n",
              "</style>\n",
              "<table border=\"1\" class=\"dataframe\">\n",
              "  <thead>\n",
              "    <tr style=\"text-align: right;\">\n",
              "      <th></th>\n",
              "      <th>Date received</th>\n",
              "      <th>Product</th>\n",
              "      <th>Sub-product</th>\n",
              "      <th>Issue</th>\n",
              "      <th>Sub-issue</th>\n",
              "      <th>Consumer complaint narrative</th>\n",
              "      <th>Company public response</th>\n",
              "      <th>Company</th>\n",
              "      <th>State</th>\n",
              "      <th>ZIP code</th>\n",
              "      <th>...</th>\n",
              "      <th>Unnamed: 23</th>\n",
              "      <th>Zip Code</th>\n",
              "      <th>Place Name</th>\n",
              "      <th>Unnamed: 26</th>\n",
              "      <th>Unnamed: 27</th>\n",
              "      <th>Unnamed: 28</th>\n",
              "      <th>Unnamed: 29</th>\n",
              "      <th>Unnamed: 30</th>\n",
              "      <th>Unnamed: 31</th>\n",
              "      <th>Unnamed: 32</th>\n",
              "    </tr>\n",
              "  </thead>\n",
              "  <tbody>\n",
              "    <tr>\n",
              "      <th>0</th>\n",
              "      <td>11/14/16</td>\n",
              "      <td>Mortgage</td>\n",
              "      <td>Other mortgage</td>\n",
              "      <td>Loan modification,collection,foreclosure</td>\n",
              "      <td>NaN</td>\n",
              "      <td>NaN</td>\n",
              "      <td>Company has responded to the consumer and the ...</td>\n",
              "      <td>WELLS FARGO &amp; COMPANY</td>\n",
              "      <td>AK</td>\n",
              "      <td>99524</td>\n",
              "      <td>...</td>\n",
              "      <td>NaN</td>\n",
              "      <td>1245.0</td>\n",
              "      <td>Monterey</td>\n",
              "      <td>NaN</td>\n",
              "      <td>NaN</td>\n",
              "      <td>NaN</td>\n",
              "      <td>92307.0</td>\n",
              "      <td>Apple Valley</td>\n",
              "      <td>California</td>\n",
              "      <td>CA</td>\n",
              "    </tr>\n",
              "    <tr>\n",
              "      <th>1</th>\n",
              "      <td>02-09-2015</td>\n",
              "      <td>Mortgage</td>\n",
              "      <td>FHA mortgage</td>\n",
              "      <td>Loan modification,collection,foreclosure</td>\n",
              "      <td>NaN</td>\n",
              "      <td>NaN</td>\n",
              "      <td>NaN</td>\n",
              "      <td>WELLS FARGO &amp; COMPANY</td>\n",
              "      <td>AK</td>\n",
              "      <td>99567</td>\n",
              "      <td>...</td>\n",
              "      <td>NaN</td>\n",
              "      <td>1253.0</td>\n",
              "      <td>Otis</td>\n",
              "      <td>NaN</td>\n",
              "      <td>NaN</td>\n",
              "      <td>NaN</td>\n",
              "      <td>95001.0</td>\n",
              "      <td>Aptos</td>\n",
              "      <td>California</td>\n",
              "      <td>CA</td>\n",
              "    </tr>\n",
              "    <tr>\n",
              "      <th>2</th>\n",
              "      <td>03-02-2016</td>\n",
              "      <td>Mortgage</td>\n",
              "      <td>Other mortgage</td>\n",
              "      <td>Application, originator, mortgage broker</td>\n",
              "      <td>NaN</td>\n",
              "      <td>I refinanced my loan with Wells Fargo. The ori...</td>\n",
              "      <td>Company has responded to the consumer and the ...</td>\n",
              "      <td>WELLS FARGO &amp; COMPANY</td>\n",
              "      <td>AK</td>\n",
              "      <td>995XX</td>\n",
              "      <td>...</td>\n",
              "      <td>NaN</td>\n",
              "      <td>1254.0</td>\n",
              "      <td>Richmond</td>\n",
              "      <td>NaN</td>\n",
              "      <td>NaN</td>\n",
              "      <td>NaN</td>\n",
              "      <td>95003.0</td>\n",
              "      <td>Aptos</td>\n",
              "      <td>California</td>\n",
              "      <td>CA</td>\n",
              "    </tr>\n",
              "    <tr>\n",
              "      <th>3</th>\n",
              "      <td>12-02-2014</td>\n",
              "      <td>Mortgage</td>\n",
              "      <td>FHA mortgage</td>\n",
              "      <td>Loan modification,collection,foreclosure</td>\n",
              "      <td>NaN</td>\n",
              "      <td>NaN</td>\n",
              "      <td>NaN</td>\n",
              "      <td>WELLS FARGO &amp; COMPANY</td>\n",
              "      <td>AK</td>\n",
              "      <td>99507</td>\n",
              "      <td>...</td>\n",
              "      <td>NaN</td>\n",
              "      <td>1256.0</td>\n",
              "      <td>Savoy</td>\n",
              "      <td>NaN</td>\n",
              "      <td>NaN</td>\n",
              "      <td>NaN</td>\n",
              "      <td>95912.0</td>\n",
              "      <td>Arbuckle</td>\n",
              "      <td>California</td>\n",
              "      <td>CA</td>\n",
              "    </tr>\n",
              "    <tr>\n",
              "      <th>4</th>\n",
              "      <td>03-07-2013</td>\n",
              "      <td>Mortgage</td>\n",
              "      <td>Other mortgage</td>\n",
              "      <td>Loan servicing, payments, escrow account</td>\n",
              "      <td>NaN</td>\n",
              "      <td>NaN</td>\n",
              "      <td>NaN</td>\n",
              "      <td>WELLS FARGO &amp; COMPANY</td>\n",
              "      <td>AK</td>\n",
              "      <td>99516</td>\n",
              "      <td>...</td>\n",
              "      <td>NaN</td>\n",
              "      <td>1259.0</td>\n",
              "      <td>Southfield</td>\n",
              "      <td>NaN</td>\n",
              "      <td>NaN</td>\n",
              "      <td>NaN</td>\n",
              "      <td>91066.0</td>\n",
              "      <td>Arcadia</td>\n",
              "      <td>California</td>\n",
              "      <td>CA</td>\n",
              "    </tr>\n",
              "  </tbody>\n",
              "</table>\n",
              "<p>5 rows × 33 columns</p>\n",
              "</div>"
            ],
            "text/plain": [
              "  Date received   Product     Sub-product  \\\n",
              "0      11/14/16  Mortgage  Other mortgage   \n",
              "1    02-09-2015  Mortgage    FHA mortgage   \n",
              "2    03-02-2016  Mortgage  Other mortgage   \n",
              "3    12-02-2014  Mortgage    FHA mortgage   \n",
              "4    03-07-2013  Mortgage  Other mortgage   \n",
              "\n",
              "                                      Issue  Sub-issue  \\\n",
              "0  Loan modification,collection,foreclosure        NaN   \n",
              "1  Loan modification,collection,foreclosure        NaN   \n",
              "2  Application, originator, mortgage broker        NaN   \n",
              "3  Loan modification,collection,foreclosure        NaN   \n",
              "4  Loan servicing, payments, escrow account        NaN   \n",
              "\n",
              "                        Consumer complaint narrative  \\\n",
              "0                                                NaN   \n",
              "1                                                NaN   \n",
              "2  I refinanced my loan with Wells Fargo. The ori...   \n",
              "3                                                NaN   \n",
              "4                                                NaN   \n",
              "\n",
              "                             Company public response                Company  \\\n",
              "0  Company has responded to the consumer and the ...  WELLS FARGO & COMPANY   \n",
              "1                                                NaN  WELLS FARGO & COMPANY   \n",
              "2  Company has responded to the consumer and the ...  WELLS FARGO & COMPANY   \n",
              "3                                                NaN  WELLS FARGO & COMPANY   \n",
              "4                                                NaN  WELLS FARGO & COMPANY   \n",
              "\n",
              "  State ZIP code     ...      Unnamed: 23 Zip Code  Place Name Unnamed: 26  \\\n",
              "0    AK    99524     ...              NaN   1245.0    Monterey         NaN   \n",
              "1    AK    99567     ...              NaN   1253.0        Otis         NaN   \n",
              "2    AK    995XX     ...              NaN   1254.0    Richmond         NaN   \n",
              "3    AK    99507     ...              NaN   1256.0       Savoy         NaN   \n",
              "4    AK    99516     ...              NaN   1259.0  Southfield         NaN   \n",
              "\n",
              "  Unnamed: 27 Unnamed: 28 Unnamed: 29   Unnamed: 30 Unnamed: 31  Unnamed: 32  \n",
              "0         NaN         NaN     92307.0  Apple Valley  California           CA  \n",
              "1         NaN         NaN     95001.0         Aptos  California           CA  \n",
              "2         NaN         NaN     95003.0         Aptos  California           CA  \n",
              "3         NaN         NaN     95912.0      Arbuckle  California           CA  \n",
              "4         NaN         NaN     91066.0       Arcadia  California           CA  \n",
              "\n",
              "[5 rows x 33 columns]"
            ]
          },
          "metadata": {
            "tags": []
          },
          "execution_count": 69
        }
      ]
    },
    {
      "metadata": {
        "id": "1OjRKr-G76pQ",
        "colab_type": "code",
        "colab": {
          "base_uri": "https://localhost:8080/",
          "height": 34
        },
        "outputId": "96e55fec-1b9e-46be-b7ce-deed1a414099"
      },
      "cell_type": "code",
      "source": [
        "data.shape"
      ],
      "execution_count": 70,
      "outputs": [
        {
          "output_type": "execute_result",
          "data": {
            "text/plain": [
              "(34081, 33)"
            ]
          },
          "metadata": {
            "tags": []
          },
          "execution_count": 70
        }
      ]
    },
    {
      "metadata": {
        "id": "pHpo_wll8Y3V",
        "colab_type": "code",
        "colab": {}
      },
      "cell_type": "code",
      "source": [
        "#req_cols = ['Date received','Issue','State','Submitted via', 'Date sent to company','Company reponse to consumer']\n",
        "req_cols = ['Date received','Issue','City','Submitted via', 'Date sent to company','Company response to consumer']"
      ],
      "execution_count": 0,
      "outputs": []
    },
    {
      "metadata": {
        "id": "0gw8YvFAAvDD",
        "colab_type": "code",
        "colab": {
          "base_uri": "https://localhost:8080/",
          "height": 187
        },
        "outputId": "e52e683e-a93b-426b-b390-a98a96a8256e"
      },
      "cell_type": "code",
      "source": [
        "data.columns"
      ],
      "execution_count": 72,
      "outputs": [
        {
          "output_type": "execute_result",
          "data": {
            "text/plain": [
              "Index(['Date received', 'Product', 'Sub-product', 'Issue', 'Sub-issue',\n",
              "       'Consumer complaint narrative', 'Company public response', 'Company',\n",
              "       'State', 'ZIP code', 'Tags', 'Consumer consent provided?',\n",
              "       'Submitted via', 'Date sent to company', 'Company response to consumer',\n",
              "       'Timely response?', 'Consumer disputed?', 'Complaint ID', 'City',\n",
              "       'Unnamed: 19', 'Unnamed: 20', 'Unnamed: 21', 'Unnamed: 22',\n",
              "       'Unnamed: 23', 'Zip Code', 'Place Name', 'Unnamed: 26', 'Unnamed: 27',\n",
              "       'Unnamed: 28', 'Unnamed: 29', 'Unnamed: 30', 'Unnamed: 31',\n",
              "       'Unnamed: 32'],\n",
              "      dtype='object')"
            ]
          },
          "metadata": {
            "tags": []
          },
          "execution_count": 72
        }
      ]
    },
    {
      "metadata": {
        "id": "bGaZu1Xc_K-j",
        "colab_type": "code",
        "colab": {}
      },
      "cell_type": "code",
      "source": [
        "data_req = data[req_cols]"
      ],
      "execution_count": 0,
      "outputs": []
    },
    {
      "metadata": {
        "id": "FKR2PBW-_QIk",
        "colab_type": "code",
        "colab": {
          "base_uri": "https://localhost:8080/",
          "height": 34
        },
        "outputId": "be42d746-5b32-487c-fed4-8a9791867a83"
      },
      "cell_type": "code",
      "source": [
        "data_req.shape"
      ],
      "execution_count": 74,
      "outputs": [
        {
          "output_type": "execute_result",
          "data": {
            "text/plain": [
              "(34081, 6)"
            ]
          },
          "metadata": {
            "tags": []
          },
          "execution_count": 74
        }
      ]
    },
    {
      "metadata": {
        "id": "exaKtRM9B2yH",
        "colab_type": "code",
        "colab": {
          "base_uri": "https://localhost:8080/",
          "height": 68
        },
        "outputId": "5daeae7c-c709-475e-ea9c-955dbfa15a13"
      },
      "cell_type": "code",
      "source": [
        "data_req.columns"
      ],
      "execution_count": 75,
      "outputs": [
        {
          "output_type": "execute_result",
          "data": {
            "text/plain": [
              "Index(['Date received', 'Issue', 'City', 'Submitted via',\n",
              "       'Date sent to company', 'Company response to consumer'],\n",
              "      dtype='object')"
            ]
          },
          "metadata": {
            "tags": []
          },
          "execution_count": 75
        }
      ]
    },
    {
      "metadata": {
        "id": "N0SM4rJYK0PK",
        "colab_type": "code",
        "colab": {
          "base_uri": "https://localhost:8080/",
          "height": 221
        },
        "outputId": "0d01b1c9-f18a-4a19-be64-092ff0c768b5"
      },
      "cell_type": "code",
      "source": [
        "data_req['Date received']=pd.to_datetime(data_req['Date received'])\n",
        "data_req['Date sent to company']=pd.to_datetime(data_req['Date sent to company'])"
      ],
      "execution_count": 76,
      "outputs": [
        {
          "output_type": "stream",
          "text": [
            "/usr/local/lib/python3.6/dist-packages/ipykernel_launcher.py:1: SettingWithCopyWarning: \n",
            "A value is trying to be set on a copy of a slice from a DataFrame.\n",
            "Try using .loc[row_indexer,col_indexer] = value instead\n",
            "\n",
            "See the caveats in the documentation: http://pandas.pydata.org/pandas-docs/stable/indexing.html#indexing-view-versus-copy\n",
            "  \"\"\"Entry point for launching an IPython kernel.\n",
            "/usr/local/lib/python3.6/dist-packages/ipykernel_launcher.py:2: SettingWithCopyWarning: \n",
            "A value is trying to be set on a copy of a slice from a DataFrame.\n",
            "Try using .loc[row_indexer,col_indexer] = value instead\n",
            "\n",
            "See the caveats in the documentation: http://pandas.pydata.org/pandas-docs/stable/indexing.html#indexing-view-versus-copy\n",
            "  \n"
          ],
          "name": "stderr"
        }
      ]
    },
    {
      "metadata": {
        "id": "3Ck-NE03MZiX",
        "colab_type": "code",
        "colab": {
          "base_uri": "https://localhost:8080/",
          "height": 204
        },
        "outputId": "eea5f61a-00c6-4adb-c001-9c28413c5efb"
      },
      "cell_type": "code",
      "source": [
        "data_req.info()"
      ],
      "execution_count": 77,
      "outputs": [
        {
          "output_type": "stream",
          "text": [
            "<class 'pandas.core.frame.DataFrame'>\n",
            "RangeIndex: 34081 entries, 0 to 34080\n",
            "Data columns (total 6 columns):\n",
            "Date received                   34081 non-null datetime64[ns]\n",
            "Issue                           34081 non-null object\n",
            "City                            28423 non-null object\n",
            "Submitted via                   34081 non-null object\n",
            "Date sent to company            34081 non-null datetime64[ns]\n",
            "Company response to consumer    34081 non-null object\n",
            "dtypes: datetime64[ns](2), object(4)\n",
            "memory usage: 1.6+ MB\n"
          ],
          "name": "stdout"
        }
      ]
    },
    {
      "metadata": {
        "id": "LUJfHbiaM48W",
        "colab_type": "code",
        "colab": {
          "base_uri": "https://localhost:8080/",
          "height": 306
        },
        "outputId": "b224c1cf-9fff-49dc-f723-f99120bf60e5"
      },
      "cell_type": "code",
      "source": [
        "data_req['Time Difference'] = (data_req['Date sent to company']-data_req['Date received']).astype('timedelta64[s]')\n",
        "data_req.head()"
      ],
      "execution_count": 78,
      "outputs": [
        {
          "output_type": "stream",
          "text": [
            "/usr/local/lib/python3.6/dist-packages/ipykernel_launcher.py:1: SettingWithCopyWarning: \n",
            "A value is trying to be set on a copy of a slice from a DataFrame.\n",
            "Try using .loc[row_indexer,col_indexer] = value instead\n",
            "\n",
            "See the caveats in the documentation: http://pandas.pydata.org/pandas-docs/stable/indexing.html#indexing-view-versus-copy\n",
            "  \"\"\"Entry point for launching an IPython kernel.\n"
          ],
          "name": "stderr"
        },
        {
          "output_type": "execute_result",
          "data": {
            "text/html": [
              "<div>\n",
              "<style scoped>\n",
              "    .dataframe tbody tr th:only-of-type {\n",
              "        vertical-align: middle;\n",
              "    }\n",
              "\n",
              "    .dataframe tbody tr th {\n",
              "        vertical-align: top;\n",
              "    }\n",
              "\n",
              "    .dataframe thead th {\n",
              "        text-align: right;\n",
              "    }\n",
              "</style>\n",
              "<table border=\"1\" class=\"dataframe\">\n",
              "  <thead>\n",
              "    <tr style=\"text-align: right;\">\n",
              "      <th></th>\n",
              "      <th>Date received</th>\n",
              "      <th>Issue</th>\n",
              "      <th>City</th>\n",
              "      <th>Submitted via</th>\n",
              "      <th>Date sent to company</th>\n",
              "      <th>Company response to consumer</th>\n",
              "      <th>Time Difference</th>\n",
              "    </tr>\n",
              "  </thead>\n",
              "  <tbody>\n",
              "    <tr>\n",
              "      <th>0</th>\n",
              "      <td>2016-11-14</td>\n",
              "      <td>Loan modification,collection,foreclosure</td>\n",
              "      <td>Anchorage</td>\n",
              "      <td>Referral</td>\n",
              "      <td>2016-11-16</td>\n",
              "      <td>Closed with explanation</td>\n",
              "      <td>172800.0</td>\n",
              "    </tr>\n",
              "    <tr>\n",
              "      <th>1</th>\n",
              "      <td>2015-02-09</td>\n",
              "      <td>Loan modification,collection,foreclosure</td>\n",
              "      <td>Chugiak</td>\n",
              "      <td>Web</td>\n",
              "      <td>2015-02-09</td>\n",
              "      <td>Closed with explanation</td>\n",
              "      <td>0.0</td>\n",
              "    </tr>\n",
              "    <tr>\n",
              "      <th>2</th>\n",
              "      <td>2016-03-02</td>\n",
              "      <td>Application, originator, mortgage broker</td>\n",
              "      <td>NaN</td>\n",
              "      <td>Web</td>\n",
              "      <td>2016-03-04</td>\n",
              "      <td>Closed with monetary relief</td>\n",
              "      <td>172800.0</td>\n",
              "    </tr>\n",
              "    <tr>\n",
              "      <th>3</th>\n",
              "      <td>2014-12-02</td>\n",
              "      <td>Loan modification,collection,foreclosure</td>\n",
              "      <td>Anchorage</td>\n",
              "      <td>Web</td>\n",
              "      <td>2014-12-05</td>\n",
              "      <td>Closed with explanation</td>\n",
              "      <td>259200.0</td>\n",
              "    </tr>\n",
              "    <tr>\n",
              "      <th>4</th>\n",
              "      <td>2013-03-07</td>\n",
              "      <td>Loan servicing, payments, escrow account</td>\n",
              "      <td>Anchorage</td>\n",
              "      <td>Referral</td>\n",
              "      <td>2013-03-08</td>\n",
              "      <td>Closed with explanation</td>\n",
              "      <td>86400.0</td>\n",
              "    </tr>\n",
              "  </tbody>\n",
              "</table>\n",
              "</div>"
            ],
            "text/plain": [
              "  Date received                                     Issue       City  \\\n",
              "0    2016-11-14  Loan modification,collection,foreclosure  Anchorage   \n",
              "1    2015-02-09  Loan modification,collection,foreclosure    Chugiak   \n",
              "2    2016-03-02  Application, originator, mortgage broker        NaN   \n",
              "3    2014-12-02  Loan modification,collection,foreclosure  Anchorage   \n",
              "4    2013-03-07  Loan servicing, payments, escrow account  Anchorage   \n",
              "\n",
              "  Submitted via Date sent to company Company response to consumer  \\\n",
              "0      Referral           2016-11-16      Closed with explanation   \n",
              "1           Web           2015-02-09      Closed with explanation   \n",
              "2           Web           2016-03-04  Closed with monetary relief   \n",
              "3           Web           2014-12-05      Closed with explanation   \n",
              "4      Referral           2013-03-08      Closed with explanation   \n",
              "\n",
              "   Time Difference  \n",
              "0         172800.0  \n",
              "1              0.0  \n",
              "2         172800.0  \n",
              "3         259200.0  \n",
              "4          86400.0  "
            ]
          },
          "metadata": {
            "tags": []
          },
          "execution_count": 78
        }
      ]
    },
    {
      "metadata": {
        "id": "jJ1DmhSQhEgn",
        "colab_type": "code",
        "colab": {
          "base_uri": "https://localhost:8080/",
          "height": 306
        },
        "outputId": "672f4abe-3d57-4fda-c4b4-acda2490f6b2"
      },
      "cell_type": "code",
      "source": [
        "data_req.loc[data_req['Time Difference'] < 0, 'Time Difference'] = 0\n",
        "data_req.head()"
      ],
      "execution_count": 79,
      "outputs": [
        {
          "output_type": "stream",
          "text": [
            "/usr/local/lib/python3.6/dist-packages/pandas/core/indexing.py:537: SettingWithCopyWarning: \n",
            "A value is trying to be set on a copy of a slice from a DataFrame.\n",
            "Try using .loc[row_indexer,col_indexer] = value instead\n",
            "\n",
            "See the caveats in the documentation: http://pandas.pydata.org/pandas-docs/stable/indexing.html#indexing-view-versus-copy\n",
            "  self.obj[item] = s\n"
          ],
          "name": "stderr"
        },
        {
          "output_type": "execute_result",
          "data": {
            "text/html": [
              "<div>\n",
              "<style scoped>\n",
              "    .dataframe tbody tr th:only-of-type {\n",
              "        vertical-align: middle;\n",
              "    }\n",
              "\n",
              "    .dataframe tbody tr th {\n",
              "        vertical-align: top;\n",
              "    }\n",
              "\n",
              "    .dataframe thead th {\n",
              "        text-align: right;\n",
              "    }\n",
              "</style>\n",
              "<table border=\"1\" class=\"dataframe\">\n",
              "  <thead>\n",
              "    <tr style=\"text-align: right;\">\n",
              "      <th></th>\n",
              "      <th>Date received</th>\n",
              "      <th>Issue</th>\n",
              "      <th>City</th>\n",
              "      <th>Submitted via</th>\n",
              "      <th>Date sent to company</th>\n",
              "      <th>Company response to consumer</th>\n",
              "      <th>Time Difference</th>\n",
              "    </tr>\n",
              "  </thead>\n",
              "  <tbody>\n",
              "    <tr>\n",
              "      <th>0</th>\n",
              "      <td>2016-11-14</td>\n",
              "      <td>Loan modification,collection,foreclosure</td>\n",
              "      <td>Anchorage</td>\n",
              "      <td>Referral</td>\n",
              "      <td>2016-11-16</td>\n",
              "      <td>Closed with explanation</td>\n",
              "      <td>172800.0</td>\n",
              "    </tr>\n",
              "    <tr>\n",
              "      <th>1</th>\n",
              "      <td>2015-02-09</td>\n",
              "      <td>Loan modification,collection,foreclosure</td>\n",
              "      <td>Chugiak</td>\n",
              "      <td>Web</td>\n",
              "      <td>2015-02-09</td>\n",
              "      <td>Closed with explanation</td>\n",
              "      <td>0.0</td>\n",
              "    </tr>\n",
              "    <tr>\n",
              "      <th>2</th>\n",
              "      <td>2016-03-02</td>\n",
              "      <td>Application, originator, mortgage broker</td>\n",
              "      <td>NaN</td>\n",
              "      <td>Web</td>\n",
              "      <td>2016-03-04</td>\n",
              "      <td>Closed with monetary relief</td>\n",
              "      <td>172800.0</td>\n",
              "    </tr>\n",
              "    <tr>\n",
              "      <th>3</th>\n",
              "      <td>2014-12-02</td>\n",
              "      <td>Loan modification,collection,foreclosure</td>\n",
              "      <td>Anchorage</td>\n",
              "      <td>Web</td>\n",
              "      <td>2014-12-05</td>\n",
              "      <td>Closed with explanation</td>\n",
              "      <td>259200.0</td>\n",
              "    </tr>\n",
              "    <tr>\n",
              "      <th>4</th>\n",
              "      <td>2013-03-07</td>\n",
              "      <td>Loan servicing, payments, escrow account</td>\n",
              "      <td>Anchorage</td>\n",
              "      <td>Referral</td>\n",
              "      <td>2013-03-08</td>\n",
              "      <td>Closed with explanation</td>\n",
              "      <td>86400.0</td>\n",
              "    </tr>\n",
              "  </tbody>\n",
              "</table>\n",
              "</div>"
            ],
            "text/plain": [
              "  Date received                                     Issue       City  \\\n",
              "0    2016-11-14  Loan modification,collection,foreclosure  Anchorage   \n",
              "1    2015-02-09  Loan modification,collection,foreclosure    Chugiak   \n",
              "2    2016-03-02  Application, originator, mortgage broker        NaN   \n",
              "3    2014-12-02  Loan modification,collection,foreclosure  Anchorage   \n",
              "4    2013-03-07  Loan servicing, payments, escrow account  Anchorage   \n",
              "\n",
              "  Submitted via Date sent to company Company response to consumer  \\\n",
              "0      Referral           2016-11-16      Closed with explanation   \n",
              "1           Web           2015-02-09      Closed with explanation   \n",
              "2           Web           2016-03-04  Closed with monetary relief   \n",
              "3           Web           2014-12-05      Closed with explanation   \n",
              "4      Referral           2013-03-08      Closed with explanation   \n",
              "\n",
              "   Time Difference  \n",
              "0         172800.0  \n",
              "1              0.0  \n",
              "2         172800.0  \n",
              "3         259200.0  \n",
              "4          86400.0  "
            ]
          },
          "metadata": {
            "tags": []
          },
          "execution_count": 79
        }
      ]
    },
    {
      "metadata": {
        "id": "0nqdUr0Eo1pw",
        "colab_type": "code",
        "colab": {
          "base_uri": "https://localhost:8080/",
          "height": 119
        },
        "outputId": "21761fb2-634e-4020-c9d8-59b7ab56e543"
      },
      "cell_type": "code",
      "source": [
        "from sklearn.preprocessing import MinMaxScaler\n",
        "values=data_req['Time Difference'].values.reshape((len(data_req['Time Difference']), 1))\n",
        "# train the normalization\n",
        "scaler = MinMaxScaler(feature_range=(0, 1))\n",
        "scaler = scaler.fit(values)\n",
        "# normalize the dataset\n",
        "data_req['Time Difference'] = scaler.transform(values)  "
      ],
      "execution_count": 80,
      "outputs": [
        {
          "output_type": "stream",
          "text": [
            "/usr/local/lib/python3.6/dist-packages/ipykernel_launcher.py:7: SettingWithCopyWarning: \n",
            "A value is trying to be set on a copy of a slice from a DataFrame.\n",
            "Try using .loc[row_indexer,col_indexer] = value instead\n",
            "\n",
            "See the caveats in the documentation: http://pandas.pydata.org/pandas-docs/stable/indexing.html#indexing-view-versus-copy\n",
            "  import sys\n"
          ],
          "name": "stderr"
        }
      ]
    },
    {
      "metadata": {
        "id": "EfSb_mHWp8Gt",
        "colab_type": "code",
        "colab": {
          "base_uri": "https://localhost:8080/",
          "height": 204
        },
        "outputId": "ccc34a18-8f38-4b17-adae-da1ce16ebd28"
      },
      "cell_type": "code",
      "source": [
        "data_req.head()"
      ],
      "execution_count": 81,
      "outputs": [
        {
          "output_type": "execute_result",
          "data": {
            "text/html": [
              "<div>\n",
              "<style scoped>\n",
              "    .dataframe tbody tr th:only-of-type {\n",
              "        vertical-align: middle;\n",
              "    }\n",
              "\n",
              "    .dataframe tbody tr th {\n",
              "        vertical-align: top;\n",
              "    }\n",
              "\n",
              "    .dataframe thead th {\n",
              "        text-align: right;\n",
              "    }\n",
              "</style>\n",
              "<table border=\"1\" class=\"dataframe\">\n",
              "  <thead>\n",
              "    <tr style=\"text-align: right;\">\n",
              "      <th></th>\n",
              "      <th>Date received</th>\n",
              "      <th>Issue</th>\n",
              "      <th>City</th>\n",
              "      <th>Submitted via</th>\n",
              "      <th>Date sent to company</th>\n",
              "      <th>Company response to consumer</th>\n",
              "      <th>Time Difference</th>\n",
              "    </tr>\n",
              "  </thead>\n",
              "  <tbody>\n",
              "    <tr>\n",
              "      <th>0</th>\n",
              "      <td>2016-11-14</td>\n",
              "      <td>Loan modification,collection,foreclosure</td>\n",
              "      <td>Anchorage</td>\n",
              "      <td>Referral</td>\n",
              "      <td>2016-11-16</td>\n",
              "      <td>Closed with explanation</td>\n",
              "      <td>0.003846</td>\n",
              "    </tr>\n",
              "    <tr>\n",
              "      <th>1</th>\n",
              "      <td>2015-02-09</td>\n",
              "      <td>Loan modification,collection,foreclosure</td>\n",
              "      <td>Chugiak</td>\n",
              "      <td>Web</td>\n",
              "      <td>2015-02-09</td>\n",
              "      <td>Closed with explanation</td>\n",
              "      <td>0.000000</td>\n",
              "    </tr>\n",
              "    <tr>\n",
              "      <th>2</th>\n",
              "      <td>2016-03-02</td>\n",
              "      <td>Application, originator, mortgage broker</td>\n",
              "      <td>NaN</td>\n",
              "      <td>Web</td>\n",
              "      <td>2016-03-04</td>\n",
              "      <td>Closed with monetary relief</td>\n",
              "      <td>0.003846</td>\n",
              "    </tr>\n",
              "    <tr>\n",
              "      <th>3</th>\n",
              "      <td>2014-12-02</td>\n",
              "      <td>Loan modification,collection,foreclosure</td>\n",
              "      <td>Anchorage</td>\n",
              "      <td>Web</td>\n",
              "      <td>2014-12-05</td>\n",
              "      <td>Closed with explanation</td>\n",
              "      <td>0.005769</td>\n",
              "    </tr>\n",
              "    <tr>\n",
              "      <th>4</th>\n",
              "      <td>2013-03-07</td>\n",
              "      <td>Loan servicing, payments, escrow account</td>\n",
              "      <td>Anchorage</td>\n",
              "      <td>Referral</td>\n",
              "      <td>2013-03-08</td>\n",
              "      <td>Closed with explanation</td>\n",
              "      <td>0.001923</td>\n",
              "    </tr>\n",
              "  </tbody>\n",
              "</table>\n",
              "</div>"
            ],
            "text/plain": [
              "  Date received                                     Issue       City  \\\n",
              "0    2016-11-14  Loan modification,collection,foreclosure  Anchorage   \n",
              "1    2015-02-09  Loan modification,collection,foreclosure    Chugiak   \n",
              "2    2016-03-02  Application, originator, mortgage broker        NaN   \n",
              "3    2014-12-02  Loan modification,collection,foreclosure  Anchorage   \n",
              "4    2013-03-07  Loan servicing, payments, escrow account  Anchorage   \n",
              "\n",
              "  Submitted via Date sent to company Company response to consumer  \\\n",
              "0      Referral           2016-11-16      Closed with explanation   \n",
              "1           Web           2015-02-09      Closed with explanation   \n",
              "2           Web           2016-03-04  Closed with monetary relief   \n",
              "3           Web           2014-12-05      Closed with explanation   \n",
              "4      Referral           2013-03-08      Closed with explanation   \n",
              "\n",
              "   Time Difference  \n",
              "0         0.003846  \n",
              "1         0.000000  \n",
              "2         0.003846  \n",
              "3         0.005769  \n",
              "4         0.001923  "
            ]
          },
          "metadata": {
            "tags": []
          },
          "execution_count": 81
        }
      ]
    },
    {
      "metadata": {
        "id": "r4yvSJWwNscO",
        "colab_type": "code",
        "colab": {
          "base_uri": "https://localhost:8080/",
          "height": 153
        },
        "outputId": "09a5f7c6-dbf7-4203-ab21-1b5bf5bbac69"
      },
      "cell_type": "code",
      "source": [
        "data_req.dtypes"
      ],
      "execution_count": 82,
      "outputs": [
        {
          "output_type": "execute_result",
          "data": {
            "text/plain": [
              "Date received                   datetime64[ns]\n",
              "Issue                                   object\n",
              "City                                    object\n",
              "Submitted via                           object\n",
              "Date sent to company            datetime64[ns]\n",
              "Company response to consumer            object\n",
              "Time Difference                        float64\n",
              "dtype: object"
            ]
          },
          "metadata": {
            "tags": []
          },
          "execution_count": 82
        }
      ]
    },
    {
      "metadata": {
        "id": "TI9NIxErOT6I",
        "colab_type": "code",
        "colab": {}
      },
      "cell_type": "code",
      "source": [
        "data_req=data_req.drop(data_req.columns[[0, 4]], axis=1)"
      ],
      "execution_count": 0,
      "outputs": []
    },
    {
      "metadata": {
        "id": "T-8lBkHDOvnM",
        "colab_type": "code",
        "colab": {
          "base_uri": "https://localhost:8080/",
          "height": 187
        },
        "outputId": "e80bc46b-c62b-475b-ad6b-30c55c79516b"
      },
      "cell_type": "code",
      "source": [
        "data_req.info()"
      ],
      "execution_count": 84,
      "outputs": [
        {
          "output_type": "stream",
          "text": [
            "<class 'pandas.core.frame.DataFrame'>\n",
            "RangeIndex: 34081 entries, 0 to 34080\n",
            "Data columns (total 5 columns):\n",
            "Issue                           34081 non-null object\n",
            "City                            28423 non-null object\n",
            "Submitted via                   34081 non-null object\n",
            "Company response to consumer    34081 non-null object\n",
            "Time Difference                 34081 non-null float64\n",
            "dtypes: float64(1), object(4)\n",
            "memory usage: 1.3+ MB\n"
          ],
          "name": "stdout"
        }
      ]
    },
    {
      "metadata": {
        "id": "T-HIUdp9THnY",
        "colab_type": "code",
        "colab": {
          "base_uri": "https://localhost:8080/",
          "height": 289
        },
        "outputId": "0692762f-5048-4198-91b9-2044bacec6ce"
      },
      "cell_type": "code",
      "source": [
        "data_req['Issue'].value_counts(dropna=False)"
      ],
      "execution_count": 85,
      "outputs": [
        {
          "output_type": "execute_result",
          "data": {
            "text/plain": [
              "Loan modification,collection,foreclosure                                            17187\n",
              "Loan servicing, payments, escrow account                                             7955\n",
              "Application, originator, mortgage broker                                             2554\n",
              "Struggling to pay mortgage                                                           1651\n",
              "Trouble during payment process                                                       1406\n",
              "Settlement process and costs                                                         1081\n",
              "Credit decision / Underwriting                                                        858\n",
              "Other                                                                                 708\n",
              "Applying for a mortgage or refinancing an existing mortgage                           301\n",
              "Closing on a mortgage                                                                 225\n",
              "Incorrect information on your report                                                   75\n",
              "Applying for a mortgage                                                                53\n",
              "Problem with a credit reporting company's investigation into an existing problem       20\n",
              "Improper use of your report                                                             4\n",
              "Unable to get your credit report or credit score                                        3\n",
              "Name: Issue, dtype: int64"
            ]
          },
          "metadata": {
            "tags": []
          },
          "execution_count": 85
        }
      ]
    },
    {
      "metadata": {
        "id": "ihEUdbUnUvT_",
        "colab_type": "code",
        "colab": {
          "base_uri": "https://localhost:8080/",
          "height": 1071
        },
        "outputId": "e41841c6-2841-4518-99e7-08cb185a13d5"
      },
      "cell_type": "code",
      "source": [
        "data_req['City'].value_counts(dropna=False)"
      ],
      "execution_count": 86,
      "outputs": [
        {
          "output_type": "execute_result",
          "data": {
            "text/plain": [
              "NaN                 5658\n",
              "Miami                513\n",
              "Los Angeles          296\n",
              "Atlanta              266\n",
              "Brooklyn             231\n",
              "Chicago              227\n",
              "San Diego            194\n",
              "Philadelphia         190\n",
              "Fort Lauderdale      157\n",
              "Jacksonville         157\n",
              "Washington           156\n",
              "Las Vegas            154\n",
              "San Francisco        143\n",
              "Pompano Beach        143\n",
              "New York             137\n",
              "Charlotte            137\n",
              "Orlando              129\n",
              "San Jose             128\n",
              "Seattle              123\n",
              "Sacramento           122\n",
              "Minneapolis          122\n",
              "Houston              119\n",
              "Phoenix              112\n",
              "Portland             111\n",
              "West Palm Beach      105\n",
              "Hollywood            104\n",
              "Dallas               101\n",
              "Oakland               99\n",
              "Baltimore             98\n",
              "Corona                96\n",
              "                    ... \n",
              "Fort Belvoir           1\n",
              "Lakeview               1\n",
              "Pahoa                  1\n",
              "Atherton               1\n",
              "Metropolis             1\n",
              "Chilmark               1\n",
              "Bethalto               1\n",
              "South Portsmouth       1\n",
              "Cairnbrook             1\n",
              "Lake Bluff             1\n",
              "Kenansville            1\n",
              "Evanston               1\n",
              "Manorville             1\n",
              "Silverdale             1\n",
              "Emporia                1\n",
              "Wewoka                 1\n",
              "Waverly Hall           1\n",
              "Center Ossipee         1\n",
              "Port Chester           1\n",
              "Show Low               1\n",
              "Owasso                 1\n",
              "West Mifflin           1\n",
              "Bourbonnais            1\n",
              "Sierra Madre           1\n",
              "Elkland                1\n",
              "Lynn Haven             1\n",
              "Tipp City              1\n",
              "Victor                 1\n",
              "Pittsville             1\n",
              "Hillsdale              1\n",
              "Name: City, Length: 4521, dtype: int64"
            ]
          },
          "metadata": {
            "tags": []
          },
          "execution_count": 86
        }
      ]
    },
    {
      "metadata": {
        "id": "xytQcYEJq3pi",
        "colab_type": "code",
        "colab": {}
      },
      "cell_type": "code",
      "source": [
        ""
      ],
      "execution_count": 0,
      "outputs": []
    },
    {
      "metadata": {
        "id": "USZY_CTRU1-U",
        "colab_type": "code",
        "colab": {
          "base_uri": "https://localhost:8080/",
          "height": 136
        },
        "outputId": "ffcaa067-23fb-484a-b1a5-6e37d7c805e7"
      },
      "cell_type": "code",
      "source": [
        "data_req['Submitted via'].value_counts(dropna=False)"
      ],
      "execution_count": 87,
      "outputs": [
        {
          "output_type": "execute_result",
          "data": {
            "text/plain": [
              "Web            18303\n",
              "Referral       11262\n",
              "Phone           1927\n",
              "Postal mail     1842\n",
              "Fax              727\n",
              "Email             20\n",
              "Name: Submitted via, dtype: int64"
            ]
          },
          "metadata": {
            "tags": []
          },
          "execution_count": 87
        }
      ]
    },
    {
      "metadata": {
        "id": "0H3FpR3yVTiU",
        "colab_type": "code",
        "colab": {
          "base_uri": "https://localhost:8080/",
          "height": 170
        },
        "outputId": "39f93551-ec4b-497f-9128-1bc3691b3409"
      },
      "cell_type": "code",
      "source": [
        "data_req['Company response to consumer'].value_counts(dropna=False)"
      ],
      "execution_count": 88,
      "outputs": [
        {
          "output_type": "execute_result",
          "data": {
            "text/plain": [
              "Closed with explanation            29158\n",
              "Closed without relief               1960\n",
              "Closed with non-monetary relief     1622\n",
              "Closed with monetary relief         1055\n",
              "In progress                          161\n",
              "Closed                                64\n",
              "Closed with relief                    57\n",
              "Untimely response                      4\n",
              "Name: Company response to consumer, dtype: int64"
            ]
          },
          "metadata": {
            "tags": []
          },
          "execution_count": 88
        }
      ]
    },
    {
      "metadata": {
        "id": "VsgpYY56VbDl",
        "colab_type": "code",
        "colab": {
          "base_uri": "https://localhost:8080/",
          "height": 1071
        },
        "outputId": "557402f1-2a5c-4e11-939e-ab143e91141f"
      },
      "cell_type": "code",
      "source": [
        "data_req['Time Difference'].value_counts(dropna=False)"
      ],
      "execution_count": 89,
      "outputs": [
        {
          "output_type": "execute_result",
          "data": {
            "text/plain": [
              "0.000000    13869\n",
              "0.001923     6012\n",
              "0.003846     3376\n",
              "0.005769     2542\n",
              "0.007692     2347\n",
              "0.009615     2009\n",
              "0.011538     1293\n",
              "0.013462      832\n",
              "0.015385      286\n",
              "0.017308      142\n",
              "0.019231      142\n",
              "0.028846       95\n",
              "0.025000       91\n",
              "0.021154       85\n",
              "0.023077       85\n",
              "0.026923       68\n",
              "0.032692       63\n",
              "0.030769       43\n",
              "0.036538       38\n",
              "0.067308       36\n",
              "0.042308       34\n",
              "0.038462       32\n",
              "0.040385       32\n",
              "0.034615       30\n",
              "0.055769       24\n",
              "0.053846       24\n",
              "0.044231       23\n",
              "0.075000       22\n",
              "0.046154       22\n",
              "0.069231       22\n",
              "            ...  \n",
              "0.157692        1\n",
              "0.190385        1\n",
              "0.405769        1\n",
              "0.144231        1\n",
              "0.317308        1\n",
              "0.334615        1\n",
              "0.263462        1\n",
              "0.425000        1\n",
              "0.186538        1\n",
              "0.496154        1\n",
              "0.494231        1\n",
              "0.446154        1\n",
              "0.113462        1\n",
              "0.390385        1\n",
              "0.523077        1\n",
              "0.250000        1\n",
              "0.203846        1\n",
              "0.513462        1\n",
              "0.480769        1\n",
              "0.169231        1\n",
              "0.121154        1\n",
              "0.342308        1\n",
              "0.253846        1\n",
              "0.225000        1\n",
              "0.209615        1\n",
              "0.142308        1\n",
              "0.363462        1\n",
              "0.401923        1\n",
              "0.194231        1\n",
              "0.365385        1\n",
              "Name: Time Difference, Length: 148, dtype: int64"
            ]
          },
          "metadata": {
            "tags": []
          },
          "execution_count": 89
        }
      ]
    },
    {
      "metadata": {
        "id": "VVYWjSUuWK5W",
        "colab_type": "code",
        "colab": {}
      },
      "cell_type": "code",
      "source": [
        "data_req=data_req.dropna(how='any')  "
      ],
      "execution_count": 0,
      "outputs": []
    },
    {
      "metadata": {
        "id": "xzu-XLi5Y42B",
        "colab_type": "code",
        "colab": {
          "base_uri": "https://localhost:8080/",
          "height": 187
        },
        "outputId": "894c2c59-add4-46fe-9efc-b99c8b9ab523"
      },
      "cell_type": "code",
      "source": [
        "data_req.info()"
      ],
      "execution_count": 91,
      "outputs": [
        {
          "output_type": "stream",
          "text": [
            "<class 'pandas.core.frame.DataFrame'>\n",
            "Int64Index: 28423 entries, 0 to 34078\n",
            "Data columns (total 5 columns):\n",
            "Issue                           28423 non-null object\n",
            "City                            28423 non-null object\n",
            "Submitted via                   28423 non-null object\n",
            "Company response to consumer    28423 non-null object\n",
            "Time Difference                 28423 non-null float64\n",
            "dtypes: float64(1), object(4)\n",
            "memory usage: 1.3+ MB\n"
          ],
          "name": "stdout"
        }
      ]
    },
    {
      "metadata": {
        "id": "wmKey6UyY9qd",
        "colab_type": "code",
        "colab": {}
      },
      "cell_type": "code",
      "source": [
        "#data_req[:5]['Total Days'] / np.timedelta64(1, 's')"
      ],
      "execution_count": 0,
      "outputs": []
    },
    {
      "metadata": {
        "id": "hwOfmmY_ZnaR",
        "colab_type": "code",
        "colab": {
          "base_uri": "https://localhost:8080/",
          "height": 187
        },
        "outputId": "6332af19-f986-429c-8700-aaeabd7c4aac"
      },
      "cell_type": "code",
      "source": [
        "data_req.info()"
      ],
      "execution_count": 93,
      "outputs": [
        {
          "output_type": "stream",
          "text": [
            "<class 'pandas.core.frame.DataFrame'>\n",
            "Int64Index: 28423 entries, 0 to 34078\n",
            "Data columns (total 5 columns):\n",
            "Issue                           28423 non-null object\n",
            "City                            28423 non-null object\n",
            "Submitted via                   28423 non-null object\n",
            "Company response to consumer    28423 non-null object\n",
            "Time Difference                 28423 non-null float64\n",
            "dtypes: float64(1), object(4)\n",
            "memory usage: 1.3+ MB\n"
          ],
          "name": "stdout"
        }
      ]
    },
    {
      "metadata": {
        "id": "ZQu9UoRU_L_G",
        "colab_type": "code",
        "colab": {
          "base_uri": "https://localhost:8080/",
          "height": 187
        },
        "outputId": "7c8cf50d-a359-409f-8705-2e7294851784"
      },
      "cell_type": "code",
      "source": [
        "data_req.info()"
      ],
      "execution_count": 94,
      "outputs": [
        {
          "output_type": "stream",
          "text": [
            "<class 'pandas.core.frame.DataFrame'>\n",
            "Int64Index: 28423 entries, 0 to 34078\n",
            "Data columns (total 5 columns):\n",
            "Issue                           28423 non-null object\n",
            "City                            28423 non-null object\n",
            "Submitted via                   28423 non-null object\n",
            "Company response to consumer    28423 non-null object\n",
            "Time Difference                 28423 non-null float64\n",
            "dtypes: float64(1), object(4)\n",
            "memory usage: 1.3+ MB\n"
          ],
          "name": "stdout"
        }
      ]
    },
    {
      "metadata": {
        "id": "U1vZhBzten_d",
        "colab_type": "code",
        "colab": {
          "base_uri": "https://localhost:8080/",
          "height": 85
        },
        "outputId": "0d1f4efe-1561-4773-a3ae-b3ed66d1ce53"
      },
      "cell_type": "code",
      "source": [
        "!pip install kmodes"
      ],
      "execution_count": 95,
      "outputs": [
        {
          "output_type": "stream",
          "text": [
            "Requirement already satisfied: kmodes in /usr/local/lib/python3.6/dist-packages (0.9)\n",
            "Requirement already satisfied: numpy>=1.10.4 in /usr/local/lib/python3.6/dist-packages (from kmodes) (1.14.5)\n",
            "Requirement already satisfied: scipy>=0.13.3 in /usr/local/lib/python3.6/dist-packages (from kmodes) (0.19.1)\n",
            "Requirement already satisfied: scikit-learn<0.20.0,>=0.19.0 in /usr/local/lib/python3.6/dist-packages (from kmodes) (0.19.2)\n"
          ],
          "name": "stdout"
        }
      ]
    },
    {
      "metadata": {
        "id": "AZYgFcLVeoSV",
        "colab_type": "code",
        "colab": {}
      },
      "cell_type": "code",
      "source": [
        "from kmodes.kprototypes import KPrototypes\n"
      ],
      "execution_count": 0,
      "outputs": []
    },
    {
      "metadata": {
        "id": "pD1bpd8ejtbN",
        "colab_type": "code",
        "colab": {}
      },
      "cell_type": "code",
      "source": [
        "km = KPrototypes(n_clusters=5, init='Huang', n_init=3, verbose=1)"
      ],
      "execution_count": 0,
      "outputs": []
    },
    {
      "metadata": {
        "id": "qXH97qFGjtwE",
        "colab_type": "code",
        "colab": {
          "base_uri": "https://localhost:8080/",
          "height": 459
        },
        "outputId": "11b88cdd-42b1-4a47-b3a7-c52553e87f7f"
      },
      "cell_type": "code",
      "source": [
        "#clusters = km.fit_predict(data_req_new)\n",
        "clusters = km.fit_predict(data_req.as_matrix(), categorical=list(range(0,4)))"
      ],
      "execution_count": 98,
      "outputs": [
        {
          "output_type": "stream",
          "text": [
            "Init: initializing centroids\n",
            "Init: initializing clusters\n",
            "Starting iterations...\n",
            "Run: 1, iteration: 1/100, moves: 5522, ncost: 556.2452550097636\n",
            "Run: 1, iteration: 2/100, moves: 4481, ncost: 554.0190520232643\n",
            "Run: 1, iteration: 3/100, moves: 630, ncost: 551.0517253263217\n",
            "Run: 1, iteration: 4/100, moves: 530, ncost: 550.7104370629539\n",
            "Run: 1, iteration: 5/100, moves: 34, ncost: 550.7065663098599\n",
            "Run: 1, iteration: 6/100, moves: 1, ncost: 550.7059906346427\n",
            "Run: 1, iteration: 7/100, moves: 0, ncost: 550.7059906346427\n",
            "Init: initializing centroids\n",
            "Init: initializing clusters\n",
            "Starting iterations...\n",
            "Run: 2, iteration: 1/100, moves: 10997, ncost: 524.8686882015231\n",
            "Run: 2, iteration: 2/100, moves: 6947, ncost: 522.2694403136942\n",
            "Run: 2, iteration: 3/100, moves: 2016, ncost: 521.9746055089506\n",
            "Run: 2, iteration: 4/100, moves: 2392, ncost: 521.9533912834537\n",
            "Run: 2, iteration: 5/100, moves: 0, ncost: 521.9533912834537\n",
            "Init: initializing centroids\n",
            "Init: initializing clusters\n",
            "Starting iterations...\n",
            "Run: 3, iteration: 1/100, moves: 5247, ncost: 550.8402909223657\n",
            "Run: 3, iteration: 2/100, moves: 1773, ncost: 550.831521394373\n",
            "Run: 3, iteration: 3/100, moves: 85, ncost: 550.8312800657577\n",
            "Run: 3, iteration: 4/100, moves: 0, ncost: 550.8312800657577\n",
            "Best run was number 2\n"
          ],
          "name": "stdout"
        }
      ]
    },
    {
      "metadata": {
        "id": "ENqVdMQFjuMU",
        "colab_type": "code",
        "colab": {
          "base_uri": "https://localhost:8080/",
          "height": 255
        },
        "outputId": "0694c016-e5be-42ea-868b-1c80e8913193"
      },
      "cell_type": "code",
      "source": [
        "print(km.cluster_centroids_)"
      ],
      "execution_count": 99,
      "outputs": [
        {
          "output_type": "stream",
          "text": [
            "[array([[0.00830946],\n",
            "       [0.00545021],\n",
            "       [0.00404738],\n",
            "       [0.01596363],\n",
            "       [0.00186717]]), array([['Loan modification,collection,foreclosure', 'Miami', 'Referral',\n",
            "        'Closed with explanation'],\n",
            "       ['Loan modification,collection,foreclosure', 'Los Angeles', 'Web',\n",
            "        'Closed with explanation'],\n",
            "       ['Application, originator, mortgage broker', 'Atlanta', 'Web',\n",
            "        'Closed with explanation'],\n",
            "       ['Loan servicing, payments, escrow account', 'Chicago',\n",
            "        'Referral', 'Closed with explanation'],\n",
            "       ['Loan servicing, payments, escrow account', 'Miami', 'Web',\n",
            "        'Closed with explanation']], dtype='<U40')]\n"
          ],
          "name": "stdout"
        }
      ]
    },
    {
      "metadata": {
        "id": "xmUGtPPflvoK",
        "colab_type": "code",
        "colab": {}
      },
      "cell_type": "code",
      "source": [
        "clusters=clusters.reshape(28423,1)"
      ],
      "execution_count": 0,
      "outputs": []
    },
    {
      "metadata": {
        "id": "0dlikXo_lv8J",
        "colab_type": "code",
        "colab": {}
      },
      "cell_type": "code",
      "source": [
        "class_cluster = pd.DataFrame(clusters,columns=['Class cluster'])"
      ],
      "execution_count": 0,
      "outputs": []
    },
    {
      "metadata": {
        "id": "kJAWqwiHlwPB",
        "colab_type": "code",
        "colab": {
          "base_uri": "https://localhost:8080/",
          "height": 204
        },
        "outputId": "9cf7e5b9-1e82-41a4-a86f-961e75b7e978"
      },
      "cell_type": "code",
      "source": [
        "class_cluster.head()"
      ],
      "execution_count": 102,
      "outputs": [
        {
          "output_type": "execute_result",
          "data": {
            "text/html": [
              "<div>\n",
              "<style scoped>\n",
              "    .dataframe tbody tr th:only-of-type {\n",
              "        vertical-align: middle;\n",
              "    }\n",
              "\n",
              "    .dataframe tbody tr th {\n",
              "        vertical-align: top;\n",
              "    }\n",
              "\n",
              "    .dataframe thead th {\n",
              "        text-align: right;\n",
              "    }\n",
              "</style>\n",
              "<table border=\"1\" class=\"dataframe\">\n",
              "  <thead>\n",
              "    <tr style=\"text-align: right;\">\n",
              "      <th></th>\n",
              "      <th>Class cluster</th>\n",
              "    </tr>\n",
              "  </thead>\n",
              "  <tbody>\n",
              "    <tr>\n",
              "      <th>0</th>\n",
              "      <td>0</td>\n",
              "    </tr>\n",
              "    <tr>\n",
              "      <th>1</th>\n",
              "      <td>1</td>\n",
              "    </tr>\n",
              "    <tr>\n",
              "      <th>2</th>\n",
              "      <td>1</td>\n",
              "    </tr>\n",
              "    <tr>\n",
              "      <th>3</th>\n",
              "      <td>3</td>\n",
              "    </tr>\n",
              "    <tr>\n",
              "      <th>4</th>\n",
              "      <td>0</td>\n",
              "    </tr>\n",
              "  </tbody>\n",
              "</table>\n",
              "</div>"
            ],
            "text/plain": [
              "   Class cluster\n",
              "0              0\n",
              "1              1\n",
              "2              1\n",
              "3              3\n",
              "4              0"
            ]
          },
          "metadata": {
            "tags": []
          },
          "execution_count": 102
        }
      ]
    },
    {
      "metadata": {
        "id": "O4tZRJ5zlwgS",
        "colab_type": "code",
        "colab": {
          "base_uri": "https://localhost:8080/",
          "height": 204
        },
        "outputId": "2d3d0d92-76fc-4acb-90d5-1f02bab31e18"
      },
      "cell_type": "code",
      "source": [
        "#data_req_new.head()\n",
        "data_req.head()\n"
      ],
      "execution_count": 104,
      "outputs": [
        {
          "output_type": "execute_result",
          "data": {
            "text/html": [
              "<div>\n",
              "<style scoped>\n",
              "    .dataframe tbody tr th:only-of-type {\n",
              "        vertical-align: middle;\n",
              "    }\n",
              "\n",
              "    .dataframe tbody tr th {\n",
              "        vertical-align: top;\n",
              "    }\n",
              "\n",
              "    .dataframe thead th {\n",
              "        text-align: right;\n",
              "    }\n",
              "</style>\n",
              "<table border=\"1\" class=\"dataframe\">\n",
              "  <thead>\n",
              "    <tr style=\"text-align: right;\">\n",
              "      <th></th>\n",
              "      <th>Issue</th>\n",
              "      <th>City</th>\n",
              "      <th>Submitted via</th>\n",
              "      <th>Company response to consumer</th>\n",
              "      <th>Time Difference</th>\n",
              "    </tr>\n",
              "  </thead>\n",
              "  <tbody>\n",
              "    <tr>\n",
              "      <th>0</th>\n",
              "      <td>Loan modification,collection,foreclosure</td>\n",
              "      <td>Anchorage</td>\n",
              "      <td>Referral</td>\n",
              "      <td>Closed with explanation</td>\n",
              "      <td>0.003846</td>\n",
              "    </tr>\n",
              "    <tr>\n",
              "      <th>1</th>\n",
              "      <td>Loan modification,collection,foreclosure</td>\n",
              "      <td>Chugiak</td>\n",
              "      <td>Web</td>\n",
              "      <td>Closed with explanation</td>\n",
              "      <td>0.000000</td>\n",
              "    </tr>\n",
              "    <tr>\n",
              "      <th>3</th>\n",
              "      <td>Loan modification,collection,foreclosure</td>\n",
              "      <td>Anchorage</td>\n",
              "      <td>Web</td>\n",
              "      <td>Closed with explanation</td>\n",
              "      <td>0.005769</td>\n",
              "    </tr>\n",
              "    <tr>\n",
              "      <th>4</th>\n",
              "      <td>Loan servicing, payments, escrow account</td>\n",
              "      <td>Anchorage</td>\n",
              "      <td>Referral</td>\n",
              "      <td>Closed with explanation</td>\n",
              "      <td>0.001923</td>\n",
              "    </tr>\n",
              "    <tr>\n",
              "      <th>5</th>\n",
              "      <td>Loan modification,collection,foreclosure</td>\n",
              "      <td>Anchorage</td>\n",
              "      <td>Postal mail</td>\n",
              "      <td>Closed with explanation</td>\n",
              "      <td>0.007692</td>\n",
              "    </tr>\n",
              "  </tbody>\n",
              "</table>\n",
              "</div>"
            ],
            "text/plain": [
              "                                      Issue       City Submitted via  \\\n",
              "0  Loan modification,collection,foreclosure  Anchorage      Referral   \n",
              "1  Loan modification,collection,foreclosure    Chugiak           Web   \n",
              "3  Loan modification,collection,foreclosure  Anchorage           Web   \n",
              "4  Loan servicing, payments, escrow account  Anchorage      Referral   \n",
              "5  Loan modification,collection,foreclosure  Anchorage   Postal mail   \n",
              "\n",
              "  Company response to consumer  Time Difference  \n",
              "0      Closed with explanation         0.003846  \n",
              "1      Closed with explanation         0.000000  \n",
              "3      Closed with explanation         0.005769  \n",
              "4      Closed with explanation         0.001923  \n",
              "5      Closed with explanation         0.007692  "
            ]
          },
          "metadata": {
            "tags": []
          },
          "execution_count": 104
        }
      ]
    },
    {
      "metadata": {
        "id": "z1gFdwjSp9-h",
        "colab_type": "code",
        "colab": {
          "base_uri": "https://localhost:8080/",
          "height": 204
        },
        "outputId": "49c7460c-c979-40b3-89f2-62fd04014c40"
      },
      "cell_type": "code",
      "source": [
        "data_req.index = range(data_req.shape[0])\n",
        "data_req.head()"
      ],
      "execution_count": 105,
      "outputs": [
        {
          "output_type": "execute_result",
          "data": {
            "text/html": [
              "<div>\n",
              "<style scoped>\n",
              "    .dataframe tbody tr th:only-of-type {\n",
              "        vertical-align: middle;\n",
              "    }\n",
              "\n",
              "    .dataframe tbody tr th {\n",
              "        vertical-align: top;\n",
              "    }\n",
              "\n",
              "    .dataframe thead th {\n",
              "        text-align: right;\n",
              "    }\n",
              "</style>\n",
              "<table border=\"1\" class=\"dataframe\">\n",
              "  <thead>\n",
              "    <tr style=\"text-align: right;\">\n",
              "      <th></th>\n",
              "      <th>Issue</th>\n",
              "      <th>City</th>\n",
              "      <th>Submitted via</th>\n",
              "      <th>Company response to consumer</th>\n",
              "      <th>Time Difference</th>\n",
              "    </tr>\n",
              "  </thead>\n",
              "  <tbody>\n",
              "    <tr>\n",
              "      <th>0</th>\n",
              "      <td>Loan modification,collection,foreclosure</td>\n",
              "      <td>Anchorage</td>\n",
              "      <td>Referral</td>\n",
              "      <td>Closed with explanation</td>\n",
              "      <td>0.003846</td>\n",
              "    </tr>\n",
              "    <tr>\n",
              "      <th>1</th>\n",
              "      <td>Loan modification,collection,foreclosure</td>\n",
              "      <td>Chugiak</td>\n",
              "      <td>Web</td>\n",
              "      <td>Closed with explanation</td>\n",
              "      <td>0.000000</td>\n",
              "    </tr>\n",
              "    <tr>\n",
              "      <th>2</th>\n",
              "      <td>Loan modification,collection,foreclosure</td>\n",
              "      <td>Anchorage</td>\n",
              "      <td>Web</td>\n",
              "      <td>Closed with explanation</td>\n",
              "      <td>0.005769</td>\n",
              "    </tr>\n",
              "    <tr>\n",
              "      <th>3</th>\n",
              "      <td>Loan servicing, payments, escrow account</td>\n",
              "      <td>Anchorage</td>\n",
              "      <td>Referral</td>\n",
              "      <td>Closed with explanation</td>\n",
              "      <td>0.001923</td>\n",
              "    </tr>\n",
              "    <tr>\n",
              "      <th>4</th>\n",
              "      <td>Loan modification,collection,foreclosure</td>\n",
              "      <td>Anchorage</td>\n",
              "      <td>Postal mail</td>\n",
              "      <td>Closed with explanation</td>\n",
              "      <td>0.007692</td>\n",
              "    </tr>\n",
              "  </tbody>\n",
              "</table>\n",
              "</div>"
            ],
            "text/plain": [
              "                                      Issue       City Submitted via  \\\n",
              "0  Loan modification,collection,foreclosure  Anchorage      Referral   \n",
              "1  Loan modification,collection,foreclosure    Chugiak           Web   \n",
              "2  Loan modification,collection,foreclosure  Anchorage           Web   \n",
              "3  Loan servicing, payments, escrow account  Anchorage      Referral   \n",
              "4  Loan modification,collection,foreclosure  Anchorage   Postal mail   \n",
              "\n",
              "  Company response to consumer  Time Difference  \n",
              "0      Closed with explanation         0.003846  \n",
              "1      Closed with explanation         0.000000  \n",
              "2      Closed with explanation         0.005769  \n",
              "3      Closed with explanation         0.001923  \n",
              "4      Closed with explanation         0.007692  "
            ]
          },
          "metadata": {
            "tags": []
          },
          "execution_count": 105
        }
      ]
    },
    {
      "metadata": {
        "id": "jTSa6dd-czVc",
        "colab_type": "code",
        "colab": {}
      },
      "cell_type": "code",
      "source": [
        ""
      ],
      "execution_count": 0,
      "outputs": []
    },
    {
      "metadata": {
        "id": "mjOj7qIUlw15",
        "colab_type": "code",
        "colab": {}
      },
      "cell_type": "code",
      "source": [
        "#data_req_new = pd.concat([data_req_new,class_cluster],axis=1)\n",
        "data_req = pd.concat([data_req,class_cluster],axis=1)"
      ],
      "execution_count": 0,
      "outputs": []
    },
    {
      "metadata": {
        "id": "H54j4PJMlxHp",
        "colab_type": "code",
        "colab": {
          "base_uri": "https://localhost:8080/",
          "height": 204
        },
        "outputId": "04107504-d8e6-4254-ed45-7a565936203e"
      },
      "cell_type": "code",
      "source": [
        "#data_req_new.head()\n",
        "data_req.head()"
      ],
      "execution_count": 107,
      "outputs": [
        {
          "output_type": "execute_result",
          "data": {
            "text/html": [
              "<div>\n",
              "<style scoped>\n",
              "    .dataframe tbody tr th:only-of-type {\n",
              "        vertical-align: middle;\n",
              "    }\n",
              "\n",
              "    .dataframe tbody tr th {\n",
              "        vertical-align: top;\n",
              "    }\n",
              "\n",
              "    .dataframe thead th {\n",
              "        text-align: right;\n",
              "    }\n",
              "</style>\n",
              "<table border=\"1\" class=\"dataframe\">\n",
              "  <thead>\n",
              "    <tr style=\"text-align: right;\">\n",
              "      <th></th>\n",
              "      <th>Issue</th>\n",
              "      <th>City</th>\n",
              "      <th>Submitted via</th>\n",
              "      <th>Company response to consumer</th>\n",
              "      <th>Time Difference</th>\n",
              "      <th>Class cluster</th>\n",
              "    </tr>\n",
              "  </thead>\n",
              "  <tbody>\n",
              "    <tr>\n",
              "      <th>0</th>\n",
              "      <td>Loan modification,collection,foreclosure</td>\n",
              "      <td>Anchorage</td>\n",
              "      <td>Referral</td>\n",
              "      <td>Closed with explanation</td>\n",
              "      <td>0.003846</td>\n",
              "      <td>0</td>\n",
              "    </tr>\n",
              "    <tr>\n",
              "      <th>1</th>\n",
              "      <td>Loan modification,collection,foreclosure</td>\n",
              "      <td>Chugiak</td>\n",
              "      <td>Web</td>\n",
              "      <td>Closed with explanation</td>\n",
              "      <td>0.000000</td>\n",
              "      <td>1</td>\n",
              "    </tr>\n",
              "    <tr>\n",
              "      <th>2</th>\n",
              "      <td>Loan modification,collection,foreclosure</td>\n",
              "      <td>Anchorage</td>\n",
              "      <td>Web</td>\n",
              "      <td>Closed with explanation</td>\n",
              "      <td>0.005769</td>\n",
              "      <td>1</td>\n",
              "    </tr>\n",
              "    <tr>\n",
              "      <th>3</th>\n",
              "      <td>Loan servicing, payments, escrow account</td>\n",
              "      <td>Anchorage</td>\n",
              "      <td>Referral</td>\n",
              "      <td>Closed with explanation</td>\n",
              "      <td>0.001923</td>\n",
              "      <td>3</td>\n",
              "    </tr>\n",
              "    <tr>\n",
              "      <th>4</th>\n",
              "      <td>Loan modification,collection,foreclosure</td>\n",
              "      <td>Anchorage</td>\n",
              "      <td>Postal mail</td>\n",
              "      <td>Closed with explanation</td>\n",
              "      <td>0.007692</td>\n",
              "      <td>0</td>\n",
              "    </tr>\n",
              "  </tbody>\n",
              "</table>\n",
              "</div>"
            ],
            "text/plain": [
              "                                      Issue       City Submitted via  \\\n",
              "0  Loan modification,collection,foreclosure  Anchorage      Referral   \n",
              "1  Loan modification,collection,foreclosure    Chugiak           Web   \n",
              "2  Loan modification,collection,foreclosure  Anchorage           Web   \n",
              "3  Loan servicing, payments, escrow account  Anchorage      Referral   \n",
              "4  Loan modification,collection,foreclosure  Anchorage   Postal mail   \n",
              "\n",
              "  Company response to consumer  Time Difference  Class cluster  \n",
              "0      Closed with explanation         0.003846              0  \n",
              "1      Closed with explanation         0.000000              1  \n",
              "2      Closed with explanation         0.005769              1  \n",
              "3      Closed with explanation         0.001923              3  \n",
              "4      Closed with explanation         0.007692              0  "
            ]
          },
          "metadata": {
            "tags": []
          },
          "execution_count": 107
        }
      ]
    },
    {
      "metadata": {
        "id": "7EYfFen8wRys",
        "colab_type": "code",
        "colab": {}
      },
      "cell_type": "code",
      "source": [
        "# DF TO CSV\n",
        "path= r'drive/Complaints_Dataset/'\n",
        "data_req.to_csv(path+'clusteredComplaintsDataSet.csv', sep=',', encoding='utf-8')\n"
      ],
      "execution_count": 0,
      "outputs": []
    },
    {
      "metadata": {
        "id": "aQ8GK-ZgZxfX",
        "colab_type": "code",
        "colab": {}
      },
      "cell_type": "code",
      "source": [
        ""
      ],
      "execution_count": 0,
      "outputs": []
    },
    {
      "metadata": {
        "id": "nwUNrp1aaA6R",
        "colab_type": "code",
        "colab": {}
      },
      "cell_type": "code",
      "source": [
        ""
      ],
      "execution_count": 0,
      "outputs": []
    }
  ]
}