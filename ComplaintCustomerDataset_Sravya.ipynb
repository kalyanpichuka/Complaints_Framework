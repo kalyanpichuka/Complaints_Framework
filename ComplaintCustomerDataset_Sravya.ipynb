{
  "nbformat": 4,
  "nbformat_minor": 0,
  "metadata": {
    "colab": {
      "name": "Untitled4.ipynb",
      "version": "0.3.2",
      "provenance": [],
      "include_colab_link": true
    },
    "kernelspec": {
      "name": "python3",
      "display_name": "Python 3"
    }
  },
  "cells": [
    {
      "cell_type": "markdown",
      "metadata": {
        "id": "view-in-github",
        "colab_type": "text"
      },
      "source": [
        "[View in Colaboratory](https://colab.research.google.com/github/SravyaSpandana/Complaints_Framework/blob/master/ComplaintCustomerDataset_Sravya.ipynb)"
      ]
    },
    {
      "metadata": {
        "id": "yULFfcyj_O9Z",
        "colab_type": "code",
        "colab": {}
      },
      "cell_type": "code",
      "source": [
        "# IMPORTING NECESSARY PACKAGES\n",
        "import pandas as pd\n",
        "import numpy as np\n",
        "import matplotlib.pyplot as plt\n",
        "import os"
      ],
      "execution_count": 0,
      "outputs": []
    },
    {
      "metadata": {
        "id": "GB-2q_v6_U0F",
        "colab_type": "code",
        "colab": {}
      },
      "cell_type": "code",
      "source": [
        "!apt-get install -y -qq software-properties-common python-software-properties module-init-tools\n",
        "!add-apt-repository -y ppa:alessandro-strada/ppa 2>&1 > /dev/null\n",
        "!apt-get update -qq 2>&1 > /dev/null\n",
        "!apt-get -y install -qq google-drive-ocamlfuse fuse\n",
        "from google.colab import auth\n",
        "auth.authenticate_user()\n",
        "from oauth2client.client import GoogleCredentials\n",
        "creds = GoogleCredentials.get_application_default()\n",
        "import getpass\n",
        "!google-drive-ocamlfuse -headless -id={creds.client_id} -secret={creds.client_secret} < /dev/null 2>&1 | grep URL\n",
        "vcode = getpass.getpass()\n",
        "!echo {vcode} | google-drive-ocamlfuse -headless -id={creds.client_id} -secret={creds.client_secret}"
      ],
      "execution_count": 0,
      "outputs": []
    },
    {
      "metadata": {
        "id": "hrZemYupAGcP",
        "colab_type": "code",
        "colab": {}
      },
      "cell_type": "code",
      "source": [
        "!mkdir -p drive\n",
        "!google-drive-ocamlfuse drive"
      ],
      "execution_count": 0,
      "outputs": []
    },
    {
      "metadata": {
        "id": "aMfHHtbLAGzm",
        "colab_type": "code",
        "colab": {}
      },
      "cell_type": "code",
      "source": [
        "data = pd.read_csv(\"drive/Complaints_Dataset/Complaints_2018_09_01_Cities_CSV.csv\")"
      ],
      "execution_count": 0,
      "outputs": []
    },
    {
      "metadata": {
        "id": "AvQvk-aPAHEv",
        "colab_type": "code",
        "colab": {
          "base_uri": "https://localhost:8080/",
          "height": 484
        },
        "outputId": "529ff916-9f8e-44ab-f4e0-22ea8784cc1b"
      },
      "cell_type": "code",
      "source": [
        "data = data[data.Company == 'WELLS FARGO & COMPANY']\n",
        "data.head()\n",
        "data.index = range(data.shape[0])\n",
        "data.head()\n"
      ],
      "execution_count": 4,
      "outputs": [
        {
          "output_type": "execute_result",
          "data": {
            "text/html": [
              "<div>\n",
              "<style scoped>\n",
              "    .dataframe tbody tr th:only-of-type {\n",
              "        vertical-align: middle;\n",
              "    }\n",
              "\n",
              "    .dataframe tbody tr th {\n",
              "        vertical-align: top;\n",
              "    }\n",
              "\n",
              "    .dataframe thead th {\n",
              "        text-align: right;\n",
              "    }\n",
              "</style>\n",
              "<table border=\"1\" class=\"dataframe\">\n",
              "  <thead>\n",
              "    <tr style=\"text-align: right;\">\n",
              "      <th></th>\n",
              "      <th>Date received</th>\n",
              "      <th>Product</th>\n",
              "      <th>Sub-product</th>\n",
              "      <th>Issue</th>\n",
              "      <th>Sub-issue</th>\n",
              "      <th>Consumer complaint narrative</th>\n",
              "      <th>Company public response</th>\n",
              "      <th>Company</th>\n",
              "      <th>State</th>\n",
              "      <th>ZIP code</th>\n",
              "      <th>Tags</th>\n",
              "      <th>Consumer consent provided?</th>\n",
              "      <th>Submitted via</th>\n",
              "      <th>Date sent to company</th>\n",
              "      <th>Company response to consumer</th>\n",
              "      <th>Timely response?</th>\n",
              "      <th>Consumer disputed?</th>\n",
              "      <th>Complaint ID</th>\n",
              "      <th>City</th>\n",
              "    </tr>\n",
              "  </thead>\n",
              "  <tbody>\n",
              "    <tr>\n",
              "      <th>0</th>\n",
              "      <td>02/23/13</td>\n",
              "      <td>Mortgage</td>\n",
              "      <td>Conventional fixed mortgage</td>\n",
              "      <td>Loan modification,collection,foreclosure</td>\n",
              "      <td>NaN</td>\n",
              "      <td>NaN</td>\n",
              "      <td>NaN</td>\n",
              "      <td>WELLS FARGO &amp; COMPANY</td>\n",
              "      <td>NY</td>\n",
              "      <td>11208</td>\n",
              "      <td>NaN</td>\n",
              "      <td>NaN</td>\n",
              "      <td>Web</td>\n",
              "      <td>02/25/13</td>\n",
              "      <td>Closed with explanation</td>\n",
              "      <td>Yes</td>\n",
              "      <td>No</td>\n",
              "      <td>327961</td>\n",
              "      <td>Brooklyn</td>\n",
              "    </tr>\n",
              "    <tr>\n",
              "      <th>1</th>\n",
              "      <td>05-03-13</td>\n",
              "      <td>Mortgage</td>\n",
              "      <td>Other mortgage</td>\n",
              "      <td>Loan modification,collection,foreclosure</td>\n",
              "      <td>NaN</td>\n",
              "      <td>NaN</td>\n",
              "      <td>NaN</td>\n",
              "      <td>WELLS FARGO &amp; COMPANY</td>\n",
              "      <td>FL</td>\n",
              "      <td>33172</td>\n",
              "      <td>NaN</td>\n",
              "      <td>NaN</td>\n",
              "      <td>Referral</td>\n",
              "      <td>05-06-13</td>\n",
              "      <td>Closed with explanation</td>\n",
              "      <td>Yes</td>\n",
              "      <td>Yes</td>\n",
              "      <td>398576</td>\n",
              "      <td>Miami</td>\n",
              "    </tr>\n",
              "    <tr>\n",
              "      <th>2</th>\n",
              "      <td>05/21/14</td>\n",
              "      <td>Mortgage</td>\n",
              "      <td>Conventional fixed mortgage</td>\n",
              "      <td>Loan modification,collection,foreclosure</td>\n",
              "      <td>NaN</td>\n",
              "      <td>NaN</td>\n",
              "      <td>NaN</td>\n",
              "      <td>WELLS FARGO &amp; COMPANY</td>\n",
              "      <td>FL</td>\n",
              "      <td>33186</td>\n",
              "      <td>NaN</td>\n",
              "      <td>NaN</td>\n",
              "      <td>Web</td>\n",
              "      <td>05/21/14</td>\n",
              "      <td>Closed with explanation</td>\n",
              "      <td>Yes</td>\n",
              "      <td>No</td>\n",
              "      <td>862130</td>\n",
              "      <td>Miami</td>\n",
              "    </tr>\n",
              "    <tr>\n",
              "      <th>3</th>\n",
              "      <td>08/22/16</td>\n",
              "      <td>Mortgage</td>\n",
              "      <td>Other mortgage</td>\n",
              "      <td>Loan modification,collection,foreclosure</td>\n",
              "      <td>NaN</td>\n",
              "      <td>NaN</td>\n",
              "      <td>Company has responded to the consumer and the ...</td>\n",
              "      <td>WELLS FARGO &amp; COMPANY</td>\n",
              "      <td>FL</td>\n",
              "      <td>33126</td>\n",
              "      <td>NaN</td>\n",
              "      <td>NaN</td>\n",
              "      <td>Referral</td>\n",
              "      <td>08/24/16</td>\n",
              "      <td>Closed with explanation</td>\n",
              "      <td>Yes</td>\n",
              "      <td>No</td>\n",
              "      <td>2075078</td>\n",
              "      <td>Miami</td>\n",
              "    </tr>\n",
              "    <tr>\n",
              "      <th>4</th>\n",
              "      <td>09/17/13</td>\n",
              "      <td>Mortgage</td>\n",
              "      <td>Other mortgage</td>\n",
              "      <td>Loan modification,collection,foreclosure</td>\n",
              "      <td>NaN</td>\n",
              "      <td>NaN</td>\n",
              "      <td>NaN</td>\n",
              "      <td>WELLS FARGO &amp; COMPANY</td>\n",
              "      <td>IL</td>\n",
              "      <td>60610</td>\n",
              "      <td>NaN</td>\n",
              "      <td>NaN</td>\n",
              "      <td>Postal mail</td>\n",
              "      <td>09/17/13</td>\n",
              "      <td>Closed with explanation</td>\n",
              "      <td>Yes</td>\n",
              "      <td>No</td>\n",
              "      <td>530168</td>\n",
              "      <td>Chicago</td>\n",
              "    </tr>\n",
              "  </tbody>\n",
              "</table>\n",
              "</div>"
            ],
            "text/plain": [
              "  Date received   Product                  Sub-product  \\\n",
              "0      02/23/13  Mortgage  Conventional fixed mortgage   \n",
              "1      05-03-13  Mortgage               Other mortgage   \n",
              "2      05/21/14  Mortgage  Conventional fixed mortgage   \n",
              "3      08/22/16  Mortgage               Other mortgage   \n",
              "4      09/17/13  Mortgage               Other mortgage   \n",
              "\n",
              "                                      Issue  Sub-issue  \\\n",
              "0  Loan modification,collection,foreclosure        NaN   \n",
              "1  Loan modification,collection,foreclosure        NaN   \n",
              "2  Loan modification,collection,foreclosure        NaN   \n",
              "3  Loan modification,collection,foreclosure        NaN   \n",
              "4  Loan modification,collection,foreclosure        NaN   \n",
              "\n",
              "   Consumer complaint narrative  \\\n",
              "0                           NaN   \n",
              "1                           NaN   \n",
              "2                           NaN   \n",
              "3                           NaN   \n",
              "4                           NaN   \n",
              "\n",
              "                             Company public response                Company  \\\n",
              "0                                                NaN  WELLS FARGO & COMPANY   \n",
              "1                                                NaN  WELLS FARGO & COMPANY   \n",
              "2                                                NaN  WELLS FARGO & COMPANY   \n",
              "3  Company has responded to the consumer and the ...  WELLS FARGO & COMPANY   \n",
              "4                                                NaN  WELLS FARGO & COMPANY   \n",
              "\n",
              "  State  ZIP code Tags Consumer consent provided? Submitted via  \\\n",
              "0    NY     11208  NaN                        NaN           Web   \n",
              "1    FL     33172  NaN                        NaN      Referral   \n",
              "2    FL     33186  NaN                        NaN           Web   \n",
              "3    FL     33126  NaN                        NaN      Referral   \n",
              "4    IL     60610  NaN                        NaN   Postal mail   \n",
              "\n",
              "  Date sent to company Company response to consumer Timely response?  \\\n",
              "0             02/25/13      Closed with explanation              Yes   \n",
              "1             05-06-13      Closed with explanation              Yes   \n",
              "2             05/21/14      Closed with explanation              Yes   \n",
              "3             08/24/16      Closed with explanation              Yes   \n",
              "4             09/17/13      Closed with explanation              Yes   \n",
              "\n",
              "  Consumer disputed?  Complaint ID      City  \n",
              "0                 No        327961  Brooklyn  \n",
              "1                Yes        398576     Miami  \n",
              "2                 No        862130     Miami  \n",
              "3                 No       2075078     Miami  \n",
              "4                 No        530168   Chicago  "
            ]
          },
          "metadata": {
            "tags": []
          },
          "execution_count": 4
        }
      ]
    },
    {
      "metadata": {
        "id": "YbglUnh5AHU_",
        "colab_type": "code",
        "colab": {
          "base_uri": "https://localhost:8080/",
          "height": 247
        },
        "outputId": "05cf5bc6-1be4-4f6a-af38-e17c753c40eb"
      },
      "cell_type": "code",
      "source": [
        "req_cols = ['Date received','Issue','City','Submitted via', 'Date sent to company','Company response to consumer']\n",
        "data.columns\n",
        "data_req = data[req_cols]\n",
        "data_req['Issue'].value_counts(dropna=False)"
      ],
      "execution_count": 5,
      "outputs": [
        {
          "output_type": "execute_result",
          "data": {
            "text/plain": [
              "Loan modification,collection,foreclosure                       902\n",
              "Loan servicing, payments, escrow account                       284\n",
              "Application, originator, mortgage broker                        97\n",
              "Other                                                           72\n",
              "Struggling to pay mortgage                                      56\n",
              "Credit decision / Underwriting                                  38\n",
              "Trouble during payment process                                  37\n",
              "Settlement process and costs                                    35\n",
              "Applying for a mortgage or refinancing an existing mortgage      4\n",
              "Closing on a mortgage                                            4\n",
              "Applying for a mortgage                                          3\n",
              "Unable to get your credit report or credit score                 1\n",
              "Name: Issue, dtype: int64"
            ]
          },
          "metadata": {
            "tags": []
          },
          "execution_count": 5
        }
      ]
    },
    {
      "metadata": {
        "id": "HzfsQI5LAHmm",
        "colab_type": "code",
        "colab": {
          "base_uri": "https://localhost:8080/",
          "height": 123
        },
        "outputId": "8546ef95-7ec8-4797-a6ec-f3d3e0202738"
      },
      "cell_type": "code",
      "source": [
        "data_req['City'].value_counts(dropna=False)"
      ],
      "execution_count": 6,
      "outputs": [
        {
          "output_type": "execute_result",
          "data": {
            "text/plain": [
              "Miami          513\n",
              "Los Angeles    296\n",
              "Atlanta        266\n",
              "Brooklyn       231\n",
              "Chicago        227\n",
              "Name: City, dtype: int64"
            ]
          },
          "metadata": {
            "tags": []
          },
          "execution_count": 6
        }
      ]
    },
    {
      "metadata": {
        "id": "HCWCjlflAH22",
        "colab_type": "code",
        "colab": {
          "base_uri": "https://localhost:8080/",
          "height": 158
        },
        "outputId": "bf790faf-6da7-4238-a0e4-28f73f32e510"
      },
      "cell_type": "code",
      "source": [
        "data_req['Submitted via'].value_counts(dropna=False)\n",
        "data_req['Company response to consumer'].value_counts(dropna=False)"
      ],
      "execution_count": 7,
      "outputs": [
        {
          "output_type": "execute_result",
          "data": {
            "text/plain": [
              "Closed with explanation            1368\n",
              "Closed with non-monetary relief      67\n",
              "Closed without relief                56\n",
              "Closed with monetary relief          26\n",
              "Closed                               12\n",
              "In progress                           3\n",
              "Untimely response                     1\n",
              "Name: Company response to consumer, dtype: int64"
            ]
          },
          "metadata": {
            "tags": []
          },
          "execution_count": 7
        }
      ]
    },
    {
      "metadata": {
        "id": "L0-ByfoaAIF2",
        "colab_type": "code",
        "colab": {
          "base_uri": "https://localhost:8080/",
          "height": 1118
        },
        "outputId": "5a2035cd-975e-4295-9e10-a4a5becb0d4a"
      },
      "cell_type": "code",
      "source": [
        "data_req['Date received'].value_counts(dropna=False)"
      ],
      "execution_count": 8,
      "outputs": [
        {
          "output_type": "execute_result",
          "data": {
            "text/plain": [
              "01/14/16    8\n",
              "06/26/14    7\n",
              "01/15/13    6\n",
              "09-05-13    6\n",
              "01/17/13    5\n",
              "04/16/14    5\n",
              "01-09-13    5\n",
              "02-01-16    5\n",
              "01/24/13    5\n",
              "03-09-16    5\n",
              "05/21/14    5\n",
              "04/22/13    5\n",
              "08/28/14    5\n",
              "05-03-13    5\n",
              "02/14/13    5\n",
              "07/19/13    5\n",
              "02/19/14    4\n",
              "02/27/15    4\n",
              "12/17/13    4\n",
              "07-09-15    4\n",
              "07/22/13    4\n",
              "01/29/13    4\n",
              "11-08-12    4\n",
              "09-10-14    4\n",
              "05/22/17    4\n",
              "01-08-13    4\n",
              "03/29/13    4\n",
              "04/15/13    4\n",
              "02/25/15    4\n",
              "07/27/16    4\n",
              "           ..\n",
              "05/14/12    1\n",
              "02-12-18    1\n",
              "06-05-13    1\n",
              "12-06-16    1\n",
              "09-09-14    1\n",
              "08-05-13    1\n",
              "08/21/15    1\n",
              "09/22/15    1\n",
              "03-12-18    1\n",
              "05/20/14    1\n",
              "06-01-16    1\n",
              "04-07-15    1\n",
              "01/13/12    1\n",
              "03-09-13    1\n",
              "02/24/16    1\n",
              "07-10-13    1\n",
              "12-02-13    1\n",
              "09-12-17    1\n",
              "03/18/15    1\n",
              "06-02-15    1\n",
              "11/17/16    1\n",
              "10/26/16    1\n",
              "09-07-17    1\n",
              "03-03-16    1\n",
              "07/23/13    1\n",
              "03/24/14    1\n",
              "11/17/17    1\n",
              "08/29/12    1\n",
              "08/20/13    1\n",
              "05/26/13    1\n",
              "Name: Date received, Length: 972, dtype: int64"
            ]
          },
          "metadata": {
            "tags": []
          },
          "execution_count": 8
        }
      ]
    },
    {
      "metadata": {
        "id": "UqSW75gRAIVG",
        "colab_type": "code",
        "colab": {
          "base_uri": "https://localhost:8080/",
          "height": 1118
        },
        "outputId": "54a38023-4ae2-4d4a-9b2e-d69b8d086de6"
      },
      "cell_type": "code",
      "source": [
        "data_req['Date sent to company'].value_counts(dropna=False)"
      ],
      "execution_count": 9,
      "outputs": [
        {
          "output_type": "execute_result",
          "data": {
            "text/plain": [
              "07-01-14    7\n",
              "05-06-13    6\n",
              "01-11-13    6\n",
              "04/23/13    6\n",
              "07/24/12    6\n",
              "09-06-13    6\n",
              "02-07-14    5\n",
              "10/15/13    5\n",
              "07/23/13    5\n",
              "11/27/13    5\n",
              "09/22/14    5\n",
              "03/22/13    5\n",
              "01/15/16    5\n",
              "02/25/15    5\n",
              "05/22/17    5\n",
              "01/25/13    5\n",
              "11/25/15    4\n",
              "07/16/13    4\n",
              "12/13/12    4\n",
              "07-11-12    4\n",
              "02/13/13    4\n",
              "12/21/12    4\n",
              "10/23/14    4\n",
              "02/20/15    4\n",
              "01/29/13    4\n",
              "12/15/14    4\n",
              "05/19/16    4\n",
              "07/22/13    4\n",
              "03-10-14    4\n",
              "01-08-14    4\n",
              "           ..\n",
              "04/30/14    1\n",
              "12-07-15    1\n",
              "01/30/14    1\n",
              "09/14/16    1\n",
              "05-08-18    1\n",
              "02-10-14    1\n",
              "04-10-14    1\n",
              "12-12-13    1\n",
              "02/14/14    1\n",
              "11/22/16    1\n",
              "01/22/15    1\n",
              "11/18/16    1\n",
              "02/19/14    1\n",
              "07-11-13    1\n",
              "06/22/16    1\n",
              "09-12-16    1\n",
              "05/22/12    1\n",
              "05/13/16    1\n",
              "12/16/15    1\n",
              "05/17/13    1\n",
              "12-11-17    1\n",
              "01/17/14    1\n",
              "08/16/14    1\n",
              "02/14/12    1\n",
              "06-06-13    1\n",
              "11/20/12    1\n",
              "08/17/17    1\n",
              "06/20/17    1\n",
              "10/16/12    1\n",
              "05/14/12    1\n",
              "Name: Date sent to company, Length: 941, dtype: int64"
            ]
          },
          "metadata": {
            "tags": []
          },
          "execution_count": 9
        }
      ]
    },
    {
      "metadata": {
        "id": "pYlujcGYBZRW",
        "colab_type": "code",
        "colab": {
          "base_uri": "https://localhost:8080/",
          "height": 34
        },
        "outputId": "ab07c7f7-541d-494e-9c71-414a91877384"
      },
      "cell_type": "code",
      "source": [
        "data_req.size"
      ],
      "execution_count": 11,
      "outputs": [
        {
          "output_type": "execute_result",
          "data": {
            "text/plain": [
              "9198"
            ]
          },
          "metadata": {
            "tags": []
          },
          "execution_count": 11
        }
      ]
    },
    {
      "metadata": {
        "id": "ttNianNSAIk-",
        "colab_type": "code",
        "colab": {
          "base_uri": "https://localhost:8080/",
          "height": 197
        },
        "outputId": "264f13e7-8107-4c68-a1ad-14fca8f3a25b"
      },
      "cell_type": "code",
      "source": [
        "data_req=data_req.dropna(how='any')  \n",
        "data_req.head()"
      ],
      "execution_count": 12,
      "outputs": [
        {
          "output_type": "execute_result",
          "data": {
            "text/html": [
              "<div>\n",
              "<style scoped>\n",
              "    .dataframe tbody tr th:only-of-type {\n",
              "        vertical-align: middle;\n",
              "    }\n",
              "\n",
              "    .dataframe tbody tr th {\n",
              "        vertical-align: top;\n",
              "    }\n",
              "\n",
              "    .dataframe thead th {\n",
              "        text-align: right;\n",
              "    }\n",
              "</style>\n",
              "<table border=\"1\" class=\"dataframe\">\n",
              "  <thead>\n",
              "    <tr style=\"text-align: right;\">\n",
              "      <th></th>\n",
              "      <th>Date received</th>\n",
              "      <th>Issue</th>\n",
              "      <th>City</th>\n",
              "      <th>Submitted via</th>\n",
              "      <th>Date sent to company</th>\n",
              "      <th>Company response to consumer</th>\n",
              "    </tr>\n",
              "  </thead>\n",
              "  <tbody>\n",
              "    <tr>\n",
              "      <th>0</th>\n",
              "      <td>02/23/13</td>\n",
              "      <td>Loan modification,collection,foreclosure</td>\n",
              "      <td>Brooklyn</td>\n",
              "      <td>Web</td>\n",
              "      <td>02/25/13</td>\n",
              "      <td>Closed with explanation</td>\n",
              "    </tr>\n",
              "    <tr>\n",
              "      <th>1</th>\n",
              "      <td>05-03-13</td>\n",
              "      <td>Loan modification,collection,foreclosure</td>\n",
              "      <td>Miami</td>\n",
              "      <td>Referral</td>\n",
              "      <td>05-06-13</td>\n",
              "      <td>Closed with explanation</td>\n",
              "    </tr>\n",
              "    <tr>\n",
              "      <th>2</th>\n",
              "      <td>05/21/14</td>\n",
              "      <td>Loan modification,collection,foreclosure</td>\n",
              "      <td>Miami</td>\n",
              "      <td>Web</td>\n",
              "      <td>05/21/14</td>\n",
              "      <td>Closed with explanation</td>\n",
              "    </tr>\n",
              "    <tr>\n",
              "      <th>3</th>\n",
              "      <td>08/22/16</td>\n",
              "      <td>Loan modification,collection,foreclosure</td>\n",
              "      <td>Miami</td>\n",
              "      <td>Referral</td>\n",
              "      <td>08/24/16</td>\n",
              "      <td>Closed with explanation</td>\n",
              "    </tr>\n",
              "    <tr>\n",
              "      <th>4</th>\n",
              "      <td>09/17/13</td>\n",
              "      <td>Loan modification,collection,foreclosure</td>\n",
              "      <td>Chicago</td>\n",
              "      <td>Postal mail</td>\n",
              "      <td>09/17/13</td>\n",
              "      <td>Closed with explanation</td>\n",
              "    </tr>\n",
              "  </tbody>\n",
              "</table>\n",
              "</div>"
            ],
            "text/plain": [
              "  Date received                                     Issue      City  \\\n",
              "0      02/23/13  Loan modification,collection,foreclosure  Brooklyn   \n",
              "1      05-03-13  Loan modification,collection,foreclosure     Miami   \n",
              "2      05/21/14  Loan modification,collection,foreclosure     Miami   \n",
              "3      08/22/16  Loan modification,collection,foreclosure     Miami   \n",
              "4      09/17/13  Loan modification,collection,foreclosure   Chicago   \n",
              "\n",
              "  Submitted via Date sent to company Company response to consumer  \n",
              "0           Web             02/25/13      Closed with explanation  \n",
              "1      Referral             05-06-13      Closed with explanation  \n",
              "2           Web             05/21/14      Closed with explanation  \n",
              "3      Referral             08/24/16      Closed with explanation  \n",
              "4   Postal mail             09/17/13      Closed with explanation  "
            ]
          },
          "metadata": {
            "tags": []
          },
          "execution_count": 12
        }
      ]
    },
    {
      "metadata": {
        "id": "QEh8vVfwBeQO",
        "colab_type": "code",
        "colab": {
          "base_uri": "https://localhost:8080/",
          "height": 34
        },
        "outputId": "b3e40acb-e928-4441-d954-db3b242c32cc"
      },
      "cell_type": "code",
      "source": [
        "data_req_new = data_req.copy()\n",
        "len(data_req_new)\n"
      ],
      "execution_count": 13,
      "outputs": [
        {
          "output_type": "execute_result",
          "data": {
            "text/plain": [
              "1533"
            ]
          },
          "metadata": {
            "tags": []
          },
          "execution_count": 13
        }
      ]
    },
    {
      "metadata": {
        "id": "H-Kt0WteBe92",
        "colab_type": "code",
        "colab": {}
      },
      "cell_type": "code",
      "source": [
        "data_req_new['CustID'] = \"\"\n"
      ],
      "execution_count": 0,
      "outputs": []
    },
    {
      "metadata": {
        "id": "ULz83cRog_7x",
        "colab_type": "code",
        "colab": {}
      },
      "cell_type": "code",
      "source": [
        "Customer_grouping=0\n",
        "CustomerID_Initializer=1\n",
        "Total_Customers=len(data_req_new)\n",
        "Random_incrementer = 100\n",
        "while Customer_grouping < Total_Customers:\n",
        "  Customer_complaint = Customer_grouping\n",
        "  CustomerID = 'Customer_ID_' + str(CustomerID_Initializer)\n",
        "  for index in range(Customer_complaint, Customer_complaint+Random_incrementer):\n",
        "    if index > Total_Customers:\n",
        "      break\n",
        "    data_req_new.at[index,'CustID'] = CustomerID\n",
        "  \n",
        "  Customer_grouping = index+1\n",
        "  CustomerID_Initializer = CustomerID_Initializer + 1"
      ],
      "execution_count": 0,
      "outputs": []
    },
    {
      "metadata": {
        "id": "5gK_70yVNw0v",
        "colab_type": "code",
        "colab": {}
      },
      "cell_type": "code",
      "source": [
        "path= r'drive/Complaints_Dataset/'\n",
        "data_req_new.to_csv(path+'ComplaintsCustomerDataSet_FinalCustomerID.csv', sep=',', encoding='utf-8')"
      ],
      "execution_count": 0,
      "outputs": []
    }
  ]
}