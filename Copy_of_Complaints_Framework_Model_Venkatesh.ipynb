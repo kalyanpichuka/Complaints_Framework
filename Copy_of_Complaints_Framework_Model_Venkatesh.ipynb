{
  "nbformat": 4,
  "nbformat_minor": 0,
  "metadata": {
    "colab": {
      "name": "Copy of Complaints_Framework_Model_Venkatesh.ipynb",
      "version": "0.3.2",
      "provenance": [],
      "collapsed_sections": [],
      "include_colab_link": true
    },
    "kernelspec": {
      "name": "python3",
      "display_name": "Python 3"
    },
    "accelerator": "GPU"
  },
  "cells": [
    {
      "cell_type": "markdown",
      "metadata": {
        "id": "view-in-github",
        "colab_type": "text"
      },
      "source": [
        "[View in Colaboratory](https://colab.research.google.com/github/venkatakula9652/Complaints_Framework/blob/master/Copy_of_Complaints_Framework_Model_Venkatesh.ipynb)"
      ]
    },
    {
      "metadata": {
        "id": "hcuJP6MmtPxQ",
        "colab_type": "code",
        "colab": {}
      },
      "cell_type": "code",
      "source": [
        "# IMPORTING NECESSARY PACKAGES\n",
        "import pandas as pd\n",
        "import numpy as np\n",
        "import matplotlib.pyplot as plt\n",
        "import os"
      ],
      "execution_count": 0,
      "outputs": []
    },
    {
      "metadata": {
        "id": "UAgaIOov2xLd",
        "colab_type": "code",
        "colab": {}
      },
      "cell_type": "code",
      "source": [
        "!apt-get install -y -qq software-properties-common python-software-properties module-init-tools\n",
        "!add-apt-repository -y ppa:alessandro-strada/ppa 2>&1 > /dev/null\n",
        "!apt-get update -qq 2>&1 > /dev/null\n",
        "!apt-get -y install -qq google-drive-ocamlfuse fuse\n",
        "from google.colab import auth\n",
        "auth.authenticate_user()\n",
        "from oauth2client.client import GoogleCredentials\n",
        "creds = GoogleCredentials.get_application_default()\n",
        "import getpass\n",
        "!google-drive-ocamlfuse -headless -id={creds.client_id} -secret={creds.client_secret} < /dev/null 2>&1 | grep URL\n",
        "vcode = getpass.getpass()\n",
        "!echo {vcode} | google-drive-ocamlfuse -headless -id={creds.client_id} -secret={creds.client_secret}"
      ],
      "execution_count": 0,
      "outputs": []
    },
    {
      "metadata": {
        "id": "MWrH7zuh5fEv",
        "colab_type": "code",
        "colab": {}
      },
      "cell_type": "code",
      "source": [
        "!mkdir -p drive\n",
        "!google-drive-ocamlfuse drive"
      ],
      "execution_count": 0,
      "outputs": []
    },
    {
      "metadata": {
        "id": "BUN9evG359S4",
        "colab_type": "code",
        "colab": {}
      },
      "cell_type": "code",
      "source": [
        "data = pd.read_csv(\"drive/Complaints_Dataset/complaints-2018-07-20_02_20.csv\")"
      ],
      "execution_count": 0,
      "outputs": []
    },
    {
      "metadata": {
        "id": "lDW6HKRO6BfM",
        "colab_type": "code",
        "colab": {
          "base_uri": "https://localhost:8080/",
          "height": 530
        },
        "outputId": "d0f823a3-2de9-4965-bb99-9a0a3c25c84e"
      },
      "cell_type": "code",
      "source": [
        "data.head()"
      ],
      "execution_count": 5,
      "outputs": [
        {
          "output_type": "execute_result",
          "data": {
            "text/html": [
              "<div>\n",
              "<style scoped>\n",
              "    .dataframe tbody tr th:only-of-type {\n",
              "        vertical-align: middle;\n",
              "    }\n",
              "\n",
              "    .dataframe tbody tr th {\n",
              "        vertical-align: top;\n",
              "    }\n",
              "\n",
              "    .dataframe thead th {\n",
              "        text-align: right;\n",
              "    }\n",
              "</style>\n",
              "<table border=\"1\" class=\"dataframe\">\n",
              "  <thead>\n",
              "    <tr style=\"text-align: right;\">\n",
              "      <th></th>\n",
              "      <th>Date received</th>\n",
              "      <th>Product</th>\n",
              "      <th>Sub-product</th>\n",
              "      <th>Issue</th>\n",
              "      <th>Sub-issue</th>\n",
              "      <th>Consumer complaint narrative</th>\n",
              "      <th>Company public response</th>\n",
              "      <th>Company</th>\n",
              "      <th>State</th>\n",
              "      <th>ZIP code</th>\n",
              "      <th>Tags</th>\n",
              "      <th>Consumer consent provided?</th>\n",
              "      <th>Submitted via</th>\n",
              "      <th>Date sent to company</th>\n",
              "      <th>Company response to consumer</th>\n",
              "      <th>Timely response?</th>\n",
              "      <th>Consumer disputed?</th>\n",
              "      <th>Complaint ID</th>\n",
              "    </tr>\n",
              "  </thead>\n",
              "  <tbody>\n",
              "    <tr>\n",
              "      <th>0</th>\n",
              "      <td>02/05/13</td>\n",
              "      <td>Mortgage</td>\n",
              "      <td>FHA mortgage</td>\n",
              "      <td>Loan servicing, payments, escrow account</td>\n",
              "      <td>NaN</td>\n",
              "      <td>NaN</td>\n",
              "      <td>NaN</td>\n",
              "      <td>BAYVIEW LOAN SERVICING, LLC</td>\n",
              "      <td>MA</td>\n",
              "      <td>02151</td>\n",
              "      <td>NaN</td>\n",
              "      <td>NaN</td>\n",
              "      <td>Web</td>\n",
              "      <td>02/06/13</td>\n",
              "      <td>Closed with explanation</td>\n",
              "      <td>Yes</td>\n",
              "      <td>No</td>\n",
              "      <td>301664</td>\n",
              "    </tr>\n",
              "    <tr>\n",
              "      <th>1</th>\n",
              "      <td>05/15/17</td>\n",
              "      <td>Mortgage</td>\n",
              "      <td>Other type of mortgage</td>\n",
              "      <td>Trouble during payment process</td>\n",
              "      <td>NaN</td>\n",
              "      <td>NaN</td>\n",
              "      <td>Company has responded to the consumer and the ...</td>\n",
              "      <td>BMO HARRIS BANK NATIONAL ASSOCIATION</td>\n",
              "      <td>IL</td>\n",
              "      <td>60165</td>\n",
              "      <td>NaN</td>\n",
              "      <td>NaN</td>\n",
              "      <td>Fax</td>\n",
              "      <td>05/17/17</td>\n",
              "      <td>Closed with explanation</td>\n",
              "      <td>Yes</td>\n",
              "      <td>NaN</td>\n",
              "      <td>2484441</td>\n",
              "    </tr>\n",
              "    <tr>\n",
              "      <th>2</th>\n",
              "      <td>09/24/14</td>\n",
              "      <td>Mortgage</td>\n",
              "      <td>Other mortgage</td>\n",
              "      <td>Loan modification,collection,foreclosure</td>\n",
              "      <td>NaN</td>\n",
              "      <td>NaN</td>\n",
              "      <td>NaN</td>\n",
              "      <td>Ditech Financial LLC</td>\n",
              "      <td>FL</td>\n",
              "      <td>34209</td>\n",
              "      <td>NaN</td>\n",
              "      <td>NaN</td>\n",
              "      <td>Referral</td>\n",
              "      <td>10/01/14</td>\n",
              "      <td>Closed with explanation</td>\n",
              "      <td>Yes</td>\n",
              "      <td>Yes</td>\n",
              "      <td>1043621</td>\n",
              "    </tr>\n",
              "    <tr>\n",
              "      <th>3</th>\n",
              "      <td>11/06/15</td>\n",
              "      <td>Mortgage</td>\n",
              "      <td>Other mortgage</td>\n",
              "      <td>Loan modification,collection,foreclosure</td>\n",
              "      <td>NaN</td>\n",
              "      <td>NaN</td>\n",
              "      <td>NaN</td>\n",
              "      <td>OCWEN LOAN SERVICING LLC</td>\n",
              "      <td>GA</td>\n",
              "      <td>30253</td>\n",
              "      <td>NaN</td>\n",
              "      <td>NaN</td>\n",
              "      <td>Referral</td>\n",
              "      <td>11/09/15</td>\n",
              "      <td>Closed with explanation</td>\n",
              "      <td>Yes</td>\n",
              "      <td>No</td>\n",
              "      <td>1643449</td>\n",
              "    </tr>\n",
              "    <tr>\n",
              "      <th>4</th>\n",
              "      <td>03/08/12</td>\n",
              "      <td>Mortgage</td>\n",
              "      <td>Conventional fixed mortgage</td>\n",
              "      <td>Loan modification,collection,foreclosure</td>\n",
              "      <td>NaN</td>\n",
              "      <td>NaN</td>\n",
              "      <td>NaN</td>\n",
              "      <td>CITIBANK, N.A.</td>\n",
              "      <td>NJ</td>\n",
              "      <td>07438</td>\n",
              "      <td>NaN</td>\n",
              "      <td>NaN</td>\n",
              "      <td>Referral</td>\n",
              "      <td>03/08/12</td>\n",
              "      <td>Untimely response</td>\n",
              "      <td>No</td>\n",
              "      <td>No</td>\n",
              "      <td>32218</td>\n",
              "    </tr>\n",
              "  </tbody>\n",
              "</table>\n",
              "</div>"
            ],
            "text/plain": [
              "  Date received   Product                  Sub-product  \\\n",
              "0      02/05/13  Mortgage                 FHA mortgage   \n",
              "1      05/15/17  Mortgage       Other type of mortgage   \n",
              "2      09/24/14  Mortgage               Other mortgage   \n",
              "3      11/06/15  Mortgage               Other mortgage   \n",
              "4      03/08/12  Mortgage  Conventional fixed mortgage   \n",
              "\n",
              "                                      Issue  Sub-issue  \\\n",
              "0  Loan servicing, payments, escrow account        NaN   \n",
              "1            Trouble during payment process        NaN   \n",
              "2  Loan modification,collection,foreclosure        NaN   \n",
              "3  Loan modification,collection,foreclosure        NaN   \n",
              "4  Loan modification,collection,foreclosure        NaN   \n",
              "\n",
              "  Consumer complaint narrative  \\\n",
              "0                          NaN   \n",
              "1                          NaN   \n",
              "2                          NaN   \n",
              "3                          NaN   \n",
              "4                          NaN   \n",
              "\n",
              "                             Company public response  \\\n",
              "0                                                NaN   \n",
              "1  Company has responded to the consumer and the ...   \n",
              "2                                                NaN   \n",
              "3                                                NaN   \n",
              "4                                                NaN   \n",
              "\n",
              "                                Company State ZIP code Tags  \\\n",
              "0           BAYVIEW LOAN SERVICING, LLC    MA    02151  NaN   \n",
              "1  BMO HARRIS BANK NATIONAL ASSOCIATION    IL    60165  NaN   \n",
              "2                  Ditech Financial LLC    FL    34209  NaN   \n",
              "3              OCWEN LOAN SERVICING LLC    GA    30253  NaN   \n",
              "4                        CITIBANK, N.A.    NJ    07438  NaN   \n",
              "\n",
              "  Consumer consent provided? Submitted via Date sent to company  \\\n",
              "0                        NaN           Web             02/06/13   \n",
              "1                        NaN           Fax             05/17/17   \n",
              "2                        NaN      Referral             10/01/14   \n",
              "3                        NaN      Referral             11/09/15   \n",
              "4                        NaN      Referral             03/08/12   \n",
              "\n",
              "  Company response to consumer Timely response? Consumer disputed?  \\\n",
              "0      Closed with explanation              Yes                 No   \n",
              "1      Closed with explanation              Yes                NaN   \n",
              "2      Closed with explanation              Yes                Yes   \n",
              "3      Closed with explanation              Yes                 No   \n",
              "4            Untimely response               No                 No   \n",
              "\n",
              "   Complaint ID  \n",
              "0        301664  \n",
              "1       2484441  \n",
              "2       1043621  \n",
              "3       1643449  \n",
              "4         32218  "
            ]
          },
          "metadata": {
            "tags": []
          },
          "execution_count": 5
        }
      ]
    },
    {
      "metadata": {
        "id": "7nLwqjwo6FeW",
        "colab_type": "code",
        "colab": {}
      },
      "cell_type": "code",
      "source": [
        "data = data[data.Company == 'WELLS FARGO & COMPANY']"
      ],
      "execution_count": 0,
      "outputs": []
    },
    {
      "metadata": {
        "id": "-0sQpqDB95iW",
        "colab_type": "code",
        "colab": {}
      },
      "cell_type": "code",
      "source": [
        "data = data[data.State.isin(['AK','AL','AR','AZ','CA','CO','CT','DC','DE','FL','GA','HI','IA','ID','IL','IN','KS','KY','LA','MA','MD','ME','MI','MN','MO','MS','MT','NC','ND','NE','NH','NJ','NM','NV','NY','OH','OK','OR','PA','PR','RI','SC','SD','TN','TX','UT','VA','VT','WA','WI','WV','WY'])]"
      ],
      "execution_count": 0,
      "outputs": []
    },
    {
      "metadata": {
        "id": "3Xh52LSB6LRZ",
        "colab_type": "code",
        "colab": {
          "base_uri": "https://localhost:8080/",
          "height": 496
        },
        "outputId": "397b2d39-4b00-4820-b0b7-f35f96c9ec36"
      },
      "cell_type": "code",
      "source": [
        "data.head()"
      ],
      "execution_count": 8,
      "outputs": [
        {
          "output_type": "execute_result",
          "data": {
            "text/html": [
              "<div>\n",
              "<style scoped>\n",
              "    .dataframe tbody tr th:only-of-type {\n",
              "        vertical-align: middle;\n",
              "    }\n",
              "\n",
              "    .dataframe tbody tr th {\n",
              "        vertical-align: top;\n",
              "    }\n",
              "\n",
              "    .dataframe thead th {\n",
              "        text-align: right;\n",
              "    }\n",
              "</style>\n",
              "<table border=\"1\" class=\"dataframe\">\n",
              "  <thead>\n",
              "    <tr style=\"text-align: right;\">\n",
              "      <th></th>\n",
              "      <th>Date received</th>\n",
              "      <th>Product</th>\n",
              "      <th>Sub-product</th>\n",
              "      <th>Issue</th>\n",
              "      <th>Sub-issue</th>\n",
              "      <th>Consumer complaint narrative</th>\n",
              "      <th>Company public response</th>\n",
              "      <th>Company</th>\n",
              "      <th>State</th>\n",
              "      <th>ZIP code</th>\n",
              "      <th>Tags</th>\n",
              "      <th>Consumer consent provided?</th>\n",
              "      <th>Submitted via</th>\n",
              "      <th>Date sent to company</th>\n",
              "      <th>Company response to consumer</th>\n",
              "      <th>Timely response?</th>\n",
              "      <th>Consumer disputed?</th>\n",
              "      <th>Complaint ID</th>\n",
              "    </tr>\n",
              "  </thead>\n",
              "  <tbody>\n",
              "    <tr>\n",
              "      <th>17</th>\n",
              "      <td>12/05/16</td>\n",
              "      <td>Mortgage</td>\n",
              "      <td>FHA mortgage</td>\n",
              "      <td>Loan modification,collection,foreclosure</td>\n",
              "      <td>NaN</td>\n",
              "      <td>NaN</td>\n",
              "      <td>Company has responded to the consumer and the ...</td>\n",
              "      <td>WELLS FARGO &amp; COMPANY</td>\n",
              "      <td>NJ</td>\n",
              "      <td>07106</td>\n",
              "      <td>NaN</td>\n",
              "      <td>Consent not provided</td>\n",
              "      <td>Web</td>\n",
              "      <td>12/05/16</td>\n",
              "      <td>Closed with explanation</td>\n",
              "      <td>Yes</td>\n",
              "      <td>No</td>\n",
              "      <td>2236348</td>\n",
              "    </tr>\n",
              "    <tr>\n",
              "      <th>20</th>\n",
              "      <td>01/09/13</td>\n",
              "      <td>Mortgage</td>\n",
              "      <td>Other mortgage</td>\n",
              "      <td>Loan modification,collection,foreclosure</td>\n",
              "      <td>NaN</td>\n",
              "      <td>NaN</td>\n",
              "      <td>NaN</td>\n",
              "      <td>WELLS FARGO &amp; COMPANY</td>\n",
              "      <td>NY</td>\n",
              "      <td>11550</td>\n",
              "      <td>NaN</td>\n",
              "      <td>NaN</td>\n",
              "      <td>Referral</td>\n",
              "      <td>01/11/13</td>\n",
              "      <td>Closed with explanation</td>\n",
              "      <td>Yes</td>\n",
              "      <td>No</td>\n",
              "      <td>225262</td>\n",
              "    </tr>\n",
              "    <tr>\n",
              "      <th>24</th>\n",
              "      <td>06/02/14</td>\n",
              "      <td>Mortgage</td>\n",
              "      <td>Other mortgage</td>\n",
              "      <td>Application, originator, mortgage broker</td>\n",
              "      <td>NaN</td>\n",
              "      <td>NaN</td>\n",
              "      <td>NaN</td>\n",
              "      <td>WELLS FARGO &amp; COMPANY</td>\n",
              "      <td>VA</td>\n",
              "      <td>20109</td>\n",
              "      <td>NaN</td>\n",
              "      <td>NaN</td>\n",
              "      <td>Web</td>\n",
              "      <td>06/02/14</td>\n",
              "      <td>Closed with explanation</td>\n",
              "      <td>Yes</td>\n",
              "      <td>No</td>\n",
              "      <td>876185</td>\n",
              "    </tr>\n",
              "    <tr>\n",
              "      <th>34</th>\n",
              "      <td>03/18/14</td>\n",
              "      <td>Mortgage</td>\n",
              "      <td>Reverse mortgage</td>\n",
              "      <td>Settlement process and costs</td>\n",
              "      <td>NaN</td>\n",
              "      <td>NaN</td>\n",
              "      <td>NaN</td>\n",
              "      <td>WELLS FARGO &amp; COMPANY</td>\n",
              "      <td>CA</td>\n",
              "      <td>93311</td>\n",
              "      <td>NaN</td>\n",
              "      <td>NaN</td>\n",
              "      <td>Web</td>\n",
              "      <td>03/17/14</td>\n",
              "      <td>Closed with explanation</td>\n",
              "      <td>Yes</td>\n",
              "      <td>No</td>\n",
              "      <td>763623</td>\n",
              "    </tr>\n",
              "    <tr>\n",
              "      <th>37</th>\n",
              "      <td>08/06/13</td>\n",
              "      <td>Mortgage</td>\n",
              "      <td>FHA mortgage</td>\n",
              "      <td>Application, originator, mortgage broker</td>\n",
              "      <td>NaN</td>\n",
              "      <td>NaN</td>\n",
              "      <td>NaN</td>\n",
              "      <td>WELLS FARGO &amp; COMPANY</td>\n",
              "      <td>SD</td>\n",
              "      <td>57106</td>\n",
              "      <td>NaN</td>\n",
              "      <td>NaN</td>\n",
              "      <td>Web</td>\n",
              "      <td>08/07/13</td>\n",
              "      <td>Closed with explanation</td>\n",
              "      <td>Yes</td>\n",
              "      <td>Yes</td>\n",
              "      <td>481692</td>\n",
              "    </tr>\n",
              "  </tbody>\n",
              "</table>\n",
              "</div>"
            ],
            "text/plain": [
              "   Date received   Product       Sub-product  \\\n",
              "17      12/05/16  Mortgage      FHA mortgage   \n",
              "20      01/09/13  Mortgage    Other mortgage   \n",
              "24      06/02/14  Mortgage    Other mortgage   \n",
              "34      03/18/14  Mortgage  Reverse mortgage   \n",
              "37      08/06/13  Mortgage      FHA mortgage   \n",
              "\n",
              "                                       Issue  Sub-issue  \\\n",
              "17  Loan modification,collection,foreclosure        NaN   \n",
              "20  Loan modification,collection,foreclosure        NaN   \n",
              "24  Application, originator, mortgage broker        NaN   \n",
              "34              Settlement process and costs        NaN   \n",
              "37  Application, originator, mortgage broker        NaN   \n",
              "\n",
              "   Consumer complaint narrative  \\\n",
              "17                          NaN   \n",
              "20                          NaN   \n",
              "24                          NaN   \n",
              "34                          NaN   \n",
              "37                          NaN   \n",
              "\n",
              "                              Company public response                Company  \\\n",
              "17  Company has responded to the consumer and the ...  WELLS FARGO & COMPANY   \n",
              "20                                                NaN  WELLS FARGO & COMPANY   \n",
              "24                                                NaN  WELLS FARGO & COMPANY   \n",
              "34                                                NaN  WELLS FARGO & COMPANY   \n",
              "37                                                NaN  WELLS FARGO & COMPANY   \n",
              "\n",
              "   State ZIP code Tags Consumer consent provided? Submitted via  \\\n",
              "17    NJ    07106  NaN       Consent not provided           Web   \n",
              "20    NY    11550  NaN                        NaN      Referral   \n",
              "24    VA    20109  NaN                        NaN           Web   \n",
              "34    CA    93311  NaN                        NaN           Web   \n",
              "37    SD    57106  NaN                        NaN           Web   \n",
              "\n",
              "   Date sent to company Company response to consumer Timely response?  \\\n",
              "17             12/05/16      Closed with explanation              Yes   \n",
              "20             01/11/13      Closed with explanation              Yes   \n",
              "24             06/02/14      Closed with explanation              Yes   \n",
              "34             03/17/14      Closed with explanation              Yes   \n",
              "37             08/07/13      Closed with explanation              Yes   \n",
              "\n",
              "   Consumer disputed?  Complaint ID  \n",
              "17                 No       2236348  \n",
              "20                 No        225262  \n",
              "24                 No        876185  \n",
              "34                 No        763623  \n",
              "37                Yes        481692  "
            ]
          },
          "metadata": {
            "tags": []
          },
          "execution_count": 8
        }
      ]
    },
    {
      "metadata": {
        "id": "_Mx5HVmSc2hJ",
        "colab_type": "code",
        "colab": {
          "base_uri": "https://localhost:8080/",
          "height": 496
        },
        "outputId": "594650d9-d431-4116-b117-b014b66a80fc"
      },
      "cell_type": "code",
      "source": [
        "data.index = range(data.shape[0])\n",
        "data.head()"
      ],
      "execution_count": 9,
      "outputs": [
        {
          "output_type": "execute_result",
          "data": {
            "text/html": [
              "<div>\n",
              "<style scoped>\n",
              "    .dataframe tbody tr th:only-of-type {\n",
              "        vertical-align: middle;\n",
              "    }\n",
              "\n",
              "    .dataframe tbody tr th {\n",
              "        vertical-align: top;\n",
              "    }\n",
              "\n",
              "    .dataframe thead th {\n",
              "        text-align: right;\n",
              "    }\n",
              "</style>\n",
              "<table border=\"1\" class=\"dataframe\">\n",
              "  <thead>\n",
              "    <tr style=\"text-align: right;\">\n",
              "      <th></th>\n",
              "      <th>Date received</th>\n",
              "      <th>Product</th>\n",
              "      <th>Sub-product</th>\n",
              "      <th>Issue</th>\n",
              "      <th>Sub-issue</th>\n",
              "      <th>Consumer complaint narrative</th>\n",
              "      <th>Company public response</th>\n",
              "      <th>Company</th>\n",
              "      <th>State</th>\n",
              "      <th>ZIP code</th>\n",
              "      <th>Tags</th>\n",
              "      <th>Consumer consent provided?</th>\n",
              "      <th>Submitted via</th>\n",
              "      <th>Date sent to company</th>\n",
              "      <th>Company response to consumer</th>\n",
              "      <th>Timely response?</th>\n",
              "      <th>Consumer disputed?</th>\n",
              "      <th>Complaint ID</th>\n",
              "    </tr>\n",
              "  </thead>\n",
              "  <tbody>\n",
              "    <tr>\n",
              "      <th>0</th>\n",
              "      <td>12/05/16</td>\n",
              "      <td>Mortgage</td>\n",
              "      <td>FHA mortgage</td>\n",
              "      <td>Loan modification,collection,foreclosure</td>\n",
              "      <td>NaN</td>\n",
              "      <td>NaN</td>\n",
              "      <td>Company has responded to the consumer and the ...</td>\n",
              "      <td>WELLS FARGO &amp; COMPANY</td>\n",
              "      <td>NJ</td>\n",
              "      <td>07106</td>\n",
              "      <td>NaN</td>\n",
              "      <td>Consent not provided</td>\n",
              "      <td>Web</td>\n",
              "      <td>12/05/16</td>\n",
              "      <td>Closed with explanation</td>\n",
              "      <td>Yes</td>\n",
              "      <td>No</td>\n",
              "      <td>2236348</td>\n",
              "    </tr>\n",
              "    <tr>\n",
              "      <th>1</th>\n",
              "      <td>01/09/13</td>\n",
              "      <td>Mortgage</td>\n",
              "      <td>Other mortgage</td>\n",
              "      <td>Loan modification,collection,foreclosure</td>\n",
              "      <td>NaN</td>\n",
              "      <td>NaN</td>\n",
              "      <td>NaN</td>\n",
              "      <td>WELLS FARGO &amp; COMPANY</td>\n",
              "      <td>NY</td>\n",
              "      <td>11550</td>\n",
              "      <td>NaN</td>\n",
              "      <td>NaN</td>\n",
              "      <td>Referral</td>\n",
              "      <td>01/11/13</td>\n",
              "      <td>Closed with explanation</td>\n",
              "      <td>Yes</td>\n",
              "      <td>No</td>\n",
              "      <td>225262</td>\n",
              "    </tr>\n",
              "    <tr>\n",
              "      <th>2</th>\n",
              "      <td>06/02/14</td>\n",
              "      <td>Mortgage</td>\n",
              "      <td>Other mortgage</td>\n",
              "      <td>Application, originator, mortgage broker</td>\n",
              "      <td>NaN</td>\n",
              "      <td>NaN</td>\n",
              "      <td>NaN</td>\n",
              "      <td>WELLS FARGO &amp; COMPANY</td>\n",
              "      <td>VA</td>\n",
              "      <td>20109</td>\n",
              "      <td>NaN</td>\n",
              "      <td>NaN</td>\n",
              "      <td>Web</td>\n",
              "      <td>06/02/14</td>\n",
              "      <td>Closed with explanation</td>\n",
              "      <td>Yes</td>\n",
              "      <td>No</td>\n",
              "      <td>876185</td>\n",
              "    </tr>\n",
              "    <tr>\n",
              "      <th>3</th>\n",
              "      <td>03/18/14</td>\n",
              "      <td>Mortgage</td>\n",
              "      <td>Reverse mortgage</td>\n",
              "      <td>Settlement process and costs</td>\n",
              "      <td>NaN</td>\n",
              "      <td>NaN</td>\n",
              "      <td>NaN</td>\n",
              "      <td>WELLS FARGO &amp; COMPANY</td>\n",
              "      <td>CA</td>\n",
              "      <td>93311</td>\n",
              "      <td>NaN</td>\n",
              "      <td>NaN</td>\n",
              "      <td>Web</td>\n",
              "      <td>03/17/14</td>\n",
              "      <td>Closed with explanation</td>\n",
              "      <td>Yes</td>\n",
              "      <td>No</td>\n",
              "      <td>763623</td>\n",
              "    </tr>\n",
              "    <tr>\n",
              "      <th>4</th>\n",
              "      <td>08/06/13</td>\n",
              "      <td>Mortgage</td>\n",
              "      <td>FHA mortgage</td>\n",
              "      <td>Application, originator, mortgage broker</td>\n",
              "      <td>NaN</td>\n",
              "      <td>NaN</td>\n",
              "      <td>NaN</td>\n",
              "      <td>WELLS FARGO &amp; COMPANY</td>\n",
              "      <td>SD</td>\n",
              "      <td>57106</td>\n",
              "      <td>NaN</td>\n",
              "      <td>NaN</td>\n",
              "      <td>Web</td>\n",
              "      <td>08/07/13</td>\n",
              "      <td>Closed with explanation</td>\n",
              "      <td>Yes</td>\n",
              "      <td>Yes</td>\n",
              "      <td>481692</td>\n",
              "    </tr>\n",
              "  </tbody>\n",
              "</table>\n",
              "</div>"
            ],
            "text/plain": [
              "  Date received   Product       Sub-product  \\\n",
              "0      12/05/16  Mortgage      FHA mortgage   \n",
              "1      01/09/13  Mortgage    Other mortgage   \n",
              "2      06/02/14  Mortgage    Other mortgage   \n",
              "3      03/18/14  Mortgage  Reverse mortgage   \n",
              "4      08/06/13  Mortgage      FHA mortgage   \n",
              "\n",
              "                                      Issue  Sub-issue  \\\n",
              "0  Loan modification,collection,foreclosure        NaN   \n",
              "1  Loan modification,collection,foreclosure        NaN   \n",
              "2  Application, originator, mortgage broker        NaN   \n",
              "3              Settlement process and costs        NaN   \n",
              "4  Application, originator, mortgage broker        NaN   \n",
              "\n",
              "  Consumer complaint narrative  \\\n",
              "0                          NaN   \n",
              "1                          NaN   \n",
              "2                          NaN   \n",
              "3                          NaN   \n",
              "4                          NaN   \n",
              "\n",
              "                             Company public response                Company  \\\n",
              "0  Company has responded to the consumer and the ...  WELLS FARGO & COMPANY   \n",
              "1                                                NaN  WELLS FARGO & COMPANY   \n",
              "2                                                NaN  WELLS FARGO & COMPANY   \n",
              "3                                                NaN  WELLS FARGO & COMPANY   \n",
              "4                                                NaN  WELLS FARGO & COMPANY   \n",
              "\n",
              "  State ZIP code Tags Consumer consent provided? Submitted via  \\\n",
              "0    NJ    07106  NaN       Consent not provided           Web   \n",
              "1    NY    11550  NaN                        NaN      Referral   \n",
              "2    VA    20109  NaN                        NaN           Web   \n",
              "3    CA    93311  NaN                        NaN           Web   \n",
              "4    SD    57106  NaN                        NaN           Web   \n",
              "\n",
              "  Date sent to company Company response to consumer Timely response?  \\\n",
              "0             12/05/16      Closed with explanation              Yes   \n",
              "1             01/11/13      Closed with explanation              Yes   \n",
              "2             06/02/14      Closed with explanation              Yes   \n",
              "3             03/17/14      Closed with explanation              Yes   \n",
              "4             08/07/13      Closed with explanation              Yes   \n",
              "\n",
              "  Consumer disputed?  Complaint ID  \n",
              "0                 No       2236348  \n",
              "1                 No        225262  \n",
              "2                 No        876185  \n",
              "3                 No        763623  \n",
              "4                Yes        481692  "
            ]
          },
          "metadata": {
            "tags": []
          },
          "execution_count": 9
        }
      ]
    },
    {
      "metadata": {
        "id": "1OjRKr-G76pQ",
        "colab_type": "code",
        "colab": {
          "base_uri": "https://localhost:8080/",
          "height": 34
        },
        "outputId": "d8fded2c-e187-4bff-e4f8-dcee0f91e79f"
      },
      "cell_type": "code",
      "source": [
        "data.shape"
      ],
      "execution_count": 10,
      "outputs": [
        {
          "output_type": "execute_result",
          "data": {
            "text/plain": [
              "(34081, 18)"
            ]
          },
          "metadata": {
            "tags": []
          },
          "execution_count": 10
        }
      ]
    },
    {
      "metadata": {
        "id": "pHpo_wll8Y3V",
        "colab_type": "code",
        "colab": {}
      },
      "cell_type": "code",
      "source": [
        "#req_cols = ['Date received','Issue','State','Submitted via', 'Date sent to company','Company reponse to consumer']\n",
        "req_cols = ['Date received','Issue','State','Submitted via', 'Date sent to company','Company response to consumer']"
      ],
      "execution_count": 0,
      "outputs": []
    },
    {
      "metadata": {
        "id": "0gw8YvFAAvDD",
        "colab_type": "code",
        "colab": {
          "base_uri": "https://localhost:8080/",
          "height": 119
        },
        "outputId": "1daaeb40-78f0-419b-d76b-cbc73b500b5c"
      },
      "cell_type": "code",
      "source": [
        "data.columns"
      ],
      "execution_count": 12,
      "outputs": [
        {
          "output_type": "execute_result",
          "data": {
            "text/plain": [
              "Index(['Date received', 'Product', 'Sub-product', 'Issue', 'Sub-issue',\n",
              "       'Consumer complaint narrative', 'Company public response', 'Company',\n",
              "       'State', 'ZIP code', 'Tags', 'Consumer consent provided?',\n",
              "       'Submitted via', 'Date sent to company', 'Company response to consumer',\n",
              "       'Timely response?', 'Consumer disputed?', 'Complaint ID'],\n",
              "      dtype='object')"
            ]
          },
          "metadata": {
            "tags": []
          },
          "execution_count": 12
        }
      ]
    },
    {
      "metadata": {
        "id": "bGaZu1Xc_K-j",
        "colab_type": "code",
        "colab": {}
      },
      "cell_type": "code",
      "source": [
        "data_req = data[req_cols]"
      ],
      "execution_count": 0,
      "outputs": []
    },
    {
      "metadata": {
        "id": "FKR2PBW-_QIk",
        "colab_type": "code",
        "colab": {
          "base_uri": "https://localhost:8080/",
          "height": 34
        },
        "outputId": "463e43b9-3866-4d95-b31a-e5708685f5bb"
      },
      "cell_type": "code",
      "source": [
        "data_req.shape"
      ],
      "execution_count": 14,
      "outputs": [
        {
          "output_type": "execute_result",
          "data": {
            "text/plain": [
              "(34081, 6)"
            ]
          },
          "metadata": {
            "tags": []
          },
          "execution_count": 14
        }
      ]
    },
    {
      "metadata": {
        "id": "exaKtRM9B2yH",
        "colab_type": "code",
        "colab": {
          "base_uri": "https://localhost:8080/",
          "height": 68
        },
        "outputId": "f7fdcd7b-e1ca-43f1-d9bc-3fd88f55bd7e"
      },
      "cell_type": "code",
      "source": [
        "data_req.columns"
      ],
      "execution_count": 15,
      "outputs": [
        {
          "output_type": "execute_result",
          "data": {
            "text/plain": [
              "Index(['Date received', 'Issue', 'State', 'Submitted via',\n",
              "       'Date sent to company', 'Company response to consumer'],\n",
              "      dtype='object')"
            ]
          },
          "metadata": {
            "tags": []
          },
          "execution_count": 15
        }
      ]
    },
    {
      "metadata": {
        "id": "N0SM4rJYK0PK",
        "colab_type": "code",
        "colab": {
          "base_uri": "https://localhost:8080/",
          "height": 221
        },
        "outputId": "65429502-c5f7-42de-c592-2ab68859391b"
      },
      "cell_type": "code",
      "source": [
        "data_req['Date received']=pd.to_datetime(data_req['Date received'])\n",
        "data_req['Date sent to company']=pd.to_datetime(data_req['Date sent to company'])"
      ],
      "execution_count": 16,
      "outputs": [
        {
          "output_type": "stream",
          "text": [
            "/usr/local/lib/python3.6/dist-packages/ipykernel_launcher.py:1: SettingWithCopyWarning: \n",
            "A value is trying to be set on a copy of a slice from a DataFrame.\n",
            "Try using .loc[row_indexer,col_indexer] = value instead\n",
            "\n",
            "See the caveats in the documentation: http://pandas.pydata.org/pandas-docs/stable/indexing.html#indexing-view-versus-copy\n",
            "  \"\"\"Entry point for launching an IPython kernel.\n",
            "/usr/local/lib/python3.6/dist-packages/ipykernel_launcher.py:2: SettingWithCopyWarning: \n",
            "A value is trying to be set on a copy of a slice from a DataFrame.\n",
            "Try using .loc[row_indexer,col_indexer] = value instead\n",
            "\n",
            "See the caveats in the documentation: http://pandas.pydata.org/pandas-docs/stable/indexing.html#indexing-view-versus-copy\n",
            "  \n"
          ],
          "name": "stderr"
        }
      ]
    },
    {
      "metadata": {
        "id": "3Ck-NE03MZiX",
        "colab_type": "code",
        "colab": {
          "base_uri": "https://localhost:8080/",
          "height": 204
        },
        "outputId": "c608f6a3-ea5a-4fa6-a950-e96b5deb1b90"
      },
      "cell_type": "code",
      "source": [
        "data_req.info()"
      ],
      "execution_count": 17,
      "outputs": [
        {
          "output_type": "stream",
          "text": [
            "<class 'pandas.core.frame.DataFrame'>\n",
            "RangeIndex: 34081 entries, 0 to 34080\n",
            "Data columns (total 6 columns):\n",
            "Date received                   34081 non-null datetime64[ns]\n",
            "Issue                           34081 non-null object\n",
            "State                           34081 non-null object\n",
            "Submitted via                   34081 non-null object\n",
            "Date sent to company            34081 non-null datetime64[ns]\n",
            "Company response to consumer    34081 non-null object\n",
            "dtypes: datetime64[ns](2), object(4)\n",
            "memory usage: 1.6+ MB\n"
          ],
          "name": "stdout"
        }
      ]
    },
    {
      "metadata": {
        "id": "LUJfHbiaM48W",
        "colab_type": "code",
        "colab": {
          "base_uri": "https://localhost:8080/",
          "height": 306
        },
        "outputId": "26f32ef6-1292-45bf-d8db-78266e12cb9c"
      },
      "cell_type": "code",
      "source": [
        "data_req['Time Difference'] = (data_req['Date sent to company']-data_req['Date received']).astype('timedelta64[s]')\n",
        "data_req.head()"
      ],
      "execution_count": 18,
      "outputs": [
        {
          "output_type": "stream",
          "text": [
            "/usr/local/lib/python3.6/dist-packages/ipykernel_launcher.py:1: SettingWithCopyWarning: \n",
            "A value is trying to be set on a copy of a slice from a DataFrame.\n",
            "Try using .loc[row_indexer,col_indexer] = value instead\n",
            "\n",
            "See the caveats in the documentation: http://pandas.pydata.org/pandas-docs/stable/indexing.html#indexing-view-versus-copy\n",
            "  \"\"\"Entry point for launching an IPython kernel.\n"
          ],
          "name": "stderr"
        },
        {
          "output_type": "execute_result",
          "data": {
            "text/html": [
              "<div>\n",
              "<style scoped>\n",
              "    .dataframe tbody tr th:only-of-type {\n",
              "        vertical-align: middle;\n",
              "    }\n",
              "\n",
              "    .dataframe tbody tr th {\n",
              "        vertical-align: top;\n",
              "    }\n",
              "\n",
              "    .dataframe thead th {\n",
              "        text-align: right;\n",
              "    }\n",
              "</style>\n",
              "<table border=\"1\" class=\"dataframe\">\n",
              "  <thead>\n",
              "    <tr style=\"text-align: right;\">\n",
              "      <th></th>\n",
              "      <th>Date received</th>\n",
              "      <th>Issue</th>\n",
              "      <th>State</th>\n",
              "      <th>Submitted via</th>\n",
              "      <th>Date sent to company</th>\n",
              "      <th>Company response to consumer</th>\n",
              "      <th>Time Difference</th>\n",
              "    </tr>\n",
              "  </thead>\n",
              "  <tbody>\n",
              "    <tr>\n",
              "      <th>0</th>\n",
              "      <td>2016-12-05</td>\n",
              "      <td>Loan modification,collection,foreclosure</td>\n",
              "      <td>NJ</td>\n",
              "      <td>Web</td>\n",
              "      <td>2016-12-05</td>\n",
              "      <td>Closed with explanation</td>\n",
              "      <td>0.0</td>\n",
              "    </tr>\n",
              "    <tr>\n",
              "      <th>1</th>\n",
              "      <td>2013-01-09</td>\n",
              "      <td>Loan modification,collection,foreclosure</td>\n",
              "      <td>NY</td>\n",
              "      <td>Referral</td>\n",
              "      <td>2013-01-11</td>\n",
              "      <td>Closed with explanation</td>\n",
              "      <td>172800.0</td>\n",
              "    </tr>\n",
              "    <tr>\n",
              "      <th>2</th>\n",
              "      <td>2014-06-02</td>\n",
              "      <td>Application, originator, mortgage broker</td>\n",
              "      <td>VA</td>\n",
              "      <td>Web</td>\n",
              "      <td>2014-06-02</td>\n",
              "      <td>Closed with explanation</td>\n",
              "      <td>0.0</td>\n",
              "    </tr>\n",
              "    <tr>\n",
              "      <th>3</th>\n",
              "      <td>2014-03-18</td>\n",
              "      <td>Settlement process and costs</td>\n",
              "      <td>CA</td>\n",
              "      <td>Web</td>\n",
              "      <td>2014-03-17</td>\n",
              "      <td>Closed with explanation</td>\n",
              "      <td>-86400.0</td>\n",
              "    </tr>\n",
              "    <tr>\n",
              "      <th>4</th>\n",
              "      <td>2013-08-06</td>\n",
              "      <td>Application, originator, mortgage broker</td>\n",
              "      <td>SD</td>\n",
              "      <td>Web</td>\n",
              "      <td>2013-08-07</td>\n",
              "      <td>Closed with explanation</td>\n",
              "      <td>86400.0</td>\n",
              "    </tr>\n",
              "  </tbody>\n",
              "</table>\n",
              "</div>"
            ],
            "text/plain": [
              "  Date received                                     Issue State Submitted via  \\\n",
              "0    2016-12-05  Loan modification,collection,foreclosure    NJ           Web   \n",
              "1    2013-01-09  Loan modification,collection,foreclosure    NY      Referral   \n",
              "2    2014-06-02  Application, originator, mortgage broker    VA           Web   \n",
              "3    2014-03-18              Settlement process and costs    CA           Web   \n",
              "4    2013-08-06  Application, originator, mortgage broker    SD           Web   \n",
              "\n",
              "  Date sent to company Company response to consumer  Time Difference  \n",
              "0           2016-12-05      Closed with explanation              0.0  \n",
              "1           2013-01-11      Closed with explanation         172800.0  \n",
              "2           2014-06-02      Closed with explanation              0.0  \n",
              "3           2014-03-17      Closed with explanation         -86400.0  \n",
              "4           2013-08-07      Closed with explanation          86400.0  "
            ]
          },
          "metadata": {
            "tags": []
          },
          "execution_count": 18
        }
      ]
    },
    {
      "metadata": {
        "id": "jJ1DmhSQhEgn",
        "colab_type": "code",
        "colab": {
          "base_uri": "https://localhost:8080/",
          "height": 306
        },
        "outputId": "2eb245a4-baf4-4e27-9a94-99f3e5fb1e5f"
      },
      "cell_type": "code",
      "source": [
        "data_req.loc[data_req['Time Difference'] < 0, 'Time Difference'] = 0\n",
        "data_req.head()"
      ],
      "execution_count": 19,
      "outputs": [
        {
          "output_type": "stream",
          "text": [
            "/usr/local/lib/python3.6/dist-packages/pandas/core/indexing.py:537: SettingWithCopyWarning: \n",
            "A value is trying to be set on a copy of a slice from a DataFrame.\n",
            "Try using .loc[row_indexer,col_indexer] = value instead\n",
            "\n",
            "See the caveats in the documentation: http://pandas.pydata.org/pandas-docs/stable/indexing.html#indexing-view-versus-copy\n",
            "  self.obj[item] = s\n"
          ],
          "name": "stderr"
        },
        {
          "output_type": "execute_result",
          "data": {
            "text/html": [
              "<div>\n",
              "<style scoped>\n",
              "    .dataframe tbody tr th:only-of-type {\n",
              "        vertical-align: middle;\n",
              "    }\n",
              "\n",
              "    .dataframe tbody tr th {\n",
              "        vertical-align: top;\n",
              "    }\n",
              "\n",
              "    .dataframe thead th {\n",
              "        text-align: right;\n",
              "    }\n",
              "</style>\n",
              "<table border=\"1\" class=\"dataframe\">\n",
              "  <thead>\n",
              "    <tr style=\"text-align: right;\">\n",
              "      <th></th>\n",
              "      <th>Date received</th>\n",
              "      <th>Issue</th>\n",
              "      <th>State</th>\n",
              "      <th>Submitted via</th>\n",
              "      <th>Date sent to company</th>\n",
              "      <th>Company response to consumer</th>\n",
              "      <th>Time Difference</th>\n",
              "    </tr>\n",
              "  </thead>\n",
              "  <tbody>\n",
              "    <tr>\n",
              "      <th>0</th>\n",
              "      <td>2016-12-05</td>\n",
              "      <td>Loan modification,collection,foreclosure</td>\n",
              "      <td>NJ</td>\n",
              "      <td>Web</td>\n",
              "      <td>2016-12-05</td>\n",
              "      <td>Closed with explanation</td>\n",
              "      <td>0.0</td>\n",
              "    </tr>\n",
              "    <tr>\n",
              "      <th>1</th>\n",
              "      <td>2013-01-09</td>\n",
              "      <td>Loan modification,collection,foreclosure</td>\n",
              "      <td>NY</td>\n",
              "      <td>Referral</td>\n",
              "      <td>2013-01-11</td>\n",
              "      <td>Closed with explanation</td>\n",
              "      <td>172800.0</td>\n",
              "    </tr>\n",
              "    <tr>\n",
              "      <th>2</th>\n",
              "      <td>2014-06-02</td>\n",
              "      <td>Application, originator, mortgage broker</td>\n",
              "      <td>VA</td>\n",
              "      <td>Web</td>\n",
              "      <td>2014-06-02</td>\n",
              "      <td>Closed with explanation</td>\n",
              "      <td>0.0</td>\n",
              "    </tr>\n",
              "    <tr>\n",
              "      <th>3</th>\n",
              "      <td>2014-03-18</td>\n",
              "      <td>Settlement process and costs</td>\n",
              "      <td>CA</td>\n",
              "      <td>Web</td>\n",
              "      <td>2014-03-17</td>\n",
              "      <td>Closed with explanation</td>\n",
              "      <td>0.0</td>\n",
              "    </tr>\n",
              "    <tr>\n",
              "      <th>4</th>\n",
              "      <td>2013-08-06</td>\n",
              "      <td>Application, originator, mortgage broker</td>\n",
              "      <td>SD</td>\n",
              "      <td>Web</td>\n",
              "      <td>2013-08-07</td>\n",
              "      <td>Closed with explanation</td>\n",
              "      <td>86400.0</td>\n",
              "    </tr>\n",
              "  </tbody>\n",
              "</table>\n",
              "</div>"
            ],
            "text/plain": [
              "  Date received                                     Issue State Submitted via  \\\n",
              "0    2016-12-05  Loan modification,collection,foreclosure    NJ           Web   \n",
              "1    2013-01-09  Loan modification,collection,foreclosure    NY      Referral   \n",
              "2    2014-06-02  Application, originator, mortgage broker    VA           Web   \n",
              "3    2014-03-18              Settlement process and costs    CA           Web   \n",
              "4    2013-08-06  Application, originator, mortgage broker    SD           Web   \n",
              "\n",
              "  Date sent to company Company response to consumer  Time Difference  \n",
              "0           2016-12-05      Closed with explanation              0.0  \n",
              "1           2013-01-11      Closed with explanation         172800.0  \n",
              "2           2014-06-02      Closed with explanation              0.0  \n",
              "3           2014-03-17      Closed with explanation              0.0  \n",
              "4           2013-08-07      Closed with explanation          86400.0  "
            ]
          },
          "metadata": {
            "tags": []
          },
          "execution_count": 19
        }
      ]
    },
    {
      "metadata": {
        "id": "0nqdUr0Eo1pw",
        "colab_type": "code",
        "colab": {
          "base_uri": "https://localhost:8080/",
          "height": 119
        },
        "outputId": "2b4c6211-90a2-47c5-bb19-fcb38088df77"
      },
      "cell_type": "code",
      "source": [
        "from sklearn.preprocessing import MinMaxScaler\n",
        "values=data_req['Time Difference'].values.reshape((len(data_req['Time Difference']), 1))\n",
        "# train the normalization\n",
        "scaler = MinMaxScaler(feature_range=(0, 1))\n",
        "scaler = scaler.fit(values)\n",
        "# normalize the dataset\n",
        "data_req['Time Difference'] = scaler.transform(values)  "
      ],
      "execution_count": 20,
      "outputs": [
        {
          "output_type": "stream",
          "text": [
            "/usr/local/lib/python3.6/dist-packages/ipykernel_launcher.py:7: SettingWithCopyWarning: \n",
            "A value is trying to be set on a copy of a slice from a DataFrame.\n",
            "Try using .loc[row_indexer,col_indexer] = value instead\n",
            "\n",
            "See the caveats in the documentation: http://pandas.pydata.org/pandas-docs/stable/indexing.html#indexing-view-versus-copy\n",
            "  import sys\n"
          ],
          "name": "stderr"
        }
      ]
    },
    {
      "metadata": {
        "id": "EfSb_mHWp8Gt",
        "colab_type": "code",
        "colab": {
          "base_uri": "https://localhost:8080/",
          "height": 204
        },
        "outputId": "69ffaaea-4896-48a0-c1ee-89961f708f12"
      },
      "cell_type": "code",
      "source": [
        "data_req.head()"
      ],
      "execution_count": 21,
      "outputs": [
        {
          "output_type": "execute_result",
          "data": {
            "text/html": [
              "<div>\n",
              "<style scoped>\n",
              "    .dataframe tbody tr th:only-of-type {\n",
              "        vertical-align: middle;\n",
              "    }\n",
              "\n",
              "    .dataframe tbody tr th {\n",
              "        vertical-align: top;\n",
              "    }\n",
              "\n",
              "    .dataframe thead th {\n",
              "        text-align: right;\n",
              "    }\n",
              "</style>\n",
              "<table border=\"1\" class=\"dataframe\">\n",
              "  <thead>\n",
              "    <tr style=\"text-align: right;\">\n",
              "      <th></th>\n",
              "      <th>Date received</th>\n",
              "      <th>Issue</th>\n",
              "      <th>State</th>\n",
              "      <th>Submitted via</th>\n",
              "      <th>Date sent to company</th>\n",
              "      <th>Company response to consumer</th>\n",
              "      <th>Time Difference</th>\n",
              "    </tr>\n",
              "  </thead>\n",
              "  <tbody>\n",
              "    <tr>\n",
              "      <th>0</th>\n",
              "      <td>2016-12-05</td>\n",
              "      <td>Loan modification,collection,foreclosure</td>\n",
              "      <td>NJ</td>\n",
              "      <td>Web</td>\n",
              "      <td>2016-12-05</td>\n",
              "      <td>Closed with explanation</td>\n",
              "      <td>0.000000</td>\n",
              "    </tr>\n",
              "    <tr>\n",
              "      <th>1</th>\n",
              "      <td>2013-01-09</td>\n",
              "      <td>Loan modification,collection,foreclosure</td>\n",
              "      <td>NY</td>\n",
              "      <td>Referral</td>\n",
              "      <td>2013-01-11</td>\n",
              "      <td>Closed with explanation</td>\n",
              "      <td>0.003846</td>\n",
              "    </tr>\n",
              "    <tr>\n",
              "      <th>2</th>\n",
              "      <td>2014-06-02</td>\n",
              "      <td>Application, originator, mortgage broker</td>\n",
              "      <td>VA</td>\n",
              "      <td>Web</td>\n",
              "      <td>2014-06-02</td>\n",
              "      <td>Closed with explanation</td>\n",
              "      <td>0.000000</td>\n",
              "    </tr>\n",
              "    <tr>\n",
              "      <th>3</th>\n",
              "      <td>2014-03-18</td>\n",
              "      <td>Settlement process and costs</td>\n",
              "      <td>CA</td>\n",
              "      <td>Web</td>\n",
              "      <td>2014-03-17</td>\n",
              "      <td>Closed with explanation</td>\n",
              "      <td>0.000000</td>\n",
              "    </tr>\n",
              "    <tr>\n",
              "      <th>4</th>\n",
              "      <td>2013-08-06</td>\n",
              "      <td>Application, originator, mortgage broker</td>\n",
              "      <td>SD</td>\n",
              "      <td>Web</td>\n",
              "      <td>2013-08-07</td>\n",
              "      <td>Closed with explanation</td>\n",
              "      <td>0.001923</td>\n",
              "    </tr>\n",
              "  </tbody>\n",
              "</table>\n",
              "</div>"
            ],
            "text/plain": [
              "  Date received                                     Issue State Submitted via  \\\n",
              "0    2016-12-05  Loan modification,collection,foreclosure    NJ           Web   \n",
              "1    2013-01-09  Loan modification,collection,foreclosure    NY      Referral   \n",
              "2    2014-06-02  Application, originator, mortgage broker    VA           Web   \n",
              "3    2014-03-18              Settlement process and costs    CA           Web   \n",
              "4    2013-08-06  Application, originator, mortgage broker    SD           Web   \n",
              "\n",
              "  Date sent to company Company response to consumer  Time Difference  \n",
              "0           2016-12-05      Closed with explanation         0.000000  \n",
              "1           2013-01-11      Closed with explanation         0.003846  \n",
              "2           2014-06-02      Closed with explanation         0.000000  \n",
              "3           2014-03-17      Closed with explanation         0.000000  \n",
              "4           2013-08-07      Closed with explanation         0.001923  "
            ]
          },
          "metadata": {
            "tags": []
          },
          "execution_count": 21
        }
      ]
    },
    {
      "metadata": {
        "id": "r4yvSJWwNscO",
        "colab_type": "code",
        "colab": {
          "base_uri": "https://localhost:8080/",
          "height": 153
        },
        "outputId": "b05b5b99-d67a-4f9e-cb5a-e3eb3f056774"
      },
      "cell_type": "code",
      "source": [
        "data_req.dtypes"
      ],
      "execution_count": 22,
      "outputs": [
        {
          "output_type": "execute_result",
          "data": {
            "text/plain": [
              "Date received                   datetime64[ns]\n",
              "Issue                                   object\n",
              "State                                   object\n",
              "Submitted via                           object\n",
              "Date sent to company            datetime64[ns]\n",
              "Company response to consumer            object\n",
              "Time Difference                        float64\n",
              "dtype: object"
            ]
          },
          "metadata": {
            "tags": []
          },
          "execution_count": 22
        }
      ]
    },
    {
      "metadata": {
        "id": "TI9NIxErOT6I",
        "colab_type": "code",
        "colab": {}
      },
      "cell_type": "code",
      "source": [
        "data_req=data_req.drop(data_req.columns[[0, 4]], axis=1)"
      ],
      "execution_count": 0,
      "outputs": []
    },
    {
      "metadata": {
        "id": "T-8lBkHDOvnM",
        "colab_type": "code",
        "colab": {
          "base_uri": "https://localhost:8080/",
          "height": 187
        },
        "outputId": "947be136-4070-45ec-e7a9-7c347a9122e6"
      },
      "cell_type": "code",
      "source": [
        "data_req.info()"
      ],
      "execution_count": 24,
      "outputs": [
        {
          "output_type": "stream",
          "text": [
            "<class 'pandas.core.frame.DataFrame'>\n",
            "RangeIndex: 34081 entries, 0 to 34080\n",
            "Data columns (total 5 columns):\n",
            "Issue                           34081 non-null object\n",
            "State                           34081 non-null object\n",
            "Submitted via                   34081 non-null object\n",
            "Company response to consumer    34081 non-null object\n",
            "Time Difference                 34081 non-null float64\n",
            "dtypes: float64(1), object(4)\n",
            "memory usage: 1.3+ MB\n"
          ],
          "name": "stdout"
        }
      ]
    },
    {
      "metadata": {
        "id": "T-HIUdp9THnY",
        "colab_type": "code",
        "colab": {
          "base_uri": "https://localhost:8080/",
          "height": 289
        },
        "outputId": "5a3adad7-73ef-431f-dc3c-734d6fb36504"
      },
      "cell_type": "code",
      "source": [
        "data_req['Issue'].value_counts(dropna=False)"
      ],
      "execution_count": 25,
      "outputs": [
        {
          "output_type": "execute_result",
          "data": {
            "text/plain": [
              "Loan modification,collection,foreclosure                                            17187\n",
              "Loan servicing, payments, escrow account                                             7955\n",
              "Application, originator, mortgage broker                                             2554\n",
              "Struggling to pay mortgage                                                           1651\n",
              "Trouble during payment process                                                       1406\n",
              "Settlement process and costs                                                         1081\n",
              "Credit decision / Underwriting                                                        858\n",
              "Other                                                                                 708\n",
              "Applying for a mortgage or refinancing an existing mortgage                           301\n",
              "Closing on a mortgage                                                                 225\n",
              "Incorrect information on your report                                                   75\n",
              "Applying for a mortgage                                                                53\n",
              "Problem with a credit reporting company's investigation into an existing problem       20\n",
              "Improper use of your report                                                             4\n",
              "Unable to get your credit report or credit score                                        3\n",
              "Name: Issue, dtype: int64"
            ]
          },
          "metadata": {
            "tags": []
          },
          "execution_count": 25
        }
      ]
    },
    {
      "metadata": {
        "id": "ihEUdbUnUvT_",
        "colab_type": "code",
        "colab": {
          "base_uri": "https://localhost:8080/",
          "height": 918
        },
        "outputId": "57ea0d92-f07f-4da3-a41c-88650b671af9"
      },
      "cell_type": "code",
      "source": [
        "data_req['State'].value_counts(dropna=False)"
      ],
      "execution_count": 26,
      "outputs": [
        {
          "output_type": "execute_result",
          "data": {
            "text/plain": [
              "CA    6641\n",
              "FL    3580\n",
              "NY    2429\n",
              "NJ    2159\n",
              "GA    1662\n",
              "TX    1628\n",
              "MD    1355\n",
              "PA    1293\n",
              "VA    1092\n",
              "NC    1050\n",
              "IL    1041\n",
              "WA     797\n",
              "AZ     744\n",
              "OH     660\n",
              "MA     619\n",
              "MI     531\n",
              "CO     522\n",
              "MN     517\n",
              "OR     465\n",
              "SC     389\n",
              "CT     388\n",
              "NV     364\n",
              "MO     346\n",
              "TN     331\n",
              "WI     329\n",
              "LA     257\n",
              "IN     250\n",
              "AL     248\n",
              "UT     194\n",
              "DC     184\n",
              "DE     171\n",
              "NH     159\n",
              "KY     147\n",
              "IA     132\n",
              "NM     125\n",
              "OK     124\n",
              "HI     116\n",
              "NE     112\n",
              "KS     108\n",
              "ID     108\n",
              "AR     104\n",
              "ME      96\n",
              "MS      89\n",
              "RI      87\n",
              "AK      74\n",
              "MT      59\n",
              "WV      58\n",
              "SD      43\n",
              "WY      33\n",
              "VT      33\n",
              "ND      32\n",
              "PR       6\n",
              "Name: State, dtype: int64"
            ]
          },
          "metadata": {
            "tags": []
          },
          "execution_count": 26
        }
      ]
    },
    {
      "metadata": {
        "id": "xytQcYEJq3pi",
        "colab_type": "code",
        "colab": {}
      },
      "cell_type": "code",
      "source": [
        ""
      ],
      "execution_count": 0,
      "outputs": []
    },
    {
      "metadata": {
        "id": "USZY_CTRU1-U",
        "colab_type": "code",
        "colab": {
          "base_uri": "https://localhost:8080/",
          "height": 136
        },
        "outputId": "f8d0e6af-f592-4939-fc32-eb48ad8837e9"
      },
      "cell_type": "code",
      "source": [
        "data_req['Submitted via'].value_counts(dropna=False)"
      ],
      "execution_count": 27,
      "outputs": [
        {
          "output_type": "execute_result",
          "data": {
            "text/plain": [
              "Web            18303\n",
              "Referral       11262\n",
              "Phone           1927\n",
              "Postal mail     1842\n",
              "Fax              727\n",
              "Email             20\n",
              "Name: Submitted via, dtype: int64"
            ]
          },
          "metadata": {
            "tags": []
          },
          "execution_count": 27
        }
      ]
    },
    {
      "metadata": {
        "id": "0H3FpR3yVTiU",
        "colab_type": "code",
        "colab": {
          "base_uri": "https://localhost:8080/",
          "height": 170
        },
        "outputId": "8e36ab1a-9fe2-450b-fc82-cea36279fc2a"
      },
      "cell_type": "code",
      "source": [
        "data_req['Company response to consumer'].value_counts(dropna=False)"
      ],
      "execution_count": 28,
      "outputs": [
        {
          "output_type": "execute_result",
          "data": {
            "text/plain": [
              "Closed with explanation            29158\n",
              "Closed without relief               1960\n",
              "Closed with non-monetary relief     1622\n",
              "Closed with monetary relief         1055\n",
              "In progress                          161\n",
              "Closed                                64\n",
              "Closed with relief                    57\n",
              "Untimely response                      4\n",
              "Name: Company response to consumer, dtype: int64"
            ]
          },
          "metadata": {
            "tags": []
          },
          "execution_count": 28
        }
      ]
    },
    {
      "metadata": {
        "id": "VsgpYY56VbDl",
        "colab_type": "code",
        "colab": {
          "base_uri": "https://localhost:8080/",
          "height": 1071
        },
        "outputId": "250b734f-5f9b-4e02-d687-f0fbb8cf8fe4"
      },
      "cell_type": "code",
      "source": [
        "data_req['Time Difference'].value_counts(dropna=False)"
      ],
      "execution_count": 29,
      "outputs": [
        {
          "output_type": "execute_result",
          "data": {
            "text/plain": [
              "0.000000    13869\n",
              "0.001923     6012\n",
              "0.003846     3376\n",
              "0.005769     2542\n",
              "0.007692     2347\n",
              "0.009615     2009\n",
              "0.011538     1293\n",
              "0.013462      832\n",
              "0.015385      286\n",
              "0.017308      142\n",
              "0.019231      142\n",
              "0.028846       95\n",
              "0.025000       91\n",
              "0.021154       85\n",
              "0.023077       85\n",
              "0.026923       68\n",
              "0.032692       63\n",
              "0.030769       43\n",
              "0.036538       38\n",
              "0.067308       36\n",
              "0.042308       34\n",
              "0.038462       32\n",
              "0.040385       32\n",
              "0.034615       30\n",
              "0.055769       24\n",
              "0.053846       24\n",
              "0.044231       23\n",
              "0.046154       22\n",
              "0.069231       22\n",
              "0.075000       22\n",
              "            ...  \n",
              "0.317308        1\n",
              "0.513462        1\n",
              "0.269231        1\n",
              "1.000000        1\n",
              "0.690385        1\n",
              "0.263462        1\n",
              "0.298077        1\n",
              "0.425000        1\n",
              "0.176923        1\n",
              "0.496154        1\n",
              "0.494231        1\n",
              "0.113462        1\n",
              "0.390385        1\n",
              "0.523077        1\n",
              "0.250000        1\n",
              "0.203846        1\n",
              "0.253846        1\n",
              "0.480769        1\n",
              "0.484615        1\n",
              "0.342308        1\n",
              "0.557692        1\n",
              "0.126923        1\n",
              "0.225000        1\n",
              "0.209615        1\n",
              "0.142308        1\n",
              "0.363462        1\n",
              "0.401923        1\n",
              "0.194231        1\n",
              "0.169231        1\n",
              "0.186538        1\n",
              "Name: Time Difference, Length: 148, dtype: int64"
            ]
          },
          "metadata": {
            "tags": []
          },
          "execution_count": 29
        }
      ]
    },
    {
      "metadata": {
        "id": "VVYWjSUuWK5W",
        "colab_type": "code",
        "colab": {}
      },
      "cell_type": "code",
      "source": [
        "data_req=data_req.dropna(how='any')  "
      ],
      "execution_count": 0,
      "outputs": []
    },
    {
      "metadata": {
        "id": "xzu-XLi5Y42B",
        "colab_type": "code",
        "colab": {
          "base_uri": "https://localhost:8080/",
          "height": 187
        },
        "outputId": "fdf1b444-6a83-4f32-ca90-24b147cd8d21"
      },
      "cell_type": "code",
      "source": [
        "data_req.info()"
      ],
      "execution_count": 31,
      "outputs": [
        {
          "output_type": "stream",
          "text": [
            "<class 'pandas.core.frame.DataFrame'>\n",
            "Int64Index: 34081 entries, 0 to 34080\n",
            "Data columns (total 5 columns):\n",
            "Issue                           34081 non-null object\n",
            "State                           34081 non-null object\n",
            "Submitted via                   34081 non-null object\n",
            "Company response to consumer    34081 non-null object\n",
            "Time Difference                 34081 non-null float64\n",
            "dtypes: float64(1), object(4)\n",
            "memory usage: 1.6+ MB\n"
          ],
          "name": "stdout"
        }
      ]
    },
    {
      "metadata": {
        "id": "wmKey6UyY9qd",
        "colab_type": "code",
        "colab": {}
      },
      "cell_type": "code",
      "source": [
        "#data_req[:5]['Total Days'] / np.timedelta64(1, 's')"
      ],
      "execution_count": 0,
      "outputs": []
    },
    {
      "metadata": {
        "id": "hwOfmmY_ZnaR",
        "colab_type": "code",
        "colab": {
          "base_uri": "https://localhost:8080/",
          "height": 187
        },
        "outputId": "75874c8a-e8b0-4b65-be99-d1485f26850b"
      },
      "cell_type": "code",
      "source": [
        "data_req.info()"
      ],
      "execution_count": 33,
      "outputs": [
        {
          "output_type": "stream",
          "text": [
            "<class 'pandas.core.frame.DataFrame'>\n",
            "Int64Index: 34081 entries, 0 to 34080\n",
            "Data columns (total 5 columns):\n",
            "Issue                           34081 non-null object\n",
            "State                           34081 non-null object\n",
            "Submitted via                   34081 non-null object\n",
            "Company response to consumer    34081 non-null object\n",
            "Time Difference                 34081 non-null float64\n",
            "dtypes: float64(1), object(4)\n",
            "memory usage: 1.6+ MB\n"
          ],
          "name": "stdout"
        }
      ]
    },
    {
      "metadata": {
        "id": "V5vyI8aTekLn",
        "colab_type": "code",
        "colab": {
          "base_uri": "https://localhost:8080/",
          "height": 343
        },
        "outputId": "baddf879-9424-43d0-93e8-df8e5b6f1b29"
      },
      "cell_type": "code",
      "source": [
        "dumy=pd.get_dummies(data_req['Issue'])\n",
        "dumy.head()"
      ],
      "execution_count": 34,
      "outputs": [
        {
          "output_type": "execute_result",
          "data": {
            "text/html": [
              "<div>\n",
              "<style scoped>\n",
              "    .dataframe tbody tr th:only-of-type {\n",
              "        vertical-align: middle;\n",
              "    }\n",
              "\n",
              "    .dataframe tbody tr th {\n",
              "        vertical-align: top;\n",
              "    }\n",
              "\n",
              "    .dataframe thead th {\n",
              "        text-align: right;\n",
              "    }\n",
              "</style>\n",
              "<table border=\"1\" class=\"dataframe\">\n",
              "  <thead>\n",
              "    <tr style=\"text-align: right;\">\n",
              "      <th></th>\n",
              "      <th>Application, originator, mortgage broker</th>\n",
              "      <th>Applying for a mortgage</th>\n",
              "      <th>Applying for a mortgage or refinancing an existing mortgage</th>\n",
              "      <th>Closing on a mortgage</th>\n",
              "      <th>Credit decision / Underwriting</th>\n",
              "      <th>Improper use of your report</th>\n",
              "      <th>Incorrect information on your report</th>\n",
              "      <th>Loan modification,collection,foreclosure</th>\n",
              "      <th>Loan servicing, payments, escrow account</th>\n",
              "      <th>Other</th>\n",
              "      <th>Problem with a credit reporting company's investigation into an existing problem</th>\n",
              "      <th>Settlement process and costs</th>\n",
              "      <th>Struggling to pay mortgage</th>\n",
              "      <th>Trouble during payment process</th>\n",
              "      <th>Unable to get your credit report or credit score</th>\n",
              "    </tr>\n",
              "  </thead>\n",
              "  <tbody>\n",
              "    <tr>\n",
              "      <th>0</th>\n",
              "      <td>0</td>\n",
              "      <td>0</td>\n",
              "      <td>0</td>\n",
              "      <td>0</td>\n",
              "      <td>0</td>\n",
              "      <td>0</td>\n",
              "      <td>0</td>\n",
              "      <td>1</td>\n",
              "      <td>0</td>\n",
              "      <td>0</td>\n",
              "      <td>0</td>\n",
              "      <td>0</td>\n",
              "      <td>0</td>\n",
              "      <td>0</td>\n",
              "      <td>0</td>\n",
              "    </tr>\n",
              "    <tr>\n",
              "      <th>1</th>\n",
              "      <td>0</td>\n",
              "      <td>0</td>\n",
              "      <td>0</td>\n",
              "      <td>0</td>\n",
              "      <td>0</td>\n",
              "      <td>0</td>\n",
              "      <td>0</td>\n",
              "      <td>1</td>\n",
              "      <td>0</td>\n",
              "      <td>0</td>\n",
              "      <td>0</td>\n",
              "      <td>0</td>\n",
              "      <td>0</td>\n",
              "      <td>0</td>\n",
              "      <td>0</td>\n",
              "    </tr>\n",
              "    <tr>\n",
              "      <th>2</th>\n",
              "      <td>1</td>\n",
              "      <td>0</td>\n",
              "      <td>0</td>\n",
              "      <td>0</td>\n",
              "      <td>0</td>\n",
              "      <td>0</td>\n",
              "      <td>0</td>\n",
              "      <td>0</td>\n",
              "      <td>0</td>\n",
              "      <td>0</td>\n",
              "      <td>0</td>\n",
              "      <td>0</td>\n",
              "      <td>0</td>\n",
              "      <td>0</td>\n",
              "      <td>0</td>\n",
              "    </tr>\n",
              "    <tr>\n",
              "      <th>3</th>\n",
              "      <td>0</td>\n",
              "      <td>0</td>\n",
              "      <td>0</td>\n",
              "      <td>0</td>\n",
              "      <td>0</td>\n",
              "      <td>0</td>\n",
              "      <td>0</td>\n",
              "      <td>0</td>\n",
              "      <td>0</td>\n",
              "      <td>0</td>\n",
              "      <td>0</td>\n",
              "      <td>1</td>\n",
              "      <td>0</td>\n",
              "      <td>0</td>\n",
              "      <td>0</td>\n",
              "    </tr>\n",
              "    <tr>\n",
              "      <th>4</th>\n",
              "      <td>1</td>\n",
              "      <td>0</td>\n",
              "      <td>0</td>\n",
              "      <td>0</td>\n",
              "      <td>0</td>\n",
              "      <td>0</td>\n",
              "      <td>0</td>\n",
              "      <td>0</td>\n",
              "      <td>0</td>\n",
              "      <td>0</td>\n",
              "      <td>0</td>\n",
              "      <td>0</td>\n",
              "      <td>0</td>\n",
              "      <td>0</td>\n",
              "      <td>0</td>\n",
              "    </tr>\n",
              "  </tbody>\n",
              "</table>\n",
              "</div>"
            ],
            "text/plain": [
              "   Application, originator, mortgage broker  Applying for a mortgage  \\\n",
              "0                                         0                        0   \n",
              "1                                         0                        0   \n",
              "2                                         1                        0   \n",
              "3                                         0                        0   \n",
              "4                                         1                        0   \n",
              "\n",
              "   Applying for a mortgage or refinancing an existing mortgage  \\\n",
              "0                                                  0             \n",
              "1                                                  0             \n",
              "2                                                  0             \n",
              "3                                                  0             \n",
              "4                                                  0             \n",
              "\n",
              "   Closing on a mortgage  Credit decision / Underwriting  \\\n",
              "0                      0                               0   \n",
              "1                      0                               0   \n",
              "2                      0                               0   \n",
              "3                      0                               0   \n",
              "4                      0                               0   \n",
              "\n",
              "   Improper use of your report  Incorrect information on your report  \\\n",
              "0                            0                                     0   \n",
              "1                            0                                     0   \n",
              "2                            0                                     0   \n",
              "3                            0                                     0   \n",
              "4                            0                                     0   \n",
              "\n",
              "   Loan modification,collection,foreclosure  \\\n",
              "0                                         1   \n",
              "1                                         1   \n",
              "2                                         0   \n",
              "3                                         0   \n",
              "4                                         0   \n",
              "\n",
              "   Loan servicing, payments, escrow account  Other  \\\n",
              "0                                         0      0   \n",
              "1                                         0      0   \n",
              "2                                         0      0   \n",
              "3                                         0      0   \n",
              "4                                         0      0   \n",
              "\n",
              "   Problem with a credit reporting company's investigation into an existing problem  \\\n",
              "0                                                  0                                  \n",
              "1                                                  0                                  \n",
              "2                                                  0                                  \n",
              "3                                                  0                                  \n",
              "4                                                  0                                  \n",
              "\n",
              "   Settlement process and costs  Struggling to pay mortgage  \\\n",
              "0                             0                           0   \n",
              "1                             0                           0   \n",
              "2                             0                           0   \n",
              "3                             1                           0   \n",
              "4                             0                           0   \n",
              "\n",
              "   Trouble during payment process  \\\n",
              "0                               0   \n",
              "1                               0   \n",
              "2                               0   \n",
              "3                               0   \n",
              "4                               0   \n",
              "\n",
              "   Unable to get your credit report or credit score  \n",
              "0                                                 0  \n",
              "1                                                 0  \n",
              "2                                                 0  \n",
              "3                                                 0  \n",
              "4                                                 0  "
            ]
          },
          "metadata": {
            "tags": []
          },
          "execution_count": 34
        }
      ]
    },
    {
      "metadata": {
        "id": "4pOTiC_6ekge",
        "colab_type": "code",
        "colab": {
          "base_uri": "https://localhost:8080/",
          "height": 34
        },
        "outputId": "73811663-2cb8-4138-c6c7-12f40e395fa5"
      },
      "cell_type": "code",
      "source": [
        "data_req_new = pd.concat([data_req,dumy],axis=1)\n",
        "data_req_new.shape"
      ],
      "execution_count": 35,
      "outputs": [
        {
          "output_type": "execute_result",
          "data": {
            "text/plain": [
              "(34081, 20)"
            ]
          },
          "metadata": {
            "tags": []
          },
          "execution_count": 35
        }
      ]
    },
    {
      "metadata": {
        "id": "JYD7wapMek0u",
        "colab_type": "code",
        "colab": {
          "base_uri": "https://localhost:8080/",
          "height": 233
        },
        "outputId": "628105c8-7070-4e44-c6b8-4bdb2d6bf37b"
      },
      "cell_type": "code",
      "source": [
        "dumy=pd.get_dummies(data_req['State'])\n",
        "dumy.head()"
      ],
      "execution_count": 36,
      "outputs": [
        {
          "output_type": "execute_result",
          "data": {
            "text/html": [
              "<div>\n",
              "<style scoped>\n",
              "    .dataframe tbody tr th:only-of-type {\n",
              "        vertical-align: middle;\n",
              "    }\n",
              "\n",
              "    .dataframe tbody tr th {\n",
              "        vertical-align: top;\n",
              "    }\n",
              "\n",
              "    .dataframe thead th {\n",
              "        text-align: right;\n",
              "    }\n",
              "</style>\n",
              "<table border=\"1\" class=\"dataframe\">\n",
              "  <thead>\n",
              "    <tr style=\"text-align: right;\">\n",
              "      <th></th>\n",
              "      <th>AK</th>\n",
              "      <th>AL</th>\n",
              "      <th>AR</th>\n",
              "      <th>AZ</th>\n",
              "      <th>CA</th>\n",
              "      <th>CO</th>\n",
              "      <th>CT</th>\n",
              "      <th>DC</th>\n",
              "      <th>DE</th>\n",
              "      <th>FL</th>\n",
              "      <th>...</th>\n",
              "      <th>SD</th>\n",
              "      <th>TN</th>\n",
              "      <th>TX</th>\n",
              "      <th>UT</th>\n",
              "      <th>VA</th>\n",
              "      <th>VT</th>\n",
              "      <th>WA</th>\n",
              "      <th>WI</th>\n",
              "      <th>WV</th>\n",
              "      <th>WY</th>\n",
              "    </tr>\n",
              "  </thead>\n",
              "  <tbody>\n",
              "    <tr>\n",
              "      <th>0</th>\n",
              "      <td>0</td>\n",
              "      <td>0</td>\n",
              "      <td>0</td>\n",
              "      <td>0</td>\n",
              "      <td>0</td>\n",
              "      <td>0</td>\n",
              "      <td>0</td>\n",
              "      <td>0</td>\n",
              "      <td>0</td>\n",
              "      <td>0</td>\n",
              "      <td>...</td>\n",
              "      <td>0</td>\n",
              "      <td>0</td>\n",
              "      <td>0</td>\n",
              "      <td>0</td>\n",
              "      <td>0</td>\n",
              "      <td>0</td>\n",
              "      <td>0</td>\n",
              "      <td>0</td>\n",
              "      <td>0</td>\n",
              "      <td>0</td>\n",
              "    </tr>\n",
              "    <tr>\n",
              "      <th>1</th>\n",
              "      <td>0</td>\n",
              "      <td>0</td>\n",
              "      <td>0</td>\n",
              "      <td>0</td>\n",
              "      <td>0</td>\n",
              "      <td>0</td>\n",
              "      <td>0</td>\n",
              "      <td>0</td>\n",
              "      <td>0</td>\n",
              "      <td>0</td>\n",
              "      <td>...</td>\n",
              "      <td>0</td>\n",
              "      <td>0</td>\n",
              "      <td>0</td>\n",
              "      <td>0</td>\n",
              "      <td>0</td>\n",
              "      <td>0</td>\n",
              "      <td>0</td>\n",
              "      <td>0</td>\n",
              "      <td>0</td>\n",
              "      <td>0</td>\n",
              "    </tr>\n",
              "    <tr>\n",
              "      <th>2</th>\n",
              "      <td>0</td>\n",
              "      <td>0</td>\n",
              "      <td>0</td>\n",
              "      <td>0</td>\n",
              "      <td>0</td>\n",
              "      <td>0</td>\n",
              "      <td>0</td>\n",
              "      <td>0</td>\n",
              "      <td>0</td>\n",
              "      <td>0</td>\n",
              "      <td>...</td>\n",
              "      <td>0</td>\n",
              "      <td>0</td>\n",
              "      <td>0</td>\n",
              "      <td>0</td>\n",
              "      <td>1</td>\n",
              "      <td>0</td>\n",
              "      <td>0</td>\n",
              "      <td>0</td>\n",
              "      <td>0</td>\n",
              "      <td>0</td>\n",
              "    </tr>\n",
              "    <tr>\n",
              "      <th>3</th>\n",
              "      <td>0</td>\n",
              "      <td>0</td>\n",
              "      <td>0</td>\n",
              "      <td>0</td>\n",
              "      <td>1</td>\n",
              "      <td>0</td>\n",
              "      <td>0</td>\n",
              "      <td>0</td>\n",
              "      <td>0</td>\n",
              "      <td>0</td>\n",
              "      <td>...</td>\n",
              "      <td>0</td>\n",
              "      <td>0</td>\n",
              "      <td>0</td>\n",
              "      <td>0</td>\n",
              "      <td>0</td>\n",
              "      <td>0</td>\n",
              "      <td>0</td>\n",
              "      <td>0</td>\n",
              "      <td>0</td>\n",
              "      <td>0</td>\n",
              "    </tr>\n",
              "    <tr>\n",
              "      <th>4</th>\n",
              "      <td>0</td>\n",
              "      <td>0</td>\n",
              "      <td>0</td>\n",
              "      <td>0</td>\n",
              "      <td>0</td>\n",
              "      <td>0</td>\n",
              "      <td>0</td>\n",
              "      <td>0</td>\n",
              "      <td>0</td>\n",
              "      <td>0</td>\n",
              "      <td>...</td>\n",
              "      <td>1</td>\n",
              "      <td>0</td>\n",
              "      <td>0</td>\n",
              "      <td>0</td>\n",
              "      <td>0</td>\n",
              "      <td>0</td>\n",
              "      <td>0</td>\n",
              "      <td>0</td>\n",
              "      <td>0</td>\n",
              "      <td>0</td>\n",
              "    </tr>\n",
              "  </tbody>\n",
              "</table>\n",
              "<p>5 rows × 52 columns</p>\n",
              "</div>"
            ],
            "text/plain": [
              "   AK  AL  AR  AZ  CA  CO  CT  DC  DE  FL ...  SD  TN  TX  UT  VA  VT  WA  WI  \\\n",
              "0   0   0   0   0   0   0   0   0   0   0 ...   0   0   0   0   0   0   0   0   \n",
              "1   0   0   0   0   0   0   0   0   0   0 ...   0   0   0   0   0   0   0   0   \n",
              "2   0   0   0   0   0   0   0   0   0   0 ...   0   0   0   0   1   0   0   0   \n",
              "3   0   0   0   0   1   0   0   0   0   0 ...   0   0   0   0   0   0   0   0   \n",
              "4   0   0   0   0   0   0   0   0   0   0 ...   1   0   0   0   0   0   0   0   \n",
              "\n",
              "   WV  WY  \n",
              "0   0   0  \n",
              "1   0   0  \n",
              "2   0   0  \n",
              "3   0   0  \n",
              "4   0   0  \n",
              "\n",
              "[5 rows x 52 columns]"
            ]
          },
          "metadata": {
            "tags": []
          },
          "execution_count": 36
        }
      ]
    },
    {
      "metadata": {
        "id": "jPcH1IJ-elGV",
        "colab_type": "code",
        "colab": {
          "base_uri": "https://localhost:8080/",
          "height": 34
        },
        "outputId": "0c7d235e-67a7-43e9-dde3-c14de56968cb"
      },
      "cell_type": "code",
      "source": [
        "data_req_new = pd.concat([data_req_new,dumy],axis=1)\n",
        "data_req_new.shape"
      ],
      "execution_count": 37,
      "outputs": [
        {
          "output_type": "execute_result",
          "data": {
            "text/plain": [
              "(34081, 72)"
            ]
          },
          "metadata": {
            "tags": []
          },
          "execution_count": 37
        }
      ]
    },
    {
      "metadata": {
        "id": "16uvqY9lelX-",
        "colab_type": "code",
        "colab": {
          "base_uri": "https://localhost:8080/",
          "height": 204
        },
        "outputId": "c715ef3e-300c-498b-e45a-a6d7abb3274d"
      },
      "cell_type": "code",
      "source": [
        "dumy=pd.get_dummies(data_req['Submitted via'])\n",
        "dumy.head()"
      ],
      "execution_count": 38,
      "outputs": [
        {
          "output_type": "execute_result",
          "data": {
            "text/html": [
              "<div>\n",
              "<style scoped>\n",
              "    .dataframe tbody tr th:only-of-type {\n",
              "        vertical-align: middle;\n",
              "    }\n",
              "\n",
              "    .dataframe tbody tr th {\n",
              "        vertical-align: top;\n",
              "    }\n",
              "\n",
              "    .dataframe thead th {\n",
              "        text-align: right;\n",
              "    }\n",
              "</style>\n",
              "<table border=\"1\" class=\"dataframe\">\n",
              "  <thead>\n",
              "    <tr style=\"text-align: right;\">\n",
              "      <th></th>\n",
              "      <th>Email</th>\n",
              "      <th>Fax</th>\n",
              "      <th>Phone</th>\n",
              "      <th>Postal mail</th>\n",
              "      <th>Referral</th>\n",
              "      <th>Web</th>\n",
              "    </tr>\n",
              "  </thead>\n",
              "  <tbody>\n",
              "    <tr>\n",
              "      <th>0</th>\n",
              "      <td>0</td>\n",
              "      <td>0</td>\n",
              "      <td>0</td>\n",
              "      <td>0</td>\n",
              "      <td>0</td>\n",
              "      <td>1</td>\n",
              "    </tr>\n",
              "    <tr>\n",
              "      <th>1</th>\n",
              "      <td>0</td>\n",
              "      <td>0</td>\n",
              "      <td>0</td>\n",
              "      <td>0</td>\n",
              "      <td>1</td>\n",
              "      <td>0</td>\n",
              "    </tr>\n",
              "    <tr>\n",
              "      <th>2</th>\n",
              "      <td>0</td>\n",
              "      <td>0</td>\n",
              "      <td>0</td>\n",
              "      <td>0</td>\n",
              "      <td>0</td>\n",
              "      <td>1</td>\n",
              "    </tr>\n",
              "    <tr>\n",
              "      <th>3</th>\n",
              "      <td>0</td>\n",
              "      <td>0</td>\n",
              "      <td>0</td>\n",
              "      <td>0</td>\n",
              "      <td>0</td>\n",
              "      <td>1</td>\n",
              "    </tr>\n",
              "    <tr>\n",
              "      <th>4</th>\n",
              "      <td>0</td>\n",
              "      <td>0</td>\n",
              "      <td>0</td>\n",
              "      <td>0</td>\n",
              "      <td>0</td>\n",
              "      <td>1</td>\n",
              "    </tr>\n",
              "  </tbody>\n",
              "</table>\n",
              "</div>"
            ],
            "text/plain": [
              "   Email  Fax  Phone  Postal mail  Referral  Web\n",
              "0      0    0      0            0         0    1\n",
              "1      0    0      0            0         1    0\n",
              "2      0    0      0            0         0    1\n",
              "3      0    0      0            0         0    1\n",
              "4      0    0      0            0         0    1"
            ]
          },
          "metadata": {
            "tags": []
          },
          "execution_count": 38
        }
      ]
    },
    {
      "metadata": {
        "id": "UhQ66Af4elpF",
        "colab_type": "code",
        "colab": {
          "base_uri": "https://localhost:8080/",
          "height": 34
        },
        "outputId": "71dc9ac3-c7dc-4ca8-d6dc-e5cad5a61fb2"
      },
      "cell_type": "code",
      "source": [
        "data_req_new = pd.concat([data_req_new,dumy],axis=1)\n",
        "data_req_new.shape"
      ],
      "execution_count": 39,
      "outputs": [
        {
          "output_type": "execute_result",
          "data": {
            "text/plain": [
              "(34081, 78)"
            ]
          },
          "metadata": {
            "tags": []
          },
          "execution_count": 39
        }
      ]
    },
    {
      "metadata": {
        "id": "hMptGA6Zel89",
        "colab_type": "code",
        "colab": {
          "base_uri": "https://localhost:8080/",
          "height": 221
        },
        "outputId": "b218850e-48ee-4e75-8d26-bc616ce1e0f6"
      },
      "cell_type": "code",
      "source": [
        "dumy=pd.get_dummies(data_req['Company response to consumer'])\n",
        "dumy.head()"
      ],
      "execution_count": 40,
      "outputs": [
        {
          "output_type": "execute_result",
          "data": {
            "text/html": [
              "<div>\n",
              "<style scoped>\n",
              "    .dataframe tbody tr th:only-of-type {\n",
              "        vertical-align: middle;\n",
              "    }\n",
              "\n",
              "    .dataframe tbody tr th {\n",
              "        vertical-align: top;\n",
              "    }\n",
              "\n",
              "    .dataframe thead th {\n",
              "        text-align: right;\n",
              "    }\n",
              "</style>\n",
              "<table border=\"1\" class=\"dataframe\">\n",
              "  <thead>\n",
              "    <tr style=\"text-align: right;\">\n",
              "      <th></th>\n",
              "      <th>Closed</th>\n",
              "      <th>Closed with explanation</th>\n",
              "      <th>Closed with monetary relief</th>\n",
              "      <th>Closed with non-monetary relief</th>\n",
              "      <th>Closed with relief</th>\n",
              "      <th>Closed without relief</th>\n",
              "      <th>In progress</th>\n",
              "      <th>Untimely response</th>\n",
              "    </tr>\n",
              "  </thead>\n",
              "  <tbody>\n",
              "    <tr>\n",
              "      <th>0</th>\n",
              "      <td>0</td>\n",
              "      <td>1</td>\n",
              "      <td>0</td>\n",
              "      <td>0</td>\n",
              "      <td>0</td>\n",
              "      <td>0</td>\n",
              "      <td>0</td>\n",
              "      <td>0</td>\n",
              "    </tr>\n",
              "    <tr>\n",
              "      <th>1</th>\n",
              "      <td>0</td>\n",
              "      <td>1</td>\n",
              "      <td>0</td>\n",
              "      <td>0</td>\n",
              "      <td>0</td>\n",
              "      <td>0</td>\n",
              "      <td>0</td>\n",
              "      <td>0</td>\n",
              "    </tr>\n",
              "    <tr>\n",
              "      <th>2</th>\n",
              "      <td>0</td>\n",
              "      <td>1</td>\n",
              "      <td>0</td>\n",
              "      <td>0</td>\n",
              "      <td>0</td>\n",
              "      <td>0</td>\n",
              "      <td>0</td>\n",
              "      <td>0</td>\n",
              "    </tr>\n",
              "    <tr>\n",
              "      <th>3</th>\n",
              "      <td>0</td>\n",
              "      <td>1</td>\n",
              "      <td>0</td>\n",
              "      <td>0</td>\n",
              "      <td>0</td>\n",
              "      <td>0</td>\n",
              "      <td>0</td>\n",
              "      <td>0</td>\n",
              "    </tr>\n",
              "    <tr>\n",
              "      <th>4</th>\n",
              "      <td>0</td>\n",
              "      <td>1</td>\n",
              "      <td>0</td>\n",
              "      <td>0</td>\n",
              "      <td>0</td>\n",
              "      <td>0</td>\n",
              "      <td>0</td>\n",
              "      <td>0</td>\n",
              "    </tr>\n",
              "  </tbody>\n",
              "</table>\n",
              "</div>"
            ],
            "text/plain": [
              "   Closed  Closed with explanation  Closed with monetary relief  \\\n",
              "0       0                        1                            0   \n",
              "1       0                        1                            0   \n",
              "2       0                        1                            0   \n",
              "3       0                        1                            0   \n",
              "4       0                        1                            0   \n",
              "\n",
              "   Closed with non-monetary relief  Closed with relief  Closed without relief  \\\n",
              "0                                0                   0                      0   \n",
              "1                                0                   0                      0   \n",
              "2                                0                   0                      0   \n",
              "3                                0                   0                      0   \n",
              "4                                0                   0                      0   \n",
              "\n",
              "   In progress  Untimely response  \n",
              "0            0                  0  \n",
              "1            0                  0  \n",
              "2            0                  0  \n",
              "3            0                  0  \n",
              "4            0                  0  "
            ]
          },
          "metadata": {
            "tags": []
          },
          "execution_count": 40
        }
      ]
    },
    {
      "metadata": {
        "id": "thY4GjzPemjl",
        "colab_type": "code",
        "colab": {
          "base_uri": "https://localhost:8080/",
          "height": 34
        },
        "outputId": "5f9a4c56-2050-449b-dbea-e4d5f433c024"
      },
      "cell_type": "code",
      "source": [
        "data_req_new = pd.concat([data_req_new,dumy],axis=1)\n",
        "data_req_new.shape"
      ],
      "execution_count": 41,
      "outputs": [
        {
          "output_type": "execute_result",
          "data": {
            "text/plain": [
              "(34081, 86)"
            ]
          },
          "metadata": {
            "tags": []
          },
          "execution_count": 41
        }
      ]
    },
    {
      "metadata": {
        "id": "Eqkyccekem3V",
        "colab_type": "code",
        "colab": {
          "base_uri": "https://localhost:8080/",
          "height": 34
        },
        "outputId": "2bf3e74f-e5a4-4089-e18e-c7fc24dec549"
      },
      "cell_type": "code",
      "source": [
        "data_req_new=data_req_new.drop(['Issue','State','Submitted via','Company response to consumer'], axis=1)\n",
        "data_req_new.shape\n"
      ],
      "execution_count": 42,
      "outputs": [
        {
          "output_type": "execute_result",
          "data": {
            "text/plain": [
              "(34081, 82)"
            ]
          },
          "metadata": {
            "tags": []
          },
          "execution_count": 42
        }
      ]
    },
    {
      "metadata": {
        "id": "ZQu9UoRU_L_G",
        "colab_type": "code",
        "colab": {
          "base_uri": "https://localhost:8080/",
          "height": 1496
        },
        "outputId": "7391ed5a-053b-4594-f1d7-baa30c2736d6"
      },
      "cell_type": "code",
      "source": [
        "data_req_new.info()"
      ],
      "execution_count": 43,
      "outputs": [
        {
          "output_type": "stream",
          "text": [
            "<class 'pandas.core.frame.DataFrame'>\n",
            "Int64Index: 34081 entries, 0 to 34080\n",
            "Data columns (total 82 columns):\n",
            "Time Difference                                                                     34081 non-null float64\n",
            "Application, originator, mortgage broker                                            34081 non-null uint8\n",
            "Applying for a mortgage                                                             34081 non-null uint8\n",
            "Applying for a mortgage or refinancing an existing mortgage                         34081 non-null uint8\n",
            "Closing on a mortgage                                                               34081 non-null uint8\n",
            "Credit decision / Underwriting                                                      34081 non-null uint8\n",
            "Improper use of your report                                                         34081 non-null uint8\n",
            "Incorrect information on your report                                                34081 non-null uint8\n",
            "Loan modification,collection,foreclosure                                            34081 non-null uint8\n",
            "Loan servicing, payments, escrow account                                            34081 non-null uint8\n",
            "Other                                                                               34081 non-null uint8\n",
            "Problem with a credit reporting company's investigation into an existing problem    34081 non-null uint8\n",
            "Settlement process and costs                                                        34081 non-null uint8\n",
            "Struggling to pay mortgage                                                          34081 non-null uint8\n",
            "Trouble during payment process                                                      34081 non-null uint8\n",
            "Unable to get your credit report or credit score                                    34081 non-null uint8\n",
            "AK                                                                                  34081 non-null uint8\n",
            "AL                                                                                  34081 non-null uint8\n",
            "AR                                                                                  34081 non-null uint8\n",
            "AZ                                                                                  34081 non-null uint8\n",
            "CA                                                                                  34081 non-null uint8\n",
            "CO                                                                                  34081 non-null uint8\n",
            "CT                                                                                  34081 non-null uint8\n",
            "DC                                                                                  34081 non-null uint8\n",
            "DE                                                                                  34081 non-null uint8\n",
            "FL                                                                                  34081 non-null uint8\n",
            "GA                                                                                  34081 non-null uint8\n",
            "HI                                                                                  34081 non-null uint8\n",
            "IA                                                                                  34081 non-null uint8\n",
            "ID                                                                                  34081 non-null uint8\n",
            "IL                                                                                  34081 non-null uint8\n",
            "IN                                                                                  34081 non-null uint8\n",
            "KS                                                                                  34081 non-null uint8\n",
            "KY                                                                                  34081 non-null uint8\n",
            "LA                                                                                  34081 non-null uint8\n",
            "MA                                                                                  34081 non-null uint8\n",
            "MD                                                                                  34081 non-null uint8\n",
            "ME                                                                                  34081 non-null uint8\n",
            "MI                                                                                  34081 non-null uint8\n",
            "MN                                                                                  34081 non-null uint8\n",
            "MO                                                                                  34081 non-null uint8\n",
            "MS                                                                                  34081 non-null uint8\n",
            "MT                                                                                  34081 non-null uint8\n",
            "NC                                                                                  34081 non-null uint8\n",
            "ND                                                                                  34081 non-null uint8\n",
            "NE                                                                                  34081 non-null uint8\n",
            "NH                                                                                  34081 non-null uint8\n",
            "NJ                                                                                  34081 non-null uint8\n",
            "NM                                                                                  34081 non-null uint8\n",
            "NV                                                                                  34081 non-null uint8\n",
            "NY                                                                                  34081 non-null uint8\n",
            "OH                                                                                  34081 non-null uint8\n",
            "OK                                                                                  34081 non-null uint8\n",
            "OR                                                                                  34081 non-null uint8\n",
            "PA                                                                                  34081 non-null uint8\n",
            "PR                                                                                  34081 non-null uint8\n",
            "RI                                                                                  34081 non-null uint8\n",
            "SC                                                                                  34081 non-null uint8\n",
            "SD                                                                                  34081 non-null uint8\n",
            "TN                                                                                  34081 non-null uint8\n",
            "TX                                                                                  34081 non-null uint8\n",
            "UT                                                                                  34081 non-null uint8\n",
            "VA                                                                                  34081 non-null uint8\n",
            "VT                                                                                  34081 non-null uint8\n",
            "WA                                                                                  34081 non-null uint8\n",
            "WI                                                                                  34081 non-null uint8\n",
            "WV                                                                                  34081 non-null uint8\n",
            "WY                                                                                  34081 non-null uint8\n",
            "Email                                                                               34081 non-null uint8\n",
            "Fax                                                                                 34081 non-null uint8\n",
            "Phone                                                                               34081 non-null uint8\n",
            "Postal mail                                                                         34081 non-null uint8\n",
            "Referral                                                                            34081 non-null uint8\n",
            "Web                                                                                 34081 non-null uint8\n",
            "Closed                                                                              34081 non-null uint8\n",
            "Closed with explanation                                                             34081 non-null uint8\n",
            "Closed with monetary relief                                                         34081 non-null uint8\n",
            "Closed with non-monetary relief                                                     34081 non-null uint8\n",
            "Closed with relief                                                                  34081 non-null uint8\n",
            "Closed without relief                                                               34081 non-null uint8\n",
            "In progress                                                                         34081 non-null uint8\n",
            "Untimely response                                                                   34081 non-null uint8\n",
            "dtypes: float64(1), uint8(81)\n",
            "memory usage: 3.2 MB\n"
          ],
          "name": "stdout"
        }
      ]
    },
    {
      "metadata": {
        "id": "U1vZhBzten_d",
        "colab_type": "code",
        "colab": {
          "base_uri": "https://localhost:8080/",
          "height": 136
        },
        "outputId": "b85fc070-8b48-4d93-bd20-9432ba3fda5a"
      },
      "cell_type": "code",
      "source": [
        "!pip install kmodes"
      ],
      "execution_count": 44,
      "outputs": [
        {
          "output_type": "stream",
          "text": [
            "Collecting kmodes\n",
            "  Downloading https://files.pythonhosted.org/packages/1a/d5/54e0efa2ddf33234761f8c35471f4a2280bb4cef44fd39fa08f1e663946a/kmodes-0.9-py2.py3-none-any.whl\n",
            "Requirement already satisfied: scipy>=0.13.3 in /usr/local/lib/python3.6/dist-packages (from kmodes) (0.19.1)\n",
            "Requirement already satisfied: scikit-learn<0.20.0,>=0.19.0 in /usr/local/lib/python3.6/dist-packages (from kmodes) (0.19.2)\n",
            "Requirement already satisfied: numpy>=1.10.4 in /usr/local/lib/python3.6/dist-packages (from kmodes) (1.14.5)\n",
            "Installing collected packages: kmodes\n",
            "Successfully installed kmodes-0.9\n"
          ],
          "name": "stdout"
        }
      ]
    },
    {
      "metadata": {
        "id": "AZYgFcLVeoSV",
        "colab_type": "code",
        "colab": {}
      },
      "cell_type": "code",
      "source": [
        "from kmodes.kprototypes import KPrototypes\n"
      ],
      "execution_count": 0,
      "outputs": []
    },
    {
      "metadata": {
        "id": "pD1bpd8ejtbN",
        "colab_type": "code",
        "colab": {}
      },
      "cell_type": "code",
      "source": [
        "km = KPrototypes(n_clusters=10, init='Huang', n_init=3, verbose=1)"
      ],
      "execution_count": 0,
      "outputs": []
    },
    {
      "metadata": {
        "id": "qXH97qFGjtwE",
        "colab_type": "code",
        "colab": {
          "base_uri": "https://localhost:8080/",
          "height": 425
        },
        "outputId": "d9a30a2d-587b-4073-aeeb-7a38036dc727"
      },
      "cell_type": "code",
      "source": [
        "#clusters = km.fit_predict(data_req_new)\n",
        "clusters = km.fit_predict(data_req.as_matrix(), categorical=list(range(0,4)))"
      ],
      "execution_count": 55,
      "outputs": [
        {
          "output_type": "stream",
          "text": [
            "Init: initializing centroids\n",
            "Init: initializing clusters\n",
            "Starting iterations...\n",
            "Run: 1, iteration: 1/100, moves: 8953, ncost: 390.75123683185876\n",
            "Run: 1, iteration: 2/100, moves: 2287, ncost: 390.50734654954863\n",
            "Run: 1, iteration: 3/100, moves: 677, ncost: 390.48637274019717\n",
            "Run: 1, iteration: 4/100, moves: 34, ncost: 390.48629071167744\n",
            "Run: 1, iteration: 5/100, moves: 0, ncost: 390.48629071167744\n",
            "Init: initializing centroids\n",
            "Init: initializing clusters\n",
            "Starting iterations...\n",
            "Run: 2, iteration: 1/100, moves: 7633, ncost: 379.17327185915195\n",
            "Run: 2, iteration: 2/100, moves: 2747, ncost: 379.1686231730948\n",
            "Run: 2, iteration: 3/100, moves: 93, ncost: 379.1686207250499\n",
            "Run: 2, iteration: 4/100, moves: 0, ncost: 379.1686207250499\n",
            "Init: initializing centroids\n",
            "Init: initializing clusters\n",
            "Starting iterations...\n",
            "Run: 3, iteration: 1/100, moves: 15578, ncost: 380.44429988633806\n",
            "Run: 3, iteration: 2/100, moves: 4917, ncost: 380.402855367889\n",
            "Run: 3, iteration: 3/100, moves: 425, ncost: 380.4005872817568\n",
            "Run: 3, iteration: 4/100, moves: 33, ncost: 380.4005617029537\n",
            "Run: 3, iteration: 5/100, moves: 0, ncost: 380.4005617029537\n",
            "Best run was number 2\n"
          ],
          "name": "stdout"
        }
      ]
    },
    {
      "metadata": {
        "id": "ENqVdMQFjuMU",
        "colab_type": "code",
        "colab": {
          "base_uri": "https://localhost:8080/",
          "height": 510
        },
        "outputId": "4e5353d6-0ccf-45e0-8bec-9b328cbd13cb"
      },
      "cell_type": "code",
      "source": [
        "print(km.cluster_centroids_)"
      ],
      "execution_count": 56,
      "outputs": [
        {
          "output_type": "stream",
          "text": [
            "[array([[0.00234393],\n",
            "       [0.00140676],\n",
            "       [0.01338474],\n",
            "       [0.00048932],\n",
            "       [0.00162617],\n",
            "       [0.06065974],\n",
            "       [0.00993801],\n",
            "       [0.00756126],\n",
            "       [0.00313024],\n",
            "       [0.0063683 ]]), array([['Loan modification,collection,foreclosure', 'CA', 'Web',\n",
            "        'Closed with non-monetary relief'],\n",
            "       ['Loan modification,collection,foreclosure', 'FL', 'Web',\n",
            "        'Closed with explanation'],\n",
            "       ['Loan servicing, payments, escrow account', 'CA', 'Referral',\n",
            "        'Closed with explanation'],\n",
            "       ['Loan servicing, payments, escrow account', 'TX', 'Web',\n",
            "        'Closed with explanation'],\n",
            "       ['Struggling to pay mortgage', 'NY', 'Web',\n",
            "        'Closed with explanation'],\n",
            "       ['Loan modification,collection,foreclosure', 'IL', 'Web',\n",
            "        'Closed with explanation'],\n",
            "       ['Loan modification,collection,foreclosure', 'OH', 'Web',\n",
            "        'Closed with explanation'],\n",
            "       ['Loan modification,collection,foreclosure', 'CA', 'Referral',\n",
            "        'Closed with explanation'],\n",
            "       ['Loan modification,collection,foreclosure', 'CA', 'Web',\n",
            "        'Closed with explanation'],\n",
            "       ['Loan servicing, payments, escrow account', 'GA', 'Web',\n",
            "        'Closed with explanation']], dtype='<U40')]\n"
          ],
          "name": "stdout"
        }
      ]
    },
    {
      "metadata": {
        "id": "xmUGtPPflvoK",
        "colab_type": "code",
        "colab": {}
      },
      "cell_type": "code",
      "source": [
        "clusters=clusters.reshape(34081,1)"
      ],
      "execution_count": 0,
      "outputs": []
    },
    {
      "metadata": {
        "id": "0dlikXo_lv8J",
        "colab_type": "code",
        "colab": {}
      },
      "cell_type": "code",
      "source": [
        "class_cluster = pd.DataFrame(clusters,columns=['Class cluster'])"
      ],
      "execution_count": 0,
      "outputs": []
    },
    {
      "metadata": {
        "id": "kJAWqwiHlwPB",
        "colab_type": "code",
        "colab": {
          "base_uri": "https://localhost:8080/",
          "height": 204
        },
        "outputId": "a0afdf48-4a18-4981-81af-310090c521a2"
      },
      "cell_type": "code",
      "source": [
        "class_cluster.head()"
      ],
      "execution_count": 60,
      "outputs": [
        {
          "output_type": "execute_result",
          "data": {
            "text/html": [
              "<div>\n",
              "<style scoped>\n",
              "    .dataframe tbody tr th:only-of-type {\n",
              "        vertical-align: middle;\n",
              "    }\n",
              "\n",
              "    .dataframe tbody tr th {\n",
              "        vertical-align: top;\n",
              "    }\n",
              "\n",
              "    .dataframe thead th {\n",
              "        text-align: right;\n",
              "    }\n",
              "</style>\n",
              "<table border=\"1\" class=\"dataframe\">\n",
              "  <thead>\n",
              "    <tr style=\"text-align: right;\">\n",
              "      <th></th>\n",
              "      <th>Class cluster</th>\n",
              "    </tr>\n",
              "  </thead>\n",
              "  <tbody>\n",
              "    <tr>\n",
              "      <th>0</th>\n",
              "      <td>1</td>\n",
              "    </tr>\n",
              "    <tr>\n",
              "      <th>1</th>\n",
              "      <td>7</td>\n",
              "    </tr>\n",
              "    <tr>\n",
              "      <th>2</th>\n",
              "      <td>3</td>\n",
              "    </tr>\n",
              "    <tr>\n",
              "      <th>3</th>\n",
              "      <td>8</td>\n",
              "    </tr>\n",
              "    <tr>\n",
              "      <th>4</th>\n",
              "      <td>4</td>\n",
              "    </tr>\n",
              "  </tbody>\n",
              "</table>\n",
              "</div>"
            ],
            "text/plain": [
              "   Class cluster\n",
              "0              1\n",
              "1              7\n",
              "2              3\n",
              "3              8\n",
              "4              4"
            ]
          },
          "metadata": {
            "tags": []
          },
          "execution_count": 60
        }
      ]
    },
    {
      "metadata": {
        "id": "O4tZRJ5zlwgS",
        "colab_type": "code",
        "colab": {
          "base_uri": "https://localhost:8080/",
          "height": 204
        },
        "outputId": "51ad6f40-60c3-45a5-8cbe-1bd4a8b53053"
      },
      "cell_type": "code",
      "source": [
        "#data_req_new.head()\n",
        "data_req.head()"
      ],
      "execution_count": 61,
      "outputs": [
        {
          "output_type": "execute_result",
          "data": {
            "text/html": [
              "<div>\n",
              "<style scoped>\n",
              "    .dataframe tbody tr th:only-of-type {\n",
              "        vertical-align: middle;\n",
              "    }\n",
              "\n",
              "    .dataframe tbody tr th {\n",
              "        vertical-align: top;\n",
              "    }\n",
              "\n",
              "    .dataframe thead th {\n",
              "        text-align: right;\n",
              "    }\n",
              "</style>\n",
              "<table border=\"1\" class=\"dataframe\">\n",
              "  <thead>\n",
              "    <tr style=\"text-align: right;\">\n",
              "      <th></th>\n",
              "      <th>Issue</th>\n",
              "      <th>State</th>\n",
              "      <th>Submitted via</th>\n",
              "      <th>Company response to consumer</th>\n",
              "      <th>Time Difference</th>\n",
              "    </tr>\n",
              "  </thead>\n",
              "  <tbody>\n",
              "    <tr>\n",
              "      <th>0</th>\n",
              "      <td>Loan modification,collection,foreclosure</td>\n",
              "      <td>NJ</td>\n",
              "      <td>Web</td>\n",
              "      <td>Closed with explanation</td>\n",
              "      <td>0.000000</td>\n",
              "    </tr>\n",
              "    <tr>\n",
              "      <th>1</th>\n",
              "      <td>Loan modification,collection,foreclosure</td>\n",
              "      <td>NY</td>\n",
              "      <td>Referral</td>\n",
              "      <td>Closed with explanation</td>\n",
              "      <td>0.003846</td>\n",
              "    </tr>\n",
              "    <tr>\n",
              "      <th>2</th>\n",
              "      <td>Application, originator, mortgage broker</td>\n",
              "      <td>VA</td>\n",
              "      <td>Web</td>\n",
              "      <td>Closed with explanation</td>\n",
              "      <td>0.000000</td>\n",
              "    </tr>\n",
              "    <tr>\n",
              "      <th>3</th>\n",
              "      <td>Settlement process and costs</td>\n",
              "      <td>CA</td>\n",
              "      <td>Web</td>\n",
              "      <td>Closed with explanation</td>\n",
              "      <td>0.000000</td>\n",
              "    </tr>\n",
              "    <tr>\n",
              "      <th>4</th>\n",
              "      <td>Application, originator, mortgage broker</td>\n",
              "      <td>SD</td>\n",
              "      <td>Web</td>\n",
              "      <td>Closed with explanation</td>\n",
              "      <td>0.001923</td>\n",
              "    </tr>\n",
              "  </tbody>\n",
              "</table>\n",
              "</div>"
            ],
            "text/plain": [
              "                                      Issue State Submitted via  \\\n",
              "0  Loan modification,collection,foreclosure    NJ           Web   \n",
              "1  Loan modification,collection,foreclosure    NY      Referral   \n",
              "2  Application, originator, mortgage broker    VA           Web   \n",
              "3              Settlement process and costs    CA           Web   \n",
              "4  Application, originator, mortgage broker    SD           Web   \n",
              "\n",
              "  Company response to consumer  Time Difference  \n",
              "0      Closed with explanation         0.000000  \n",
              "1      Closed with explanation         0.003846  \n",
              "2      Closed with explanation         0.000000  \n",
              "3      Closed with explanation         0.000000  \n",
              "4      Closed with explanation         0.001923  "
            ]
          },
          "metadata": {
            "tags": []
          },
          "execution_count": 61
        }
      ]
    },
    {
      "metadata": {
        "id": "z1gFdwjSp9-h",
        "colab_type": "code",
        "colab": {}
      },
      "cell_type": "code",
      "source": [
        "data_req_new.index = range(data_req_new.shape[0])\n",
        "data_req_new.head()"
      ],
      "execution_count": 0,
      "outputs": []
    },
    {
      "metadata": {
        "id": "jTSa6dd-czVc",
        "colab_type": "code",
        "colab": {}
      },
      "cell_type": "code",
      "source": [
        ""
      ],
      "execution_count": 0,
      "outputs": []
    },
    {
      "metadata": {
        "id": "mjOj7qIUlw15",
        "colab_type": "code",
        "colab": {}
      },
      "cell_type": "code",
      "source": [
        "#data_req_new = pd.concat([data_req_new,class_cluster],axis=1)\n",
        "data_req = pd.concat([data_req,class_cluster],axis=1)"
      ],
      "execution_count": 0,
      "outputs": []
    },
    {
      "metadata": {
        "id": "H54j4PJMlxHp",
        "colab_type": "code",
        "colab": {
          "base_uri": "https://localhost:8080/",
          "height": 204
        },
        "outputId": "0fde06d0-a127-4adc-e07c-0215c50d83ec"
      },
      "cell_type": "code",
      "source": [
        "#data_req_new.head()\n",
        "data_req.head()"
      ],
      "execution_count": 64,
      "outputs": [
        {
          "output_type": "execute_result",
          "data": {
            "text/html": [
              "<div>\n",
              "<style scoped>\n",
              "    .dataframe tbody tr th:only-of-type {\n",
              "        vertical-align: middle;\n",
              "    }\n",
              "\n",
              "    .dataframe tbody tr th {\n",
              "        vertical-align: top;\n",
              "    }\n",
              "\n",
              "    .dataframe thead th {\n",
              "        text-align: right;\n",
              "    }\n",
              "</style>\n",
              "<table border=\"1\" class=\"dataframe\">\n",
              "  <thead>\n",
              "    <tr style=\"text-align: right;\">\n",
              "      <th></th>\n",
              "      <th>Issue</th>\n",
              "      <th>State</th>\n",
              "      <th>Submitted via</th>\n",
              "      <th>Company response to consumer</th>\n",
              "      <th>Time Difference</th>\n",
              "      <th>Class cluster</th>\n",
              "    </tr>\n",
              "  </thead>\n",
              "  <tbody>\n",
              "    <tr>\n",
              "      <th>0</th>\n",
              "      <td>Loan modification,collection,foreclosure</td>\n",
              "      <td>NJ</td>\n",
              "      <td>Web</td>\n",
              "      <td>Closed with explanation</td>\n",
              "      <td>0.000000</td>\n",
              "      <td>1</td>\n",
              "    </tr>\n",
              "    <tr>\n",
              "      <th>1</th>\n",
              "      <td>Loan modification,collection,foreclosure</td>\n",
              "      <td>NY</td>\n",
              "      <td>Referral</td>\n",
              "      <td>Closed with explanation</td>\n",
              "      <td>0.003846</td>\n",
              "      <td>7</td>\n",
              "    </tr>\n",
              "    <tr>\n",
              "      <th>2</th>\n",
              "      <td>Application, originator, mortgage broker</td>\n",
              "      <td>VA</td>\n",
              "      <td>Web</td>\n",
              "      <td>Closed with explanation</td>\n",
              "      <td>0.000000</td>\n",
              "      <td>3</td>\n",
              "    </tr>\n",
              "    <tr>\n",
              "      <th>3</th>\n",
              "      <td>Settlement process and costs</td>\n",
              "      <td>CA</td>\n",
              "      <td>Web</td>\n",
              "      <td>Closed with explanation</td>\n",
              "      <td>0.000000</td>\n",
              "      <td>8</td>\n",
              "    </tr>\n",
              "    <tr>\n",
              "      <th>4</th>\n",
              "      <td>Application, originator, mortgage broker</td>\n",
              "      <td>SD</td>\n",
              "      <td>Web</td>\n",
              "      <td>Closed with explanation</td>\n",
              "      <td>0.001923</td>\n",
              "      <td>4</td>\n",
              "    </tr>\n",
              "  </tbody>\n",
              "</table>\n",
              "</div>"
            ],
            "text/plain": [
              "                                      Issue State Submitted via  \\\n",
              "0  Loan modification,collection,foreclosure    NJ           Web   \n",
              "1  Loan modification,collection,foreclosure    NY      Referral   \n",
              "2  Application, originator, mortgage broker    VA           Web   \n",
              "3              Settlement process and costs    CA           Web   \n",
              "4  Application, originator, mortgage broker    SD           Web   \n",
              "\n",
              "  Company response to consumer  Time Difference  Class cluster  \n",
              "0      Closed with explanation         0.000000              1  \n",
              "1      Closed with explanation         0.003846              7  \n",
              "2      Closed with explanation         0.000000              3  \n",
              "3      Closed with explanation         0.000000              8  \n",
              "4      Closed with explanation         0.001923              4  "
            ]
          },
          "metadata": {
            "tags": []
          },
          "execution_count": 64
        }
      ]
    },
    {
      "metadata": {
        "id": "7EYfFen8wRys",
        "colab_type": "code",
        "colab": {}
      },
      "cell_type": "code",
      "source": [
        ""
      ],
      "execution_count": 0,
      "outputs": []
    }
  ]
}