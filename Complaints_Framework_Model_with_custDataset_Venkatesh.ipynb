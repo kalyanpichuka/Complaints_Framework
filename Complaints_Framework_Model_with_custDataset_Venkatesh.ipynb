{
  "nbformat": 4,
  "nbformat_minor": 0,
  "metadata": {
    "colab": {
      "name": "Copy of Copy of Complaints_Framework_Model_Venkatesh.ipynb",
      "version": "0.3.2",
      "provenance": [],
      "collapsed_sections": [],
      "include_colab_link": true
    },
    "kernelspec": {
      "name": "python3",
      "display_name": "Python 3"
    },
    "accelerator": "GPU"
  },
  "cells": [
    {
      "cell_type": "markdown",
      "metadata": {
        "id": "view-in-github",
        "colab_type": "text"
      },
      "source": [
        "[View in Colaboratory](https://colab.research.google.com/github/venkatakula9652/Complaints_Framework/blob/master/Complaints_Framework_Model_with_custDataset_Venkatesh.ipynb)"
      ]
    },
    {
      "metadata": {
        "id": "hcuJP6MmtPxQ",
        "colab_type": "code",
        "colab": {}
      },
      "cell_type": "code",
      "source": [
        "# IMPORTING NECESSARY PACKAGES\n",
        "import pandas as pd\n",
        "import numpy as np\n",
        "import matplotlib.pyplot as plt\n",
        "import os"
      ],
      "execution_count": 0,
      "outputs": []
    },
    {
      "metadata": {
        "id": "UAgaIOov2xLd",
        "colab_type": "code",
        "colab": {}
      },
      "cell_type": "code",
      "source": [
        "!apt-get install -y -qq software-properties-common python-software-properties module-init-tools\n",
        "!add-apt-repository -y ppa:alessandro-strada/ppa 2>&1 > /dev/null\n",
        "!apt-get update -qq 2>&1 > /dev/null\n",
        "!apt-get -y install -qq google-drive-ocamlfuse fuse\n",
        "from google.colab import auth\n",
        "auth.authenticate_user()\n",
        "from oauth2client.client import GoogleCredentials\n",
        "creds = GoogleCredentials.get_application_default()\n",
        "import getpass\n",
        "!google-drive-ocamlfuse -headless -id={creds.client_id} -secret={creds.client_secret} < /dev/null 2>&1 | grep URL\n",
        "vcode = getpass.getpass()\n",
        "!echo {vcode} | google-drive-ocamlfuse -headless -id={creds.client_id} -secret={creds.client_secret}"
      ],
      "execution_count": 0,
      "outputs": []
    },
    {
      "metadata": {
        "id": "MWrH7zuh5fEv",
        "colab_type": "code",
        "colab": {}
      },
      "cell_type": "code",
      "source": [
        "!mkdir -p drive\n",
        "!google-drive-ocamlfuse drive"
      ],
      "execution_count": 0,
      "outputs": []
    },
    {
      "metadata": {
        "id": "BUN9evG359S4",
        "colab_type": "code",
        "colab": {
          "base_uri": "https://localhost:8080/",
          "height": 71
        },
        "outputId": "8acfea30-3244-4270-9998-9d1a7e33d16e"
      },
      "cell_type": "code",
      "source": [
        "data = pd.read_csv(\"drive/Complaints_Dataset/complaints-2018-08-17.csv\")"
      ],
      "execution_count": 46,
      "outputs": [
        {
          "output_type": "stream",
          "text": [
            "/usr/local/lib/python3.6/dist-packages/IPython/core/interactiveshell.py:2718: DtypeWarning: Columns (25,30,31,32) have mixed types. Specify dtype option on import or set low_memory=False.\n",
            "  interactivity=interactivity, compiler=compiler, result=result)\n"
          ],
          "name": "stderr"
        }
      ]
    },
    {
      "metadata": {
        "id": "lDW6HKRO6BfM",
        "colab_type": "code",
        "colab": {
          "base_uri": "https://localhost:8080/",
          "height": 576
        },
        "outputId": "87e0c008-9aac-4a33-b6cb-787af618deb5"
      },
      "cell_type": "code",
      "source": [
        "data.head()"
      ],
      "execution_count": 47,
      "outputs": [
        {
          "output_type": "execute_result",
          "data": {
            "text/html": [
              "<div>\n",
              "<style scoped>\n",
              "    .dataframe tbody tr th:only-of-type {\n",
              "        vertical-align: middle;\n",
              "    }\n",
              "\n",
              "    .dataframe tbody tr th {\n",
              "        vertical-align: top;\n",
              "    }\n",
              "\n",
              "    .dataframe thead th {\n",
              "        text-align: right;\n",
              "    }\n",
              "</style>\n",
              "<table border=\"1\" class=\"dataframe\">\n",
              "  <thead>\n",
              "    <tr style=\"text-align: right;\">\n",
              "      <th></th>\n",
              "      <th>Date received</th>\n",
              "      <th>Product</th>\n",
              "      <th>Sub-product</th>\n",
              "      <th>Issue</th>\n",
              "      <th>Sub-issue</th>\n",
              "      <th>Consumer complaint narrative</th>\n",
              "      <th>Company public response</th>\n",
              "      <th>Company</th>\n",
              "      <th>State</th>\n",
              "      <th>ZIP code</th>\n",
              "      <th>...</th>\n",
              "      <th>Unnamed: 23</th>\n",
              "      <th>Zip Code</th>\n",
              "      <th>Place Name</th>\n",
              "      <th>Unnamed: 26</th>\n",
              "      <th>Unnamed: 27</th>\n",
              "      <th>Unnamed: 28</th>\n",
              "      <th>Unnamed: 29</th>\n",
              "      <th>Unnamed: 30</th>\n",
              "      <th>Unnamed: 31</th>\n",
              "      <th>Unnamed: 32</th>\n",
              "    </tr>\n",
              "  </thead>\n",
              "  <tbody>\n",
              "    <tr>\n",
              "      <th>0</th>\n",
              "      <td>05-11-2018</td>\n",
              "      <td>Mortgage</td>\n",
              "      <td>FHA mortgage</td>\n",
              "      <td>Trouble during payment process</td>\n",
              "      <td>NaN</td>\n",
              "      <td>NaN</td>\n",
              "      <td>Company believes complaint is the result of an...</td>\n",
              "      <td>loanDepot.com, LLC</td>\n",
              "      <td>AA</td>\n",
              "      <td>34031</td>\n",
              "      <td>...</td>\n",
              "      <td>NaN</td>\n",
              "      <td>501.0</td>\n",
              "      <td>Holtsville</td>\n",
              "      <td>NaN</td>\n",
              "      <td>NaN</td>\n",
              "      <td>NaN</td>\n",
              "      <td>92274.0</td>\n",
              "      <td>100 Palms</td>\n",
              "      <td>California</td>\n",
              "      <td>CA</td>\n",
              "    </tr>\n",
              "    <tr>\n",
              "      <th>1</th>\n",
              "      <td>02/20/13</td>\n",
              "      <td>Mortgage</td>\n",
              "      <td>Other mortgage</td>\n",
              "      <td>Loan modification,collection,foreclosure</td>\n",
              "      <td>NaN</td>\n",
              "      <td>NaN</td>\n",
              "      <td>NaN</td>\n",
              "      <td>WELLS FARGO &amp; COMPANY</td>\n",
              "      <td>AA</td>\n",
              "      <td>98282</td>\n",
              "      <td>...</td>\n",
              "      <td>NaN</td>\n",
              "      <td>544.0</td>\n",
              "      <td>Holtsville</td>\n",
              "      <td>NaN</td>\n",
              "      <td>NaN</td>\n",
              "      <td>NaN</td>\n",
              "      <td>92276.0</td>\n",
              "      <td>1000 Palms</td>\n",
              "      <td>California</td>\n",
              "      <td>CA</td>\n",
              "    </tr>\n",
              "    <tr>\n",
              "      <th>2</th>\n",
              "      <td>09/17/16</td>\n",
              "      <td>Mortgage</td>\n",
              "      <td>VA mortgage</td>\n",
              "      <td>Loan modification,collection,foreclosure</td>\n",
              "      <td>NaN</td>\n",
              "      <td>I ran into some financial issues and contacted...</td>\n",
              "      <td>NaN</td>\n",
              "      <td>FIFTH THIRD FINANCIAL CORPORATION</td>\n",
              "      <td>AA</td>\n",
              "      <td>340XX</td>\n",
              "      <td>...</td>\n",
              "      <td>NaN</td>\n",
              "      <td>1001.0</td>\n",
              "      <td>Agawam</td>\n",
              "      <td>NaN</td>\n",
              "      <td>NaN</td>\n",
              "      <td>NaN</td>\n",
              "      <td>92277.0</td>\n",
              "      <td>29 Palms</td>\n",
              "      <td>California</td>\n",
              "      <td>CA</td>\n",
              "    </tr>\n",
              "    <tr>\n",
              "      <th>3</th>\n",
              "      <td>08/18/15</td>\n",
              "      <td>Mortgage</td>\n",
              "      <td>Conventional fixed mortgage</td>\n",
              "      <td>Loan servicing, payments, escrow account</td>\n",
              "      <td>NaN</td>\n",
              "      <td>My mortgage servicer, PHH corporation, has fai...</td>\n",
              "      <td>NaN</td>\n",
              "      <td>PHH Mortgage Services Corporation</td>\n",
              "      <td>AA</td>\n",
              "      <td>340XX</td>\n",
              "      <td>...</td>\n",
              "      <td>NaN</td>\n",
              "      <td>1002.0</td>\n",
              "      <td>Amherst</td>\n",
              "      <td>NaN</td>\n",
              "      <td>NaN</td>\n",
              "      <td>NaN</td>\n",
              "      <td>92278.0</td>\n",
              "      <td>29 Palms</td>\n",
              "      <td>California</td>\n",
              "      <td>CA</td>\n",
              "    </tr>\n",
              "    <tr>\n",
              "      <th>4</th>\n",
              "      <td>05/28/14</td>\n",
              "      <td>Mortgage</td>\n",
              "      <td>Conventional fixed mortgage</td>\n",
              "      <td>Loan servicing, payments, escrow account</td>\n",
              "      <td>NaN</td>\n",
              "      <td>NaN</td>\n",
              "      <td>NaN</td>\n",
              "      <td>CITIBANK, N.A.</td>\n",
              "      <td>AA</td>\n",
              "      <td>34058</td>\n",
              "      <td>...</td>\n",
              "      <td>NaN</td>\n",
              "      <td>1003.0</td>\n",
              "      <td>Amherst</td>\n",
              "      <td>NaN</td>\n",
              "      <td>NaN</td>\n",
              "      <td>NaN</td>\n",
              "      <td>90848.0</td>\n",
              "      <td>A A R P</td>\n",
              "      <td>California</td>\n",
              "      <td>CA</td>\n",
              "    </tr>\n",
              "  </tbody>\n",
              "</table>\n",
              "<p>5 rows × 33 columns</p>\n",
              "</div>"
            ],
            "text/plain": [
              "  Date received   Product                  Sub-product  \\\n",
              "0    05-11-2018  Mortgage                 FHA mortgage   \n",
              "1      02/20/13  Mortgage               Other mortgage   \n",
              "2      09/17/16  Mortgage                  VA mortgage   \n",
              "3      08/18/15  Mortgage  Conventional fixed mortgage   \n",
              "4      05/28/14  Mortgage  Conventional fixed mortgage   \n",
              "\n",
              "                                      Issue  Sub-issue  \\\n",
              "0            Trouble during payment process        NaN   \n",
              "1  Loan modification,collection,foreclosure        NaN   \n",
              "2  Loan modification,collection,foreclosure        NaN   \n",
              "3  Loan servicing, payments, escrow account        NaN   \n",
              "4  Loan servicing, payments, escrow account        NaN   \n",
              "\n",
              "                        Consumer complaint narrative  \\\n",
              "0                                                NaN   \n",
              "1                                                NaN   \n",
              "2  I ran into some financial issues and contacted...   \n",
              "3  My mortgage servicer, PHH corporation, has fai...   \n",
              "4                                                NaN   \n",
              "\n",
              "                             Company public response  \\\n",
              "0  Company believes complaint is the result of an...   \n",
              "1                                                NaN   \n",
              "2                                                NaN   \n",
              "3                                                NaN   \n",
              "4                                                NaN   \n",
              "\n",
              "                             Company State ZIP code     ...      Unnamed: 23  \\\n",
              "0                 loanDepot.com, LLC    AA    34031     ...              NaN   \n",
              "1              WELLS FARGO & COMPANY    AA    98282     ...              NaN   \n",
              "2  FIFTH THIRD FINANCIAL CORPORATION    AA    340XX     ...              NaN   \n",
              "3  PHH Mortgage Services Corporation    AA    340XX     ...              NaN   \n",
              "4                     CITIBANK, N.A.    AA    34058     ...              NaN   \n",
              "\n",
              "  Zip Code  Place Name Unnamed: 26 Unnamed: 27 Unnamed: 28 Unnamed: 29  \\\n",
              "0    501.0  Holtsville         NaN         NaN         NaN     92274.0   \n",
              "1    544.0  Holtsville         NaN         NaN         NaN     92276.0   \n",
              "2   1001.0      Agawam         NaN         NaN         NaN     92277.0   \n",
              "3   1002.0     Amherst         NaN         NaN         NaN     92278.0   \n",
              "4   1003.0     Amherst         NaN         NaN         NaN     90848.0   \n",
              "\n",
              "   Unnamed: 30 Unnamed: 31  Unnamed: 32  \n",
              "0    100 Palms  California           CA  \n",
              "1   1000 Palms  California           CA  \n",
              "2     29 Palms  California           CA  \n",
              "3     29 Palms  California           CA  \n",
              "4      A A R P  California           CA  \n",
              "\n",
              "[5 rows x 33 columns]"
            ]
          },
          "metadata": {
            "tags": []
          },
          "execution_count": 47
        }
      ]
    },
    {
      "metadata": {
        "id": "7nLwqjwo6FeW",
        "colab_type": "code",
        "colab": {}
      },
      "cell_type": "code",
      "source": [
        "data = data[data.Company == 'WELLS FARGO & COMPANY']"
      ],
      "execution_count": 0,
      "outputs": []
    },
    {
      "metadata": {
        "id": "-0sQpqDB95iW",
        "colab_type": "code",
        "colab": {}
      },
      "cell_type": "code",
      "source": [
        "data = data[data.State.isin(['AK','AL','AR','AZ','CA','CO','CT','DC','DE','FL','GA','HI','IA','ID','IL','IN','KS','KY','LA','MA','MD','ME','MI','MN','MO','MS','MT','NC','ND','NE','NH','NJ','NM','NV','NY','OH','OK','OR','PA','PR','RI','SC','SD','TN','TX','UT','VA','VT','WA','WI','WV','WY'])]"
      ],
      "execution_count": 0,
      "outputs": []
    },
    {
      "metadata": {
        "id": "3Xh52LSB6LRZ",
        "colab_type": "code",
        "colab": {
          "base_uri": "https://localhost:8080/",
          "height": 559
        },
        "outputId": "756fcecc-a917-4162-a9bf-0d9b0a5a3c0c"
      },
      "cell_type": "code",
      "source": [
        "data.head()"
      ],
      "execution_count": 50,
      "outputs": [
        {
          "output_type": "execute_result",
          "data": {
            "text/html": [
              "<div>\n",
              "<style scoped>\n",
              "    .dataframe tbody tr th:only-of-type {\n",
              "        vertical-align: middle;\n",
              "    }\n",
              "\n",
              "    .dataframe tbody tr th {\n",
              "        vertical-align: top;\n",
              "    }\n",
              "\n",
              "    .dataframe thead th {\n",
              "        text-align: right;\n",
              "    }\n",
              "</style>\n",
              "<table border=\"1\" class=\"dataframe\">\n",
              "  <thead>\n",
              "    <tr style=\"text-align: right;\">\n",
              "      <th></th>\n",
              "      <th>Date received</th>\n",
              "      <th>Product</th>\n",
              "      <th>Sub-product</th>\n",
              "      <th>Issue</th>\n",
              "      <th>Sub-issue</th>\n",
              "      <th>Consumer complaint narrative</th>\n",
              "      <th>Company public response</th>\n",
              "      <th>Company</th>\n",
              "      <th>State</th>\n",
              "      <th>ZIP code</th>\n",
              "      <th>...</th>\n",
              "      <th>Unnamed: 23</th>\n",
              "      <th>Zip Code</th>\n",
              "      <th>Place Name</th>\n",
              "      <th>Unnamed: 26</th>\n",
              "      <th>Unnamed: 27</th>\n",
              "      <th>Unnamed: 28</th>\n",
              "      <th>Unnamed: 29</th>\n",
              "      <th>Unnamed: 30</th>\n",
              "      <th>Unnamed: 31</th>\n",
              "      <th>Unnamed: 32</th>\n",
              "    </tr>\n",
              "  </thead>\n",
              "  <tbody>\n",
              "    <tr>\n",
              "      <th>114</th>\n",
              "      <td>11/14/16</td>\n",
              "      <td>Mortgage</td>\n",
              "      <td>Other mortgage</td>\n",
              "      <td>Loan modification,collection,foreclosure</td>\n",
              "      <td>NaN</td>\n",
              "      <td>NaN</td>\n",
              "      <td>Company has responded to the consumer and the ...</td>\n",
              "      <td>WELLS FARGO &amp; COMPANY</td>\n",
              "      <td>AK</td>\n",
              "      <td>99524</td>\n",
              "      <td>...</td>\n",
              "      <td>NaN</td>\n",
              "      <td>1245.0</td>\n",
              "      <td>Monterey</td>\n",
              "      <td>NaN</td>\n",
              "      <td>NaN</td>\n",
              "      <td>NaN</td>\n",
              "      <td>92307.0</td>\n",
              "      <td>Apple Valley</td>\n",
              "      <td>California</td>\n",
              "      <td>CA</td>\n",
              "    </tr>\n",
              "    <tr>\n",
              "      <th>117</th>\n",
              "      <td>02-09-2015</td>\n",
              "      <td>Mortgage</td>\n",
              "      <td>FHA mortgage</td>\n",
              "      <td>Loan modification,collection,foreclosure</td>\n",
              "      <td>NaN</td>\n",
              "      <td>NaN</td>\n",
              "      <td>NaN</td>\n",
              "      <td>WELLS FARGO &amp; COMPANY</td>\n",
              "      <td>AK</td>\n",
              "      <td>99567</td>\n",
              "      <td>...</td>\n",
              "      <td>NaN</td>\n",
              "      <td>1253.0</td>\n",
              "      <td>Otis</td>\n",
              "      <td>NaN</td>\n",
              "      <td>NaN</td>\n",
              "      <td>NaN</td>\n",
              "      <td>95001.0</td>\n",
              "      <td>Aptos</td>\n",
              "      <td>California</td>\n",
              "      <td>CA</td>\n",
              "    </tr>\n",
              "    <tr>\n",
              "      <th>118</th>\n",
              "      <td>03-02-2016</td>\n",
              "      <td>Mortgage</td>\n",
              "      <td>Other mortgage</td>\n",
              "      <td>Application, originator, mortgage broker</td>\n",
              "      <td>NaN</td>\n",
              "      <td>I refinanced my loan with Wells Fargo. The ori...</td>\n",
              "      <td>Company has responded to the consumer and the ...</td>\n",
              "      <td>WELLS FARGO &amp; COMPANY</td>\n",
              "      <td>AK</td>\n",
              "      <td>995XX</td>\n",
              "      <td>...</td>\n",
              "      <td>NaN</td>\n",
              "      <td>1254.0</td>\n",
              "      <td>Richmond</td>\n",
              "      <td>NaN</td>\n",
              "      <td>NaN</td>\n",
              "      <td>NaN</td>\n",
              "      <td>95003.0</td>\n",
              "      <td>Aptos</td>\n",
              "      <td>California</td>\n",
              "      <td>CA</td>\n",
              "    </tr>\n",
              "    <tr>\n",
              "      <th>120</th>\n",
              "      <td>12-02-2014</td>\n",
              "      <td>Mortgage</td>\n",
              "      <td>FHA mortgage</td>\n",
              "      <td>Loan modification,collection,foreclosure</td>\n",
              "      <td>NaN</td>\n",
              "      <td>NaN</td>\n",
              "      <td>NaN</td>\n",
              "      <td>WELLS FARGO &amp; COMPANY</td>\n",
              "      <td>AK</td>\n",
              "      <td>99507</td>\n",
              "      <td>...</td>\n",
              "      <td>NaN</td>\n",
              "      <td>1256.0</td>\n",
              "      <td>Savoy</td>\n",
              "      <td>NaN</td>\n",
              "      <td>NaN</td>\n",
              "      <td>NaN</td>\n",
              "      <td>95912.0</td>\n",
              "      <td>Arbuckle</td>\n",
              "      <td>California</td>\n",
              "      <td>CA</td>\n",
              "    </tr>\n",
              "    <tr>\n",
              "      <th>123</th>\n",
              "      <td>03-07-2013</td>\n",
              "      <td>Mortgage</td>\n",
              "      <td>Other mortgage</td>\n",
              "      <td>Loan servicing, payments, escrow account</td>\n",
              "      <td>NaN</td>\n",
              "      <td>NaN</td>\n",
              "      <td>NaN</td>\n",
              "      <td>WELLS FARGO &amp; COMPANY</td>\n",
              "      <td>AK</td>\n",
              "      <td>99516</td>\n",
              "      <td>...</td>\n",
              "      <td>NaN</td>\n",
              "      <td>1259.0</td>\n",
              "      <td>Southfield</td>\n",
              "      <td>NaN</td>\n",
              "      <td>NaN</td>\n",
              "      <td>NaN</td>\n",
              "      <td>91066.0</td>\n",
              "      <td>Arcadia</td>\n",
              "      <td>California</td>\n",
              "      <td>CA</td>\n",
              "    </tr>\n",
              "  </tbody>\n",
              "</table>\n",
              "<p>5 rows × 33 columns</p>\n",
              "</div>"
            ],
            "text/plain": [
              "    Date received   Product     Sub-product  \\\n",
              "114      11/14/16  Mortgage  Other mortgage   \n",
              "117    02-09-2015  Mortgage    FHA mortgage   \n",
              "118    03-02-2016  Mortgage  Other mortgage   \n",
              "120    12-02-2014  Mortgage    FHA mortgage   \n",
              "123    03-07-2013  Mortgage  Other mortgage   \n",
              "\n",
              "                                        Issue  Sub-issue  \\\n",
              "114  Loan modification,collection,foreclosure        NaN   \n",
              "117  Loan modification,collection,foreclosure        NaN   \n",
              "118  Application, originator, mortgage broker        NaN   \n",
              "120  Loan modification,collection,foreclosure        NaN   \n",
              "123  Loan servicing, payments, escrow account        NaN   \n",
              "\n",
              "                          Consumer complaint narrative  \\\n",
              "114                                                NaN   \n",
              "117                                                NaN   \n",
              "118  I refinanced my loan with Wells Fargo. The ori...   \n",
              "120                                                NaN   \n",
              "123                                                NaN   \n",
              "\n",
              "                               Company public response                Company  \\\n",
              "114  Company has responded to the consumer and the ...  WELLS FARGO & COMPANY   \n",
              "117                                                NaN  WELLS FARGO & COMPANY   \n",
              "118  Company has responded to the consumer and the ...  WELLS FARGO & COMPANY   \n",
              "120                                                NaN  WELLS FARGO & COMPANY   \n",
              "123                                                NaN  WELLS FARGO & COMPANY   \n",
              "\n",
              "    State ZIP code     ...      Unnamed: 23 Zip Code  Place Name Unnamed: 26  \\\n",
              "114    AK    99524     ...              NaN   1245.0    Monterey         NaN   \n",
              "117    AK    99567     ...              NaN   1253.0        Otis         NaN   \n",
              "118    AK    995XX     ...              NaN   1254.0    Richmond         NaN   \n",
              "120    AK    99507     ...              NaN   1256.0       Savoy         NaN   \n",
              "123    AK    99516     ...              NaN   1259.0  Southfield         NaN   \n",
              "\n",
              "    Unnamed: 27 Unnamed: 28 Unnamed: 29   Unnamed: 30 Unnamed: 31  Unnamed: 32  \n",
              "114         NaN         NaN     92307.0  Apple Valley  California           CA  \n",
              "117         NaN         NaN     95001.0         Aptos  California           CA  \n",
              "118         NaN         NaN     95003.0         Aptos  California           CA  \n",
              "120         NaN         NaN     95912.0      Arbuckle  California           CA  \n",
              "123         NaN         NaN     91066.0       Arcadia  California           CA  \n",
              "\n",
              "[5 rows x 33 columns]"
            ]
          },
          "metadata": {
            "tags": []
          },
          "execution_count": 50
        }
      ]
    },
    {
      "metadata": {
        "id": "_Mx5HVmSc2hJ",
        "colab_type": "code",
        "colab": {
          "base_uri": "https://localhost:8080/",
          "height": 559
        },
        "outputId": "ebdac33f-87af-41d2-9f78-b49245945ae1"
      },
      "cell_type": "code",
      "source": [
        "data.index = range(data.shape[0])\n",
        "data.head()"
      ],
      "execution_count": 51,
      "outputs": [
        {
          "output_type": "execute_result",
          "data": {
            "text/html": [
              "<div>\n",
              "<style scoped>\n",
              "    .dataframe tbody tr th:only-of-type {\n",
              "        vertical-align: middle;\n",
              "    }\n",
              "\n",
              "    .dataframe tbody tr th {\n",
              "        vertical-align: top;\n",
              "    }\n",
              "\n",
              "    .dataframe thead th {\n",
              "        text-align: right;\n",
              "    }\n",
              "</style>\n",
              "<table border=\"1\" class=\"dataframe\">\n",
              "  <thead>\n",
              "    <tr style=\"text-align: right;\">\n",
              "      <th></th>\n",
              "      <th>Date received</th>\n",
              "      <th>Product</th>\n",
              "      <th>Sub-product</th>\n",
              "      <th>Issue</th>\n",
              "      <th>Sub-issue</th>\n",
              "      <th>Consumer complaint narrative</th>\n",
              "      <th>Company public response</th>\n",
              "      <th>Company</th>\n",
              "      <th>State</th>\n",
              "      <th>ZIP code</th>\n",
              "      <th>...</th>\n",
              "      <th>Unnamed: 23</th>\n",
              "      <th>Zip Code</th>\n",
              "      <th>Place Name</th>\n",
              "      <th>Unnamed: 26</th>\n",
              "      <th>Unnamed: 27</th>\n",
              "      <th>Unnamed: 28</th>\n",
              "      <th>Unnamed: 29</th>\n",
              "      <th>Unnamed: 30</th>\n",
              "      <th>Unnamed: 31</th>\n",
              "      <th>Unnamed: 32</th>\n",
              "    </tr>\n",
              "  </thead>\n",
              "  <tbody>\n",
              "    <tr>\n",
              "      <th>0</th>\n",
              "      <td>11/14/16</td>\n",
              "      <td>Mortgage</td>\n",
              "      <td>Other mortgage</td>\n",
              "      <td>Loan modification,collection,foreclosure</td>\n",
              "      <td>NaN</td>\n",
              "      <td>NaN</td>\n",
              "      <td>Company has responded to the consumer and the ...</td>\n",
              "      <td>WELLS FARGO &amp; COMPANY</td>\n",
              "      <td>AK</td>\n",
              "      <td>99524</td>\n",
              "      <td>...</td>\n",
              "      <td>NaN</td>\n",
              "      <td>1245.0</td>\n",
              "      <td>Monterey</td>\n",
              "      <td>NaN</td>\n",
              "      <td>NaN</td>\n",
              "      <td>NaN</td>\n",
              "      <td>92307.0</td>\n",
              "      <td>Apple Valley</td>\n",
              "      <td>California</td>\n",
              "      <td>CA</td>\n",
              "    </tr>\n",
              "    <tr>\n",
              "      <th>1</th>\n",
              "      <td>02-09-2015</td>\n",
              "      <td>Mortgage</td>\n",
              "      <td>FHA mortgage</td>\n",
              "      <td>Loan modification,collection,foreclosure</td>\n",
              "      <td>NaN</td>\n",
              "      <td>NaN</td>\n",
              "      <td>NaN</td>\n",
              "      <td>WELLS FARGO &amp; COMPANY</td>\n",
              "      <td>AK</td>\n",
              "      <td>99567</td>\n",
              "      <td>...</td>\n",
              "      <td>NaN</td>\n",
              "      <td>1253.0</td>\n",
              "      <td>Otis</td>\n",
              "      <td>NaN</td>\n",
              "      <td>NaN</td>\n",
              "      <td>NaN</td>\n",
              "      <td>95001.0</td>\n",
              "      <td>Aptos</td>\n",
              "      <td>California</td>\n",
              "      <td>CA</td>\n",
              "    </tr>\n",
              "    <tr>\n",
              "      <th>2</th>\n",
              "      <td>03-02-2016</td>\n",
              "      <td>Mortgage</td>\n",
              "      <td>Other mortgage</td>\n",
              "      <td>Application, originator, mortgage broker</td>\n",
              "      <td>NaN</td>\n",
              "      <td>I refinanced my loan with Wells Fargo. The ori...</td>\n",
              "      <td>Company has responded to the consumer and the ...</td>\n",
              "      <td>WELLS FARGO &amp; COMPANY</td>\n",
              "      <td>AK</td>\n",
              "      <td>995XX</td>\n",
              "      <td>...</td>\n",
              "      <td>NaN</td>\n",
              "      <td>1254.0</td>\n",
              "      <td>Richmond</td>\n",
              "      <td>NaN</td>\n",
              "      <td>NaN</td>\n",
              "      <td>NaN</td>\n",
              "      <td>95003.0</td>\n",
              "      <td>Aptos</td>\n",
              "      <td>California</td>\n",
              "      <td>CA</td>\n",
              "    </tr>\n",
              "    <tr>\n",
              "      <th>3</th>\n",
              "      <td>12-02-2014</td>\n",
              "      <td>Mortgage</td>\n",
              "      <td>FHA mortgage</td>\n",
              "      <td>Loan modification,collection,foreclosure</td>\n",
              "      <td>NaN</td>\n",
              "      <td>NaN</td>\n",
              "      <td>NaN</td>\n",
              "      <td>WELLS FARGO &amp; COMPANY</td>\n",
              "      <td>AK</td>\n",
              "      <td>99507</td>\n",
              "      <td>...</td>\n",
              "      <td>NaN</td>\n",
              "      <td>1256.0</td>\n",
              "      <td>Savoy</td>\n",
              "      <td>NaN</td>\n",
              "      <td>NaN</td>\n",
              "      <td>NaN</td>\n",
              "      <td>95912.0</td>\n",
              "      <td>Arbuckle</td>\n",
              "      <td>California</td>\n",
              "      <td>CA</td>\n",
              "    </tr>\n",
              "    <tr>\n",
              "      <th>4</th>\n",
              "      <td>03-07-2013</td>\n",
              "      <td>Mortgage</td>\n",
              "      <td>Other mortgage</td>\n",
              "      <td>Loan servicing, payments, escrow account</td>\n",
              "      <td>NaN</td>\n",
              "      <td>NaN</td>\n",
              "      <td>NaN</td>\n",
              "      <td>WELLS FARGO &amp; COMPANY</td>\n",
              "      <td>AK</td>\n",
              "      <td>99516</td>\n",
              "      <td>...</td>\n",
              "      <td>NaN</td>\n",
              "      <td>1259.0</td>\n",
              "      <td>Southfield</td>\n",
              "      <td>NaN</td>\n",
              "      <td>NaN</td>\n",
              "      <td>NaN</td>\n",
              "      <td>91066.0</td>\n",
              "      <td>Arcadia</td>\n",
              "      <td>California</td>\n",
              "      <td>CA</td>\n",
              "    </tr>\n",
              "  </tbody>\n",
              "</table>\n",
              "<p>5 rows × 33 columns</p>\n",
              "</div>"
            ],
            "text/plain": [
              "  Date received   Product     Sub-product  \\\n",
              "0      11/14/16  Mortgage  Other mortgage   \n",
              "1    02-09-2015  Mortgage    FHA mortgage   \n",
              "2    03-02-2016  Mortgage  Other mortgage   \n",
              "3    12-02-2014  Mortgage    FHA mortgage   \n",
              "4    03-07-2013  Mortgage  Other mortgage   \n",
              "\n",
              "                                      Issue  Sub-issue  \\\n",
              "0  Loan modification,collection,foreclosure        NaN   \n",
              "1  Loan modification,collection,foreclosure        NaN   \n",
              "2  Application, originator, mortgage broker        NaN   \n",
              "3  Loan modification,collection,foreclosure        NaN   \n",
              "4  Loan servicing, payments, escrow account        NaN   \n",
              "\n",
              "                        Consumer complaint narrative  \\\n",
              "0                                                NaN   \n",
              "1                                                NaN   \n",
              "2  I refinanced my loan with Wells Fargo. The ori...   \n",
              "3                                                NaN   \n",
              "4                                                NaN   \n",
              "\n",
              "                             Company public response                Company  \\\n",
              "0  Company has responded to the consumer and the ...  WELLS FARGO & COMPANY   \n",
              "1                                                NaN  WELLS FARGO & COMPANY   \n",
              "2  Company has responded to the consumer and the ...  WELLS FARGO & COMPANY   \n",
              "3                                                NaN  WELLS FARGO & COMPANY   \n",
              "4                                                NaN  WELLS FARGO & COMPANY   \n",
              "\n",
              "  State ZIP code     ...      Unnamed: 23 Zip Code  Place Name Unnamed: 26  \\\n",
              "0    AK    99524     ...              NaN   1245.0    Monterey         NaN   \n",
              "1    AK    99567     ...              NaN   1253.0        Otis         NaN   \n",
              "2    AK    995XX     ...              NaN   1254.0    Richmond         NaN   \n",
              "3    AK    99507     ...              NaN   1256.0       Savoy         NaN   \n",
              "4    AK    99516     ...              NaN   1259.0  Southfield         NaN   \n",
              "\n",
              "  Unnamed: 27 Unnamed: 28 Unnamed: 29   Unnamed: 30 Unnamed: 31  Unnamed: 32  \n",
              "0         NaN         NaN     92307.0  Apple Valley  California           CA  \n",
              "1         NaN         NaN     95001.0         Aptos  California           CA  \n",
              "2         NaN         NaN     95003.0         Aptos  California           CA  \n",
              "3         NaN         NaN     95912.0      Arbuckle  California           CA  \n",
              "4         NaN         NaN     91066.0       Arcadia  California           CA  \n",
              "\n",
              "[5 rows x 33 columns]"
            ]
          },
          "metadata": {
            "tags": []
          },
          "execution_count": 51
        }
      ]
    },
    {
      "metadata": {
        "id": "1OjRKr-G76pQ",
        "colab_type": "code",
        "colab": {
          "base_uri": "https://localhost:8080/",
          "height": 34
        },
        "outputId": "af4de554-8ddd-4037-bd31-db1d0aa3592b"
      },
      "cell_type": "code",
      "source": [
        "data.shape"
      ],
      "execution_count": 52,
      "outputs": [
        {
          "output_type": "execute_result",
          "data": {
            "text/plain": [
              "(34081, 33)"
            ]
          },
          "metadata": {
            "tags": []
          },
          "execution_count": 52
        }
      ]
    },
    {
      "metadata": {
        "id": "pHpo_wll8Y3V",
        "colab_type": "code",
        "colab": {}
      },
      "cell_type": "code",
      "source": [
        "#req_cols = ['Date received','Issue','State','Submitted via', 'Date sent to company','Company reponse to consumer']\n",
        "req_cols = ['Date received','Issue','City','Submitted via', 'Date sent to company','Company response to consumer']"
      ],
      "execution_count": 0,
      "outputs": []
    },
    {
      "metadata": {
        "id": "0gw8YvFAAvDD",
        "colab_type": "code",
        "colab": {
          "base_uri": "https://localhost:8080/",
          "height": 187
        },
        "outputId": "47ca69cd-60c6-4070-efc7-27a8dafb8427"
      },
      "cell_type": "code",
      "source": [
        "data.columns"
      ],
      "execution_count": 54,
      "outputs": [
        {
          "output_type": "execute_result",
          "data": {
            "text/plain": [
              "Index(['Date received', 'Product', 'Sub-product', 'Issue', 'Sub-issue',\n",
              "       'Consumer complaint narrative', 'Company public response', 'Company',\n",
              "       'State', 'ZIP code', 'Tags', 'Consumer consent provided?',\n",
              "       'Submitted via', 'Date sent to company', 'Company response to consumer',\n",
              "       'Timely response?', 'Consumer disputed?', 'Complaint ID', 'City',\n",
              "       'Unnamed: 19', 'Unnamed: 20', 'Unnamed: 21', 'Unnamed: 22',\n",
              "       'Unnamed: 23', 'Zip Code', 'Place Name', 'Unnamed: 26', 'Unnamed: 27',\n",
              "       'Unnamed: 28', 'Unnamed: 29', 'Unnamed: 30', 'Unnamed: 31',\n",
              "       'Unnamed: 32'],\n",
              "      dtype='object')"
            ]
          },
          "metadata": {
            "tags": []
          },
          "execution_count": 54
        }
      ]
    },
    {
      "metadata": {
        "id": "bGaZu1Xc_K-j",
        "colab_type": "code",
        "colab": {}
      },
      "cell_type": "code",
      "source": [
        "data_req = data[req_cols]"
      ],
      "execution_count": 0,
      "outputs": []
    },
    {
      "metadata": {
        "id": "FKR2PBW-_QIk",
        "colab_type": "code",
        "colab": {
          "base_uri": "https://localhost:8080/",
          "height": 34
        },
        "outputId": "1bc1e618-9c4c-4b11-d9d1-36aaf58c12b9"
      },
      "cell_type": "code",
      "source": [
        "data_req.shape"
      ],
      "execution_count": 56,
      "outputs": [
        {
          "output_type": "execute_result",
          "data": {
            "text/plain": [
              "(34081, 6)"
            ]
          },
          "metadata": {
            "tags": []
          },
          "execution_count": 56
        }
      ]
    },
    {
      "metadata": {
        "id": "exaKtRM9B2yH",
        "colab_type": "code",
        "colab": {
          "base_uri": "https://localhost:8080/",
          "height": 68
        },
        "outputId": "6c2a912a-1280-4350-aaf1-d82a853e591a"
      },
      "cell_type": "code",
      "source": [
        "data_req.columns"
      ],
      "execution_count": 57,
      "outputs": [
        {
          "output_type": "execute_result",
          "data": {
            "text/plain": [
              "Index(['Date received', 'Issue', 'City', 'Submitted via',\n",
              "       'Date sent to company', 'Company response to consumer'],\n",
              "      dtype='object')"
            ]
          },
          "metadata": {
            "tags": []
          },
          "execution_count": 57
        }
      ]
    },
    {
      "metadata": {
        "id": "N0SM4rJYK0PK",
        "colab_type": "code",
        "colab": {
          "base_uri": "https://localhost:8080/",
          "height": 221
        },
        "outputId": "ab84f487-e3e5-4bb3-e01c-889108449f43"
      },
      "cell_type": "code",
      "source": [
        "data_req['Date received']=pd.to_datetime(data_req['Date received'])\n",
        "data_req['Date sent to company']=pd.to_datetime(data_req['Date sent to company'])"
      ],
      "execution_count": 58,
      "outputs": [
        {
          "output_type": "stream",
          "text": [
            "/usr/local/lib/python3.6/dist-packages/ipykernel_launcher.py:1: SettingWithCopyWarning: \n",
            "A value is trying to be set on a copy of a slice from a DataFrame.\n",
            "Try using .loc[row_indexer,col_indexer] = value instead\n",
            "\n",
            "See the caveats in the documentation: http://pandas.pydata.org/pandas-docs/stable/indexing.html#indexing-view-versus-copy\n",
            "  \"\"\"Entry point for launching an IPython kernel.\n",
            "/usr/local/lib/python3.6/dist-packages/ipykernel_launcher.py:2: SettingWithCopyWarning: \n",
            "A value is trying to be set on a copy of a slice from a DataFrame.\n",
            "Try using .loc[row_indexer,col_indexer] = value instead\n",
            "\n",
            "See the caveats in the documentation: http://pandas.pydata.org/pandas-docs/stable/indexing.html#indexing-view-versus-copy\n",
            "  \n"
          ],
          "name": "stderr"
        }
      ]
    },
    {
      "metadata": {
        "id": "3Ck-NE03MZiX",
        "colab_type": "code",
        "colab": {
          "base_uri": "https://localhost:8080/",
          "height": 204
        },
        "outputId": "0946a172-ef45-419d-fbc3-a1edc08c2a52"
      },
      "cell_type": "code",
      "source": [
        "data_req.info()"
      ],
      "execution_count": 59,
      "outputs": [
        {
          "output_type": "stream",
          "text": [
            "<class 'pandas.core.frame.DataFrame'>\n",
            "RangeIndex: 34081 entries, 0 to 34080\n",
            "Data columns (total 6 columns):\n",
            "Date received                   34081 non-null datetime64[ns]\n",
            "Issue                           34081 non-null object\n",
            "City                            28423 non-null object\n",
            "Submitted via                   34081 non-null object\n",
            "Date sent to company            34081 non-null datetime64[ns]\n",
            "Company response to consumer    34081 non-null object\n",
            "dtypes: datetime64[ns](2), object(4)\n",
            "memory usage: 1.6+ MB\n"
          ],
          "name": "stdout"
        }
      ]
    },
    {
      "metadata": {
        "id": "LUJfHbiaM48W",
        "colab_type": "code",
        "colab": {
          "base_uri": "https://localhost:8080/",
          "height": 306
        },
        "outputId": "341bc8af-8798-4b4b-b28e-a857e7c74aaa"
      },
      "cell_type": "code",
      "source": [
        "data_req['Time Difference'] = (data_req['Date sent to company']-data_req['Date received']).astype('timedelta64[s]')\n",
        "data_req.head()"
      ],
      "execution_count": 60,
      "outputs": [
        {
          "output_type": "stream",
          "text": [
            "/usr/local/lib/python3.6/dist-packages/ipykernel_launcher.py:1: SettingWithCopyWarning: \n",
            "A value is trying to be set on a copy of a slice from a DataFrame.\n",
            "Try using .loc[row_indexer,col_indexer] = value instead\n",
            "\n",
            "See the caveats in the documentation: http://pandas.pydata.org/pandas-docs/stable/indexing.html#indexing-view-versus-copy\n",
            "  \"\"\"Entry point for launching an IPython kernel.\n"
          ],
          "name": "stderr"
        },
        {
          "output_type": "execute_result",
          "data": {
            "text/html": [
              "<div>\n",
              "<style scoped>\n",
              "    .dataframe tbody tr th:only-of-type {\n",
              "        vertical-align: middle;\n",
              "    }\n",
              "\n",
              "    .dataframe tbody tr th {\n",
              "        vertical-align: top;\n",
              "    }\n",
              "\n",
              "    .dataframe thead th {\n",
              "        text-align: right;\n",
              "    }\n",
              "</style>\n",
              "<table border=\"1\" class=\"dataframe\">\n",
              "  <thead>\n",
              "    <tr style=\"text-align: right;\">\n",
              "      <th></th>\n",
              "      <th>Date received</th>\n",
              "      <th>Issue</th>\n",
              "      <th>City</th>\n",
              "      <th>Submitted via</th>\n",
              "      <th>Date sent to company</th>\n",
              "      <th>Company response to consumer</th>\n",
              "      <th>Time Difference</th>\n",
              "    </tr>\n",
              "  </thead>\n",
              "  <tbody>\n",
              "    <tr>\n",
              "      <th>0</th>\n",
              "      <td>2016-11-14</td>\n",
              "      <td>Loan modification,collection,foreclosure</td>\n",
              "      <td>Anchorage</td>\n",
              "      <td>Referral</td>\n",
              "      <td>2016-11-16</td>\n",
              "      <td>Closed with explanation</td>\n",
              "      <td>172800.0</td>\n",
              "    </tr>\n",
              "    <tr>\n",
              "      <th>1</th>\n",
              "      <td>2015-02-09</td>\n",
              "      <td>Loan modification,collection,foreclosure</td>\n",
              "      <td>Chugiak</td>\n",
              "      <td>Web</td>\n",
              "      <td>2015-02-09</td>\n",
              "      <td>Closed with explanation</td>\n",
              "      <td>0.0</td>\n",
              "    </tr>\n",
              "    <tr>\n",
              "      <th>2</th>\n",
              "      <td>2016-03-02</td>\n",
              "      <td>Application, originator, mortgage broker</td>\n",
              "      <td>NaN</td>\n",
              "      <td>Web</td>\n",
              "      <td>2016-03-04</td>\n",
              "      <td>Closed with monetary relief</td>\n",
              "      <td>172800.0</td>\n",
              "    </tr>\n",
              "    <tr>\n",
              "      <th>3</th>\n",
              "      <td>2014-12-02</td>\n",
              "      <td>Loan modification,collection,foreclosure</td>\n",
              "      <td>Anchorage</td>\n",
              "      <td>Web</td>\n",
              "      <td>2014-12-05</td>\n",
              "      <td>Closed with explanation</td>\n",
              "      <td>259200.0</td>\n",
              "    </tr>\n",
              "    <tr>\n",
              "      <th>4</th>\n",
              "      <td>2013-03-07</td>\n",
              "      <td>Loan servicing, payments, escrow account</td>\n",
              "      <td>Anchorage</td>\n",
              "      <td>Referral</td>\n",
              "      <td>2013-03-08</td>\n",
              "      <td>Closed with explanation</td>\n",
              "      <td>86400.0</td>\n",
              "    </tr>\n",
              "  </tbody>\n",
              "</table>\n",
              "</div>"
            ],
            "text/plain": [
              "  Date received                                     Issue       City  \\\n",
              "0    2016-11-14  Loan modification,collection,foreclosure  Anchorage   \n",
              "1    2015-02-09  Loan modification,collection,foreclosure    Chugiak   \n",
              "2    2016-03-02  Application, originator, mortgage broker        NaN   \n",
              "3    2014-12-02  Loan modification,collection,foreclosure  Anchorage   \n",
              "4    2013-03-07  Loan servicing, payments, escrow account  Anchorage   \n",
              "\n",
              "  Submitted via Date sent to company Company response to consumer  \\\n",
              "0      Referral           2016-11-16      Closed with explanation   \n",
              "1           Web           2015-02-09      Closed with explanation   \n",
              "2           Web           2016-03-04  Closed with monetary relief   \n",
              "3           Web           2014-12-05      Closed with explanation   \n",
              "4      Referral           2013-03-08      Closed with explanation   \n",
              "\n",
              "   Time Difference  \n",
              "0         172800.0  \n",
              "1              0.0  \n",
              "2         172800.0  \n",
              "3         259200.0  \n",
              "4          86400.0  "
            ]
          },
          "metadata": {
            "tags": []
          },
          "execution_count": 60
        }
      ]
    },
    {
      "metadata": {
        "id": "jJ1DmhSQhEgn",
        "colab_type": "code",
        "colab": {
          "base_uri": "https://localhost:8080/",
          "height": 306
        },
        "outputId": "8d346fd6-087c-4f6a-8503-84949e3c08e5"
      },
      "cell_type": "code",
      "source": [
        "data_req.loc[data_req['Time Difference'] < 0, 'Time Difference'] = 0\n",
        "data_req.head()"
      ],
      "execution_count": 61,
      "outputs": [
        {
          "output_type": "stream",
          "text": [
            "/usr/local/lib/python3.6/dist-packages/pandas/core/indexing.py:537: SettingWithCopyWarning: \n",
            "A value is trying to be set on a copy of a slice from a DataFrame.\n",
            "Try using .loc[row_indexer,col_indexer] = value instead\n",
            "\n",
            "See the caveats in the documentation: http://pandas.pydata.org/pandas-docs/stable/indexing.html#indexing-view-versus-copy\n",
            "  self.obj[item] = s\n"
          ],
          "name": "stderr"
        },
        {
          "output_type": "execute_result",
          "data": {
            "text/html": [
              "<div>\n",
              "<style scoped>\n",
              "    .dataframe tbody tr th:only-of-type {\n",
              "        vertical-align: middle;\n",
              "    }\n",
              "\n",
              "    .dataframe tbody tr th {\n",
              "        vertical-align: top;\n",
              "    }\n",
              "\n",
              "    .dataframe thead th {\n",
              "        text-align: right;\n",
              "    }\n",
              "</style>\n",
              "<table border=\"1\" class=\"dataframe\">\n",
              "  <thead>\n",
              "    <tr style=\"text-align: right;\">\n",
              "      <th></th>\n",
              "      <th>Date received</th>\n",
              "      <th>Issue</th>\n",
              "      <th>City</th>\n",
              "      <th>Submitted via</th>\n",
              "      <th>Date sent to company</th>\n",
              "      <th>Company response to consumer</th>\n",
              "      <th>Time Difference</th>\n",
              "    </tr>\n",
              "  </thead>\n",
              "  <tbody>\n",
              "    <tr>\n",
              "      <th>0</th>\n",
              "      <td>2016-11-14</td>\n",
              "      <td>Loan modification,collection,foreclosure</td>\n",
              "      <td>Anchorage</td>\n",
              "      <td>Referral</td>\n",
              "      <td>2016-11-16</td>\n",
              "      <td>Closed with explanation</td>\n",
              "      <td>172800.0</td>\n",
              "    </tr>\n",
              "    <tr>\n",
              "      <th>1</th>\n",
              "      <td>2015-02-09</td>\n",
              "      <td>Loan modification,collection,foreclosure</td>\n",
              "      <td>Chugiak</td>\n",
              "      <td>Web</td>\n",
              "      <td>2015-02-09</td>\n",
              "      <td>Closed with explanation</td>\n",
              "      <td>0.0</td>\n",
              "    </tr>\n",
              "    <tr>\n",
              "      <th>2</th>\n",
              "      <td>2016-03-02</td>\n",
              "      <td>Application, originator, mortgage broker</td>\n",
              "      <td>NaN</td>\n",
              "      <td>Web</td>\n",
              "      <td>2016-03-04</td>\n",
              "      <td>Closed with monetary relief</td>\n",
              "      <td>172800.0</td>\n",
              "    </tr>\n",
              "    <tr>\n",
              "      <th>3</th>\n",
              "      <td>2014-12-02</td>\n",
              "      <td>Loan modification,collection,foreclosure</td>\n",
              "      <td>Anchorage</td>\n",
              "      <td>Web</td>\n",
              "      <td>2014-12-05</td>\n",
              "      <td>Closed with explanation</td>\n",
              "      <td>259200.0</td>\n",
              "    </tr>\n",
              "    <tr>\n",
              "      <th>4</th>\n",
              "      <td>2013-03-07</td>\n",
              "      <td>Loan servicing, payments, escrow account</td>\n",
              "      <td>Anchorage</td>\n",
              "      <td>Referral</td>\n",
              "      <td>2013-03-08</td>\n",
              "      <td>Closed with explanation</td>\n",
              "      <td>86400.0</td>\n",
              "    </tr>\n",
              "  </tbody>\n",
              "</table>\n",
              "</div>"
            ],
            "text/plain": [
              "  Date received                                     Issue       City  \\\n",
              "0    2016-11-14  Loan modification,collection,foreclosure  Anchorage   \n",
              "1    2015-02-09  Loan modification,collection,foreclosure    Chugiak   \n",
              "2    2016-03-02  Application, originator, mortgage broker        NaN   \n",
              "3    2014-12-02  Loan modification,collection,foreclosure  Anchorage   \n",
              "4    2013-03-07  Loan servicing, payments, escrow account  Anchorage   \n",
              "\n",
              "  Submitted via Date sent to company Company response to consumer  \\\n",
              "0      Referral           2016-11-16      Closed with explanation   \n",
              "1           Web           2015-02-09      Closed with explanation   \n",
              "2           Web           2016-03-04  Closed with monetary relief   \n",
              "3           Web           2014-12-05      Closed with explanation   \n",
              "4      Referral           2013-03-08      Closed with explanation   \n",
              "\n",
              "   Time Difference  \n",
              "0         172800.0  \n",
              "1              0.0  \n",
              "2         172800.0  \n",
              "3         259200.0  \n",
              "4          86400.0  "
            ]
          },
          "metadata": {
            "tags": []
          },
          "execution_count": 61
        }
      ]
    },
    {
      "metadata": {
        "id": "0nqdUr0Eo1pw",
        "colab_type": "code",
        "colab": {
          "base_uri": "https://localhost:8080/",
          "height": 119
        },
        "outputId": "a6466c70-3444-40d4-ecd2-41f577f0c4ab"
      },
      "cell_type": "code",
      "source": [
        "from sklearn.preprocessing import MinMaxScaler\n",
        "values=data_req['Time Difference'].values.reshape((len(data_req['Time Difference']), 1))\n",
        "# train the normalization\n",
        "scaler = MinMaxScaler(feature_range=(0, 1))\n",
        "scaler = scaler.fit(values)\n",
        "# normalize the dataset\n",
        "data_req['Time Difference'] = scaler.transform(values)  "
      ],
      "execution_count": 62,
      "outputs": [
        {
          "output_type": "stream",
          "text": [
            "/usr/local/lib/python3.6/dist-packages/ipykernel_launcher.py:7: SettingWithCopyWarning: \n",
            "A value is trying to be set on a copy of a slice from a DataFrame.\n",
            "Try using .loc[row_indexer,col_indexer] = value instead\n",
            "\n",
            "See the caveats in the documentation: http://pandas.pydata.org/pandas-docs/stable/indexing.html#indexing-view-versus-copy\n",
            "  import sys\n"
          ],
          "name": "stderr"
        }
      ]
    },
    {
      "metadata": {
        "id": "EfSb_mHWp8Gt",
        "colab_type": "code",
        "colab": {
          "base_uri": "https://localhost:8080/",
          "height": 204
        },
        "outputId": "803891cc-ed1f-49b4-93d9-d46fe72067d2"
      },
      "cell_type": "code",
      "source": [
        "data_req.head()"
      ],
      "execution_count": 63,
      "outputs": [
        {
          "output_type": "execute_result",
          "data": {
            "text/html": [
              "<div>\n",
              "<style scoped>\n",
              "    .dataframe tbody tr th:only-of-type {\n",
              "        vertical-align: middle;\n",
              "    }\n",
              "\n",
              "    .dataframe tbody tr th {\n",
              "        vertical-align: top;\n",
              "    }\n",
              "\n",
              "    .dataframe thead th {\n",
              "        text-align: right;\n",
              "    }\n",
              "</style>\n",
              "<table border=\"1\" class=\"dataframe\">\n",
              "  <thead>\n",
              "    <tr style=\"text-align: right;\">\n",
              "      <th></th>\n",
              "      <th>Date received</th>\n",
              "      <th>Issue</th>\n",
              "      <th>City</th>\n",
              "      <th>Submitted via</th>\n",
              "      <th>Date sent to company</th>\n",
              "      <th>Company response to consumer</th>\n",
              "      <th>Time Difference</th>\n",
              "    </tr>\n",
              "  </thead>\n",
              "  <tbody>\n",
              "    <tr>\n",
              "      <th>0</th>\n",
              "      <td>2016-11-14</td>\n",
              "      <td>Loan modification,collection,foreclosure</td>\n",
              "      <td>Anchorage</td>\n",
              "      <td>Referral</td>\n",
              "      <td>2016-11-16</td>\n",
              "      <td>Closed with explanation</td>\n",
              "      <td>0.003846</td>\n",
              "    </tr>\n",
              "    <tr>\n",
              "      <th>1</th>\n",
              "      <td>2015-02-09</td>\n",
              "      <td>Loan modification,collection,foreclosure</td>\n",
              "      <td>Chugiak</td>\n",
              "      <td>Web</td>\n",
              "      <td>2015-02-09</td>\n",
              "      <td>Closed with explanation</td>\n",
              "      <td>0.000000</td>\n",
              "    </tr>\n",
              "    <tr>\n",
              "      <th>2</th>\n",
              "      <td>2016-03-02</td>\n",
              "      <td>Application, originator, mortgage broker</td>\n",
              "      <td>NaN</td>\n",
              "      <td>Web</td>\n",
              "      <td>2016-03-04</td>\n",
              "      <td>Closed with monetary relief</td>\n",
              "      <td>0.003846</td>\n",
              "    </tr>\n",
              "    <tr>\n",
              "      <th>3</th>\n",
              "      <td>2014-12-02</td>\n",
              "      <td>Loan modification,collection,foreclosure</td>\n",
              "      <td>Anchorage</td>\n",
              "      <td>Web</td>\n",
              "      <td>2014-12-05</td>\n",
              "      <td>Closed with explanation</td>\n",
              "      <td>0.005769</td>\n",
              "    </tr>\n",
              "    <tr>\n",
              "      <th>4</th>\n",
              "      <td>2013-03-07</td>\n",
              "      <td>Loan servicing, payments, escrow account</td>\n",
              "      <td>Anchorage</td>\n",
              "      <td>Referral</td>\n",
              "      <td>2013-03-08</td>\n",
              "      <td>Closed with explanation</td>\n",
              "      <td>0.001923</td>\n",
              "    </tr>\n",
              "  </tbody>\n",
              "</table>\n",
              "</div>"
            ],
            "text/plain": [
              "  Date received                                     Issue       City  \\\n",
              "0    2016-11-14  Loan modification,collection,foreclosure  Anchorage   \n",
              "1    2015-02-09  Loan modification,collection,foreclosure    Chugiak   \n",
              "2    2016-03-02  Application, originator, mortgage broker        NaN   \n",
              "3    2014-12-02  Loan modification,collection,foreclosure  Anchorage   \n",
              "4    2013-03-07  Loan servicing, payments, escrow account  Anchorage   \n",
              "\n",
              "  Submitted via Date sent to company Company response to consumer  \\\n",
              "0      Referral           2016-11-16      Closed with explanation   \n",
              "1           Web           2015-02-09      Closed with explanation   \n",
              "2           Web           2016-03-04  Closed with monetary relief   \n",
              "3           Web           2014-12-05      Closed with explanation   \n",
              "4      Referral           2013-03-08      Closed with explanation   \n",
              "\n",
              "   Time Difference  \n",
              "0         0.003846  \n",
              "1         0.000000  \n",
              "2         0.003846  \n",
              "3         0.005769  \n",
              "4         0.001923  "
            ]
          },
          "metadata": {
            "tags": []
          },
          "execution_count": 63
        }
      ]
    },
    {
      "metadata": {
        "id": "r4yvSJWwNscO",
        "colab_type": "code",
        "colab": {
          "base_uri": "https://localhost:8080/",
          "height": 153
        },
        "outputId": "0c93ba17-5768-4cc4-f2b4-cb4b2e1aa09c"
      },
      "cell_type": "code",
      "source": [
        "data_req.dtypes"
      ],
      "execution_count": 64,
      "outputs": [
        {
          "output_type": "execute_result",
          "data": {
            "text/plain": [
              "Date received                   datetime64[ns]\n",
              "Issue                                   object\n",
              "City                                    object\n",
              "Submitted via                           object\n",
              "Date sent to company            datetime64[ns]\n",
              "Company response to consumer            object\n",
              "Time Difference                        float64\n",
              "dtype: object"
            ]
          },
          "metadata": {
            "tags": []
          },
          "execution_count": 64
        }
      ]
    },
    {
      "metadata": {
        "id": "TI9NIxErOT6I",
        "colab_type": "code",
        "colab": {}
      },
      "cell_type": "code",
      "source": [
        "data_req=data_req.drop(data_req.columns[[0, 4]], axis=1)"
      ],
      "execution_count": 0,
      "outputs": []
    },
    {
      "metadata": {
        "id": "T-8lBkHDOvnM",
        "colab_type": "code",
        "colab": {
          "base_uri": "https://localhost:8080/",
          "height": 187
        },
        "outputId": "d60878fb-dedc-49a0-c9f1-2196881a8088"
      },
      "cell_type": "code",
      "source": [
        "data_req.info()"
      ],
      "execution_count": 66,
      "outputs": [
        {
          "output_type": "stream",
          "text": [
            "<class 'pandas.core.frame.DataFrame'>\n",
            "RangeIndex: 34081 entries, 0 to 34080\n",
            "Data columns (total 5 columns):\n",
            "Issue                           34081 non-null object\n",
            "City                            28423 non-null object\n",
            "Submitted via                   34081 non-null object\n",
            "Company response to consumer    34081 non-null object\n",
            "Time Difference                 34081 non-null float64\n",
            "dtypes: float64(1), object(4)\n",
            "memory usage: 1.3+ MB\n"
          ],
          "name": "stdout"
        }
      ]
    },
    {
      "metadata": {
        "id": "T-HIUdp9THnY",
        "colab_type": "code",
        "colab": {
          "base_uri": "https://localhost:8080/",
          "height": 289
        },
        "outputId": "943b7496-45e3-4fbd-d4ce-2fdecca8a3ba"
      },
      "cell_type": "code",
      "source": [
        "data_req['Issue'].value_counts(dropna=False)"
      ],
      "execution_count": 67,
      "outputs": [
        {
          "output_type": "execute_result",
          "data": {
            "text/plain": [
              "Loan modification,collection,foreclosure                                            17187\n",
              "Loan servicing, payments, escrow account                                             7955\n",
              "Application, originator, mortgage broker                                             2554\n",
              "Struggling to pay mortgage                                                           1651\n",
              "Trouble during payment process                                                       1406\n",
              "Settlement process and costs                                                         1081\n",
              "Credit decision / Underwriting                                                        858\n",
              "Other                                                                                 708\n",
              "Applying for a mortgage or refinancing an existing mortgage                           301\n",
              "Closing on a mortgage                                                                 225\n",
              "Incorrect information on your report                                                   75\n",
              "Applying for a mortgage                                                                53\n",
              "Problem with a credit reporting company's investigation into an existing problem       20\n",
              "Improper use of your report                                                             4\n",
              "Unable to get your credit report or credit score                                        3\n",
              "Name: Issue, dtype: int64"
            ]
          },
          "metadata": {
            "tags": []
          },
          "execution_count": 67
        }
      ]
    },
    {
      "metadata": {
        "id": "ihEUdbUnUvT_",
        "colab_type": "code",
        "colab": {
          "base_uri": "https://localhost:8080/",
          "height": 1071
        },
        "outputId": "1c56da11-8915-4ac6-d6d4-8bfeb54275f2"
      },
      "cell_type": "code",
      "source": [
        "data_req['City'].value_counts(dropna=False)"
      ],
      "execution_count": 68,
      "outputs": [
        {
          "output_type": "execute_result",
          "data": {
            "text/plain": [
              "NaN                 5658\n",
              "Miami                513\n",
              "Los Angeles          296\n",
              "Atlanta              266\n",
              "Brooklyn             231\n",
              "Chicago              227\n",
              "San Diego            194\n",
              "Philadelphia         190\n",
              "Jacksonville         157\n",
              "Fort Lauderdale      157\n",
              "Washington           156\n",
              "Las Vegas            154\n",
              "Pompano Beach        143\n",
              "San Francisco        143\n",
              "Charlotte            137\n",
              "New York             137\n",
              "Orlando              129\n",
              "San Jose             128\n",
              "Seattle              123\n",
              "Minneapolis          122\n",
              "Sacramento           122\n",
              "Houston              119\n",
              "Phoenix              112\n",
              "Portland             111\n",
              "West Palm Beach      105\n",
              "Hollywood            104\n",
              "Dallas               101\n",
              "Oakland               99\n",
              "Baltimore             98\n",
              "Corona                96\n",
              "                    ... \n",
              "Hamptonville           1\n",
              "Port Sanilac           1\n",
              "Providence Forge       1\n",
              "Zephyr Cove            1\n",
              "Wixom                  1\n",
              "Orland                 1\n",
              "Roaring Springs        1\n",
              "Dwight                 1\n",
              "South Charleston       1\n",
              "Etters                 1\n",
              "Saddle Brook           1\n",
              "Bonita                 1\n",
              "Waddell                1\n",
              "Mt Zion                1\n",
              "Mendocino              1\n",
              "Toano                  1\n",
              "Preston                1\n",
              "Keysville              1\n",
              "Provincetown           1\n",
              "Zirconia               1\n",
              "Marshville             1\n",
              "Alfred                 1\n",
              "Spicewood              1\n",
              "Jber                   1\n",
              "East Aurora            1\n",
              "Gansevoort             1\n",
              "Depoe Bay              1\n",
              "Demotte                1\n",
              "Ames                   1\n",
              "Pearl                  1\n",
              "Name: City, Length: 4521, dtype: int64"
            ]
          },
          "metadata": {
            "tags": []
          },
          "execution_count": 68
        }
      ]
    },
    {
      "metadata": {
        "id": "USZY_CTRU1-U",
        "colab_type": "code",
        "colab": {
          "base_uri": "https://localhost:8080/",
          "height": 136
        },
        "outputId": "45c28ff6-051c-4f87-c79f-4be1cc66eb49"
      },
      "cell_type": "code",
      "source": [
        "data_req['Submitted via'].value_counts(dropna=False)"
      ],
      "execution_count": 69,
      "outputs": [
        {
          "output_type": "execute_result",
          "data": {
            "text/plain": [
              "Web            18303\n",
              "Referral       11262\n",
              "Phone           1927\n",
              "Postal mail     1842\n",
              "Fax              727\n",
              "Email             20\n",
              "Name: Submitted via, dtype: int64"
            ]
          },
          "metadata": {
            "tags": []
          },
          "execution_count": 69
        }
      ]
    },
    {
      "metadata": {
        "id": "0H3FpR3yVTiU",
        "colab_type": "code",
        "colab": {
          "base_uri": "https://localhost:8080/",
          "height": 170
        },
        "outputId": "25821112-52cf-4e3e-f8fb-4a5e778ebbcc"
      },
      "cell_type": "code",
      "source": [
        "data_req['Company response to consumer'].value_counts(dropna=False)"
      ],
      "execution_count": 70,
      "outputs": [
        {
          "output_type": "execute_result",
          "data": {
            "text/plain": [
              "Closed with explanation            29158\n",
              "Closed without relief               1960\n",
              "Closed with non-monetary relief     1622\n",
              "Closed with monetary relief         1055\n",
              "In progress                          161\n",
              "Closed                                64\n",
              "Closed with relief                    57\n",
              "Untimely response                      4\n",
              "Name: Company response to consumer, dtype: int64"
            ]
          },
          "metadata": {
            "tags": []
          },
          "execution_count": 70
        }
      ]
    },
    {
      "metadata": {
        "id": "VsgpYY56VbDl",
        "colab_type": "code",
        "colab": {
          "base_uri": "https://localhost:8080/",
          "height": 1071
        },
        "outputId": "cb2cdefc-83ac-4836-b507-6eb9cbae18b5"
      },
      "cell_type": "code",
      "source": [
        "data_req['Time Difference'].value_counts(dropna=False)"
      ],
      "execution_count": 71,
      "outputs": [
        {
          "output_type": "execute_result",
          "data": {
            "text/plain": [
              "0.000000    13869\n",
              "0.001923     6012\n",
              "0.003846     3376\n",
              "0.005769     2542\n",
              "0.007692     2347\n",
              "0.009615     2009\n",
              "0.011538     1293\n",
              "0.013462      832\n",
              "0.015385      286\n",
              "0.017308      142\n",
              "0.019231      142\n",
              "0.028846       95\n",
              "0.025000       91\n",
              "0.021154       85\n",
              "0.023077       85\n",
              "0.026923       68\n",
              "0.032692       63\n",
              "0.030769       43\n",
              "0.036538       38\n",
              "0.067308       36\n",
              "0.042308       34\n",
              "0.038462       32\n",
              "0.040385       32\n",
              "0.034615       30\n",
              "0.055769       24\n",
              "0.053846       24\n",
              "0.044231       23\n",
              "0.075000       22\n",
              "0.046154       22\n",
              "0.069231       22\n",
              "            ...  \n",
              "0.157692        1\n",
              "0.190385        1\n",
              "0.405769        1\n",
              "0.144231        1\n",
              "0.317308        1\n",
              "0.334615        1\n",
              "0.263462        1\n",
              "0.425000        1\n",
              "0.186538        1\n",
              "0.496154        1\n",
              "0.494231        1\n",
              "0.446154        1\n",
              "0.113462        1\n",
              "0.390385        1\n",
              "0.523077        1\n",
              "0.250000        1\n",
              "0.203846        1\n",
              "0.513462        1\n",
              "0.480769        1\n",
              "0.169231        1\n",
              "0.121154        1\n",
              "0.342308        1\n",
              "0.253846        1\n",
              "0.225000        1\n",
              "0.209615        1\n",
              "0.142308        1\n",
              "0.363462        1\n",
              "0.401923        1\n",
              "0.194231        1\n",
              "0.365385        1\n",
              "Name: Time Difference, Length: 148, dtype: int64"
            ]
          },
          "metadata": {
            "tags": []
          },
          "execution_count": 71
        }
      ]
    },
    {
      "metadata": {
        "id": "VVYWjSUuWK5W",
        "colab_type": "code",
        "colab": {}
      },
      "cell_type": "code",
      "source": [
        "data_req=data_req.dropna(how='any')  "
      ],
      "execution_count": 0,
      "outputs": []
    },
    {
      "metadata": {
        "id": "xzu-XLi5Y42B",
        "colab_type": "code",
        "colab": {
          "base_uri": "https://localhost:8080/",
          "height": 187
        },
        "outputId": "99003097-ac45-4d95-a1a2-0dfcb754dccf"
      },
      "cell_type": "code",
      "source": [
        "data_req.info()"
      ],
      "execution_count": 73,
      "outputs": [
        {
          "output_type": "stream",
          "text": [
            "<class 'pandas.core.frame.DataFrame'>\n",
            "Int64Index: 28423 entries, 0 to 34078\n",
            "Data columns (total 5 columns):\n",
            "Issue                           28423 non-null object\n",
            "City                            28423 non-null object\n",
            "Submitted via                   28423 non-null object\n",
            "Company response to consumer    28423 non-null object\n",
            "Time Difference                 28423 non-null float64\n",
            "dtypes: float64(1), object(4)\n",
            "memory usage: 1.3+ MB\n"
          ],
          "name": "stdout"
        }
      ]
    },
    {
      "metadata": {
        "id": "hwOfmmY_ZnaR",
        "colab_type": "code",
        "colab": {
          "base_uri": "https://localhost:8080/",
          "height": 187
        },
        "outputId": "42636c8a-d1a1-419b-e465-3145b431b054"
      },
      "cell_type": "code",
      "source": [
        "data_req.info()"
      ],
      "execution_count": 74,
      "outputs": [
        {
          "output_type": "stream",
          "text": [
            "<class 'pandas.core.frame.DataFrame'>\n",
            "Int64Index: 28423 entries, 0 to 34078\n",
            "Data columns (total 5 columns):\n",
            "Issue                           28423 non-null object\n",
            "City                            28423 non-null object\n",
            "Submitted via                   28423 non-null object\n",
            "Company response to consumer    28423 non-null object\n",
            "Time Difference                 28423 non-null float64\n",
            "dtypes: float64(1), object(4)\n",
            "memory usage: 1.3+ MB\n"
          ],
          "name": "stdout"
        }
      ]
    },
    {
      "metadata": {
        "id": "U1vZhBzten_d",
        "colab_type": "code",
        "colab": {
          "base_uri": "https://localhost:8080/",
          "height": 136
        },
        "outputId": "5ca37594-8d03-4211-ceaa-886925ffae6a"
      },
      "cell_type": "code",
      "source": [
        "!pip install kmodes"
      ],
      "execution_count": 75,
      "outputs": [
        {
          "output_type": "stream",
          "text": [
            "Collecting kmodes\n",
            "  Downloading https://files.pythonhosted.org/packages/1a/d5/54e0efa2ddf33234761f8c35471f4a2280bb4cef44fd39fa08f1e663946a/kmodes-0.9-py2.py3-none-any.whl\n",
            "Requirement already satisfied: numpy>=1.10.4 in /usr/local/lib/python3.6/dist-packages (from kmodes) (1.14.5)\n",
            "Requirement already satisfied: scikit-learn<0.20.0,>=0.19.0 in /usr/local/lib/python3.6/dist-packages (from kmodes) (0.19.2)\n",
            "Requirement already satisfied: scipy>=0.13.3 in /usr/local/lib/python3.6/dist-packages (from kmodes) (0.19.1)\n",
            "Installing collected packages: kmodes\n",
            "Successfully installed kmodes-0.9\n"
          ],
          "name": "stdout"
        }
      ]
    },
    {
      "metadata": {
        "id": "AZYgFcLVeoSV",
        "colab_type": "code",
        "colab": {}
      },
      "cell_type": "code",
      "source": [
        "from kmodes.kprototypes import KPrototypes\n"
      ],
      "execution_count": 0,
      "outputs": []
    },
    {
      "metadata": {
        "id": "pD1bpd8ejtbN",
        "colab_type": "code",
        "colab": {}
      },
      "cell_type": "code",
      "source": [
        "km = KPrototypes(n_clusters=5, init='Huang', n_init=3, verbose=1)"
      ],
      "execution_count": 0,
      "outputs": []
    },
    {
      "metadata": {
        "id": "qXH97qFGjtwE",
        "colab_type": "code",
        "colab": {
          "base_uri": "https://localhost:8080/",
          "height": 442
        },
        "outputId": "942a1631-b867-4bec-b648-ef144d5b4284"
      },
      "cell_type": "code",
      "source": [
        "#clusters = km.fit_predict(data_req_new)\n",
        "clusters = km.fit_predict(data_req.as_matrix(), categorical=list(range(0,4)))"
      ],
      "execution_count": 78,
      "outputs": [
        {
          "output_type": "stream",
          "text": [
            "Init: initializing centroids\n",
            "Init: initializing clusters\n",
            "Starting iterations...\n",
            "Run: 1, iteration: 1/100, moves: 7565, ncost: 580.3015434880315\n",
            "Run: 1, iteration: 2/100, moves: 1163, ncost: 580.2062500939837\n",
            "Run: 1, iteration: 3/100, moves: 211, ncost: 580.2002053170235\n",
            "Run: 1, iteration: 4/100, moves: 1, ncost: 580.1996910770613\n",
            "Run: 1, iteration: 5/100, moves: 0, ncost: 580.1996910770613\n",
            "Init: initializing centroids\n",
            "Init: initializing clusters\n",
            "Starting iterations...\n",
            "Run: 2, iteration: 1/100, moves: 9287, ncost: 535.373336223052\n",
            "Run: 2, iteration: 2/100, moves: 3693, ncost: 535.3259617675925\n",
            "Run: 2, iteration: 3/100, moves: 908, ncost: 535.3231798877636\n",
            "Run: 2, iteration: 4/100, moves: 0, ncost: 535.3231798877636\n",
            "Init: initializing centroids\n",
            "Init: initializing clusters\n",
            "Starting iterations...\n",
            "Run: 3, iteration: 1/100, moves: 11493, ncost: 558.2573891255068\n",
            "Run: 3, iteration: 2/100, moves: 4399, ncost: 555.7569222366343\n",
            "Run: 3, iteration: 3/100, moves: 3135, ncost: 554.8220014857249\n",
            "Run: 3, iteration: 4/100, moves: 779, ncost: 554.7925844001026\n",
            "Run: 3, iteration: 5/100, moves: 13, ncost: 554.791960103851\n",
            "Run: 3, iteration: 6/100, moves: 0, ncost: 554.791960103851\n",
            "Best run was number 2\n"
          ],
          "name": "stdout"
        }
      ]
    },
    {
      "metadata": {
        "id": "ENqVdMQFjuMU",
        "colab_type": "code",
        "colab": {
          "base_uri": "https://localhost:8080/",
          "height": 255
        },
        "outputId": "b6ee8901-e933-499f-aa32-b2fe37f74391"
      },
      "cell_type": "code",
      "source": [
        "print(km.cluster_centroids_)"
      ],
      "execution_count": 79,
      "outputs": [
        {
          "output_type": "stream",
          "text": [
            "[array([[0.00390034],\n",
            "       [0.00676691],\n",
            "       [0.0124592 ],\n",
            "       [0.00796555],\n",
            "       [0.00313631]]), array([['Loan servicing, payments, escrow account', 'Los Angeles', 'Web',\n",
            "        'Closed with explanation'],\n",
            "       ['Loan modification,collection,foreclosure', 'Miami', 'Web',\n",
            "        'Closed with non-monetary relief'],\n",
            "       ['Loan modification,collection,foreclosure', 'Atlanta',\n",
            "        'Referral', 'Closed with explanation'],\n",
            "       ['Loan servicing, payments, escrow account', 'Chicago',\n",
            "        'Referral', 'Closed with explanation'],\n",
            "       ['Loan modification,collection,foreclosure', 'Miami', 'Web',\n",
            "        'Closed with explanation']], dtype='<U40')]\n"
          ],
          "name": "stdout"
        }
      ]
    },
    {
      "metadata": {
        "id": "xmUGtPPflvoK",
        "colab_type": "code",
        "colab": {}
      },
      "cell_type": "code",
      "source": [
        "clusters=clusters.reshape(28423,1)"
      ],
      "execution_count": 0,
      "outputs": []
    },
    {
      "metadata": {
        "id": "0dlikXo_lv8J",
        "colab_type": "code",
        "colab": {}
      },
      "cell_type": "code",
      "source": [
        "class_cluster = pd.DataFrame(clusters,columns=['Class cluster'])"
      ],
      "execution_count": 0,
      "outputs": []
    },
    {
      "metadata": {
        "id": "kJAWqwiHlwPB",
        "colab_type": "code",
        "colab": {
          "base_uri": "https://localhost:8080/",
          "height": 204
        },
        "outputId": "8146da9f-5918-4800-f12a-0b2b82750b42"
      },
      "cell_type": "code",
      "source": [
        "class_cluster.head()"
      ],
      "execution_count": 82,
      "outputs": [
        {
          "output_type": "execute_result",
          "data": {
            "text/html": [
              "<div>\n",
              "<style scoped>\n",
              "    .dataframe tbody tr th:only-of-type {\n",
              "        vertical-align: middle;\n",
              "    }\n",
              "\n",
              "    .dataframe tbody tr th {\n",
              "        vertical-align: top;\n",
              "    }\n",
              "\n",
              "    .dataframe thead th {\n",
              "        text-align: right;\n",
              "    }\n",
              "</style>\n",
              "<table border=\"1\" class=\"dataframe\">\n",
              "  <thead>\n",
              "    <tr style=\"text-align: right;\">\n",
              "      <th></th>\n",
              "      <th>Class cluster</th>\n",
              "    </tr>\n",
              "  </thead>\n",
              "  <tbody>\n",
              "    <tr>\n",
              "      <th>0</th>\n",
              "      <td>2</td>\n",
              "    </tr>\n",
              "    <tr>\n",
              "      <th>1</th>\n",
              "      <td>4</td>\n",
              "    </tr>\n",
              "    <tr>\n",
              "      <th>2</th>\n",
              "      <td>4</td>\n",
              "    </tr>\n",
              "    <tr>\n",
              "      <th>3</th>\n",
              "      <td>3</td>\n",
              "    </tr>\n",
              "    <tr>\n",
              "      <th>4</th>\n",
              "      <td>4</td>\n",
              "    </tr>\n",
              "  </tbody>\n",
              "</table>\n",
              "</div>"
            ],
            "text/plain": [
              "   Class cluster\n",
              "0              2\n",
              "1              4\n",
              "2              4\n",
              "3              3\n",
              "4              4"
            ]
          },
          "metadata": {
            "tags": []
          },
          "execution_count": 82
        }
      ]
    },
    {
      "metadata": {
        "id": "O4tZRJ5zlwgS",
        "colab_type": "code",
        "colab": {
          "base_uri": "https://localhost:8080/",
          "height": 204
        },
        "outputId": "cee8fa46-8170-4b19-81bc-145fd65c8d47"
      },
      "cell_type": "code",
      "source": [
        "data_req.head()\n"
      ],
      "execution_count": 83,
      "outputs": [
        {
          "output_type": "execute_result",
          "data": {
            "text/html": [
              "<div>\n",
              "<style scoped>\n",
              "    .dataframe tbody tr th:only-of-type {\n",
              "        vertical-align: middle;\n",
              "    }\n",
              "\n",
              "    .dataframe tbody tr th {\n",
              "        vertical-align: top;\n",
              "    }\n",
              "\n",
              "    .dataframe thead th {\n",
              "        text-align: right;\n",
              "    }\n",
              "</style>\n",
              "<table border=\"1\" class=\"dataframe\">\n",
              "  <thead>\n",
              "    <tr style=\"text-align: right;\">\n",
              "      <th></th>\n",
              "      <th>Issue</th>\n",
              "      <th>City</th>\n",
              "      <th>Submitted via</th>\n",
              "      <th>Company response to consumer</th>\n",
              "      <th>Time Difference</th>\n",
              "    </tr>\n",
              "  </thead>\n",
              "  <tbody>\n",
              "    <tr>\n",
              "      <th>0</th>\n",
              "      <td>Loan modification,collection,foreclosure</td>\n",
              "      <td>Anchorage</td>\n",
              "      <td>Referral</td>\n",
              "      <td>Closed with explanation</td>\n",
              "      <td>0.003846</td>\n",
              "    </tr>\n",
              "    <tr>\n",
              "      <th>1</th>\n",
              "      <td>Loan modification,collection,foreclosure</td>\n",
              "      <td>Chugiak</td>\n",
              "      <td>Web</td>\n",
              "      <td>Closed with explanation</td>\n",
              "      <td>0.000000</td>\n",
              "    </tr>\n",
              "    <tr>\n",
              "      <th>3</th>\n",
              "      <td>Loan modification,collection,foreclosure</td>\n",
              "      <td>Anchorage</td>\n",
              "      <td>Web</td>\n",
              "      <td>Closed with explanation</td>\n",
              "      <td>0.005769</td>\n",
              "    </tr>\n",
              "    <tr>\n",
              "      <th>4</th>\n",
              "      <td>Loan servicing, payments, escrow account</td>\n",
              "      <td>Anchorage</td>\n",
              "      <td>Referral</td>\n",
              "      <td>Closed with explanation</td>\n",
              "      <td>0.001923</td>\n",
              "    </tr>\n",
              "    <tr>\n",
              "      <th>5</th>\n",
              "      <td>Loan modification,collection,foreclosure</td>\n",
              "      <td>Anchorage</td>\n",
              "      <td>Postal mail</td>\n",
              "      <td>Closed with explanation</td>\n",
              "      <td>0.007692</td>\n",
              "    </tr>\n",
              "  </tbody>\n",
              "</table>\n",
              "</div>"
            ],
            "text/plain": [
              "                                      Issue       City Submitted via  \\\n",
              "0  Loan modification,collection,foreclosure  Anchorage      Referral   \n",
              "1  Loan modification,collection,foreclosure    Chugiak           Web   \n",
              "3  Loan modification,collection,foreclosure  Anchorage           Web   \n",
              "4  Loan servicing, payments, escrow account  Anchorage      Referral   \n",
              "5  Loan modification,collection,foreclosure  Anchorage   Postal mail   \n",
              "\n",
              "  Company response to consumer  Time Difference  \n",
              "0      Closed with explanation         0.003846  \n",
              "1      Closed with explanation         0.000000  \n",
              "3      Closed with explanation         0.005769  \n",
              "4      Closed with explanation         0.001923  \n",
              "5      Closed with explanation         0.007692  "
            ]
          },
          "metadata": {
            "tags": []
          },
          "execution_count": 83
        }
      ]
    },
    {
      "metadata": {
        "id": "z1gFdwjSp9-h",
        "colab_type": "code",
        "colab": {
          "base_uri": "https://localhost:8080/",
          "height": 204
        },
        "outputId": "d2b5accf-732c-4e84-c6c7-6011c7589489"
      },
      "cell_type": "code",
      "source": [
        "data_req.index = range(data_req.shape[0])\n",
        "data_req.head()"
      ],
      "execution_count": 84,
      "outputs": [
        {
          "output_type": "execute_result",
          "data": {
            "text/html": [
              "<div>\n",
              "<style scoped>\n",
              "    .dataframe tbody tr th:only-of-type {\n",
              "        vertical-align: middle;\n",
              "    }\n",
              "\n",
              "    .dataframe tbody tr th {\n",
              "        vertical-align: top;\n",
              "    }\n",
              "\n",
              "    .dataframe thead th {\n",
              "        text-align: right;\n",
              "    }\n",
              "</style>\n",
              "<table border=\"1\" class=\"dataframe\">\n",
              "  <thead>\n",
              "    <tr style=\"text-align: right;\">\n",
              "      <th></th>\n",
              "      <th>Issue</th>\n",
              "      <th>City</th>\n",
              "      <th>Submitted via</th>\n",
              "      <th>Company response to consumer</th>\n",
              "      <th>Time Difference</th>\n",
              "    </tr>\n",
              "  </thead>\n",
              "  <tbody>\n",
              "    <tr>\n",
              "      <th>0</th>\n",
              "      <td>Loan modification,collection,foreclosure</td>\n",
              "      <td>Anchorage</td>\n",
              "      <td>Referral</td>\n",
              "      <td>Closed with explanation</td>\n",
              "      <td>0.003846</td>\n",
              "    </tr>\n",
              "    <tr>\n",
              "      <th>1</th>\n",
              "      <td>Loan modification,collection,foreclosure</td>\n",
              "      <td>Chugiak</td>\n",
              "      <td>Web</td>\n",
              "      <td>Closed with explanation</td>\n",
              "      <td>0.000000</td>\n",
              "    </tr>\n",
              "    <tr>\n",
              "      <th>2</th>\n",
              "      <td>Loan modification,collection,foreclosure</td>\n",
              "      <td>Anchorage</td>\n",
              "      <td>Web</td>\n",
              "      <td>Closed with explanation</td>\n",
              "      <td>0.005769</td>\n",
              "    </tr>\n",
              "    <tr>\n",
              "      <th>3</th>\n",
              "      <td>Loan servicing, payments, escrow account</td>\n",
              "      <td>Anchorage</td>\n",
              "      <td>Referral</td>\n",
              "      <td>Closed with explanation</td>\n",
              "      <td>0.001923</td>\n",
              "    </tr>\n",
              "    <tr>\n",
              "      <th>4</th>\n",
              "      <td>Loan modification,collection,foreclosure</td>\n",
              "      <td>Anchorage</td>\n",
              "      <td>Postal mail</td>\n",
              "      <td>Closed with explanation</td>\n",
              "      <td>0.007692</td>\n",
              "    </tr>\n",
              "  </tbody>\n",
              "</table>\n",
              "</div>"
            ],
            "text/plain": [
              "                                      Issue       City Submitted via  \\\n",
              "0  Loan modification,collection,foreclosure  Anchorage      Referral   \n",
              "1  Loan modification,collection,foreclosure    Chugiak           Web   \n",
              "2  Loan modification,collection,foreclosure  Anchorage           Web   \n",
              "3  Loan servicing, payments, escrow account  Anchorage      Referral   \n",
              "4  Loan modification,collection,foreclosure  Anchorage   Postal mail   \n",
              "\n",
              "  Company response to consumer  Time Difference  \n",
              "0      Closed with explanation         0.003846  \n",
              "1      Closed with explanation         0.000000  \n",
              "2      Closed with explanation         0.005769  \n",
              "3      Closed with explanation         0.001923  \n",
              "4      Closed with explanation         0.007692  "
            ]
          },
          "metadata": {
            "tags": []
          },
          "execution_count": 84
        }
      ]
    },
    {
      "metadata": {
        "id": "mjOj7qIUlw15",
        "colab_type": "code",
        "colab": {}
      },
      "cell_type": "code",
      "source": [
        "data_req = pd.concat([data_req,class_cluster],axis=1)"
      ],
      "execution_count": 0,
      "outputs": []
    },
    {
      "metadata": {
        "id": "H54j4PJMlxHp",
        "colab_type": "code",
        "colab": {
          "base_uri": "https://localhost:8080/",
          "height": 204
        },
        "outputId": "f9c535db-e5f5-40d6-d4d5-ae2214659040"
      },
      "cell_type": "code",
      "source": [
        "data_req.head()"
      ],
      "execution_count": 86,
      "outputs": [
        {
          "output_type": "execute_result",
          "data": {
            "text/html": [
              "<div>\n",
              "<style scoped>\n",
              "    .dataframe tbody tr th:only-of-type {\n",
              "        vertical-align: middle;\n",
              "    }\n",
              "\n",
              "    .dataframe tbody tr th {\n",
              "        vertical-align: top;\n",
              "    }\n",
              "\n",
              "    .dataframe thead th {\n",
              "        text-align: right;\n",
              "    }\n",
              "</style>\n",
              "<table border=\"1\" class=\"dataframe\">\n",
              "  <thead>\n",
              "    <tr style=\"text-align: right;\">\n",
              "      <th></th>\n",
              "      <th>Issue</th>\n",
              "      <th>City</th>\n",
              "      <th>Submitted via</th>\n",
              "      <th>Company response to consumer</th>\n",
              "      <th>Time Difference</th>\n",
              "      <th>Class cluster</th>\n",
              "    </tr>\n",
              "  </thead>\n",
              "  <tbody>\n",
              "    <tr>\n",
              "      <th>0</th>\n",
              "      <td>Loan modification,collection,foreclosure</td>\n",
              "      <td>Anchorage</td>\n",
              "      <td>Referral</td>\n",
              "      <td>Closed with explanation</td>\n",
              "      <td>0.003846</td>\n",
              "      <td>2</td>\n",
              "    </tr>\n",
              "    <tr>\n",
              "      <th>1</th>\n",
              "      <td>Loan modification,collection,foreclosure</td>\n",
              "      <td>Chugiak</td>\n",
              "      <td>Web</td>\n",
              "      <td>Closed with explanation</td>\n",
              "      <td>0.000000</td>\n",
              "      <td>4</td>\n",
              "    </tr>\n",
              "    <tr>\n",
              "      <th>2</th>\n",
              "      <td>Loan modification,collection,foreclosure</td>\n",
              "      <td>Anchorage</td>\n",
              "      <td>Web</td>\n",
              "      <td>Closed with explanation</td>\n",
              "      <td>0.005769</td>\n",
              "      <td>4</td>\n",
              "    </tr>\n",
              "    <tr>\n",
              "      <th>3</th>\n",
              "      <td>Loan servicing, payments, escrow account</td>\n",
              "      <td>Anchorage</td>\n",
              "      <td>Referral</td>\n",
              "      <td>Closed with explanation</td>\n",
              "      <td>0.001923</td>\n",
              "      <td>3</td>\n",
              "    </tr>\n",
              "    <tr>\n",
              "      <th>4</th>\n",
              "      <td>Loan modification,collection,foreclosure</td>\n",
              "      <td>Anchorage</td>\n",
              "      <td>Postal mail</td>\n",
              "      <td>Closed with explanation</td>\n",
              "      <td>0.007692</td>\n",
              "      <td>4</td>\n",
              "    </tr>\n",
              "  </tbody>\n",
              "</table>\n",
              "</div>"
            ],
            "text/plain": [
              "                                      Issue       City Submitted via  \\\n",
              "0  Loan modification,collection,foreclosure  Anchorage      Referral   \n",
              "1  Loan modification,collection,foreclosure    Chugiak           Web   \n",
              "2  Loan modification,collection,foreclosure  Anchorage           Web   \n",
              "3  Loan servicing, payments, escrow account  Anchorage      Referral   \n",
              "4  Loan modification,collection,foreclosure  Anchorage   Postal mail   \n",
              "\n",
              "  Company response to consumer  Time Difference  Class cluster  \n",
              "0      Closed with explanation         0.003846              2  \n",
              "1      Closed with explanation         0.000000              4  \n",
              "2      Closed with explanation         0.005769              4  \n",
              "3      Closed with explanation         0.001923              3  \n",
              "4      Closed with explanation         0.007692              4  "
            ]
          },
          "metadata": {
            "tags": []
          },
          "execution_count": 86
        }
      ]
    },
    {
      "metadata": {
        "id": "7EYfFen8wRys",
        "colab_type": "code",
        "colab": {}
      },
      "cell_type": "code",
      "source": [
        "# DF TO CSV\n",
        "path= r'drive/Complaints_Dataset/'\n",
        "data_req.to_csv(path+'clusteredComplaintsDataSet.csv', sep=',', encoding='utf-8')\n"
      ],
      "execution_count": 0,
      "outputs": []
    },
    {
      "metadata": {
        "id": "aQ8GK-ZgZxfX",
        "colab_type": "code",
        "colab": {}
      },
      "cell_type": "code",
      "source": [
        "from __future__ import division, print_function"
      ],
      "execution_count": 0,
      "outputs": []
    },
    {
      "metadata": {
        "id": "nwUNrp1aaA6R",
        "colab_type": "code",
        "colab": {}
      },
      "cell_type": "code",
      "source": [
        "from matplotlib import pyplot as plt\n",
        "import pandas as pd\n",
        "import numpy as np\n",
        "%matplotlib inline"
      ],
      "execution_count": 0,
      "outputs": []
    },
    {
      "metadata": {
        "id": "xBi9f-cWMjJR",
        "colab_type": "code",
        "colab": {
          "base_uri": "https://localhost:8080/",
          "height": 129
        },
        "outputId": "b04f076d-e663-4a5b-8772-5482899fc813"
      },
      "cell_type": "code",
      "source": [
        "\n",
        "import  matplotlib matplot \n",
        "matplotlib.rc('figure', figsize = (14, 7))\n",
        "matplotlib.rc('font', size = 14)\n",
        "matplotlib.rc('axes.spines', top = False, right = False)\n",
        "matplotlib.rc('axes', grid = False)\n",
        "matplotlib.rc('axes', facecolor = 'white')"
      ],
      "execution_count": 91,
      "outputs": [
        {
          "output_type": "error",
          "ename": "SyntaxError",
          "evalue": "ignored",
          "traceback": [
            "\u001b[0;36m  File \u001b[0;32m\"<ipython-input-91-a89f1162c4bd>\"\u001b[0;36m, line \u001b[0;32m2\u001b[0m\n\u001b[0;31m    import  matplotlib matplot\u001b[0m\n\u001b[0m                             ^\u001b[0m\n\u001b[0;31mSyntaxError\u001b[0m\u001b[0;31m:\u001b[0m invalid syntax\n"
          ]
        }
      ]
    },
    {
      "metadata": {
        "id": "-z5g31bsMmWT",
        "colab_type": "code",
        "colab": {}
      },
      "cell_type": "code",
      "source": [
        "def scatterplot(x_data, y_data, x_label, y_label, title):\n",
        "    _, ax = plt.subplots()\n",
        "    ax.scatter(x_data, y_data, s = 30, color = '#539caf', alpha = 0.75)\n",
        "    ax.set_title(title)\n",
        "    ax.set_xlabel(x_label)\n",
        "    ax.set_ylabel(y_label)"
      ],
      "execution_count": 0,
      "outputs": []
    },
    {
      "metadata": {
        "id": "C4UqBUBGMrT4",
        "colab_type": "code",
        "colab": {}
      },
      "cell_type": "code",
      "source": [
        "scatterplot(x_data = data_req_new['City']\n",
        "            , y_data = data_req_new['Issue']\n",
        "            , x_label = 'City'\n",
        "            , y_label = 'Issue'\n",
        "            , title = 'Number of Issue Vs City')"
      ],
      "execution_count": 0,
      "outputs": []
    },
    {
      "metadata": {
        "id": "ef6x39fXPooq",
        "colab_type": "code",
        "colab": {
          "base_uri": "https://localhost:8080/",
          "height": 306
        },
        "outputId": "35666b38-f028-4aee-b290-b23c559e89b2"
      },
      "cell_type": "code",
      "source": [
        "import random\n",
        "data_req['frequency']=(data_req.groupby('City')['City'].transform('count'))\n",
        "data_req['customers_needed']=(data_req.groupby('City')['City'].transform('count')//20)+1\n",
        "data_req['Customer_id']=\"\"\n",
        "data_req.head()"
      ],
      "execution_count": 92,
      "outputs": [
        {
          "output_type": "execute_result",
          "data": {
            "text/html": [
              "<div>\n",
              "<style scoped>\n",
              "    .dataframe tbody tr th:only-of-type {\n",
              "        vertical-align: middle;\n",
              "    }\n",
              "\n",
              "    .dataframe tbody tr th {\n",
              "        vertical-align: top;\n",
              "    }\n",
              "\n",
              "    .dataframe thead th {\n",
              "        text-align: right;\n",
              "    }\n",
              "</style>\n",
              "<table border=\"1\" class=\"dataframe\">\n",
              "  <thead>\n",
              "    <tr style=\"text-align: right;\">\n",
              "      <th></th>\n",
              "      <th>Issue</th>\n",
              "      <th>City</th>\n",
              "      <th>Submitted via</th>\n",
              "      <th>Company response to consumer</th>\n",
              "      <th>Time Difference</th>\n",
              "      <th>Class cluster</th>\n",
              "      <th>frequency</th>\n",
              "      <th>customers_needed</th>\n",
              "      <th>Customer_id</th>\n",
              "    </tr>\n",
              "  </thead>\n",
              "  <tbody>\n",
              "    <tr>\n",
              "      <th>0</th>\n",
              "      <td>Loan modification,collection,foreclosure</td>\n",
              "      <td>Anchorage</td>\n",
              "      <td>Referral</td>\n",
              "      <td>Closed with explanation</td>\n",
              "      <td>0.003846</td>\n",
              "      <td>2</td>\n",
              "      <td>30</td>\n",
              "      <td>2</td>\n",
              "      <td></td>\n",
              "    </tr>\n",
              "    <tr>\n",
              "      <th>1</th>\n",
              "      <td>Loan modification,collection,foreclosure</td>\n",
              "      <td>Chugiak</td>\n",
              "      <td>Web</td>\n",
              "      <td>Closed with explanation</td>\n",
              "      <td>0.000000</td>\n",
              "      <td>4</td>\n",
              "      <td>3</td>\n",
              "      <td>1</td>\n",
              "      <td></td>\n",
              "    </tr>\n",
              "    <tr>\n",
              "      <th>2</th>\n",
              "      <td>Loan modification,collection,foreclosure</td>\n",
              "      <td>Anchorage</td>\n",
              "      <td>Web</td>\n",
              "      <td>Closed with explanation</td>\n",
              "      <td>0.005769</td>\n",
              "      <td>4</td>\n",
              "      <td>30</td>\n",
              "      <td>2</td>\n",
              "      <td></td>\n",
              "    </tr>\n",
              "    <tr>\n",
              "      <th>3</th>\n",
              "      <td>Loan servicing, payments, escrow account</td>\n",
              "      <td>Anchorage</td>\n",
              "      <td>Referral</td>\n",
              "      <td>Closed with explanation</td>\n",
              "      <td>0.001923</td>\n",
              "      <td>3</td>\n",
              "      <td>30</td>\n",
              "      <td>2</td>\n",
              "      <td></td>\n",
              "    </tr>\n",
              "    <tr>\n",
              "      <th>4</th>\n",
              "      <td>Loan modification,collection,foreclosure</td>\n",
              "      <td>Anchorage</td>\n",
              "      <td>Postal mail</td>\n",
              "      <td>Closed with explanation</td>\n",
              "      <td>0.007692</td>\n",
              "      <td>4</td>\n",
              "      <td>30</td>\n",
              "      <td>2</td>\n",
              "      <td></td>\n",
              "    </tr>\n",
              "  </tbody>\n",
              "</table>\n",
              "</div>"
            ],
            "text/plain": [
              "                                      Issue       City Submitted via  \\\n",
              "0  Loan modification,collection,foreclosure  Anchorage      Referral   \n",
              "1  Loan modification,collection,foreclosure    Chugiak           Web   \n",
              "2  Loan modification,collection,foreclosure  Anchorage           Web   \n",
              "3  Loan servicing, payments, escrow account  Anchorage      Referral   \n",
              "4  Loan modification,collection,foreclosure  Anchorage   Postal mail   \n",
              "\n",
              "  Company response to consumer  Time Difference  Class cluster  frequency  \\\n",
              "0      Closed with explanation         0.003846              2         30   \n",
              "1      Closed with explanation         0.000000              4          3   \n",
              "2      Closed with explanation         0.005769              4         30   \n",
              "3      Closed with explanation         0.001923              3         30   \n",
              "4      Closed with explanation         0.007692              4         30   \n",
              "\n",
              "   customers_needed Customer_id  \n",
              "0                 2              \n",
              "1                 1              \n",
              "2                 2              \n",
              "3                 2              \n",
              "4                 2              "
            ]
          },
          "metadata": {
            "tags": []
          },
          "execution_count": 92
        }
      ]
    },
    {
      "metadata": {
        "id": "otZQpRD4xvHM",
        "colab_type": "code",
        "colab": {
          "base_uri": "https://localhost:8080/",
          "height": 255
        },
        "outputId": "63b28404-c493-4198-a54a-619274d4ecc8"
      },
      "cell_type": "code",
      "source": [
        "data_req['customers_needed'].value_counts(dropna=False)"
      ],
      "execution_count": 93,
      "outputs": [
        {
          "output_type": "execute_result",
          "data": {
            "text/plain": [
              "1     15038\n",
              "2      4901\n",
              "3      1904\n",
              "5      1139\n",
              "4      1064\n",
              "8       910\n",
              "7       898\n",
              "6       652\n",
              "26      513\n",
              "12      458\n",
              "10      384\n",
              "15      296\n",
              "14      266\n",
              "Name: customers_needed, dtype: int64"
            ]
          },
          "metadata": {
            "tags": []
          },
          "execution_count": 93
        }
      ]
    },
    {
      "metadata": {
        "id": "szbHUuROk9VR",
        "colab_type": "code",
        "colab": {
          "base_uri": "https://localhost:8080/",
          "height": 306
        },
        "outputId": "2a586a9a-5637-48a3-b93a-1cfd67f3d6b7"
      },
      "cell_type": "code",
      "source": [
        "import random\n",
        "for i in data_req.index:\n",
        "  data_req.at[i, 'Customer_id']=data_req.at[i, 'City'][0:3]+\"_\"+str(data_req.at[i, 'frequency'])+\"_\"+str(random.randint(1, data_req.at[i, 'customers_needed']))\n",
        "  \n",
        "data_req.head()\n"
      ],
      "execution_count": 94,
      "outputs": [
        {
          "output_type": "execute_result",
          "data": {
            "text/html": [
              "<div>\n",
              "<style scoped>\n",
              "    .dataframe tbody tr th:only-of-type {\n",
              "        vertical-align: middle;\n",
              "    }\n",
              "\n",
              "    .dataframe tbody tr th {\n",
              "        vertical-align: top;\n",
              "    }\n",
              "\n",
              "    .dataframe thead th {\n",
              "        text-align: right;\n",
              "    }\n",
              "</style>\n",
              "<table border=\"1\" class=\"dataframe\">\n",
              "  <thead>\n",
              "    <tr style=\"text-align: right;\">\n",
              "      <th></th>\n",
              "      <th>Issue</th>\n",
              "      <th>City</th>\n",
              "      <th>Submitted via</th>\n",
              "      <th>Company response to consumer</th>\n",
              "      <th>Time Difference</th>\n",
              "      <th>Class cluster</th>\n",
              "      <th>frequency</th>\n",
              "      <th>customers_needed</th>\n",
              "      <th>Customer_id</th>\n",
              "    </tr>\n",
              "  </thead>\n",
              "  <tbody>\n",
              "    <tr>\n",
              "      <th>0</th>\n",
              "      <td>Loan modification,collection,foreclosure</td>\n",
              "      <td>Anchorage</td>\n",
              "      <td>Referral</td>\n",
              "      <td>Closed with explanation</td>\n",
              "      <td>0.003846</td>\n",
              "      <td>2</td>\n",
              "      <td>30</td>\n",
              "      <td>2</td>\n",
              "      <td>Anc_30_1</td>\n",
              "    </tr>\n",
              "    <tr>\n",
              "      <th>1</th>\n",
              "      <td>Loan modification,collection,foreclosure</td>\n",
              "      <td>Chugiak</td>\n",
              "      <td>Web</td>\n",
              "      <td>Closed with explanation</td>\n",
              "      <td>0.000000</td>\n",
              "      <td>4</td>\n",
              "      <td>3</td>\n",
              "      <td>1</td>\n",
              "      <td>Chu_3_1</td>\n",
              "    </tr>\n",
              "    <tr>\n",
              "      <th>2</th>\n",
              "      <td>Loan modification,collection,foreclosure</td>\n",
              "      <td>Anchorage</td>\n",
              "      <td>Web</td>\n",
              "      <td>Closed with explanation</td>\n",
              "      <td>0.005769</td>\n",
              "      <td>4</td>\n",
              "      <td>30</td>\n",
              "      <td>2</td>\n",
              "      <td>Anc_30_1</td>\n",
              "    </tr>\n",
              "    <tr>\n",
              "      <th>3</th>\n",
              "      <td>Loan servicing, payments, escrow account</td>\n",
              "      <td>Anchorage</td>\n",
              "      <td>Referral</td>\n",
              "      <td>Closed with explanation</td>\n",
              "      <td>0.001923</td>\n",
              "      <td>3</td>\n",
              "      <td>30</td>\n",
              "      <td>2</td>\n",
              "      <td>Anc_30_2</td>\n",
              "    </tr>\n",
              "    <tr>\n",
              "      <th>4</th>\n",
              "      <td>Loan modification,collection,foreclosure</td>\n",
              "      <td>Anchorage</td>\n",
              "      <td>Postal mail</td>\n",
              "      <td>Closed with explanation</td>\n",
              "      <td>0.007692</td>\n",
              "      <td>4</td>\n",
              "      <td>30</td>\n",
              "      <td>2</td>\n",
              "      <td>Anc_30_2</td>\n",
              "    </tr>\n",
              "  </tbody>\n",
              "</table>\n",
              "</div>"
            ],
            "text/plain": [
              "                                      Issue       City Submitted via  \\\n",
              "0  Loan modification,collection,foreclosure  Anchorage      Referral   \n",
              "1  Loan modification,collection,foreclosure    Chugiak           Web   \n",
              "2  Loan modification,collection,foreclosure  Anchorage           Web   \n",
              "3  Loan servicing, payments, escrow account  Anchorage      Referral   \n",
              "4  Loan modification,collection,foreclosure  Anchorage   Postal mail   \n",
              "\n",
              "  Company response to consumer  Time Difference  Class cluster  frequency  \\\n",
              "0      Closed with explanation         0.003846              2         30   \n",
              "1      Closed with explanation         0.000000              4          3   \n",
              "2      Closed with explanation         0.005769              4         30   \n",
              "3      Closed with explanation         0.001923              3         30   \n",
              "4      Closed with explanation         0.007692              4         30   \n",
              "\n",
              "   customers_needed Customer_id  \n",
              "0                 2    Anc_30_1  \n",
              "1                 1     Chu_3_1  \n",
              "2                 2    Anc_30_1  \n",
              "3                 2    Anc_30_2  \n",
              "4                 2    Anc_30_2  "
            ]
          },
          "metadata": {
            "tags": []
          },
          "execution_count": 94
        }
      ]
    },
    {
      "metadata": {
        "id": "HfDcRE0-R4BY",
        "colab_type": "code",
        "colab": {
          "base_uri": "https://localhost:8080/",
          "height": 204
        },
        "outputId": "33f0c9fa-76ad-4f79-df11-ce187949f9b0"
      },
      "cell_type": "code",
      "source": [
        "data_req=data_req.drop(columns=['frequency', 'customers_needed'])\n",
        "data_req.head()"
      ],
      "execution_count": 95,
      "outputs": [
        {
          "output_type": "execute_result",
          "data": {
            "text/html": [
              "<div>\n",
              "<style scoped>\n",
              "    .dataframe tbody tr th:only-of-type {\n",
              "        vertical-align: middle;\n",
              "    }\n",
              "\n",
              "    .dataframe tbody tr th {\n",
              "        vertical-align: top;\n",
              "    }\n",
              "\n",
              "    .dataframe thead th {\n",
              "        text-align: right;\n",
              "    }\n",
              "</style>\n",
              "<table border=\"1\" class=\"dataframe\">\n",
              "  <thead>\n",
              "    <tr style=\"text-align: right;\">\n",
              "      <th></th>\n",
              "      <th>Issue</th>\n",
              "      <th>City</th>\n",
              "      <th>Submitted via</th>\n",
              "      <th>Company response to consumer</th>\n",
              "      <th>Time Difference</th>\n",
              "      <th>Class cluster</th>\n",
              "      <th>Customer_id</th>\n",
              "    </tr>\n",
              "  </thead>\n",
              "  <tbody>\n",
              "    <tr>\n",
              "      <th>0</th>\n",
              "      <td>Loan modification,collection,foreclosure</td>\n",
              "      <td>Anchorage</td>\n",
              "      <td>Referral</td>\n",
              "      <td>Closed with explanation</td>\n",
              "      <td>0.003846</td>\n",
              "      <td>2</td>\n",
              "      <td>Anc_30_1</td>\n",
              "    </tr>\n",
              "    <tr>\n",
              "      <th>1</th>\n",
              "      <td>Loan modification,collection,foreclosure</td>\n",
              "      <td>Chugiak</td>\n",
              "      <td>Web</td>\n",
              "      <td>Closed with explanation</td>\n",
              "      <td>0.000000</td>\n",
              "      <td>4</td>\n",
              "      <td>Chu_3_1</td>\n",
              "    </tr>\n",
              "    <tr>\n",
              "      <th>2</th>\n",
              "      <td>Loan modification,collection,foreclosure</td>\n",
              "      <td>Anchorage</td>\n",
              "      <td>Web</td>\n",
              "      <td>Closed with explanation</td>\n",
              "      <td>0.005769</td>\n",
              "      <td>4</td>\n",
              "      <td>Anc_30_1</td>\n",
              "    </tr>\n",
              "    <tr>\n",
              "      <th>3</th>\n",
              "      <td>Loan servicing, payments, escrow account</td>\n",
              "      <td>Anchorage</td>\n",
              "      <td>Referral</td>\n",
              "      <td>Closed with explanation</td>\n",
              "      <td>0.001923</td>\n",
              "      <td>3</td>\n",
              "      <td>Anc_30_2</td>\n",
              "    </tr>\n",
              "    <tr>\n",
              "      <th>4</th>\n",
              "      <td>Loan modification,collection,foreclosure</td>\n",
              "      <td>Anchorage</td>\n",
              "      <td>Postal mail</td>\n",
              "      <td>Closed with explanation</td>\n",
              "      <td>0.007692</td>\n",
              "      <td>4</td>\n",
              "      <td>Anc_30_2</td>\n",
              "    </tr>\n",
              "  </tbody>\n",
              "</table>\n",
              "</div>"
            ],
            "text/plain": [
              "                                      Issue       City Submitted via  \\\n",
              "0  Loan modification,collection,foreclosure  Anchorage      Referral   \n",
              "1  Loan modification,collection,foreclosure    Chugiak           Web   \n",
              "2  Loan modification,collection,foreclosure  Anchorage           Web   \n",
              "3  Loan servicing, payments, escrow account  Anchorage      Referral   \n",
              "4  Loan modification,collection,foreclosure  Anchorage   Postal mail   \n",
              "\n",
              "  Company response to consumer  Time Difference  Class cluster Customer_id  \n",
              "0      Closed with explanation         0.003846              2    Anc_30_1  \n",
              "1      Closed with explanation         0.000000              4     Chu_3_1  \n",
              "2      Closed with explanation         0.005769              4    Anc_30_1  \n",
              "3      Closed with explanation         0.001923              3    Anc_30_2  \n",
              "4      Closed with explanation         0.007692              4    Anc_30_2  "
            ]
          },
          "metadata": {
            "tags": []
          },
          "execution_count": 95
        }
      ]
    },
    {
      "metadata": {
        "id": "O47i2lAHwsdI",
        "colab_type": "code",
        "colab": {
          "base_uri": "https://localhost:8080/",
          "height": 221
        },
        "outputId": "91adafb9-8122-4ab9-90c8-ef2333403fbb"
      },
      "cell_type": "code",
      "source": [
        "data_req.info()"
      ],
      "execution_count": 96,
      "outputs": [
        {
          "output_type": "stream",
          "text": [
            "<class 'pandas.core.frame.DataFrame'>\n",
            "RangeIndex: 28423 entries, 0 to 28422\n",
            "Data columns (total 7 columns):\n",
            "Issue                           28423 non-null object\n",
            "City                            28423 non-null object\n",
            "Submitted via                   28423 non-null object\n",
            "Company response to consumer    28423 non-null object\n",
            "Time Difference                 28423 non-null float64\n",
            "Class cluster                   28423 non-null uint8\n",
            "Customer_id                     28423 non-null object\n",
            "dtypes: float64(1), object(5), uint8(1)\n",
            "memory usage: 1.3+ MB\n"
          ],
          "name": "stdout"
        }
      ]
    },
    {
      "metadata": {
        "id": "hCKEYpRNwzKu",
        "colab_type": "code",
        "colab": {
          "base_uri": "https://localhost:8080/",
          "height": 1071
        },
        "outputId": "df14c9d6-aa1a-423a-e2f8-1e3cb075054e"
      },
      "cell_type": "code",
      "source": [
        "data_req['Customer_id'].value_counts(dropna=False)"
      ],
      "execution_count": 97,
      "outputs": [
        {
          "output_type": "execute_result",
          "data": {
            "text/plain": [
              "San_17_1      51\n",
              "New_7_1       49\n",
              "Red_15_1      45\n",
              "Mon_13_1      39\n",
              "El _19_1      38\n",
              "Wes_12_1      36\n",
              "Lak_34_2      35\n",
              "Lak_34_1      33\n",
              "Wes_11_1      33\n",
              "Mia_513_11    32\n",
              "Los_296_8     31\n",
              "Eas_15_1      30\n",
              "New_15_1      30\n",
              "San_15_1      30\n",
              "Atl_266_4     30\n",
              "Gra_10_1      30\n",
              "Wes_3_1       30\n",
              "New_10_1      30\n",
              "New_137_6     29\n",
              "Por_111_2     28\n",
              "Nor_4_1       28\n",
              "Roc_7_1       28\n",
              "Man_14_1      28\n",
              "New_4_1       28\n",
              "Spr_58_3      28\n",
              "Bro_231_8     28\n",
              "Pal_14_1      28\n",
              "San_9_1       27\n",
              "Pom_143_6     27\n",
              "Win_9_1       27\n",
              "              ..\n",
              "Pim_1_1        1\n",
              "Atc_1_1        1\n",
              "Emp_1_1        1\n",
              "Bor_1_1        1\n",
              "Ami_1_1        1\n",
              "Lip_1_1        1\n",
              "Bax_1_1        1\n",
              "Azt_1_1        1\n",
              "Kim_1_1        1\n",
              "Obe_1_1        1\n",
              "Bes_1_1        1\n",
              "Wah_1_1        1\n",
              "Bai_1_1        1\n",
              "Joi_1_1        1\n",
              "Sap_1_1        1\n",
              "Tea_1_1        1\n",
              "Mea_1_1        1\n",
              "Ewe_1_1        1\n",
              "Aul_1_1        1\n",
              "Bis_1_1        1\n",
              "Inm_1_1        1\n",
              "Sne_1_1        1\n",
              "Sco_1_1        1\n",
              "Ost_1_1        1\n",
              "Byf_1_1        1\n",
              "Rut_1_1        1\n",
              "Sad_1_1        1\n",
              "Nut_1_1        1\n",
              "Kod_1_1        1\n",
              "Lud_1_1        1\n",
              "Name: Customer_id, Length: 3458, dtype: int64"
            ]
          },
          "metadata": {
            "tags": []
          },
          "execution_count": 97
        }
      ]
    },
    {
      "metadata": {
        "id": "atqFPBH0xCWv",
        "colab_type": "code",
        "colab": {}
      },
      "cell_type": "code",
      "source": [
        "# DF TO CSV\n",
        "path= r'drive/Complaints_Dataset/'\n",
        "data_req.to_csv(path+'ComplaintsDataSetWithCustomers.csv', sep=',', encoding='utf-8')"
      ],
      "execution_count": 0,
      "outputs": []
    },
    {
      "metadata": {
        "id": "xwIVlWSDKaCQ",
        "colab_type": "code",
        "colab": {}
      },
      "cell_type": "code",
      "source": [
        ""
      ],
      "execution_count": 0,
      "outputs": []
    }
  ]
}