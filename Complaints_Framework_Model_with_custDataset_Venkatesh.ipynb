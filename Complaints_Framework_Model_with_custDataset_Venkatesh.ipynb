{
  "nbformat": 4,
  "nbformat_minor": 0,
  "metadata": {
    "colab": {
      "name": "Copy of Copy of Complaints_Framework_Model_Venkatesh.ipynb",
      "version": "0.3.2",
      "provenance": [],
      "collapsed_sections": [],
      "include_colab_link": true
    },
    "kernelspec": {
      "name": "python3",
      "display_name": "Python 3"
    },
    "accelerator": "GPU"
  },
  "cells": [
    {
      "cell_type": "markdown",
      "metadata": {
        "id": "view-in-github",
        "colab_type": "text"
      },
      "source": [
        "[View in Colaboratory](https://colab.research.google.com/github/venkatakula9652/Complaints_Framework/blob/master/Complaints_Framework_Model_with_custDataset_Venkatesh.ipynb)"
      ]
    },
    {
      "metadata": {
        "id": "hcuJP6MmtPxQ",
        "colab_type": "code",
        "colab": {}
      },
      "cell_type": "code",
      "source": [
        "# IMPORTING NECESSARY PACKAGES\n",
        "import pandas as pd\n",
        "import numpy as np\n",
        "import matplotlib.pyplot as plt\n",
        "import os"
      ],
      "execution_count": 0,
      "outputs": []
    },
    {
      "metadata": {
        "id": "UAgaIOov2xLd",
        "colab_type": "code",
        "colab": {
          "base_uri": "https://localhost:8080/",
          "height": 2366
        },
        "outputId": "b8068454-e438-4b61-a2e8-ec431d1b7631"
      },
      "cell_type": "code",
      "source": [
        "!apt-get install -y -qq software-properties-common python-software-properties module-init-tools\n",
        "!add-apt-repository -y ppa:alessandro-strada/ppa 2>&1 > /dev/null\n",
        "!apt-get update -qq 2>&1 > /dev/null\n",
        "!apt-get -y install -qq google-drive-ocamlfuse fuse\n",
        "from google.colab import auth\n",
        "auth.authenticate_user()\n",
        "from oauth2client.client import GoogleCredentials\n",
        "creds = GoogleCredentials.get_application_default()\n",
        "import getpass\n",
        "!google-drive-ocamlfuse -headless -id={creds.client_id} -secret={creds.client_secret} < /dev/null 2>&1 | grep URL\n",
        "vcode = getpass.getpass()\n",
        "!echo {vcode} | google-drive-ocamlfuse -headless -id={creds.client_id} -secret={creds.client_secret}"
      ],
      "execution_count": 2,
      "outputs": [
        {
          "output_type": "stream",
          "text": [
            "Preconfiguring packages ...\n",
            "Selecting previously unselected package cron.\n",
            "(Reading database ... 18408 files and directories currently installed.)\n",
            "Preparing to unpack .../00-cron_3.0pl1-128ubuntu5_amd64.deb ...\n",
            "Unpacking cron (3.0pl1-128ubuntu5) ...\n",
            "Selecting previously unselected package libapparmor1:amd64.\n",
            "Preparing to unpack .../01-libapparmor1_2.11.0-2ubuntu17.1_amd64.deb ...\n",
            "Unpacking libapparmor1:amd64 (2.11.0-2ubuntu17.1) ...\n",
            "Selecting previously unselected package libdbus-1-3:amd64.\n",
            "Preparing to unpack .../02-libdbus-1-3_1.10.22-1ubuntu1_amd64.deb ...\n",
            "Unpacking libdbus-1-3:amd64 (1.10.22-1ubuntu1) ...\n",
            "Selecting previously unselected package dbus.\n",
            "Preparing to unpack .../03-dbus_1.10.22-1ubuntu1_amd64.deb ...\n",
            "Unpacking dbus (1.10.22-1ubuntu1) ...\n",
            "Selecting previously unselected package dirmngr.\n",
            "Preparing to unpack .../04-dirmngr_2.1.15-1ubuntu8.1_amd64.deb ...\n",
            "Unpacking dirmngr (2.1.15-1ubuntu8.1) ...\n",
            "Selecting previously unselected package distro-info-data.\n",
            "Preparing to unpack .../05-distro-info-data_0.36ubuntu0.2_all.deb ...\n",
            "Unpacking distro-info-data (0.36ubuntu0.2) ...\n",
            "Selecting previously unselected package libkmod2:amd64.\n",
            "Preparing to unpack .../06-libkmod2_24-1ubuntu2_amd64.deb ...\n",
            "Unpacking libkmod2:amd64 (24-1ubuntu2) ...\n",
            "Selecting previously unselected package kmod.\n",
            "Preparing to unpack .../07-kmod_24-1ubuntu2_amd64.deb ...\n",
            "Unpacking kmod (24-1ubuntu2) ...\n",
            "Selecting previously unselected package lsb-release.\n",
            "Preparing to unpack .../08-lsb-release_9.20160110ubuntu5_all.deb ...\n",
            "Unpacking lsb-release (9.20160110ubuntu5) ...\n",
            "Selecting previously unselected package libgirepository-1.0-1:amd64.\n",
            "Preparing to unpack .../09-libgirepository-1.0-1_1.54.1-1_amd64.deb ...\n",
            "Unpacking libgirepository-1.0-1:amd64 (1.54.1-1) ...\n",
            "Selecting previously unselected package gir1.2-glib-2.0:amd64.\n",
            "Preparing to unpack .../10-gir1.2-glib-2.0_1.54.1-1_amd64.deb ...\n",
            "Unpacking gir1.2-glib-2.0:amd64 (1.54.1-1) ...\n",
            "Selecting previously unselected package iso-codes.\n",
            "Preparing to unpack .../11-iso-codes_3.75-1_all.deb ...\n",
            "Unpacking iso-codes (3.75-1) ...\n",
            "Selecting previously unselected package libdbus-glib-1-2:amd64.\n",
            "Preparing to unpack .../12-libdbus-glib-1-2_0.108-2_amd64.deb ...\n",
            "Unpacking libdbus-glib-1-2:amd64 (0.108-2) ...\n",
            "Selecting previously unselected package python-apt-common.\n",
            "Preparing to unpack .../13-python-apt-common_1.4.0~beta3build2_all.deb ...\n",
            "Unpacking python-apt-common (1.4.0~beta3build2) ...\n",
            "Selecting previously unselected package python3-apt.\n",
            "Preparing to unpack .../14-python3-apt_1.4.0~beta3build2_amd64.deb ...\n",
            "Unpacking python3-apt (1.4.0~beta3build2) ...\n",
            "Selecting previously unselected package python3-dbus.\n",
            "Preparing to unpack .../15-python3-dbus_1.2.4-1build3_amd64.deb ...\n",
            "Unpacking python3-dbus (1.2.4-1build3) ...\n",
            "Selecting previously unselected package python3-gi.\n",
            "Preparing to unpack .../16-python3-gi_3.24.1-2build1_amd64.deb ...\n",
            "Unpacking python3-gi (3.24.1-2build1) ...\n",
            "Selecting previously unselected package module-init-tools.\n",
            "Preparing to unpack .../17-module-init-tools_24-1ubuntu2_all.deb ...\n",
            "Unpacking module-init-tools (24-1ubuntu2) ...\n",
            "Selecting previously unselected package python-apt.\n",
            "Preparing to unpack .../18-python-apt_1.4.0~beta3build2_amd64.deb ...\n",
            "Unpacking python-apt (1.4.0~beta3build2) ...\n",
            "Selecting previously unselected package python-pycurl.\n",
            "Preparing to unpack .../19-python-pycurl_7.43.0-2build2_amd64.deb ...\n",
            "Unpacking python-pycurl (7.43.0-2build2) ...\n",
            "Selecting previously unselected package python-software-properties.\n",
            "Preparing to unpack .../20-python-software-properties_0.96.24.17_all.deb ...\n",
            "Unpacking python-software-properties (0.96.24.17) ...\n",
            "Selecting previously unselected package python3-software-properties.\n",
            "Preparing to unpack .../21-python3-software-properties_0.96.24.17_all.deb ...\n",
            "Unpacking python3-software-properties (0.96.24.17) ...\n",
            "Selecting previously unselected package software-properties-common.\n",
            "Preparing to unpack .../22-software-properties-common_0.96.24.17_all.deb ...\n",
            "Unpacking software-properties-common (0.96.24.17) ...\n",
            "Selecting previously unselected package unattended-upgrades.\n",
            "Preparing to unpack .../23-unattended-upgrades_0.98ubuntu1.1_all.deb ...\n",
            "Unpacking unattended-upgrades (0.98ubuntu1.1) ...\n",
            "Setting up python-apt-common (1.4.0~beta3build2) ...\n",
            "Setting up python3-apt (1.4.0~beta3build2) ...\n",
            "Setting up iso-codes (3.75-1) ...\n",
            "Setting up distro-info-data (0.36ubuntu0.2) ...\n",
            "Setting up python-pycurl (7.43.0-2build2) ...\n",
            "Setting up lsb-release (9.20160110ubuntu5) ...\n",
            "Setting up libgirepository-1.0-1:amd64 (1.54.1-1) ...\n",
            "Setting up libkmod2:amd64 (24-1ubuntu2) ...\n",
            "Setting up gir1.2-glib-2.0:amd64 (1.54.1-1) ...\n",
            "Processing triggers for libc-bin (2.26-0ubuntu2.1) ...\n",
            "Setting up libapparmor1:amd64 (2.11.0-2ubuntu17.1) ...\n",
            "Setting up unattended-upgrades (0.98ubuntu1.1) ...\n",
            "\n",
            "Creating config file /etc/apt/apt.conf.d/20auto-upgrades with new version\n",
            "\n",
            "Creating config file /etc/apt/apt.conf.d/50unattended-upgrades with new version\n",
            "invoke-rc.d: could not determine current runlevel\n",
            "invoke-rc.d: policy-rc.d denied execution of start.\n",
            "Setting up dirmngr (2.1.15-1ubuntu8.1) ...\n",
            "Setting up cron (3.0pl1-128ubuntu5) ...\n",
            "Adding group `crontab' (GID 102) ...\n",
            "Done.\n",
            "update-rc.d: warning: start and stop actions are no longer supported; falling back to defaults\n",
            "update-rc.d: warning: stop runlevel arguments (1) do not match cron Default-Stop values (none)\n",
            "invoke-rc.d: could not determine current runlevel\n",
            "invoke-rc.d: policy-rc.d denied execution of start.\n",
            "Setting up libdbus-1-3:amd64 (1.10.22-1ubuntu1) ...\n",
            "Setting up kmod (24-1ubuntu2) ...\n",
            "Setting up libdbus-glib-1-2:amd64 (0.108-2) ...\n",
            "Setting up python3-gi (3.24.1-2build1) ...\n",
            "Setting up module-init-tools (24-1ubuntu2) ...\n",
            "Setting up python3-software-properties (0.96.24.17) ...\n",
            "Setting up dbus (1.10.22-1ubuntu1) ...\n",
            "Setting up python-apt (1.4.0~beta3build2) ...\n",
            "Setting up python3-dbus (1.2.4-1build3) ...\n",
            "Setting up python-software-properties (0.96.24.17) ...\n",
            "Setting up software-properties-common (0.96.24.17) ...\n",
            "Processing triggers for libc-bin (2.26-0ubuntu2.1) ...\n",
            "Processing triggers for dbus (1.10.22-1ubuntu1) ...\n",
            "gpg: keybox '/tmp/tmpjdrzl09l/pubring.gpg' created\n",
            "gpg: /tmp/tmpjdrzl09l/trustdb.gpg: trustdb created\n",
            "gpg: key AD5F235DF639B041: public key \"Launchpad PPA for Alessandro Strada\" imported\n",
            "gpg: Total number processed: 1\n",
            "gpg:               imported: 1\n",
            "Warning: apt-key output should not be parsed (stdout is not a terminal)\n",
            "Selecting previously unselected package libfuse2:amd64.\n",
            "(Reading database ... 19816 files and directories currently installed.)\n",
            "Preparing to unpack .../libfuse2_2.9.7-1ubuntu1_amd64.deb ...\n",
            "Unpacking libfuse2:amd64 (2.9.7-1ubuntu1) ...\n",
            "Selecting previously unselected package fuse.\n",
            "Preparing to unpack .../fuse_2.9.7-1ubuntu1_amd64.deb ...\n",
            "Unpacking fuse (2.9.7-1ubuntu1) ...\n",
            "Selecting previously unselected package google-drive-ocamlfuse.\n",
            "Preparing to unpack .../google-drive-ocamlfuse_0.6.21-0ubuntu2_amd64.deb ...\n",
            "Unpacking google-drive-ocamlfuse (0.6.21-0ubuntu2) ...\n",
            "Setting up libfuse2:amd64 (2.9.7-1ubuntu1) ...\n",
            "Processing triggers for libc-bin (2.26-0ubuntu2.1) ...\n",
            "Setting up fuse (2.9.7-1ubuntu1) ...\n",
            "Setting up google-drive-ocamlfuse (0.6.21-0ubuntu2) ...\n",
            "Please, open the following URL in a web browser: https://accounts.google.com/o/oauth2/auth?client_id=32555940559.apps.googleusercontent.com&redirect_uri=urn%3Aietf%3Awg%3Aoauth%3A2.0%3Aoob&scope=https%3A%2F%2Fwww.googleapis.com%2Fauth%2Fdrive&response_type=code&access_type=offline&approval_prompt=force\n",
            "··········\n",
            "Please, open the following URL in a web browser: https://accounts.google.com/o/oauth2/auth?client_id=32555940559.apps.googleusercontent.com&redirect_uri=urn%3Aietf%3Awg%3Aoauth%3A2.0%3Aoob&scope=https%3A%2F%2Fwww.googleapis.com%2Fauth%2Fdrive&response_type=code&access_type=offline&approval_prompt=force\n",
            "Please enter the verification code: Access token retrieved correctly.\n"
          ],
          "name": "stdout"
        }
      ]
    },
    {
      "metadata": {
        "id": "MWrH7zuh5fEv",
        "colab_type": "code",
        "colab": {}
      },
      "cell_type": "code",
      "source": [
        "!mkdir -p drive\n",
        "!google-drive-ocamlfuse drive"
      ],
      "execution_count": 0,
      "outputs": []
    },
    {
      "metadata": {
        "id": "BUN9evG359S4",
        "colab_type": "code",
        "colab": {
          "base_uri": "https://localhost:8080/",
          "height": 71
        },
        "outputId": "702175f0-3a4d-4fa5-97fe-14b1921f3bb2"
      },
      "cell_type": "code",
      "source": [
        "data = pd.read_csv(\"drive/Complaints_Dataset/complaints-2018-08-17.csv\")"
      ],
      "execution_count": 4,
      "outputs": [
        {
          "output_type": "stream",
          "text": [
            "/usr/local/lib/python3.6/dist-packages/IPython/core/interactiveshell.py:2718: DtypeWarning: Columns (25,30,31,32) have mixed types. Specify dtype option on import or set low_memory=False.\n",
            "  interactivity=interactivity, compiler=compiler, result=result)\n"
          ],
          "name": "stderr"
        }
      ]
    },
    {
      "metadata": {
        "id": "lDW6HKRO6BfM",
        "colab_type": "code",
        "colab": {
          "base_uri": "https://localhost:8080/",
          "height": 576
        },
        "outputId": "5c5a9c67-ca1b-45e0-8c37-15b68c9a043f"
      },
      "cell_type": "code",
      "source": [
        "data.head()"
      ],
      "execution_count": 5,
      "outputs": [
        {
          "output_type": "execute_result",
          "data": {
            "text/html": [
              "<div>\n",
              "<style scoped>\n",
              "    .dataframe tbody tr th:only-of-type {\n",
              "        vertical-align: middle;\n",
              "    }\n",
              "\n",
              "    .dataframe tbody tr th {\n",
              "        vertical-align: top;\n",
              "    }\n",
              "\n",
              "    .dataframe thead th {\n",
              "        text-align: right;\n",
              "    }\n",
              "</style>\n",
              "<table border=\"1\" class=\"dataframe\">\n",
              "  <thead>\n",
              "    <tr style=\"text-align: right;\">\n",
              "      <th></th>\n",
              "      <th>Date received</th>\n",
              "      <th>Product</th>\n",
              "      <th>Sub-product</th>\n",
              "      <th>Issue</th>\n",
              "      <th>Sub-issue</th>\n",
              "      <th>Consumer complaint narrative</th>\n",
              "      <th>Company public response</th>\n",
              "      <th>Company</th>\n",
              "      <th>State</th>\n",
              "      <th>ZIP code</th>\n",
              "      <th>...</th>\n",
              "      <th>Unnamed: 23</th>\n",
              "      <th>Zip Code</th>\n",
              "      <th>Place Name</th>\n",
              "      <th>Unnamed: 26</th>\n",
              "      <th>Unnamed: 27</th>\n",
              "      <th>Unnamed: 28</th>\n",
              "      <th>Unnamed: 29</th>\n",
              "      <th>Unnamed: 30</th>\n",
              "      <th>Unnamed: 31</th>\n",
              "      <th>Unnamed: 32</th>\n",
              "    </tr>\n",
              "  </thead>\n",
              "  <tbody>\n",
              "    <tr>\n",
              "      <th>0</th>\n",
              "      <td>05-11-2018</td>\n",
              "      <td>Mortgage</td>\n",
              "      <td>FHA mortgage</td>\n",
              "      <td>Trouble during payment process</td>\n",
              "      <td>NaN</td>\n",
              "      <td>NaN</td>\n",
              "      <td>Company believes complaint is the result of an...</td>\n",
              "      <td>loanDepot.com, LLC</td>\n",
              "      <td>AA</td>\n",
              "      <td>34031</td>\n",
              "      <td>...</td>\n",
              "      <td>NaN</td>\n",
              "      <td>501.0</td>\n",
              "      <td>Holtsville</td>\n",
              "      <td>NaN</td>\n",
              "      <td>NaN</td>\n",
              "      <td>NaN</td>\n",
              "      <td>92274.0</td>\n",
              "      <td>100 Palms</td>\n",
              "      <td>California</td>\n",
              "      <td>CA</td>\n",
              "    </tr>\n",
              "    <tr>\n",
              "      <th>1</th>\n",
              "      <td>02/20/13</td>\n",
              "      <td>Mortgage</td>\n",
              "      <td>Other mortgage</td>\n",
              "      <td>Loan modification,collection,foreclosure</td>\n",
              "      <td>NaN</td>\n",
              "      <td>NaN</td>\n",
              "      <td>NaN</td>\n",
              "      <td>WELLS FARGO &amp; COMPANY</td>\n",
              "      <td>AA</td>\n",
              "      <td>98282</td>\n",
              "      <td>...</td>\n",
              "      <td>NaN</td>\n",
              "      <td>544.0</td>\n",
              "      <td>Holtsville</td>\n",
              "      <td>NaN</td>\n",
              "      <td>NaN</td>\n",
              "      <td>NaN</td>\n",
              "      <td>92276.0</td>\n",
              "      <td>1000 Palms</td>\n",
              "      <td>California</td>\n",
              "      <td>CA</td>\n",
              "    </tr>\n",
              "    <tr>\n",
              "      <th>2</th>\n",
              "      <td>09/17/16</td>\n",
              "      <td>Mortgage</td>\n",
              "      <td>VA mortgage</td>\n",
              "      <td>Loan modification,collection,foreclosure</td>\n",
              "      <td>NaN</td>\n",
              "      <td>I ran into some financial issues and contacted...</td>\n",
              "      <td>NaN</td>\n",
              "      <td>FIFTH THIRD FINANCIAL CORPORATION</td>\n",
              "      <td>AA</td>\n",
              "      <td>340XX</td>\n",
              "      <td>...</td>\n",
              "      <td>NaN</td>\n",
              "      <td>1001.0</td>\n",
              "      <td>Agawam</td>\n",
              "      <td>NaN</td>\n",
              "      <td>NaN</td>\n",
              "      <td>NaN</td>\n",
              "      <td>92277.0</td>\n",
              "      <td>29 Palms</td>\n",
              "      <td>California</td>\n",
              "      <td>CA</td>\n",
              "    </tr>\n",
              "    <tr>\n",
              "      <th>3</th>\n",
              "      <td>08/18/15</td>\n",
              "      <td>Mortgage</td>\n",
              "      <td>Conventional fixed mortgage</td>\n",
              "      <td>Loan servicing, payments, escrow account</td>\n",
              "      <td>NaN</td>\n",
              "      <td>My mortgage servicer, PHH corporation, has fai...</td>\n",
              "      <td>NaN</td>\n",
              "      <td>PHH Mortgage Services Corporation</td>\n",
              "      <td>AA</td>\n",
              "      <td>340XX</td>\n",
              "      <td>...</td>\n",
              "      <td>NaN</td>\n",
              "      <td>1002.0</td>\n",
              "      <td>Amherst</td>\n",
              "      <td>NaN</td>\n",
              "      <td>NaN</td>\n",
              "      <td>NaN</td>\n",
              "      <td>92278.0</td>\n",
              "      <td>29 Palms</td>\n",
              "      <td>California</td>\n",
              "      <td>CA</td>\n",
              "    </tr>\n",
              "    <tr>\n",
              "      <th>4</th>\n",
              "      <td>05/28/14</td>\n",
              "      <td>Mortgage</td>\n",
              "      <td>Conventional fixed mortgage</td>\n",
              "      <td>Loan servicing, payments, escrow account</td>\n",
              "      <td>NaN</td>\n",
              "      <td>NaN</td>\n",
              "      <td>NaN</td>\n",
              "      <td>CITIBANK, N.A.</td>\n",
              "      <td>AA</td>\n",
              "      <td>34058</td>\n",
              "      <td>...</td>\n",
              "      <td>NaN</td>\n",
              "      <td>1003.0</td>\n",
              "      <td>Amherst</td>\n",
              "      <td>NaN</td>\n",
              "      <td>NaN</td>\n",
              "      <td>NaN</td>\n",
              "      <td>90848.0</td>\n",
              "      <td>A A R P</td>\n",
              "      <td>California</td>\n",
              "      <td>CA</td>\n",
              "    </tr>\n",
              "  </tbody>\n",
              "</table>\n",
              "<p>5 rows × 33 columns</p>\n",
              "</div>"
            ],
            "text/plain": [
              "  Date received   Product                  Sub-product  \\\n",
              "0    05-11-2018  Mortgage                 FHA mortgage   \n",
              "1      02/20/13  Mortgage               Other mortgage   \n",
              "2      09/17/16  Mortgage                  VA mortgage   \n",
              "3      08/18/15  Mortgage  Conventional fixed mortgage   \n",
              "4      05/28/14  Mortgage  Conventional fixed mortgage   \n",
              "\n",
              "                                      Issue  Sub-issue  \\\n",
              "0            Trouble during payment process        NaN   \n",
              "1  Loan modification,collection,foreclosure        NaN   \n",
              "2  Loan modification,collection,foreclosure        NaN   \n",
              "3  Loan servicing, payments, escrow account        NaN   \n",
              "4  Loan servicing, payments, escrow account        NaN   \n",
              "\n",
              "                        Consumer complaint narrative  \\\n",
              "0                                                NaN   \n",
              "1                                                NaN   \n",
              "2  I ran into some financial issues and contacted...   \n",
              "3  My mortgage servicer, PHH corporation, has fai...   \n",
              "4                                                NaN   \n",
              "\n",
              "                             Company public response  \\\n",
              "0  Company believes complaint is the result of an...   \n",
              "1                                                NaN   \n",
              "2                                                NaN   \n",
              "3                                                NaN   \n",
              "4                                                NaN   \n",
              "\n",
              "                             Company State ZIP code     ...      Unnamed: 23  \\\n",
              "0                 loanDepot.com, LLC    AA    34031     ...              NaN   \n",
              "1              WELLS FARGO & COMPANY    AA    98282     ...              NaN   \n",
              "2  FIFTH THIRD FINANCIAL CORPORATION    AA    340XX     ...              NaN   \n",
              "3  PHH Mortgage Services Corporation    AA    340XX     ...              NaN   \n",
              "4                     CITIBANK, N.A.    AA    34058     ...              NaN   \n",
              "\n",
              "  Zip Code  Place Name Unnamed: 26 Unnamed: 27 Unnamed: 28 Unnamed: 29  \\\n",
              "0    501.0  Holtsville         NaN         NaN         NaN     92274.0   \n",
              "1    544.0  Holtsville         NaN         NaN         NaN     92276.0   \n",
              "2   1001.0      Agawam         NaN         NaN         NaN     92277.0   \n",
              "3   1002.0     Amherst         NaN         NaN         NaN     92278.0   \n",
              "4   1003.0     Amherst         NaN         NaN         NaN     90848.0   \n",
              "\n",
              "   Unnamed: 30 Unnamed: 31  Unnamed: 32  \n",
              "0    100 Palms  California           CA  \n",
              "1   1000 Palms  California           CA  \n",
              "2     29 Palms  California           CA  \n",
              "3     29 Palms  California           CA  \n",
              "4      A A R P  California           CA  \n",
              "\n",
              "[5 rows x 33 columns]"
            ]
          },
          "metadata": {
            "tags": []
          },
          "execution_count": 5
        }
      ]
    },
    {
      "metadata": {
        "id": "7nLwqjwo6FeW",
        "colab_type": "code",
        "colab": {}
      },
      "cell_type": "code",
      "source": [
        "data = data[data.Company == 'WELLS FARGO & COMPANY']"
      ],
      "execution_count": 0,
      "outputs": []
    },
    {
      "metadata": {
        "id": "-0sQpqDB95iW",
        "colab_type": "code",
        "colab": {}
      },
      "cell_type": "code",
      "source": [
        "data = data[data.State.isin(['AK','AL','AR','AZ','CA','CO','CT','DC','DE','FL','GA','HI','IA','ID','IL','IN','KS','KY','LA','MA','MD','ME','MI','MN','MO','MS','MT','NC','ND','NE','NH','NJ','NM','NV','NY','OH','OK','OR','PA','PR','RI','SC','SD','TN','TX','UT','VA','VT','WA','WI','WV','WY'])]"
      ],
      "execution_count": 0,
      "outputs": []
    },
    {
      "metadata": {
        "id": "3Xh52LSB6LRZ",
        "colab_type": "code",
        "colab": {
          "base_uri": "https://localhost:8080/",
          "height": 559
        },
        "outputId": "bfb5e529-a253-4473-962f-d0af6a06a6ab"
      },
      "cell_type": "code",
      "source": [
        "data.head()"
      ],
      "execution_count": 8,
      "outputs": [
        {
          "output_type": "execute_result",
          "data": {
            "text/html": [
              "<div>\n",
              "<style scoped>\n",
              "    .dataframe tbody tr th:only-of-type {\n",
              "        vertical-align: middle;\n",
              "    }\n",
              "\n",
              "    .dataframe tbody tr th {\n",
              "        vertical-align: top;\n",
              "    }\n",
              "\n",
              "    .dataframe thead th {\n",
              "        text-align: right;\n",
              "    }\n",
              "</style>\n",
              "<table border=\"1\" class=\"dataframe\">\n",
              "  <thead>\n",
              "    <tr style=\"text-align: right;\">\n",
              "      <th></th>\n",
              "      <th>Date received</th>\n",
              "      <th>Product</th>\n",
              "      <th>Sub-product</th>\n",
              "      <th>Issue</th>\n",
              "      <th>Sub-issue</th>\n",
              "      <th>Consumer complaint narrative</th>\n",
              "      <th>Company public response</th>\n",
              "      <th>Company</th>\n",
              "      <th>State</th>\n",
              "      <th>ZIP code</th>\n",
              "      <th>...</th>\n",
              "      <th>Unnamed: 23</th>\n",
              "      <th>Zip Code</th>\n",
              "      <th>Place Name</th>\n",
              "      <th>Unnamed: 26</th>\n",
              "      <th>Unnamed: 27</th>\n",
              "      <th>Unnamed: 28</th>\n",
              "      <th>Unnamed: 29</th>\n",
              "      <th>Unnamed: 30</th>\n",
              "      <th>Unnamed: 31</th>\n",
              "      <th>Unnamed: 32</th>\n",
              "    </tr>\n",
              "  </thead>\n",
              "  <tbody>\n",
              "    <tr>\n",
              "      <th>114</th>\n",
              "      <td>11/14/16</td>\n",
              "      <td>Mortgage</td>\n",
              "      <td>Other mortgage</td>\n",
              "      <td>Loan modification,collection,foreclosure</td>\n",
              "      <td>NaN</td>\n",
              "      <td>NaN</td>\n",
              "      <td>Company has responded to the consumer and the ...</td>\n",
              "      <td>WELLS FARGO &amp; COMPANY</td>\n",
              "      <td>AK</td>\n",
              "      <td>99524</td>\n",
              "      <td>...</td>\n",
              "      <td>NaN</td>\n",
              "      <td>1245.0</td>\n",
              "      <td>Monterey</td>\n",
              "      <td>NaN</td>\n",
              "      <td>NaN</td>\n",
              "      <td>NaN</td>\n",
              "      <td>92307.0</td>\n",
              "      <td>Apple Valley</td>\n",
              "      <td>California</td>\n",
              "      <td>CA</td>\n",
              "    </tr>\n",
              "    <tr>\n",
              "      <th>117</th>\n",
              "      <td>02-09-2015</td>\n",
              "      <td>Mortgage</td>\n",
              "      <td>FHA mortgage</td>\n",
              "      <td>Loan modification,collection,foreclosure</td>\n",
              "      <td>NaN</td>\n",
              "      <td>NaN</td>\n",
              "      <td>NaN</td>\n",
              "      <td>WELLS FARGO &amp; COMPANY</td>\n",
              "      <td>AK</td>\n",
              "      <td>99567</td>\n",
              "      <td>...</td>\n",
              "      <td>NaN</td>\n",
              "      <td>1253.0</td>\n",
              "      <td>Otis</td>\n",
              "      <td>NaN</td>\n",
              "      <td>NaN</td>\n",
              "      <td>NaN</td>\n",
              "      <td>95001.0</td>\n",
              "      <td>Aptos</td>\n",
              "      <td>California</td>\n",
              "      <td>CA</td>\n",
              "    </tr>\n",
              "    <tr>\n",
              "      <th>118</th>\n",
              "      <td>03-02-2016</td>\n",
              "      <td>Mortgage</td>\n",
              "      <td>Other mortgage</td>\n",
              "      <td>Application, originator, mortgage broker</td>\n",
              "      <td>NaN</td>\n",
              "      <td>I refinanced my loan with Wells Fargo. The ori...</td>\n",
              "      <td>Company has responded to the consumer and the ...</td>\n",
              "      <td>WELLS FARGO &amp; COMPANY</td>\n",
              "      <td>AK</td>\n",
              "      <td>995XX</td>\n",
              "      <td>...</td>\n",
              "      <td>NaN</td>\n",
              "      <td>1254.0</td>\n",
              "      <td>Richmond</td>\n",
              "      <td>NaN</td>\n",
              "      <td>NaN</td>\n",
              "      <td>NaN</td>\n",
              "      <td>95003.0</td>\n",
              "      <td>Aptos</td>\n",
              "      <td>California</td>\n",
              "      <td>CA</td>\n",
              "    </tr>\n",
              "    <tr>\n",
              "      <th>120</th>\n",
              "      <td>12-02-2014</td>\n",
              "      <td>Mortgage</td>\n",
              "      <td>FHA mortgage</td>\n",
              "      <td>Loan modification,collection,foreclosure</td>\n",
              "      <td>NaN</td>\n",
              "      <td>NaN</td>\n",
              "      <td>NaN</td>\n",
              "      <td>WELLS FARGO &amp; COMPANY</td>\n",
              "      <td>AK</td>\n",
              "      <td>99507</td>\n",
              "      <td>...</td>\n",
              "      <td>NaN</td>\n",
              "      <td>1256.0</td>\n",
              "      <td>Savoy</td>\n",
              "      <td>NaN</td>\n",
              "      <td>NaN</td>\n",
              "      <td>NaN</td>\n",
              "      <td>95912.0</td>\n",
              "      <td>Arbuckle</td>\n",
              "      <td>California</td>\n",
              "      <td>CA</td>\n",
              "    </tr>\n",
              "    <tr>\n",
              "      <th>123</th>\n",
              "      <td>03-07-2013</td>\n",
              "      <td>Mortgage</td>\n",
              "      <td>Other mortgage</td>\n",
              "      <td>Loan servicing, payments, escrow account</td>\n",
              "      <td>NaN</td>\n",
              "      <td>NaN</td>\n",
              "      <td>NaN</td>\n",
              "      <td>WELLS FARGO &amp; COMPANY</td>\n",
              "      <td>AK</td>\n",
              "      <td>99516</td>\n",
              "      <td>...</td>\n",
              "      <td>NaN</td>\n",
              "      <td>1259.0</td>\n",
              "      <td>Southfield</td>\n",
              "      <td>NaN</td>\n",
              "      <td>NaN</td>\n",
              "      <td>NaN</td>\n",
              "      <td>91066.0</td>\n",
              "      <td>Arcadia</td>\n",
              "      <td>California</td>\n",
              "      <td>CA</td>\n",
              "    </tr>\n",
              "  </tbody>\n",
              "</table>\n",
              "<p>5 rows × 33 columns</p>\n",
              "</div>"
            ],
            "text/plain": [
              "    Date received   Product     Sub-product  \\\n",
              "114      11/14/16  Mortgage  Other mortgage   \n",
              "117    02-09-2015  Mortgage    FHA mortgage   \n",
              "118    03-02-2016  Mortgage  Other mortgage   \n",
              "120    12-02-2014  Mortgage    FHA mortgage   \n",
              "123    03-07-2013  Mortgage  Other mortgage   \n",
              "\n",
              "                                        Issue  Sub-issue  \\\n",
              "114  Loan modification,collection,foreclosure        NaN   \n",
              "117  Loan modification,collection,foreclosure        NaN   \n",
              "118  Application, originator, mortgage broker        NaN   \n",
              "120  Loan modification,collection,foreclosure        NaN   \n",
              "123  Loan servicing, payments, escrow account        NaN   \n",
              "\n",
              "                          Consumer complaint narrative  \\\n",
              "114                                                NaN   \n",
              "117                                                NaN   \n",
              "118  I refinanced my loan with Wells Fargo. The ori...   \n",
              "120                                                NaN   \n",
              "123                                                NaN   \n",
              "\n",
              "                               Company public response                Company  \\\n",
              "114  Company has responded to the consumer and the ...  WELLS FARGO & COMPANY   \n",
              "117                                                NaN  WELLS FARGO & COMPANY   \n",
              "118  Company has responded to the consumer and the ...  WELLS FARGO & COMPANY   \n",
              "120                                                NaN  WELLS FARGO & COMPANY   \n",
              "123                                                NaN  WELLS FARGO & COMPANY   \n",
              "\n",
              "    State ZIP code     ...      Unnamed: 23 Zip Code  Place Name Unnamed: 26  \\\n",
              "114    AK    99524     ...              NaN   1245.0    Monterey         NaN   \n",
              "117    AK    99567     ...              NaN   1253.0        Otis         NaN   \n",
              "118    AK    995XX     ...              NaN   1254.0    Richmond         NaN   \n",
              "120    AK    99507     ...              NaN   1256.0       Savoy         NaN   \n",
              "123    AK    99516     ...              NaN   1259.0  Southfield         NaN   \n",
              "\n",
              "    Unnamed: 27 Unnamed: 28 Unnamed: 29   Unnamed: 30 Unnamed: 31  Unnamed: 32  \n",
              "114         NaN         NaN     92307.0  Apple Valley  California           CA  \n",
              "117         NaN         NaN     95001.0         Aptos  California           CA  \n",
              "118         NaN         NaN     95003.0         Aptos  California           CA  \n",
              "120         NaN         NaN     95912.0      Arbuckle  California           CA  \n",
              "123         NaN         NaN     91066.0       Arcadia  California           CA  \n",
              "\n",
              "[5 rows x 33 columns]"
            ]
          },
          "metadata": {
            "tags": []
          },
          "execution_count": 8
        }
      ]
    },
    {
      "metadata": {
        "id": "_Mx5HVmSc2hJ",
        "colab_type": "code",
        "colab": {
          "base_uri": "https://localhost:8080/",
          "height": 559
        },
        "outputId": "6d77ed22-380e-4915-ddcf-c72a64462459"
      },
      "cell_type": "code",
      "source": [
        "data.index = range(data.shape[0])\n",
        "data.head()"
      ],
      "execution_count": 9,
      "outputs": [
        {
          "output_type": "execute_result",
          "data": {
            "text/html": [
              "<div>\n",
              "<style scoped>\n",
              "    .dataframe tbody tr th:only-of-type {\n",
              "        vertical-align: middle;\n",
              "    }\n",
              "\n",
              "    .dataframe tbody tr th {\n",
              "        vertical-align: top;\n",
              "    }\n",
              "\n",
              "    .dataframe thead th {\n",
              "        text-align: right;\n",
              "    }\n",
              "</style>\n",
              "<table border=\"1\" class=\"dataframe\">\n",
              "  <thead>\n",
              "    <tr style=\"text-align: right;\">\n",
              "      <th></th>\n",
              "      <th>Date received</th>\n",
              "      <th>Product</th>\n",
              "      <th>Sub-product</th>\n",
              "      <th>Issue</th>\n",
              "      <th>Sub-issue</th>\n",
              "      <th>Consumer complaint narrative</th>\n",
              "      <th>Company public response</th>\n",
              "      <th>Company</th>\n",
              "      <th>State</th>\n",
              "      <th>ZIP code</th>\n",
              "      <th>...</th>\n",
              "      <th>Unnamed: 23</th>\n",
              "      <th>Zip Code</th>\n",
              "      <th>Place Name</th>\n",
              "      <th>Unnamed: 26</th>\n",
              "      <th>Unnamed: 27</th>\n",
              "      <th>Unnamed: 28</th>\n",
              "      <th>Unnamed: 29</th>\n",
              "      <th>Unnamed: 30</th>\n",
              "      <th>Unnamed: 31</th>\n",
              "      <th>Unnamed: 32</th>\n",
              "    </tr>\n",
              "  </thead>\n",
              "  <tbody>\n",
              "    <tr>\n",
              "      <th>0</th>\n",
              "      <td>11/14/16</td>\n",
              "      <td>Mortgage</td>\n",
              "      <td>Other mortgage</td>\n",
              "      <td>Loan modification,collection,foreclosure</td>\n",
              "      <td>NaN</td>\n",
              "      <td>NaN</td>\n",
              "      <td>Company has responded to the consumer and the ...</td>\n",
              "      <td>WELLS FARGO &amp; COMPANY</td>\n",
              "      <td>AK</td>\n",
              "      <td>99524</td>\n",
              "      <td>...</td>\n",
              "      <td>NaN</td>\n",
              "      <td>1245.0</td>\n",
              "      <td>Monterey</td>\n",
              "      <td>NaN</td>\n",
              "      <td>NaN</td>\n",
              "      <td>NaN</td>\n",
              "      <td>92307.0</td>\n",
              "      <td>Apple Valley</td>\n",
              "      <td>California</td>\n",
              "      <td>CA</td>\n",
              "    </tr>\n",
              "    <tr>\n",
              "      <th>1</th>\n",
              "      <td>02-09-2015</td>\n",
              "      <td>Mortgage</td>\n",
              "      <td>FHA mortgage</td>\n",
              "      <td>Loan modification,collection,foreclosure</td>\n",
              "      <td>NaN</td>\n",
              "      <td>NaN</td>\n",
              "      <td>NaN</td>\n",
              "      <td>WELLS FARGO &amp; COMPANY</td>\n",
              "      <td>AK</td>\n",
              "      <td>99567</td>\n",
              "      <td>...</td>\n",
              "      <td>NaN</td>\n",
              "      <td>1253.0</td>\n",
              "      <td>Otis</td>\n",
              "      <td>NaN</td>\n",
              "      <td>NaN</td>\n",
              "      <td>NaN</td>\n",
              "      <td>95001.0</td>\n",
              "      <td>Aptos</td>\n",
              "      <td>California</td>\n",
              "      <td>CA</td>\n",
              "    </tr>\n",
              "    <tr>\n",
              "      <th>2</th>\n",
              "      <td>03-02-2016</td>\n",
              "      <td>Mortgage</td>\n",
              "      <td>Other mortgage</td>\n",
              "      <td>Application, originator, mortgage broker</td>\n",
              "      <td>NaN</td>\n",
              "      <td>I refinanced my loan with Wells Fargo. The ori...</td>\n",
              "      <td>Company has responded to the consumer and the ...</td>\n",
              "      <td>WELLS FARGO &amp; COMPANY</td>\n",
              "      <td>AK</td>\n",
              "      <td>995XX</td>\n",
              "      <td>...</td>\n",
              "      <td>NaN</td>\n",
              "      <td>1254.0</td>\n",
              "      <td>Richmond</td>\n",
              "      <td>NaN</td>\n",
              "      <td>NaN</td>\n",
              "      <td>NaN</td>\n",
              "      <td>95003.0</td>\n",
              "      <td>Aptos</td>\n",
              "      <td>California</td>\n",
              "      <td>CA</td>\n",
              "    </tr>\n",
              "    <tr>\n",
              "      <th>3</th>\n",
              "      <td>12-02-2014</td>\n",
              "      <td>Mortgage</td>\n",
              "      <td>FHA mortgage</td>\n",
              "      <td>Loan modification,collection,foreclosure</td>\n",
              "      <td>NaN</td>\n",
              "      <td>NaN</td>\n",
              "      <td>NaN</td>\n",
              "      <td>WELLS FARGO &amp; COMPANY</td>\n",
              "      <td>AK</td>\n",
              "      <td>99507</td>\n",
              "      <td>...</td>\n",
              "      <td>NaN</td>\n",
              "      <td>1256.0</td>\n",
              "      <td>Savoy</td>\n",
              "      <td>NaN</td>\n",
              "      <td>NaN</td>\n",
              "      <td>NaN</td>\n",
              "      <td>95912.0</td>\n",
              "      <td>Arbuckle</td>\n",
              "      <td>California</td>\n",
              "      <td>CA</td>\n",
              "    </tr>\n",
              "    <tr>\n",
              "      <th>4</th>\n",
              "      <td>03-07-2013</td>\n",
              "      <td>Mortgage</td>\n",
              "      <td>Other mortgage</td>\n",
              "      <td>Loan servicing, payments, escrow account</td>\n",
              "      <td>NaN</td>\n",
              "      <td>NaN</td>\n",
              "      <td>NaN</td>\n",
              "      <td>WELLS FARGO &amp; COMPANY</td>\n",
              "      <td>AK</td>\n",
              "      <td>99516</td>\n",
              "      <td>...</td>\n",
              "      <td>NaN</td>\n",
              "      <td>1259.0</td>\n",
              "      <td>Southfield</td>\n",
              "      <td>NaN</td>\n",
              "      <td>NaN</td>\n",
              "      <td>NaN</td>\n",
              "      <td>91066.0</td>\n",
              "      <td>Arcadia</td>\n",
              "      <td>California</td>\n",
              "      <td>CA</td>\n",
              "    </tr>\n",
              "  </tbody>\n",
              "</table>\n",
              "<p>5 rows × 33 columns</p>\n",
              "</div>"
            ],
            "text/plain": [
              "  Date received   Product     Sub-product  \\\n",
              "0      11/14/16  Mortgage  Other mortgage   \n",
              "1    02-09-2015  Mortgage    FHA mortgage   \n",
              "2    03-02-2016  Mortgage  Other mortgage   \n",
              "3    12-02-2014  Mortgage    FHA mortgage   \n",
              "4    03-07-2013  Mortgage  Other mortgage   \n",
              "\n",
              "                                      Issue  Sub-issue  \\\n",
              "0  Loan modification,collection,foreclosure        NaN   \n",
              "1  Loan modification,collection,foreclosure        NaN   \n",
              "2  Application, originator, mortgage broker        NaN   \n",
              "3  Loan modification,collection,foreclosure        NaN   \n",
              "4  Loan servicing, payments, escrow account        NaN   \n",
              "\n",
              "                        Consumer complaint narrative  \\\n",
              "0                                                NaN   \n",
              "1                                                NaN   \n",
              "2  I refinanced my loan with Wells Fargo. The ori...   \n",
              "3                                                NaN   \n",
              "4                                                NaN   \n",
              "\n",
              "                             Company public response                Company  \\\n",
              "0  Company has responded to the consumer and the ...  WELLS FARGO & COMPANY   \n",
              "1                                                NaN  WELLS FARGO & COMPANY   \n",
              "2  Company has responded to the consumer and the ...  WELLS FARGO & COMPANY   \n",
              "3                                                NaN  WELLS FARGO & COMPANY   \n",
              "4                                                NaN  WELLS FARGO & COMPANY   \n",
              "\n",
              "  State ZIP code     ...      Unnamed: 23 Zip Code  Place Name Unnamed: 26  \\\n",
              "0    AK    99524     ...              NaN   1245.0    Monterey         NaN   \n",
              "1    AK    99567     ...              NaN   1253.0        Otis         NaN   \n",
              "2    AK    995XX     ...              NaN   1254.0    Richmond         NaN   \n",
              "3    AK    99507     ...              NaN   1256.0       Savoy         NaN   \n",
              "4    AK    99516     ...              NaN   1259.0  Southfield         NaN   \n",
              "\n",
              "  Unnamed: 27 Unnamed: 28 Unnamed: 29   Unnamed: 30 Unnamed: 31  Unnamed: 32  \n",
              "0         NaN         NaN     92307.0  Apple Valley  California           CA  \n",
              "1         NaN         NaN     95001.0         Aptos  California           CA  \n",
              "2         NaN         NaN     95003.0         Aptos  California           CA  \n",
              "3         NaN         NaN     95912.0      Arbuckle  California           CA  \n",
              "4         NaN         NaN     91066.0       Arcadia  California           CA  \n",
              "\n",
              "[5 rows x 33 columns]"
            ]
          },
          "metadata": {
            "tags": []
          },
          "execution_count": 9
        }
      ]
    },
    {
      "metadata": {
        "id": "1OjRKr-G76pQ",
        "colab_type": "code",
        "colab": {
          "base_uri": "https://localhost:8080/",
          "height": 34
        },
        "outputId": "626ee21d-2709-42bc-e81d-e5d736ceaf4d"
      },
      "cell_type": "code",
      "source": [
        "data.shape"
      ],
      "execution_count": 10,
      "outputs": [
        {
          "output_type": "execute_result",
          "data": {
            "text/plain": [
              "(34081, 33)"
            ]
          },
          "metadata": {
            "tags": []
          },
          "execution_count": 10
        }
      ]
    },
    {
      "metadata": {
        "id": "pHpo_wll8Y3V",
        "colab_type": "code",
        "colab": {}
      },
      "cell_type": "code",
      "source": [
        "#req_cols = ['Date received','Issue','State','Submitted via', 'Date sent to company','Company reponse to consumer']\n",
        "req_cols = ['Date received','Issue','City','Submitted via', 'Date sent to company','Company response to consumer']"
      ],
      "execution_count": 0,
      "outputs": []
    },
    {
      "metadata": {
        "id": "0gw8YvFAAvDD",
        "colab_type": "code",
        "colab": {
          "base_uri": "https://localhost:8080/",
          "height": 187
        },
        "outputId": "21176d2b-1a4d-4329-ae11-931c3587aac3"
      },
      "cell_type": "code",
      "source": [
        "data.columns"
      ],
      "execution_count": 12,
      "outputs": [
        {
          "output_type": "execute_result",
          "data": {
            "text/plain": [
              "Index(['Date received', 'Product', 'Sub-product', 'Issue', 'Sub-issue',\n",
              "       'Consumer complaint narrative', 'Company public response', 'Company',\n",
              "       'State', 'ZIP code', 'Tags', 'Consumer consent provided?',\n",
              "       'Submitted via', 'Date sent to company', 'Company response to consumer',\n",
              "       'Timely response?', 'Consumer disputed?', 'Complaint ID', 'City',\n",
              "       'Unnamed: 19', 'Unnamed: 20', 'Unnamed: 21', 'Unnamed: 22',\n",
              "       'Unnamed: 23', 'Zip Code', 'Place Name', 'Unnamed: 26', 'Unnamed: 27',\n",
              "       'Unnamed: 28', 'Unnamed: 29', 'Unnamed: 30', 'Unnamed: 31',\n",
              "       'Unnamed: 32'],\n",
              "      dtype='object')"
            ]
          },
          "metadata": {
            "tags": []
          },
          "execution_count": 12
        }
      ]
    },
    {
      "metadata": {
        "id": "bGaZu1Xc_K-j",
        "colab_type": "code",
        "colab": {}
      },
      "cell_type": "code",
      "source": [
        "data_req = data[req_cols]"
      ],
      "execution_count": 0,
      "outputs": []
    },
    {
      "metadata": {
        "id": "FKR2PBW-_QIk",
        "colab_type": "code",
        "colab": {
          "base_uri": "https://localhost:8080/",
          "height": 34
        },
        "outputId": "3bfa9b6a-fcbc-47b8-8d8c-49ba57079ea4"
      },
      "cell_type": "code",
      "source": [
        "data_req.shape"
      ],
      "execution_count": 14,
      "outputs": [
        {
          "output_type": "execute_result",
          "data": {
            "text/plain": [
              "(34081, 6)"
            ]
          },
          "metadata": {
            "tags": []
          },
          "execution_count": 14
        }
      ]
    },
    {
      "metadata": {
        "id": "exaKtRM9B2yH",
        "colab_type": "code",
        "colab": {
          "base_uri": "https://localhost:8080/",
          "height": 68
        },
        "outputId": "7a9b74e2-c9a0-44c1-8dc1-57541c6b7802"
      },
      "cell_type": "code",
      "source": [
        "data_req.columns"
      ],
      "execution_count": 15,
      "outputs": [
        {
          "output_type": "execute_result",
          "data": {
            "text/plain": [
              "Index(['Date received', 'Issue', 'City', 'Submitted via',\n",
              "       'Date sent to company', 'Company response to consumer'],\n",
              "      dtype='object')"
            ]
          },
          "metadata": {
            "tags": []
          },
          "execution_count": 15
        }
      ]
    },
    {
      "metadata": {
        "id": "N0SM4rJYK0PK",
        "colab_type": "code",
        "colab": {
          "base_uri": "https://localhost:8080/",
          "height": 221
        },
        "outputId": "17b35a1f-c3f0-406e-c1c7-48cc8439a4e8"
      },
      "cell_type": "code",
      "source": [
        "data_req['Date received']=pd.to_datetime(data_req['Date received'])\n",
        "data_req['Date sent to company']=pd.to_datetime(data_req['Date sent to company'])"
      ],
      "execution_count": 16,
      "outputs": [
        {
          "output_type": "stream",
          "text": [
            "/usr/local/lib/python3.6/dist-packages/ipykernel_launcher.py:1: SettingWithCopyWarning: \n",
            "A value is trying to be set on a copy of a slice from a DataFrame.\n",
            "Try using .loc[row_indexer,col_indexer] = value instead\n",
            "\n",
            "See the caveats in the documentation: http://pandas.pydata.org/pandas-docs/stable/indexing.html#indexing-view-versus-copy\n",
            "  \"\"\"Entry point for launching an IPython kernel.\n",
            "/usr/local/lib/python3.6/dist-packages/ipykernel_launcher.py:2: SettingWithCopyWarning: \n",
            "A value is trying to be set on a copy of a slice from a DataFrame.\n",
            "Try using .loc[row_indexer,col_indexer] = value instead\n",
            "\n",
            "See the caveats in the documentation: http://pandas.pydata.org/pandas-docs/stable/indexing.html#indexing-view-versus-copy\n",
            "  \n"
          ],
          "name": "stderr"
        }
      ]
    },
    {
      "metadata": {
        "id": "3Ck-NE03MZiX",
        "colab_type": "code",
        "colab": {
          "base_uri": "https://localhost:8080/",
          "height": 204
        },
        "outputId": "32e1e553-08f8-4287-b21f-54128bca0cd5"
      },
      "cell_type": "code",
      "source": [
        "data_req.info()"
      ],
      "execution_count": 17,
      "outputs": [
        {
          "output_type": "stream",
          "text": [
            "<class 'pandas.core.frame.DataFrame'>\n",
            "RangeIndex: 34081 entries, 0 to 34080\n",
            "Data columns (total 6 columns):\n",
            "Date received                   34081 non-null datetime64[ns]\n",
            "Issue                           34081 non-null object\n",
            "City                            28423 non-null object\n",
            "Submitted via                   34081 non-null object\n",
            "Date sent to company            34081 non-null datetime64[ns]\n",
            "Company response to consumer    34081 non-null object\n",
            "dtypes: datetime64[ns](2), object(4)\n",
            "memory usage: 1.6+ MB\n"
          ],
          "name": "stdout"
        }
      ]
    },
    {
      "metadata": {
        "id": "LUJfHbiaM48W",
        "colab_type": "code",
        "colab": {
          "base_uri": "https://localhost:8080/",
          "height": 306
        },
        "outputId": "b17be806-9e69-4250-ae72-ed550b4d7b33"
      },
      "cell_type": "code",
      "source": [
        "data_req['Time Difference'] = (data_req['Date sent to company']-data_req['Date received']).astype('timedelta64[s]')\n",
        "data_req.head()"
      ],
      "execution_count": 18,
      "outputs": [
        {
          "output_type": "stream",
          "text": [
            "/usr/local/lib/python3.6/dist-packages/ipykernel_launcher.py:1: SettingWithCopyWarning: \n",
            "A value is trying to be set on a copy of a slice from a DataFrame.\n",
            "Try using .loc[row_indexer,col_indexer] = value instead\n",
            "\n",
            "See the caveats in the documentation: http://pandas.pydata.org/pandas-docs/stable/indexing.html#indexing-view-versus-copy\n",
            "  \"\"\"Entry point for launching an IPython kernel.\n"
          ],
          "name": "stderr"
        },
        {
          "output_type": "execute_result",
          "data": {
            "text/html": [
              "<div>\n",
              "<style scoped>\n",
              "    .dataframe tbody tr th:only-of-type {\n",
              "        vertical-align: middle;\n",
              "    }\n",
              "\n",
              "    .dataframe tbody tr th {\n",
              "        vertical-align: top;\n",
              "    }\n",
              "\n",
              "    .dataframe thead th {\n",
              "        text-align: right;\n",
              "    }\n",
              "</style>\n",
              "<table border=\"1\" class=\"dataframe\">\n",
              "  <thead>\n",
              "    <tr style=\"text-align: right;\">\n",
              "      <th></th>\n",
              "      <th>Date received</th>\n",
              "      <th>Issue</th>\n",
              "      <th>City</th>\n",
              "      <th>Submitted via</th>\n",
              "      <th>Date sent to company</th>\n",
              "      <th>Company response to consumer</th>\n",
              "      <th>Time Difference</th>\n",
              "    </tr>\n",
              "  </thead>\n",
              "  <tbody>\n",
              "    <tr>\n",
              "      <th>0</th>\n",
              "      <td>2016-11-14</td>\n",
              "      <td>Loan modification,collection,foreclosure</td>\n",
              "      <td>Anchorage</td>\n",
              "      <td>Referral</td>\n",
              "      <td>2016-11-16</td>\n",
              "      <td>Closed with explanation</td>\n",
              "      <td>172800.0</td>\n",
              "    </tr>\n",
              "    <tr>\n",
              "      <th>1</th>\n",
              "      <td>2015-02-09</td>\n",
              "      <td>Loan modification,collection,foreclosure</td>\n",
              "      <td>Chugiak</td>\n",
              "      <td>Web</td>\n",
              "      <td>2015-02-09</td>\n",
              "      <td>Closed with explanation</td>\n",
              "      <td>0.0</td>\n",
              "    </tr>\n",
              "    <tr>\n",
              "      <th>2</th>\n",
              "      <td>2016-03-02</td>\n",
              "      <td>Application, originator, mortgage broker</td>\n",
              "      <td>NaN</td>\n",
              "      <td>Web</td>\n",
              "      <td>2016-03-04</td>\n",
              "      <td>Closed with monetary relief</td>\n",
              "      <td>172800.0</td>\n",
              "    </tr>\n",
              "    <tr>\n",
              "      <th>3</th>\n",
              "      <td>2014-12-02</td>\n",
              "      <td>Loan modification,collection,foreclosure</td>\n",
              "      <td>Anchorage</td>\n",
              "      <td>Web</td>\n",
              "      <td>2014-12-05</td>\n",
              "      <td>Closed with explanation</td>\n",
              "      <td>259200.0</td>\n",
              "    </tr>\n",
              "    <tr>\n",
              "      <th>4</th>\n",
              "      <td>2013-03-07</td>\n",
              "      <td>Loan servicing, payments, escrow account</td>\n",
              "      <td>Anchorage</td>\n",
              "      <td>Referral</td>\n",
              "      <td>2013-03-08</td>\n",
              "      <td>Closed with explanation</td>\n",
              "      <td>86400.0</td>\n",
              "    </tr>\n",
              "  </tbody>\n",
              "</table>\n",
              "</div>"
            ],
            "text/plain": [
              "  Date received                                     Issue       City  \\\n",
              "0    2016-11-14  Loan modification,collection,foreclosure  Anchorage   \n",
              "1    2015-02-09  Loan modification,collection,foreclosure    Chugiak   \n",
              "2    2016-03-02  Application, originator, mortgage broker        NaN   \n",
              "3    2014-12-02  Loan modification,collection,foreclosure  Anchorage   \n",
              "4    2013-03-07  Loan servicing, payments, escrow account  Anchorage   \n",
              "\n",
              "  Submitted via Date sent to company Company response to consumer  \\\n",
              "0      Referral           2016-11-16      Closed with explanation   \n",
              "1           Web           2015-02-09      Closed with explanation   \n",
              "2           Web           2016-03-04  Closed with monetary relief   \n",
              "3           Web           2014-12-05      Closed with explanation   \n",
              "4      Referral           2013-03-08      Closed with explanation   \n",
              "\n",
              "   Time Difference  \n",
              "0         172800.0  \n",
              "1              0.0  \n",
              "2         172800.0  \n",
              "3         259200.0  \n",
              "4          86400.0  "
            ]
          },
          "metadata": {
            "tags": []
          },
          "execution_count": 18
        }
      ]
    },
    {
      "metadata": {
        "id": "jJ1DmhSQhEgn",
        "colab_type": "code",
        "colab": {
          "base_uri": "https://localhost:8080/",
          "height": 306
        },
        "outputId": "4425e5a6-a24e-4174-dc55-958500ee920e"
      },
      "cell_type": "code",
      "source": [
        "data_req.loc[data_req['Time Difference'] < 0, 'Time Difference'] = 0\n",
        "data_req.head()"
      ],
      "execution_count": 19,
      "outputs": [
        {
          "output_type": "stream",
          "text": [
            "/usr/local/lib/python3.6/dist-packages/pandas/core/indexing.py:537: SettingWithCopyWarning: \n",
            "A value is trying to be set on a copy of a slice from a DataFrame.\n",
            "Try using .loc[row_indexer,col_indexer] = value instead\n",
            "\n",
            "See the caveats in the documentation: http://pandas.pydata.org/pandas-docs/stable/indexing.html#indexing-view-versus-copy\n",
            "  self.obj[item] = s\n"
          ],
          "name": "stderr"
        },
        {
          "output_type": "execute_result",
          "data": {
            "text/html": [
              "<div>\n",
              "<style scoped>\n",
              "    .dataframe tbody tr th:only-of-type {\n",
              "        vertical-align: middle;\n",
              "    }\n",
              "\n",
              "    .dataframe tbody tr th {\n",
              "        vertical-align: top;\n",
              "    }\n",
              "\n",
              "    .dataframe thead th {\n",
              "        text-align: right;\n",
              "    }\n",
              "</style>\n",
              "<table border=\"1\" class=\"dataframe\">\n",
              "  <thead>\n",
              "    <tr style=\"text-align: right;\">\n",
              "      <th></th>\n",
              "      <th>Date received</th>\n",
              "      <th>Issue</th>\n",
              "      <th>City</th>\n",
              "      <th>Submitted via</th>\n",
              "      <th>Date sent to company</th>\n",
              "      <th>Company response to consumer</th>\n",
              "      <th>Time Difference</th>\n",
              "    </tr>\n",
              "  </thead>\n",
              "  <tbody>\n",
              "    <tr>\n",
              "      <th>0</th>\n",
              "      <td>2016-11-14</td>\n",
              "      <td>Loan modification,collection,foreclosure</td>\n",
              "      <td>Anchorage</td>\n",
              "      <td>Referral</td>\n",
              "      <td>2016-11-16</td>\n",
              "      <td>Closed with explanation</td>\n",
              "      <td>172800.0</td>\n",
              "    </tr>\n",
              "    <tr>\n",
              "      <th>1</th>\n",
              "      <td>2015-02-09</td>\n",
              "      <td>Loan modification,collection,foreclosure</td>\n",
              "      <td>Chugiak</td>\n",
              "      <td>Web</td>\n",
              "      <td>2015-02-09</td>\n",
              "      <td>Closed with explanation</td>\n",
              "      <td>0.0</td>\n",
              "    </tr>\n",
              "    <tr>\n",
              "      <th>2</th>\n",
              "      <td>2016-03-02</td>\n",
              "      <td>Application, originator, mortgage broker</td>\n",
              "      <td>NaN</td>\n",
              "      <td>Web</td>\n",
              "      <td>2016-03-04</td>\n",
              "      <td>Closed with monetary relief</td>\n",
              "      <td>172800.0</td>\n",
              "    </tr>\n",
              "    <tr>\n",
              "      <th>3</th>\n",
              "      <td>2014-12-02</td>\n",
              "      <td>Loan modification,collection,foreclosure</td>\n",
              "      <td>Anchorage</td>\n",
              "      <td>Web</td>\n",
              "      <td>2014-12-05</td>\n",
              "      <td>Closed with explanation</td>\n",
              "      <td>259200.0</td>\n",
              "    </tr>\n",
              "    <tr>\n",
              "      <th>4</th>\n",
              "      <td>2013-03-07</td>\n",
              "      <td>Loan servicing, payments, escrow account</td>\n",
              "      <td>Anchorage</td>\n",
              "      <td>Referral</td>\n",
              "      <td>2013-03-08</td>\n",
              "      <td>Closed with explanation</td>\n",
              "      <td>86400.0</td>\n",
              "    </tr>\n",
              "  </tbody>\n",
              "</table>\n",
              "</div>"
            ],
            "text/plain": [
              "  Date received                                     Issue       City  \\\n",
              "0    2016-11-14  Loan modification,collection,foreclosure  Anchorage   \n",
              "1    2015-02-09  Loan modification,collection,foreclosure    Chugiak   \n",
              "2    2016-03-02  Application, originator, mortgage broker        NaN   \n",
              "3    2014-12-02  Loan modification,collection,foreclosure  Anchorage   \n",
              "4    2013-03-07  Loan servicing, payments, escrow account  Anchorage   \n",
              "\n",
              "  Submitted via Date sent to company Company response to consumer  \\\n",
              "0      Referral           2016-11-16      Closed with explanation   \n",
              "1           Web           2015-02-09      Closed with explanation   \n",
              "2           Web           2016-03-04  Closed with monetary relief   \n",
              "3           Web           2014-12-05      Closed with explanation   \n",
              "4      Referral           2013-03-08      Closed with explanation   \n",
              "\n",
              "   Time Difference  \n",
              "0         172800.0  \n",
              "1              0.0  \n",
              "2         172800.0  \n",
              "3         259200.0  \n",
              "4          86400.0  "
            ]
          },
          "metadata": {
            "tags": []
          },
          "execution_count": 19
        }
      ]
    },
    {
      "metadata": {
        "id": "0nqdUr0Eo1pw",
        "colab_type": "code",
        "colab": {
          "base_uri": "https://localhost:8080/",
          "height": 119
        },
        "outputId": "63f4a2c3-ccf0-4855-d376-a461d4b0c3cb"
      },
      "cell_type": "code",
      "source": [
        "from sklearn.preprocessing import MinMaxScaler\n",
        "values=data_req['Time Difference'].values.reshape((len(data_req['Time Difference']), 1))\n",
        "# train the normalization\n",
        "scaler = MinMaxScaler(feature_range=(0, 1))\n",
        "scaler = scaler.fit(values)\n",
        "# normalize the dataset\n",
        "data_req['Time Difference'] = scaler.transform(values)  "
      ],
      "execution_count": 20,
      "outputs": [
        {
          "output_type": "stream",
          "text": [
            "/usr/local/lib/python3.6/dist-packages/ipykernel_launcher.py:7: SettingWithCopyWarning: \n",
            "A value is trying to be set on a copy of a slice from a DataFrame.\n",
            "Try using .loc[row_indexer,col_indexer] = value instead\n",
            "\n",
            "See the caveats in the documentation: http://pandas.pydata.org/pandas-docs/stable/indexing.html#indexing-view-versus-copy\n",
            "  import sys\n"
          ],
          "name": "stderr"
        }
      ]
    },
    {
      "metadata": {
        "id": "EfSb_mHWp8Gt",
        "colab_type": "code",
        "colab": {
          "base_uri": "https://localhost:8080/",
          "height": 204
        },
        "outputId": "4725be4f-cb88-4645-afcd-1497d14561c6"
      },
      "cell_type": "code",
      "source": [
        "data_req.head()"
      ],
      "execution_count": 21,
      "outputs": [
        {
          "output_type": "execute_result",
          "data": {
            "text/html": [
              "<div>\n",
              "<style scoped>\n",
              "    .dataframe tbody tr th:only-of-type {\n",
              "        vertical-align: middle;\n",
              "    }\n",
              "\n",
              "    .dataframe tbody tr th {\n",
              "        vertical-align: top;\n",
              "    }\n",
              "\n",
              "    .dataframe thead th {\n",
              "        text-align: right;\n",
              "    }\n",
              "</style>\n",
              "<table border=\"1\" class=\"dataframe\">\n",
              "  <thead>\n",
              "    <tr style=\"text-align: right;\">\n",
              "      <th></th>\n",
              "      <th>Date received</th>\n",
              "      <th>Issue</th>\n",
              "      <th>City</th>\n",
              "      <th>Submitted via</th>\n",
              "      <th>Date sent to company</th>\n",
              "      <th>Company response to consumer</th>\n",
              "      <th>Time Difference</th>\n",
              "    </tr>\n",
              "  </thead>\n",
              "  <tbody>\n",
              "    <tr>\n",
              "      <th>0</th>\n",
              "      <td>2016-11-14</td>\n",
              "      <td>Loan modification,collection,foreclosure</td>\n",
              "      <td>Anchorage</td>\n",
              "      <td>Referral</td>\n",
              "      <td>2016-11-16</td>\n",
              "      <td>Closed with explanation</td>\n",
              "      <td>0.003846</td>\n",
              "    </tr>\n",
              "    <tr>\n",
              "      <th>1</th>\n",
              "      <td>2015-02-09</td>\n",
              "      <td>Loan modification,collection,foreclosure</td>\n",
              "      <td>Chugiak</td>\n",
              "      <td>Web</td>\n",
              "      <td>2015-02-09</td>\n",
              "      <td>Closed with explanation</td>\n",
              "      <td>0.000000</td>\n",
              "    </tr>\n",
              "    <tr>\n",
              "      <th>2</th>\n",
              "      <td>2016-03-02</td>\n",
              "      <td>Application, originator, mortgage broker</td>\n",
              "      <td>NaN</td>\n",
              "      <td>Web</td>\n",
              "      <td>2016-03-04</td>\n",
              "      <td>Closed with monetary relief</td>\n",
              "      <td>0.003846</td>\n",
              "    </tr>\n",
              "    <tr>\n",
              "      <th>3</th>\n",
              "      <td>2014-12-02</td>\n",
              "      <td>Loan modification,collection,foreclosure</td>\n",
              "      <td>Anchorage</td>\n",
              "      <td>Web</td>\n",
              "      <td>2014-12-05</td>\n",
              "      <td>Closed with explanation</td>\n",
              "      <td>0.005769</td>\n",
              "    </tr>\n",
              "    <tr>\n",
              "      <th>4</th>\n",
              "      <td>2013-03-07</td>\n",
              "      <td>Loan servicing, payments, escrow account</td>\n",
              "      <td>Anchorage</td>\n",
              "      <td>Referral</td>\n",
              "      <td>2013-03-08</td>\n",
              "      <td>Closed with explanation</td>\n",
              "      <td>0.001923</td>\n",
              "    </tr>\n",
              "  </tbody>\n",
              "</table>\n",
              "</div>"
            ],
            "text/plain": [
              "  Date received                                     Issue       City  \\\n",
              "0    2016-11-14  Loan modification,collection,foreclosure  Anchorage   \n",
              "1    2015-02-09  Loan modification,collection,foreclosure    Chugiak   \n",
              "2    2016-03-02  Application, originator, mortgage broker        NaN   \n",
              "3    2014-12-02  Loan modification,collection,foreclosure  Anchorage   \n",
              "4    2013-03-07  Loan servicing, payments, escrow account  Anchorage   \n",
              "\n",
              "  Submitted via Date sent to company Company response to consumer  \\\n",
              "0      Referral           2016-11-16      Closed with explanation   \n",
              "1           Web           2015-02-09      Closed with explanation   \n",
              "2           Web           2016-03-04  Closed with monetary relief   \n",
              "3           Web           2014-12-05      Closed with explanation   \n",
              "4      Referral           2013-03-08      Closed with explanation   \n",
              "\n",
              "   Time Difference  \n",
              "0         0.003846  \n",
              "1         0.000000  \n",
              "2         0.003846  \n",
              "3         0.005769  \n",
              "4         0.001923  "
            ]
          },
          "metadata": {
            "tags": []
          },
          "execution_count": 21
        }
      ]
    },
    {
      "metadata": {
        "id": "r4yvSJWwNscO",
        "colab_type": "code",
        "colab": {
          "base_uri": "https://localhost:8080/",
          "height": 153
        },
        "outputId": "24d34f68-1266-444f-fc21-9b0c78bbd0e8"
      },
      "cell_type": "code",
      "source": [
        "data_req.dtypes"
      ],
      "execution_count": 22,
      "outputs": [
        {
          "output_type": "execute_result",
          "data": {
            "text/plain": [
              "Date received                   datetime64[ns]\n",
              "Issue                                   object\n",
              "City                                    object\n",
              "Submitted via                           object\n",
              "Date sent to company            datetime64[ns]\n",
              "Company response to consumer            object\n",
              "Time Difference                        float64\n",
              "dtype: object"
            ]
          },
          "metadata": {
            "tags": []
          },
          "execution_count": 22
        }
      ]
    },
    {
      "metadata": {
        "id": "TI9NIxErOT6I",
        "colab_type": "code",
        "colab": {}
      },
      "cell_type": "code",
      "source": [
        "data_req=data_req.drop(data_req.columns[[0, 4]], axis=1)"
      ],
      "execution_count": 0,
      "outputs": []
    },
    {
      "metadata": {
        "id": "T-8lBkHDOvnM",
        "colab_type": "code",
        "colab": {
          "base_uri": "https://localhost:8080/",
          "height": 187
        },
        "outputId": "9b25e77f-7a23-4905-a9c3-ec17e4cf6746"
      },
      "cell_type": "code",
      "source": [
        "data_req.info()"
      ],
      "execution_count": 24,
      "outputs": [
        {
          "output_type": "stream",
          "text": [
            "<class 'pandas.core.frame.DataFrame'>\n",
            "RangeIndex: 34081 entries, 0 to 34080\n",
            "Data columns (total 5 columns):\n",
            "Issue                           34081 non-null object\n",
            "City                            28423 non-null object\n",
            "Submitted via                   34081 non-null object\n",
            "Company response to consumer    34081 non-null object\n",
            "Time Difference                 34081 non-null float64\n",
            "dtypes: float64(1), object(4)\n",
            "memory usage: 1.3+ MB\n"
          ],
          "name": "stdout"
        }
      ]
    },
    {
      "metadata": {
        "id": "T-HIUdp9THnY",
        "colab_type": "code",
        "colab": {
          "base_uri": "https://localhost:8080/",
          "height": 289
        },
        "outputId": "da35eb38-aa26-4fca-a33f-f2c1ad802d08"
      },
      "cell_type": "code",
      "source": [
        "data_req['Issue'].value_counts(dropna=False)"
      ],
      "execution_count": 25,
      "outputs": [
        {
          "output_type": "execute_result",
          "data": {
            "text/plain": [
              "Loan modification,collection,foreclosure                                            17187\n",
              "Loan servicing, payments, escrow account                                             7955\n",
              "Application, originator, mortgage broker                                             2554\n",
              "Struggling to pay mortgage                                                           1651\n",
              "Trouble during payment process                                                       1406\n",
              "Settlement process and costs                                                         1081\n",
              "Credit decision / Underwriting                                                        858\n",
              "Other                                                                                 708\n",
              "Applying for a mortgage or refinancing an existing mortgage                           301\n",
              "Closing on a mortgage                                                                 225\n",
              "Incorrect information on your report                                                   75\n",
              "Applying for a mortgage                                                                53\n",
              "Problem with a credit reporting company's investigation into an existing problem       20\n",
              "Improper use of your report                                                             4\n",
              "Unable to get your credit report or credit score                                        3\n",
              "Name: Issue, dtype: int64"
            ]
          },
          "metadata": {
            "tags": []
          },
          "execution_count": 25
        }
      ]
    },
    {
      "metadata": {
        "id": "ihEUdbUnUvT_",
        "colab_type": "code",
        "colab": {
          "base_uri": "https://localhost:8080/",
          "height": 1071
        },
        "outputId": "42ccde30-5b80-4235-fb30-76958bb619b9"
      },
      "cell_type": "code",
      "source": [
        "data_req['City'].value_counts(dropna=False)"
      ],
      "execution_count": 26,
      "outputs": [
        {
          "output_type": "execute_result",
          "data": {
            "text/plain": [
              "NaN                5658\n",
              "Miami               513\n",
              "Los Angeles         296\n",
              "Atlanta             266\n",
              "Brooklyn            231\n",
              "Chicago             227\n",
              "San Diego           194\n",
              "Philadelphia        190\n",
              "Fort Lauderdale     157\n",
              "Jacksonville        157\n",
              "Washington          156\n",
              "Las Vegas           154\n",
              "Pompano Beach       143\n",
              "San Francisco       143\n",
              "New York            137\n",
              "Charlotte           137\n",
              "Orlando             129\n",
              "San Jose            128\n",
              "Seattle             123\n",
              "Minneapolis         122\n",
              "Sacramento          122\n",
              "Houston             119\n",
              "Phoenix             112\n",
              "Portland            111\n",
              "West Palm Beach     105\n",
              "Hollywood           104\n",
              "Dallas              101\n",
              "Oakland              99\n",
              "Baltimore            98\n",
              "Corona               96\n",
              "                   ... \n",
              "Live Oak              1\n",
              "Doyline               1\n",
              "Coolville             1\n",
              "Haileyville           1\n",
              "Newport Coast         1\n",
              "Belle Glade           1\n",
              "Pine River            1\n",
              "Woodford              1\n",
              "Fountain Inn          1\n",
              "Waipahu               1\n",
              "Moultrie              1\n",
              "Lillian               1\n",
              "Melrose Park          1\n",
              "Kihei                 1\n",
              "Shaftsbury            1\n",
              "Inwood                1\n",
              "Stevens               1\n",
              "Campton               1\n",
              "Corinth               1\n",
              "Elliottsburg          1\n",
              "Tyngsboro             1\n",
              "Saint Peters          1\n",
              "Kearneysville         1\n",
              "North Garden          1\n",
              "Mendham               1\n",
              "Cavalier              1\n",
              "Morrisonville         1\n",
              "Randall               1\n",
              "Minneola              1\n",
              "Towanda               1\n",
              "Name: City, Length: 4521, dtype: int64"
            ]
          },
          "metadata": {
            "tags": []
          },
          "execution_count": 26
        }
      ]
    },
    {
      "metadata": {
        "id": "xytQcYEJq3pi",
        "colab_type": "code",
        "colab": {}
      },
      "cell_type": "code",
      "source": [
        ""
      ],
      "execution_count": 0,
      "outputs": []
    },
    {
      "metadata": {
        "id": "USZY_CTRU1-U",
        "colab_type": "code",
        "colab": {
          "base_uri": "https://localhost:8080/",
          "height": 136
        },
        "outputId": "676c0ea4-ae81-4bba-c380-a2224f49f3b5"
      },
      "cell_type": "code",
      "source": [
        "data_req['Submitted via'].value_counts(dropna=False)"
      ],
      "execution_count": 27,
      "outputs": [
        {
          "output_type": "execute_result",
          "data": {
            "text/plain": [
              "Web            18303\n",
              "Referral       11262\n",
              "Phone           1927\n",
              "Postal mail     1842\n",
              "Fax              727\n",
              "Email             20\n",
              "Name: Submitted via, dtype: int64"
            ]
          },
          "metadata": {
            "tags": []
          },
          "execution_count": 27
        }
      ]
    },
    {
      "metadata": {
        "id": "0H3FpR3yVTiU",
        "colab_type": "code",
        "colab": {
          "base_uri": "https://localhost:8080/",
          "height": 170
        },
        "outputId": "33c7d4a5-4d95-4990-916e-ae43c8343ceb"
      },
      "cell_type": "code",
      "source": [
        "data_req['Company response to consumer'].value_counts(dropna=False)"
      ],
      "execution_count": 28,
      "outputs": [
        {
          "output_type": "execute_result",
          "data": {
            "text/plain": [
              "Closed with explanation            29158\n",
              "Closed without relief               1960\n",
              "Closed with non-monetary relief     1622\n",
              "Closed with monetary relief         1055\n",
              "In progress                          161\n",
              "Closed                                64\n",
              "Closed with relief                    57\n",
              "Untimely response                      4\n",
              "Name: Company response to consumer, dtype: int64"
            ]
          },
          "metadata": {
            "tags": []
          },
          "execution_count": 28
        }
      ]
    },
    {
      "metadata": {
        "id": "VsgpYY56VbDl",
        "colab_type": "code",
        "colab": {
          "base_uri": "https://localhost:8080/",
          "height": 1071
        },
        "outputId": "556aa779-432a-4402-bfde-554ced78d3ab"
      },
      "cell_type": "code",
      "source": [
        "data_req['Time Difference'].value_counts(dropna=False)"
      ],
      "execution_count": 29,
      "outputs": [
        {
          "output_type": "execute_result",
          "data": {
            "text/plain": [
              "0.000000    13869\n",
              "0.001923     6012\n",
              "0.003846     3376\n",
              "0.005769     2542\n",
              "0.007692     2347\n",
              "0.009615     2009\n",
              "0.011538     1293\n",
              "0.013462      832\n",
              "0.015385      286\n",
              "0.017308      142\n",
              "0.019231      142\n",
              "0.028846       95\n",
              "0.025000       91\n",
              "0.021154       85\n",
              "0.023077       85\n",
              "0.026923       68\n",
              "0.032692       63\n",
              "0.030769       43\n",
              "0.036538       38\n",
              "0.067308       36\n",
              "0.042308       34\n",
              "0.038462       32\n",
              "0.040385       32\n",
              "0.034615       30\n",
              "0.055769       24\n",
              "0.053846       24\n",
              "0.044231       23\n",
              "0.075000       22\n",
              "0.046154       22\n",
              "0.069231       22\n",
              "            ...  \n",
              "0.157692        1\n",
              "0.190385        1\n",
              "0.405769        1\n",
              "0.144231        1\n",
              "0.317308        1\n",
              "0.334615        1\n",
              "0.263462        1\n",
              "0.425000        1\n",
              "0.186538        1\n",
              "0.496154        1\n",
              "0.494231        1\n",
              "0.446154        1\n",
              "0.113462        1\n",
              "0.390385        1\n",
              "0.523077        1\n",
              "0.250000        1\n",
              "0.203846        1\n",
              "0.513462        1\n",
              "0.480769        1\n",
              "0.169231        1\n",
              "0.121154        1\n",
              "0.342308        1\n",
              "0.253846        1\n",
              "0.225000        1\n",
              "0.209615        1\n",
              "0.142308        1\n",
              "0.363462        1\n",
              "0.401923        1\n",
              "0.194231        1\n",
              "0.365385        1\n",
              "Name: Time Difference, Length: 148, dtype: int64"
            ]
          },
          "metadata": {
            "tags": []
          },
          "execution_count": 29
        }
      ]
    },
    {
      "metadata": {
        "id": "VVYWjSUuWK5W",
        "colab_type": "code",
        "colab": {}
      },
      "cell_type": "code",
      "source": [
        "data_req=data_req.dropna(how='any')  "
      ],
      "execution_count": 0,
      "outputs": []
    },
    {
      "metadata": {
        "id": "xzu-XLi5Y42B",
        "colab_type": "code",
        "colab": {
          "base_uri": "https://localhost:8080/",
          "height": 187
        },
        "outputId": "74bf8da3-65ff-4f88-bb01-b497373784f3"
      },
      "cell_type": "code",
      "source": [
        "data_req.info()"
      ],
      "execution_count": 31,
      "outputs": [
        {
          "output_type": "stream",
          "text": [
            "<class 'pandas.core.frame.DataFrame'>\n",
            "Int64Index: 28423 entries, 0 to 34078\n",
            "Data columns (total 5 columns):\n",
            "Issue                           28423 non-null object\n",
            "City                            28423 non-null object\n",
            "Submitted via                   28423 non-null object\n",
            "Company response to consumer    28423 non-null object\n",
            "Time Difference                 28423 non-null float64\n",
            "dtypes: float64(1), object(4)\n",
            "memory usage: 1.3+ MB\n"
          ],
          "name": "stdout"
        }
      ]
    },
    {
      "metadata": {
        "id": "wmKey6UyY9qd",
        "colab_type": "code",
        "colab": {}
      },
      "cell_type": "code",
      "source": [
        "#data_req[:5]['Total Days'] / np.timedelta64(1, 's')"
      ],
      "execution_count": 0,
      "outputs": []
    },
    {
      "metadata": {
        "id": "hwOfmmY_ZnaR",
        "colab_type": "code",
        "colab": {
          "base_uri": "https://localhost:8080/",
          "height": 187
        },
        "outputId": "df585d0e-4730-4bdf-ffef-3d1433577c9b"
      },
      "cell_type": "code",
      "source": [
        "data_req.info()"
      ],
      "execution_count": 33,
      "outputs": [
        {
          "output_type": "stream",
          "text": [
            "<class 'pandas.core.frame.DataFrame'>\n",
            "Int64Index: 28423 entries, 0 to 34078\n",
            "Data columns (total 5 columns):\n",
            "Issue                           28423 non-null object\n",
            "City                            28423 non-null object\n",
            "Submitted via                   28423 non-null object\n",
            "Company response to consumer    28423 non-null object\n",
            "Time Difference                 28423 non-null float64\n",
            "dtypes: float64(1), object(4)\n",
            "memory usage: 1.3+ MB\n"
          ],
          "name": "stdout"
        }
      ]
    },
    {
      "metadata": {
        "id": "ZQu9UoRU_L_G",
        "colab_type": "code",
        "colab": {
          "base_uri": "https://localhost:8080/",
          "height": 187
        },
        "outputId": "d3711158-16dd-430e-ec49-8d6f25ae6555"
      },
      "cell_type": "code",
      "source": [
        "data_req.info()"
      ],
      "execution_count": 34,
      "outputs": [
        {
          "output_type": "stream",
          "text": [
            "<class 'pandas.core.frame.DataFrame'>\n",
            "Int64Index: 28423 entries, 0 to 34078\n",
            "Data columns (total 5 columns):\n",
            "Issue                           28423 non-null object\n",
            "City                            28423 non-null object\n",
            "Submitted via                   28423 non-null object\n",
            "Company response to consumer    28423 non-null object\n",
            "Time Difference                 28423 non-null float64\n",
            "dtypes: float64(1), object(4)\n",
            "memory usage: 1.3+ MB\n"
          ],
          "name": "stdout"
        }
      ]
    },
    {
      "metadata": {
        "id": "U1vZhBzten_d",
        "colab_type": "code",
        "colab": {
          "base_uri": "https://localhost:8080/",
          "height": 136
        },
        "outputId": "56364787-43e9-4bdb-85a2-e9a212e3ce29"
      },
      "cell_type": "code",
      "source": [
        "!pip install kmodes"
      ],
      "execution_count": 35,
      "outputs": [
        {
          "output_type": "stream",
          "text": [
            "Collecting kmodes\n",
            "  Downloading https://files.pythonhosted.org/packages/1a/d5/54e0efa2ddf33234761f8c35471f4a2280bb4cef44fd39fa08f1e663946a/kmodes-0.9-py2.py3-none-any.whl\n",
            "Requirement already satisfied: numpy>=1.10.4 in /usr/local/lib/python3.6/dist-packages (from kmodes) (1.14.5)\n",
            "Requirement already satisfied: scikit-learn<0.20.0,>=0.19.0 in /usr/local/lib/python3.6/dist-packages (from kmodes) (0.19.2)\n",
            "Requirement already satisfied: scipy>=0.13.3 in /usr/local/lib/python3.6/dist-packages (from kmodes) (0.19.1)\n",
            "Installing collected packages: kmodes\n",
            "Successfully installed kmodes-0.9\n"
          ],
          "name": "stdout"
        }
      ]
    },
    {
      "metadata": {
        "id": "AZYgFcLVeoSV",
        "colab_type": "code",
        "colab": {}
      },
      "cell_type": "code",
      "source": [
        "from kmodes.kprototypes import KPrototypes\n"
      ],
      "execution_count": 0,
      "outputs": []
    },
    {
      "metadata": {
        "id": "U21banjqOgjD",
        "colab_type": "code",
        "colab": {}
      },
      "cell_type": "code",
      "source": [
        ""
      ],
      "execution_count": 0,
      "outputs": []
    },
    {
      "metadata": {
        "id": "pD1bpd8ejtbN",
        "colab_type": "code",
        "colab": {}
      },
      "cell_type": "code",
      "source": [
        "km = KPrototypes(n_clusters=5, init='Huang', n_init=3, verbose=1)"
      ],
      "execution_count": 0,
      "outputs": []
    },
    {
      "metadata": {
        "id": "qXH97qFGjtwE",
        "colab_type": "code",
        "colab": {
          "base_uri": "https://localhost:8080/",
          "height": 459
        },
        "outputId": "11b88cdd-42b1-4a47-b3a7-c52553e87f7f"
      },
      "cell_type": "code",
      "source": [
        "#clusters = km.fit_predict(data_req_new)\n",
        "clusters = km.fit_predict(data_req.as_matrix(), categorical=list(range(0,4)))"
      ],
      "execution_count": 0,
      "outputs": [
        {
          "output_type": "stream",
          "text": [
            "Init: initializing centroids\n",
            "Init: initializing clusters\n",
            "Starting iterations...\n",
            "Run: 1, iteration: 1/100, moves: 5522, ncost: 556.2452550097636\n",
            "Run: 1, iteration: 2/100, moves: 4481, ncost: 554.0190520232643\n",
            "Run: 1, iteration: 3/100, moves: 630, ncost: 551.0517253263217\n",
            "Run: 1, iteration: 4/100, moves: 530, ncost: 550.7104370629539\n",
            "Run: 1, iteration: 5/100, moves: 34, ncost: 550.7065663098599\n",
            "Run: 1, iteration: 6/100, moves: 1, ncost: 550.7059906346427\n",
            "Run: 1, iteration: 7/100, moves: 0, ncost: 550.7059906346427\n",
            "Init: initializing centroids\n",
            "Init: initializing clusters\n",
            "Starting iterations...\n",
            "Run: 2, iteration: 1/100, moves: 10997, ncost: 524.8686882015231\n",
            "Run: 2, iteration: 2/100, moves: 6947, ncost: 522.2694403136942\n",
            "Run: 2, iteration: 3/100, moves: 2016, ncost: 521.9746055089506\n",
            "Run: 2, iteration: 4/100, moves: 2392, ncost: 521.9533912834537\n",
            "Run: 2, iteration: 5/100, moves: 0, ncost: 521.9533912834537\n",
            "Init: initializing centroids\n",
            "Init: initializing clusters\n",
            "Starting iterations...\n",
            "Run: 3, iteration: 1/100, moves: 5247, ncost: 550.8402909223657\n",
            "Run: 3, iteration: 2/100, moves: 1773, ncost: 550.831521394373\n",
            "Run: 3, iteration: 3/100, moves: 85, ncost: 550.8312800657577\n",
            "Run: 3, iteration: 4/100, moves: 0, ncost: 550.8312800657577\n",
            "Best run was number 2\n"
          ],
          "name": "stdout"
        }
      ]
    },
    {
      "metadata": {
        "id": "ENqVdMQFjuMU",
        "colab_type": "code",
        "colab": {
          "base_uri": "https://localhost:8080/",
          "height": 255
        },
        "outputId": "0694c016-e5be-42ea-868b-1c80e8913193"
      },
      "cell_type": "code",
      "source": [
        "print(km.cluster_centroids_)"
      ],
      "execution_count": 0,
      "outputs": [
        {
          "output_type": "stream",
          "text": [
            "[array([[0.00830946],\n",
            "       [0.00545021],\n",
            "       [0.00404738],\n",
            "       [0.01596363],\n",
            "       [0.00186717]]), array([['Loan modification,collection,foreclosure', 'Miami', 'Referral',\n",
            "        'Closed with explanation'],\n",
            "       ['Loan modification,collection,foreclosure', 'Los Angeles', 'Web',\n",
            "        'Closed with explanation'],\n",
            "       ['Application, originator, mortgage broker', 'Atlanta', 'Web',\n",
            "        'Closed with explanation'],\n",
            "       ['Loan servicing, payments, escrow account', 'Chicago',\n",
            "        'Referral', 'Closed with explanation'],\n",
            "       ['Loan servicing, payments, escrow account', 'Miami', 'Web',\n",
            "        'Closed with explanation']], dtype='<U40')]\n"
          ],
          "name": "stdout"
        }
      ]
    },
    {
      "metadata": {
        "id": "xmUGtPPflvoK",
        "colab_type": "code",
        "colab": {}
      },
      "cell_type": "code",
      "source": [
        "clusters=clusters.reshape(28423,1)"
      ],
      "execution_count": 0,
      "outputs": []
    },
    {
      "metadata": {
        "id": "0dlikXo_lv8J",
        "colab_type": "code",
        "colab": {}
      },
      "cell_type": "code",
      "source": [
        "class_cluster = pd.DataFrame(clusters,columns=['Class cluster'])"
      ],
      "execution_count": 0,
      "outputs": []
    },
    {
      "metadata": {
        "id": "kJAWqwiHlwPB",
        "colab_type": "code",
        "colab": {
          "base_uri": "https://localhost:8080/",
          "height": 204
        },
        "outputId": "9cf7e5b9-1e82-41a4-a86f-961e75b7e978"
      },
      "cell_type": "code",
      "source": [
        "class_cluster.head()"
      ],
      "execution_count": 0,
      "outputs": [
        {
          "output_type": "execute_result",
          "data": {
            "text/html": [
              "<div>\n",
              "<style scoped>\n",
              "    .dataframe tbody tr th:only-of-type {\n",
              "        vertical-align: middle;\n",
              "    }\n",
              "\n",
              "    .dataframe tbody tr th {\n",
              "        vertical-align: top;\n",
              "    }\n",
              "\n",
              "    .dataframe thead th {\n",
              "        text-align: right;\n",
              "    }\n",
              "</style>\n",
              "<table border=\"1\" class=\"dataframe\">\n",
              "  <thead>\n",
              "    <tr style=\"text-align: right;\">\n",
              "      <th></th>\n",
              "      <th>Class cluster</th>\n",
              "    </tr>\n",
              "  </thead>\n",
              "  <tbody>\n",
              "    <tr>\n",
              "      <th>0</th>\n",
              "      <td>0</td>\n",
              "    </tr>\n",
              "    <tr>\n",
              "      <th>1</th>\n",
              "      <td>1</td>\n",
              "    </tr>\n",
              "    <tr>\n",
              "      <th>2</th>\n",
              "      <td>1</td>\n",
              "    </tr>\n",
              "    <tr>\n",
              "      <th>3</th>\n",
              "      <td>3</td>\n",
              "    </tr>\n",
              "    <tr>\n",
              "      <th>4</th>\n",
              "      <td>0</td>\n",
              "    </tr>\n",
              "  </tbody>\n",
              "</table>\n",
              "</div>"
            ],
            "text/plain": [
              "   Class cluster\n",
              "0              0\n",
              "1              1\n",
              "2              1\n",
              "3              3\n",
              "4              0"
            ]
          },
          "metadata": {
            "tags": []
          },
          "execution_count": 102
        }
      ]
    },
    {
      "metadata": {
        "id": "O4tZRJ5zlwgS",
        "colab_type": "code",
        "colab": {
          "base_uri": "https://localhost:8080/",
          "height": 204
        },
        "outputId": "2d3d0d92-76fc-4acb-90d5-1f02bab31e18"
      },
      "cell_type": "code",
      "source": [
        "#data_req_new.head()\n",
        "data_req.head()\n"
      ],
      "execution_count": 0,
      "outputs": [
        {
          "output_type": "execute_result",
          "data": {
            "text/html": [
              "<div>\n",
              "<style scoped>\n",
              "    .dataframe tbody tr th:only-of-type {\n",
              "        vertical-align: middle;\n",
              "    }\n",
              "\n",
              "    .dataframe tbody tr th {\n",
              "        vertical-align: top;\n",
              "    }\n",
              "\n",
              "    .dataframe thead th {\n",
              "        text-align: right;\n",
              "    }\n",
              "</style>\n",
              "<table border=\"1\" class=\"dataframe\">\n",
              "  <thead>\n",
              "    <tr style=\"text-align: right;\">\n",
              "      <th></th>\n",
              "      <th>Issue</th>\n",
              "      <th>City</th>\n",
              "      <th>Submitted via</th>\n",
              "      <th>Company response to consumer</th>\n",
              "      <th>Time Difference</th>\n",
              "    </tr>\n",
              "  </thead>\n",
              "  <tbody>\n",
              "    <tr>\n",
              "      <th>0</th>\n",
              "      <td>Loan modification,collection,foreclosure</td>\n",
              "      <td>Anchorage</td>\n",
              "      <td>Referral</td>\n",
              "      <td>Closed with explanation</td>\n",
              "      <td>0.003846</td>\n",
              "    </tr>\n",
              "    <tr>\n",
              "      <th>1</th>\n",
              "      <td>Loan modification,collection,foreclosure</td>\n",
              "      <td>Chugiak</td>\n",
              "      <td>Web</td>\n",
              "      <td>Closed with explanation</td>\n",
              "      <td>0.000000</td>\n",
              "    </tr>\n",
              "    <tr>\n",
              "      <th>3</th>\n",
              "      <td>Loan modification,collection,foreclosure</td>\n",
              "      <td>Anchorage</td>\n",
              "      <td>Web</td>\n",
              "      <td>Closed with explanation</td>\n",
              "      <td>0.005769</td>\n",
              "    </tr>\n",
              "    <tr>\n",
              "      <th>4</th>\n",
              "      <td>Loan servicing, payments, escrow account</td>\n",
              "      <td>Anchorage</td>\n",
              "      <td>Referral</td>\n",
              "      <td>Closed with explanation</td>\n",
              "      <td>0.001923</td>\n",
              "    </tr>\n",
              "    <tr>\n",
              "      <th>5</th>\n",
              "      <td>Loan modification,collection,foreclosure</td>\n",
              "      <td>Anchorage</td>\n",
              "      <td>Postal mail</td>\n",
              "      <td>Closed with explanation</td>\n",
              "      <td>0.007692</td>\n",
              "    </tr>\n",
              "  </tbody>\n",
              "</table>\n",
              "</div>"
            ],
            "text/plain": [
              "                                      Issue       City Submitted via  \\\n",
              "0  Loan modification,collection,foreclosure  Anchorage      Referral   \n",
              "1  Loan modification,collection,foreclosure    Chugiak           Web   \n",
              "3  Loan modification,collection,foreclosure  Anchorage           Web   \n",
              "4  Loan servicing, payments, escrow account  Anchorage      Referral   \n",
              "5  Loan modification,collection,foreclosure  Anchorage   Postal mail   \n",
              "\n",
              "  Company response to consumer  Time Difference  \n",
              "0      Closed with explanation         0.003846  \n",
              "1      Closed with explanation         0.000000  \n",
              "3      Closed with explanation         0.005769  \n",
              "4      Closed with explanation         0.001923  \n",
              "5      Closed with explanation         0.007692  "
            ]
          },
          "metadata": {
            "tags": []
          },
          "execution_count": 104
        }
      ]
    },
    {
      "metadata": {
        "id": "z1gFdwjSp9-h",
        "colab_type": "code",
        "colab": {
          "base_uri": "https://localhost:8080/",
          "height": 204
        },
        "outputId": "49c7460c-c979-40b3-89f2-62fd04014c40"
      },
      "cell_type": "code",
      "source": [
        "data_req.index = range(data_req.shape[0])\n",
        "data_req.head()"
      ],
      "execution_count": 0,
      "outputs": [
        {
          "output_type": "execute_result",
          "data": {
            "text/html": [
              "<div>\n",
              "<style scoped>\n",
              "    .dataframe tbody tr th:only-of-type {\n",
              "        vertical-align: middle;\n",
              "    }\n",
              "\n",
              "    .dataframe tbody tr th {\n",
              "        vertical-align: top;\n",
              "    }\n",
              "\n",
              "    .dataframe thead th {\n",
              "        text-align: right;\n",
              "    }\n",
              "</style>\n",
              "<table border=\"1\" class=\"dataframe\">\n",
              "  <thead>\n",
              "    <tr style=\"text-align: right;\">\n",
              "      <th></th>\n",
              "      <th>Issue</th>\n",
              "      <th>City</th>\n",
              "      <th>Submitted via</th>\n",
              "      <th>Company response to consumer</th>\n",
              "      <th>Time Difference</th>\n",
              "    </tr>\n",
              "  </thead>\n",
              "  <tbody>\n",
              "    <tr>\n",
              "      <th>0</th>\n",
              "      <td>Loan modification,collection,foreclosure</td>\n",
              "      <td>Anchorage</td>\n",
              "      <td>Referral</td>\n",
              "      <td>Closed with explanation</td>\n",
              "      <td>0.003846</td>\n",
              "    </tr>\n",
              "    <tr>\n",
              "      <th>1</th>\n",
              "      <td>Loan modification,collection,foreclosure</td>\n",
              "      <td>Chugiak</td>\n",
              "      <td>Web</td>\n",
              "      <td>Closed with explanation</td>\n",
              "      <td>0.000000</td>\n",
              "    </tr>\n",
              "    <tr>\n",
              "      <th>2</th>\n",
              "      <td>Loan modification,collection,foreclosure</td>\n",
              "      <td>Anchorage</td>\n",
              "      <td>Web</td>\n",
              "      <td>Closed with explanation</td>\n",
              "      <td>0.005769</td>\n",
              "    </tr>\n",
              "    <tr>\n",
              "      <th>3</th>\n",
              "      <td>Loan servicing, payments, escrow account</td>\n",
              "      <td>Anchorage</td>\n",
              "      <td>Referral</td>\n",
              "      <td>Closed with explanation</td>\n",
              "      <td>0.001923</td>\n",
              "    </tr>\n",
              "    <tr>\n",
              "      <th>4</th>\n",
              "      <td>Loan modification,collection,foreclosure</td>\n",
              "      <td>Anchorage</td>\n",
              "      <td>Postal mail</td>\n",
              "      <td>Closed with explanation</td>\n",
              "      <td>0.007692</td>\n",
              "    </tr>\n",
              "  </tbody>\n",
              "</table>\n",
              "</div>"
            ],
            "text/plain": [
              "                                      Issue       City Submitted via  \\\n",
              "0  Loan modification,collection,foreclosure  Anchorage      Referral   \n",
              "1  Loan modification,collection,foreclosure    Chugiak           Web   \n",
              "2  Loan modification,collection,foreclosure  Anchorage           Web   \n",
              "3  Loan servicing, payments, escrow account  Anchorage      Referral   \n",
              "4  Loan modification,collection,foreclosure  Anchorage   Postal mail   \n",
              "\n",
              "  Company response to consumer  Time Difference  \n",
              "0      Closed with explanation         0.003846  \n",
              "1      Closed with explanation         0.000000  \n",
              "2      Closed with explanation         0.005769  \n",
              "3      Closed with explanation         0.001923  \n",
              "4      Closed with explanation         0.007692  "
            ]
          },
          "metadata": {
            "tags": []
          },
          "execution_count": 105
        }
      ]
    },
    {
      "metadata": {
        "id": "jTSa6dd-czVc",
        "colab_type": "code",
        "colab": {}
      },
      "cell_type": "code",
      "source": [
        ""
      ],
      "execution_count": 0,
      "outputs": []
    },
    {
      "metadata": {
        "id": "mjOj7qIUlw15",
        "colab_type": "code",
        "colab": {}
      },
      "cell_type": "code",
      "source": [
        "#data_req_new = pd.concat([data_req_new,class_cluster],axis=1)\n",
        "data_req = pd.concat([data_req,class_cluster],axis=1)"
      ],
      "execution_count": 0,
      "outputs": []
    },
    {
      "metadata": {
        "id": "H54j4PJMlxHp",
        "colab_type": "code",
        "colab": {
          "base_uri": "https://localhost:8080/",
          "height": 204
        },
        "outputId": "04107504-d8e6-4254-ed45-7a565936203e"
      },
      "cell_type": "code",
      "source": [
        "#data_req_new.head()\n",
        "data_req.head()"
      ],
      "execution_count": 0,
      "outputs": [
        {
          "output_type": "execute_result",
          "data": {
            "text/html": [
              "<div>\n",
              "<style scoped>\n",
              "    .dataframe tbody tr th:only-of-type {\n",
              "        vertical-align: middle;\n",
              "    }\n",
              "\n",
              "    .dataframe tbody tr th {\n",
              "        vertical-align: top;\n",
              "    }\n",
              "\n",
              "    .dataframe thead th {\n",
              "        text-align: right;\n",
              "    }\n",
              "</style>\n",
              "<table border=\"1\" class=\"dataframe\">\n",
              "  <thead>\n",
              "    <tr style=\"text-align: right;\">\n",
              "      <th></th>\n",
              "      <th>Issue</th>\n",
              "      <th>City</th>\n",
              "      <th>Submitted via</th>\n",
              "      <th>Company response to consumer</th>\n",
              "      <th>Time Difference</th>\n",
              "      <th>Class cluster</th>\n",
              "    </tr>\n",
              "  </thead>\n",
              "  <tbody>\n",
              "    <tr>\n",
              "      <th>0</th>\n",
              "      <td>Loan modification,collection,foreclosure</td>\n",
              "      <td>Anchorage</td>\n",
              "      <td>Referral</td>\n",
              "      <td>Closed with explanation</td>\n",
              "      <td>0.003846</td>\n",
              "      <td>0</td>\n",
              "    </tr>\n",
              "    <tr>\n",
              "      <th>1</th>\n",
              "      <td>Loan modification,collection,foreclosure</td>\n",
              "      <td>Chugiak</td>\n",
              "      <td>Web</td>\n",
              "      <td>Closed with explanation</td>\n",
              "      <td>0.000000</td>\n",
              "      <td>1</td>\n",
              "    </tr>\n",
              "    <tr>\n",
              "      <th>2</th>\n",
              "      <td>Loan modification,collection,foreclosure</td>\n",
              "      <td>Anchorage</td>\n",
              "      <td>Web</td>\n",
              "      <td>Closed with explanation</td>\n",
              "      <td>0.005769</td>\n",
              "      <td>1</td>\n",
              "    </tr>\n",
              "    <tr>\n",
              "      <th>3</th>\n",
              "      <td>Loan servicing, payments, escrow account</td>\n",
              "      <td>Anchorage</td>\n",
              "      <td>Referral</td>\n",
              "      <td>Closed with explanation</td>\n",
              "      <td>0.001923</td>\n",
              "      <td>3</td>\n",
              "    </tr>\n",
              "    <tr>\n",
              "      <th>4</th>\n",
              "      <td>Loan modification,collection,foreclosure</td>\n",
              "      <td>Anchorage</td>\n",
              "      <td>Postal mail</td>\n",
              "      <td>Closed with explanation</td>\n",
              "      <td>0.007692</td>\n",
              "      <td>0</td>\n",
              "    </tr>\n",
              "  </tbody>\n",
              "</table>\n",
              "</div>"
            ],
            "text/plain": [
              "                                      Issue       City Submitted via  \\\n",
              "0  Loan modification,collection,foreclosure  Anchorage      Referral   \n",
              "1  Loan modification,collection,foreclosure    Chugiak           Web   \n",
              "2  Loan modification,collection,foreclosure  Anchorage           Web   \n",
              "3  Loan servicing, payments, escrow account  Anchorage      Referral   \n",
              "4  Loan modification,collection,foreclosure  Anchorage   Postal mail   \n",
              "\n",
              "  Company response to consumer  Time Difference  Class cluster  \n",
              "0      Closed with explanation         0.003846              0  \n",
              "1      Closed with explanation         0.000000              1  \n",
              "2      Closed with explanation         0.005769              1  \n",
              "3      Closed with explanation         0.001923              3  \n",
              "4      Closed with explanation         0.007692              0  "
            ]
          },
          "metadata": {
            "tags": []
          },
          "execution_count": 107
        }
      ]
    },
    {
      "metadata": {
        "id": "7EYfFen8wRys",
        "colab_type": "code",
        "colab": {}
      },
      "cell_type": "code",
      "source": [
        "# DF TO CSV\n",
        "path= r'drive/Complaints_Dataset/'\n",
        "data_req.to_csv(path+'clusteredComplaintsDataSet.csv', sep=',', encoding='utf-8')\n"
      ],
      "execution_count": 0,
      "outputs": []
    },
    {
      "metadata": {
        "id": "aQ8GK-ZgZxfX",
        "colab_type": "code",
        "colab": {}
      },
      "cell_type": "code",
      "source": [
        "from __future__ import division, print_function"
      ],
      "execution_count": 0,
      "outputs": []
    },
    {
      "metadata": {
        "id": "nwUNrp1aaA6R",
        "colab_type": "code",
        "colab": {}
      },
      "cell_type": "code",
      "source": [
        "from matplotlib import pyplot as plt\n",
        "import pandas as pd\n",
        "import numpy as np\n",
        "%matplotlib inline"
      ],
      "execution_count": 0,
      "outputs": []
    },
    {
      "metadata": {
        "id": "xBi9f-cWMjJR",
        "colab_type": "code",
        "colab": {}
      },
      "cell_type": "code",
      "source": [
        "\n",
        "importimport  matplotlibmatplot \n",
        "matplotlib.rc('figure', figsize = (14, 7))\n",
        "matplotlib.rc('font', size = 14)\n",
        "matplotlib.rc('axes.spines', top = False, right = False)\n",
        "matplotlib.rc('axes', grid = False)\n",
        "matplotlib.rc('axes', facecolor = 'white')"
      ],
      "execution_count": 0,
      "outputs": []
    },
    {
      "metadata": {
        "id": "-z5g31bsMmWT",
        "colab_type": "code",
        "colab": {}
      },
      "cell_type": "code",
      "source": [
        "def scatterplot(x_data, y_data, x_label, y_label, title):\n",
        "    _, ax = plt.subplots()\n",
        "    ax.scatter(x_data, y_data, s = 30, color = '#539caf', alpha = 0.75)\n",
        "    ax.set_title(title)\n",
        "    ax.set_xlabel(x_label)\n",
        "    ax.set_ylabel(y_label)"
      ],
      "execution_count": 0,
      "outputs": []
    },
    {
      "metadata": {
        "id": "C4UqBUBGMrT4",
        "colab_type": "code",
        "colab": {}
      },
      "cell_type": "code",
      "source": [
        "scatterplot(x_data = data_req_new['City']\n",
        "            , y_data = data_req_new['Issue']\n",
        "            , x_label = 'City'\n",
        "            , y_label = 'Issue'\n",
        "            , title = 'Number of Issue Vs City')"
      ],
      "execution_count": 0,
      "outputs": []
    },
    {
      "metadata": {
        "id": "6u90fPK2OiDP",
        "colab_type": "code",
        "colab": {
          "base_uri": "https://localhost:8080/",
          "height": 204
        },
        "outputId": "57d9a292-ecf5-4fdb-ed26-de3b76202984"
      },
      "cell_type": "code",
      "source": [
        "cust_dataset_columns=['City','Issue']\n",
        "customer_data_set=data_req[cust_dataset_columns]\n",
        "customer_data_set.head()"
      ],
      "execution_count": 160,
      "outputs": [
        {
          "output_type": "execute_result",
          "data": {
            "text/html": [
              "<div>\n",
              "<style scoped>\n",
              "    .dataframe tbody tr th:only-of-type {\n",
              "        vertical-align: middle;\n",
              "    }\n",
              "\n",
              "    .dataframe tbody tr th {\n",
              "        vertical-align: top;\n",
              "    }\n",
              "\n",
              "    .dataframe thead th {\n",
              "        text-align: right;\n",
              "    }\n",
              "</style>\n",
              "<table border=\"1\" class=\"dataframe\">\n",
              "  <thead>\n",
              "    <tr style=\"text-align: right;\">\n",
              "      <th></th>\n",
              "      <th>City</th>\n",
              "      <th>Issue</th>\n",
              "    </tr>\n",
              "  </thead>\n",
              "  <tbody>\n",
              "    <tr>\n",
              "      <th>0</th>\n",
              "      <td>Anchorage</td>\n",
              "      <td>Loan modification,collection,foreclosure</td>\n",
              "    </tr>\n",
              "    <tr>\n",
              "      <th>1</th>\n",
              "      <td>Chugiak</td>\n",
              "      <td>Loan modification,collection,foreclosure</td>\n",
              "    </tr>\n",
              "    <tr>\n",
              "      <th>3</th>\n",
              "      <td>Anchorage</td>\n",
              "      <td>Loan modification,collection,foreclosure</td>\n",
              "    </tr>\n",
              "    <tr>\n",
              "      <th>4</th>\n",
              "      <td>Anchorage</td>\n",
              "      <td>Loan servicing, payments, escrow account</td>\n",
              "    </tr>\n",
              "    <tr>\n",
              "      <th>5</th>\n",
              "      <td>Anchorage</td>\n",
              "      <td>Loan modification,collection,foreclosure</td>\n",
              "    </tr>\n",
              "  </tbody>\n",
              "</table>\n",
              "</div>"
            ],
            "text/plain": [
              "        City                                     Issue\n",
              "0  Anchorage  Loan modification,collection,foreclosure\n",
              "1    Chugiak  Loan modification,collection,foreclosure\n",
              "3  Anchorage  Loan modification,collection,foreclosure\n",
              "4  Anchorage  Loan servicing, payments, escrow account\n",
              "5  Anchorage  Loan modification,collection,foreclosure"
            ]
          },
          "metadata": {
            "tags": []
          },
          "execution_count": 160
        }
      ]
    },
    {
      "metadata": {
        "id": "QjfORPrpO_XE",
        "colab_type": "code",
        "colab": {
          "base_uri": "https://localhost:8080/",
          "height": 136
        },
        "outputId": "88811f7b-d673-4aeb-f221-2b51b8959d34"
      },
      "cell_type": "code",
      "source": [
        "\n",
        "customer_data_set=customer_data_set[customer_data_set.City.isin(['Miami','Los Angeles','Atlanta','Brooklyn','Chicago'])]\n",
        "customer_data_set.info()"
      ],
      "execution_count": 161,
      "outputs": [
        {
          "output_type": "stream",
          "text": [
            "<class 'pandas.core.frame.DataFrame'>\n",
            "Int64Index: 1533 entries, 1193 to 26510\n",
            "Data columns (total 2 columns):\n",
            "City     1533 non-null object\n",
            "Issue    1533 non-null object\n",
            "dtypes: object(2)\n",
            "memory usage: 35.9+ KB\n"
          ],
          "name": "stdout"
        }
      ]
    },
    {
      "metadata": {
        "id": "7oqN9AfWTUJC",
        "colab_type": "code",
        "colab": {
          "base_uri": "https://localhost:8080/",
          "height": 204
        },
        "outputId": "b88d143b-6179-413a-99ca-6a41781e8709"
      },
      "cell_type": "code",
      "source": [
        "customer_data_set.index = range(customer_data_set.shape[0])\n",
        "customer_data_set.head()"
      ],
      "execution_count": 162,
      "outputs": [
        {
          "output_type": "execute_result",
          "data": {
            "text/html": [
              "<div>\n",
              "<style scoped>\n",
              "    .dataframe tbody tr th:only-of-type {\n",
              "        vertical-align: middle;\n",
              "    }\n",
              "\n",
              "    .dataframe tbody tr th {\n",
              "        vertical-align: top;\n",
              "    }\n",
              "\n",
              "    .dataframe thead th {\n",
              "        text-align: right;\n",
              "    }\n",
              "</style>\n",
              "<table border=\"1\" class=\"dataframe\">\n",
              "  <thead>\n",
              "    <tr style=\"text-align: right;\">\n",
              "      <th></th>\n",
              "      <th>City</th>\n",
              "      <th>Issue</th>\n",
              "    </tr>\n",
              "  </thead>\n",
              "  <tbody>\n",
              "    <tr>\n",
              "      <th>0</th>\n",
              "      <td>Los Angeles</td>\n",
              "      <td>Loan modification,collection,foreclosure</td>\n",
              "    </tr>\n",
              "    <tr>\n",
              "      <th>1</th>\n",
              "      <td>Los Angeles</td>\n",
              "      <td>Loan servicing, payments, escrow account</td>\n",
              "    </tr>\n",
              "    <tr>\n",
              "      <th>2</th>\n",
              "      <td>Los Angeles</td>\n",
              "      <td>Loan modification,collection,foreclosure</td>\n",
              "    </tr>\n",
              "    <tr>\n",
              "      <th>3</th>\n",
              "      <td>Los Angeles</td>\n",
              "      <td>Application, originator, mortgage broker</td>\n",
              "    </tr>\n",
              "    <tr>\n",
              "      <th>4</th>\n",
              "      <td>Los Angeles</td>\n",
              "      <td>Loan modification,collection,foreclosure</td>\n",
              "    </tr>\n",
              "  </tbody>\n",
              "</table>\n",
              "</div>"
            ],
            "text/plain": [
              "          City                                     Issue\n",
              "0  Los Angeles  Loan modification,collection,foreclosure\n",
              "1  Los Angeles  Loan servicing, payments, escrow account\n",
              "2  Los Angeles  Loan modification,collection,foreclosure\n",
              "3  Los Angeles  Application, originator, mortgage broker\n",
              "4  Los Angeles  Loan modification,collection,foreclosure"
            ]
          },
          "metadata": {
            "tags": []
          },
          "execution_count": 162
        }
      ]
    },
    {
      "metadata": {
        "id": "ef6x39fXPooq",
        "colab_type": "code",
        "colab": {
          "base_uri": "https://localhost:8080/",
          "height": 204
        },
        "outputId": "4e676723-dde1-4107-c486-b1c56a817591"
      },
      "cell_type": "code",
      "source": [
        "\n",
        "\n",
        "\n",
        "import random\n",
        "customer_data_set['frequency']=(customer_data_set.groupby('City')['City'].transform('count'))\n",
        "customer_data_set['customers_needed']=(customer_data_set.groupby('City')['City'].transform('count')//20)\n",
        "customer_data_set['Customer_id']=\"\"\n",
        "customer_data_set.head()"
      ],
      "execution_count": 168,
      "outputs": [
        {
          "output_type": "execute_result",
          "data": {
            "text/html": [
              "<div>\n",
              "<style scoped>\n",
              "    .dataframe tbody tr th:only-of-type {\n",
              "        vertical-align: middle;\n",
              "    }\n",
              "\n",
              "    .dataframe tbody tr th {\n",
              "        vertical-align: top;\n",
              "    }\n",
              "\n",
              "    .dataframe thead th {\n",
              "        text-align: right;\n",
              "    }\n",
              "</style>\n",
              "<table border=\"1\" class=\"dataframe\">\n",
              "  <thead>\n",
              "    <tr style=\"text-align: right;\">\n",
              "      <th></th>\n",
              "      <th>City</th>\n",
              "      <th>Issue</th>\n",
              "      <th>frequency</th>\n",
              "      <th>customers_needed</th>\n",
              "      <th>Customer_id</th>\n",
              "    </tr>\n",
              "  </thead>\n",
              "  <tbody>\n",
              "    <tr>\n",
              "      <th>0</th>\n",
              "      <td>Los Angeles</td>\n",
              "      <td>Loan modification,collection,foreclosure</td>\n",
              "      <td>296</td>\n",
              "      <td>14</td>\n",
              "      <td></td>\n",
              "    </tr>\n",
              "    <tr>\n",
              "      <th>1</th>\n",
              "      <td>Los Angeles</td>\n",
              "      <td>Loan servicing, payments, escrow account</td>\n",
              "      <td>296</td>\n",
              "      <td>14</td>\n",
              "      <td></td>\n",
              "    </tr>\n",
              "    <tr>\n",
              "      <th>2</th>\n",
              "      <td>Los Angeles</td>\n",
              "      <td>Loan modification,collection,foreclosure</td>\n",
              "      <td>296</td>\n",
              "      <td>14</td>\n",
              "      <td></td>\n",
              "    </tr>\n",
              "    <tr>\n",
              "      <th>3</th>\n",
              "      <td>Los Angeles</td>\n",
              "      <td>Application, originator, mortgage broker</td>\n",
              "      <td>296</td>\n",
              "      <td>14</td>\n",
              "      <td></td>\n",
              "    </tr>\n",
              "    <tr>\n",
              "      <th>4</th>\n",
              "      <td>Los Angeles</td>\n",
              "      <td>Loan modification,collection,foreclosure</td>\n",
              "      <td>296</td>\n",
              "      <td>14</td>\n",
              "      <td></td>\n",
              "    </tr>\n",
              "  </tbody>\n",
              "</table>\n",
              "</div>"
            ],
            "text/plain": [
              "          City                                     Issue  frequency  \\\n",
              "0  Los Angeles  Loan modification,collection,foreclosure        296   \n",
              "1  Los Angeles  Loan servicing, payments, escrow account        296   \n",
              "2  Los Angeles  Loan modification,collection,foreclosure        296   \n",
              "3  Los Angeles  Application, originator, mortgage broker        296   \n",
              "4  Los Angeles  Loan modification,collection,foreclosure        296   \n",
              "\n",
              "   customers_needed Customer_id  \n",
              "0                14              \n",
              "1                14              \n",
              "2                14              \n",
              "3                14              \n",
              "4                14              "
            ]
          },
          "metadata": {
            "tags": []
          },
          "execution_count": 168
        }
      ]
    },
    {
      "metadata": {
        "id": "otZQpRD4xvHM",
        "colab_type": "code",
        "colab": {
          "base_uri": "https://localhost:8080/",
          "height": 102
        },
        "outputId": "2d5ba884-c27c-493f-a007-985a1d1eef7e"
      },
      "cell_type": "code",
      "source": [
        "customer_data_set['customers_needed'].value_counts(dropna=False)"
      ],
      "execution_count": 169,
      "outputs": [
        {
          "output_type": "execute_result",
          "data": {
            "text/plain": [
              "25    513\n",
              "11    458\n",
              "14    296\n",
              "13    266\n",
              "Name: customers_needed, dtype: int64"
            ]
          },
          "metadata": {
            "tags": []
          },
          "execution_count": 169
        }
      ]
    },
    {
      "metadata": {
        "id": "SiOshZg9xtIP",
        "colab_type": "text"
      },
      "cell_type": "markdown",
      "source": [
        ""
      ]
    },
    {
      "metadata": {
        "id": "szbHUuROk9VR",
        "colab_type": "code",
        "colab": {
          "base_uri": "https://localhost:8080/",
          "height": 204
        },
        "outputId": "c38e15e0-2ab2-485f-c08b-5abe80287be5"
      },
      "cell_type": "code",
      "source": [
        "import random\n",
        "for i in customer_data_set.index:\n",
        "  customer_data_set.at[i, 'Customer_id']=customer_data_set.at[i, 'City'][0:3]+\"_\"+str(customer_data_set.at[i, 'frequency'])+\"_\"+str(random.randint(1, customer_data_set.at[i, 'customers_needed']))\n",
        "  \n",
        "customer_data_set.head()\n"
      ],
      "execution_count": 170,
      "outputs": [
        {
          "output_type": "execute_result",
          "data": {
            "text/html": [
              "<div>\n",
              "<style scoped>\n",
              "    .dataframe tbody tr th:only-of-type {\n",
              "        vertical-align: middle;\n",
              "    }\n",
              "\n",
              "    .dataframe tbody tr th {\n",
              "        vertical-align: top;\n",
              "    }\n",
              "\n",
              "    .dataframe thead th {\n",
              "        text-align: right;\n",
              "    }\n",
              "</style>\n",
              "<table border=\"1\" class=\"dataframe\">\n",
              "  <thead>\n",
              "    <tr style=\"text-align: right;\">\n",
              "      <th></th>\n",
              "      <th>City</th>\n",
              "      <th>Issue</th>\n",
              "      <th>frequency</th>\n",
              "      <th>customers_needed</th>\n",
              "      <th>Customer_id</th>\n",
              "    </tr>\n",
              "  </thead>\n",
              "  <tbody>\n",
              "    <tr>\n",
              "      <th>0</th>\n",
              "      <td>Los Angeles</td>\n",
              "      <td>Loan modification,collection,foreclosure</td>\n",
              "      <td>296</td>\n",
              "      <td>14</td>\n",
              "      <td>Los_296_13</td>\n",
              "    </tr>\n",
              "    <tr>\n",
              "      <th>1</th>\n",
              "      <td>Los Angeles</td>\n",
              "      <td>Loan servicing, payments, escrow account</td>\n",
              "      <td>296</td>\n",
              "      <td>14</td>\n",
              "      <td>Los_296_9</td>\n",
              "    </tr>\n",
              "    <tr>\n",
              "      <th>2</th>\n",
              "      <td>Los Angeles</td>\n",
              "      <td>Loan modification,collection,foreclosure</td>\n",
              "      <td>296</td>\n",
              "      <td>14</td>\n",
              "      <td>Los_296_7</td>\n",
              "    </tr>\n",
              "    <tr>\n",
              "      <th>3</th>\n",
              "      <td>Los Angeles</td>\n",
              "      <td>Application, originator, mortgage broker</td>\n",
              "      <td>296</td>\n",
              "      <td>14</td>\n",
              "      <td>Los_296_13</td>\n",
              "    </tr>\n",
              "    <tr>\n",
              "      <th>4</th>\n",
              "      <td>Los Angeles</td>\n",
              "      <td>Loan modification,collection,foreclosure</td>\n",
              "      <td>296</td>\n",
              "      <td>14</td>\n",
              "      <td>Los_296_12</td>\n",
              "    </tr>\n",
              "  </tbody>\n",
              "</table>\n",
              "</div>"
            ],
            "text/plain": [
              "          City                                     Issue  frequency  \\\n",
              "0  Los Angeles  Loan modification,collection,foreclosure        296   \n",
              "1  Los Angeles  Loan servicing, payments, escrow account        296   \n",
              "2  Los Angeles  Loan modification,collection,foreclosure        296   \n",
              "3  Los Angeles  Application, originator, mortgage broker        296   \n",
              "4  Los Angeles  Loan modification,collection,foreclosure        296   \n",
              "\n",
              "   customers_needed Customer_id  \n",
              "0                14  Los_296_13  \n",
              "1                14   Los_296_9  \n",
              "2                14   Los_296_7  \n",
              "3                14  Los_296_13  \n",
              "4                14  Los_296_12  "
            ]
          },
          "metadata": {
            "tags": []
          },
          "execution_count": 170
        }
      ]
    },
    {
      "metadata": {
        "id": "HfDcRE0-R4BY",
        "colab_type": "code",
        "colab": {
          "base_uri": "https://localhost:8080/",
          "height": 204
        },
        "outputId": "6c562df9-7203-4445-e08f-4bceb9c157f4"
      },
      "cell_type": "code",
      "source": [
        "req_cols=['City','Issue','Customer_id']\n",
        "customer_data_set=customer_data_set[req_cols]\n",
        "customer_data_set.head()"
      ],
      "execution_count": 171,
      "outputs": [
        {
          "output_type": "execute_result",
          "data": {
            "text/html": [
              "<div>\n",
              "<style scoped>\n",
              "    .dataframe tbody tr th:only-of-type {\n",
              "        vertical-align: middle;\n",
              "    }\n",
              "\n",
              "    .dataframe tbody tr th {\n",
              "        vertical-align: top;\n",
              "    }\n",
              "\n",
              "    .dataframe thead th {\n",
              "        text-align: right;\n",
              "    }\n",
              "</style>\n",
              "<table border=\"1\" class=\"dataframe\">\n",
              "  <thead>\n",
              "    <tr style=\"text-align: right;\">\n",
              "      <th></th>\n",
              "      <th>City</th>\n",
              "      <th>Issue</th>\n",
              "      <th>Customer_id</th>\n",
              "    </tr>\n",
              "  </thead>\n",
              "  <tbody>\n",
              "    <tr>\n",
              "      <th>0</th>\n",
              "      <td>Los Angeles</td>\n",
              "      <td>Loan modification,collection,foreclosure</td>\n",
              "      <td>Los_296_13</td>\n",
              "    </tr>\n",
              "    <tr>\n",
              "      <th>1</th>\n",
              "      <td>Los Angeles</td>\n",
              "      <td>Loan servicing, payments, escrow account</td>\n",
              "      <td>Los_296_9</td>\n",
              "    </tr>\n",
              "    <tr>\n",
              "      <th>2</th>\n",
              "      <td>Los Angeles</td>\n",
              "      <td>Loan modification,collection,foreclosure</td>\n",
              "      <td>Los_296_7</td>\n",
              "    </tr>\n",
              "    <tr>\n",
              "      <th>3</th>\n",
              "      <td>Los Angeles</td>\n",
              "      <td>Application, originator, mortgage broker</td>\n",
              "      <td>Los_296_13</td>\n",
              "    </tr>\n",
              "    <tr>\n",
              "      <th>4</th>\n",
              "      <td>Los Angeles</td>\n",
              "      <td>Loan modification,collection,foreclosure</td>\n",
              "      <td>Los_296_12</td>\n",
              "    </tr>\n",
              "  </tbody>\n",
              "</table>\n",
              "</div>"
            ],
            "text/plain": [
              "          City                                     Issue Customer_id\n",
              "0  Los Angeles  Loan modification,collection,foreclosure  Los_296_13\n",
              "1  Los Angeles  Loan servicing, payments, escrow account   Los_296_9\n",
              "2  Los Angeles  Loan modification,collection,foreclosure   Los_296_7\n",
              "3  Los Angeles  Application, originator, mortgage broker  Los_296_13\n",
              "4  Los Angeles  Loan modification,collection,foreclosure  Los_296_12"
            ]
          },
          "metadata": {
            "tags": []
          },
          "execution_count": 171
        }
      ]
    },
    {
      "metadata": {
        "id": "O47i2lAHwsdI",
        "colab_type": "code",
        "colab": {
          "base_uri": "https://localhost:8080/",
          "height": 153
        },
        "outputId": "5c65fe24-d302-40b5-eb85-3c3f7370bc69"
      },
      "cell_type": "code",
      "source": [
        "customer_data_set.info()"
      ],
      "execution_count": 172,
      "outputs": [
        {
          "output_type": "stream",
          "text": [
            "<class 'pandas.core.frame.DataFrame'>\n",
            "RangeIndex: 1533 entries, 0 to 1532\n",
            "Data columns (total 3 columns):\n",
            "City           1533 non-null object\n",
            "Issue          1533 non-null object\n",
            "Customer_id    1533 non-null object\n",
            "dtypes: object(3)\n",
            "memory usage: 36.0+ KB\n"
          ],
          "name": "stdout"
        }
      ]
    },
    {
      "metadata": {
        "id": "hCKEYpRNwzKu",
        "colab_type": "code",
        "colab": {
          "base_uri": "https://localhost:8080/",
          "height": 1071
        },
        "outputId": "e21cba75-aa7b-4d4f-90a9-9010c983fcc2"
      },
      "cell_type": "code",
      "source": [
        "customer_data_set['Customer_id'].value_counts(dropna=False)"
      ],
      "execution_count": 173,
      "outputs": [
        {
          "output_type": "execute_result",
          "data": {
            "text/plain": [
              "Chi_227_2     31\n",
              "Mia_513_12    30\n",
              "Mia_513_15    28\n",
              "Los_296_9     28\n",
              "Bro_231_5     27\n",
              "Atl_266_6     26\n",
              "Bro_231_3     26\n",
              "Chi_227_11    26\n",
              "Los_296_3     25\n",
              "Mia_513_21    25\n",
              "Mia_513_20    25\n",
              "Mia_513_6     24\n",
              "Los_296_14    24\n",
              "Mia_513_3     24\n",
              "Bro_231_1     23\n",
              "Bro_231_2     23\n",
              "Mia_513_16    23\n",
              "Mia_513_18    23\n",
              "Mia_513_24    23\n",
              "Atl_266_10    23\n",
              "Bro_231_11    23\n",
              "Atl_266_12    23\n",
              "Atl_266_7     23\n",
              "Atl_266_9     22\n",
              "Mia_513_5     22\n",
              "Los_296_5     22\n",
              "Chi_227_1     22\n",
              "Los_296_4     22\n",
              "Los_296_1     22\n",
              "Mia_513_4     22\n",
              "              ..\n",
              "Bro_231_8     20\n",
              "Los_296_10    20\n",
              "Mia_513_19    20\n",
              "Atl_266_8     20\n",
              "Bro_231_6     19\n",
              "Chi_227_6     19\n",
              "Atl_266_3     19\n",
              "Los_296_13    19\n",
              "Mia_513_1     19\n",
              "Los_296_2     19\n",
              "Mia_513_14    18\n",
              "Los_296_7     18\n",
              "Mia_513_10    18\n",
              "Chi_227_3     18\n",
              "Mia_513_25    18\n",
              "Atl_266_1     17\n",
              "Mia_513_17    17\n",
              "Chi_227_4     16\n",
              "Chi_227_7     16\n",
              "Atl_266_2     16\n",
              "Mia_513_7     16\n",
              "Bro_231_10    16\n",
              "Chi_227_10    16\n",
              "Los_296_12    15\n",
              "Mia_513_13    15\n",
              "Atl_266_11    15\n",
              "Mia_513_11    15\n",
              "Mia_513_9     13\n",
              "Bro_231_9     13\n",
              "Mia_513_2     12\n",
              "Name: Customer_id, Length: 74, dtype: int64"
            ]
          },
          "metadata": {
            "tags": []
          },
          "execution_count": 173
        }
      ]
    },
    {
      "metadata": {
        "id": "atqFPBH0xCWv",
        "colab_type": "code",
        "colab": {}
      },
      "cell_type": "code",
      "source": [
        ""
      ],
      "execution_count": 0,
      "outputs": []
    }
  ]
}