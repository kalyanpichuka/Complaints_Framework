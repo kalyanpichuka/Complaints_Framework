{
  "nbformat": 4,
  "nbformat_minor": 0,
  "metadata": {
    "colab": {
      "name": "Copy of Complaints_Framework_Model_Sravya.ipynb",
      "version": "0.3.2",
      "provenance": [],
      "collapsed_sections": [],
      "include_colab_link": true
    },
    "kernelspec": {
      "name": "python3",
      "display_name": "Python 3"
    },
    "accelerator": "GPU"
  },
  "cells": [
    {
      "cell_type": "markdown",
      "metadata": {
        "id": "view-in-github",
        "colab_type": "text"
      },
      "source": [
        "[View in Colaboratory](https://colab.research.google.com/github/SravyaSpandana/Complaints_Framework/blob/master/Complaints_Framework_Model_Sravya_WithoutDummies.ipynb)"
      ]
    },
    {
      "metadata": {
        "id": "hcuJP6MmtPxQ",
        "colab_type": "code",
        "colab": {}
      },
      "cell_type": "code",
      "source": [
        "# IMPORTING NECESSARY PACKAGES\n",
        "import pandas as pd\n",
        "import numpy as np\n",
        "import matplotlib.pyplot as plt\n",
        "import os"
      ],
      "execution_count": 0,
      "outputs": []
    },
    {
      "metadata": {
        "id": "UAgaIOov2xLd",
        "colab_type": "code",
        "colab": {}
      },
      "cell_type": "code",
      "source": [
        "4/NADN302r4bnc7hQBO7DLbwIkZwgXL2iEngwVZVrGGsRFT_z9PjTSPSs!apt-get install -y -qq software-properties-common python-software-properties module-init-tools\n",
        "!add-apt-repository -y ppa:alessandro-strada/ppa 2>&1 > /dev/null\n",
        "!apt-get update -qq 2>&1 > /dev/null\n",
        "!apt-get -y install -qq google-drive-ocamlfuse fuse\n",
        "from google.colab import auth\n",
        "auth.authenticate_user()\n",
        "from oauth2client.client import GoogleCredentials\n",
        "creds = GoogleCredentials.get_application_default()\n",
        "import getpass\n",
        "!google-drive-ocamlfuse -headless -id={creds.client_id} -secret={creds.client_secret} < /dev/null 2>&1 | grep URL\n",
        "vcode = getpass.getpass()\n",
        "!echo {vcode} | google-drive-ocamlfuse -headless -id={creds.client_id} -secret={creds.client_secret}"
      ],
      "execution_count": 0,
      "outputs": []
    },
    {
      "metadata": {
        "id": "MWrH7zuh5fEv",
        "colab_type": "code",
        "colab": {}
      },
      "cell_type": "code",
      "source": [
        "!mkdir -p drive\n",
        "!google-drive-ocamlfuse drive"
      ],
      "execution_count": 0,
      "outputs": []
    },
    {
      "metadata": {
        "id": "BUN9evG359S4",
        "colab_type": "code",
        "colab": {}
      },
      "cell_type": "code",
      "source": [
        "data = pd.read_csv(\"drive/Complaints_Dataset/complaints-2018-07-20_02_20.csv\")"
      ],
      "execution_count": 0,
      "outputs": []
    },
    {
      "metadata": {
        "id": "lDW6HKRO6BfM",
        "colab_type": "code",
        "colab": {
          "base_uri": "https://localhost:8080/",
          "height": 530
        },
        "outputId": "5463ffa0-abbc-48e3-f871-15f256f00dc3"
      },
      "cell_type": "code",
      "source": [
        "data.head()"
      ],
      "execution_count": 5,
      "outputs": [
        {
          "output_type": "execute_result",
          "data": {
            "text/html": [
              "<div>\n",
              "<style scoped>\n",
              "    .dataframe tbody tr th:only-of-type {\n",
              "        vertical-align: middle;\n",
              "    }\n",
              "\n",
              "    .dataframe tbody tr th {\n",
              "        vertical-align: top;\n",
              "    }\n",
              "\n",
              "    .dataframe thead th {\n",
              "        text-align: right;\n",
              "    }\n",
              "</style>\n",
              "<table border=\"1\" class=\"dataframe\">\n",
              "  <thead>\n",
              "    <tr style=\"text-align: right;\">\n",
              "      <th></th>\n",
              "      <th>Date received</th>\n",
              "      <th>Product</th>\n",
              "      <th>Sub-product</th>\n",
              "      <th>Issue</th>\n",
              "      <th>Sub-issue</th>\n",
              "      <th>Consumer complaint narrative</th>\n",
              "      <th>Company public response</th>\n",
              "      <th>Company</th>\n",
              "      <th>State</th>\n",
              "      <th>ZIP code</th>\n",
              "      <th>Tags</th>\n",
              "      <th>Consumer consent provided?</th>\n",
              "      <th>Submitted via</th>\n",
              "      <th>Date sent to company</th>\n",
              "      <th>Company response to consumer</th>\n",
              "      <th>Timely response?</th>\n",
              "      <th>Consumer disputed?</th>\n",
              "      <th>Complaint ID</th>\n",
              "    </tr>\n",
              "  </thead>\n",
              "  <tbody>\n",
              "    <tr>\n",
              "      <th>0</th>\n",
              "      <td>02/05/13</td>\n",
              "      <td>Mortgage</td>\n",
              "      <td>FHA mortgage</td>\n",
              "      <td>Loan servicing, payments, escrow account</td>\n",
              "      <td>NaN</td>\n",
              "      <td>NaN</td>\n",
              "      <td>NaN</td>\n",
              "      <td>BAYVIEW LOAN SERVICING, LLC</td>\n",
              "      <td>MA</td>\n",
              "      <td>02151</td>\n",
              "      <td>NaN</td>\n",
              "      <td>NaN</td>\n",
              "      <td>Web</td>\n",
              "      <td>02/06/13</td>\n",
              "      <td>Closed with explanation</td>\n",
              "      <td>Yes</td>\n",
              "      <td>No</td>\n",
              "      <td>301664</td>\n",
              "    </tr>\n",
              "    <tr>\n",
              "      <th>1</th>\n",
              "      <td>05/15/17</td>\n",
              "      <td>Mortgage</td>\n",
              "      <td>Other type of mortgage</td>\n",
              "      <td>Trouble during payment process</td>\n",
              "      <td>NaN</td>\n",
              "      <td>NaN</td>\n",
              "      <td>Company has responded to the consumer and the ...</td>\n",
              "      <td>BMO HARRIS BANK NATIONAL ASSOCIATION</td>\n",
              "      <td>IL</td>\n",
              "      <td>60165</td>\n",
              "      <td>NaN</td>\n",
              "      <td>NaN</td>\n",
              "      <td>Fax</td>\n",
              "      <td>05/17/17</td>\n",
              "      <td>Closed with explanation</td>\n",
              "      <td>Yes</td>\n",
              "      <td>NaN</td>\n",
              "      <td>2484441</td>\n",
              "    </tr>\n",
              "    <tr>\n",
              "      <th>2</th>\n",
              "      <td>09/24/14</td>\n",
              "      <td>Mortgage</td>\n",
              "      <td>Other mortgage</td>\n",
              "      <td>Loan modification,collection,foreclosure</td>\n",
              "      <td>NaN</td>\n",
              "      <td>NaN</td>\n",
              "      <td>NaN</td>\n",
              "      <td>Ditech Financial LLC</td>\n",
              "      <td>FL</td>\n",
              "      <td>34209</td>\n",
              "      <td>NaN</td>\n",
              "      <td>NaN</td>\n",
              "      <td>Referral</td>\n",
              "      <td>10/01/14</td>\n",
              "      <td>Closed with explanation</td>\n",
              "      <td>Yes</td>\n",
              "      <td>Yes</td>\n",
              "      <td>1043621</td>\n",
              "    </tr>\n",
              "    <tr>\n",
              "      <th>3</th>\n",
              "      <td>11/06/15</td>\n",
              "      <td>Mortgage</td>\n",
              "      <td>Other mortgage</td>\n",
              "      <td>Loan modification,collection,foreclosure</td>\n",
              "      <td>NaN</td>\n",
              "      <td>NaN</td>\n",
              "      <td>NaN</td>\n",
              "      <td>OCWEN LOAN SERVICING LLC</td>\n",
              "      <td>GA</td>\n",
              "      <td>30253</td>\n",
              "      <td>NaN</td>\n",
              "      <td>NaN</td>\n",
              "      <td>Referral</td>\n",
              "      <td>11/09/15</td>\n",
              "      <td>Closed with explanation</td>\n",
              "      <td>Yes</td>\n",
              "      <td>No</td>\n",
              "      <td>1643449</td>\n",
              "    </tr>\n",
              "    <tr>\n",
              "      <th>4</th>\n",
              "      <td>03/08/12</td>\n",
              "      <td>Mortgage</td>\n",
              "      <td>Conventional fixed mortgage</td>\n",
              "      <td>Loan modification,collection,foreclosure</td>\n",
              "      <td>NaN</td>\n",
              "      <td>NaN</td>\n",
              "      <td>NaN</td>\n",
              "      <td>CITIBANK, N.A.</td>\n",
              "      <td>NJ</td>\n",
              "      <td>07438</td>\n",
              "      <td>NaN</td>\n",
              "      <td>NaN</td>\n",
              "      <td>Referral</td>\n",
              "      <td>03/08/12</td>\n",
              "      <td>Untimely response</td>\n",
              "      <td>No</td>\n",
              "      <td>No</td>\n",
              "      <td>32218</td>\n",
              "    </tr>\n",
              "  </tbody>\n",
              "</table>\n",
              "</div>"
            ],
            "text/plain": [
              "  Date received   Product                  Sub-product  \\\n",
              "0      02/05/13  Mortgage                 FHA mortgage   \n",
              "1      05/15/17  Mortgage       Other type of mortgage   \n",
              "2      09/24/14  Mortgage               Other mortgage   \n",
              "3      11/06/15  Mortgage               Other mortgage   \n",
              "4      03/08/12  Mortgage  Conventional fixed mortgage   \n",
              "\n",
              "                                      Issue  Sub-issue  \\\n",
              "0  Loan servicing, payments, escrow account        NaN   \n",
              "1            Trouble during payment process        NaN   \n",
              "2  Loan modification,collection,foreclosure        NaN   \n",
              "3  Loan modification,collection,foreclosure        NaN   \n",
              "4  Loan modification,collection,foreclosure        NaN   \n",
              "\n",
              "  Consumer complaint narrative  \\\n",
              "0                          NaN   \n",
              "1                          NaN   \n",
              "2                          NaN   \n",
              "3                          NaN   \n",
              "4                          NaN   \n",
              "\n",
              "                             Company public response  \\\n",
              "0                                                NaN   \n",
              "1  Company has responded to the consumer and the ...   \n",
              "2                                                NaN   \n",
              "3                                                NaN   \n",
              "4                                                NaN   \n",
              "\n",
              "                                Company State ZIP code Tags  \\\n",
              "0           BAYVIEW LOAN SERVICING, LLC    MA    02151  NaN   \n",
              "1  BMO HARRIS BANK NATIONAL ASSOCIATION    IL    60165  NaN   \n",
              "2                  Ditech Financial LLC    FL    34209  NaN   \n",
              "3              OCWEN LOAN SERVICING LLC    GA    30253  NaN   \n",
              "4                        CITIBANK, N.A.    NJ    07438  NaN   \n",
              "\n",
              "  Consumer consent provided? Submitted via Date sent to company  \\\n",
              "0                        NaN           Web             02/06/13   \n",
              "1                        NaN           Fax             05/17/17   \n",
              "2                        NaN      Referral             10/01/14   \n",
              "3                        NaN      Referral             11/09/15   \n",
              "4                        NaN      Referral             03/08/12   \n",
              "\n",
              "  Company response to consumer Timely response? Consumer disputed?  \\\n",
              "0      Closed with explanation              Yes                 No   \n",
              "1      Closed with explanation              Yes                NaN   \n",
              "2      Closed with explanation              Yes                Yes   \n",
              "3      Closed with explanation              Yes                 No   \n",
              "4            Untimely response               No                 No   \n",
              "\n",
              "   Complaint ID  \n",
              "0        301664  \n",
              "1       2484441  \n",
              "2       1043621  \n",
              "3       1643449  \n",
              "4         32218  "
            ]
          },
          "metadata": {
            "tags": []
          },
          "execution_count": 5
        }
      ]
    },
    {
      "metadata": {
        "id": "7nLwqjwo6FeW",
        "colab_type": "code",
        "colab": {}
      },
      "cell_type": "code",
      "source": [
        "data = data[data.Company == 'WELLS FARGO & COMPANY']"
      ],
      "execution_count": 0,
      "outputs": []
    },
    {
      "metadata": {
        "id": "3Xh52LSB6LRZ",
        "colab_type": "code",
        "colab": {
          "base_uri": "https://localhost:8080/",
          "height": 496
        },
        "outputId": "7faa9dad-3001-4b59-ff4a-39583a3bd947"
      },
      "cell_type": "code",
      "source": [
        "data.head()"
      ],
      "execution_count": 7,
      "outputs": [
        {
          "output_type": "execute_result",
          "data": {
            "text/html": [
              "<div>\n",
              "<style scoped>\n",
              "    .dataframe tbody tr th:only-of-type {\n",
              "        vertical-align: middle;\n",
              "    }\n",
              "\n",
              "    .dataframe tbody tr th {\n",
              "        vertical-align: top;\n",
              "    }\n",
              "\n",
              "    .dataframe thead th {\n",
              "        text-align: right;\n",
              "    }\n",
              "</style>\n",
              "<table border=\"1\" class=\"dataframe\">\n",
              "  <thead>\n",
              "    <tr style=\"text-align: right;\">\n",
              "      <th></th>\n",
              "      <th>Date received</th>\n",
              "      <th>Product</th>\n",
              "      <th>Sub-product</th>\n",
              "      <th>Issue</th>\n",
              "      <th>Sub-issue</th>\n",
              "      <th>Consumer complaint narrative</th>\n",
              "      <th>Company public response</th>\n",
              "      <th>Company</th>\n",
              "      <th>State</th>\n",
              "      <th>ZIP code</th>\n",
              "      <th>Tags</th>\n",
              "      <th>Consumer consent provided?</th>\n",
              "      <th>Submitted via</th>\n",
              "      <th>Date sent to company</th>\n",
              "      <th>Company response to consumer</th>\n",
              "      <th>Timely response?</th>\n",
              "      <th>Consumer disputed?</th>\n",
              "      <th>Complaint ID</th>\n",
              "    </tr>\n",
              "  </thead>\n",
              "  <tbody>\n",
              "    <tr>\n",
              "      <th>17</th>\n",
              "      <td>12/05/16</td>\n",
              "      <td>Mortgage</td>\n",
              "      <td>FHA mortgage</td>\n",
              "      <td>Loan modification,collection,foreclosure</td>\n",
              "      <td>NaN</td>\n",
              "      <td>NaN</td>\n",
              "      <td>Company has responded to the consumer and the ...</td>\n",
              "      <td>WELLS FARGO &amp; COMPANY</td>\n",
              "      <td>NJ</td>\n",
              "      <td>07106</td>\n",
              "      <td>NaN</td>\n",
              "      <td>Consent not provided</td>\n",
              "      <td>Web</td>\n",
              "      <td>12/05/16</td>\n",
              "      <td>Closed with explanation</td>\n",
              "      <td>Yes</td>\n",
              "      <td>No</td>\n",
              "      <td>2236348</td>\n",
              "    </tr>\n",
              "    <tr>\n",
              "      <th>20</th>\n",
              "      <td>01/09/13</td>\n",
              "      <td>Mortgage</td>\n",
              "      <td>Other mortgage</td>\n",
              "      <td>Loan modification,collection,foreclosure</td>\n",
              "      <td>NaN</td>\n",
              "      <td>NaN</td>\n",
              "      <td>NaN</td>\n",
              "      <td>WELLS FARGO &amp; COMPANY</td>\n",
              "      <td>NY</td>\n",
              "      <td>11550</td>\n",
              "      <td>NaN</td>\n",
              "      <td>NaN</td>\n",
              "      <td>Referral</td>\n",
              "      <td>01/11/13</td>\n",
              "      <td>Closed with explanation</td>\n",
              "      <td>Yes</td>\n",
              "      <td>No</td>\n",
              "      <td>225262</td>\n",
              "    </tr>\n",
              "    <tr>\n",
              "      <th>24</th>\n",
              "      <td>06/02/14</td>\n",
              "      <td>Mortgage</td>\n",
              "      <td>Other mortgage</td>\n",
              "      <td>Application, originator, mortgage broker</td>\n",
              "      <td>NaN</td>\n",
              "      <td>NaN</td>\n",
              "      <td>NaN</td>\n",
              "      <td>WELLS FARGO &amp; COMPANY</td>\n",
              "      <td>VA</td>\n",
              "      <td>20109</td>\n",
              "      <td>NaN</td>\n",
              "      <td>NaN</td>\n",
              "      <td>Web</td>\n",
              "      <td>06/02/14</td>\n",
              "      <td>Closed with explanation</td>\n",
              "      <td>Yes</td>\n",
              "      <td>No</td>\n",
              "      <td>876185</td>\n",
              "    </tr>\n",
              "    <tr>\n",
              "      <th>34</th>\n",
              "      <td>03/18/14</td>\n",
              "      <td>Mortgage</td>\n",
              "      <td>Reverse mortgage</td>\n",
              "      <td>Settlement process and costs</td>\n",
              "      <td>NaN</td>\n",
              "      <td>NaN</td>\n",
              "      <td>NaN</td>\n",
              "      <td>WELLS FARGO &amp; COMPANY</td>\n",
              "      <td>CA</td>\n",
              "      <td>93311</td>\n",
              "      <td>NaN</td>\n",
              "      <td>NaN</td>\n",
              "      <td>Web</td>\n",
              "      <td>03/17/14</td>\n",
              "      <td>Closed with explanation</td>\n",
              "      <td>Yes</td>\n",
              "      <td>No</td>\n",
              "      <td>763623</td>\n",
              "    </tr>\n",
              "    <tr>\n",
              "      <th>37</th>\n",
              "      <td>08/06/13</td>\n",
              "      <td>Mortgage</td>\n",
              "      <td>FHA mortgage</td>\n",
              "      <td>Application, originator, mortgage broker</td>\n",
              "      <td>NaN</td>\n",
              "      <td>NaN</td>\n",
              "      <td>NaN</td>\n",
              "      <td>WELLS FARGO &amp; COMPANY</td>\n",
              "      <td>SD</td>\n",
              "      <td>57106</td>\n",
              "      <td>NaN</td>\n",
              "      <td>NaN</td>\n",
              "      <td>Web</td>\n",
              "      <td>08/07/13</td>\n",
              "      <td>Closed with explanation</td>\n",
              "      <td>Yes</td>\n",
              "      <td>Yes</td>\n",
              "      <td>481692</td>\n",
              "    </tr>\n",
              "  </tbody>\n",
              "</table>\n",
              "</div>"
            ],
            "text/plain": [
              "   Date received   Product       Sub-product  \\\n",
              "17      12/05/16  Mortgage      FHA mortgage   \n",
              "20      01/09/13  Mortgage    Other mortgage   \n",
              "24      06/02/14  Mortgage    Other mortgage   \n",
              "34      03/18/14  Mortgage  Reverse mortgage   \n",
              "37      08/06/13  Mortgage      FHA mortgage   \n",
              "\n",
              "                                       Issue  Sub-issue  \\\n",
              "17  Loan modification,collection,foreclosure        NaN   \n",
              "20  Loan modification,collection,foreclosure        NaN   \n",
              "24  Application, originator, mortgage broker        NaN   \n",
              "34              Settlement process and costs        NaN   \n",
              "37  Application, originator, mortgage broker        NaN   \n",
              "\n",
              "   Consumer complaint narrative  \\\n",
              "17                          NaN   \n",
              "20                          NaN   \n",
              "24                          NaN   \n",
              "34                          NaN   \n",
              "37                          NaN   \n",
              "\n",
              "                              Company public response                Company  \\\n",
              "17  Company has responded to the consumer and the ...  WELLS FARGO & COMPANY   \n",
              "20                                                NaN  WELLS FARGO & COMPANY   \n",
              "24                                                NaN  WELLS FARGO & COMPANY   \n",
              "34                                                NaN  WELLS FARGO & COMPANY   \n",
              "37                                                NaN  WELLS FARGO & COMPANY   \n",
              "\n",
              "   State ZIP code Tags Consumer consent provided? Submitted via  \\\n",
              "17    NJ    07106  NaN       Consent not provided           Web   \n",
              "20    NY    11550  NaN                        NaN      Referral   \n",
              "24    VA    20109  NaN                        NaN           Web   \n",
              "34    CA    93311  NaN                        NaN           Web   \n",
              "37    SD    57106  NaN                        NaN           Web   \n",
              "\n",
              "   Date sent to company Company response to consumer Timely response?  \\\n",
              "17             12/05/16      Closed with explanation              Yes   \n",
              "20             01/11/13      Closed with explanation              Yes   \n",
              "24             06/02/14      Closed with explanation              Yes   \n",
              "34             03/17/14      Closed with explanation              Yes   \n",
              "37             08/07/13      Closed with explanation              Yes   \n",
              "\n",
              "   Consumer disputed?  Complaint ID  \n",
              "17                 No       2236348  \n",
              "20                 No        225262  \n",
              "24                 No        876185  \n",
              "34                 No        763623  \n",
              "37                Yes        481692  "
            ]
          },
          "metadata": {
            "tags": []
          },
          "execution_count": 7
        }
      ]
    },
    {
      "metadata": {
        "id": "1OjRKr-G76pQ",
        "colab_type": "code",
        "colab": {
          "base_uri": "https://localhost:8080/",
          "height": 496
        },
        "outputId": "81c8771d-b4ea-43bf-ac69-45ad12e3f15c"
      },
      "cell_type": "code",
      "source": [
        "data.index = range(data.shape[0])\n",
        "data.head()"
      ],
      "execution_count": 8,
      "outputs": [
        {
          "output_type": "execute_result",
          "data": {
            "text/html": [
              "<div>\n",
              "<style scoped>\n",
              "    .dataframe tbody tr th:only-of-type {\n",
              "        vertical-align: middle;\n",
              "    }\n",
              "\n",
              "    .dataframe tbody tr th {\n",
              "        vertical-align: top;\n",
              "    }\n",
              "\n",
              "    .dataframe thead th {\n",
              "        text-align: right;\n",
              "    }\n",
              "</style>\n",
              "<table border=\"1\" class=\"dataframe\">\n",
              "  <thead>\n",
              "    <tr style=\"text-align: right;\">\n",
              "      <th></th>\n",
              "      <th>Date received</th>\n",
              "      <th>Product</th>\n",
              "      <th>Sub-product</th>\n",
              "      <th>Issue</th>\n",
              "      <th>Sub-issue</th>\n",
              "      <th>Consumer complaint narrative</th>\n",
              "      <th>Company public response</th>\n",
              "      <th>Company</th>\n",
              "      <th>State</th>\n",
              "      <th>ZIP code</th>\n",
              "      <th>Tags</th>\n",
              "      <th>Consumer consent provided?</th>\n",
              "      <th>Submitted via</th>\n",
              "      <th>Date sent to company</th>\n",
              "      <th>Company response to consumer</th>\n",
              "      <th>Timely response?</th>\n",
              "      <th>Consumer disputed?</th>\n",
              "      <th>Complaint ID</th>\n",
              "    </tr>\n",
              "  </thead>\n",
              "  <tbody>\n",
              "    <tr>\n",
              "      <th>0</th>\n",
              "      <td>12/05/16</td>\n",
              "      <td>Mortgage</td>\n",
              "      <td>FHA mortgage</td>\n",
              "      <td>Loan modification,collection,foreclosure</td>\n",
              "      <td>NaN</td>\n",
              "      <td>NaN</td>\n",
              "      <td>Company has responded to the consumer and the ...</td>\n",
              "      <td>WELLS FARGO &amp; COMPANY</td>\n",
              "      <td>NJ</td>\n",
              "      <td>07106</td>\n",
              "      <td>NaN</td>\n",
              "      <td>Consent not provided</td>\n",
              "      <td>Web</td>\n",
              "      <td>12/05/16</td>\n",
              "      <td>Closed with explanation</td>\n",
              "      <td>Yes</td>\n",
              "      <td>No</td>\n",
              "      <td>2236348</td>\n",
              "    </tr>\n",
              "    <tr>\n",
              "      <th>1</th>\n",
              "      <td>01/09/13</td>\n",
              "      <td>Mortgage</td>\n",
              "      <td>Other mortgage</td>\n",
              "      <td>Loan modification,collection,foreclosure</td>\n",
              "      <td>NaN</td>\n",
              "      <td>NaN</td>\n",
              "      <td>NaN</td>\n",
              "      <td>WELLS FARGO &amp; COMPANY</td>\n",
              "      <td>NY</td>\n",
              "      <td>11550</td>\n",
              "      <td>NaN</td>\n",
              "      <td>NaN</td>\n",
              "      <td>Referral</td>\n",
              "      <td>01/11/13</td>\n",
              "      <td>Closed with explanation</td>\n",
              "      <td>Yes</td>\n",
              "      <td>No</td>\n",
              "      <td>225262</td>\n",
              "    </tr>\n",
              "    <tr>\n",
              "      <th>2</th>\n",
              "      <td>06/02/14</td>\n",
              "      <td>Mortgage</td>\n",
              "      <td>Other mortgage</td>\n",
              "      <td>Application, originator, mortgage broker</td>\n",
              "      <td>NaN</td>\n",
              "      <td>NaN</td>\n",
              "      <td>NaN</td>\n",
              "      <td>WELLS FARGO &amp; COMPANY</td>\n",
              "      <td>VA</td>\n",
              "      <td>20109</td>\n",
              "      <td>NaN</td>\n",
              "      <td>NaN</td>\n",
              "      <td>Web</td>\n",
              "      <td>06/02/14</td>\n",
              "      <td>Closed with explanation</td>\n",
              "      <td>Yes</td>\n",
              "      <td>No</td>\n",
              "      <td>876185</td>\n",
              "    </tr>\n",
              "    <tr>\n",
              "      <th>3</th>\n",
              "      <td>03/18/14</td>\n",
              "      <td>Mortgage</td>\n",
              "      <td>Reverse mortgage</td>\n",
              "      <td>Settlement process and costs</td>\n",
              "      <td>NaN</td>\n",
              "      <td>NaN</td>\n",
              "      <td>NaN</td>\n",
              "      <td>WELLS FARGO &amp; COMPANY</td>\n",
              "      <td>CA</td>\n",
              "      <td>93311</td>\n",
              "      <td>NaN</td>\n",
              "      <td>NaN</td>\n",
              "      <td>Web</td>\n",
              "      <td>03/17/14</td>\n",
              "      <td>Closed with explanation</td>\n",
              "      <td>Yes</td>\n",
              "      <td>No</td>\n",
              "      <td>763623</td>\n",
              "    </tr>\n",
              "    <tr>\n",
              "      <th>4</th>\n",
              "      <td>08/06/13</td>\n",
              "      <td>Mortgage</td>\n",
              "      <td>FHA mortgage</td>\n",
              "      <td>Application, originator, mortgage broker</td>\n",
              "      <td>NaN</td>\n",
              "      <td>NaN</td>\n",
              "      <td>NaN</td>\n",
              "      <td>WELLS FARGO &amp; COMPANY</td>\n",
              "      <td>SD</td>\n",
              "      <td>57106</td>\n",
              "      <td>NaN</td>\n",
              "      <td>NaN</td>\n",
              "      <td>Web</td>\n",
              "      <td>08/07/13</td>\n",
              "      <td>Closed with explanation</td>\n",
              "      <td>Yes</td>\n",
              "      <td>Yes</td>\n",
              "      <td>481692</td>\n",
              "    </tr>\n",
              "  </tbody>\n",
              "</table>\n",
              "</div>"
            ],
            "text/plain": [
              "  Date received   Product       Sub-product  \\\n",
              "0      12/05/16  Mortgage      FHA mortgage   \n",
              "1      01/09/13  Mortgage    Other mortgage   \n",
              "2      06/02/14  Mortgage    Other mortgage   \n",
              "3      03/18/14  Mortgage  Reverse mortgage   \n",
              "4      08/06/13  Mortgage      FHA mortgage   \n",
              "\n",
              "                                      Issue  Sub-issue  \\\n",
              "0  Loan modification,collection,foreclosure        NaN   \n",
              "1  Loan modification,collection,foreclosure        NaN   \n",
              "2  Application, originator, mortgage broker        NaN   \n",
              "3              Settlement process and costs        NaN   \n",
              "4  Application, originator, mortgage broker        NaN   \n",
              "\n",
              "  Consumer complaint narrative  \\\n",
              "0                          NaN   \n",
              "1                          NaN   \n",
              "2                          NaN   \n",
              "3                          NaN   \n",
              "4                          NaN   \n",
              "\n",
              "                             Company public response                Company  \\\n",
              "0  Company has responded to the consumer and the ...  WELLS FARGO & COMPANY   \n",
              "1                                                NaN  WELLS FARGO & COMPANY   \n",
              "2                                                NaN  WELLS FARGO & COMPANY   \n",
              "3                                                NaN  WELLS FARGO & COMPANY   \n",
              "4                                                NaN  WELLS FARGO & COMPANY   \n",
              "\n",
              "  State ZIP code Tags Consumer consent provided? Submitted via  \\\n",
              "0    NJ    07106  NaN       Consent not provided           Web   \n",
              "1    NY    11550  NaN                        NaN      Referral   \n",
              "2    VA    20109  NaN                        NaN           Web   \n",
              "3    CA    93311  NaN                        NaN           Web   \n",
              "4    SD    57106  NaN                        NaN           Web   \n",
              "\n",
              "  Date sent to company Company response to consumer Timely response?  \\\n",
              "0             12/05/16      Closed with explanation              Yes   \n",
              "1             01/11/13      Closed with explanation              Yes   \n",
              "2             06/02/14      Closed with explanation              Yes   \n",
              "3             03/17/14      Closed with explanation              Yes   \n",
              "4             08/07/13      Closed with explanation              Yes   \n",
              "\n",
              "  Consumer disputed?  Complaint ID  \n",
              "0                 No       2236348  \n",
              "1                 No        225262  \n",
              "2                 No        876185  \n",
              "3                 No        763623  \n",
              "4                Yes        481692  "
            ]
          },
          "metadata": {
            "tags": []
          },
          "execution_count": 8
        }
      ]
    },
    {
      "metadata": {
        "id": "pHpo_wll8Y3V",
        "colab_type": "code",
        "colab": {
          "base_uri": "https://localhost:8080/",
          "height": 119
        },
        "outputId": "74d3bb4f-ed4a-4512-d2ec-a0d32a8620e9"
      },
      "cell_type": "code",
      "source": [
        "\n",
        "req_cols = ['Date received','Issue','State','Submitted via', 'Date sent to company','Company response to consumer']\n",
        "data.columns"
      ],
      "execution_count": 9,
      "outputs": [
        {
          "output_type": "execute_result",
          "data": {
            "text/plain": [
              "Index(['Date received', 'Product', 'Sub-product', 'Issue', 'Sub-issue',\n",
              "       'Consumer complaint narrative', 'Company public response', 'Company',\n",
              "       'State', 'ZIP code', 'Tags', 'Consumer consent provided?',\n",
              "       'Submitted via', 'Date sent to company', 'Company response to consumer',\n",
              "       'Timely response?', 'Consumer disputed?', 'Complaint ID'],\n",
              "      dtype='object')"
            ]
          },
          "metadata": {
            "tags": []
          },
          "execution_count": 9
        }
      ]
    },
    {
      "metadata": {
        "id": "0gw8YvFAAvDD",
        "colab_type": "code",
        "colab": {
          "base_uri": "https://localhost:8080/",
          "height": 119
        },
        "outputId": "b7d7f21f-bfef-460c-a67d-e48ca157e4c1"
      },
      "cell_type": "code",
      "source": [
        "data.columns"
      ],
      "execution_count": 10,
      "outputs": [
        {
          "output_type": "execute_result",
          "data": {
            "text/plain": [
              "Index(['Date received', 'Product', 'Sub-product', 'Issue', 'Sub-issue',\n",
              "       'Consumer complaint narrative', 'Company public response', 'Company',\n",
              "       'State', 'ZIP code', 'Tags', 'Consumer consent provided?',\n",
              "       'Submitted via', 'Date sent to company', 'Company response to consumer',\n",
              "       'Timely response?', 'Consumer disputed?', 'Complaint ID'],\n",
              "      dtype='object')"
            ]
          },
          "metadata": {
            "tags": []
          },
          "execution_count": 10
        }
      ]
    },
    {
      "metadata": {
        "id": "bGaZu1Xc_K-j",
        "colab_type": "code",
        "colab": {}
      },
      "cell_type": "code",
      "source": [
        "data_req = data[req_cols]"
      ],
      "execution_count": 0,
      "outputs": []
    },
    {
      "metadata": {
        "id": "FKR2PBW-_QIk",
        "colab_type": "code",
        "colab": {
          "base_uri": "https://localhost:8080/",
          "height": 34
        },
        "outputId": "c6f4c23f-f5b0-4eca-e689-bb33313f6ca2"
      },
      "cell_type": "code",
      "source": [
        "data_req.shape"
      ],
      "execution_count": 12,
      "outputs": [
        {
          "output_type": "execute_result",
          "data": {
            "text/plain": [
              "(34481, 6)"
            ]
          },
          "metadata": {
            "tags": []
          },
          "execution_count": 12
        }
      ]
    },
    {
      "metadata": {
        "id": "exaKtRM9B2yH",
        "colab_type": "code",
        "colab": {
          "base_uri": "https://localhost:8080/",
          "height": 68
        },
        "outputId": "8c977476-9b9f-4178-8e1a-77a91a03d650"
      },
      "cell_type": "code",
      "source": [
        "data_req.columns"
      ],
      "execution_count": 13,
      "outputs": [
        {
          "output_type": "execute_result",
          "data": {
            "text/plain": [
              "Index(['Date received', 'Issue', 'State', 'Submitted via',\n",
              "       'Date sent to company', 'Company response to consumer'],\n",
              "      dtype='object')"
            ]
          },
          "metadata": {
            "tags": []
          },
          "execution_count": 13
        }
      ]
    },
    {
      "metadata": {
        "id": "N0SM4rJYK0PK",
        "colab_type": "code",
        "colab": {
          "base_uri": "https://localhost:8080/",
          "height": 221
        },
        "outputId": "50048ae4-6eac-4c5f-9c38-3bd4b2f3b3a2"
      },
      "cell_type": "code",
      "source": [
        "data_req['Date received']=pd.to_datetime(data_req['Date received'])\n",
        "data_req['Date sent to company']=pd.to_datetime(data_req['Date sent to company'])"
      ],
      "execution_count": 14,
      "outputs": [
        {
          "output_type": "stream",
          "text": [
            "/usr/local/lib/python3.6/dist-packages/ipykernel_launcher.py:1: SettingWithCopyWarning: \n",
            "A value is trying to be set on a copy of a slice from a DataFrame.\n",
            "Try using .loc[row_indexer,col_indexer] = value instead\n",
            "\n",
            "See the caveats in the documentation: http://pandas.pydata.org/pandas-docs/stable/indexing.html#indexing-view-versus-copy\n",
            "  \"\"\"Entry point for launching an IPython kernel.\n",
            "/usr/local/lib/python3.6/dist-packages/ipykernel_launcher.py:2: SettingWithCopyWarning: \n",
            "A value is trying to be set on a copy of a slice from a DataFrame.\n",
            "Try using .loc[row_indexer,col_indexer] = value instead\n",
            "\n",
            "See the caveats in the documentation: http://pandas.pydata.org/pandas-docs/stable/indexing.html#indexing-view-versus-copy\n",
            "  \n"
          ],
          "name": "stderr"
        }
      ]
    },
    {
      "metadata": {
        "id": "3Ck-NE03MZiX",
        "colab_type": "code",
        "colab": {
          "base_uri": "https://localhost:8080/",
          "height": 204
        },
        "outputId": "c34829e4-ac9b-4086-d007-940219b3182c"
      },
      "cell_type": "code",
      "source": [
        "data_req.info()"
      ],
      "execution_count": 15,
      "outputs": [
        {
          "output_type": "stream",
          "text": [
            "<class 'pandas.core.frame.DataFrame'>\n",
            "RangeIndex: 34481 entries, 0 to 34480\n",
            "Data columns (total 6 columns):\n",
            "Date received                   34481 non-null datetime64[ns]\n",
            "Issue                           34481 non-null object\n",
            "State                           34113 non-null object\n",
            "Submitted via                   34481 non-null object\n",
            "Date sent to company            34481 non-null datetime64[ns]\n",
            "Company response to consumer    34481 non-null object\n",
            "dtypes: datetime64[ns](2), object(4)\n",
            "memory usage: 1.6+ MB\n"
          ],
          "name": "stdout"
        }
      ]
    },
    {
      "metadata": {
        "id": "LUJfHbiaM48W",
        "colab_type": "code",
        "colab": {
          "base_uri": "https://localhost:8080/",
          "height": 408
        },
        "outputId": "17a1c89a-53d7-4d7c-a086-a802cebf4b03"
      },
      "cell_type": "code",
      "source": [
        "data_req['Time Difference'] = (data_req['Date sent to company']-data_req['Date received']).astype('timedelta64[s]')\n",
        "data_req.loc[data_req['Time Difference'] < 0, 'Time Difference'] = 0\n",
        "data_req.head()"
      ],
      "execution_count": 16,
      "outputs": [
        {
          "output_type": "stream",
          "text": [
            "/usr/local/lib/python3.6/dist-packages/ipykernel_launcher.py:1: SettingWithCopyWarning: \n",
            "A value is trying to be set on a copy of a slice from a DataFrame.\n",
            "Try using .loc[row_indexer,col_indexer] = value instead\n",
            "\n",
            "See the caveats in the documentation: http://pandas.pydata.org/pandas-docs/stable/indexing.html#indexing-view-versus-copy\n",
            "  \"\"\"Entry point for launching an IPython kernel.\n",
            "/usr/local/lib/python3.6/dist-packages/pandas/core/indexing.py:537: SettingWithCopyWarning: \n",
            "A value is trying to be set on a copy of a slice from a DataFrame.\n",
            "Try using .loc[row_indexer,col_indexer] = value instead\n",
            "\n",
            "See the caveats in the documentation: http://pandas.pydata.org/pandas-docs/stable/indexing.html#indexing-view-versus-copy\n",
            "  self.obj[item] = s\n"
          ],
          "name": "stderr"
        },
        {
          "output_type": "execute_result",
          "data": {
            "text/html": [
              "<div>\n",
              "<style scoped>\n",
              "    .dataframe tbody tr th:only-of-type {\n",
              "        vertical-align: middle;\n",
              "    }\n",
              "\n",
              "    .dataframe tbody tr th {\n",
              "        vertical-align: top;\n",
              "    }\n",
              "\n",
              "    .dataframe thead th {\n",
              "        text-align: right;\n",
              "    }\n",
              "</style>\n",
              "<table border=\"1\" class=\"dataframe\">\n",
              "  <thead>\n",
              "    <tr style=\"text-align: right;\">\n",
              "      <th></th>\n",
              "      <th>Date received</th>\n",
              "      <th>Issue</th>\n",
              "      <th>State</th>\n",
              "      <th>Submitted via</th>\n",
              "      <th>Date sent to company</th>\n",
              "      <th>Company response to consumer</th>\n",
              "      <th>Time Difference</th>\n",
              "    </tr>\n",
              "  </thead>\n",
              "  <tbody>\n",
              "    <tr>\n",
              "      <th>0</th>\n",
              "      <td>2016-12-05</td>\n",
              "      <td>Loan modification,collection,foreclosure</td>\n",
              "      <td>NJ</td>\n",
              "      <td>Web</td>\n",
              "      <td>2016-12-05</td>\n",
              "      <td>Closed with explanation</td>\n",
              "      <td>0.0</td>\n",
              "    </tr>\n",
              "    <tr>\n",
              "      <th>1</th>\n",
              "      <td>2013-01-09</td>\n",
              "      <td>Loan modification,collection,foreclosure</td>\n",
              "      <td>NY</td>\n",
              "      <td>Referral</td>\n",
              "      <td>2013-01-11</td>\n",
              "      <td>Closed with explanation</td>\n",
              "      <td>172800.0</td>\n",
              "    </tr>\n",
              "    <tr>\n",
              "      <th>2</th>\n",
              "      <td>2014-06-02</td>\n",
              "      <td>Application, originator, mortgage broker</td>\n",
              "      <td>VA</td>\n",
              "      <td>Web</td>\n",
              "      <td>2014-06-02</td>\n",
              "      <td>Closed with explanation</td>\n",
              "      <td>0.0</td>\n",
              "    </tr>\n",
              "    <tr>\n",
              "      <th>3</th>\n",
              "      <td>2014-03-18</td>\n",
              "      <td>Settlement process and costs</td>\n",
              "      <td>CA</td>\n",
              "      <td>Web</td>\n",
              "      <td>2014-03-17</td>\n",
              "      <td>Closed with explanation</td>\n",
              "      <td>0.0</td>\n",
              "    </tr>\n",
              "    <tr>\n",
              "      <th>4</th>\n",
              "      <td>2013-08-06</td>\n",
              "      <td>Application, originator, mortgage broker</td>\n",
              "      <td>SD</td>\n",
              "      <td>Web</td>\n",
              "      <td>2013-08-07</td>\n",
              "      <td>Closed with explanation</td>\n",
              "      <td>86400.0</td>\n",
              "    </tr>\n",
              "  </tbody>\n",
              "</table>\n",
              "</div>"
            ],
            "text/plain": [
              "  Date received                                     Issue State Submitted via  \\\n",
              "0    2016-12-05  Loan modification,collection,foreclosure    NJ           Web   \n",
              "1    2013-01-09  Loan modification,collection,foreclosure    NY      Referral   \n",
              "2    2014-06-02  Application, originator, mortgage broker    VA           Web   \n",
              "3    2014-03-18              Settlement process and costs    CA           Web   \n",
              "4    2013-08-06  Application, originator, mortgage broker    SD           Web   \n",
              "\n",
              "  Date sent to company Company response to consumer  Time Difference  \n",
              "0           2016-12-05      Closed with explanation              0.0  \n",
              "1           2013-01-11      Closed with explanation         172800.0  \n",
              "2           2014-06-02      Closed with explanation              0.0  \n",
              "3           2014-03-17      Closed with explanation              0.0  \n",
              "4           2013-08-07      Closed with explanation          86400.0  "
            ]
          },
          "metadata": {
            "tags": []
          },
          "execution_count": 16
        }
      ]
    },
    {
      "metadata": {
        "id": "r4yvSJWwNscO",
        "colab_type": "code",
        "colab": {
          "base_uri": "https://localhost:8080/",
          "height": 119
        },
        "outputId": "e0c8ce11-75f3-4fb7-c82a-ab54b9f6eaed"
      },
      "cell_type": "code",
      "source": [
        "from sklearn.preprocessing import MinMaxScaler\n",
        "values=data_req['Time Difference'].values.reshape((len(data_req['Time Difference']), 1))\n",
        "# train the normalization\n",
        "scaler = MinMaxScaler(feature_range=(0, 1))\n",
        "scaler = scaler.fit(values)\n",
        "# normalize the dataset\n",
        "data_req['Time Difference'] = scaler.transform(values)"
      ],
      "execution_count": 17,
      "outputs": [
        {
          "output_type": "stream",
          "text": [
            "/usr/local/lib/python3.6/dist-packages/ipykernel_launcher.py:7: SettingWithCopyWarning: \n",
            "A value is trying to be set on a copy of a slice from a DataFrame.\n",
            "Try using .loc[row_indexer,col_indexer] = value instead\n",
            "\n",
            "See the caveats in the documentation: http://pandas.pydata.org/pandas-docs/stable/indexing.html#indexing-view-versus-copy\n",
            "  import sys\n"
          ],
          "name": "stderr"
        }
      ]
    },
    {
      "metadata": {
        "id": "TI9NIxErOT6I",
        "colab_type": "code",
        "colab": {
          "base_uri": "https://localhost:8080/",
          "height": 204
        },
        "outputId": "c24291e5-eb5f-47d6-eb1d-c4a7d5bbf21c"
      },
      "cell_type": "code",
      "source": [
        "data_req.head()"
      ],
      "execution_count": 18,
      "outputs": [
        {
          "output_type": "execute_result",
          "data": {
            "text/html": [
              "<div>\n",
              "<style scoped>\n",
              "    .dataframe tbody tr th:only-of-type {\n",
              "        vertical-align: middle;\n",
              "    }\n",
              "\n",
              "    .dataframe tbody tr th {\n",
              "        vertical-align: top;\n",
              "    }\n",
              "\n",
              "    .dataframe thead th {\n",
              "        text-align: right;\n",
              "    }\n",
              "</style>\n",
              "<table border=\"1\" class=\"dataframe\">\n",
              "  <thead>\n",
              "    <tr style=\"text-align: right;\">\n",
              "      <th></th>\n",
              "      <th>Date received</th>\n",
              "      <th>Issue</th>\n",
              "      <th>State</th>\n",
              "      <th>Submitted via</th>\n",
              "      <th>Date sent to company</th>\n",
              "      <th>Company response to consumer</th>\n",
              "      <th>Time Difference</th>\n",
              "    </tr>\n",
              "  </thead>\n",
              "  <tbody>\n",
              "    <tr>\n",
              "      <th>0</th>\n",
              "      <td>2016-12-05</td>\n",
              "      <td>Loan modification,collection,foreclosure</td>\n",
              "      <td>NJ</td>\n",
              "      <td>Web</td>\n",
              "      <td>2016-12-05</td>\n",
              "      <td>Closed with explanation</td>\n",
              "      <td>0.000000</td>\n",
              "    </tr>\n",
              "    <tr>\n",
              "      <th>1</th>\n",
              "      <td>2013-01-09</td>\n",
              "      <td>Loan modification,collection,foreclosure</td>\n",
              "      <td>NY</td>\n",
              "      <td>Referral</td>\n",
              "      <td>2013-01-11</td>\n",
              "      <td>Closed with explanation</td>\n",
              "      <td>0.003846</td>\n",
              "    </tr>\n",
              "    <tr>\n",
              "      <th>2</th>\n",
              "      <td>2014-06-02</td>\n",
              "      <td>Application, originator, mortgage broker</td>\n",
              "      <td>VA</td>\n",
              "      <td>Web</td>\n",
              "      <td>2014-06-02</td>\n",
              "      <td>Closed with explanation</td>\n",
              "      <td>0.000000</td>\n",
              "    </tr>\n",
              "    <tr>\n",
              "      <th>3</th>\n",
              "      <td>2014-03-18</td>\n",
              "      <td>Settlement process and costs</td>\n",
              "      <td>CA</td>\n",
              "      <td>Web</td>\n",
              "      <td>2014-03-17</td>\n",
              "      <td>Closed with explanation</td>\n",
              "      <td>0.000000</td>\n",
              "    </tr>\n",
              "    <tr>\n",
              "      <th>4</th>\n",
              "      <td>2013-08-06</td>\n",
              "      <td>Application, originator, mortgage broker</td>\n",
              "      <td>SD</td>\n",
              "      <td>Web</td>\n",
              "      <td>2013-08-07</td>\n",
              "      <td>Closed with explanation</td>\n",
              "      <td>0.001923</td>\n",
              "    </tr>\n",
              "  </tbody>\n",
              "</table>\n",
              "</div>"
            ],
            "text/plain": [
              "  Date received                                     Issue State Submitted via  \\\n",
              "0    2016-12-05  Loan modification,collection,foreclosure    NJ           Web   \n",
              "1    2013-01-09  Loan modification,collection,foreclosure    NY      Referral   \n",
              "2    2014-06-02  Application, originator, mortgage broker    VA           Web   \n",
              "3    2014-03-18              Settlement process and costs    CA           Web   \n",
              "4    2013-08-06  Application, originator, mortgage broker    SD           Web   \n",
              "\n",
              "  Date sent to company Company response to consumer  Time Difference  \n",
              "0           2016-12-05      Closed with explanation         0.000000  \n",
              "1           2013-01-11      Closed with explanation         0.003846  \n",
              "2           2014-06-02      Closed with explanation         0.000000  \n",
              "3           2014-03-17      Closed with explanation         0.000000  \n",
              "4           2013-08-07      Closed with explanation         0.001923  "
            ]
          },
          "metadata": {
            "tags": []
          },
          "execution_count": 18
        }
      ]
    },
    {
      "metadata": {
        "id": "T-8lBkHDOvnM",
        "colab_type": "code",
        "colab": {}
      },
      "cell_type": "code",
      "source": [
        "data_req=data_req.drop(data_req.columns[[0, 4]], axis=1)\n",
        "data_req = data_req[data_req.State.isin(['AK','AL','AR','AZ','CA','CO','CT','DC','DE','FL','GA','HI','IA','ID','IL','IN','KS','KY','LA','MA','MD','ME','MI','MN','MO','MS','MT','NC','ND','NE','NH','NJ','NM','NV','NY','OH','OK','OR','PA','PR','RI','SC','SD','TN','TX','UT','VA','VT','WA','WI','WV','WY'])]\n",
        "\n",
        "data_req.info()"
      ],
      "execution_count": 0,
      "outputs": []
    },
    {
      "metadata": {
        "id": "13JwFXVQsGdv",
        "colab_type": "code",
        "colab": {
          "base_uri": "https://localhost:8080/",
          "height": 204
        },
        "outputId": "764a6bf6-881d-44e5-f0bd-a5934d9fe9ff"
      },
      "cell_type": "code",
      "source": [
        "data_req.head()"
      ],
      "execution_count": 20,
      "outputs": [
        {
          "output_type": "execute_result",
          "data": {
            "text/html": [
              "<div>\n",
              "<style scoped>\n",
              "    .dataframe tbody tr th:only-of-type {\n",
              "        vertical-align: middle;\n",
              "    }\n",
              "\n",
              "    .dataframe tbody tr th {\n",
              "        vertical-align: top;\n",
              "    }\n",
              "\n",
              "    .dataframe thead th {\n",
              "        text-align: right;\n",
              "    }\n",
              "</style>\n",
              "<table border=\"1\" class=\"dataframe\">\n",
              "  <thead>\n",
              "    <tr style=\"text-align: right;\">\n",
              "      <th></th>\n",
              "      <th>Issue</th>\n",
              "      <th>State</th>\n",
              "      <th>Submitted via</th>\n",
              "      <th>Company response to consumer</th>\n",
              "      <th>Time Difference</th>\n",
              "    </tr>\n",
              "  </thead>\n",
              "  <tbody>\n",
              "    <tr>\n",
              "      <th>0</th>\n",
              "      <td>Loan modification,collection,foreclosure</td>\n",
              "      <td>NJ</td>\n",
              "      <td>Web</td>\n",
              "      <td>Closed with explanation</td>\n",
              "      <td>0.000000</td>\n",
              "    </tr>\n",
              "    <tr>\n",
              "      <th>1</th>\n",
              "      <td>Loan modification,collection,foreclosure</td>\n",
              "      <td>NY</td>\n",
              "      <td>Referral</td>\n",
              "      <td>Closed with explanation</td>\n",
              "      <td>0.003846</td>\n",
              "    </tr>\n",
              "    <tr>\n",
              "      <th>2</th>\n",
              "      <td>Application, originator, mortgage broker</td>\n",
              "      <td>VA</td>\n",
              "      <td>Web</td>\n",
              "      <td>Closed with explanation</td>\n",
              "      <td>0.000000</td>\n",
              "    </tr>\n",
              "    <tr>\n",
              "      <th>3</th>\n",
              "      <td>Settlement process and costs</td>\n",
              "      <td>CA</td>\n",
              "      <td>Web</td>\n",
              "      <td>Closed with explanation</td>\n",
              "      <td>0.000000</td>\n",
              "    </tr>\n",
              "    <tr>\n",
              "      <th>4</th>\n",
              "      <td>Application, originator, mortgage broker</td>\n",
              "      <td>SD</td>\n",
              "      <td>Web</td>\n",
              "      <td>Closed with explanation</td>\n",
              "      <td>0.001923</td>\n",
              "    </tr>\n",
              "  </tbody>\n",
              "</table>\n",
              "</div>"
            ],
            "text/plain": [
              "                                      Issue State Submitted via  \\\n",
              "0  Loan modification,collection,foreclosure    NJ           Web   \n",
              "1  Loan modification,collection,foreclosure    NY      Referral   \n",
              "2  Application, originator, mortgage broker    VA           Web   \n",
              "3              Settlement process and costs    CA           Web   \n",
              "4  Application, originator, mortgage broker    SD           Web   \n",
              "\n",
              "  Company response to consumer  Time Difference  \n",
              "0      Closed with explanation         0.000000  \n",
              "1      Closed with explanation         0.003846  \n",
              "2      Closed with explanation         0.000000  \n",
              "3      Closed with explanation         0.000000  \n",
              "4      Closed with explanation         0.001923  "
            ]
          },
          "metadata": {
            "tags": []
          },
          "execution_count": 20
        }
      ]
    },
    {
      "metadata": {
        "id": "T-HIUdp9THnY",
        "colab_type": "code",
        "colab": {
          "base_uri": "https://localhost:8080/",
          "height": 289
        },
        "outputId": "5a87e941-b349-40ca-b6be-ffed9943bc17"
      },
      "cell_type": "code",
      "source": [
        "data_req['Issue'].value_counts(dropna=False)"
      ],
      "execution_count": 21,
      "outputs": [
        {
          "output_type": "execute_result",
          "data": {
            "text/plain": [
              "Loan modification,collection,foreclosure                                            17187\n",
              "Loan servicing, payments, escrow account                                             7955\n",
              "Application, originator, mortgage broker                                             2554\n",
              "Struggling to pay mortgage                                                           1651\n",
              "Trouble during payment process                                                       1406\n",
              "Settlement process and costs                                                         1081\n",
              "Credit decision / Underwriting                                                        858\n",
              "Other                                                                                 708\n",
              "Applying for a mortgage or refinancing an existing mortgage                           301\n",
              "Closing on a mortgage                                                                 225\n",
              "Incorrect information on your report                                                   75\n",
              "Applying for a mortgage                                                                53\n",
              "Problem with a credit reporting company's investigation into an existing problem       20\n",
              "Improper use of your report                                                             4\n",
              "Unable to get your credit report or credit score                                        3\n",
              "Name: Issue, dtype: int64"
            ]
          },
          "metadata": {
            "tags": []
          },
          "execution_count": 21
        }
      ]
    },
    {
      "metadata": {
        "id": "ihEUdbUnUvT_",
        "colab_type": "code",
        "colab": {
          "base_uri": "https://localhost:8080/",
          "height": 918
        },
        "outputId": "2ba03f8d-d5a0-4f22-cf04-422e0546bb72"
      },
      "cell_type": "code",
      "source": [
        "data_req['State'].value_counts(dropna=False)"
      ],
      "execution_count": 22,
      "outputs": [
        {
          "output_type": "execute_result",
          "data": {
            "text/plain": [
              "CA    6641\n",
              "FL    3580\n",
              "NY    2429\n",
              "NJ    2159\n",
              "GA    1662\n",
              "TX    1628\n",
              "MD    1355\n",
              "PA    1293\n",
              "VA    1092\n",
              "NC    1050\n",
              "IL    1041\n",
              "WA     797\n",
              "AZ     744\n",
              "OH     660\n",
              "MA     619\n",
              "MI     531\n",
              "CO     522\n",
              "MN     517\n",
              "OR     465\n",
              "SC     389\n",
              "CT     388\n",
              "NV     364\n",
              "MO     346\n",
              "TN     331\n",
              "WI     329\n",
              "LA     257\n",
              "IN     250\n",
              "AL     248\n",
              "UT     194\n",
              "DC     184\n",
              "DE     171\n",
              "NH     159\n",
              "KY     147\n",
              "IA     132\n",
              "NM     125\n",
              "OK     124\n",
              "HI     116\n",
              "NE     112\n",
              "ID     108\n",
              "KS     108\n",
              "AR     104\n",
              "ME      96\n",
              "MS      89\n",
              "RI      87\n",
              "AK      74\n",
              "MT      59\n",
              "WV      58\n",
              "SD      43\n",
              "VT      33\n",
              "WY      33\n",
              "ND      32\n",
              "PR       6\n",
              "Name: State, dtype: int64"
            ]
          },
          "metadata": {
            "tags": []
          },
          "execution_count": 22
        }
      ]
    },
    {
      "metadata": {
        "id": "USZY_CTRU1-U",
        "colab_type": "code",
        "colab": {
          "base_uri": "https://localhost:8080/",
          "height": 136
        },
        "outputId": "68a37d97-a9c5-490f-8917-1ee328374401"
      },
      "cell_type": "code",
      "source": [
        "data_req['Submitted via'].value_counts(dropna=False)"
      ],
      "execution_count": 23,
      "outputs": [
        {
          "output_type": "execute_result",
          "data": {
            "text/plain": [
              "Web            18303\n",
              "Referral       11262\n",
              "Phone           1927\n",
              "Postal mail     1842\n",
              "Fax              727\n",
              "Email             20\n",
              "Name: Submitted via, dtype: int64"
            ]
          },
          "metadata": {
            "tags": []
          },
          "execution_count": 23
        }
      ]
    },
    {
      "metadata": {
        "id": "0H3FpR3yVTiU",
        "colab_type": "code",
        "colab": {
          "base_uri": "https://localhost:8080/",
          "height": 170
        },
        "outputId": "ffbfa8b1-01d4-48b4-8c43-7f92c10de7c4"
      },
      "cell_type": "code",
      "source": [
        "data_req['Company response to consumer'].value_counts(dropna=False)"
      ],
      "execution_count": 24,
      "outputs": [
        {
          "output_type": "execute_result",
          "data": {
            "text/plain": [
              "Closed with explanation            29158\n",
              "Closed without relief               1960\n",
              "Closed with non-monetary relief     1622\n",
              "Closed with monetary relief         1055\n",
              "In progress                          161\n",
              "Closed                                64\n",
              "Closed with relief                    57\n",
              "Untimely response                      4\n",
              "Name: Company response to consumer, dtype: int64"
            ]
          },
          "metadata": {
            "tags": []
          },
          "execution_count": 24
        }
      ]
    },
    {
      "metadata": {
        "id": "VsgpYY56VbDl",
        "colab_type": "code",
        "colab": {
          "base_uri": "https://localhost:8080/",
          "height": 1071
        },
        "outputId": "9abbd1d6-5d30-4ed0-8b5a-faf66c40c69f"
      },
      "cell_type": "code",
      "source": [
        "data_req['Time Difference'].value_counts(dropna=False)"
      ],
      "execution_count": 26,
      "outputs": [
        {
          "output_type": "execute_result",
          "data": {
            "text/plain": [
              "0.000000    13869\n",
              "0.001923     6012\n",
              "0.003846     3376\n",
              "0.005769     2542\n",
              "0.007692     2347\n",
              "0.009615     2009\n",
              "0.011538     1293\n",
              "0.013462      832\n",
              "0.015385      286\n",
              "0.017308      142\n",
              "0.019231      142\n",
              "0.028846       95\n",
              "0.025000       91\n",
              "0.021154       85\n",
              "0.023077       85\n",
              "0.026923       68\n",
              "0.032692       63\n",
              "0.030769       43\n",
              "0.036538       38\n",
              "0.067308       36\n",
              "0.042308       34\n",
              "0.038462       32\n",
              "0.040385       32\n",
              "0.034615       30\n",
              "0.055769       24\n",
              "0.053846       24\n",
              "0.044231       23\n",
              "0.046154       22\n",
              "0.069231       22\n",
              "0.075000       22\n",
              "            ...  \n",
              "0.317308        1\n",
              "0.513462        1\n",
              "0.269231        1\n",
              "1.000000        1\n",
              "0.690385        1\n",
              "0.263462        1\n",
              "0.298077        1\n",
              "0.425000        1\n",
              "0.176923        1\n",
              "0.496154        1\n",
              "0.494231        1\n",
              "0.113462        1\n",
              "0.390385        1\n",
              "0.523077        1\n",
              "0.250000        1\n",
              "0.203846        1\n",
              "0.253846        1\n",
              "0.480769        1\n",
              "0.484615        1\n",
              "0.342308        1\n",
              "0.557692        1\n",
              "0.126923        1\n",
              "0.225000        1\n",
              "0.209615        1\n",
              "0.142308        1\n",
              "0.363462        1\n",
              "0.401923        1\n",
              "0.194231        1\n",
              "0.169231        1\n",
              "0.186538        1\n",
              "Name: Time Difference, Length: 148, dtype: int64"
            ]
          },
          "metadata": {
            "tags": []
          },
          "execution_count": 26
        }
      ]
    },
    {
      "metadata": {
        "id": "VVYWjSUuWK5W",
        "colab_type": "code",
        "colab": {}
      },
      "cell_type": "code",
      "source": [
        "data_req=data_req.dropna(how='any')  "
      ],
      "execution_count": 0,
      "outputs": []
    },
    {
      "metadata": {
        "id": "xzu-XLi5Y42B",
        "colab_type": "code",
        "colab": {}
      },
      "cell_type": "code",
      "source": [
        ""
      ],
      "execution_count": 0,
      "outputs": []
    },
    {
      "metadata": {
        "id": "wmKey6UyY9qd",
        "colab_type": "code",
        "colab": {
          "base_uri": "https://localhost:8080/",
          "height": 204
        },
        "outputId": "c8351bf4-63d9-440a-e967-56f40e3ff9bc"
      },
      "cell_type": "code",
      "source": [
        "#data_req[:5]['Total Days'] / np.timedelta64(1, 's')\n",
        "data_req.head()"
      ],
      "execution_count": 28,
      "outputs": [
        {
          "output_type": "execute_result",
          "data": {
            "text/html": [
              "<div>\n",
              "<style scoped>\n",
              "    .dataframe tbody tr th:only-of-type {\n",
              "        vertical-align: middle;\n",
              "    }\n",
              "\n",
              "    .dataframe tbody tr th {\n",
              "        vertical-align: top;\n",
              "    }\n",
              "\n",
              "    .dataframe thead th {\n",
              "        text-align: right;\n",
              "    }\n",
              "</style>\n",
              "<table border=\"1\" class=\"dataframe\">\n",
              "  <thead>\n",
              "    <tr style=\"text-align: right;\">\n",
              "      <th></th>\n",
              "      <th>Issue</th>\n",
              "      <th>State</th>\n",
              "      <th>Submitted via</th>\n",
              "      <th>Company response to consumer</th>\n",
              "      <th>Time Difference</th>\n",
              "    </tr>\n",
              "  </thead>\n",
              "  <tbody>\n",
              "    <tr>\n",
              "      <th>0</th>\n",
              "      <td>Loan modification,collection,foreclosure</td>\n",
              "      <td>NJ</td>\n",
              "      <td>Web</td>\n",
              "      <td>Closed with explanation</td>\n",
              "      <td>0.000000</td>\n",
              "    </tr>\n",
              "    <tr>\n",
              "      <th>1</th>\n",
              "      <td>Loan modification,collection,foreclosure</td>\n",
              "      <td>NY</td>\n",
              "      <td>Referral</td>\n",
              "      <td>Closed with explanation</td>\n",
              "      <td>0.003846</td>\n",
              "    </tr>\n",
              "    <tr>\n",
              "      <th>2</th>\n",
              "      <td>Application, originator, mortgage broker</td>\n",
              "      <td>VA</td>\n",
              "      <td>Web</td>\n",
              "      <td>Closed with explanation</td>\n",
              "      <td>0.000000</td>\n",
              "    </tr>\n",
              "    <tr>\n",
              "      <th>3</th>\n",
              "      <td>Settlement process and costs</td>\n",
              "      <td>CA</td>\n",
              "      <td>Web</td>\n",
              "      <td>Closed with explanation</td>\n",
              "      <td>0.000000</td>\n",
              "    </tr>\n",
              "    <tr>\n",
              "      <th>4</th>\n",
              "      <td>Application, originator, mortgage broker</td>\n",
              "      <td>SD</td>\n",
              "      <td>Web</td>\n",
              "      <td>Closed with explanation</td>\n",
              "      <td>0.001923</td>\n",
              "    </tr>\n",
              "  </tbody>\n",
              "</table>\n",
              "</div>"
            ],
            "text/plain": [
              "                                      Issue State Submitted via  \\\n",
              "0  Loan modification,collection,foreclosure    NJ           Web   \n",
              "1  Loan modification,collection,foreclosure    NY      Referral   \n",
              "2  Application, originator, mortgage broker    VA           Web   \n",
              "3              Settlement process and costs    CA           Web   \n",
              "4  Application, originator, mortgage broker    SD           Web   \n",
              "\n",
              "  Company response to consumer  Time Difference  \n",
              "0      Closed with explanation         0.000000  \n",
              "1      Closed with explanation         0.003846  \n",
              "2      Closed with explanation         0.000000  \n",
              "3      Closed with explanation         0.000000  \n",
              "4      Closed with explanation         0.001923  "
            ]
          },
          "metadata": {
            "tags": []
          },
          "execution_count": 28
        }
      ]
    },
    {
      "metadata": {
        "id": "hwOfmmY_ZnaR",
        "colab_type": "code",
        "colab": {}
      },
      "cell_type": "code",
      "source": [
        "#data_req=data_req.drop(['Total Days'])\n",
        "#del data_req['Total Days']\n",
        "data_req.head()"
      ],
      "execution_count": 0,
      "outputs": []
    },
    {
      "metadata": {
        "id": "U1vZhBzten_d",
        "colab_type": "code",
        "colab": {
          "base_uri": "https://localhost:8080/",
          "height": 85
        },
        "outputId": "81666464-9acf-4667-f5e6-6f1114f1e3a3"
      },
      "cell_type": "code",
      "source": [
        "!pip install kmodes"
      ],
      "execution_count": 29,
      "outputs": [
        {
          "output_type": "stream",
          "text": [
            "Requirement already satisfied: kmodes in /usr/local/lib/python3.6/dist-packages (0.9)\r\n",
            "Requirement already satisfied: numpy>=1.10.4 in /usr/local/lib/python3.6/dist-packages (from kmodes) (1.14.5)\r\n",
            "Requirement already satisfied: scipy>=0.13.3 in /usr/local/lib/python3.6/dist-packages (from kmodes) (0.19.1)\r\n",
            "Requirement already satisfied: scikit-learn<0.20.0,>=0.19.0 in /usr/local/lib/python3.6/dist-packages (from kmodes) (0.19.2)\r\n"
          ],
          "name": "stdout"
        }
      ]
    },
    {
      "metadata": {
        "id": "AZYgFcLVeoSV",
        "colab_type": "code",
        "colab": {}
      },
      "cell_type": "code",
      "source": [
        "from kmodes.kprototypes import KPrototypes"
      ],
      "execution_count": 0,
      "outputs": []
    },
    {
      "metadata": {
        "id": "pD1bpd8ejtbN",
        "colab_type": "code",
        "colab": {}
      },
      "cell_type": "code",
      "source": [
        "km = KPrototypes(n_clusters=10, init='Huang', n_init=10, verbose=1)"
      ],
      "execution_count": 0,
      "outputs": []
    },
    {
      "metadata": {
        "id": "qXH97qFGjtwE",
        "colab_type": "code",
        "colab": {
          "base_uri": "https://localhost:8080/",
          "height": 1598
        },
        "outputId": "1c93b09b-91b0-4fa8-8b26-6e62e63dc01f"
      },
      "cell_type": "code",
      "source": [
        "#clusters = km.fit_predict(data_req_new)\n",
        "clusters = km.fit_predict(data_req.as_matrix(), categorical=list(range(0,4)))"
      ],
      "execution_count": 37,
      "outputs": [
        {
          "output_type": "stream",
          "text": [
            "Init: initializing centroids\n",
            "Init: initializing clusters\n",
            "Starting iterations...\n",
            "Run: 1, iteration: 1/100, moves: 16644, ncost: 465.0998108967769\n",
            "Run: 1, iteration: 2/100, moves: 1177, ncost: 465.09745774118716\n",
            "Run: 1, iteration: 3/100, moves: 4, ncost: 465.097457662929\n",
            "Run: 1, iteration: 4/100, moves: 0, ncost: 465.097457662929\n",
            "Init: initializing centroids\n",
            "Init: initializing clusters\n",
            "Starting iterations...\n",
            "Run: 2, iteration: 1/100, moves: 12212, ncost: 508.333202611444\n",
            "Run: 2, iteration: 2/100, moves: 2447, ncost: 503.9261702446859\n",
            "Run: 2, iteration: 3/100, moves: 419, ncost: 503.57734416595275\n",
            "Run: 2, iteration: 4/100, moves: 129, ncost: 503.55920733987534\n",
            "Run: 2, iteration: 5/100, moves: 4, ncost: 503.55920707937764\n",
            "Run: 2, iteration: 6/100, moves: 0, ncost: 503.55920707937764\n",
            "Init: initializing centroids\n",
            "Init: initializing clusters\n",
            "Starting iterations...\n",
            "Run: 3, iteration: 1/100, moves: 14348, ncost: 464.20512780125506\n",
            "Run: 3, iteration: 2/100, moves: 2822, ncost: 464.16977181226406\n",
            "Run: 3, iteration: 3/100, moves: 747, ncost: 464.16923936097953\n",
            "Run: 3, iteration: 4/100, moves: 65, ncost: 464.1692361669275\n",
            "Run: 3, iteration: 5/100, moves: 0, ncost: 464.1692361669275\n",
            "Init: initializing centroids\n",
            "Init: initializing clusters\n",
            "Starting iterations...\n",
            "Run: 4, iteration: 1/100, moves: 7020, ncost: 466.54291667333547\n",
            "Run: 4, iteration: 2/100, moves: 3228, ncost: 466.48717452539563\n",
            "Run: 4, iteration: 3/100, moves: 371, ncost: 466.48303985640433\n",
            "Run: 4, iteration: 4/100, moves: 1, ncost: 466.48303974318\n",
            "Run: 4, iteration: 5/100, moves: 0, ncost: 466.48303974318\n",
            "Init: initializing centroids\n",
            "Init: initializing clusters\n",
            "Starting iterations...\n",
            "Run: 5, iteration: 1/100, moves: 12638, ncost: 493.6049691011233\n",
            "Run: 5, iteration: 2/100, moves: 4066, ncost: 493.5761947620341\n",
            "Run: 5, iteration: 3/100, moves: 2546, ncost: 474.6225667679139\n",
            "Run: 5, iteration: 4/100, moves: 1229, ncost: 474.60718604292094\n",
            "Run: 5, iteration: 5/100, moves: 902, ncost: 474.6003323277041\n",
            "Run: 5, iteration: 6/100, moves: 82, ncost: 474.6002975015081\n",
            "Run: 5, iteration: 7/100, moves: 0, ncost: 474.6002975015081\n",
            "Init: initializing centroids\n",
            "Init: initializing clusters\n",
            "Starting iterations...\n",
            "Run: 6, iteration: 1/100, moves: 10325, ncost: 480.2005023752215\n",
            "Run: 6, iteration: 2/100, moves: 3173, ncost: 480.16231131187965\n",
            "Run: 6, iteration: 3/100, moves: 495, ncost: 480.1597951202209\n",
            "Run: 6, iteration: 4/100, moves: 86, ncost: 480.15902912974514\n",
            "Run: 6, iteration: 5/100, moves: 29, ncost: 480.15896245475795\n",
            "Run: 6, iteration: 6/100, moves: 4, ncost: 480.15896193322976\n",
            "Run: 6, iteration: 7/100, moves: 0, ncost: 480.15896193322976\n",
            "Init: initializing centroids\n",
            "Init: initializing clusters\n",
            "Starting iterations...\n",
            "Run: 7, iteration: 1/100, moves: 10778, ncost: 491.6890516177433\n",
            "Run: 7, iteration: 2/100, moves: 4850, ncost: 491.55130194868616\n",
            "Run: 7, iteration: 3/100, moves: 688, ncost: 491.14452077556837\n",
            "Run: 7, iteration: 4/100, moves: 1764, ncost: 487.5013716890054\n",
            "Run: 7, iteration: 5/100, moves: 1193, ncost: 487.4980177171223\n",
            "Run: 7, iteration: 6/100, moves: 123, ncost: 487.4979557814629\n",
            "Run: 7, iteration: 7/100, moves: 0, ncost: 487.4979557814629\n",
            "Init: initializing centroids\n",
            "Init: initializing clusters\n",
            "Starting iterations...\n",
            "Run: 8, iteration: 1/100, moves: 11755, ncost: 497.84209013116345\n",
            "Run: 8, iteration: 2/100, moves: 5525, ncost: 496.55318673633\n",
            "Run: 8, iteration: 3/100, moves: 2028, ncost: 494.01013768620015\n",
            "Run: 8, iteration: 4/100, moves: 101, ncost: 494.0101296134153\n",
            "Run: 8, iteration: 5/100, moves: 0, ncost: 494.0101296134153\n",
            "Init: initializing centroids\n",
            "Init: initializing clusters\n",
            "Starting iterations...\n",
            "Run: 9, iteration: 1/100, moves: 8799, ncost: 479.13230578806224\n",
            "Run: 9, iteration: 2/100, moves: 1432, ncost: 479.0961730940504\n",
            "Run: 9, iteration: 3/100, moves: 53, ncost: 479.0857529196225\n",
            "Run: 9, iteration: 4/100, moves: 33, ncost: 479.08456222506493\n",
            "Run: 9, iteration: 5/100, moves: 4, ncost: 479.08455888240104\n",
            "Run: 9, iteration: 6/100, moves: 0, ncost: 479.08455888240104\n",
            "Init: initializing centroids\n",
            "Init: initializing clusters\n",
            "Starting iterations...\n",
            "Run: 10, iteration: 1/100, moves: 7951, ncost: 484.9051344142957\n",
            "Run: 10, iteration: 2/100, moves: 1863, ncost: 481.05547300883256\n",
            "Run: 10, iteration: 3/100, moves: 766, ncost: 480.801715135689\n",
            "Run: 10, iteration: 4/100, moves: 833, ncost: 480.7121223591202\n",
            "Run: 10, iteration: 5/100, moves: 1156, ncost: 480.4833555166958\n",
            "Run: 10, iteration: 6/100, moves: 168, ncost: 480.13441747097204\n",
            "Run: 10, iteration: 7/100, moves: 793, ncost: 480.042551910507\n",
            "Run: 10, iteration: 8/100, moves: 91, ncost: 479.73697379257374\n",
            "Run: 10, iteration: 9/100, moves: 11, ncost: 479.73691451571403\n",
            "Run: 10, iteration: 10/100, moves: 0, ncost: 479.73691451571403\n",
            "Best run was number 3\n"
          ],
          "name": "stdout"
        }
      ]
    },
    {
      "metadata": {
        "id": "1kqEPYR5l0tu",
        "colab_type": "code",
        "colab": {
          "base_uri": "https://localhost:8080/",
          "height": 765
        },
        "outputId": "c6e8f252-e5b6-4b40-aee2-e8dfe3d260c2"
      },
      "cell_type": "code",
      "source": [
        "from kmodes.kprototypes import KPrototypes\n",
        "km = KPrototypes(n_clusters=10, init='Huang', n_init=5, verbose=1)\n",
        "clusters = km.fit_predict(data_req.as_matrix(), categorical=list(range(0,4)))"
      ],
      "execution_count": 38,
      "outputs": [
        {
          "output_type": "stream",
          "text": [
            "Init: initializing centroids\n",
            "Init: initializing clusters\n",
            "Starting iterations...\n",
            "Run: 1, iteration: 1/100, moves: 13888, ncost: 451.16957165494426\n",
            "Run: 1, iteration: 2/100, moves: 3800, ncost: 449.43089406263715\n",
            "Run: 1, iteration: 3/100, moves: 285, ncost: 449.4062139988315\n",
            "Run: 1, iteration: 4/100, moves: 872, ncost: 449.4038134378951\n",
            "Run: 1, iteration: 5/100, moves: 1412, ncost: 449.4014470473898\n",
            "Run: 1, iteration: 6/100, moves: 46, ncost: 449.40144407768554\n",
            "Run: 1, iteration: 7/100, moves: 0, ncost: 449.40144407768554\n",
            "Init: initializing centroids\n",
            "Init: initializing clusters\n",
            "Starting iterations...\n",
            "Run: 2, iteration: 1/100, moves: 10919, ncost: 482.364251556276\n",
            "Run: 2, iteration: 2/100, moves: 2477, ncost: 479.1805800662332\n",
            "Run: 2, iteration: 3/100, moves: 139, ncost: 479.06608161889204\n",
            "Run: 2, iteration: 4/100, moves: 5, ncost: 479.06608142000056\n",
            "Run: 2, iteration: 5/100, moves: 0, ncost: 479.06608142000056\n",
            "Init: initializing centroids\n",
            "Init: initializing clusters\n",
            "Starting iterations...\n",
            "Run: 3, iteration: 1/100, moves: 10574, ncost: 486.4364596905532\n",
            "Run: 3, iteration: 2/100, moves: 359, ncost: 486.4364499614029\n",
            "Run: 3, iteration: 3/100, moves: 76, ncost: 486.4364499353164\n",
            "Run: 3, iteration: 4/100, moves: 0, ncost: 486.4364499353164\n",
            "Init: initializing centroids\n",
            "Init: initializing clusters\n",
            "Starting iterations...\n",
            "Run: 4, iteration: 1/100, moves: 12108, ncost: 473.4506640639487\n",
            "Run: 4, iteration: 2/100, moves: 2898, ncost: 469.17532347865114\n",
            "Run: 4, iteration: 3/100, moves: 1364, ncost: 464.12040181436794\n",
            "Run: 4, iteration: 4/100, moves: 2451, ncost: 463.7500225888972\n",
            "Run: 4, iteration: 5/100, moves: 1230, ncost: 463.74619396207714\n",
            "Run: 4, iteration: 6/100, moves: 123, ncost: 463.74275925938207\n",
            "Run: 4, iteration: 7/100, moves: 1, ncost: 463.7422555786405\n",
            "Run: 4, iteration: 8/100, moves: 0, ncost: 463.7422555786405\n",
            "Init: initializing centroids\n",
            "Init: initializing clusters\n",
            "Starting iterations...\n",
            "Run: 5, iteration: 1/100, moves: 12325, ncost: 474.6990524123297\n",
            "Run: 5, iteration: 2/100, moves: 3930, ncost: 474.6663696310054\n",
            "Run: 5, iteration: 3/100, moves: 173, ncost: 474.6657822503375\n",
            "Run: 5, iteration: 4/100, moves: 0, ncost: 474.6657822503375\n",
            "Best run was number 1\n"
          ],
          "name": "stdout"
        }
      ]
    },
    {
      "metadata": {
        "id": "WxIQAFpjn_iT",
        "colab_type": "code",
        "colab": {
          "base_uri": "https://localhost:8080/",
          "height": 476
        },
        "outputId": "1207afee-ee5d-4b58-b70d-96d274b1eb3a"
      },
      "cell_type": "code",
      "source": [
        "from kmodes.kprototypes import KPrototypes\n",
        "km = KPrototypes(n_clusters=10, init='Huang', n_init=3, verbose=1)\n",
        "clusters = km.fit_predict(data_req.as_matrix(), categorical=list(range(0,4)))"
      ],
      "execution_count": 39,
      "outputs": [
        {
          "output_type": "stream",
          "text": [
            "Init: initializing centroids\n",
            "Init: initializing clusters\n",
            "Starting iterations...\n",
            "Run: 1, iteration: 1/100, moves: 9863, ncost: 478.00267906942963\n",
            "Run: 1, iteration: 2/100, moves: 2484, ncost: 477.9273320275577\n",
            "Run: 1, iteration: 3/100, moves: 935, ncost: 477.92663566295926\n",
            "Run: 1, iteration: 4/100, moves: 2, ncost: 477.92663565643204\n",
            "Run: 1, iteration: 5/100, moves: 0, ncost: 477.92663565643204\n",
            "Init: initializing centroids\n",
            "Init: initializing clusters\n",
            "Starting iterations...\n",
            "Run: 2, iteration: 1/100, moves: 12500, ncost: 485.70207509632843\n",
            "Run: 2, iteration: 2/100, moves: 3790, ncost: 480.19041921772236\n",
            "Run: 2, iteration: 3/100, moves: 3129, ncost: 476.61361999864846\n",
            "Run: 2, iteration: 4/100, moves: 78, ncost: 476.4986248447345\n",
            "Run: 2, iteration: 5/100, moves: 3, ncost: 476.4939867288739\n",
            "Run: 2, iteration: 6/100, moves: 0, ncost: 476.4939867288739\n",
            "Init: initializing centroids\n",
            "Init: initializing clusters\n",
            "Starting iterations...\n",
            "Run: 3, iteration: 1/100, moves: 14367, ncost: 481.29100239010944\n",
            "Run: 3, iteration: 2/100, moves: 4764, ncost: 477.34807041060924\n",
            "Run: 3, iteration: 3/100, moves: 578, ncost: 476.89803067598467\n",
            "Run: 3, iteration: 4/100, moves: 829, ncost: 476.8832748618913\n",
            "Run: 3, iteration: 5/100, moves: 60, ncost: 476.88325125990474\n",
            "Run: 3, iteration: 6/100, moves: 0, ncost: 476.88325125990474\n",
            "Best run was number 2\n"
          ],
          "name": "stdout"
        }
      ]
    },
    {
      "metadata": {
        "id": "ENqVdMQFjuMU",
        "colab_type": "code",
        "colab": {
          "base_uri": "https://localhost:8080/",
          "height": 493
        },
        "outputId": "29782ff6-7048-47ab-de0a-03a76359dd11"
      },
      "cell_type": "code",
      "source": [
        "print(km.cluster_centroids_)"
      ],
      "execution_count": 40,
      "outputs": [
        {
          "output_type": "stream",
          "text": [
            "[array([[0.00414283],\n",
            "       [0.00536698],\n",
            "       [0.00054107],\n",
            "       [0.41458791],\n",
            "       [0.00202779],\n",
            "       [0.00900918],\n",
            "       [0.0131445 ],\n",
            "       [0.00819402],\n",
            "       [0.04367716],\n",
            "       [0.00479989]]), array([['Loan modification,collection,foreclosure', 'NY', 'Web',\n",
            "        'Closed with non-monetary relief'],\n",
            "       ['Loan modification,collection,foreclosure', 'FL', 'Referral',\n",
            "        'Closed with explanation'],\n",
            "       ['Loan servicing, payments, escrow account', 'GA', 'Web',\n",
            "        'Closed with explanation'],\n",
            "       ['Loan modification,collection,foreclosure', 'CA', 'Web',\n",
            "        'Closed with explanation'],\n",
            "       ['Loan modification,collection,foreclosure', 'CA', 'Web',\n",
            "        'Closed with explanation'],\n",
            "       ['Other', 'FL', 'Postal mail', 'Closed with explanation'],\n",
            "       ['Loan modification,collection,foreclosure', 'CA', 'Referral',\n",
            "        'Closed with explanation'],\n",
            "       ['Loan servicing, payments, escrow account', 'CA', 'Web',\n",
            "        'Closed with explanation'],\n",
            "       ['Loan servicing, payments, escrow account', 'AZ', 'Referral',\n",
            "        'Closed with explanation'],\n",
            "       ['Loan servicing, payments, escrow account', 'CA', 'Referral',\n",
            "        'Closed with explanation']], dtype='<U40')]\n"
          ],
          "name": "stdout"
        }
      ]
    },
    {
      "metadata": {
        "id": "xmUGtPPflvoK",
        "colab_type": "code",
        "colab": {}
      },
      "cell_type": "code",
      "source": [
        "clusters=clusters.reshape(34081,1)"
      ],
      "execution_count": 0,
      "outputs": []
    },
    {
      "metadata": {
        "id": "0dlikXo_lv8J",
        "colab_type": "code",
        "colab": {}
      },
      "cell_type": "code",
      "source": [
        "class_cluster = pd.DataFrame(clusters,columns=['Class cluster'])"
      ],
      "execution_count": 0,
      "outputs": []
    },
    {
      "metadata": {
        "id": "kJAWqwiHlwPB",
        "colab_type": "code",
        "colab": {
          "base_uri": "https://localhost:8080/",
          "height": 204
        },
        "outputId": "91028fe8-a55a-4120-90d9-5cde0d7b5fde"
      },
      "cell_type": "code",
      "source": [
        "class_cluster.head()"
      ],
      "execution_count": 43,
      "outputs": [
        {
          "output_type": "execute_result",
          "data": {
            "text/html": [
              "<div>\n",
              "<style scoped>\n",
              "    .dataframe tbody tr th:only-of-type {\n",
              "        vertical-align: middle;\n",
              "    }\n",
              "\n",
              "    .dataframe tbody tr th {\n",
              "        vertical-align: top;\n",
              "    }\n",
              "\n",
              "    .dataframe thead th {\n",
              "        text-align: right;\n",
              "    }\n",
              "</style>\n",
              "<table border=\"1\" class=\"dataframe\">\n",
              "  <thead>\n",
              "    <tr style=\"text-align: right;\">\n",
              "      <th></th>\n",
              "      <th>Class cluster</th>\n",
              "    </tr>\n",
              "  </thead>\n",
              "  <tbody>\n",
              "    <tr>\n",
              "      <th>0</th>\n",
              "      <td>4</td>\n",
              "    </tr>\n",
              "    <tr>\n",
              "      <th>1</th>\n",
              "      <td>1</td>\n",
              "    </tr>\n",
              "    <tr>\n",
              "      <th>2</th>\n",
              "      <td>2</td>\n",
              "    </tr>\n",
              "    <tr>\n",
              "      <th>3</th>\n",
              "      <td>4</td>\n",
              "    </tr>\n",
              "    <tr>\n",
              "      <th>4</th>\n",
              "      <td>4</td>\n",
              "    </tr>\n",
              "  </tbody>\n",
              "</table>\n",
              "</div>"
            ],
            "text/plain": [
              "   Class cluster\n",
              "0              4\n",
              "1              1\n",
              "2              2\n",
              "3              4\n",
              "4              4"
            ]
          },
          "metadata": {
            "tags": []
          },
          "execution_count": 43
        }
      ]
    },
    {
      "metadata": {
        "id": "O4tZRJ5zlwgS",
        "colab_type": "code",
        "colab": {
          "base_uri": "https://localhost:8080/",
          "height": 204
        },
        "outputId": "9c85784d-5bbc-429d-fcae-3652c16f2927"
      },
      "cell_type": "code",
      "source": [
        "data_req.head()"
      ],
      "execution_count": 44,
      "outputs": [
        {
          "output_type": "execute_result",
          "data": {
            "text/html": [
              "<div>\n",
              "<style scoped>\n",
              "    .dataframe tbody tr th:only-of-type {\n",
              "        vertical-align: middle;\n",
              "    }\n",
              "\n",
              "    .dataframe tbody tr th {\n",
              "        vertical-align: top;\n",
              "    }\n",
              "\n",
              "    .dataframe thead th {\n",
              "        text-align: right;\n",
              "    }\n",
              "</style>\n",
              "<table border=\"1\" class=\"dataframe\">\n",
              "  <thead>\n",
              "    <tr style=\"text-align: right;\">\n",
              "      <th></th>\n",
              "      <th>Issue</th>\n",
              "      <th>State</th>\n",
              "      <th>Submitted via</th>\n",
              "      <th>Company response to consumer</th>\n",
              "      <th>Time Difference</th>\n",
              "    </tr>\n",
              "  </thead>\n",
              "  <tbody>\n",
              "    <tr>\n",
              "      <th>0</th>\n",
              "      <td>Loan modification,collection,foreclosure</td>\n",
              "      <td>NJ</td>\n",
              "      <td>Web</td>\n",
              "      <td>Closed with explanation</td>\n",
              "      <td>0.000000</td>\n",
              "    </tr>\n",
              "    <tr>\n",
              "      <th>1</th>\n",
              "      <td>Loan modification,collection,foreclosure</td>\n",
              "      <td>NY</td>\n",
              "      <td>Referral</td>\n",
              "      <td>Closed with explanation</td>\n",
              "      <td>0.003846</td>\n",
              "    </tr>\n",
              "    <tr>\n",
              "      <th>2</th>\n",
              "      <td>Application, originator, mortgage broker</td>\n",
              "      <td>VA</td>\n",
              "      <td>Web</td>\n",
              "      <td>Closed with explanation</td>\n",
              "      <td>0.000000</td>\n",
              "    </tr>\n",
              "    <tr>\n",
              "      <th>3</th>\n",
              "      <td>Settlement process and costs</td>\n",
              "      <td>CA</td>\n",
              "      <td>Web</td>\n",
              "      <td>Closed with explanation</td>\n",
              "      <td>0.000000</td>\n",
              "    </tr>\n",
              "    <tr>\n",
              "      <th>4</th>\n",
              "      <td>Application, originator, mortgage broker</td>\n",
              "      <td>SD</td>\n",
              "      <td>Web</td>\n",
              "      <td>Closed with explanation</td>\n",
              "      <td>0.001923</td>\n",
              "    </tr>\n",
              "  </tbody>\n",
              "</table>\n",
              "</div>"
            ],
            "text/plain": [
              "                                      Issue State Submitted via  \\\n",
              "0  Loan modification,collection,foreclosure    NJ           Web   \n",
              "1  Loan modification,collection,foreclosure    NY      Referral   \n",
              "2  Application, originator, mortgage broker    VA           Web   \n",
              "3              Settlement process and costs    CA           Web   \n",
              "4  Application, originator, mortgage broker    SD           Web   \n",
              "\n",
              "  Company response to consumer  Time Difference  \n",
              "0      Closed with explanation         0.000000  \n",
              "1      Closed with explanation         0.003846  \n",
              "2      Closed with explanation         0.000000  \n",
              "3      Closed with explanation         0.000000  \n",
              "4      Closed with explanation         0.001923  "
            ]
          },
          "metadata": {
            "tags": []
          },
          "execution_count": 44
        }
      ]
    },
    {
      "metadata": {
        "id": "mjOj7qIUlw15",
        "colab_type": "code",
        "colab": {}
      },
      "cell_type": "code",
      "source": [
        "data_req = pd.concat([data_req,class_cluster],axis=1)"
      ],
      "execution_count": 0,
      "outputs": []
    },
    {
      "metadata": {
        "id": "H54j4PJMlxHp",
        "colab_type": "code",
        "colab": {
          "base_uri": "https://localhost:8080/",
          "height": 204
        },
        "outputId": "ff42b133-08a0-4a9a-ade8-96849e549699"
      },
      "cell_type": "code",
      "source": [
        "data_req.head()"
      ],
      "execution_count": 46,
      "outputs": [
        {
          "output_type": "execute_result",
          "data": {
            "text/html": [
              "<div>\n",
              "<style scoped>\n",
              "    .dataframe tbody tr th:only-of-type {\n",
              "        vertical-align: middle;\n",
              "    }\n",
              "\n",
              "    .dataframe tbody tr th {\n",
              "        vertical-align: top;\n",
              "    }\n",
              "\n",
              "    .dataframe thead th {\n",
              "        text-align: right;\n",
              "    }\n",
              "</style>\n",
              "<table border=\"1\" class=\"dataframe\">\n",
              "  <thead>\n",
              "    <tr style=\"text-align: right;\">\n",
              "      <th></th>\n",
              "      <th>Issue</th>\n",
              "      <th>State</th>\n",
              "      <th>Submitted via</th>\n",
              "      <th>Company response to consumer</th>\n",
              "      <th>Time Difference</th>\n",
              "      <th>Class cluster</th>\n",
              "    </tr>\n",
              "  </thead>\n",
              "  <tbody>\n",
              "    <tr>\n",
              "      <th>0</th>\n",
              "      <td>Loan modification,collection,foreclosure</td>\n",
              "      <td>NJ</td>\n",
              "      <td>Web</td>\n",
              "      <td>Closed with explanation</td>\n",
              "      <td>0.000000</td>\n",
              "      <td>4.0</td>\n",
              "    </tr>\n",
              "    <tr>\n",
              "      <th>1</th>\n",
              "      <td>Loan modification,collection,foreclosure</td>\n",
              "      <td>NY</td>\n",
              "      <td>Referral</td>\n",
              "      <td>Closed with explanation</td>\n",
              "      <td>0.003846</td>\n",
              "      <td>1.0</td>\n",
              "    </tr>\n",
              "    <tr>\n",
              "      <th>2</th>\n",
              "      <td>Application, originator, mortgage broker</td>\n",
              "      <td>VA</td>\n",
              "      <td>Web</td>\n",
              "      <td>Closed with explanation</td>\n",
              "      <td>0.000000</td>\n",
              "      <td>2.0</td>\n",
              "    </tr>\n",
              "    <tr>\n",
              "      <th>3</th>\n",
              "      <td>Settlement process and costs</td>\n",
              "      <td>CA</td>\n",
              "      <td>Web</td>\n",
              "      <td>Closed with explanation</td>\n",
              "      <td>0.000000</td>\n",
              "      <td>4.0</td>\n",
              "    </tr>\n",
              "    <tr>\n",
              "      <th>4</th>\n",
              "      <td>Application, originator, mortgage broker</td>\n",
              "      <td>SD</td>\n",
              "      <td>Web</td>\n",
              "      <td>Closed with explanation</td>\n",
              "      <td>0.001923</td>\n",
              "      <td>4.0</td>\n",
              "    </tr>\n",
              "  </tbody>\n",
              "</table>\n",
              "</div>"
            ],
            "text/plain": [
              "                                      Issue State Submitted via  \\\n",
              "0  Loan modification,collection,foreclosure    NJ           Web   \n",
              "1  Loan modification,collection,foreclosure    NY      Referral   \n",
              "2  Application, originator, mortgage broker    VA           Web   \n",
              "3              Settlement process and costs    CA           Web   \n",
              "4  Application, originator, mortgage broker    SD           Web   \n",
              "\n",
              "  Company response to consumer  Time Difference  Class cluster  \n",
              "0      Closed with explanation         0.000000            4.0  \n",
              "1      Closed with explanation         0.003846            1.0  \n",
              "2      Closed with explanation         0.000000            2.0  \n",
              "3      Closed with explanation         0.000000            4.0  \n",
              "4      Closed with explanation         0.001923            4.0  "
            ]
          },
          "metadata": {
            "tags": []
          },
          "execution_count": 46
        }
      ]
    }
  ]
}