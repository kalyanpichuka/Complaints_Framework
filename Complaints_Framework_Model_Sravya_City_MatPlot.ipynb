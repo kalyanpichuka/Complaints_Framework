{
  "nbformat": 4,
  "nbformat_minor": 0,
  "metadata": {
    "colab": {
      "name": "Complaints_Framework_Model_Sravya.ipynb",
      "version": "0.3.2",
      "provenance": [],
      "collapsed_sections": [],
      "include_colab_link": true
    },
    "kernelspec": {
      "name": "python3",
      "display_name": "Python 3"
    },
    "accelerator": "GPU"
  },
  "cells": [
    {
      "cell_type": "markdown",
      "metadata": {
        "id": "view-in-github",
        "colab_type": "text"
      },
      "source": [
        "[View in Colaboratory](https://colab.research.google.com/github/SravyaSpandana/Complaints_Framework/blob/master/Complaints_Framework_Model_Sravya_City_MatPlot.ipynb)"
      ]
    },
    {
      "metadata": {
        "id": "hcuJP6MmtPxQ",
        "colab_type": "code",
        "colab": {}
      },
      "cell_type": "code",
      "source": [
        "# IMPORTING NECESSARY PACKAGES\n",
        "import pandas as pd\n",
        "import numpy as np\n",
        "import matplotlib.pyplot as plt\n",
        "import os"
      ],
      "execution_count": 0,
      "outputs": []
    },
    {
      "metadata": {
        "id": "UAgaIOov2xLd",
        "colab_type": "code",
        "colab": {}
      },
      "cell_type": "code",
      "source": [
        "!apt-get install -y -qq software-properties-common python-software-properties module-init-tools\n",
        "!add-apt-repository -y ppa:alessandro-strada/ppa 2>&1 > /dev/null\n",
        "!apt-get update -qq 2>&1 > /dev/null\n",
        "!apt-get -y install -qq google-drive-ocamlfuse fuse\n",
        "from google.colab import auth\n",
        "auth.authenticate_user()\n",
        "from oauth2client.client import GoogleCredentials\n",
        "creds = GoogleCredentials.get_application_default()\n",
        "import getpass\n",
        "!google-drive-ocamlfuse -headless -id={creds.client_id} -secret={creds.client_secret} < /dev/null 2>&1 | grep URL\n",
        "vcode = getpass.getpass()\n",
        "!echo {vcode} | google-drive-ocamlfuse -headless -id={creds.client_id} -secret={creds.client_secret}"
      ],
      "execution_count": 0,
      "outputs": []
    },
    {
      "metadata": {
        "id": "MWrH7zuh5fEv",
        "colab_type": "code",
        "colab": {}
      },
      "cell_type": "code",
      "source": [
        "!mkdir -p drive\n",
        "!google-drive-ocamlfuse drive"
      ],
      "execution_count": 0,
      "outputs": []
    },
    {
      "metadata": {
        "id": "BUN9evG359S4",
        "colab_type": "code",
        "colab": {
          "base_uri": "https://localhost:8080/",
          "height": 71
        },
        "outputId": "960edb27-b0c6-4538-964e-ac27c2306a27"
      },
      "cell_type": "code",
      "source": [
        "data = pd.read_csv(\"drive/Complaints_Dataset/complaints-2018-08-19_Cities.csv\")"
      ],
      "execution_count": 9,
      "outputs": [
        {
          "output_type": "stream",
          "text": [
            "/usr/local/lib/python3.6/dist-packages/IPython/core/interactiveshell.py:2718: DtypeWarning: Columns (21,22,23,24) have mixed types. Specify dtype option on import or set low_memory=False.\n",
            "  interactivity=interactivity, compiler=compiler, result=result)\n"
          ],
          "name": "stderr"
        }
      ]
    },
    {
      "metadata": {
        "id": "lDW6HKRO6BfM",
        "colab_type": "code",
        "colab": {
          "base_uri": "https://localhost:8080/",
          "height": 525
        },
        "outputId": "53e12e5b-18f1-4915-a4e2-a25627469a63"
      },
      "cell_type": "code",
      "source": [
        "data.head()"
      ],
      "execution_count": 10,
      "outputs": [
        {
          "output_type": "execute_result",
          "data": {
            "text/html": [
              "<div>\n",
              "<style scoped>\n",
              "    .dataframe tbody tr th:only-of-type {\n",
              "        vertical-align: middle;\n",
              "    }\n",
              "\n",
              "    .dataframe tbody tr th {\n",
              "        vertical-align: top;\n",
              "    }\n",
              "\n",
              "    .dataframe thead th {\n",
              "        text-align: right;\n",
              "    }\n",
              "</style>\n",
              "<table border=\"1\" class=\"dataframe\">\n",
              "  <thead>\n",
              "    <tr style=\"text-align: right;\">\n",
              "      <th></th>\n",
              "      <th>Date received</th>\n",
              "      <th>Product</th>\n",
              "      <th>Sub-product</th>\n",
              "      <th>Issue</th>\n",
              "      <th>Sub-issue</th>\n",
              "      <th>Consumer complaint narrative</th>\n",
              "      <th>Company public response</th>\n",
              "      <th>Company</th>\n",
              "      <th>State</th>\n",
              "      <th>ZIP code</th>\n",
              "      <th>...</th>\n",
              "      <th>Complaint ID</th>\n",
              "      <th>City</th>\n",
              "      <th>Unnamed: 19</th>\n",
              "      <th>Unnamed: 20</th>\n",
              "      <th>Unnamed: 21</th>\n",
              "      <th>Unnamed: 22</th>\n",
              "      <th>Unnamed: 23</th>\n",
              "      <th>Unnamed: 24</th>\n",
              "      <th>Unnamed: 25</th>\n",
              "      <th>Unnamed: 26</th>\n",
              "    </tr>\n",
              "  </thead>\n",
              "  <tbody>\n",
              "    <tr>\n",
              "      <th>0</th>\n",
              "      <td>02-05-13</td>\n",
              "      <td>Mortgage</td>\n",
              "      <td>FHA mortgage</td>\n",
              "      <td>Loan servicing, payments, escrow account</td>\n",
              "      <td>NaN</td>\n",
              "      <td>NaN</td>\n",
              "      <td>NaN</td>\n",
              "      <td>BAYVIEW LOAN SERVICING, LLC</td>\n",
              "      <td>MA</td>\n",
              "      <td>2151</td>\n",
              "      <td>...</td>\n",
              "      <td>301664</td>\n",
              "      <td>Revere</td>\n",
              "      <td>NaN</td>\n",
              "      <td>NaN</td>\n",
              "      <td>NaN</td>\n",
              "      <td>NaN</td>\n",
              "      <td>NaN</td>\n",
              "      <td>NaN</td>\n",
              "      <td>NaN</td>\n",
              "      <td>NaN</td>\n",
              "    </tr>\n",
              "    <tr>\n",
              "      <th>1</th>\n",
              "      <td>05/15/17</td>\n",
              "      <td>Mortgage</td>\n",
              "      <td>Other type of mortgage</td>\n",
              "      <td>Trouble during payment process</td>\n",
              "      <td>NaN</td>\n",
              "      <td>NaN</td>\n",
              "      <td>Company has responded to the consumer and the ...</td>\n",
              "      <td>BMO HARRIS BANK NATIONAL ASSOCIATION</td>\n",
              "      <td>IL</td>\n",
              "      <td>60165</td>\n",
              "      <td>...</td>\n",
              "      <td>2484441</td>\n",
              "      <td>Stone Park</td>\n",
              "      <td>NaN</td>\n",
              "      <td>NaN</td>\n",
              "      <td>NaN</td>\n",
              "      <td>NaN</td>\n",
              "      <td>NaN</td>\n",
              "      <td>NaN</td>\n",
              "      <td>NaN</td>\n",
              "      <td>NaN</td>\n",
              "    </tr>\n",
              "    <tr>\n",
              "      <th>2</th>\n",
              "      <td>09/24/14</td>\n",
              "      <td>Mortgage</td>\n",
              "      <td>Other mortgage</td>\n",
              "      <td>Loan modification,collection,foreclosure</td>\n",
              "      <td>NaN</td>\n",
              "      <td>NaN</td>\n",
              "      <td>NaN</td>\n",
              "      <td>Ditech Financial LLC</td>\n",
              "      <td>FL</td>\n",
              "      <td>34209</td>\n",
              "      <td>...</td>\n",
              "      <td>1043621</td>\n",
              "      <td>Bradenton</td>\n",
              "      <td>NaN</td>\n",
              "      <td>NaN</td>\n",
              "      <td>NaN</td>\n",
              "      <td>NaN</td>\n",
              "      <td>NaN</td>\n",
              "      <td>NaN</td>\n",
              "      <td>NaN</td>\n",
              "      <td>NaN</td>\n",
              "    </tr>\n",
              "    <tr>\n",
              "      <th>3</th>\n",
              "      <td>11-06-15</td>\n",
              "      <td>Mortgage</td>\n",
              "      <td>Other mortgage</td>\n",
              "      <td>Loan modification,collection,foreclosure</td>\n",
              "      <td>NaN</td>\n",
              "      <td>NaN</td>\n",
              "      <td>NaN</td>\n",
              "      <td>OCWEN LOAN SERVICING LLC</td>\n",
              "      <td>GA</td>\n",
              "      <td>30253</td>\n",
              "      <td>...</td>\n",
              "      <td>1643449</td>\n",
              "      <td>Mcdonough</td>\n",
              "      <td>NaN</td>\n",
              "      <td>NaN</td>\n",
              "      <td>NaN</td>\n",
              "      <td>NaN</td>\n",
              "      <td>NaN</td>\n",
              "      <td>NaN</td>\n",
              "      <td>NaN</td>\n",
              "      <td>NaN</td>\n",
              "    </tr>\n",
              "    <tr>\n",
              "      <th>4</th>\n",
              "      <td>03-08-12</td>\n",
              "      <td>Mortgage</td>\n",
              "      <td>Conventional fixed mortgage</td>\n",
              "      <td>Loan modification,collection,foreclosure</td>\n",
              "      <td>NaN</td>\n",
              "      <td>NaN</td>\n",
              "      <td>NaN</td>\n",
              "      <td>CITIBANK, N.A.</td>\n",
              "      <td>NJ</td>\n",
              "      <td>7438</td>\n",
              "      <td>...</td>\n",
              "      <td>32218</td>\n",
              "      <td>Oak Ridge</td>\n",
              "      <td>NaN</td>\n",
              "      <td>NaN</td>\n",
              "      <td>NaN</td>\n",
              "      <td>NaN</td>\n",
              "      <td>NaN</td>\n",
              "      <td>NaN</td>\n",
              "      <td>NaN</td>\n",
              "      <td>NaN</td>\n",
              "    </tr>\n",
              "  </tbody>\n",
              "</table>\n",
              "<p>5 rows × 27 columns</p>\n",
              "</div>"
            ],
            "text/plain": [
              "  Date received   Product                  Sub-product  \\\n",
              "0      02-05-13  Mortgage                 FHA mortgage   \n",
              "1      05/15/17  Mortgage       Other type of mortgage   \n",
              "2      09/24/14  Mortgage               Other mortgage   \n",
              "3      11-06-15  Mortgage               Other mortgage   \n",
              "4      03-08-12  Mortgage  Conventional fixed mortgage   \n",
              "\n",
              "                                      Issue  Sub-issue  \\\n",
              "0  Loan servicing, payments, escrow account        NaN   \n",
              "1            Trouble during payment process        NaN   \n",
              "2  Loan modification,collection,foreclosure        NaN   \n",
              "3  Loan modification,collection,foreclosure        NaN   \n",
              "4  Loan modification,collection,foreclosure        NaN   \n",
              "\n",
              "   Consumer complaint narrative  \\\n",
              "0                           NaN   \n",
              "1                           NaN   \n",
              "2                           NaN   \n",
              "3                           NaN   \n",
              "4                           NaN   \n",
              "\n",
              "                             Company public response  \\\n",
              "0                                                NaN   \n",
              "1  Company has responded to the consumer and the ...   \n",
              "2                                                NaN   \n",
              "3                                                NaN   \n",
              "4                                                NaN   \n",
              "\n",
              "                                Company State  ZIP code     ...       \\\n",
              "0           BAYVIEW LOAN SERVICING, LLC    MA      2151     ...        \n",
              "1  BMO HARRIS BANK NATIONAL ASSOCIATION    IL     60165     ...        \n",
              "2                  Ditech Financial LLC    FL     34209     ...        \n",
              "3              OCWEN LOAN SERVICING LLC    GA     30253     ...        \n",
              "4                        CITIBANK, N.A.    NJ      7438     ...        \n",
              "\n",
              "  Complaint ID        City Unnamed: 19 Unnamed: 20 Unnamed: 21 Unnamed: 22  \\\n",
              "0       301664      Revere         NaN         NaN         NaN         NaN   \n",
              "1      2484441  Stone Park         NaN         NaN         NaN         NaN   \n",
              "2      1043621   Bradenton         NaN         NaN         NaN         NaN   \n",
              "3      1643449   Mcdonough         NaN         NaN         NaN         NaN   \n",
              "4        32218   Oak Ridge         NaN         NaN         NaN         NaN   \n",
              "\n",
              "  Unnamed: 23  Unnamed: 24 Unnamed: 25  Unnamed: 26  \n",
              "0         NaN          NaN         NaN          NaN  \n",
              "1         NaN          NaN         NaN          NaN  \n",
              "2         NaN          NaN         NaN          NaN  \n",
              "3         NaN          NaN         NaN          NaN  \n",
              "4         NaN          NaN         NaN          NaN  \n",
              "\n",
              "[5 rows x 27 columns]"
            ]
          },
          "metadata": {
            "tags": []
          },
          "execution_count": 10
        }
      ]
    },
    {
      "metadata": {
        "id": "7nLwqjwo6FeW",
        "colab_type": "code",
        "colab": {}
      },
      "cell_type": "code",
      "source": [
        "data = data[data.Company == 'WELLS FARGO & COMPANY']"
      ],
      "execution_count": 0,
      "outputs": []
    },
    {
      "metadata": {
        "id": "3Xh52LSB6LRZ",
        "colab_type": "code",
        "colab": {
          "base_uri": "https://localhost:8080/",
          "height": 508
        },
        "outputId": "3b9f69a5-6c5c-4a2e-a590-0ceee4b8bfd2"
      },
      "cell_type": "code",
      "source": [
        "data.head()"
      ],
      "execution_count": 12,
      "outputs": [
        {
          "output_type": "execute_result",
          "data": {
            "text/html": [
              "<div>\n",
              "<style scoped>\n",
              "    .dataframe tbody tr th:only-of-type {\n",
              "        vertical-align: middle;\n",
              "    }\n",
              "\n",
              "    .dataframe tbody tr th {\n",
              "        vertical-align: top;\n",
              "    }\n",
              "\n",
              "    .dataframe thead th {\n",
              "        text-align: right;\n",
              "    }\n",
              "</style>\n",
              "<table border=\"1\" class=\"dataframe\">\n",
              "  <thead>\n",
              "    <tr style=\"text-align: right;\">\n",
              "      <th></th>\n",
              "      <th>Date received</th>\n",
              "      <th>Product</th>\n",
              "      <th>Sub-product</th>\n",
              "      <th>Issue</th>\n",
              "      <th>Sub-issue</th>\n",
              "      <th>Consumer complaint narrative</th>\n",
              "      <th>Company public response</th>\n",
              "      <th>Company</th>\n",
              "      <th>State</th>\n",
              "      <th>ZIP code</th>\n",
              "      <th>...</th>\n",
              "      <th>Complaint ID</th>\n",
              "      <th>City</th>\n",
              "      <th>Unnamed: 19</th>\n",
              "      <th>Unnamed: 20</th>\n",
              "      <th>Unnamed: 21</th>\n",
              "      <th>Unnamed: 22</th>\n",
              "      <th>Unnamed: 23</th>\n",
              "      <th>Unnamed: 24</th>\n",
              "      <th>Unnamed: 25</th>\n",
              "      <th>Unnamed: 26</th>\n",
              "    </tr>\n",
              "  </thead>\n",
              "  <tbody>\n",
              "    <tr>\n",
              "      <th>13</th>\n",
              "      <td>12-05-16</td>\n",
              "      <td>Mortgage</td>\n",
              "      <td>FHA mortgage</td>\n",
              "      <td>Loan modification,collection,foreclosure</td>\n",
              "      <td>NaN</td>\n",
              "      <td>NaN</td>\n",
              "      <td>Company has responded to the consumer and the ...</td>\n",
              "      <td>WELLS FARGO &amp; COMPANY</td>\n",
              "      <td>NJ</td>\n",
              "      <td>7106</td>\n",
              "      <td>...</td>\n",
              "      <td>2236348</td>\n",
              "      <td>Newark</td>\n",
              "      <td>NaN</td>\n",
              "      <td>NaN</td>\n",
              "      <td>NaN</td>\n",
              "      <td>NaN</td>\n",
              "      <td>NaN</td>\n",
              "      <td>NaN</td>\n",
              "      <td>NaN</td>\n",
              "      <td>NaN</td>\n",
              "    </tr>\n",
              "    <tr>\n",
              "      <th>16</th>\n",
              "      <td>01-09-13</td>\n",
              "      <td>Mortgage</td>\n",
              "      <td>Other mortgage</td>\n",
              "      <td>Loan modification,collection,foreclosure</td>\n",
              "      <td>NaN</td>\n",
              "      <td>NaN</td>\n",
              "      <td>NaN</td>\n",
              "      <td>WELLS FARGO &amp; COMPANY</td>\n",
              "      <td>NY</td>\n",
              "      <td>11550</td>\n",
              "      <td>...</td>\n",
              "      <td>225262</td>\n",
              "      <td>Hempstead</td>\n",
              "      <td>NaN</td>\n",
              "      <td>NaN</td>\n",
              "      <td>NaN</td>\n",
              "      <td>NaN</td>\n",
              "      <td>NaN</td>\n",
              "      <td>NaN</td>\n",
              "      <td>NaN</td>\n",
              "      <td>NaN</td>\n",
              "    </tr>\n",
              "    <tr>\n",
              "      <th>20</th>\n",
              "      <td>06-02-14</td>\n",
              "      <td>Mortgage</td>\n",
              "      <td>Other mortgage</td>\n",
              "      <td>Application, originator, mortgage broker</td>\n",
              "      <td>NaN</td>\n",
              "      <td>NaN</td>\n",
              "      <td>NaN</td>\n",
              "      <td>WELLS FARGO &amp; COMPANY</td>\n",
              "      <td>VA</td>\n",
              "      <td>20109</td>\n",
              "      <td>...</td>\n",
              "      <td>876185</td>\n",
              "      <td>Manassas</td>\n",
              "      <td>NaN</td>\n",
              "      <td>NaN</td>\n",
              "      <td>NaN</td>\n",
              "      <td>NaN</td>\n",
              "      <td>NaN</td>\n",
              "      <td>NaN</td>\n",
              "      <td>NaN</td>\n",
              "      <td>NaN</td>\n",
              "    </tr>\n",
              "    <tr>\n",
              "      <th>29</th>\n",
              "      <td>03/18/14</td>\n",
              "      <td>Mortgage</td>\n",
              "      <td>Reverse mortgage</td>\n",
              "      <td>Settlement process and costs</td>\n",
              "      <td>NaN</td>\n",
              "      <td>NaN</td>\n",
              "      <td>NaN</td>\n",
              "      <td>WELLS FARGO &amp; COMPANY</td>\n",
              "      <td>CA</td>\n",
              "      <td>93311</td>\n",
              "      <td>...</td>\n",
              "      <td>763623</td>\n",
              "      <td>Bakersfield</td>\n",
              "      <td>NaN</td>\n",
              "      <td>NaN</td>\n",
              "      <td>NaN</td>\n",
              "      <td>NaN</td>\n",
              "      <td>NaN</td>\n",
              "      <td>NaN</td>\n",
              "      <td>NaN</td>\n",
              "      <td>NaN</td>\n",
              "    </tr>\n",
              "    <tr>\n",
              "      <th>31</th>\n",
              "      <td>08-06-13</td>\n",
              "      <td>Mortgage</td>\n",
              "      <td>FHA mortgage</td>\n",
              "      <td>Application, originator, mortgage broker</td>\n",
              "      <td>NaN</td>\n",
              "      <td>NaN</td>\n",
              "      <td>NaN</td>\n",
              "      <td>WELLS FARGO &amp; COMPANY</td>\n",
              "      <td>SD</td>\n",
              "      <td>57106</td>\n",
              "      <td>...</td>\n",
              "      <td>481692</td>\n",
              "      <td>Sioux Falls</td>\n",
              "      <td>NaN</td>\n",
              "      <td>NaN</td>\n",
              "      <td>NaN</td>\n",
              "      <td>NaN</td>\n",
              "      <td>NaN</td>\n",
              "      <td>NaN</td>\n",
              "      <td>NaN</td>\n",
              "      <td>NaN</td>\n",
              "    </tr>\n",
              "  </tbody>\n",
              "</table>\n",
              "<p>5 rows × 27 columns</p>\n",
              "</div>"
            ],
            "text/plain": [
              "   Date received   Product       Sub-product  \\\n",
              "13      12-05-16  Mortgage      FHA mortgage   \n",
              "16      01-09-13  Mortgage    Other mortgage   \n",
              "20      06-02-14  Mortgage    Other mortgage   \n",
              "29      03/18/14  Mortgage  Reverse mortgage   \n",
              "31      08-06-13  Mortgage      FHA mortgage   \n",
              "\n",
              "                                       Issue  Sub-issue  \\\n",
              "13  Loan modification,collection,foreclosure        NaN   \n",
              "16  Loan modification,collection,foreclosure        NaN   \n",
              "20  Application, originator, mortgage broker        NaN   \n",
              "29              Settlement process and costs        NaN   \n",
              "31  Application, originator, mortgage broker        NaN   \n",
              "\n",
              "    Consumer complaint narrative  \\\n",
              "13                           NaN   \n",
              "16                           NaN   \n",
              "20                           NaN   \n",
              "29                           NaN   \n",
              "31                           NaN   \n",
              "\n",
              "                              Company public response                Company  \\\n",
              "13  Company has responded to the consumer and the ...  WELLS FARGO & COMPANY   \n",
              "16                                                NaN  WELLS FARGO & COMPANY   \n",
              "20                                                NaN  WELLS FARGO & COMPANY   \n",
              "29                                                NaN  WELLS FARGO & COMPANY   \n",
              "31                                                NaN  WELLS FARGO & COMPANY   \n",
              "\n",
              "   State  ZIP code     ...      Complaint ID         City Unnamed: 19  \\\n",
              "13    NJ      7106     ...           2236348       Newark         NaN   \n",
              "16    NY     11550     ...            225262    Hempstead         NaN   \n",
              "20    VA     20109     ...            876185     Manassas         NaN   \n",
              "29    CA     93311     ...            763623  Bakersfield         NaN   \n",
              "31    SD     57106     ...            481692  Sioux Falls         NaN   \n",
              "\n",
              "   Unnamed: 20 Unnamed: 21 Unnamed: 22 Unnamed: 23  Unnamed: 24 Unnamed: 25  \\\n",
              "13         NaN         NaN         NaN         NaN          NaN         NaN   \n",
              "16         NaN         NaN         NaN         NaN          NaN         NaN   \n",
              "20         NaN         NaN         NaN         NaN          NaN         NaN   \n",
              "29         NaN         NaN         NaN         NaN          NaN         NaN   \n",
              "31         NaN         NaN         NaN         NaN          NaN         NaN   \n",
              "\n",
              "    Unnamed: 26  \n",
              "13          NaN  \n",
              "16          NaN  \n",
              "20          NaN  \n",
              "29          NaN  \n",
              "31          NaN  \n",
              "\n",
              "[5 rows x 27 columns]"
            ]
          },
          "metadata": {
            "tags": []
          },
          "execution_count": 12
        }
      ]
    },
    {
      "metadata": {
        "id": "1OjRKr-G76pQ",
        "colab_type": "code",
        "colab": {
          "base_uri": "https://localhost:8080/",
          "height": 508
        },
        "outputId": "b3d3d150-d191-4341-b9a9-c1288b0a70b5"
      },
      "cell_type": "code",
      "source": [
        "data.index = range(data.shape[0])\n",
        "data.head()"
      ],
      "execution_count": 13,
      "outputs": [
        {
          "output_type": "execute_result",
          "data": {
            "text/html": [
              "<div>\n",
              "<style scoped>\n",
              "    .dataframe tbody tr th:only-of-type {\n",
              "        vertical-align: middle;\n",
              "    }\n",
              "\n",
              "    .dataframe tbody tr th {\n",
              "        vertical-align: top;\n",
              "    }\n",
              "\n",
              "    .dataframe thead th {\n",
              "        text-align: right;\n",
              "    }\n",
              "</style>\n",
              "<table border=\"1\" class=\"dataframe\">\n",
              "  <thead>\n",
              "    <tr style=\"text-align: right;\">\n",
              "      <th></th>\n",
              "      <th>Date received</th>\n",
              "      <th>Product</th>\n",
              "      <th>Sub-product</th>\n",
              "      <th>Issue</th>\n",
              "      <th>Sub-issue</th>\n",
              "      <th>Consumer complaint narrative</th>\n",
              "      <th>Company public response</th>\n",
              "      <th>Company</th>\n",
              "      <th>State</th>\n",
              "      <th>ZIP code</th>\n",
              "      <th>...</th>\n",
              "      <th>Complaint ID</th>\n",
              "      <th>City</th>\n",
              "      <th>Unnamed: 19</th>\n",
              "      <th>Unnamed: 20</th>\n",
              "      <th>Unnamed: 21</th>\n",
              "      <th>Unnamed: 22</th>\n",
              "      <th>Unnamed: 23</th>\n",
              "      <th>Unnamed: 24</th>\n",
              "      <th>Unnamed: 25</th>\n",
              "      <th>Unnamed: 26</th>\n",
              "    </tr>\n",
              "  </thead>\n",
              "  <tbody>\n",
              "    <tr>\n",
              "      <th>0</th>\n",
              "      <td>12-05-16</td>\n",
              "      <td>Mortgage</td>\n",
              "      <td>FHA mortgage</td>\n",
              "      <td>Loan modification,collection,foreclosure</td>\n",
              "      <td>NaN</td>\n",
              "      <td>NaN</td>\n",
              "      <td>Company has responded to the consumer and the ...</td>\n",
              "      <td>WELLS FARGO &amp; COMPANY</td>\n",
              "      <td>NJ</td>\n",
              "      <td>7106</td>\n",
              "      <td>...</td>\n",
              "      <td>2236348</td>\n",
              "      <td>Newark</td>\n",
              "      <td>NaN</td>\n",
              "      <td>NaN</td>\n",
              "      <td>NaN</td>\n",
              "      <td>NaN</td>\n",
              "      <td>NaN</td>\n",
              "      <td>NaN</td>\n",
              "      <td>NaN</td>\n",
              "      <td>NaN</td>\n",
              "    </tr>\n",
              "    <tr>\n",
              "      <th>1</th>\n",
              "      <td>01-09-13</td>\n",
              "      <td>Mortgage</td>\n",
              "      <td>Other mortgage</td>\n",
              "      <td>Loan modification,collection,foreclosure</td>\n",
              "      <td>NaN</td>\n",
              "      <td>NaN</td>\n",
              "      <td>NaN</td>\n",
              "      <td>WELLS FARGO &amp; COMPANY</td>\n",
              "      <td>NY</td>\n",
              "      <td>11550</td>\n",
              "      <td>...</td>\n",
              "      <td>225262</td>\n",
              "      <td>Hempstead</td>\n",
              "      <td>NaN</td>\n",
              "      <td>NaN</td>\n",
              "      <td>NaN</td>\n",
              "      <td>NaN</td>\n",
              "      <td>NaN</td>\n",
              "      <td>NaN</td>\n",
              "      <td>NaN</td>\n",
              "      <td>NaN</td>\n",
              "    </tr>\n",
              "    <tr>\n",
              "      <th>2</th>\n",
              "      <td>06-02-14</td>\n",
              "      <td>Mortgage</td>\n",
              "      <td>Other mortgage</td>\n",
              "      <td>Application, originator, mortgage broker</td>\n",
              "      <td>NaN</td>\n",
              "      <td>NaN</td>\n",
              "      <td>NaN</td>\n",
              "      <td>WELLS FARGO &amp; COMPANY</td>\n",
              "      <td>VA</td>\n",
              "      <td>20109</td>\n",
              "      <td>...</td>\n",
              "      <td>876185</td>\n",
              "      <td>Manassas</td>\n",
              "      <td>NaN</td>\n",
              "      <td>NaN</td>\n",
              "      <td>NaN</td>\n",
              "      <td>NaN</td>\n",
              "      <td>NaN</td>\n",
              "      <td>NaN</td>\n",
              "      <td>NaN</td>\n",
              "      <td>NaN</td>\n",
              "    </tr>\n",
              "    <tr>\n",
              "      <th>3</th>\n",
              "      <td>03/18/14</td>\n",
              "      <td>Mortgage</td>\n",
              "      <td>Reverse mortgage</td>\n",
              "      <td>Settlement process and costs</td>\n",
              "      <td>NaN</td>\n",
              "      <td>NaN</td>\n",
              "      <td>NaN</td>\n",
              "      <td>WELLS FARGO &amp; COMPANY</td>\n",
              "      <td>CA</td>\n",
              "      <td>93311</td>\n",
              "      <td>...</td>\n",
              "      <td>763623</td>\n",
              "      <td>Bakersfield</td>\n",
              "      <td>NaN</td>\n",
              "      <td>NaN</td>\n",
              "      <td>NaN</td>\n",
              "      <td>NaN</td>\n",
              "      <td>NaN</td>\n",
              "      <td>NaN</td>\n",
              "      <td>NaN</td>\n",
              "      <td>NaN</td>\n",
              "    </tr>\n",
              "    <tr>\n",
              "      <th>4</th>\n",
              "      <td>08-06-13</td>\n",
              "      <td>Mortgage</td>\n",
              "      <td>FHA mortgage</td>\n",
              "      <td>Application, originator, mortgage broker</td>\n",
              "      <td>NaN</td>\n",
              "      <td>NaN</td>\n",
              "      <td>NaN</td>\n",
              "      <td>WELLS FARGO &amp; COMPANY</td>\n",
              "      <td>SD</td>\n",
              "      <td>57106</td>\n",
              "      <td>...</td>\n",
              "      <td>481692</td>\n",
              "      <td>Sioux Falls</td>\n",
              "      <td>NaN</td>\n",
              "      <td>NaN</td>\n",
              "      <td>NaN</td>\n",
              "      <td>NaN</td>\n",
              "      <td>NaN</td>\n",
              "      <td>NaN</td>\n",
              "      <td>NaN</td>\n",
              "      <td>NaN</td>\n",
              "    </tr>\n",
              "  </tbody>\n",
              "</table>\n",
              "<p>5 rows × 27 columns</p>\n",
              "</div>"
            ],
            "text/plain": [
              "  Date received   Product       Sub-product  \\\n",
              "0      12-05-16  Mortgage      FHA mortgage   \n",
              "1      01-09-13  Mortgage    Other mortgage   \n",
              "2      06-02-14  Mortgage    Other mortgage   \n",
              "3      03/18/14  Mortgage  Reverse mortgage   \n",
              "4      08-06-13  Mortgage      FHA mortgage   \n",
              "\n",
              "                                      Issue  Sub-issue  \\\n",
              "0  Loan modification,collection,foreclosure        NaN   \n",
              "1  Loan modification,collection,foreclosure        NaN   \n",
              "2  Application, originator, mortgage broker        NaN   \n",
              "3              Settlement process and costs        NaN   \n",
              "4  Application, originator, mortgage broker        NaN   \n",
              "\n",
              "   Consumer complaint narrative  \\\n",
              "0                           NaN   \n",
              "1                           NaN   \n",
              "2                           NaN   \n",
              "3                           NaN   \n",
              "4                           NaN   \n",
              "\n",
              "                             Company public response                Company  \\\n",
              "0  Company has responded to the consumer and the ...  WELLS FARGO & COMPANY   \n",
              "1                                                NaN  WELLS FARGO & COMPANY   \n",
              "2                                                NaN  WELLS FARGO & COMPANY   \n",
              "3                                                NaN  WELLS FARGO & COMPANY   \n",
              "4                                                NaN  WELLS FARGO & COMPANY   \n",
              "\n",
              "  State  ZIP code     ...      Complaint ID         City Unnamed: 19  \\\n",
              "0    NJ      7106     ...           2236348       Newark         NaN   \n",
              "1    NY     11550     ...            225262    Hempstead         NaN   \n",
              "2    VA     20109     ...            876185     Manassas         NaN   \n",
              "3    CA     93311     ...            763623  Bakersfield         NaN   \n",
              "4    SD     57106     ...            481692  Sioux Falls         NaN   \n",
              "\n",
              "  Unnamed: 20 Unnamed: 21 Unnamed: 22 Unnamed: 23  Unnamed: 24 Unnamed: 25  \\\n",
              "0         NaN         NaN         NaN         NaN          NaN         NaN   \n",
              "1         NaN         NaN         NaN         NaN          NaN         NaN   \n",
              "2         NaN         NaN         NaN         NaN          NaN         NaN   \n",
              "3         NaN         NaN         NaN         NaN          NaN         NaN   \n",
              "4         NaN         NaN         NaN         NaN          NaN         NaN   \n",
              "\n",
              "   Unnamed: 26  \n",
              "0          NaN  \n",
              "1          NaN  \n",
              "2          NaN  \n",
              "3          NaN  \n",
              "4          NaN  \n",
              "\n",
              "[5 rows x 27 columns]"
            ]
          },
          "metadata": {
            "tags": []
          },
          "execution_count": 13
        }
      ]
    },
    {
      "metadata": {
        "id": "pHpo_wll8Y3V",
        "colab_type": "code",
        "colab": {
          "base_uri": "https://localhost:8080/",
          "height": 153
        },
        "outputId": "f1edfb06-2dde-4bb3-9999-01084162e8f1"
      },
      "cell_type": "code",
      "source": [
        "\n",
        "req_cols = ['Date received','Issue','City','Submitted via', 'Date sent to company','Company response to consumer']\n",
        "data.columns"
      ],
      "execution_count": 14,
      "outputs": [
        {
          "output_type": "execute_result",
          "data": {
            "text/plain": [
              "Index(['Date received', 'Product', 'Sub-product', 'Issue', 'Sub-issue',\n",
              "       'Consumer complaint narrative', 'Company public response', 'Company',\n",
              "       'State', 'ZIP code', 'Tags', 'Consumer consent provided?',\n",
              "       'Submitted via', 'Date sent to company', 'Company response to consumer',\n",
              "       'Timely response?', 'Consumer disputed?', 'Complaint ID', 'City',\n",
              "       'Unnamed: 19', 'Unnamed: 20', 'Unnamed: 21', 'Unnamed: 22',\n",
              "       'Unnamed: 23', 'Unnamed: 24', 'Unnamed: 25', 'Unnamed: 26'],\n",
              "      dtype='object')"
            ]
          },
          "metadata": {
            "tags": []
          },
          "execution_count": 14
        }
      ]
    },
    {
      "metadata": {
        "id": "0gw8YvFAAvDD",
        "colab_type": "code",
        "colab": {
          "base_uri": "https://localhost:8080/",
          "height": 153
        },
        "outputId": "39e23868-f5a8-4de2-fce6-80d75ea1a850"
      },
      "cell_type": "code",
      "source": [
        "data.columns"
      ],
      "execution_count": 17,
      "outputs": [
        {
          "output_type": "execute_result",
          "data": {
            "text/plain": [
              "Index(['Date received', 'Product', 'Sub-product', 'Issue', 'Sub-issue',\n",
              "       'Consumer complaint narrative', 'Company public response', 'Company',\n",
              "       'State', 'ZIP code', 'Tags', 'Consumer consent provided?',\n",
              "       'Submitted via', 'Date sent to company', 'Company response to consumer',\n",
              "       'Timely response?', 'Consumer disputed?', 'Complaint ID', 'City',\n",
              "       'Unnamed: 19', 'Unnamed: 20', 'Unnamed: 21', 'Unnamed: 22',\n",
              "       'Unnamed: 23', 'Unnamed: 24', 'Unnamed: 25', 'Unnamed: 26'],\n",
              "      dtype='object')"
            ]
          },
          "metadata": {
            "tags": []
          },
          "execution_count": 17
        }
      ]
    },
    {
      "metadata": {
        "id": "bGaZu1Xc_K-j",
        "colab_type": "code",
        "colab": {}
      },
      "cell_type": "code",
      "source": [
        "data_req = data[req_cols]"
      ],
      "execution_count": 0,
      "outputs": []
    },
    {
      "metadata": {
        "id": "FKR2PBW-_QIk",
        "colab_type": "code",
        "colab": {
          "base_uri": "https://localhost:8080/",
          "height": 34
        },
        "outputId": "69206f8f-f40f-4a7d-86d5-a97b98b2b66c"
      },
      "cell_type": "code",
      "source": [
        "data_req.shape"
      ],
      "execution_count": 19,
      "outputs": [
        {
          "output_type": "execute_result",
          "data": {
            "text/plain": [
              "(28431, 6)"
            ]
          },
          "metadata": {
            "tags": []
          },
          "execution_count": 19
        }
      ]
    },
    {
      "metadata": {
        "id": "exaKtRM9B2yH",
        "colab_type": "code",
        "colab": {}
      },
      "cell_type": "code",
      "source": [
        "data_req.columns"
      ],
      "execution_count": 0,
      "outputs": []
    },
    {
      "metadata": {
        "id": "N0SM4rJYK0PK",
        "colab_type": "code",
        "colab": {
          "base_uri": "https://localhost:8080/",
          "height": 221
        },
        "outputId": "a0c0eb18-d900-415c-c84d-d46fea20f036"
      },
      "cell_type": "code",
      "source": [
        "data_req['Date received']=pd.to_datetime(data_req['Date received'])\n",
        "data_req['Date sent to company']=pd.to_datetime(data_req['Date sent to company'])"
      ],
      "execution_count": 20,
      "outputs": [
        {
          "output_type": "stream",
          "text": [
            "/usr/local/lib/python3.6/dist-packages/ipykernel_launcher.py:1: SettingWithCopyWarning: \n",
            "A value is trying to be set on a copy of a slice from a DataFrame.\n",
            "Try using .loc[row_indexer,col_indexer] = value instead\n",
            "\n",
            "See the caveats in the documentation: http://pandas.pydata.org/pandas-docs/stable/indexing.html#indexing-view-versus-copy\n",
            "  \"\"\"Entry point for launching an IPython kernel.\n",
            "/usr/local/lib/python3.6/dist-packages/ipykernel_launcher.py:2: SettingWithCopyWarning: \n",
            "A value is trying to be set on a copy of a slice from a DataFrame.\n",
            "Try using .loc[row_indexer,col_indexer] = value instead\n",
            "\n",
            "See the caveats in the documentation: http://pandas.pydata.org/pandas-docs/stable/indexing.html#indexing-view-versus-copy\n",
            "  \n"
          ],
          "name": "stderr"
        }
      ]
    },
    {
      "metadata": {
        "id": "3Ck-NE03MZiX",
        "colab_type": "code",
        "colab": {
          "base_uri": "https://localhost:8080/",
          "height": 204
        },
        "outputId": "45672c3e-4076-4aa7-a025-80206295f547"
      },
      "cell_type": "code",
      "source": [
        "data_req.info()"
      ],
      "execution_count": 21,
      "outputs": [
        {
          "output_type": "stream",
          "text": [
            "<class 'pandas.core.frame.DataFrame'>\n",
            "RangeIndex: 28431 entries, 0 to 28430\n",
            "Data columns (total 6 columns):\n",
            "Date received                   28431 non-null datetime64[ns]\n",
            "Issue                           28431 non-null object\n",
            "City                            28431 non-null object\n",
            "Submitted via                   28431 non-null object\n",
            "Date sent to company            28431 non-null datetime64[ns]\n",
            "Company response to consumer    28431 non-null object\n",
            "dtypes: datetime64[ns](2), object(4)\n",
            "memory usage: 1.3+ MB\n"
          ],
          "name": "stdout"
        }
      ]
    },
    {
      "metadata": {
        "id": "LUJfHbiaM48W",
        "colab_type": "code",
        "colab": {
          "base_uri": "https://localhost:8080/",
          "height": 408
        },
        "outputId": "3c54028b-bed5-4591-8d22-900d3f37cea7"
      },
      "cell_type": "code",
      "source": [
        "data_req['Time Difference'] = (data_req['Date sent to company']-data_req['Date received']).astype('timedelta64[s]')\n",
        "data_req.loc[data_req['Time Difference'] < 0, 'Time Difference'] = 0\n",
        "data_req.head()"
      ],
      "execution_count": 22,
      "outputs": [
        {
          "output_type": "stream",
          "text": [
            "/usr/local/lib/python3.6/dist-packages/ipykernel_launcher.py:1: SettingWithCopyWarning: \n",
            "A value is trying to be set on a copy of a slice from a DataFrame.\n",
            "Try using .loc[row_indexer,col_indexer] = value instead\n",
            "\n",
            "See the caveats in the documentation: http://pandas.pydata.org/pandas-docs/stable/indexing.html#indexing-view-versus-copy\n",
            "  \"\"\"Entry point for launching an IPython kernel.\n",
            "/usr/local/lib/python3.6/dist-packages/pandas/core/indexing.py:537: SettingWithCopyWarning: \n",
            "A value is trying to be set on a copy of a slice from a DataFrame.\n",
            "Try using .loc[row_indexer,col_indexer] = value instead\n",
            "\n",
            "See the caveats in the documentation: http://pandas.pydata.org/pandas-docs/stable/indexing.html#indexing-view-versus-copy\n",
            "  self.obj[item] = s\n"
          ],
          "name": "stderr"
        },
        {
          "output_type": "execute_result",
          "data": {
            "text/html": [
              "<div>\n",
              "<style scoped>\n",
              "    .dataframe tbody tr th:only-of-type {\n",
              "        vertical-align: middle;\n",
              "    }\n",
              "\n",
              "    .dataframe tbody tr th {\n",
              "        vertical-align: top;\n",
              "    }\n",
              "\n",
              "    .dataframe thead th {\n",
              "        text-align: right;\n",
              "    }\n",
              "</style>\n",
              "<table border=\"1\" class=\"dataframe\">\n",
              "  <thead>\n",
              "    <tr style=\"text-align: right;\">\n",
              "      <th></th>\n",
              "      <th>Date received</th>\n",
              "      <th>Issue</th>\n",
              "      <th>City</th>\n",
              "      <th>Submitted via</th>\n",
              "      <th>Date sent to company</th>\n",
              "      <th>Company response to consumer</th>\n",
              "      <th>Time Difference</th>\n",
              "    </tr>\n",
              "  </thead>\n",
              "  <tbody>\n",
              "    <tr>\n",
              "      <th>0</th>\n",
              "      <td>2016-12-05</td>\n",
              "      <td>Loan modification,collection,foreclosure</td>\n",
              "      <td>Newark</td>\n",
              "      <td>Web</td>\n",
              "      <td>2016-12-05</td>\n",
              "      <td>Closed with explanation</td>\n",
              "      <td>0.0</td>\n",
              "    </tr>\n",
              "    <tr>\n",
              "      <th>1</th>\n",
              "      <td>2013-01-09</td>\n",
              "      <td>Loan modification,collection,foreclosure</td>\n",
              "      <td>Hempstead</td>\n",
              "      <td>Referral</td>\n",
              "      <td>2013-01-11</td>\n",
              "      <td>Closed with explanation</td>\n",
              "      <td>172800.0</td>\n",
              "    </tr>\n",
              "    <tr>\n",
              "      <th>2</th>\n",
              "      <td>2014-06-02</td>\n",
              "      <td>Application, originator, mortgage broker</td>\n",
              "      <td>Manassas</td>\n",
              "      <td>Web</td>\n",
              "      <td>2014-06-02</td>\n",
              "      <td>Closed with explanation</td>\n",
              "      <td>0.0</td>\n",
              "    </tr>\n",
              "    <tr>\n",
              "      <th>3</th>\n",
              "      <td>2014-03-18</td>\n",
              "      <td>Settlement process and costs</td>\n",
              "      <td>Bakersfield</td>\n",
              "      <td>Web</td>\n",
              "      <td>2014-03-17</td>\n",
              "      <td>Closed with explanation</td>\n",
              "      <td>0.0</td>\n",
              "    </tr>\n",
              "    <tr>\n",
              "      <th>4</th>\n",
              "      <td>2013-08-06</td>\n",
              "      <td>Application, originator, mortgage broker</td>\n",
              "      <td>Sioux Falls</td>\n",
              "      <td>Web</td>\n",
              "      <td>2013-08-07</td>\n",
              "      <td>Closed with explanation</td>\n",
              "      <td>86400.0</td>\n",
              "    </tr>\n",
              "  </tbody>\n",
              "</table>\n",
              "</div>"
            ],
            "text/plain": [
              "  Date received                                     Issue         City  \\\n",
              "0    2016-12-05  Loan modification,collection,foreclosure       Newark   \n",
              "1    2013-01-09  Loan modification,collection,foreclosure    Hempstead   \n",
              "2    2014-06-02  Application, originator, mortgage broker     Manassas   \n",
              "3    2014-03-18              Settlement process and costs  Bakersfield   \n",
              "4    2013-08-06  Application, originator, mortgage broker  Sioux Falls   \n",
              "\n",
              "  Submitted via Date sent to company Company response to consumer  \\\n",
              "0           Web           2016-12-05      Closed with explanation   \n",
              "1      Referral           2013-01-11      Closed with explanation   \n",
              "2           Web           2014-06-02      Closed with explanation   \n",
              "3           Web           2014-03-17      Closed with explanation   \n",
              "4           Web           2013-08-07      Closed with explanation   \n",
              "\n",
              "   Time Difference  \n",
              "0              0.0  \n",
              "1         172800.0  \n",
              "2              0.0  \n",
              "3              0.0  \n",
              "4          86400.0  "
            ]
          },
          "metadata": {
            "tags": []
          },
          "execution_count": 22
        }
      ]
    },
    {
      "metadata": {
        "id": "r4yvSJWwNscO",
        "colab_type": "code",
        "colab": {
          "base_uri": "https://localhost:8080/",
          "height": 119
        },
        "outputId": "8dd43595-2d7d-4907-e620-3a0391e0def3"
      },
      "cell_type": "code",
      "source": [
        "from sklearn.preprocessing import MinMaxScaler\n",
        "values=data_req['Time Difference'].values.reshape((len(data_req['Time Difference']), 1))\n",
        "# train the normalization\n",
        "scaler = MinMaxScaler(feature_range=(0, 1))\n",
        "scaler = scaler.fit(values)\n",
        "# normalize the dataset\n",
        "data_req['Time Difference'] = scaler.transform(values)"
      ],
      "execution_count": 23,
      "outputs": [
        {
          "output_type": "stream",
          "text": [
            "/usr/local/lib/python3.6/dist-packages/ipykernel_launcher.py:7: SettingWithCopyWarning: \n",
            "A value is trying to be set on a copy of a slice from a DataFrame.\n",
            "Try using .loc[row_indexer,col_indexer] = value instead\n",
            "\n",
            "See the caveats in the documentation: http://pandas.pydata.org/pandas-docs/stable/indexing.html#indexing-view-versus-copy\n",
            "  import sys\n"
          ],
          "name": "stderr"
        }
      ]
    },
    {
      "metadata": {
        "id": "TI9NIxErOT6I",
        "colab_type": "code",
        "colab": {
          "base_uri": "https://localhost:8080/",
          "height": 204
        },
        "outputId": "4487fe3b-4b07-4b80-a198-6ebf24db1919"
      },
      "cell_type": "code",
      "source": [
        "data_req.head()"
      ],
      "execution_count": 24,
      "outputs": [
        {
          "output_type": "execute_result",
          "data": {
            "text/html": [
              "<div>\n",
              "<style scoped>\n",
              "    .dataframe tbody tr th:only-of-type {\n",
              "        vertical-align: middle;\n",
              "    }\n",
              "\n",
              "    .dataframe tbody tr th {\n",
              "        vertical-align: top;\n",
              "    }\n",
              "\n",
              "    .dataframe thead th {\n",
              "        text-align: right;\n",
              "    }\n",
              "</style>\n",
              "<table border=\"1\" class=\"dataframe\">\n",
              "  <thead>\n",
              "    <tr style=\"text-align: right;\">\n",
              "      <th></th>\n",
              "      <th>Date received</th>\n",
              "      <th>Issue</th>\n",
              "      <th>City</th>\n",
              "      <th>Submitted via</th>\n",
              "      <th>Date sent to company</th>\n",
              "      <th>Company response to consumer</th>\n",
              "      <th>Time Difference</th>\n",
              "    </tr>\n",
              "  </thead>\n",
              "  <tbody>\n",
              "    <tr>\n",
              "      <th>0</th>\n",
              "      <td>2016-12-05</td>\n",
              "      <td>Loan modification,collection,foreclosure</td>\n",
              "      <td>Newark</td>\n",
              "      <td>Web</td>\n",
              "      <td>2016-12-05</td>\n",
              "      <td>Closed with explanation</td>\n",
              "      <td>0.000000</td>\n",
              "    </tr>\n",
              "    <tr>\n",
              "      <th>1</th>\n",
              "      <td>2013-01-09</td>\n",
              "      <td>Loan modification,collection,foreclosure</td>\n",
              "      <td>Hempstead</td>\n",
              "      <td>Referral</td>\n",
              "      <td>2013-01-11</td>\n",
              "      <td>Closed with explanation</td>\n",
              "      <td>0.003846</td>\n",
              "    </tr>\n",
              "    <tr>\n",
              "      <th>2</th>\n",
              "      <td>2014-06-02</td>\n",
              "      <td>Application, originator, mortgage broker</td>\n",
              "      <td>Manassas</td>\n",
              "      <td>Web</td>\n",
              "      <td>2014-06-02</td>\n",
              "      <td>Closed with explanation</td>\n",
              "      <td>0.000000</td>\n",
              "    </tr>\n",
              "    <tr>\n",
              "      <th>3</th>\n",
              "      <td>2014-03-18</td>\n",
              "      <td>Settlement process and costs</td>\n",
              "      <td>Bakersfield</td>\n",
              "      <td>Web</td>\n",
              "      <td>2014-03-17</td>\n",
              "      <td>Closed with explanation</td>\n",
              "      <td>0.000000</td>\n",
              "    </tr>\n",
              "    <tr>\n",
              "      <th>4</th>\n",
              "      <td>2013-08-06</td>\n",
              "      <td>Application, originator, mortgage broker</td>\n",
              "      <td>Sioux Falls</td>\n",
              "      <td>Web</td>\n",
              "      <td>2013-08-07</td>\n",
              "      <td>Closed with explanation</td>\n",
              "      <td>0.001923</td>\n",
              "    </tr>\n",
              "  </tbody>\n",
              "</table>\n",
              "</div>"
            ],
            "text/plain": [
              "  Date received                                     Issue         City  \\\n",
              "0    2016-12-05  Loan modification,collection,foreclosure       Newark   \n",
              "1    2013-01-09  Loan modification,collection,foreclosure    Hempstead   \n",
              "2    2014-06-02  Application, originator, mortgage broker     Manassas   \n",
              "3    2014-03-18              Settlement process and costs  Bakersfield   \n",
              "4    2013-08-06  Application, originator, mortgage broker  Sioux Falls   \n",
              "\n",
              "  Submitted via Date sent to company Company response to consumer  \\\n",
              "0           Web           2016-12-05      Closed with explanation   \n",
              "1      Referral           2013-01-11      Closed with explanation   \n",
              "2           Web           2014-06-02      Closed with explanation   \n",
              "3           Web           2014-03-17      Closed with explanation   \n",
              "4           Web           2013-08-07      Closed with explanation   \n",
              "\n",
              "   Time Difference  \n",
              "0         0.000000  \n",
              "1         0.003846  \n",
              "2         0.000000  \n",
              "3         0.000000  \n",
              "4         0.001923  "
            ]
          },
          "metadata": {
            "tags": []
          },
          "execution_count": 24
        }
      ]
    },
    {
      "metadata": {
        "id": "T-8lBkHDOvnM",
        "colab_type": "code",
        "colab": {
          "base_uri": "https://localhost:8080/",
          "height": 187
        },
        "outputId": "2f168de7-2b8e-4661-d371-76518754e12d"
      },
      "cell_type": "code",
      "source": [
        "data_req=data_req.drop(data_req.columns[[0, 4]], axis=1)\n",
        "#data_req = data_req[data_req.State.isin(['AK','AL','AR','AZ','CA','CO','CT','DC','DE','FL','GA','HI','IA','ID','IL','IN','KS','KY','LA','MA','MD','ME','MI','MN','MO','MS','MT','NC','ND','NE','NH','NJ','NM','NV','NY','OH','OK','OR','PA','PR','RI','SC','SD','TN','TX','UT','VA','VT','WA','WI','WV','WY'])]\n",
        "\n",
        "data_req.info()"
      ],
      "execution_count": 25,
      "outputs": [
        {
          "output_type": "stream",
          "text": [
            "<class 'pandas.core.frame.DataFrame'>\n",
            "RangeIndex: 28431 entries, 0 to 28430\n",
            "Data columns (total 5 columns):\n",
            "Issue                           28431 non-null object\n",
            "City                            28431 non-null object\n",
            "Submitted via                   28431 non-null object\n",
            "Company response to consumer    28431 non-null object\n",
            "Time Difference                 28431 non-null float64\n",
            "dtypes: float64(1), object(4)\n",
            "memory usage: 1.1+ MB\n"
          ],
          "name": "stdout"
        }
      ]
    },
    {
      "metadata": {
        "id": "13JwFXVQsGdv",
        "colab_type": "code",
        "colab": {
          "base_uri": "https://localhost:8080/",
          "height": 204
        },
        "outputId": "e83a1875-977a-4a98-d006-be6b8839edcc"
      },
      "cell_type": "code",
      "source": [
        "data_req.head()"
      ],
      "execution_count": 26,
      "outputs": [
        {
          "output_type": "execute_result",
          "data": {
            "text/html": [
              "<div>\n",
              "<style scoped>\n",
              "    .dataframe tbody tr th:only-of-type {\n",
              "        vertical-align: middle;\n",
              "    }\n",
              "\n",
              "    .dataframe tbody tr th {\n",
              "        vertical-align: top;\n",
              "    }\n",
              "\n",
              "    .dataframe thead th {\n",
              "        text-align: right;\n",
              "    }\n",
              "</style>\n",
              "<table border=\"1\" class=\"dataframe\">\n",
              "  <thead>\n",
              "    <tr style=\"text-align: right;\">\n",
              "      <th></th>\n",
              "      <th>Issue</th>\n",
              "      <th>City</th>\n",
              "      <th>Submitted via</th>\n",
              "      <th>Company response to consumer</th>\n",
              "      <th>Time Difference</th>\n",
              "    </tr>\n",
              "  </thead>\n",
              "  <tbody>\n",
              "    <tr>\n",
              "      <th>0</th>\n",
              "      <td>Loan modification,collection,foreclosure</td>\n",
              "      <td>Newark</td>\n",
              "      <td>Web</td>\n",
              "      <td>Closed with explanation</td>\n",
              "      <td>0.000000</td>\n",
              "    </tr>\n",
              "    <tr>\n",
              "      <th>1</th>\n",
              "      <td>Loan modification,collection,foreclosure</td>\n",
              "      <td>Hempstead</td>\n",
              "      <td>Referral</td>\n",
              "      <td>Closed with explanation</td>\n",
              "      <td>0.003846</td>\n",
              "    </tr>\n",
              "    <tr>\n",
              "      <th>2</th>\n",
              "      <td>Application, originator, mortgage broker</td>\n",
              "      <td>Manassas</td>\n",
              "      <td>Web</td>\n",
              "      <td>Closed with explanation</td>\n",
              "      <td>0.000000</td>\n",
              "    </tr>\n",
              "    <tr>\n",
              "      <th>3</th>\n",
              "      <td>Settlement process and costs</td>\n",
              "      <td>Bakersfield</td>\n",
              "      <td>Web</td>\n",
              "      <td>Closed with explanation</td>\n",
              "      <td>0.000000</td>\n",
              "    </tr>\n",
              "    <tr>\n",
              "      <th>4</th>\n",
              "      <td>Application, originator, mortgage broker</td>\n",
              "      <td>Sioux Falls</td>\n",
              "      <td>Web</td>\n",
              "      <td>Closed with explanation</td>\n",
              "      <td>0.001923</td>\n",
              "    </tr>\n",
              "  </tbody>\n",
              "</table>\n",
              "</div>"
            ],
            "text/plain": [
              "                                      Issue         City Submitted via  \\\n",
              "0  Loan modification,collection,foreclosure       Newark           Web   \n",
              "1  Loan modification,collection,foreclosure    Hempstead      Referral   \n",
              "2  Application, originator, mortgage broker     Manassas           Web   \n",
              "3              Settlement process and costs  Bakersfield           Web   \n",
              "4  Application, originator, mortgage broker  Sioux Falls           Web   \n",
              "\n",
              "  Company response to consumer  Time Difference  \n",
              "0      Closed with explanation         0.000000  \n",
              "1      Closed with explanation         0.003846  \n",
              "2      Closed with explanation         0.000000  \n",
              "3      Closed with explanation         0.000000  \n",
              "4      Closed with explanation         0.001923  "
            ]
          },
          "metadata": {
            "tags": []
          },
          "execution_count": 26
        }
      ]
    },
    {
      "metadata": {
        "id": "T-HIUdp9THnY",
        "colab_type": "code",
        "colab": {
          "base_uri": "https://localhost:8080/",
          "height": 289
        },
        "outputId": "24f8ba4e-96aa-4dfc-c24c-95fc50733dc0"
      },
      "cell_type": "code",
      "source": [
        "data_req['Issue'].value_counts(dropna=False)"
      ],
      "execution_count": 27,
      "outputs": [
        {
          "output_type": "execute_result",
          "data": {
            "text/plain": [
              "Loan modification,collection,foreclosure                                            15251\n",
              "Loan servicing, payments, escrow account                                             6663\n",
              "Application, originator, mortgage broker                                             2054\n",
              "Struggling to pay mortgage                                                           1048\n",
              "Trouble during payment process                                                        864\n",
              "Settlement process and costs                                                          837\n",
              "Other                                                                                 706\n",
              "Credit decision / Underwriting                                                        698\n",
              "Applying for a mortgage or refinancing an existing mortgage                           127\n",
              "Closing on a mortgage                                                                  84\n",
              "Incorrect information on your report                                                   46\n",
              "Applying for a mortgage                                                                38\n",
              "Problem with a credit reporting company's investigation into an existing problem       11\n",
              "Improper use of your report                                                             3\n",
              "Unable to get your credit report or credit score                                        1\n",
              "Name: Issue, dtype: int64"
            ]
          },
          "metadata": {
            "tags": []
          },
          "execution_count": 27
        }
      ]
    },
    {
      "metadata": {
        "id": "ihEUdbUnUvT_",
        "colab_type": "code",
        "colab": {
          "base_uri": "https://localhost:8080/",
          "height": 1071
        },
        "outputId": "4f52bf10-0196-42c1-cb9e-75cc7475ee5f"
      },
      "cell_type": "code",
      "source": [
        "data_req['City'].value_counts(dropna=False)"
      ],
      "execution_count": 28,
      "outputs": [
        {
          "output_type": "execute_result",
          "data": {
            "text/plain": [
              "Miami              513\n",
              "Los Angeles        296\n",
              "Atlanta            266\n",
              "Brooklyn           231\n",
              "Chicago            227\n",
              "San Diego          194\n",
              "Philadelphia       190\n",
              "Jacksonville       157\n",
              "Fort Lauderdale    157\n",
              "Washington         156\n",
              "Las Vegas          154\n",
              "San Francisco      143\n",
              "Pompano Beach      143\n",
              "New York           137\n",
              "Charlotte          137\n",
              "Orlando            129\n",
              "San Jose           128\n",
              "Seattle            123\n",
              "Sacramento         122\n",
              "Minneapolis        122\n",
              "Houston            119\n",
              "Phoenix            113\n",
              "Portland           111\n",
              "West Palm Beach    105\n",
              "Hollywood          104\n",
              "Dallas             101\n",
              "Oakland             99\n",
              "Baltimore           98\n",
              "Corona              96\n",
              "San Antonio         92\n",
              "                  ... \n",
              "Dwight               1\n",
              "Langley              1\n",
              "Scenery Hill         1\n",
              "Davidsonville        1\n",
              "Gouldsboro           1\n",
              "Mulino               1\n",
              "Potsdam              1\n",
              "Brainard             1\n",
              "Capitan              1\n",
              "Groveland            1\n",
              "Roscommon            1\n",
              "Forestville          1\n",
              "Canyon City          1\n",
              "Piedmont             1\n",
              "Gardendale           1\n",
              "Vale                 1\n",
              "Nunn                 1\n",
              "Robertsdale          1\n",
              "Columbia City        1\n",
              "Queensbury           1\n",
              "Shaftsbury           1\n",
              "Ironton              1\n",
              "Kemp                 1\n",
              "Big Sky              1\n",
              "Orchard Park         1\n",
              "Evanston             1\n",
              "Avon By The Sea      1\n",
              "Suffield             1\n",
              "Wasco                1\n",
              "Richboro             1\n",
              "Name: City, Length: 4520, dtype: int64"
            ]
          },
          "metadata": {
            "tags": []
          },
          "execution_count": 28
        }
      ]
    },
    {
      "metadata": {
        "id": "USZY_CTRU1-U",
        "colab_type": "code",
        "colab": {
          "base_uri": "https://localhost:8080/",
          "height": 136
        },
        "outputId": "5f9cbc7c-5d5a-4262-b799-5486b233096a"
      },
      "cell_type": "code",
      "source": [
        "data_req['Submitted via'].value_counts(dropna=False)"
      ],
      "execution_count": 29,
      "outputs": [
        {
          "output_type": "execute_result",
          "data": {
            "text/plain": [
              "Web            12752\n",
              "Referral       11201\n",
              "Phone           1909\n",
              "Postal mail     1830\n",
              "Fax              719\n",
              "Email             20\n",
              "Name: Submitted via, dtype: int64"
            ]
          },
          "metadata": {
            "tags": []
          },
          "execution_count": 29
        }
      ]
    },
    {
      "metadata": {
        "id": "0H3FpR3yVTiU",
        "colab_type": "code",
        "colab": {
          "base_uri": "https://localhost:8080/",
          "height": 170
        },
        "outputId": "16a678db-d5ce-411d-94ee-c2a9a8455bbd"
      },
      "cell_type": "code",
      "source": [
        "data_req['Company response to consumer'].value_counts(dropna=False)"
      ],
      "execution_count": 30,
      "outputs": [
        {
          "output_type": "execute_result",
          "data": {
            "text/plain": [
              "Closed with explanation            24150\n",
              "Closed without relief               1952\n",
              "Closed with non-monetary relief     1343\n",
              "Closed with monetary relief          793\n",
              "In progress                           92\n",
              "Closed with relief                    56\n",
              "Closed                                41\n",
              "Untimely response                      4\n",
              "Name: Company response to consumer, dtype: int64"
            ]
          },
          "metadata": {
            "tags": []
          },
          "execution_count": 30
        }
      ]
    },
    {
      "metadata": {
        "id": "VsgpYY56VbDl",
        "colab_type": "code",
        "colab": {
          "base_uri": "https://localhost:8080/",
          "height": 1071
        },
        "outputId": "c235bb5b-f0e3-4078-8151-b03b35dfb996"
      },
      "cell_type": "code",
      "source": [
        "data_req['Time Difference'].value_counts(dropna=False)"
      ],
      "execution_count": 31,
      "outputs": [
        {
          "output_type": "execute_result",
          "data": {
            "text/plain": [
              "0.000000    9272\n",
              "0.001923    5715\n",
              "0.003846    3173\n",
              "0.005769    2385\n",
              "0.007692    2221\n",
              "0.009615    1901\n",
              "0.011538    1233\n",
              "0.013462     805\n",
              "0.015385     274\n",
              "0.019231     139\n",
              "0.017308     134\n",
              "0.028846      91\n",
              "0.025000      86\n",
              "0.021154      83\n",
              "0.023077      82\n",
              "0.026923      65\n",
              "0.032692      61\n",
              "0.030769      42\n",
              "0.036538      37\n",
              "0.067308      35\n",
              "0.042308      31\n",
              "0.038462      30\n",
              "0.034615      29\n",
              "0.040385      28\n",
              "0.053846      24\n",
              "0.055769      23\n",
              "0.044231      23\n",
              "0.075000      22\n",
              "0.069231      21\n",
              "0.046154      21\n",
              "            ... \n",
              "0.494231       1\n",
              "0.432692       1\n",
              "0.171154       1\n",
              "0.234615       1\n",
              "0.486538       1\n",
              "0.446154       1\n",
              "0.450000       1\n",
              "0.167308       1\n",
              "0.392308       1\n",
              "0.361538       1\n",
              "0.251923       1\n",
              "0.121154       1\n",
              "0.176923       1\n",
              "0.436538       1\n",
              "0.415385       1\n",
              "0.405769       1\n",
              "0.190385       1\n",
              "0.157692       1\n",
              "0.200000       1\n",
              "0.178846       1\n",
              "0.134615       1\n",
              "0.334615       1\n",
              "0.496154       1\n",
              "0.350000       1\n",
              "0.690385       1\n",
              "0.226923       1\n",
              "0.746154       1\n",
              "0.125000       1\n",
              "0.769231       1\n",
              "0.365385       1\n",
              "Name: Time Difference, Length: 147, dtype: int64"
            ]
          },
          "metadata": {
            "tags": []
          },
          "execution_count": 31
        }
      ]
    },
    {
      "metadata": {
        "id": "VVYWjSUuWK5W",
        "colab_type": "code",
        "colab": {}
      },
      "cell_type": "code",
      "source": [
        "data_req=data_req.dropna(how='any')  "
      ],
      "execution_count": 0,
      "outputs": []
    },
    {
      "metadata": {
        "id": "xzu-XLi5Y42B",
        "colab_type": "code",
        "colab": {}
      },
      "cell_type": "code",
      "source": [
        ""
      ],
      "execution_count": 0,
      "outputs": []
    },
    {
      "metadata": {
        "id": "wmKey6UyY9qd",
        "colab_type": "code",
        "colab": {
          "base_uri": "https://localhost:8080/",
          "height": 204
        },
        "outputId": "f3915833-167e-493e-c4dc-8135458be540"
      },
      "cell_type": "code",
      "source": [
        "#data_req[:5]['Total Days'] / np.timedelta64(1, 's')\n",
        "data_req.head()"
      ],
      "execution_count": 33,
      "outputs": [
        {
          "output_type": "execute_result",
          "data": {
            "text/html": [
              "<div>\n",
              "<style scoped>\n",
              "    .dataframe tbody tr th:only-of-type {\n",
              "        vertical-align: middle;\n",
              "    }\n",
              "\n",
              "    .dataframe tbody tr th {\n",
              "        vertical-align: top;\n",
              "    }\n",
              "\n",
              "    .dataframe thead th {\n",
              "        text-align: right;\n",
              "    }\n",
              "</style>\n",
              "<table border=\"1\" class=\"dataframe\">\n",
              "  <thead>\n",
              "    <tr style=\"text-align: right;\">\n",
              "      <th></th>\n",
              "      <th>Issue</th>\n",
              "      <th>City</th>\n",
              "      <th>Submitted via</th>\n",
              "      <th>Company response to consumer</th>\n",
              "      <th>Time Difference</th>\n",
              "    </tr>\n",
              "  </thead>\n",
              "  <tbody>\n",
              "    <tr>\n",
              "      <th>0</th>\n",
              "      <td>Loan modification,collection,foreclosure</td>\n",
              "      <td>Newark</td>\n",
              "      <td>Web</td>\n",
              "      <td>Closed with explanation</td>\n",
              "      <td>0.000000</td>\n",
              "    </tr>\n",
              "    <tr>\n",
              "      <th>1</th>\n",
              "      <td>Loan modification,collection,foreclosure</td>\n",
              "      <td>Hempstead</td>\n",
              "      <td>Referral</td>\n",
              "      <td>Closed with explanation</td>\n",
              "      <td>0.003846</td>\n",
              "    </tr>\n",
              "    <tr>\n",
              "      <th>2</th>\n",
              "      <td>Application, originator, mortgage broker</td>\n",
              "      <td>Manassas</td>\n",
              "      <td>Web</td>\n",
              "      <td>Closed with explanation</td>\n",
              "      <td>0.000000</td>\n",
              "    </tr>\n",
              "    <tr>\n",
              "      <th>3</th>\n",
              "      <td>Settlement process and costs</td>\n",
              "      <td>Bakersfield</td>\n",
              "      <td>Web</td>\n",
              "      <td>Closed with explanation</td>\n",
              "      <td>0.000000</td>\n",
              "    </tr>\n",
              "    <tr>\n",
              "      <th>4</th>\n",
              "      <td>Application, originator, mortgage broker</td>\n",
              "      <td>Sioux Falls</td>\n",
              "      <td>Web</td>\n",
              "      <td>Closed with explanation</td>\n",
              "      <td>0.001923</td>\n",
              "    </tr>\n",
              "  </tbody>\n",
              "</table>\n",
              "</div>"
            ],
            "text/plain": [
              "                                      Issue         City Submitted via  \\\n",
              "0  Loan modification,collection,foreclosure       Newark           Web   \n",
              "1  Loan modification,collection,foreclosure    Hempstead      Referral   \n",
              "2  Application, originator, mortgage broker     Manassas           Web   \n",
              "3              Settlement process and costs  Bakersfield           Web   \n",
              "4  Application, originator, mortgage broker  Sioux Falls           Web   \n",
              "\n",
              "  Company response to consumer  Time Difference  \n",
              "0      Closed with explanation         0.000000  \n",
              "1      Closed with explanation         0.003846  \n",
              "2      Closed with explanation         0.000000  \n",
              "3      Closed with explanation         0.000000  \n",
              "4      Closed with explanation         0.001923  "
            ]
          },
          "metadata": {
            "tags": []
          },
          "execution_count": 33
        }
      ]
    },
    {
      "metadata": {
        "id": "U1vZhBzten_d",
        "colab_type": "code",
        "colab": {
          "base_uri": "https://localhost:8080/",
          "height": 136
        },
        "outputId": "4075462c-1cd1-426d-fd83-59e710480ed5"
      },
      "cell_type": "code",
      "source": [
        "!pip install kmodes"
      ],
      "execution_count": 34,
      "outputs": [
        {
          "output_type": "stream",
          "text": [
            "Collecting kmodes\n",
            "  Downloading https://files.pythonhosted.org/packages/1a/d5/54e0efa2ddf33234761f8c35471f4a2280bb4cef44fd39fa08f1e663946a/kmodes-0.9-py2.py3-none-any.whl\n",
            "Requirement already satisfied: scipy>=0.13.3 in /usr/local/lib/python3.6/dist-packages (from kmodes) (0.19.1)\n",
            "Requirement already satisfied: numpy>=1.10.4 in /usr/local/lib/python3.6/dist-packages (from kmodes) (1.14.5)\n",
            "Requirement already satisfied: scikit-learn<0.20.0,>=0.19.0 in /usr/local/lib/python3.6/dist-packages (from kmodes) (0.19.2)\n",
            "Installing collected packages: kmodes\n",
            "Successfully installed kmodes-0.9\n"
          ],
          "name": "stdout"
        }
      ]
    },
    {
      "metadata": {
        "id": "AZYgFcLVeoSV",
        "colab_type": "code",
        "colab": {}
      },
      "cell_type": "code",
      "source": [
        "from kmodes.kprototypes import KPrototypes"
      ],
      "execution_count": 0,
      "outputs": []
    },
    {
      "metadata": {
        "id": "pD1bpd8ejtbN",
        "colab_type": "code",
        "colab": {}
      },
      "cell_type": "code",
      "source": [
        "km = KPrototypes(n_clusters=10, init='Huang', n_init=10, verbose=1)"
      ],
      "execution_count": 0,
      "outputs": []
    },
    {
      "metadata": {
        "id": "qXH97qFGjtwE",
        "colab_type": "code",
        "colab": {
          "base_uri": "https://localhost:8080/",
          "height": 2057
        },
        "outputId": "2fe14ea5-45e2-4c36-b5e1-bbfec01ef602"
      },
      "cell_type": "code",
      "source": [
        "#clusters = km.fit_predict(data_req_new)\n",
        "clusters = km.fit_predict(data_req.as_matrix(), categorical=list(range(0,4)))"
      ],
      "execution_count": 38,
      "outputs": [
        {
          "output_type": "stream",
          "text": [
            "Init: initializing centroids\n",
            "Init: initializing clusters\n",
            "Starting iterations...\n",
            "Run: 1, iteration: 1/100, moves: 11866, ncost: 514.8898043919216\n",
            "Run: 1, iteration: 2/100, moves: 6113, ncost: 514.4761925674758\n",
            "Run: 1, iteration: 3/100, moves: 883, ncost: 514.463391602865\n",
            "Run: 1, iteration: 4/100, moves: 50, ncost: 514.4541573429034\n",
            "Run: 1, iteration: 5/100, moves: 40, ncost: 514.4520623609253\n",
            "Run: 1, iteration: 6/100, moves: 6, ncost: 514.4519318956159\n",
            "Run: 1, iteration: 7/100, moves: 0, ncost: 514.4519318956159\n",
            "Init: initializing centroids\n",
            "Init: initializing clusters\n",
            "Starting iterations...\n",
            "Run: 2, iteration: 1/100, moves: 11668, ncost: 540.8051971976598\n",
            "Run: 2, iteration: 2/100, moves: 2253, ncost: 536.5641541099334\n",
            "Run: 2, iteration: 3/100, moves: 1785, ncost: 536.283638740516\n",
            "Run: 2, iteration: 4/100, moves: 1328, ncost: 536.240621118507\n",
            "Run: 2, iteration: 5/100, moves: 633, ncost: 536.2272740539516\n",
            "Run: 2, iteration: 6/100, moves: 52, ncost: 536.2265243625073\n",
            "Run: 2, iteration: 7/100, moves: 186, ncost: 536.2265043014612\n",
            "Run: 2, iteration: 8/100, moves: 0, ncost: 536.2265043014612\n",
            "Init: initializing centroids\n",
            "Init: initializing clusters\n",
            "Starting iterations...\n",
            "Run: 3, iteration: 1/100, moves: 9559, ncost: 505.753629841477\n",
            "Run: 3, iteration: 2/100, moves: 2822, ncost: 504.3083128313219\n",
            "Run: 3, iteration: 3/100, moves: 298, ncost: 504.2248808377289\n",
            "Run: 3, iteration: 4/100, moves: 79, ncost: 503.8337025102046\n",
            "Run: 3, iteration: 5/100, moves: 52, ncost: 503.82473101324456\n",
            "Run: 3, iteration: 6/100, moves: 19, ncost: 503.8234754044743\n",
            "Run: 3, iteration: 7/100, moves: 3, ncost: 503.8234673628238\n",
            "Run: 3, iteration: 8/100, moves: 0, ncost: 503.8234673628238\n",
            "Init: initializing centroids\n",
            "Init: initializing clusters\n",
            "Starting iterations...\n",
            "Run: 4, iteration: 1/100, moves: 8546, ncost: 520.946856942531\n",
            "Run: 4, iteration: 2/100, moves: 4075, ncost: 516.1538400596186\n",
            "Run: 4, iteration: 3/100, moves: 1948, ncost: 515.4131106579256\n",
            "Run: 4, iteration: 4/100, moves: 755, ncost: 515.3386999677251\n",
            "Run: 4, iteration: 5/100, moves: 69, ncost: 515.3371256999212\n",
            "Run: 4, iteration: 6/100, moves: 8, ncost: 515.3371144942389\n",
            "Run: 4, iteration: 7/100, moves: 0, ncost: 515.3371144942389\n",
            "Init: initializing centroids\n",
            "Init: initializing clusters\n",
            "Starting iterations...\n",
            "Run: 5, iteration: 1/100, moves: 9029, ncost: 493.4282035796427\n",
            "Run: 5, iteration: 2/100, moves: 1846, ncost: 478.0892791277181\n",
            "Run: 5, iteration: 3/100, moves: 1722, ncost: 476.27092371840826\n",
            "Run: 5, iteration: 4/100, moves: 314, ncost: 475.953605347146\n",
            "Run: 5, iteration: 5/100, moves: 284, ncost: 475.94757769850844\n",
            "Run: 5, iteration: 6/100, moves: 135, ncost: 475.9473082589057\n",
            "Run: 5, iteration: 7/100, moves: 6, ncost: 475.9473082579642\n",
            "Run: 5, iteration: 8/100, moves: 0, ncost: 475.9473082579642\n",
            "Init: initializing centroids\n",
            "Init: initializing clusters\n",
            "Starting iterations...\n",
            "Run: 6, iteration: 1/100, moves: 12151, ncost: 518.7124047207072\n",
            "Run: 6, iteration: 2/100, moves: 4368, ncost: 517.5989946944597\n",
            "Run: 6, iteration: 3/100, moves: 2705, ncost: 517.2915876688121\n",
            "Run: 6, iteration: 4/100, moves: 980, ncost: 517.2602872438638\n",
            "Run: 6, iteration: 5/100, moves: 664, ncost: 517.2297126484073\n",
            "Run: 6, iteration: 6/100, moves: 322, ncost: 517.1624542323818\n",
            "Run: 6, iteration: 7/100, moves: 91, ncost: 516.611008855361\n",
            "Run: 6, iteration: 8/100, moves: 34, ncost: 516.6069691279255\n",
            "Run: 6, iteration: 9/100, moves: 10, ncost: 516.6067658243769\n",
            "Run: 6, iteration: 10/100, moves: 3, ncost: 516.6067526452108\n",
            "Run: 6, iteration: 11/100, moves: 0, ncost: 516.6067526452108\n",
            "Init: initializing centroids\n",
            "Init: initializing clusters\n",
            "Starting iterations...\n",
            "Run: 7, iteration: 1/100, moves: 14564, ncost: 509.24418168604507\n",
            "Run: 7, iteration: 2/100, moves: 4682, ncost: 483.52558089538644\n",
            "Run: 7, iteration: 3/100, moves: 834, ncost: 479.13475616970044\n",
            "Run: 7, iteration: 4/100, moves: 459, ncost: 477.6047827916241\n",
            "Run: 7, iteration: 5/100, moves: 285, ncost: 477.5797992422634\n",
            "Run: 7, iteration: 6/100, moves: 192, ncost: 477.5774017773456\n",
            "Run: 7, iteration: 7/100, moves: 212, ncost: 477.5730293498569\n",
            "Run: 7, iteration: 8/100, moves: 25, ncost: 477.56638510732296\n",
            "Run: 7, iteration: 9/100, moves: 48, ncost: 477.5635505181746\n",
            "Run: 7, iteration: 10/100, moves: 13, ncost: 477.56334626404373\n",
            "Run: 7, iteration: 11/100, moves: 0, ncost: 477.56334626404373\n",
            "Init: initializing centroids\n",
            "Init: initializing clusters\n",
            "Starting iterations...\n",
            "Run: 8, iteration: 1/100, moves: 7163, ncost: 522.6974648827161\n",
            "Run: 8, iteration: 2/100, moves: 1791, ncost: 522.6571887212326\n",
            "Run: 8, iteration: 3/100, moves: 653, ncost: 522.6199880552282\n",
            "Run: 8, iteration: 4/100, moves: 139, ncost: 522.2309376579252\n",
            "Run: 8, iteration: 5/100, moves: 323, ncost: 514.6277706881774\n",
            "Run: 8, iteration: 6/100, moves: 321, ncost: 513.2717916164092\n",
            "Run: 8, iteration: 7/100, moves: 822, ncost: 513.181888885294\n",
            "Run: 8, iteration: 8/100, moves: 1140, ncost: 512.8106249600726\n",
            "Run: 8, iteration: 9/100, moves: 837, ncost: 512.6766287363403\n",
            "Run: 8, iteration: 10/100, moves: 1377, ncost: 512.6391871920093\n",
            "Run: 8, iteration: 11/100, moves: 675, ncost: 508.2291068077116\n",
            "Run: 8, iteration: 12/100, moves: 467, ncost: 508.1283464639768\n",
            "Run: 8, iteration: 13/100, moves: 197, ncost: 508.12777086734224\n",
            "Run: 8, iteration: 14/100, moves: 2, ncost: 508.12777080060766\n",
            "Run: 8, iteration: 15/100, moves: 0, ncost: 508.12777080060766\n",
            "Init: initializing centroids\n",
            "Init: initializing clusters\n",
            "Starting iterations...\n",
            "Run: 9, iteration: 1/100, moves: 6040, ncost: 524.0841134735446\n",
            "Run: 9, iteration: 2/100, moves: 5004, ncost: 495.4696042996668\n",
            "Run: 9, iteration: 3/100, moves: 1160, ncost: 495.4501369267192\n",
            "Run: 9, iteration: 4/100, moves: 34, ncost: 495.44873421553996\n",
            "Run: 9, iteration: 5/100, moves: 102, ncost: 495.44778586546545\n",
            "Run: 9, iteration: 6/100, moves: 78, ncost: 495.4477760038323\n",
            "Run: 9, iteration: 7/100, moves: 0, ncost: 495.4477760038323\n",
            "Init: initializing centroids\n",
            "Init: initializing clusters\n",
            "Starting iterations...\n",
            "Run: 10, iteration: 1/100, moves: 6334, ncost: 493.9955242175229\n",
            "Run: 10, iteration: 2/100, moves: 1543, ncost: 487.7451421584951\n",
            "Run: 10, iteration: 3/100, moves: 390, ncost: 483.50511718959535\n",
            "Run: 10, iteration: 4/100, moves: 82, ncost: 483.36806137828165\n",
            "Run: 10, iteration: 5/100, moves: 3, ncost: 483.3634564855017\n",
            "Run: 10, iteration: 6/100, moves: 1, ncost: 483.3629400608474\n",
            "Run: 10, iteration: 7/100, moves: 0, ncost: 483.3629400608474\n",
            "Best run was number 5\n"
          ],
          "name": "stdout"
        }
      ]
    },
    {
      "metadata": {
        "id": "1kqEPYR5l0tu",
        "colab_type": "code",
        "colab": {
          "base_uri": "https://localhost:8080/",
          "height": 935
        },
        "outputId": "e6526534-d839-43f1-bfcb-35f2e904f5c7"
      },
      "cell_type": "code",
      "source": [
        "from kmodes.kprototypes import KPrototypes\n",
        "km = KPrototypes(n_clusters=10, init='Huang', n_init=5, verbose=1)\n",
        "clusters = km.fit_predict(data_req.as_matrix(), categorical=list(range(0,4)))"
      ],
      "execution_count": 39,
      "outputs": [
        {
          "output_type": "stream",
          "text": [
            "Init: initializing centroids\n",
            "Init: initializing clusters\n",
            "Starting iterations...\n",
            "Run: 1, iteration: 1/100, moves: 5885, ncost: 507.126544215113\n",
            "Run: 1, iteration: 2/100, moves: 3304, ncost: 497.64997731973136\n",
            "Run: 1, iteration: 3/100, moves: 1236, ncost: 497.2522339466035\n",
            "Run: 1, iteration: 4/100, moves: 418, ncost: 497.22996737509334\n",
            "Run: 1, iteration: 5/100, moves: 129, ncost: 497.22855961562686\n",
            "Run: 1, iteration: 6/100, moves: 5, ncost: 497.2285043465457\n",
            "Run: 1, iteration: 7/100, moves: 1, ncost: 497.22850434262256\n",
            "Run: 1, iteration: 8/100, moves: 0, ncost: 497.22850434262256\n",
            "Init: initializing centroids\n",
            "Init: initializing clusters\n",
            "Starting iterations...\n",
            "Run: 2, iteration: 1/100, moves: 9484, ncost: 498.6600459017147\n",
            "Run: 2, iteration: 2/100, moves: 3944, ncost: 491.8553992419561\n",
            "Run: 2, iteration: 3/100, moves: 1218, ncost: 491.6976009420337\n",
            "Run: 2, iteration: 4/100, moves: 514, ncost: 491.637335322249\n",
            "Run: 2, iteration: 5/100, moves: 689, ncost: 491.5707649692257\n",
            "Run: 2, iteration: 6/100, moves: 491, ncost: 491.4948934947152\n",
            "Run: 2, iteration: 7/100, moves: 147, ncost: 491.44904086467443\n",
            "Run: 2, iteration: 8/100, moves: 11, ncost: 491.4400273580227\n",
            "Run: 2, iteration: 9/100, moves: 6, ncost: 491.43908877084124\n",
            "Run: 2, iteration: 10/100, moves: 0, ncost: 491.43908877084124\n",
            "Init: initializing centroids\n",
            "Init: initializing clusters\n",
            "Starting iterations...\n",
            "Run: 3, iteration: 1/100, moves: 5723, ncost: 505.25058627322943\n",
            "Run: 3, iteration: 2/100, moves: 1288, ncost: 504.84469648774717\n",
            "Run: 3, iteration: 3/100, moves: 157, ncost: 504.8090900490949\n",
            "Run: 3, iteration: 4/100, moves: 26, ncost: 504.8070247729179\n",
            "Run: 3, iteration: 5/100, moves: 0, ncost: 504.8070247729179\n",
            "Init: initializing centroids\n",
            "Init: initializing clusters\n",
            "Starting iterations...\n",
            "Run: 4, iteration: 1/100, moves: 9218, ncost: 495.86158191471804\n",
            "Run: 4, iteration: 2/100, moves: 1570, ncost: 493.9564123306177\n",
            "Run: 4, iteration: 3/100, moves: 539, ncost: 493.88139414217875\n",
            "Run: 4, iteration: 4/100, moves: 198, ncost: 493.8794207121273\n",
            "Run: 4, iteration: 5/100, moves: 113, ncost: 493.8792530780785\n",
            "Run: 4, iteration: 6/100, moves: 18, ncost: 493.87925082830543\n",
            "Run: 4, iteration: 7/100, moves: 0, ncost: 493.87925082830543\n",
            "Init: initializing centroids\n",
            "Init: initializing clusters\n",
            "Starting iterations...\n",
            "Run: 5, iteration: 1/100, moves: 17321, ncost: 533.7414940406668\n",
            "Run: 5, iteration: 2/100, moves: 3672, ncost: 530.9520102680584\n",
            "Run: 5, iteration: 3/100, moves: 2152, ncost: 529.6636868524438\n",
            "Run: 5, iteration: 4/100, moves: 1207, ncost: 529.6446072126317\n",
            "Run: 5, iteration: 5/100, moves: 598, ncost: 529.6322921892992\n",
            "Run: 5, iteration: 6/100, moves: 127, ncost: 529.6262625498568\n",
            "Run: 5, iteration: 7/100, moves: 10, ncost: 529.6259653944386\n",
            "Run: 5, iteration: 8/100, moves: 0, ncost: 529.6259653944386\n",
            "Best run was number 2\n"
          ],
          "name": "stdout"
        }
      ]
    },
    {
      "metadata": {
        "id": "WxIQAFpjn_iT",
        "colab_type": "code",
        "colab": {
          "base_uri": "https://localhost:8080/",
          "height": 697
        },
        "outputId": "d9dbad68-ed4d-4cfd-da14-3b7fa56b4e29"
      },
      "cell_type": "code",
      "source": [
        "from kmodes.kprototypes import KPrototypes\n",
        "km = KPrototypes(n_clusters=10, init='Huang', n_init=3, verbose=1)\n",
        "clusters = km.fit_predict(data_req.as_matrix(), categorical=list(range(0,4)))"
      ],
      "execution_count": 40,
      "outputs": [
        {
          "output_type": "stream",
          "text": [
            "Init: initializing centroids\n",
            "Init: initializing clusters\n",
            "Starting iterations...\n",
            "Run: 1, iteration: 1/100, moves: 6878, ncost: 512.8507881234732\n",
            "Run: 1, iteration: 2/100, moves: 1856, ncost: 509.00783912193464\n",
            "Run: 1, iteration: 3/100, moves: 277, ncost: 508.93637472410074\n",
            "Run: 1, iteration: 4/100, moves: 52, ncost: 508.9205556107985\n",
            "Run: 1, iteration: 5/100, moves: 16, ncost: 508.9118988496269\n",
            "Run: 1, iteration: 6/100, moves: 278, ncost: 508.90315712592104\n",
            "Run: 1, iteration: 7/100, moves: 511, ncost: 508.8942793623473\n",
            "Run: 1, iteration: 8/100, moves: 466, ncost: 508.8790564454952\n",
            "Run: 1, iteration: 9/100, moves: 387, ncost: 508.8559188565612\n",
            "Run: 1, iteration: 10/100, moves: 153, ncost: 508.8494240809889\n",
            "Run: 1, iteration: 11/100, moves: 45, ncost: 508.8487792534803\n",
            "Run: 1, iteration: 12/100, moves: 0, ncost: 508.8487792534803\n",
            "Init: initializing centroids\n",
            "Init: initializing clusters\n",
            "Starting iterations...\n",
            "Run: 2, iteration: 1/100, moves: 9955, ncost: 501.0104358022263\n",
            "Run: 2, iteration: 2/100, moves: 2861, ncost: 500.9116935537737\n",
            "Run: 2, iteration: 3/100, moves: 790, ncost: 500.8732365431829\n",
            "Run: 2, iteration: 4/100, moves: 919, ncost: 495.8763464954576\n",
            "Run: 2, iteration: 5/100, moves: 739, ncost: 490.88757166490296\n",
            "Run: 2, iteration: 6/100, moves: 192, ncost: 490.7261722873072\n",
            "Run: 2, iteration: 7/100, moves: 12, ncost: 490.7238740557737\n",
            "Run: 2, iteration: 8/100, moves: 0, ncost: 490.7238740557737\n",
            "Init: initializing centroids\n",
            "Init: initializing clusters\n",
            "Starting iterations...\n",
            "Run: 3, iteration: 1/100, moves: 7708, ncost: 536.0639416690518\n",
            "Run: 3, iteration: 2/100, moves: 4467, ncost: 531.0520302781016\n",
            "Run: 3, iteration: 3/100, moves: 2670, ncost: 530.3692136202197\n",
            "Run: 3, iteration: 4/100, moves: 1617, ncost: 530.1905830988342\n",
            "Run: 3, iteration: 5/100, moves: 2903, ncost: 529.7536137798583\n",
            "Run: 3, iteration: 6/100, moves: 2073, ncost: 529.7307015882585\n",
            "Run: 3, iteration: 7/100, moves: 190, ncost: 529.7273695381633\n",
            "Run: 3, iteration: 8/100, moves: 104, ncost: 529.7272917265898\n",
            "Run: 3, iteration: 9/100, moves: 106, ncost: 529.7272564673989\n",
            "Run: 3, iteration: 10/100, moves: 0, ncost: 529.7272564673989\n",
            "Best run was number 2\n"
          ],
          "name": "stdout"
        }
      ]
    },
    {
      "metadata": {
        "id": "ENqVdMQFjuMU",
        "colab_type": "code",
        "colab": {
          "base_uri": "https://localhost:8080/",
          "height": 493
        },
        "outputId": "770762ac-7a28-4b29-da31-193fefdeab6e"
      },
      "cell_type": "code",
      "source": [
        "print(km.cluster_centroids_)"
      ],
      "execution_count": 41,
      "outputs": [
        {
          "output_type": "stream",
          "text": [
            "[array([[0.02515635],\n",
            "       [0.01395378],\n",
            "       [0.0077714 ],\n",
            "       [0.00862016],\n",
            "       [0.0027081 ],\n",
            "       [0.00094874],\n",
            "       [0.00936184],\n",
            "       [0.40916132],\n",
            "       [0.00493951],\n",
            "       [0.00725912]]), array([['Struggling to pay mortgage', 'San Jose', 'Referral',\n",
            "        'Closed with explanation'],\n",
            "       ['Loan modification,collection,foreclosure', 'Miami', 'Web',\n",
            "        'Closed with explanation'],\n",
            "       ['Loan modification,collection,foreclosure', 'Miami', 'Referral',\n",
            "        'Closed with explanation'],\n",
            "       ['Loan modification,collection,foreclosure', 'Commerce Township',\n",
            "        'Fax', 'Closed with explanation'],\n",
            "       ['Loan servicing, payments, escrow account', 'Los Angeles', 'Web',\n",
            "        'Closed with explanation'],\n",
            "       ['Loan modification,collection,foreclosure', 'New York', 'Web',\n",
            "        'Closed with explanation'],\n",
            "       ['Other', 'Atlanta', 'Referral', 'Closed with explanation'],\n",
            "       ['Loan modification,collection,foreclosure', 'Los Angeles', 'Web',\n",
            "        'Closed with explanation'],\n",
            "       ['Loan modification,collection,foreclosure', 'Houston', 'Phone',\n",
            "        'Closed with explanation'],\n",
            "       ['Loan servicing, payments, escrow account', 'Chicago',\n",
            "        'Referral', 'Closed with explanation']], dtype='<U40')]\n"
          ],
          "name": "stdout"
        }
      ]
    },
    {
      "metadata": {
        "id": "xmUGtPPflvoK",
        "colab_type": "code",
        "colab": {}
      },
      "cell_type": "code",
      "source": [
        "clusters=clusters.reshape(28431,1)"
      ],
      "execution_count": 0,
      "outputs": []
    },
    {
      "metadata": {
        "id": "0dlikXo_lv8J",
        "colab_type": "code",
        "colab": {}
      },
      "cell_type": "code",
      "source": [
        "class_cluster = pd.DataFrame(clusters,columns=['Class cluster'])"
      ],
      "execution_count": 0,
      "outputs": []
    },
    {
      "metadata": {
        "id": "kJAWqwiHlwPB",
        "colab_type": "code",
        "colab": {
          "base_uri": "https://localhost:8080/",
          "height": 204
        },
        "outputId": "cf79ba6b-3cab-43ea-faf2-15031dbc0df9"
      },
      "cell_type": "code",
      "source": [
        "class_cluster.head()"
      ],
      "execution_count": 44,
      "outputs": [
        {
          "output_type": "execute_result",
          "data": {
            "text/html": [
              "<div>\n",
              "<style scoped>\n",
              "    .dataframe tbody tr th:only-of-type {\n",
              "        vertical-align: middle;\n",
              "    }\n",
              "\n",
              "    .dataframe tbody tr th {\n",
              "        vertical-align: top;\n",
              "    }\n",
              "\n",
              "    .dataframe thead th {\n",
              "        text-align: right;\n",
              "    }\n",
              "</style>\n",
              "<table border=\"1\" class=\"dataframe\">\n",
              "  <thead>\n",
              "    <tr style=\"text-align: right;\">\n",
              "      <th></th>\n",
              "      <th>Class cluster</th>\n",
              "    </tr>\n",
              "  </thead>\n",
              "  <tbody>\n",
              "    <tr>\n",
              "      <th>0</th>\n",
              "      <td>5</td>\n",
              "    </tr>\n",
              "    <tr>\n",
              "      <th>1</th>\n",
              "      <td>2</td>\n",
              "    </tr>\n",
              "    <tr>\n",
              "      <th>2</th>\n",
              "      <td>5</td>\n",
              "    </tr>\n",
              "    <tr>\n",
              "      <th>3</th>\n",
              "      <td>5</td>\n",
              "    </tr>\n",
              "    <tr>\n",
              "      <th>4</th>\n",
              "      <td>4</td>\n",
              "    </tr>\n",
              "  </tbody>\n",
              "</table>\n",
              "</div>"
            ],
            "text/plain": [
              "   Class cluster\n",
              "0              5\n",
              "1              2\n",
              "2              5\n",
              "3              5\n",
              "4              4"
            ]
          },
          "metadata": {
            "tags": []
          },
          "execution_count": 44
        }
      ]
    },
    {
      "metadata": {
        "id": "O4tZRJ5zlwgS",
        "colab_type": "code",
        "colab": {
          "base_uri": "https://localhost:8080/",
          "height": 204
        },
        "outputId": "d919ece0-455a-49d5-ef1c-c35108aeaa27"
      },
      "cell_type": "code",
      "source": [
        "data_req.head()"
      ],
      "execution_count": 46,
      "outputs": [
        {
          "output_type": "execute_result",
          "data": {
            "text/html": [
              "<div>\n",
              "<style scoped>\n",
              "    .dataframe tbody tr th:only-of-type {\n",
              "        vertical-align: middle;\n",
              "    }\n",
              "\n",
              "    .dataframe tbody tr th {\n",
              "        vertical-align: top;\n",
              "    }\n",
              "\n",
              "    .dataframe thead th {\n",
              "        text-align: right;\n",
              "    }\n",
              "</style>\n",
              "<table border=\"1\" class=\"dataframe\">\n",
              "  <thead>\n",
              "    <tr style=\"text-align: right;\">\n",
              "      <th></th>\n",
              "      <th>Issue</th>\n",
              "      <th>City</th>\n",
              "      <th>Submitted via</th>\n",
              "      <th>Company response to consumer</th>\n",
              "      <th>Time Difference</th>\n",
              "    </tr>\n",
              "  </thead>\n",
              "  <tbody>\n",
              "    <tr>\n",
              "      <th>0</th>\n",
              "      <td>Loan modification,collection,foreclosure</td>\n",
              "      <td>Newark</td>\n",
              "      <td>Web</td>\n",
              "      <td>Closed with explanation</td>\n",
              "      <td>0.000000</td>\n",
              "    </tr>\n",
              "    <tr>\n",
              "      <th>1</th>\n",
              "      <td>Loan modification,collection,foreclosure</td>\n",
              "      <td>Hempstead</td>\n",
              "      <td>Referral</td>\n",
              "      <td>Closed with explanation</td>\n",
              "      <td>0.003846</td>\n",
              "    </tr>\n",
              "    <tr>\n",
              "      <th>2</th>\n",
              "      <td>Application, originator, mortgage broker</td>\n",
              "      <td>Manassas</td>\n",
              "      <td>Web</td>\n",
              "      <td>Closed with explanation</td>\n",
              "      <td>0.000000</td>\n",
              "    </tr>\n",
              "    <tr>\n",
              "      <th>3</th>\n",
              "      <td>Settlement process and costs</td>\n",
              "      <td>Bakersfield</td>\n",
              "      <td>Web</td>\n",
              "      <td>Closed with explanation</td>\n",
              "      <td>0.000000</td>\n",
              "    </tr>\n",
              "    <tr>\n",
              "      <th>4</th>\n",
              "      <td>Application, originator, mortgage broker</td>\n",
              "      <td>Sioux Falls</td>\n",
              "      <td>Web</td>\n",
              "      <td>Closed with explanation</td>\n",
              "      <td>0.001923</td>\n",
              "    </tr>\n",
              "  </tbody>\n",
              "</table>\n",
              "</div>"
            ],
            "text/plain": [
              "                                      Issue         City Submitted via  \\\n",
              "0  Loan modification,collection,foreclosure       Newark           Web   \n",
              "1  Loan modification,collection,foreclosure    Hempstead      Referral   \n",
              "2  Application, originator, mortgage broker     Manassas           Web   \n",
              "3              Settlement process and costs  Bakersfield           Web   \n",
              "4  Application, originator, mortgage broker  Sioux Falls           Web   \n",
              "\n",
              "  Company response to consumer  Time Difference  \n",
              "0      Closed with explanation         0.000000  \n",
              "1      Closed with explanation         0.003846  \n",
              "2      Closed with explanation         0.000000  \n",
              "3      Closed with explanation         0.000000  \n",
              "4      Closed with explanation         0.001923  "
            ]
          },
          "metadata": {
            "tags": []
          },
          "execution_count": 46
        }
      ]
    },
    {
      "metadata": {
        "id": "z1gFdwjSp9-h",
        "colab_type": "code",
        "colab": {}
      },
      "cell_type": "code",
      "source": [
        "#data_req_new.index = range(data_req_new.shape[0])\n",
        "#data_req_new.head()"
      ],
      "execution_count": 0,
      "outputs": []
    },
    {
      "metadata": {
        "id": "mjOj7qIUlw15",
        "colab_type": "code",
        "colab": {}
      },
      "cell_type": "code",
      "source": [
        "data_req_new = pd.concat([data_req,class_cluster],axis=1)"
      ],
      "execution_count": 0,
      "outputs": []
    },
    {
      "metadata": {
        "id": "H54j4PJMlxHp",
        "colab_type": "code",
        "colab": {
          "base_uri": "https://localhost:8080/",
          "height": 204
        },
        "outputId": "c0c80dfb-d5a3-4020-b126-54ecbea0a7b4"
      },
      "cell_type": "code",
      "source": [
        "data_req_new.head()"
      ],
      "execution_count": 48,
      "outputs": [
        {
          "output_type": "execute_result",
          "data": {
            "text/html": [
              "<div>\n",
              "<style scoped>\n",
              "    .dataframe tbody tr th:only-of-type {\n",
              "        vertical-align: middle;\n",
              "    }\n",
              "\n",
              "    .dataframe tbody tr th {\n",
              "        vertical-align: top;\n",
              "    }\n",
              "\n",
              "    .dataframe thead th {\n",
              "        text-align: right;\n",
              "    }\n",
              "</style>\n",
              "<table border=\"1\" class=\"dataframe\">\n",
              "  <thead>\n",
              "    <tr style=\"text-align: right;\">\n",
              "      <th></th>\n",
              "      <th>Issue</th>\n",
              "      <th>City</th>\n",
              "      <th>Submitted via</th>\n",
              "      <th>Company response to consumer</th>\n",
              "      <th>Time Difference</th>\n",
              "      <th>Class cluster</th>\n",
              "    </tr>\n",
              "  </thead>\n",
              "  <tbody>\n",
              "    <tr>\n",
              "      <th>0</th>\n",
              "      <td>Loan modification,collection,foreclosure</td>\n",
              "      <td>Newark</td>\n",
              "      <td>Web</td>\n",
              "      <td>Closed with explanation</td>\n",
              "      <td>0.000000</td>\n",
              "      <td>5</td>\n",
              "    </tr>\n",
              "    <tr>\n",
              "      <th>1</th>\n",
              "      <td>Loan modification,collection,foreclosure</td>\n",
              "      <td>Hempstead</td>\n",
              "      <td>Referral</td>\n",
              "      <td>Closed with explanation</td>\n",
              "      <td>0.003846</td>\n",
              "      <td>2</td>\n",
              "    </tr>\n",
              "    <tr>\n",
              "      <th>2</th>\n",
              "      <td>Application, originator, mortgage broker</td>\n",
              "      <td>Manassas</td>\n",
              "      <td>Web</td>\n",
              "      <td>Closed with explanation</td>\n",
              "      <td>0.000000</td>\n",
              "      <td>5</td>\n",
              "    </tr>\n",
              "    <tr>\n",
              "      <th>3</th>\n",
              "      <td>Settlement process and costs</td>\n",
              "      <td>Bakersfield</td>\n",
              "      <td>Web</td>\n",
              "      <td>Closed with explanation</td>\n",
              "      <td>0.000000</td>\n",
              "      <td>5</td>\n",
              "    </tr>\n",
              "    <tr>\n",
              "      <th>4</th>\n",
              "      <td>Application, originator, mortgage broker</td>\n",
              "      <td>Sioux Falls</td>\n",
              "      <td>Web</td>\n",
              "      <td>Closed with explanation</td>\n",
              "      <td>0.001923</td>\n",
              "      <td>4</td>\n",
              "    </tr>\n",
              "  </tbody>\n",
              "</table>\n",
              "</div>"
            ],
            "text/plain": [
              "                                      Issue         City Submitted via  \\\n",
              "0  Loan modification,collection,foreclosure       Newark           Web   \n",
              "1  Loan modification,collection,foreclosure    Hempstead      Referral   \n",
              "2  Application, originator, mortgage broker     Manassas           Web   \n",
              "3              Settlement process and costs  Bakersfield           Web   \n",
              "4  Application, originator, mortgage broker  Sioux Falls           Web   \n",
              "\n",
              "  Company response to consumer  Time Difference  Class cluster  \n",
              "0      Closed with explanation         0.000000              5  \n",
              "1      Closed with explanation         0.003846              2  \n",
              "2      Closed with explanation         0.000000              5  \n",
              "3      Closed with explanation         0.000000              5  \n",
              "4      Closed with explanation         0.001923              4  "
            ]
          },
          "metadata": {
            "tags": []
          },
          "execution_count": 48
        }
      ]
    },
    {
      "metadata": {
        "id": "n8m32wmIc8DL",
        "colab_type": "code",
        "colab": {}
      },
      "cell_type": "code",
      "source": [
        "from __future__ import division, print_function\n"
      ],
      "execution_count": 0,
      "outputs": []
    },
    {
      "metadata": {
        "id": "rSpvVo68dA9D",
        "colab_type": "code",
        "colab": {}
      },
      "cell_type": "code",
      "source": [
        "from matplotlib import pyplot as plt\n",
        "import pandas as pd\n",
        "import numpy as np\n",
        "%matplotlib inline"
      ],
      "execution_count": 0,
      "outputs": []
    },
    {
      "metadata": {
        "id": "dRiNXXlCdBp1",
        "colab_type": "code",
        "colab": {}
      },
      "cell_type": "code",
      "source": [
        "import matplotlib\n",
        "matplotlib.rc('figure', figsize = (14, 7))\n",
        "matplotlib.rc('font', size = 14)\n",
        "matplotlib.rc('axes.spines', top = False, right = False)\n",
        "matplotlib.rc('axes', grid = False)\n",
        "matplotlib.rc('axes', facecolor = 'white')\n"
      ],
      "execution_count": 0,
      "outputs": []
    },
    {
      "metadata": {
        "id": "AVknm-IIp-ur",
        "colab_type": "code",
        "colab": {}
      },
      "cell_type": "code",
      "source": [
        "def scatterplot(x_data, y_data, x_label, y_label, title):\n",
        "    _, ax = plt.subplots()\n",
        "    ax.scatter(x_data, y_data, s = 30, color = '#539caf', alpha = 0.75)\n",
        "    ax.set_title(title)\n",
        "    ax.set_xlabel(x_label)\n",
        "    ax.set_ylabel(y_label)\n"
      ],
      "execution_count": 0,
      "outputs": []
    },
    {
      "metadata": {
        "id": "s79O5Yw6sJ9H",
        "colab_type": "code",
        "colab": {
          "base_uri": "https://localhost:8080/",
          "height": 457
        },
        "outputId": "2ac8ffaf-b935-4e48-feec-e56a7529a69a"
      },
      "cell_type": "code",
      "source": [
        "scatterplot(x_data = data_req_new['City']\n",
        "            , y_data = data_req_new['Issue']\n",
        "            , x_label = 'City'\n",
        "            , y_label = 'Issue'\n",
        "            , title = 'Number of Issue Vs City')"
      ],
      "execution_count": 56,
      "outputs": [
        {
          "output_type": "display_data",
          "data": {
            "image/png": "[encoded data removed]",
            "text/plain": [
              "<matplotlib.figure.Figure at 0x7ff9441c35f8>"
            ]
          },
          "metadata": {
            "tags": []
          }
        }
      ]
    }
  ]
}