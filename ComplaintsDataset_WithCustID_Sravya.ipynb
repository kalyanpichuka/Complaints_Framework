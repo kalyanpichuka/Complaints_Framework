{
  "nbformat": 4,
  "nbformat_minor": 0,
  "metadata": {
    "colab": {
      "name": "Untitled4.ipynb",
      "version": "0.3.2",
      "provenance": [],
      "include_colab_link": true
    },
    "kernelspec": {
      "name": "python3",
      "display_name": "Python 3"
    }
  },
  "cells": [
    {
      "cell_type": "markdown",
      "metadata": {
        "id": "view-in-github",
        "colab_type": "text"
      },
      "source": [
        "[View in Colaboratory](https://colab.research.google.com/github/SravyaSpandana/Complaints_Framework/blob/master/ComplaintsDataset_WithCustID_Sravya.ipynb)"
      ]
    },
    {
      "metadata": {
        "id": "yULFfcyj_O9Z",
        "colab_type": "code",
        "colab": {}
      },
      "cell_type": "code",
      "source": [
        "# IMPORTING NECESSARY PACKAGES\n",
        "import pandas as pd\n",
        "import numpy as np\n",
        "import matplotlib.pyplot as plt\n",
        "import os"
      ],
      "execution_count": 0,
      "outputs": []
    },
    {
      "metadata": {
        "id": "GB-2q_v6_U0F",
        "colab_type": "code",
        "colab": {
          "base_uri": "https://localhost:8080/",
          "height": 214
        },
        "outputId": "07925dba-6269-46d7-c692-1958de918560"
      },
      "cell_type": "code",
      "source": [
        "!apt-get install -y -qq software-properties-common python-software-properties module-init-tools\n",
        "!add-apt-repository -y ppa:alessandro-strada/ppa 2>&1 > /dev/null\n",
        "!apt-get update -qq 2>&1 > /dev/null\n",
        "!apt-get -y install -qq google-drive-ocamlfuse fuse\n",
        "from google.colab import auth\n",
        "auth.authenticate_user()\n",
        "from oauth2client.client import GoogleCredentials\n",
        "creds = GoogleCredentials.get_application_default()\n",
        "import getpass\n",
        "!google-drive-ocamlfuse -headless -id={creds.client_id} -secret={creds.client_secret} < /dev/null 2>&1 | grep URL\n",
        "vcode = getpass.getpass()\n",
        "!echo {vcode} | google-drive-ocamlfuse -headless -id={creds.client_id} -secret={creds.client_secret}"
      ],
      "execution_count": 2,
      "outputs": [
        {
          "output_type": "stream",
          "text": [
            "gpg: keybox '/tmp/tmpzql735dg/pubring.gpg' created\n",
            "gpg: /tmp/tmpzql735dg/trustdb.gpg: trustdb created\n",
            "gpg: key AD5F235DF639B041: public key \"Launchpad PPA for Alessandro Strada\" imported\n",
            "gpg: Total number processed: 1\n",
            "gpg:               imported: 1\n",
            "Warning: apt-key output should not be parsed (stdout is not a terminal)\n",
            "Please, open the following URL in a web browser: https://accounts.google.com/o/oauth2/auth?client_id=32555940559.apps.googleusercontent.com&redirect_uri=urn%3Aietf%3Awg%3Aoauth%3A2.0%3Aoob&scope=https%3A%2F%2Fwww.googleapis.com%2Fauth%2Fdrive&response_type=code&access_type=offline&approval_prompt=force\n",
            "··········\n",
            "Please, open the following URL in a web browser: https://accounts.google.com/o/oauth2/auth?client_id=32555940559.apps.googleusercontent.com&redirect_uri=urn%3Aietf%3Awg%3Aoauth%3A2.0%3Aoob&scope=https%3A%2F%2Fwww.googleapis.com%2Fauth%2Fdrive&response_type=code&access_type=offline&approval_prompt=force\n",
            "Please enter the verification code: Access token retrieved correctly.\n"
          ],
          "name": "stdout"
        }
      ]
    },
    {
      "metadata": {
        "id": "hrZemYupAGcP",
        "colab_type": "code",
        "colab": {}
      },
      "cell_type": "code",
      "source": [
        "!mkdir -p drive\n",
        "!google-drive-ocamlfuse drive"
      ],
      "execution_count": 0,
      "outputs": []
    },
    {
      "metadata": {
        "id": "aMfHHtbLAGzm",
        "colab_type": "code",
        "colab": {}
      },
      "cell_type": "code",
      "source": [
        "data = pd.read_csv(\"drive/Complaints_Dataset/Complaints_2018_09_01_Cities_CSV.csv\")"
      ],
      "execution_count": 0,
      "outputs": []
    },
    {
      "metadata": {
        "id": "AvQvk-aPAHEv",
        "colab_type": "code",
        "colab": {
          "base_uri": "https://localhost:8080/",
          "height": 484
        },
        "outputId": "56447703-6dcb-40b1-9656-05976ad0d6a7"
      },
      "cell_type": "code",
      "source": [
        "data = data[data.Company == 'WELLS FARGO & COMPANY']\n",
        "data.head()\n",
        "data.index = range(data.shape[0])\n",
        "data.head()\n"
      ],
      "execution_count": 6,
      "outputs": [
        {
          "output_type": "execute_result",
          "data": {
            "text/html": [
              "<div>\n",
              "<style scoped>\n",
              "    .dataframe tbody tr th:only-of-type {\n",
              "        vertical-align: middle;\n",
              "    }\n",
              "\n",
              "    .dataframe tbody tr th {\n",
              "        vertical-align: top;\n",
              "    }\n",
              "\n",
              "    .dataframe thead th {\n",
              "        text-align: right;\n",
              "    }\n",
              "</style>\n",
              "<table border=\"1\" class=\"dataframe\">\n",
              "  <thead>\n",
              "    <tr style=\"text-align: right;\">\n",
              "      <th></th>\n",
              "      <th>Date received</th>\n",
              "      <th>Product</th>\n",
              "      <th>Sub-product</th>\n",
              "      <th>Issue</th>\n",
              "      <th>Sub-issue</th>\n",
              "      <th>Consumer complaint narrative</th>\n",
              "      <th>Company public response</th>\n",
              "      <th>Company</th>\n",
              "      <th>State</th>\n",
              "      <th>ZIP code</th>\n",
              "      <th>Tags</th>\n",
              "      <th>Consumer consent provided?</th>\n",
              "      <th>Submitted via</th>\n",
              "      <th>Date sent to company</th>\n",
              "      <th>Company response to consumer</th>\n",
              "      <th>Timely response?</th>\n",
              "      <th>Consumer disputed?</th>\n",
              "      <th>Complaint ID</th>\n",
              "      <th>City</th>\n",
              "    </tr>\n",
              "  </thead>\n",
              "  <tbody>\n",
              "    <tr>\n",
              "      <th>0</th>\n",
              "      <td>02/23/13</td>\n",
              "      <td>Mortgage</td>\n",
              "      <td>Conventional fixed mortgage</td>\n",
              "      <td>Loan modification,collection,foreclosure</td>\n",
              "      <td>NaN</td>\n",
              "      <td>NaN</td>\n",
              "      <td>NaN</td>\n",
              "      <td>WELLS FARGO &amp; COMPANY</td>\n",
              "      <td>NY</td>\n",
              "      <td>11208</td>\n",
              "      <td>NaN</td>\n",
              "      <td>NaN</td>\n",
              "      <td>Web</td>\n",
              "      <td>02/25/13</td>\n",
              "      <td>Closed with explanation</td>\n",
              "      <td>Yes</td>\n",
              "      <td>No</td>\n",
              "      <td>327961</td>\n",
              "      <td>Brooklyn</td>\n",
              "    </tr>\n",
              "    <tr>\n",
              "      <th>1</th>\n",
              "      <td>05-03-13</td>\n",
              "      <td>Mortgage</td>\n",
              "      <td>Other mortgage</td>\n",
              "      <td>Loan modification,collection,foreclosure</td>\n",
              "      <td>NaN</td>\n",
              "      <td>NaN</td>\n",
              "      <td>NaN</td>\n",
              "      <td>WELLS FARGO &amp; COMPANY</td>\n",
              "      <td>FL</td>\n",
              "      <td>33172</td>\n",
              "      <td>NaN</td>\n",
              "      <td>NaN</td>\n",
              "      <td>Referral</td>\n",
              "      <td>05-06-13</td>\n",
              "      <td>Closed with explanation</td>\n",
              "      <td>Yes</td>\n",
              "      <td>Yes</td>\n",
              "      <td>398576</td>\n",
              "      <td>Miami</td>\n",
              "    </tr>\n",
              "    <tr>\n",
              "      <th>2</th>\n",
              "      <td>05/21/14</td>\n",
              "      <td>Mortgage</td>\n",
              "      <td>Conventional fixed mortgage</td>\n",
              "      <td>Loan modification,collection,foreclosure</td>\n",
              "      <td>NaN</td>\n",
              "      <td>NaN</td>\n",
              "      <td>NaN</td>\n",
              "      <td>WELLS FARGO &amp; COMPANY</td>\n",
              "      <td>FL</td>\n",
              "      <td>33186</td>\n",
              "      <td>NaN</td>\n",
              "      <td>NaN</td>\n",
              "      <td>Web</td>\n",
              "      <td>05/21/14</td>\n",
              "      <td>Closed with explanation</td>\n",
              "      <td>Yes</td>\n",
              "      <td>No</td>\n",
              "      <td>862130</td>\n",
              "      <td>Miami</td>\n",
              "    </tr>\n",
              "    <tr>\n",
              "      <th>3</th>\n",
              "      <td>08/22/16</td>\n",
              "      <td>Mortgage</td>\n",
              "      <td>Other mortgage</td>\n",
              "      <td>Loan modification,collection,foreclosure</td>\n",
              "      <td>NaN</td>\n",
              "      <td>NaN</td>\n",
              "      <td>Company has responded to the consumer and the ...</td>\n",
              "      <td>WELLS FARGO &amp; COMPANY</td>\n",
              "      <td>FL</td>\n",
              "      <td>33126</td>\n",
              "      <td>NaN</td>\n",
              "      <td>NaN</td>\n",
              "      <td>Referral</td>\n",
              "      <td>08/24/16</td>\n",
              "      <td>Closed with explanation</td>\n",
              "      <td>Yes</td>\n",
              "      <td>No</td>\n",
              "      <td>2075078</td>\n",
              "      <td>Miami</td>\n",
              "    </tr>\n",
              "    <tr>\n",
              "      <th>4</th>\n",
              "      <td>09/17/13</td>\n",
              "      <td>Mortgage</td>\n",
              "      <td>Other mortgage</td>\n",
              "      <td>Loan modification,collection,foreclosure</td>\n",
              "      <td>NaN</td>\n",
              "      <td>NaN</td>\n",
              "      <td>NaN</td>\n",
              "      <td>WELLS FARGO &amp; COMPANY</td>\n",
              "      <td>IL</td>\n",
              "      <td>60610</td>\n",
              "      <td>NaN</td>\n",
              "      <td>NaN</td>\n",
              "      <td>Postal mail</td>\n",
              "      <td>09/17/13</td>\n",
              "      <td>Closed with explanation</td>\n",
              "      <td>Yes</td>\n",
              "      <td>No</td>\n",
              "      <td>530168</td>\n",
              "      <td>Chicago</td>\n",
              "    </tr>\n",
              "  </tbody>\n",
              "</table>\n",
              "</div>"
            ],
            "text/plain": [
              "  Date received   Product                  Sub-product  \\\n",
              "0      02/23/13  Mortgage  Conventional fixed mortgage   \n",
              "1      05-03-13  Mortgage               Other mortgage   \n",
              "2      05/21/14  Mortgage  Conventional fixed mortgage   \n",
              "3      08/22/16  Mortgage               Other mortgage   \n",
              "4      09/17/13  Mortgage               Other mortgage   \n",
              "\n",
              "                                      Issue  Sub-issue  \\\n",
              "0  Loan modification,collection,foreclosure        NaN   \n",
              "1  Loan modification,collection,foreclosure        NaN   \n",
              "2  Loan modification,collection,foreclosure        NaN   \n",
              "3  Loan modification,collection,foreclosure        NaN   \n",
              "4  Loan modification,collection,foreclosure        NaN   \n",
              "\n",
              "   Consumer complaint narrative  \\\n",
              "0                           NaN   \n",
              "1                           NaN   \n",
              "2                           NaN   \n",
              "3                           NaN   \n",
              "4                           NaN   \n",
              "\n",
              "                             Company public response                Company  \\\n",
              "0                                                NaN  WELLS FARGO & COMPANY   \n",
              "1                                                NaN  WELLS FARGO & COMPANY   \n",
              "2                                                NaN  WELLS FARGO & COMPANY   \n",
              "3  Company has responded to the consumer and the ...  WELLS FARGO & COMPANY   \n",
              "4                                                NaN  WELLS FARGO & COMPANY   \n",
              "\n",
              "  State  ZIP code Tags Consumer consent provided? Submitted via  \\\n",
              "0    NY     11208  NaN                        NaN           Web   \n",
              "1    FL     33172  NaN                        NaN      Referral   \n",
              "2    FL     33186  NaN                        NaN           Web   \n",
              "3    FL     33126  NaN                        NaN      Referral   \n",
              "4    IL     60610  NaN                        NaN   Postal mail   \n",
              "\n",
              "  Date sent to company Company response to consumer Timely response?  \\\n",
              "0             02/25/13      Closed with explanation              Yes   \n",
              "1             05-06-13      Closed with explanation              Yes   \n",
              "2             05/21/14      Closed with explanation              Yes   \n",
              "3             08/24/16      Closed with explanation              Yes   \n",
              "4             09/17/13      Closed with explanation              Yes   \n",
              "\n",
              "  Consumer disputed?  Complaint ID      City  \n",
              "0                 No        327961  Brooklyn  \n",
              "1                Yes        398576     Miami  \n",
              "2                 No        862130     Miami  \n",
              "3                 No       2075078     Miami  \n",
              "4                 No        530168   Chicago  "
            ]
          },
          "metadata": {
            "tags": []
          },
          "execution_count": 6
        }
      ]
    },
    {
      "metadata": {
        "id": "YbglUnh5AHU_",
        "colab_type": "code",
        "colab": {
          "base_uri": "https://localhost:8080/",
          "height": 247
        },
        "outputId": "6f2cf5b8-4429-49f8-fa2f-67a0f969d9f3"
      },
      "cell_type": "code",
      "source": [
        "req_cols = ['Date received','Issue','City','Submitted via', 'Date sent to company','Company response to consumer']\n",
        "data.columns\n",
        "data_req = data[req_cols]\n",
        "data_req['Issue'].value_counts(dropna=False)"
      ],
      "execution_count": 7,
      "outputs": [
        {
          "output_type": "execute_result",
          "data": {
            "text/plain": [
              "Loan modification,collection,foreclosure                       902\n",
              "Loan servicing, payments, escrow account                       284\n",
              "Application, originator, mortgage broker                        97\n",
              "Other                                                           72\n",
              "Struggling to pay mortgage                                      56\n",
              "Credit decision / Underwriting                                  38\n",
              "Trouble during payment process                                  37\n",
              "Settlement process and costs                                    35\n",
              "Closing on a mortgage                                            4\n",
              "Applying for a mortgage or refinancing an existing mortgage      4\n",
              "Applying for a mortgage                                          3\n",
              "Unable to get your credit report or credit score                 1\n",
              "Name: Issue, dtype: int64"
            ]
          },
          "metadata": {
            "tags": []
          },
          "execution_count": 7
        }
      ]
    },
    {
      "metadata": {
        "id": "HzfsQI5LAHmm",
        "colab_type": "code",
        "colab": {
          "base_uri": "https://localhost:8080/",
          "height": 123
        },
        "outputId": "14b346de-e8e1-4da5-b3ba-5d6337e77732"
      },
      "cell_type": "code",
      "source": [
        "data_req['City'].value_counts(dropna=False)"
      ],
      "execution_count": 8,
      "outputs": [
        {
          "output_type": "execute_result",
          "data": {
            "text/plain": [
              "Miami          513\n",
              "Los Angeles    296\n",
              "Atlanta        266\n",
              "Brooklyn       231\n",
              "Chicago        227\n",
              "Name: City, dtype: int64"
            ]
          },
          "metadata": {
            "tags": []
          },
          "execution_count": 8
        }
      ]
    },
    {
      "metadata": {
        "id": "HCWCjlflAH22",
        "colab_type": "code",
        "colab": {
          "base_uri": "https://localhost:8080/",
          "height": 158
        },
        "outputId": "5065b9c4-e68f-478f-83e5-f8ffe1e84ef9"
      },
      "cell_type": "code",
      "source": [
        "data_req['Submitted via'].value_counts(dropna=False)\n",
        "data_req['Company response to consumer'].value_counts(dropna=False)"
      ],
      "execution_count": 9,
      "outputs": [
        {
          "output_type": "execute_result",
          "data": {
            "text/plain": [
              "Closed with explanation            1368\n",
              "Closed with non-monetary relief      67\n",
              "Closed without relief                56\n",
              "Closed with monetary relief          26\n",
              "Closed                               12\n",
              "In progress                           3\n",
              "Untimely response                     1\n",
              "Name: Company response to consumer, dtype: int64"
            ]
          },
          "metadata": {
            "tags": []
          },
          "execution_count": 9
        }
      ]
    },
    {
      "metadata": {
        "id": "L0-ByfoaAIF2",
        "colab_type": "code",
        "colab": {}
      },
      "cell_type": "code",
      "source": [
        "data_req['Date received'].value_counts(dropna=False)"
      ],
      "execution_count": 0,
      "outputs": []
    },
    {
      "metadata": {
        "id": "UqSW75gRAIVG",
        "colab_type": "code",
        "colab": {
          "base_uri": "https://localhost:8080/",
          "height": 1118
        },
        "outputId": "b8dec1bc-f34a-493a-c232-400262a7e7c0"
      },
      "cell_type": "code",
      "source": [
        "data_req['Date sent to company'].value_counts(dropna=False)"
      ],
      "execution_count": 11,
      "outputs": [
        {
          "output_type": "execute_result",
          "data": {
            "text/plain": [
              "07-01-14    7\n",
              "07/24/12    6\n",
              "05-06-13    6\n",
              "09-06-13    6\n",
              "01-11-13    6\n",
              "04/23/13    6\n",
              "07/23/13    5\n",
              "02-07-14    5\n",
              "05/22/17    5\n",
              "11/27/13    5\n",
              "03/22/13    5\n",
              "02/25/15    5\n",
              "01/15/16    5\n",
              "01/25/13    5\n",
              "10/15/13    5\n",
              "09/22/14    5\n",
              "07/22/13    4\n",
              "01/29/13    4\n",
              "09/18/12    4\n",
              "10/20/14    4\n",
              "07/16/13    4\n",
              "01/22/13    4\n",
              "10/23/14    4\n",
              "02/20/15    4\n",
              "02/14/13    4\n",
              "01/14/16    4\n",
              "05/19/16    4\n",
              "12/15/14    4\n",
              "03-10-14    4\n",
              "12/13/12    4\n",
              "           ..\n",
              "07-05-17    1\n",
              "12/14/17    1\n",
              "03/23/15    1\n",
              "10/24/13    1\n",
              "01/13/14    1\n",
              "05/17/13    1\n",
              "02/14/15    1\n",
              "09-03-13    1\n",
              "10-09-14    1\n",
              "06-09-14    1\n",
              "08/28/15    1\n",
              "04-08-16    1\n",
              "02-03-14    1\n",
              "12/20/11    1\n",
              "11/19/15    1\n",
              "07-09-13    1\n",
              "06/21/16    1\n",
              "04-12-14    1\n",
              "06/20/13    1\n",
              "09/30/13    1\n",
              "12-02-16    1\n",
              "04/28/16    1\n",
              "08/20/13    1\n",
              "04-10-15    1\n",
              "11/19/13    1\n",
              "12/19/11    1\n",
              "07/18/12    1\n",
              "04/25/18    1\n",
              "02/24/17    1\n",
              "11/16/15    1\n",
              "Name: Date sent to company, Length: 941, dtype: int64"
            ]
          },
          "metadata": {
            "tags": []
          },
          "execution_count": 11
        }
      ]
    },
    {
      "metadata": {
        "id": "pYlujcGYBZRW",
        "colab_type": "code",
        "colab": {
          "base_uri": "https://localhost:8080/",
          "height": 34
        },
        "outputId": "bd8ac9f2-f9a1-4aaa-d6ce-991733dbfd89"
      },
      "cell_type": "code",
      "source": [
        "data_req.size"
      ],
      "execution_count": 13,
      "outputs": [
        {
          "output_type": "execute_result",
          "data": {
            "text/plain": [
              "9198"
            ]
          },
          "metadata": {
            "tags": []
          },
          "execution_count": 13
        }
      ]
    },
    {
      "metadata": {
        "id": "ttNianNSAIk-",
        "colab_type": "code",
        "colab": {
          "base_uri": "https://localhost:8080/",
          "height": 197
        },
        "outputId": "3176979a-545c-401c-cebb-ace907277736"
      },
      "cell_type": "code",
      "source": [
        "data_req=data_req.dropna(how='any')  \n",
        "data_req.head()"
      ],
      "execution_count": 12,
      "outputs": [
        {
          "output_type": "execute_result",
          "data": {
            "text/html": [
              "<div>\n",
              "<style scoped>\n",
              "    .dataframe tbody tr th:only-of-type {\n",
              "        vertical-align: middle;\n",
              "    }\n",
              "\n",
              "    .dataframe tbody tr th {\n",
              "        vertical-align: top;\n",
              "    }\n",
              "\n",
              "    .dataframe thead th {\n",
              "        text-align: right;\n",
              "    }\n",
              "</style>\n",
              "<table border=\"1\" class=\"dataframe\">\n",
              "  <thead>\n",
              "    <tr style=\"text-align: right;\">\n",
              "      <th></th>\n",
              "      <th>Date received</th>\n",
              "      <th>Issue</th>\n",
              "      <th>City</th>\n",
              "      <th>Submitted via</th>\n",
              "      <th>Date sent to company</th>\n",
              "      <th>Company response to consumer</th>\n",
              "    </tr>\n",
              "  </thead>\n",
              "  <tbody>\n",
              "    <tr>\n",
              "      <th>0</th>\n",
              "      <td>02/23/13</td>\n",
              "      <td>Loan modification,collection,foreclosure</td>\n",
              "      <td>Brooklyn</td>\n",
              "      <td>Web</td>\n",
              "      <td>02/25/13</td>\n",
              "      <td>Closed with explanation</td>\n",
              "    </tr>\n",
              "    <tr>\n",
              "      <th>1</th>\n",
              "      <td>05-03-13</td>\n",
              "      <td>Loan modification,collection,foreclosure</td>\n",
              "      <td>Miami</td>\n",
              "      <td>Referral</td>\n",
              "      <td>05-06-13</td>\n",
              "      <td>Closed with explanation</td>\n",
              "    </tr>\n",
              "    <tr>\n",
              "      <th>2</th>\n",
              "      <td>05/21/14</td>\n",
              "      <td>Loan modification,collection,foreclosure</td>\n",
              "      <td>Miami</td>\n",
              "      <td>Web</td>\n",
              "      <td>05/21/14</td>\n",
              "      <td>Closed with explanation</td>\n",
              "    </tr>\n",
              "    <tr>\n",
              "      <th>3</th>\n",
              "      <td>08/22/16</td>\n",
              "      <td>Loan modification,collection,foreclosure</td>\n",
              "      <td>Miami</td>\n",
              "      <td>Referral</td>\n",
              "      <td>08/24/16</td>\n",
              "      <td>Closed with explanation</td>\n",
              "    </tr>\n",
              "    <tr>\n",
              "      <th>4</th>\n",
              "      <td>09/17/13</td>\n",
              "      <td>Loan modification,collection,foreclosure</td>\n",
              "      <td>Chicago</td>\n",
              "      <td>Postal mail</td>\n",
              "      <td>09/17/13</td>\n",
              "      <td>Closed with explanation</td>\n",
              "    </tr>\n",
              "  </tbody>\n",
              "</table>\n",
              "</div>"
            ],
            "text/plain": [
              "  Date received                                     Issue      City  \\\n",
              "0      02/23/13  Loan modification,collection,foreclosure  Brooklyn   \n",
              "1      05-03-13  Loan modification,collection,foreclosure     Miami   \n",
              "2      05/21/14  Loan modification,collection,foreclosure     Miami   \n",
              "3      08/22/16  Loan modification,collection,foreclosure     Miami   \n",
              "4      09/17/13  Loan modification,collection,foreclosure   Chicago   \n",
              "\n",
              "  Submitted via Date sent to company Company response to consumer  \n",
              "0           Web             02/25/13      Closed with explanation  \n",
              "1      Referral             05-06-13      Closed with explanation  \n",
              "2           Web             05/21/14      Closed with explanation  \n",
              "3      Referral             08/24/16      Closed with explanation  \n",
              "4   Postal mail             09/17/13      Closed with explanation  "
            ]
          },
          "metadata": {
            "tags": []
          },
          "execution_count": 12
        }
      ]
    },
    {
      "metadata": {
        "id": "QEh8vVfwBeQO",
        "colab_type": "code",
        "colab": {
          "base_uri": "https://localhost:8080/",
          "height": 34
        },
        "outputId": "f11408d3-0d15-4337-e898-17507c63103a"
      },
      "cell_type": "code",
      "source": [
        "data_req_new = data_req.copy()\n",
        "len(data_req_new)\n"
      ],
      "execution_count": 114,
      "outputs": [
        {
          "output_type": "execute_result",
          "data": {
            "text/plain": [
              "1533"
            ]
          },
          "metadata": {
            "tags": []
          },
          "execution_count": 114
        }
      ]
    },
    {
      "metadata": {
        "id": "LNRbxHgJBesu",
        "colab_type": "code",
        "colab": {
          "base_uri": "https://localhost:8080/",
          "height": 34
        },
        "outputId": "d30f7863-d1cb-48d9-bcdf-a0e52ca3dea3"
      },
      "cell_type": "code",
      "source": [
        "data_req_new.size"
      ],
      "execution_count": 115,
      "outputs": [
        {
          "output_type": "execute_result",
          "data": {
            "text/plain": [
              "9198"
            ]
          },
          "metadata": {
            "tags": []
          },
          "execution_count": 115
        }
      ]
    },
    {
      "metadata": {
        "id": "H-Kt0WteBe92",
        "colab_type": "code",
        "colab": {}
      },
      "cell_type": "code",
      "source": [
        "data_req_new['CustID'] = \"\"\n"
      ],
      "execution_count": 0,
      "outputs": []
    },
    {
      "metadata": {
        "id": "5gK_70yVNw0v",
        "colab_type": "code",
        "colab": {}
      },
      "cell_type": "code",
      "source": [
        "path= r'drive/Complaints_Dataset/'\n",
        "data_req_new.to_csv(path+'ComplaintsCustomerDataSet_FinalCustID.csv', sep=',', encoding='utf-8')"
      ],
      "execution_count": 0,
      "outputs": []
    },
    {
      "metadata": {
        "id": "oKvaFlMVGVuv",
        "colab_type": "code",
        "colab": {}
      },
      "cell_type": "code",
      "source": [
        "data_req_new.head()"
      ],
      "execution_count": 0,
      "outputs": []
    },
    {
      "metadata": {
        "id": "vCz4TjfBPDeX",
        "colab_type": "code",
        "colab": {
          "base_uri": "https://localhost:8080/",
          "height": 34
        },
        "outputId": "14dd7012-a225-4d8c-96f4-b0673198be16"
      },
      "cell_type": "code",
      "source": [
        "len(data_req_new)"
      ],
      "execution_count": 117,
      "outputs": [
        {
          "output_type": "execute_result",
          "data": {
            "text/plain": [
              "1533"
            ]
          },
          "metadata": {
            "tags": []
          },
          "execution_count": 117
        }
      ]
    },
    {
      "metadata": {
        "id": "BB_KgRAaHjaQ",
        "colab_type": "code",
        "colab": {}
      },
      "cell_type": "code",
      "source": [
        "x=0\n",
        "y=1\n",
        "data_size=len(data_req_new)\n",
        "while x < (data_size):\n",
        "  i = x\n",
        "  Cid_name = 'CUST' + str(y)\n",
        "  for z in range(i, i+100):\n",
        "    if z > data_size:\n",
        "      break\n",
        "    data_req_new.at[z,'CustID'] = Cid_name\n",
        "  \n",
        "  x = z+1\n",
        "  y = y + 1"
      ],
      "execution_count": 0,
      "outputs": []
    },
    {
      "metadata": {
        "id": "GEo2Dp-4LRQT",
        "colab_type": "code",
        "colab": {
          "base_uri": "https://localhost:8080/",
          "height": 34
        },
        "outputId": "2c5a1316-8509-426f-adf8-ce70381fbff9"
      },
      "cell_type": "code",
      "source": [
        "\n",
        "len(data_req_new)"
      ],
      "execution_count": 93,
      "outputs": [
        {
          "output_type": "execute_result",
          "data": {
            "text/plain": [
              "1600"
            ]
          },
          "metadata": {
            "tags": []
          },
          "execution_count": 93
        }
      ]
    }
  ]
}