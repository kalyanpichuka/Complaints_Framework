{
  "nbformat": 4,
  "nbformat_minor": 0,
  "metadata": {
    "colab": {
      "name": "Copy of Copy of Copy of Complaints_Framework_Model_Venkatesh.ipynb",
      "version": "0.3.2",
      "provenance": [],
      "collapsed_sections": [],
      "include_colab_link": true
    },
    "kernelspec": {
      "name": "python3",
      "display_name": "Python 3"
    },
    "accelerator": "GPU"
  },
  "cells": [
    {
      "cell_type": "markdown",
      "metadata": {
        "id": "view-in-github",
        "colab_type": "text"
      },
      "source": [
        "[View in Colaboratory](https://colab.research.google.com/github/venkatakula9652/Complaints_Framework/blob/master/Complaints_Framework_Model_merged_dataset.ipynb)"
      ]
    },
    {
      "metadata": {
        "id": "hcuJP6MmtPxQ",
        "colab_type": "code",
        "colab": {}
      },
      "cell_type": "code",
      "source": [
        "# IMPORTING NECESSARY PACKAGES\n",
        "import pandas as pd\n",
        "import numpy as np\n",
        "import matplotlib.pyplot as plt\n",
        "import os"
      ],
      "execution_count": 0,
      "outputs": []
    },
    {
      "metadata": {
        "id": "UAgaIOov2xLd",
        "colab_type": "code",
        "colab": {}
      },
      "cell_type": "code",
      "source": [
        "!apt-get install -y -qq software-properties-common python-software-properties module-init-tools\n",
        "!add-apt-repository -y ppa:alessandro-strada/ppa 2>&1 > /dev/null\n",
        "!apt-get update -qq 2>&1 > /dev/null\n",
        "!apt-get -y install -qq google-drive-ocamlfuse fuse\n",
        "from google.colab import auth\n",
        "auth.authenticate_user()\n",
        "from oauth2client.client import GoogleCredentials\n",
        "creds = GoogleCredentials.get_application_default()\n",
        "import getpass\n",
        "!google-drive-ocamlfuse -headless -id={creds.client_id} -secret={creds.client_secret} < /dev/null 2>&1 | grep URL\n",
        "vcode = getpass.getpass()\n",
        "!echo {vcode} | google-drive-ocamlfuse -headless -id={creds.client_id} -secret={creds.client_secret}"
      ],
      "execution_count": 0,
      "outputs": []
    },
    {
      "metadata": {
        "id": "MWrH7zuh5fEv",
        "colab_type": "code",
        "colab": {}
      },
      "cell_type": "code",
      "source": [
        "!mkdir -p drive\n",
        "!google-drive-ocamlfuse drive"
      ],
      "execution_count": 0,
      "outputs": []
    },
    {
      "metadata": {
        "id": "BUN9evG359S4",
        "colab_type": "code",
        "colab": {
          "base_uri": "https://localhost:8080/",
          "height": 71
        },
        "outputId": "ecf62690-0828-4d85-c61b-54854729a927"
      },
      "cell_type": "code",
      "source": [
        "data = pd.read_csv(\"drive/Complaints_Dataset/complaints-2018-08-17.csv\")"
      ],
      "execution_count": 0,
      "outputs": [
        {
          "output_type": "stream",
          "text": [
            "/usr/local/lib/python3.6/dist-packages/IPython/core/interactiveshell.py:2718: DtypeWarning: Columns (25,30,31,32) have mixed types. Specify dtype option on import or set low_memory=False.\n",
            "  interactivity=interactivity, compiler=compiler, result=result)\n"
          ],
          "name": "stderr"
        }
      ]
    },
    {
      "metadata": {
        "id": "lDW6HKRO6BfM",
        "colab_type": "code",
        "colab": {
          "base_uri": "https://localhost:8080/",
          "height": 576
        },
        "outputId": "2cdacb7e-a902-4bbe-aca6-2e237b8327dc"
      },
      "cell_type": "code",
      "source": [
        "data.head()"
      ],
      "execution_count": 0,
      "outputs": [
        {
          "output_type": "execute_result",
          "data": {
            "text/html": [
              "<div>\n",
              "<style scoped>\n",
              "    .dataframe tbody tr th:only-of-type {\n",
              "        vertical-align: middle;\n",
              "    }\n",
              "\n",
              "    .dataframe tbody tr th {\n",
              "        vertical-align: top;\n",
              "    }\n",
              "\n",
              "    .dataframe thead th {\n",
              "        text-align: right;\n",
              "    }\n",
              "</style>\n",
              "<table border=\"1\" class=\"dataframe\">\n",
              "  <thead>\n",
              "    <tr style=\"text-align: right;\">\n",
              "      <th></th>\n",
              "      <th>Date received</th>\n",
              "      <th>Product</th>\n",
              "      <th>Sub-product</th>\n",
              "      <th>Issue</th>\n",
              "      <th>Sub-issue</th>\n",
              "      <th>Consumer complaint narrative</th>\n",
              "      <th>Company public response</th>\n",
              "      <th>Company</th>\n",
              "      <th>State</th>\n",
              "      <th>ZIP code</th>\n",
              "      <th>...</th>\n",
              "      <th>Unnamed: 23</th>\n",
              "      <th>Zip Code</th>\n",
              "      <th>Place Name</th>\n",
              "      <th>Unnamed: 26</th>\n",
              "      <th>Unnamed: 27</th>\n",
              "      <th>Unnamed: 28</th>\n",
              "      <th>Unnamed: 29</th>\n",
              "      <th>Unnamed: 30</th>\n",
              "      <th>Unnamed: 31</th>\n",
              "      <th>Unnamed: 32</th>\n",
              "    </tr>\n",
              "  </thead>\n",
              "  <tbody>\n",
              "    <tr>\n",
              "      <th>0</th>\n",
              "      <td>05-11-2018</td>\n",
              "      <td>Mortgage</td>\n",
              "      <td>FHA mortgage</td>\n",
              "      <td>Trouble during payment process</td>\n",
              "      <td>NaN</td>\n",
              "      <td>NaN</td>\n",
              "      <td>Company believes complaint is the result of an...</td>\n",
              "      <td>loanDepot.com, LLC</td>\n",
              "      <td>AA</td>\n",
              "      <td>34031</td>\n",
              "      <td>...</td>\n",
              "      <td>NaN</td>\n",
              "      <td>501.0</td>\n",
              "      <td>Holtsville</td>\n",
              "      <td>NaN</td>\n",
              "      <td>NaN</td>\n",
              "      <td>NaN</td>\n",
              "      <td>92274.0</td>\n",
              "      <td>100 Palms</td>\n",
              "      <td>California</td>\n",
              "      <td>CA</td>\n",
              "    </tr>\n",
              "    <tr>\n",
              "      <th>1</th>\n",
              "      <td>02/20/13</td>\n",
              "      <td>Mortgage</td>\n",
              "      <td>Other mortgage</td>\n",
              "      <td>Loan modification,collection,foreclosure</td>\n",
              "      <td>NaN</td>\n",
              "      <td>NaN</td>\n",
              "      <td>NaN</td>\n",
              "      <td>WELLS FARGO &amp; COMPANY</td>\n",
              "      <td>AA</td>\n",
              "      <td>98282</td>\n",
              "      <td>...</td>\n",
              "      <td>NaN</td>\n",
              "      <td>544.0</td>\n",
              "      <td>Holtsville</td>\n",
              "      <td>NaN</td>\n",
              "      <td>NaN</td>\n",
              "      <td>NaN</td>\n",
              "      <td>92276.0</td>\n",
              "      <td>1000 Palms</td>\n",
              "      <td>California</td>\n",
              "      <td>CA</td>\n",
              "    </tr>\n",
              "    <tr>\n",
              "      <th>2</th>\n",
              "      <td>09/17/16</td>\n",
              "      <td>Mortgage</td>\n",
              "      <td>VA mortgage</td>\n",
              "      <td>Loan modification,collection,foreclosure</td>\n",
              "      <td>NaN</td>\n",
              "      <td>I ran into some financial issues and contacted...</td>\n",
              "      <td>NaN</td>\n",
              "      <td>FIFTH THIRD FINANCIAL CORPORATION</td>\n",
              "      <td>AA</td>\n",
              "      <td>340XX</td>\n",
              "      <td>...</td>\n",
              "      <td>NaN</td>\n",
              "      <td>1001.0</td>\n",
              "      <td>Agawam</td>\n",
              "      <td>NaN</td>\n",
              "      <td>NaN</td>\n",
              "      <td>NaN</td>\n",
              "      <td>92277.0</td>\n",
              "      <td>29 Palms</td>\n",
              "      <td>California</td>\n",
              "      <td>CA</td>\n",
              "    </tr>\n",
              "    <tr>\n",
              "      <th>3</th>\n",
              "      <td>08/18/15</td>\n",
              "      <td>Mortgage</td>\n",
              "      <td>Conventional fixed mortgage</td>\n",
              "      <td>Loan servicing, payments, escrow account</td>\n",
              "      <td>NaN</td>\n",
              "      <td>My mortgage servicer, PHH corporation, has fai...</td>\n",
              "      <td>NaN</td>\n",
              "      <td>PHH Mortgage Services Corporation</td>\n",
              "      <td>AA</td>\n",
              "      <td>340XX</td>\n",
              "      <td>...</td>\n",
              "      <td>NaN</td>\n",
              "      <td>1002.0</td>\n",
              "      <td>Amherst</td>\n",
              "      <td>NaN</td>\n",
              "      <td>NaN</td>\n",
              "      <td>NaN</td>\n",
              "      <td>92278.0</td>\n",
              "      <td>29 Palms</td>\n",
              "      <td>California</td>\n",
              "      <td>CA</td>\n",
              "    </tr>\n",
              "    <tr>\n",
              "      <th>4</th>\n",
              "      <td>05/28/14</td>\n",
              "      <td>Mortgage</td>\n",
              "      <td>Conventional fixed mortgage</td>\n",
              "      <td>Loan servicing, payments, escrow account</td>\n",
              "      <td>NaN</td>\n",
              "      <td>NaN</td>\n",
              "      <td>NaN</td>\n",
              "      <td>CITIBANK, N.A.</td>\n",
              "      <td>AA</td>\n",
              "      <td>34058</td>\n",
              "      <td>...</td>\n",
              "      <td>NaN</td>\n",
              "      <td>1003.0</td>\n",
              "      <td>Amherst</td>\n",
              "      <td>NaN</td>\n",
              "      <td>NaN</td>\n",
              "      <td>NaN</td>\n",
              "      <td>90848.0</td>\n",
              "      <td>A A R P</td>\n",
              "      <td>California</td>\n",
              "      <td>CA</td>\n",
              "    </tr>\n",
              "  </tbody>\n",
              "</table>\n",
              "<p>5 rows × 33 columns</p>\n",
              "</div>"
            ],
            "text/plain": [
              "  Date received   Product                  Sub-product  \\\n",
              "0    05-11-2018  Mortgage                 FHA mortgage   \n",
              "1      02/20/13  Mortgage               Other mortgage   \n",
              "2      09/17/16  Mortgage                  VA mortgage   \n",
              "3      08/18/15  Mortgage  Conventional fixed mortgage   \n",
              "4      05/28/14  Mortgage  Conventional fixed mortgage   \n",
              "\n",
              "                                      Issue  Sub-issue  \\\n",
              "0            Trouble during payment process        NaN   \n",
              "1  Loan modification,collection,foreclosure        NaN   \n",
              "2  Loan modification,collection,foreclosure        NaN   \n",
              "3  Loan servicing, payments, escrow account        NaN   \n",
              "4  Loan servicing, payments, escrow account        NaN   \n",
              "\n",
              "                        Consumer complaint narrative  \\\n",
              "0                                                NaN   \n",
              "1                                                NaN   \n",
              "2  I ran into some financial issues and contacted...   \n",
              "3  My mortgage servicer, PHH corporation, has fai...   \n",
              "4                                                NaN   \n",
              "\n",
              "                             Company public response  \\\n",
              "0  Company believes complaint is the result of an...   \n",
              "1                                                NaN   \n",
              "2                                                NaN   \n",
              "3                                                NaN   \n",
              "4                                                NaN   \n",
              "\n",
              "                             Company State ZIP code     ...      Unnamed: 23  \\\n",
              "0                 loanDepot.com, LLC    AA    34031     ...              NaN   \n",
              "1              WELLS FARGO & COMPANY    AA    98282     ...              NaN   \n",
              "2  FIFTH THIRD FINANCIAL CORPORATION    AA    340XX     ...              NaN   \n",
              "3  PHH Mortgage Services Corporation    AA    340XX     ...              NaN   \n",
              "4                     CITIBANK, N.A.    AA    34058     ...              NaN   \n",
              "\n",
              "  Zip Code  Place Name Unnamed: 26 Unnamed: 27 Unnamed: 28 Unnamed: 29  \\\n",
              "0    501.0  Holtsville         NaN         NaN         NaN     92274.0   \n",
              "1    544.0  Holtsville         NaN         NaN         NaN     92276.0   \n",
              "2   1001.0      Agawam         NaN         NaN         NaN     92277.0   \n",
              "3   1002.0     Amherst         NaN         NaN         NaN     92278.0   \n",
              "4   1003.0     Amherst         NaN         NaN         NaN     90848.0   \n",
              "\n",
              "   Unnamed: 30 Unnamed: 31  Unnamed: 32  \n",
              "0    100 Palms  California           CA  \n",
              "1   1000 Palms  California           CA  \n",
              "2     29 Palms  California           CA  \n",
              "3     29 Palms  California           CA  \n",
              "4      A A R P  California           CA  \n",
              "\n",
              "[5 rows x 33 columns]"
            ]
          },
          "metadata": {
            "tags": []
          },
          "execution_count": 100
        }
      ]
    },
    {
      "metadata": {
        "id": "7nLwqjwo6FeW",
        "colab_type": "code",
        "colab": {}
      },
      "cell_type": "code",
      "source": [
        "data = data[data.Company == 'WELLS FARGO & COMPANY']"
      ],
      "execution_count": 0,
      "outputs": []
    },
    {
      "metadata": {
        "id": "-0sQpqDB95iW",
        "colab_type": "code",
        "colab": {}
      },
      "cell_type": "code",
      "source": [
        "data = data[data.State.isin(['AK','AL','AR','AZ','CA','CO','CT','DC','DE','FL','GA','HI','IA','ID','IL','IN','KS','KY','LA','MA','MD','ME','MI','MN','MO','MS','MT','NC','ND','NE','NH','NJ','NM','NV','NY','OH','OK','OR','PA','PR','RI','SC','SD','TN','TX','UT','VA','VT','WA','WI','WV','WY'])]"
      ],
      "execution_count": 0,
      "outputs": []
    },
    {
      "metadata": {
        "id": "3Xh52LSB6LRZ",
        "colab_type": "code",
        "colab": {
          "base_uri": "https://localhost:8080/",
          "height": 559
        },
        "outputId": "2735e05a-1e1f-4ffb-980d-b89ce3524c89"
      },
      "cell_type": "code",
      "source": [
        "data.head()"
      ],
      "execution_count": 0,
      "outputs": [
        {
          "output_type": "execute_result",
          "data": {
            "text/html": [
              "<div>\n",
              "<style scoped>\n",
              "    .dataframe tbody tr th:only-of-type {\n",
              "        vertical-align: middle;\n",
              "    }\n",
              "\n",
              "    .dataframe tbody tr th {\n",
              "        vertical-align: top;\n",
              "    }\n",
              "\n",
              "    .dataframe thead th {\n",
              "        text-align: right;\n",
              "    }\n",
              "</style>\n",
              "<table border=\"1\" class=\"dataframe\">\n",
              "  <thead>\n",
              "    <tr style=\"text-align: right;\">\n",
              "      <th></th>\n",
              "      <th>Date received</th>\n",
              "      <th>Product</th>\n",
              "      <th>Sub-product</th>\n",
              "      <th>Issue</th>\n",
              "      <th>Sub-issue</th>\n",
              "      <th>Consumer complaint narrative</th>\n",
              "      <th>Company public response</th>\n",
              "      <th>Company</th>\n",
              "      <th>State</th>\n",
              "      <th>ZIP code</th>\n",
              "      <th>...</th>\n",
              "      <th>Unnamed: 23</th>\n",
              "      <th>Zip Code</th>\n",
              "      <th>Place Name</th>\n",
              "      <th>Unnamed: 26</th>\n",
              "      <th>Unnamed: 27</th>\n",
              "      <th>Unnamed: 28</th>\n",
              "      <th>Unnamed: 29</th>\n",
              "      <th>Unnamed: 30</th>\n",
              "      <th>Unnamed: 31</th>\n",
              "      <th>Unnamed: 32</th>\n",
              "    </tr>\n",
              "  </thead>\n",
              "  <tbody>\n",
              "    <tr>\n",
              "      <th>114</th>\n",
              "      <td>11/14/16</td>\n",
              "      <td>Mortgage</td>\n",
              "      <td>Other mortgage</td>\n",
              "      <td>Loan modification,collection,foreclosure</td>\n",
              "      <td>NaN</td>\n",
              "      <td>NaN</td>\n",
              "      <td>Company has responded to the consumer and the ...</td>\n",
              "      <td>WELLS FARGO &amp; COMPANY</td>\n",
              "      <td>AK</td>\n",
              "      <td>99524</td>\n",
              "      <td>...</td>\n",
              "      <td>NaN</td>\n",
              "      <td>1245.0</td>\n",
              "      <td>Monterey</td>\n",
              "      <td>NaN</td>\n",
              "      <td>NaN</td>\n",
              "      <td>NaN</td>\n",
              "      <td>92307.0</td>\n",
              "      <td>Apple Valley</td>\n",
              "      <td>California</td>\n",
              "      <td>CA</td>\n",
              "    </tr>\n",
              "    <tr>\n",
              "      <th>117</th>\n",
              "      <td>02-09-2015</td>\n",
              "      <td>Mortgage</td>\n",
              "      <td>FHA mortgage</td>\n",
              "      <td>Loan modification,collection,foreclosure</td>\n",
              "      <td>NaN</td>\n",
              "      <td>NaN</td>\n",
              "      <td>NaN</td>\n",
              "      <td>WELLS FARGO &amp; COMPANY</td>\n",
              "      <td>AK</td>\n",
              "      <td>99567</td>\n",
              "      <td>...</td>\n",
              "      <td>NaN</td>\n",
              "      <td>1253.0</td>\n",
              "      <td>Otis</td>\n",
              "      <td>NaN</td>\n",
              "      <td>NaN</td>\n",
              "      <td>NaN</td>\n",
              "      <td>95001.0</td>\n",
              "      <td>Aptos</td>\n",
              "      <td>California</td>\n",
              "      <td>CA</td>\n",
              "    </tr>\n",
              "    <tr>\n",
              "      <th>118</th>\n",
              "      <td>03-02-2016</td>\n",
              "      <td>Mortgage</td>\n",
              "      <td>Other mortgage</td>\n",
              "      <td>Application, originator, mortgage broker</td>\n",
              "      <td>NaN</td>\n",
              "      <td>I refinanced my loan with Wells Fargo. The ori...</td>\n",
              "      <td>Company has responded to the consumer and the ...</td>\n",
              "      <td>WELLS FARGO &amp; COMPANY</td>\n",
              "      <td>AK</td>\n",
              "      <td>995XX</td>\n",
              "      <td>...</td>\n",
              "      <td>NaN</td>\n",
              "      <td>1254.0</td>\n",
              "      <td>Richmond</td>\n",
              "      <td>NaN</td>\n",
              "      <td>NaN</td>\n",
              "      <td>NaN</td>\n",
              "      <td>95003.0</td>\n",
              "      <td>Aptos</td>\n",
              "      <td>California</td>\n",
              "      <td>CA</td>\n",
              "    </tr>\n",
              "    <tr>\n",
              "      <th>120</th>\n",
              "      <td>12-02-2014</td>\n",
              "      <td>Mortgage</td>\n",
              "      <td>FHA mortgage</td>\n",
              "      <td>Loan modification,collection,foreclosure</td>\n",
              "      <td>NaN</td>\n",
              "      <td>NaN</td>\n",
              "      <td>NaN</td>\n",
              "      <td>WELLS FARGO &amp; COMPANY</td>\n",
              "      <td>AK</td>\n",
              "      <td>99507</td>\n",
              "      <td>...</td>\n",
              "      <td>NaN</td>\n",
              "      <td>1256.0</td>\n",
              "      <td>Savoy</td>\n",
              "      <td>NaN</td>\n",
              "      <td>NaN</td>\n",
              "      <td>NaN</td>\n",
              "      <td>95912.0</td>\n",
              "      <td>Arbuckle</td>\n",
              "      <td>California</td>\n",
              "      <td>CA</td>\n",
              "    </tr>\n",
              "    <tr>\n",
              "      <th>123</th>\n",
              "      <td>03-07-2013</td>\n",
              "      <td>Mortgage</td>\n",
              "      <td>Other mortgage</td>\n",
              "      <td>Loan servicing, payments, escrow account</td>\n",
              "      <td>NaN</td>\n",
              "      <td>NaN</td>\n",
              "      <td>NaN</td>\n",
              "      <td>WELLS FARGO &amp; COMPANY</td>\n",
              "      <td>AK</td>\n",
              "      <td>99516</td>\n",
              "      <td>...</td>\n",
              "      <td>NaN</td>\n",
              "      <td>1259.0</td>\n",
              "      <td>Southfield</td>\n",
              "      <td>NaN</td>\n",
              "      <td>NaN</td>\n",
              "      <td>NaN</td>\n",
              "      <td>91066.0</td>\n",
              "      <td>Arcadia</td>\n",
              "      <td>California</td>\n",
              "      <td>CA</td>\n",
              "    </tr>\n",
              "  </tbody>\n",
              "</table>\n",
              "<p>5 rows × 33 columns</p>\n",
              "</div>"
            ],
            "text/plain": [
              "    Date received   Product     Sub-product  \\\n",
              "114      11/14/16  Mortgage  Other mortgage   \n",
              "117    02-09-2015  Mortgage    FHA mortgage   \n",
              "118    03-02-2016  Mortgage  Other mortgage   \n",
              "120    12-02-2014  Mortgage    FHA mortgage   \n",
              "123    03-07-2013  Mortgage  Other mortgage   \n",
              "\n",
              "                                        Issue  Sub-issue  \\\n",
              "114  Loan modification,collection,foreclosure        NaN   \n",
              "117  Loan modification,collection,foreclosure        NaN   \n",
              "118  Application, originator, mortgage broker        NaN   \n",
              "120  Loan modification,collection,foreclosure        NaN   \n",
              "123  Loan servicing, payments, escrow account        NaN   \n",
              "\n",
              "                          Consumer complaint narrative  \\\n",
              "114                                                NaN   \n",
              "117                                                NaN   \n",
              "118  I refinanced my loan with Wells Fargo. The ori...   \n",
              "120                                                NaN   \n",
              "123                                                NaN   \n",
              "\n",
              "                               Company public response                Company  \\\n",
              "114  Company has responded to the consumer and the ...  WELLS FARGO & COMPANY   \n",
              "117                                                NaN  WELLS FARGO & COMPANY   \n",
              "118  Company has responded to the consumer and the ...  WELLS FARGO & COMPANY   \n",
              "120                                                NaN  WELLS FARGO & COMPANY   \n",
              "123                                                NaN  WELLS FARGO & COMPANY   \n",
              "\n",
              "    State ZIP code     ...      Unnamed: 23 Zip Code  Place Name Unnamed: 26  \\\n",
              "114    AK    99524     ...              NaN   1245.0    Monterey         NaN   \n",
              "117    AK    99567     ...              NaN   1253.0        Otis         NaN   \n",
              "118    AK    995XX     ...              NaN   1254.0    Richmond         NaN   \n",
              "120    AK    99507     ...              NaN   1256.0       Savoy         NaN   \n",
              "123    AK    99516     ...              NaN   1259.0  Southfield         NaN   \n",
              "\n",
              "    Unnamed: 27 Unnamed: 28 Unnamed: 29   Unnamed: 30 Unnamed: 31  Unnamed: 32  \n",
              "114         NaN         NaN     92307.0  Apple Valley  California           CA  \n",
              "117         NaN         NaN     95001.0         Aptos  California           CA  \n",
              "118         NaN         NaN     95003.0         Aptos  California           CA  \n",
              "120         NaN         NaN     95912.0      Arbuckle  California           CA  \n",
              "123         NaN         NaN     91066.0       Arcadia  California           CA  \n",
              "\n",
              "[5 rows x 33 columns]"
            ]
          },
          "metadata": {
            "tags": []
          },
          "execution_count": 103
        }
      ]
    },
    {
      "metadata": {
        "id": "_Mx5HVmSc2hJ",
        "colab_type": "code",
        "colab": {
          "base_uri": "https://localhost:8080/",
          "height": 559
        },
        "outputId": "1d7f2828-4f53-4004-ba09-67b6ce409ecf"
      },
      "cell_type": "code",
      "source": [
        "data.index = range(data.shape[0])\n",
        "data.head()"
      ],
      "execution_count": 0,
      "outputs": [
        {
          "output_type": "execute_result",
          "data": {
            "text/html": [
              "<div>\n",
              "<style scoped>\n",
              "    .dataframe tbody tr th:only-of-type {\n",
              "        vertical-align: middle;\n",
              "    }\n",
              "\n",
              "    .dataframe tbody tr th {\n",
              "        vertical-align: top;\n",
              "    }\n",
              "\n",
              "    .dataframe thead th {\n",
              "        text-align: right;\n",
              "    }\n",
              "</style>\n",
              "<table border=\"1\" class=\"dataframe\">\n",
              "  <thead>\n",
              "    <tr style=\"text-align: right;\">\n",
              "      <th></th>\n",
              "      <th>Date received</th>\n",
              "      <th>Product</th>\n",
              "      <th>Sub-product</th>\n",
              "      <th>Issue</th>\n",
              "      <th>Sub-issue</th>\n",
              "      <th>Consumer complaint narrative</th>\n",
              "      <th>Company public response</th>\n",
              "      <th>Company</th>\n",
              "      <th>State</th>\n",
              "      <th>ZIP code</th>\n",
              "      <th>...</th>\n",
              "      <th>Unnamed: 23</th>\n",
              "      <th>Zip Code</th>\n",
              "      <th>Place Name</th>\n",
              "      <th>Unnamed: 26</th>\n",
              "      <th>Unnamed: 27</th>\n",
              "      <th>Unnamed: 28</th>\n",
              "      <th>Unnamed: 29</th>\n",
              "      <th>Unnamed: 30</th>\n",
              "      <th>Unnamed: 31</th>\n",
              "      <th>Unnamed: 32</th>\n",
              "    </tr>\n",
              "  </thead>\n",
              "  <tbody>\n",
              "    <tr>\n",
              "      <th>0</th>\n",
              "      <td>11/14/16</td>\n",
              "      <td>Mortgage</td>\n",
              "      <td>Other mortgage</td>\n",
              "      <td>Loan modification,collection,foreclosure</td>\n",
              "      <td>NaN</td>\n",
              "      <td>NaN</td>\n",
              "      <td>Company has responded to the consumer and the ...</td>\n",
              "      <td>WELLS FARGO &amp; COMPANY</td>\n",
              "      <td>AK</td>\n",
              "      <td>99524</td>\n",
              "      <td>...</td>\n",
              "      <td>NaN</td>\n",
              "      <td>1245.0</td>\n",
              "      <td>Monterey</td>\n",
              "      <td>NaN</td>\n",
              "      <td>NaN</td>\n",
              "      <td>NaN</td>\n",
              "      <td>92307.0</td>\n",
              "      <td>Apple Valley</td>\n",
              "      <td>California</td>\n",
              "      <td>CA</td>\n",
              "    </tr>\n",
              "    <tr>\n",
              "      <th>1</th>\n",
              "      <td>02-09-2015</td>\n",
              "      <td>Mortgage</td>\n",
              "      <td>FHA mortgage</td>\n",
              "      <td>Loan modification,collection,foreclosure</td>\n",
              "      <td>NaN</td>\n",
              "      <td>NaN</td>\n",
              "      <td>NaN</td>\n",
              "      <td>WELLS FARGO &amp; COMPANY</td>\n",
              "      <td>AK</td>\n",
              "      <td>99567</td>\n",
              "      <td>...</td>\n",
              "      <td>NaN</td>\n",
              "      <td>1253.0</td>\n",
              "      <td>Otis</td>\n",
              "      <td>NaN</td>\n",
              "      <td>NaN</td>\n",
              "      <td>NaN</td>\n",
              "      <td>95001.0</td>\n",
              "      <td>Aptos</td>\n",
              "      <td>California</td>\n",
              "      <td>CA</td>\n",
              "    </tr>\n",
              "    <tr>\n",
              "      <th>2</th>\n",
              "      <td>03-02-2016</td>\n",
              "      <td>Mortgage</td>\n",
              "      <td>Other mortgage</td>\n",
              "      <td>Application, originator, mortgage broker</td>\n",
              "      <td>NaN</td>\n",
              "      <td>I refinanced my loan with Wells Fargo. The ori...</td>\n",
              "      <td>Company has responded to the consumer and the ...</td>\n",
              "      <td>WELLS FARGO &amp; COMPANY</td>\n",
              "      <td>AK</td>\n",
              "      <td>995XX</td>\n",
              "      <td>...</td>\n",
              "      <td>NaN</td>\n",
              "      <td>1254.0</td>\n",
              "      <td>Richmond</td>\n",
              "      <td>NaN</td>\n",
              "      <td>NaN</td>\n",
              "      <td>NaN</td>\n",
              "      <td>95003.0</td>\n",
              "      <td>Aptos</td>\n",
              "      <td>California</td>\n",
              "      <td>CA</td>\n",
              "    </tr>\n",
              "    <tr>\n",
              "      <th>3</th>\n",
              "      <td>12-02-2014</td>\n",
              "      <td>Mortgage</td>\n",
              "      <td>FHA mortgage</td>\n",
              "      <td>Loan modification,collection,foreclosure</td>\n",
              "      <td>NaN</td>\n",
              "      <td>NaN</td>\n",
              "      <td>NaN</td>\n",
              "      <td>WELLS FARGO &amp; COMPANY</td>\n",
              "      <td>AK</td>\n",
              "      <td>99507</td>\n",
              "      <td>...</td>\n",
              "      <td>NaN</td>\n",
              "      <td>1256.0</td>\n",
              "      <td>Savoy</td>\n",
              "      <td>NaN</td>\n",
              "      <td>NaN</td>\n",
              "      <td>NaN</td>\n",
              "      <td>95912.0</td>\n",
              "      <td>Arbuckle</td>\n",
              "      <td>California</td>\n",
              "      <td>CA</td>\n",
              "    </tr>\n",
              "    <tr>\n",
              "      <th>4</th>\n",
              "      <td>03-07-2013</td>\n",
              "      <td>Mortgage</td>\n",
              "      <td>Other mortgage</td>\n",
              "      <td>Loan servicing, payments, escrow account</td>\n",
              "      <td>NaN</td>\n",
              "      <td>NaN</td>\n",
              "      <td>NaN</td>\n",
              "      <td>WELLS FARGO &amp; COMPANY</td>\n",
              "      <td>AK</td>\n",
              "      <td>99516</td>\n",
              "      <td>...</td>\n",
              "      <td>NaN</td>\n",
              "      <td>1259.0</td>\n",
              "      <td>Southfield</td>\n",
              "      <td>NaN</td>\n",
              "      <td>NaN</td>\n",
              "      <td>NaN</td>\n",
              "      <td>91066.0</td>\n",
              "      <td>Arcadia</td>\n",
              "      <td>California</td>\n",
              "      <td>CA</td>\n",
              "    </tr>\n",
              "  </tbody>\n",
              "</table>\n",
              "<p>5 rows × 33 columns</p>\n",
              "</div>"
            ],
            "text/plain": [
              "  Date received   Product     Sub-product  \\\n",
              "0      11/14/16  Mortgage  Other mortgage   \n",
              "1    02-09-2015  Mortgage    FHA mortgage   \n",
              "2    03-02-2016  Mortgage  Other mortgage   \n",
              "3    12-02-2014  Mortgage    FHA mortgage   \n",
              "4    03-07-2013  Mortgage  Other mortgage   \n",
              "\n",
              "                                      Issue  Sub-issue  \\\n",
              "0  Loan modification,collection,foreclosure        NaN   \n",
              "1  Loan modification,collection,foreclosure        NaN   \n",
              "2  Application, originator, mortgage broker        NaN   \n",
              "3  Loan modification,collection,foreclosure        NaN   \n",
              "4  Loan servicing, payments, escrow account        NaN   \n",
              "\n",
              "                        Consumer complaint narrative  \\\n",
              "0                                                NaN   \n",
              "1                                                NaN   \n",
              "2  I refinanced my loan with Wells Fargo. The ori...   \n",
              "3                                                NaN   \n",
              "4                                                NaN   \n",
              "\n",
              "                             Company public response                Company  \\\n",
              "0  Company has responded to the consumer and the ...  WELLS FARGO & COMPANY   \n",
              "1                                                NaN  WELLS FARGO & COMPANY   \n",
              "2  Company has responded to the consumer and the ...  WELLS FARGO & COMPANY   \n",
              "3                                                NaN  WELLS FARGO & COMPANY   \n",
              "4                                                NaN  WELLS FARGO & COMPANY   \n",
              "\n",
              "  State ZIP code     ...      Unnamed: 23 Zip Code  Place Name Unnamed: 26  \\\n",
              "0    AK    99524     ...              NaN   1245.0    Monterey         NaN   \n",
              "1    AK    99567     ...              NaN   1253.0        Otis         NaN   \n",
              "2    AK    995XX     ...              NaN   1254.0    Richmond         NaN   \n",
              "3    AK    99507     ...              NaN   1256.0       Savoy         NaN   \n",
              "4    AK    99516     ...              NaN   1259.0  Southfield         NaN   \n",
              "\n",
              "  Unnamed: 27 Unnamed: 28 Unnamed: 29   Unnamed: 30 Unnamed: 31  Unnamed: 32  \n",
              "0         NaN         NaN     92307.0  Apple Valley  California           CA  \n",
              "1         NaN         NaN     95001.0         Aptos  California           CA  \n",
              "2         NaN         NaN     95003.0         Aptos  California           CA  \n",
              "3         NaN         NaN     95912.0      Arbuckle  California           CA  \n",
              "4         NaN         NaN     91066.0       Arcadia  California           CA  \n",
              "\n",
              "[5 rows x 33 columns]"
            ]
          },
          "metadata": {
            "tags": []
          },
          "execution_count": 104
        }
      ]
    },
    {
      "metadata": {
        "id": "1OjRKr-G76pQ",
        "colab_type": "code",
        "colab": {
          "base_uri": "https://localhost:8080/",
          "height": 34
        },
        "outputId": "e1263815-3d04-4c94-f8b5-a3015a130a4f"
      },
      "cell_type": "code",
      "source": [
        "data.shape"
      ],
      "execution_count": 0,
      "outputs": [
        {
          "output_type": "execute_result",
          "data": {
            "text/plain": [
              "(34081, 33)"
            ]
          },
          "metadata": {
            "tags": []
          },
          "execution_count": 105
        }
      ]
    },
    {
      "metadata": {
        "id": "pHpo_wll8Y3V",
        "colab_type": "code",
        "colab": {}
      },
      "cell_type": "code",
      "source": [
        "#req_cols = ['Date received','Issue','State','Submitted via', 'Date sent to company','Company reponse to consumer']\n",
        "req_cols = ['Date received','Issue','City','State','Submitted via', 'Date sent to company','Company response to consumer']"
      ],
      "execution_count": 0,
      "outputs": []
    },
    {
      "metadata": {
        "id": "0gw8YvFAAvDD",
        "colab_type": "code",
        "colab": {
          "base_uri": "https://localhost:8080/",
          "height": 187
        },
        "outputId": "e86d7442-1a8c-42ac-d020-5b0d71a73eec"
      },
      "cell_type": "code",
      "source": [
        "data.columns"
      ],
      "execution_count": 0,
      "outputs": [
        {
          "output_type": "execute_result",
          "data": {
            "text/plain": [
              "Index(['Date received', 'Product', 'Sub-product', 'Issue', 'Sub-issue',\n",
              "       'Consumer complaint narrative', 'Company public response', 'Company',\n",
              "       'State', 'ZIP code', 'Tags', 'Consumer consent provided?',\n",
              "       'Submitted via', 'Date sent to company', 'Company response to consumer',\n",
              "       'Timely response?', 'Consumer disputed?', 'Complaint ID', 'City',\n",
              "       'Unnamed: 19', 'Unnamed: 20', 'Unnamed: 21', 'Unnamed: 22',\n",
              "       'Unnamed: 23', 'Zip Code', 'Place Name', 'Unnamed: 26', 'Unnamed: 27',\n",
              "       'Unnamed: 28', 'Unnamed: 29', 'Unnamed: 30', 'Unnamed: 31',\n",
              "       'Unnamed: 32'],\n",
              "      dtype='object')"
            ]
          },
          "metadata": {
            "tags": []
          },
          "execution_count": 107
        }
      ]
    },
    {
      "metadata": {
        "id": "bGaZu1Xc_K-j",
        "colab_type": "code",
        "colab": {}
      },
      "cell_type": "code",
      "source": [
        "data_req = data[req_cols]"
      ],
      "execution_count": 0,
      "outputs": []
    },
    {
      "metadata": {
        "id": "FKR2PBW-_QIk",
        "colab_type": "code",
        "colab": {
          "base_uri": "https://localhost:8080/",
          "height": 34
        },
        "outputId": "10ada9fb-bdf3-43ec-b2f0-8b4600885bee"
      },
      "cell_type": "code",
      "source": [
        "data_req.shape"
      ],
      "execution_count": 0,
      "outputs": [
        {
          "output_type": "execute_result",
          "data": {
            "text/plain": [
              "(34081, 7)"
            ]
          },
          "metadata": {
            "tags": []
          },
          "execution_count": 109
        }
      ]
    },
    {
      "metadata": {
        "id": "exaKtRM9B2yH",
        "colab_type": "code",
        "colab": {
          "base_uri": "https://localhost:8080/",
          "height": 68
        },
        "outputId": "abef8aae-0312-472c-f75e-b3c5f74fa530"
      },
      "cell_type": "code",
      "source": [
        "data_req.columns"
      ],
      "execution_count": 0,
      "outputs": [
        {
          "output_type": "execute_result",
          "data": {
            "text/plain": [
              "Index(['Date received', 'Issue', 'City', 'State', 'Submitted via',\n",
              "       'Date sent to company', 'Company response to consumer'],\n",
              "      dtype='object')"
            ]
          },
          "metadata": {
            "tags": []
          },
          "execution_count": 110
        }
      ]
    },
    {
      "metadata": {
        "id": "N0SM4rJYK0PK",
        "colab_type": "code",
        "colab": {
          "base_uri": "https://localhost:8080/",
          "height": 221
        },
        "outputId": "56166bcb-88f8-4c17-b5b5-ef202db80544"
      },
      "cell_type": "code",
      "source": [
        "data_req['Date received']=pd.to_datetime(data_req['Date received'])\n",
        "data_req['Date sent to company']=pd.to_datetime(data_req['Date sent to company'])"
      ],
      "execution_count": 0,
      "outputs": [
        {
          "output_type": "stream",
          "text": [
            "/usr/local/lib/python3.6/dist-packages/ipykernel_launcher.py:1: SettingWithCopyWarning: \n",
            "A value is trying to be set on a copy of a slice from a DataFrame.\n",
            "Try using .loc[row_indexer,col_indexer] = value instead\n",
            "\n",
            "See the caveats in the documentation: http://pandas.pydata.org/pandas-docs/stable/indexing.html#indexing-view-versus-copy\n",
            "  \"\"\"Entry point for launching an IPython kernel.\n",
            "/usr/local/lib/python3.6/dist-packages/ipykernel_launcher.py:2: SettingWithCopyWarning: \n",
            "A value is trying to be set on a copy of a slice from a DataFrame.\n",
            "Try using .loc[row_indexer,col_indexer] = value instead\n",
            "\n",
            "See the caveats in the documentation: http://pandas.pydata.org/pandas-docs/stable/indexing.html#indexing-view-versus-copy\n",
            "  \n"
          ],
          "name": "stderr"
        }
      ]
    },
    {
      "metadata": {
        "id": "3Ck-NE03MZiX",
        "colab_type": "code",
        "colab": {
          "base_uri": "https://localhost:8080/",
          "height": 221
        },
        "outputId": "52e2c344-8f71-44ce-f58b-62d28721f808"
      },
      "cell_type": "code",
      "source": [
        "data_req.info()"
      ],
      "execution_count": 0,
      "outputs": [
        {
          "output_type": "stream",
          "text": [
            "<class 'pandas.core.frame.DataFrame'>\n",
            "RangeIndex: 34081 entries, 0 to 34080\n",
            "Data columns (total 7 columns):\n",
            "Date received                   34081 non-null datetime64[ns]\n",
            "Issue                           34081 non-null object\n",
            "City                            28423 non-null object\n",
            "State                           34081 non-null object\n",
            "Submitted via                   34081 non-null object\n",
            "Date sent to company            34081 non-null datetime64[ns]\n",
            "Company response to consumer    34081 non-null object\n",
            "dtypes: datetime64[ns](2), object(5)\n",
            "memory usage: 1.8+ MB\n"
          ],
          "name": "stdout"
        }
      ]
    },
    {
      "metadata": {
        "id": "LUJfHbiaM48W",
        "colab_type": "code",
        "colab": {
          "base_uri": "https://localhost:8080/",
          "height": 306
        },
        "outputId": "5990c4c6-cd01-4234-d067-d0087a06d972"
      },
      "cell_type": "code",
      "source": [
        "data_req['Time Difference'] = (data_req['Date sent to company']-data_req['Date received']).astype('timedelta64[s]')\n",
        "data_req.head()"
      ],
      "execution_count": 0,
      "outputs": [
        {
          "output_type": "stream",
          "text": [
            "/usr/local/lib/python3.6/dist-packages/ipykernel_launcher.py:1: SettingWithCopyWarning: \n",
            "A value is trying to be set on a copy of a slice from a DataFrame.\n",
            "Try using .loc[row_indexer,col_indexer] = value instead\n",
            "\n",
            "See the caveats in the documentation: http://pandas.pydata.org/pandas-docs/stable/indexing.html#indexing-view-versus-copy\n",
            "  \"\"\"Entry point for launching an IPython kernel.\n"
          ],
          "name": "stderr"
        },
        {
          "output_type": "execute_result",
          "data": {
            "text/html": [
              "<div>\n",
              "<style scoped>\n",
              "    .dataframe tbody tr th:only-of-type {\n",
              "        vertical-align: middle;\n",
              "    }\n",
              "\n",
              "    .dataframe tbody tr th {\n",
              "        vertical-align: top;\n",
              "    }\n",
              "\n",
              "    .dataframe thead th {\n",
              "        text-align: right;\n",
              "    }\n",
              "</style>\n",
              "<table border=\"1\" class=\"dataframe\">\n",
              "  <thead>\n",
              "    <tr style=\"text-align: right;\">\n",
              "      <th></th>\n",
              "      <th>Date received</th>\n",
              "      <th>Issue</th>\n",
              "      <th>City</th>\n",
              "      <th>State</th>\n",
              "      <th>Submitted via</th>\n",
              "      <th>Date sent to company</th>\n",
              "      <th>Company response to consumer</th>\n",
              "      <th>Time Difference</th>\n",
              "    </tr>\n",
              "  </thead>\n",
              "  <tbody>\n",
              "    <tr>\n",
              "      <th>0</th>\n",
              "      <td>2016-11-14</td>\n",
              "      <td>Loan modification,collection,foreclosure</td>\n",
              "      <td>Anchorage</td>\n",
              "      <td>AK</td>\n",
              "      <td>Referral</td>\n",
              "      <td>2016-11-16</td>\n",
              "      <td>Closed with explanation</td>\n",
              "      <td>172800.0</td>\n",
              "    </tr>\n",
              "    <tr>\n",
              "      <th>1</th>\n",
              "      <td>2015-02-09</td>\n",
              "      <td>Loan modification,collection,foreclosure</td>\n",
              "      <td>Chugiak</td>\n",
              "      <td>AK</td>\n",
              "      <td>Web</td>\n",
              "      <td>2015-02-09</td>\n",
              "      <td>Closed with explanation</td>\n",
              "      <td>0.0</td>\n",
              "    </tr>\n",
              "    <tr>\n",
              "      <th>2</th>\n",
              "      <td>2016-03-02</td>\n",
              "      <td>Application, originator, mortgage broker</td>\n",
              "      <td>NaN</td>\n",
              "      <td>AK</td>\n",
              "      <td>Web</td>\n",
              "      <td>2016-03-04</td>\n",
              "      <td>Closed with monetary relief</td>\n",
              "      <td>172800.0</td>\n",
              "    </tr>\n",
              "    <tr>\n",
              "      <th>3</th>\n",
              "      <td>2014-12-02</td>\n",
              "      <td>Loan modification,collection,foreclosure</td>\n",
              "      <td>Anchorage</td>\n",
              "      <td>AK</td>\n",
              "      <td>Web</td>\n",
              "      <td>2014-12-05</td>\n",
              "      <td>Closed with explanation</td>\n",
              "      <td>259200.0</td>\n",
              "    </tr>\n",
              "    <tr>\n",
              "      <th>4</th>\n",
              "      <td>2013-03-07</td>\n",
              "      <td>Loan servicing, payments, escrow account</td>\n",
              "      <td>Anchorage</td>\n",
              "      <td>AK</td>\n",
              "      <td>Referral</td>\n",
              "      <td>2013-03-08</td>\n",
              "      <td>Closed with explanation</td>\n",
              "      <td>86400.0</td>\n",
              "    </tr>\n",
              "  </tbody>\n",
              "</table>\n",
              "</div>"
            ],
            "text/plain": [
              "  Date received                                     Issue       City State  \\\n",
              "0    2016-11-14  Loan modification,collection,foreclosure  Anchorage    AK   \n",
              "1    2015-02-09  Loan modification,collection,foreclosure    Chugiak    AK   \n",
              "2    2016-03-02  Application, originator, mortgage broker        NaN    AK   \n",
              "3    2014-12-02  Loan modification,collection,foreclosure  Anchorage    AK   \n",
              "4    2013-03-07  Loan servicing, payments, escrow account  Anchorage    AK   \n",
              "\n",
              "  Submitted via Date sent to company Company response to consumer  \\\n",
              "0      Referral           2016-11-16      Closed with explanation   \n",
              "1           Web           2015-02-09      Closed with explanation   \n",
              "2           Web           2016-03-04  Closed with monetary relief   \n",
              "3           Web           2014-12-05      Closed with explanation   \n",
              "4      Referral           2013-03-08      Closed with explanation   \n",
              "\n",
              "   Time Difference  \n",
              "0         172800.0  \n",
              "1              0.0  \n",
              "2         172800.0  \n",
              "3         259200.0  \n",
              "4          86400.0  "
            ]
          },
          "metadata": {
            "tags": []
          },
          "execution_count": 113
        }
      ]
    },
    {
      "metadata": {
        "id": "jJ1DmhSQhEgn",
        "colab_type": "code",
        "colab": {
          "base_uri": "https://localhost:8080/",
          "height": 306
        },
        "outputId": "8e71fae5-1d00-4344-bffe-6ffb44f3705b"
      },
      "cell_type": "code",
      "source": [
        "data_req.loc[data_req['Time Difference'] < 0, 'Time Difference'] = 0\n",
        "data_req.head()"
      ],
      "execution_count": 0,
      "outputs": [
        {
          "output_type": "stream",
          "text": [
            "/usr/local/lib/python3.6/dist-packages/pandas/core/indexing.py:537: SettingWithCopyWarning: \n",
            "A value is trying to be set on a copy of a slice from a DataFrame.\n",
            "Try using .loc[row_indexer,col_indexer] = value instead\n",
            "\n",
            "See the caveats in the documentation: http://pandas.pydata.org/pandas-docs/stable/indexing.html#indexing-view-versus-copy\n",
            "  self.obj[item] = s\n"
          ],
          "name": "stderr"
        },
        {
          "output_type": "execute_result",
          "data": {
            "text/html": [
              "<div>\n",
              "<style scoped>\n",
              "    .dataframe tbody tr th:only-of-type {\n",
              "        vertical-align: middle;\n",
              "    }\n",
              "\n",
              "    .dataframe tbody tr th {\n",
              "        vertical-align: top;\n",
              "    }\n",
              "\n",
              "    .dataframe thead th {\n",
              "        text-align: right;\n",
              "    }\n",
              "</style>\n",
              "<table border=\"1\" class=\"dataframe\">\n",
              "  <thead>\n",
              "    <tr style=\"text-align: right;\">\n",
              "      <th></th>\n",
              "      <th>Date received</th>\n",
              "      <th>Issue</th>\n",
              "      <th>City</th>\n",
              "      <th>State</th>\n",
              "      <th>Submitted via</th>\n",
              "      <th>Date sent to company</th>\n",
              "      <th>Company response to consumer</th>\n",
              "      <th>Time Difference</th>\n",
              "    </tr>\n",
              "  </thead>\n",
              "  <tbody>\n",
              "    <tr>\n",
              "      <th>0</th>\n",
              "      <td>2016-11-14</td>\n",
              "      <td>Loan modification,collection,foreclosure</td>\n",
              "      <td>Anchorage</td>\n",
              "      <td>AK</td>\n",
              "      <td>Referral</td>\n",
              "      <td>2016-11-16</td>\n",
              "      <td>Closed with explanation</td>\n",
              "      <td>172800.0</td>\n",
              "    </tr>\n",
              "    <tr>\n",
              "      <th>1</th>\n",
              "      <td>2015-02-09</td>\n",
              "      <td>Loan modification,collection,foreclosure</td>\n",
              "      <td>Chugiak</td>\n",
              "      <td>AK</td>\n",
              "      <td>Web</td>\n",
              "      <td>2015-02-09</td>\n",
              "      <td>Closed with explanation</td>\n",
              "      <td>0.0</td>\n",
              "    </tr>\n",
              "    <tr>\n",
              "      <th>2</th>\n",
              "      <td>2016-03-02</td>\n",
              "      <td>Application, originator, mortgage broker</td>\n",
              "      <td>NaN</td>\n",
              "      <td>AK</td>\n",
              "      <td>Web</td>\n",
              "      <td>2016-03-04</td>\n",
              "      <td>Closed with monetary relief</td>\n",
              "      <td>172800.0</td>\n",
              "    </tr>\n",
              "    <tr>\n",
              "      <th>3</th>\n",
              "      <td>2014-12-02</td>\n",
              "      <td>Loan modification,collection,foreclosure</td>\n",
              "      <td>Anchorage</td>\n",
              "      <td>AK</td>\n",
              "      <td>Web</td>\n",
              "      <td>2014-12-05</td>\n",
              "      <td>Closed with explanation</td>\n",
              "      <td>259200.0</td>\n",
              "    </tr>\n",
              "    <tr>\n",
              "      <th>4</th>\n",
              "      <td>2013-03-07</td>\n",
              "      <td>Loan servicing, payments, escrow account</td>\n",
              "      <td>Anchorage</td>\n",
              "      <td>AK</td>\n",
              "      <td>Referral</td>\n",
              "      <td>2013-03-08</td>\n",
              "      <td>Closed with explanation</td>\n",
              "      <td>86400.0</td>\n",
              "    </tr>\n",
              "  </tbody>\n",
              "</table>\n",
              "</div>"
            ],
            "text/plain": [
              "  Date received                                     Issue       City State  \\\n",
              "0    2016-11-14  Loan modification,collection,foreclosure  Anchorage    AK   \n",
              "1    2015-02-09  Loan modification,collection,foreclosure    Chugiak    AK   \n",
              "2    2016-03-02  Application, originator, mortgage broker        NaN    AK   \n",
              "3    2014-12-02  Loan modification,collection,foreclosure  Anchorage    AK   \n",
              "4    2013-03-07  Loan servicing, payments, escrow account  Anchorage    AK   \n",
              "\n",
              "  Submitted via Date sent to company Company response to consumer  \\\n",
              "0      Referral           2016-11-16      Closed with explanation   \n",
              "1           Web           2015-02-09      Closed with explanation   \n",
              "2           Web           2016-03-04  Closed with monetary relief   \n",
              "3           Web           2014-12-05      Closed with explanation   \n",
              "4      Referral           2013-03-08      Closed with explanation   \n",
              "\n",
              "   Time Difference  \n",
              "0         172800.0  \n",
              "1              0.0  \n",
              "2         172800.0  \n",
              "3         259200.0  \n",
              "4          86400.0  "
            ]
          },
          "metadata": {
            "tags": []
          },
          "execution_count": 114
        }
      ]
    },
    {
      "metadata": {
        "id": "0nqdUr0Eo1pw",
        "colab_type": "code",
        "colab": {
          "base_uri": "https://localhost:8080/",
          "height": 119
        },
        "outputId": "e531ae91-921b-4072-bbd4-6783f3535436"
      },
      "cell_type": "code",
      "source": [
        "from sklearn.preprocessing import MinMaxScaler\n",
        "values=data_req['Time Difference'].values.reshape((len(data_req['Time Difference']), 1))\n",
        "# train the normalization\n",
        "scaler = MinMaxScaler(feature_range=(0, 1))\n",
        "scaler = scaler.fit(values)\n",
        "# normalize the dataset\n",
        "data_req['Time Difference'] = scaler.transform(values)  "
      ],
      "execution_count": 0,
      "outputs": [
        {
          "output_type": "stream",
          "text": [
            "/usr/local/lib/python3.6/dist-packages/ipykernel_launcher.py:7: SettingWithCopyWarning: \n",
            "A value is trying to be set on a copy of a slice from a DataFrame.\n",
            "Try using .loc[row_indexer,col_indexer] = value instead\n",
            "\n",
            "See the caveats in the documentation: http://pandas.pydata.org/pandas-docs/stable/indexing.html#indexing-view-versus-copy\n",
            "  import sys\n"
          ],
          "name": "stderr"
        }
      ]
    },
    {
      "metadata": {
        "id": "EfSb_mHWp8Gt",
        "colab_type": "code",
        "colab": {
          "base_uri": "https://localhost:8080/",
          "height": 204
        },
        "outputId": "672b27f0-b9be-4738-c2fc-d99342704563"
      },
      "cell_type": "code",
      "source": [
        "data_req.head()"
      ],
      "execution_count": 0,
      "outputs": [
        {
          "output_type": "execute_result",
          "data": {
            "text/html": [
              "<div>\n",
              "<style scoped>\n",
              "    .dataframe tbody tr th:only-of-type {\n",
              "        vertical-align: middle;\n",
              "    }\n",
              "\n",
              "    .dataframe tbody tr th {\n",
              "        vertical-align: top;\n",
              "    }\n",
              "\n",
              "    .dataframe thead th {\n",
              "        text-align: right;\n",
              "    }\n",
              "</style>\n",
              "<table border=\"1\" class=\"dataframe\">\n",
              "  <thead>\n",
              "    <tr style=\"text-align: right;\">\n",
              "      <th></th>\n",
              "      <th>Date received</th>\n",
              "      <th>Issue</th>\n",
              "      <th>City</th>\n",
              "      <th>State</th>\n",
              "      <th>Submitted via</th>\n",
              "      <th>Date sent to company</th>\n",
              "      <th>Company response to consumer</th>\n",
              "      <th>Time Difference</th>\n",
              "    </tr>\n",
              "  </thead>\n",
              "  <tbody>\n",
              "    <tr>\n",
              "      <th>0</th>\n",
              "      <td>2016-11-14</td>\n",
              "      <td>Loan modification,collection,foreclosure</td>\n",
              "      <td>Anchorage</td>\n",
              "      <td>AK</td>\n",
              "      <td>Referral</td>\n",
              "      <td>2016-11-16</td>\n",
              "      <td>Closed with explanation</td>\n",
              "      <td>0.003846</td>\n",
              "    </tr>\n",
              "    <tr>\n",
              "      <th>1</th>\n",
              "      <td>2015-02-09</td>\n",
              "      <td>Loan modification,collection,foreclosure</td>\n",
              "      <td>Chugiak</td>\n",
              "      <td>AK</td>\n",
              "      <td>Web</td>\n",
              "      <td>2015-02-09</td>\n",
              "      <td>Closed with explanation</td>\n",
              "      <td>0.000000</td>\n",
              "    </tr>\n",
              "    <tr>\n",
              "      <th>2</th>\n",
              "      <td>2016-03-02</td>\n",
              "      <td>Application, originator, mortgage broker</td>\n",
              "      <td>NaN</td>\n",
              "      <td>AK</td>\n",
              "      <td>Web</td>\n",
              "      <td>2016-03-04</td>\n",
              "      <td>Closed with monetary relief</td>\n",
              "      <td>0.003846</td>\n",
              "    </tr>\n",
              "    <tr>\n",
              "      <th>3</th>\n",
              "      <td>2014-12-02</td>\n",
              "      <td>Loan modification,collection,foreclosure</td>\n",
              "      <td>Anchorage</td>\n",
              "      <td>AK</td>\n",
              "      <td>Web</td>\n",
              "      <td>2014-12-05</td>\n",
              "      <td>Closed with explanation</td>\n",
              "      <td>0.005769</td>\n",
              "    </tr>\n",
              "    <tr>\n",
              "      <th>4</th>\n",
              "      <td>2013-03-07</td>\n",
              "      <td>Loan servicing, payments, escrow account</td>\n",
              "      <td>Anchorage</td>\n",
              "      <td>AK</td>\n",
              "      <td>Referral</td>\n",
              "      <td>2013-03-08</td>\n",
              "      <td>Closed with explanation</td>\n",
              "      <td>0.001923</td>\n",
              "    </tr>\n",
              "  </tbody>\n",
              "</table>\n",
              "</div>"
            ],
            "text/plain": [
              "  Date received                                     Issue       City State  \\\n",
              "0    2016-11-14  Loan modification,collection,foreclosure  Anchorage    AK   \n",
              "1    2015-02-09  Loan modification,collection,foreclosure    Chugiak    AK   \n",
              "2    2016-03-02  Application, originator, mortgage broker        NaN    AK   \n",
              "3    2014-12-02  Loan modification,collection,foreclosure  Anchorage    AK   \n",
              "4    2013-03-07  Loan servicing, payments, escrow account  Anchorage    AK   \n",
              "\n",
              "  Submitted via Date sent to company Company response to consumer  \\\n",
              "0      Referral           2016-11-16      Closed with explanation   \n",
              "1           Web           2015-02-09      Closed with explanation   \n",
              "2           Web           2016-03-04  Closed with monetary relief   \n",
              "3           Web           2014-12-05      Closed with explanation   \n",
              "4      Referral           2013-03-08      Closed with explanation   \n",
              "\n",
              "   Time Difference  \n",
              "0         0.003846  \n",
              "1         0.000000  \n",
              "2         0.003846  \n",
              "3         0.005769  \n",
              "4         0.001923  "
            ]
          },
          "metadata": {
            "tags": []
          },
          "execution_count": 116
        }
      ]
    },
    {
      "metadata": {
        "id": "r4yvSJWwNscO",
        "colab_type": "code",
        "colab": {
          "base_uri": "https://localhost:8080/",
          "height": 170
        },
        "outputId": "5b529560-c175-4f83-c608-6ffa5df74199"
      },
      "cell_type": "code",
      "source": [
        "data_req.dtypes"
      ],
      "execution_count": 0,
      "outputs": [
        {
          "output_type": "execute_result",
          "data": {
            "text/plain": [
              "Date received                   datetime64[ns]\n",
              "Issue                                   object\n",
              "City                                    object\n",
              "State                                   object\n",
              "Submitted via                           object\n",
              "Date sent to company            datetime64[ns]\n",
              "Company response to consumer            object\n",
              "Time Difference                        float64\n",
              "dtype: object"
            ]
          },
          "metadata": {
            "tags": []
          },
          "execution_count": 117
        }
      ]
    },
    {
      "metadata": {
        "id": "TI9NIxErOT6I",
        "colab_type": "code",
        "colab": {}
      },
      "cell_type": "code",
      "source": [
        "data_req=data_req.drop(data_req.columns[[0, 4]], axis=1)"
      ],
      "execution_count": 0,
      "outputs": []
    },
    {
      "metadata": {
        "id": "T-8lBkHDOvnM",
        "colab_type": "code",
        "colab": {
          "base_uri": "https://localhost:8080/",
          "height": 204
        },
        "outputId": "d223ecc9-60c6-4e57-8fe5-b97629e8c151"
      },
      "cell_type": "code",
      "source": [
        "data_req.info()"
      ],
      "execution_count": 0,
      "outputs": [
        {
          "output_type": "stream",
          "text": [
            "<class 'pandas.core.frame.DataFrame'>\n",
            "RangeIndex: 34081 entries, 0 to 34080\n",
            "Data columns (total 6 columns):\n",
            "Issue                           34081 non-null object\n",
            "City                            28423 non-null object\n",
            "State                           34081 non-null object\n",
            "Date sent to company            34081 non-null datetime64[ns]\n",
            "Company response to consumer    34081 non-null object\n",
            "Time Difference                 34081 non-null float64\n",
            "dtypes: datetime64[ns](1), float64(1), object(4)\n",
            "memory usage: 1.6+ MB\n"
          ],
          "name": "stdout"
        }
      ]
    },
    {
      "metadata": {
        "id": "T-HIUdp9THnY",
        "colab_type": "code",
        "colab": {
          "base_uri": "https://localhost:8080/",
          "height": 289
        },
        "outputId": "8cf10636-fe48-484b-cba7-2b1ece49cb03"
      },
      "cell_type": "code",
      "source": [
        "data_req['Issue'].value_counts(dropna=False)"
      ],
      "execution_count": 0,
      "outputs": [
        {
          "output_type": "execute_result",
          "data": {
            "text/plain": [
              "Loan modification,collection,foreclosure                                            17187\n",
              "Loan servicing, payments, escrow account                                             7955\n",
              "Application, originator, mortgage broker                                             2554\n",
              "Struggling to pay mortgage                                                           1651\n",
              "Trouble during payment process                                                       1406\n",
              "Settlement process and costs                                                         1081\n",
              "Credit decision / Underwriting                                                        858\n",
              "Other                                                                                 708\n",
              "Applying for a mortgage or refinancing an existing mortgage                           301\n",
              "Closing on a mortgage                                                                 225\n",
              "Incorrect information on your report                                                   75\n",
              "Applying for a mortgage                                                                53\n",
              "Problem with a credit reporting company's investigation into an existing problem       20\n",
              "Improper use of your report                                                             4\n",
              "Unable to get your credit report or credit score                                        3\n",
              "Name: Issue, dtype: int64"
            ]
          },
          "metadata": {
            "tags": []
          },
          "execution_count": 120
        }
      ]
    },
    {
      "metadata": {
        "id": "ihEUdbUnUvT_",
        "colab_type": "code",
        "colab": {
          "base_uri": "https://localhost:8080/",
          "height": 1071
        },
        "outputId": "aa84c883-4714-456e-b0bb-11a72407cd2f"
      },
      "cell_type": "code",
      "source": [
        "data_req['City'].value_counts(dropna=False)"
      ],
      "execution_count": 0,
      "outputs": [
        {
          "output_type": "execute_result",
          "data": {
            "text/plain": [
              "NaN                 5658\n",
              "Miami                513\n",
              "Los Angeles          296\n",
              "Atlanta              266\n",
              "Brooklyn             231\n",
              "Chicago              227\n",
              "San Diego            194\n",
              "Philadelphia         190\n",
              "Jacksonville         157\n",
              "Fort Lauderdale      157\n",
              "Washington           156\n",
              "Las Vegas            154\n",
              "Pompano Beach        143\n",
              "San Francisco        143\n",
              "Charlotte            137\n",
              "New York             137\n",
              "Orlando              129\n",
              "San Jose             128\n",
              "Seattle              123\n",
              "Minneapolis          122\n",
              "Sacramento           122\n",
              "Houston              119\n",
              "Phoenix              112\n",
              "Portland             111\n",
              "West Palm Beach      105\n",
              "Hollywood            104\n",
              "Dallas               101\n",
              "Oakland               99\n",
              "Baltimore             98\n",
              "Corona                96\n",
              "                    ... \n",
              "Hamptonville           1\n",
              "Port Sanilac           1\n",
              "Providence Forge       1\n",
              "Zephyr Cove            1\n",
              "Wixom                  1\n",
              "Orland                 1\n",
              "Roaring Springs        1\n",
              "Dwight                 1\n",
              "South Charleston       1\n",
              "Etters                 1\n",
              "Saddle Brook           1\n",
              "Bonita                 1\n",
              "Waddell                1\n",
              "Mt Zion                1\n",
              "Mendocino              1\n",
              "Toano                  1\n",
              "Preston                1\n",
              "Keysville              1\n",
              "Provincetown           1\n",
              "Zirconia               1\n",
              "Marshville             1\n",
              "Alfred                 1\n",
              "Spicewood              1\n",
              "Jber                   1\n",
              "East Aurora            1\n",
              "Gansevoort             1\n",
              "Depoe Bay              1\n",
              "Demotte                1\n",
              "Ames                   1\n",
              "Pearl                  1\n",
              "Name: City, Length: 4521, dtype: int64"
            ]
          },
          "metadata": {
            "tags": []
          },
          "execution_count": 121
        }
      ]
    },
    {
      "metadata": {
        "id": "USZY_CTRU1-U",
        "colab_type": "code",
        "colab": {
          "base_uri": "https://localhost:8080/",
          "height": 1200
        },
        "outputId": "eeb66e8d-0ee7-440c-f1b4-12b18744948a"
      },
      "cell_type": "code",
      "source": [
        "data_req['Submitted via'].value_counts(dropna=False)"
      ],
      "execution_count": 0,
      "outputs": [
        {
          "output_type": "error",
          "ename": "KeyError",
          "evalue": "ignored",
          "traceback": [
            "\u001b[0;31m---------------------------------------------------------------------------\u001b[0m",
            "\u001b[0;31mKeyError\u001b[0m                                  Traceback (most recent call last)",
            "\u001b[0;32m/usr/local/lib/python3.6/dist-packages/pandas/core/indexes/base.py\u001b[0m in \u001b[0;36mget_loc\u001b[0;34m(self, key, method, tolerance)\u001b[0m\n\u001b[1;32m   2524\u001b[0m             \u001b[0;32mtry\u001b[0m\u001b[0;34m:\u001b[0m\u001b[0;34m\u001b[0m\u001b[0m\n\u001b[0;32m-> 2525\u001b[0;31m                 \u001b[0;32mreturn\u001b[0m \u001b[0mself\u001b[0m\u001b[0;34m.\u001b[0m\u001b[0m_engine\u001b[0m\u001b[0;34m.\u001b[0m\u001b[0mget_loc\u001b[0m\u001b[0;34m(\u001b[0m\u001b[0mkey\u001b[0m\u001b[0;34m)\u001b[0m\u001b[0;34m\u001b[0m\u001b[0m\n\u001b[0m\u001b[1;32m   2526\u001b[0m             \u001b[0;32mexcept\u001b[0m \u001b[0mKeyError\u001b[0m\u001b[0;34m:\u001b[0m\u001b[0;34m\u001b[0m\u001b[0m\n",
            "\u001b[0;32mpandas/_libs/index.pyx\u001b[0m in \u001b[0;36mpandas._libs.index.IndexEngine.get_loc\u001b[0;34m()\u001b[0m\n",
            "\u001b[0;32mpandas/_libs/index.pyx\u001b[0m in \u001b[0;36mpandas._libs.index.IndexEngine.get_loc\u001b[0;34m()\u001b[0m\n",
            "\u001b[0;32mpandas/_libs/hashtable_class_helper.pxi\u001b[0m in \u001b[0;36mpandas._libs.hashtable.PyObjectHashTable.get_item\u001b[0;34m()\u001b[0m\n",
            "\u001b[0;32mpandas/_libs/hashtable_class_helper.pxi\u001b[0m in \u001b[0;36mpandas._libs.hashtable.PyObjectHashTable.get_item\u001b[0;34m()\u001b[0m\n",
            "\u001b[0;31mKeyError\u001b[0m: 'Submitted via'",
            "\nDuring handling of the above exception, another exception occurred:\n",
            "\u001b[0;31mKeyError\u001b[0m                                  Traceback (most recent call last)",
            "\u001b[0;32m<ipython-input-122-3d64642e5fd2>\u001b[0m in \u001b[0;36m<module>\u001b[0;34m()\u001b[0m\n\u001b[0;32m----> 1\u001b[0;31m \u001b[0mdata_req\u001b[0m\u001b[0;34m[\u001b[0m\u001b[0;34m'Submitted via'\u001b[0m\u001b[0;34m]\u001b[0m\u001b[0;34m.\u001b[0m\u001b[0mvalue_counts\u001b[0m\u001b[0;34m(\u001b[0m\u001b[0mdropna\u001b[0m\u001b[0;34m=\u001b[0m\u001b[0;32mFalse\u001b[0m\u001b[0;34m)\u001b[0m\u001b[0;34m\u001b[0m\u001b[0m\n\u001b[0m",
            "\u001b[0;32m/usr/local/lib/python3.6/dist-packages/pandas/core/frame.py\u001b[0m in \u001b[0;36m__getitem__\u001b[0;34m(self, key)\u001b[0m\n\u001b[1;32m   2137\u001b[0m             \u001b[0;32mreturn\u001b[0m \u001b[0mself\u001b[0m\u001b[0;34m.\u001b[0m\u001b[0m_getitem_multilevel\u001b[0m\u001b[0;34m(\u001b[0m\u001b[0mkey\u001b[0m\u001b[0;34m)\u001b[0m\u001b[0;34m\u001b[0m\u001b[0m\n\u001b[1;32m   2138\u001b[0m         \u001b[0;32melse\u001b[0m\u001b[0;34m:\u001b[0m\u001b[0;34m\u001b[0m\u001b[0m\n\u001b[0;32m-> 2139\u001b[0;31m             \u001b[0;32mreturn\u001b[0m \u001b[0mself\u001b[0m\u001b[0;34m.\u001b[0m\u001b[0m_getitem_column\u001b[0m\u001b[0;34m(\u001b[0m\u001b[0mkey\u001b[0m\u001b[0;34m)\u001b[0m\u001b[0;34m\u001b[0m\u001b[0m\n\u001b[0m\u001b[1;32m   2140\u001b[0m \u001b[0;34m\u001b[0m\u001b[0m\n\u001b[1;32m   2141\u001b[0m     \u001b[0;32mdef\u001b[0m \u001b[0m_getitem_column\u001b[0m\u001b[0;34m(\u001b[0m\u001b[0mself\u001b[0m\u001b[0;34m,\u001b[0m \u001b[0mkey\u001b[0m\u001b[0;34m)\u001b[0m\u001b[0;34m:\u001b[0m\u001b[0;34m\u001b[0m\u001b[0m\n",
            "\u001b[0;32m/usr/local/lib/python3.6/dist-packages/pandas/core/frame.py\u001b[0m in \u001b[0;36m_getitem_column\u001b[0;34m(self, key)\u001b[0m\n\u001b[1;32m   2144\u001b[0m         \u001b[0;31m# get column\u001b[0m\u001b[0;34m\u001b[0m\u001b[0;34m\u001b[0m\u001b[0m\n\u001b[1;32m   2145\u001b[0m         \u001b[0;32mif\u001b[0m \u001b[0mself\u001b[0m\u001b[0;34m.\u001b[0m\u001b[0mcolumns\u001b[0m\u001b[0;34m.\u001b[0m\u001b[0mis_unique\u001b[0m\u001b[0;34m:\u001b[0m\u001b[0;34m\u001b[0m\u001b[0m\n\u001b[0;32m-> 2146\u001b[0;31m             \u001b[0;32mreturn\u001b[0m \u001b[0mself\u001b[0m\u001b[0;34m.\u001b[0m\u001b[0m_get_item_cache\u001b[0m\u001b[0;34m(\u001b[0m\u001b[0mkey\u001b[0m\u001b[0;34m)\u001b[0m\u001b[0;34m\u001b[0m\u001b[0m\n\u001b[0m\u001b[1;32m   2147\u001b[0m \u001b[0;34m\u001b[0m\u001b[0m\n\u001b[1;32m   2148\u001b[0m         \u001b[0;31m# duplicate columns & possible reduce dimensionality\u001b[0m\u001b[0;34m\u001b[0m\u001b[0;34m\u001b[0m\u001b[0m\n",
            "\u001b[0;32m/usr/local/lib/python3.6/dist-packages/pandas/core/generic.py\u001b[0m in \u001b[0;36m_get_item_cache\u001b[0;34m(self, item)\u001b[0m\n\u001b[1;32m   1840\u001b[0m         \u001b[0mres\u001b[0m \u001b[0;34m=\u001b[0m \u001b[0mcache\u001b[0m\u001b[0;34m.\u001b[0m\u001b[0mget\u001b[0m\u001b[0;34m(\u001b[0m\u001b[0mitem\u001b[0m\u001b[0;34m)\u001b[0m\u001b[0;34m\u001b[0m\u001b[0m\n\u001b[1;32m   1841\u001b[0m         \u001b[0;32mif\u001b[0m \u001b[0mres\u001b[0m \u001b[0;32mis\u001b[0m \u001b[0;32mNone\u001b[0m\u001b[0;34m:\u001b[0m\u001b[0;34m\u001b[0m\u001b[0m\n\u001b[0;32m-> 1842\u001b[0;31m             \u001b[0mvalues\u001b[0m \u001b[0;34m=\u001b[0m \u001b[0mself\u001b[0m\u001b[0;34m.\u001b[0m\u001b[0m_data\u001b[0m\u001b[0;34m.\u001b[0m\u001b[0mget\u001b[0m\u001b[0;34m(\u001b[0m\u001b[0mitem\u001b[0m\u001b[0;34m)\u001b[0m\u001b[0;34m\u001b[0m\u001b[0m\n\u001b[0m\u001b[1;32m   1843\u001b[0m             \u001b[0mres\u001b[0m \u001b[0;34m=\u001b[0m \u001b[0mself\u001b[0m\u001b[0;34m.\u001b[0m\u001b[0m_box_item_values\u001b[0m\u001b[0;34m(\u001b[0m\u001b[0mitem\u001b[0m\u001b[0;34m,\u001b[0m \u001b[0mvalues\u001b[0m\u001b[0;34m)\u001b[0m\u001b[0;34m\u001b[0m\u001b[0m\n\u001b[1;32m   1844\u001b[0m             \u001b[0mcache\u001b[0m\u001b[0;34m[\u001b[0m\u001b[0mitem\u001b[0m\u001b[0;34m]\u001b[0m \u001b[0;34m=\u001b[0m \u001b[0mres\u001b[0m\u001b[0;34m\u001b[0m\u001b[0m\n",
            "\u001b[0;32m/usr/local/lib/python3.6/dist-packages/pandas/core/internals.py\u001b[0m in \u001b[0;36mget\u001b[0;34m(self, item, fastpath)\u001b[0m\n\u001b[1;32m   3841\u001b[0m \u001b[0;34m\u001b[0m\u001b[0m\n\u001b[1;32m   3842\u001b[0m             \u001b[0;32mif\u001b[0m \u001b[0;32mnot\u001b[0m \u001b[0misna\u001b[0m\u001b[0;34m(\u001b[0m\u001b[0mitem\u001b[0m\u001b[0;34m)\u001b[0m\u001b[0;34m:\u001b[0m\u001b[0;34m\u001b[0m\u001b[0m\n\u001b[0;32m-> 3843\u001b[0;31m                 \u001b[0mloc\u001b[0m \u001b[0;34m=\u001b[0m \u001b[0mself\u001b[0m\u001b[0;34m.\u001b[0m\u001b[0mitems\u001b[0m\u001b[0;34m.\u001b[0m\u001b[0mget_loc\u001b[0m\u001b[0;34m(\u001b[0m\u001b[0mitem\u001b[0m\u001b[0;34m)\u001b[0m\u001b[0;34m\u001b[0m\u001b[0m\n\u001b[0m\u001b[1;32m   3844\u001b[0m             \u001b[0;32melse\u001b[0m\u001b[0;34m:\u001b[0m\u001b[0;34m\u001b[0m\u001b[0m\n\u001b[1;32m   3845\u001b[0m                 \u001b[0mindexer\u001b[0m \u001b[0;34m=\u001b[0m \u001b[0mnp\u001b[0m\u001b[0;34m.\u001b[0m\u001b[0marange\u001b[0m\u001b[0;34m(\u001b[0m\u001b[0mlen\u001b[0m\u001b[0;34m(\u001b[0m\u001b[0mself\u001b[0m\u001b[0;34m.\u001b[0m\u001b[0mitems\u001b[0m\u001b[0;34m)\u001b[0m\u001b[0;34m)\u001b[0m\u001b[0;34m[\u001b[0m\u001b[0misna\u001b[0m\u001b[0;34m(\u001b[0m\u001b[0mself\u001b[0m\u001b[0;34m.\u001b[0m\u001b[0mitems\u001b[0m\u001b[0;34m)\u001b[0m\u001b[0;34m]\u001b[0m\u001b[0;34m\u001b[0m\u001b[0m\n",
            "\u001b[0;32m/usr/local/lib/python3.6/dist-packages/pandas/core/indexes/base.py\u001b[0m in \u001b[0;36mget_loc\u001b[0;34m(self, key, method, tolerance)\u001b[0m\n\u001b[1;32m   2525\u001b[0m                 \u001b[0;32mreturn\u001b[0m \u001b[0mself\u001b[0m\u001b[0;34m.\u001b[0m\u001b[0m_engine\u001b[0m\u001b[0;34m.\u001b[0m\u001b[0mget_loc\u001b[0m\u001b[0;34m(\u001b[0m\u001b[0mkey\u001b[0m\u001b[0;34m)\u001b[0m\u001b[0;34m\u001b[0m\u001b[0m\n\u001b[1;32m   2526\u001b[0m             \u001b[0;32mexcept\u001b[0m \u001b[0mKeyError\u001b[0m\u001b[0;34m:\u001b[0m\u001b[0;34m\u001b[0m\u001b[0m\n\u001b[0;32m-> 2527\u001b[0;31m                 \u001b[0;32mreturn\u001b[0m \u001b[0mself\u001b[0m\u001b[0;34m.\u001b[0m\u001b[0m_engine\u001b[0m\u001b[0;34m.\u001b[0m\u001b[0mget_loc\u001b[0m\u001b[0;34m(\u001b[0m\u001b[0mself\u001b[0m\u001b[0;34m.\u001b[0m\u001b[0m_maybe_cast_indexer\u001b[0m\u001b[0;34m(\u001b[0m\u001b[0mkey\u001b[0m\u001b[0;34m)\u001b[0m\u001b[0;34m)\u001b[0m\u001b[0;34m\u001b[0m\u001b[0m\n\u001b[0m\u001b[1;32m   2528\u001b[0m \u001b[0;34m\u001b[0m\u001b[0m\n\u001b[1;32m   2529\u001b[0m         \u001b[0mindexer\u001b[0m \u001b[0;34m=\u001b[0m \u001b[0mself\u001b[0m\u001b[0;34m.\u001b[0m\u001b[0mget_indexer\u001b[0m\u001b[0;34m(\u001b[0m\u001b[0;34m[\u001b[0m\u001b[0mkey\u001b[0m\u001b[0;34m]\u001b[0m\u001b[0;34m,\u001b[0m \u001b[0mmethod\u001b[0m\u001b[0;34m=\u001b[0m\u001b[0mmethod\u001b[0m\u001b[0;34m,\u001b[0m \u001b[0mtolerance\u001b[0m\u001b[0;34m=\u001b[0m\u001b[0mtolerance\u001b[0m\u001b[0;34m)\u001b[0m\u001b[0;34m\u001b[0m\u001b[0m\n",
            "\u001b[0;32mpandas/_libs/index.pyx\u001b[0m in \u001b[0;36mpandas._libs.index.IndexEngine.get_loc\u001b[0;34m()\u001b[0m\n",
            "\u001b[0;32mpandas/_libs/index.pyx\u001b[0m in \u001b[0;36mpandas._libs.index.IndexEngine.get_loc\u001b[0;34m()\u001b[0m\n",
            "\u001b[0;32mpandas/_libs/hashtable_class_helper.pxi\u001b[0m in \u001b[0;36mpandas._libs.hashtable.PyObjectHashTable.get_item\u001b[0;34m()\u001b[0m\n",
            "\u001b[0;32mpandas/_libs/hashtable_class_helper.pxi\u001b[0m in \u001b[0;36mpandas._libs.hashtable.PyObjectHashTable.get_item\u001b[0;34m()\u001b[0m\n",
            "\u001b[0;31mKeyError\u001b[0m: 'Submitted via'"
          ]
        }
      ]
    },
    {
      "metadata": {
        "id": "0H3FpR3yVTiU",
        "colab_type": "code",
        "colab": {
          "base_uri": "https://localhost:8080/",
          "height": 170
        },
        "outputId": "284de3aa-4d02-4262-9163-7063c921cb9a"
      },
      "cell_type": "code",
      "source": [
        "data_req['Company response to consumer'].value_counts(dropna=False)"
      ],
      "execution_count": 0,
      "outputs": [
        {
          "output_type": "execute_result",
          "data": {
            "text/plain": [
              "Closed with explanation            29158\n",
              "Closed without relief               1960\n",
              "Closed with non-monetary relief     1622\n",
              "Closed with monetary relief         1055\n",
              "In progress                          161\n",
              "Closed                                64\n",
              "Closed with relief                    57\n",
              "Untimely response                      4\n",
              "Name: Company response to consumer, dtype: int64"
            ]
          },
          "metadata": {
            "tags": []
          },
          "execution_count": 123
        }
      ]
    },
    {
      "metadata": {
        "id": "VsgpYY56VbDl",
        "colab_type": "code",
        "colab": {
          "base_uri": "https://localhost:8080/",
          "height": 1071
        },
        "outputId": "30709db6-dd96-4c3f-c4a1-ff8ce9632877"
      },
      "cell_type": "code",
      "source": [
        "data_req['Time Difference'].value_counts(dropna=False)"
      ],
      "execution_count": 0,
      "outputs": [
        {
          "output_type": "execute_result",
          "data": {
            "text/plain": [
              "0.000000    13869\n",
              "0.001923     6012\n",
              "0.003846     3376\n",
              "0.005769     2542\n",
              "0.007692     2347\n",
              "0.009615     2009\n",
              "0.011538     1293\n",
              "0.013462      832\n",
              "0.015385      286\n",
              "0.017308      142\n",
              "0.019231      142\n",
              "0.028846       95\n",
              "0.025000       91\n",
              "0.021154       85\n",
              "0.023077       85\n",
              "0.026923       68\n",
              "0.032692       63\n",
              "0.030769       43\n",
              "0.036538       38\n",
              "0.067308       36\n",
              "0.042308       34\n",
              "0.038462       32\n",
              "0.040385       32\n",
              "0.034615       30\n",
              "0.055769       24\n",
              "0.053846       24\n",
              "0.044231       23\n",
              "0.075000       22\n",
              "0.046154       22\n",
              "0.069231       22\n",
              "            ...  \n",
              "0.157692        1\n",
              "0.190385        1\n",
              "0.405769        1\n",
              "0.144231        1\n",
              "0.317308        1\n",
              "0.334615        1\n",
              "0.263462        1\n",
              "0.425000        1\n",
              "0.186538        1\n",
              "0.496154        1\n",
              "0.494231        1\n",
              "0.446154        1\n",
              "0.113462        1\n",
              "0.390385        1\n",
              "0.523077        1\n",
              "0.250000        1\n",
              "0.203846        1\n",
              "0.513462        1\n",
              "0.480769        1\n",
              "0.169231        1\n",
              "0.121154        1\n",
              "0.342308        1\n",
              "0.253846        1\n",
              "0.225000        1\n",
              "0.209615        1\n",
              "0.142308        1\n",
              "0.363462        1\n",
              "0.401923        1\n",
              "0.194231        1\n",
              "0.365385        1\n",
              "Name: Time Difference, Length: 148, dtype: int64"
            ]
          },
          "metadata": {
            "tags": []
          },
          "execution_count": 124
        }
      ]
    },
    {
      "metadata": {
        "id": "VVYWjSUuWK5W",
        "colab_type": "code",
        "colab": {}
      },
      "cell_type": "code",
      "source": [
        "data_req=data_req.dropna(how='any')  "
      ],
      "execution_count": 0,
      "outputs": []
    },
    {
      "metadata": {
        "id": "xzu-XLi5Y42B",
        "colab_type": "code",
        "colab": {
          "base_uri": "https://localhost:8080/",
          "height": 204
        },
        "outputId": "ae4430eb-d846-453f-8847-9c01c1ec169b"
      },
      "cell_type": "code",
      "source": [
        "data_req.info()"
      ],
      "execution_count": 0,
      "outputs": [
        {
          "output_type": "stream",
          "text": [
            "<class 'pandas.core.frame.DataFrame'>\n",
            "Int64Index: 28423 entries, 0 to 34078\n",
            "Data columns (total 6 columns):\n",
            "Issue                           28423 non-null object\n",
            "City                            28423 non-null object\n",
            "State                           28423 non-null object\n",
            "Date sent to company            28423 non-null datetime64[ns]\n",
            "Company response to consumer    28423 non-null object\n",
            "Time Difference                 28423 non-null float64\n",
            "dtypes: datetime64[ns](1), float64(1), object(4)\n",
            "memory usage: 1.5+ MB\n"
          ],
          "name": "stdout"
        }
      ]
    },
    {
      "metadata": {
        "id": "hwOfmmY_ZnaR",
        "colab_type": "code",
        "colab": {
          "base_uri": "https://localhost:8080/",
          "height": 204
        },
        "outputId": "1b257ea7-7d83-4728-d896-2b75d3d52a9e"
      },
      "cell_type": "code",
      "source": [
        "data_req.info()"
      ],
      "execution_count": 0,
      "outputs": [
        {
          "output_type": "stream",
          "text": [
            "<class 'pandas.core.frame.DataFrame'>\n",
            "Int64Index: 28423 entries, 0 to 34078\n",
            "Data columns (total 6 columns):\n",
            "Issue                           28423 non-null object\n",
            "City                            28423 non-null object\n",
            "State                           28423 non-null object\n",
            "Date sent to company            28423 non-null datetime64[ns]\n",
            "Company response to consumer    28423 non-null object\n",
            "Time Difference                 28423 non-null float64\n",
            "dtypes: datetime64[ns](1), float64(1), object(4)\n",
            "memory usage: 1.5+ MB\n"
          ],
          "name": "stdout"
        }
      ]
    },
    {
      "metadata": {
        "id": "U1vZhBzten_d",
        "colab_type": "code",
        "colab": {
          "base_uri": "https://localhost:8080/",
          "height": 85
        },
        "outputId": "984c4d47-9010-4fb0-a5ba-36a37ea73605"
      },
      "cell_type": "code",
      "source": [
        "!pip install kmodes"
      ],
      "execution_count": 0,
      "outputs": [
        {
          "output_type": "stream",
          "text": [
            "Requirement already satisfied: kmodes in /usr/local/lib/python3.6/dist-packages (0.9)\r\n",
            "Requirement already satisfied: scipy>=0.13.3 in /usr/local/lib/python3.6/dist-packages (from kmodes) (0.19.1)\r\n",
            "Requirement already satisfied: scikit-learn<0.20.0,>=0.19.0 in /usr/local/lib/python3.6/dist-packages (from kmodes) (0.19.2)\r\n",
            "Requirement already satisfied: numpy>=1.10.4 in /usr/local/lib/python3.6/dist-packages (from kmodes) (1.14.5)\r\n"
          ],
          "name": "stdout"
        }
      ]
    },
    {
      "metadata": {
        "id": "AZYgFcLVeoSV",
        "colab_type": "code",
        "colab": {}
      },
      "cell_type": "code",
      "source": [
        "from kmodes.kprototypes import KPrototypes\n"
      ],
      "execution_count": 0,
      "outputs": []
    },
    {
      "metadata": {
        "id": "pD1bpd8ejtbN",
        "colab_type": "code",
        "colab": {}
      },
      "cell_type": "code",
      "source": [
        "km = KPrototypes(n_clusters=10, init='Huang', n_init=8, verbose=1)"
      ],
      "execution_count": 0,
      "outputs": []
    },
    {
      "metadata": {
        "id": "qXH97qFGjtwE",
        "colab_type": "code",
        "colab": {
          "base_uri": "https://localhost:8080/",
          "height": 1207
        },
        "outputId": "23dff89b-7af4-420e-e3e0-d5a3bcbd6728"
      },
      "cell_type": "code",
      "source": [
        "#clusters = km.fit_predict(data_req_new)\n",
        "clusters = km.fit_predict(data_req.as_matrix(), categorical=list(range(0,5)))"
      ],
      "execution_count": 0,
      "outputs": [
        {
          "output_type": "stream",
          "text": [
            "Init: initializing centroids\n",
            "Init: initializing clusters\n",
            "Starting iterations...\n",
            "Run: 1, iteration: 1/100, moves: 10581, ncost: 999.0083950280405\n",
            "Run: 1, iteration: 2/100, moves: 1506, ncost: 996.7924793180496\n",
            "Run: 1, iteration: 3/100, moves: 256, ncost: 996.6811999733095\n",
            "Run: 1, iteration: 4/100, moves: 2, ncost: 996.6789043424358\n",
            "Run: 1, iteration: 5/100, moves: 0, ncost: 996.6789043424358\n",
            "Init: initializing centroids\n",
            "Init: initializing clusters\n",
            "Starting iterations...\n",
            "Run: 2, iteration: 1/100, moves: 5881, ncost: 1011.0179674921546\n",
            "Run: 2, iteration: 2/100, moves: 337, ncost: 1010.8653069223124\n",
            "Run: 2, iteration: 3/100, moves: 21, ncost: 1010.8605429532532\n",
            "Run: 2, iteration: 4/100, moves: 8, ncost: 1010.8605132282626\n",
            "Run: 2, iteration: 5/100, moves: 0, ncost: 1010.8605132282626\n",
            "Init: initializing centroids\n",
            "Init: initializing clusters\n",
            "Starting iterations...\n",
            "Run: 3, iteration: 1/100, moves: 5525, ncost: 1001.4743910377556\n",
            "Run: 3, iteration: 2/100, moves: 2356, ncost: 1001.2912786157568\n",
            "Run: 3, iteration: 3/100, moves: 1151, ncost: 997.8035182643811\n",
            "Run: 3, iteration: 4/100, moves: 814, ncost: 996.0420099571627\n",
            "Run: 3, iteration: 5/100, moves: 754, ncost: 996.0045082409166\n",
            "Run: 3, iteration: 6/100, moves: 105, ncost: 996.0027568958724\n",
            "Run: 3, iteration: 7/100, moves: 2, ncost: 996.0015836110188\n",
            "Run: 3, iteration: 8/100, moves: 5, ncost: 996.0010561986967\n",
            "Run: 3, iteration: 9/100, moves: 0, ncost: 996.0010561986967\n",
            "Init: initializing centroids\n",
            "Init: initializing clusters\n",
            "Starting iterations...\n",
            "Run: 4, iteration: 1/100, moves: 14098, ncost: 1016.2597033464258\n",
            "Run: 4, iteration: 2/100, moves: 3749, ncost: 1009.5250449877952\n",
            "Run: 4, iteration: 3/100, moves: 1611, ncost: 1009.5153801183675\n",
            "Run: 4, iteration: 4/100, moves: 349, ncost: 1009.5140262209834\n",
            "Run: 4, iteration: 5/100, moves: 44, ncost: 1009.5140249488834\n",
            "Run: 4, iteration: 6/100, moves: 0, ncost: 1009.5140249488834\n",
            "Init: initializing centroids\n",
            "Init: initializing clusters\n",
            "Starting iterations...\n",
            "Run: 5, iteration: 1/100, moves: 6053, ncost: 1002.2347864822049\n",
            "Run: 5, iteration: 2/100, moves: 1345, ncost: 1001.9941431753406\n",
            "Run: 5, iteration: 3/100, moves: 948, ncost: 1001.9838123422916\n",
            "Run: 5, iteration: 4/100, moves: 212, ncost: 1001.9834639109727\n",
            "Run: 5, iteration: 5/100, moves: 0, ncost: 1001.9834639109727\n",
            "Init: initializing centroids\n",
            "Init: initializing clusters\n",
            "Starting iterations...\n",
            "Run: 6, iteration: 1/100, moves: 8671, ncost: 1008.417356400762\n",
            "Run: 6, iteration: 2/100, moves: 6234, ncost: 1007.2017209249997\n",
            "Run: 6, iteration: 3/100, moves: 1235, ncost: 1007.1929586522442\n",
            "Run: 6, iteration: 4/100, moves: 163, ncost: 1007.1929416223377\n",
            "Run: 6, iteration: 5/100, moves: 0, ncost: 1007.1929416223377\n",
            "Init: initializing centroids\n",
            "Init: initializing clusters\n",
            "Starting iterations...\n",
            "Run: 7, iteration: 1/100, moves: 7024, ncost: 978.1519294846061\n",
            "Run: 7, iteration: 2/100, moves: 1709, ncost: 978.0550609175671\n",
            "Run: 7, iteration: 3/100, moves: 235, ncost: 978.0542955726926\n",
            "Run: 7, iteration: 4/100, moves: 13, ncost: 978.0542866875841\n",
            "Run: 7, iteration: 5/100, moves: 0, ncost: 978.0542866875841\n",
            "Init: initializing centroids\n",
            "Init: initializing clusters\n",
            "Starting iterations...\n",
            "Run: 8, iteration: 1/100, moves: 6290, ncost: 1012.7190168470223\n",
            "Run: 8, iteration: 2/100, moves: 3739, ncost: 1012.6999518931212\n",
            "Run: 8, iteration: 3/100, moves: 833, ncost: 1012.6976845653367\n",
            "Run: 8, iteration: 4/100, moves: 94, ncost: 1012.6976689959045\n",
            "Run: 8, iteration: 5/100, moves: 0, ncost: 1012.6976689959045\n",
            "Best run was number 7\n"
          ],
          "name": "stdout"
        }
      ]
    },
    {
      "metadata": {
        "id": "ENqVdMQFjuMU",
        "colab_type": "code",
        "colab": {
          "base_uri": "https://localhost:8080/",
          "height": 544
        },
        "outputId": "413e3ea3-e410-4069-9d15-76b4a4799766"
      },
      "cell_type": "code",
      "source": [
        "print(km.cluster_centroids_)"
      ],
      "execution_count": 0,
      "outputs": [
        {
          "output_type": "stream",
          "text": [
            "[array([[0.00338867],\n",
            "       [0.0022081 ],\n",
            "       [0.05088183],\n",
            "       [0.00731828],\n",
            "       [0.00476064],\n",
            "       [0.00605499],\n",
            "       [0.00925446],\n",
            "       [0.01146162],\n",
            "       [0.00463616],\n",
            "       [0.00653722]]), array([['Application, originator, mortgage broker', 'Riverside', 'CA',\n",
            "        Timestamp('2018-03-26 00:00:00'), 'Closed with explanation'],\n",
            "       ['Loan modification,collection,foreclosure', 'Miami', 'FL',\n",
            "        Timestamp('2013-01-17 00:00:00'), 'Closed with explanation'],\n",
            "       ['Loan modification,collection,foreclosure', 'Philadelphia', 'PA',\n",
            "        Timestamp('2018-05-24 00:00:00'), 'Closed with explanation'],\n",
            "       ['Loan modification,collection,foreclosure', 'Brooklyn', 'NY',\n",
            "        Timestamp('2012-06-22 00:00:00'), 'Closed with explanation'],\n",
            "       ['Loan servicing, payments, escrow account', 'Los Angeles', 'CA',\n",
            "        Timestamp('2014-03-04 00:00:00'), 'Closed with explanation'],\n",
            "       ['Loan modification,collection,foreclosure', 'Chicago', 'CA',\n",
            "        Timestamp('2012-05-29 00:00:00'),\n",
            "        'Closed with non-monetary relief'],\n",
            "       ['Loan modification,collection,foreclosure', 'Atlanta', 'NJ',\n",
            "        Timestamp('2013-01-14 00:00:00'), 'Closed with explanation'],\n",
            "       ['Settlement process and costs', 'Miami', 'FL',\n",
            "        Timestamp('2012-06-12 00:00:00'), 'Closed with explanation'],\n",
            "       ['Loan modification,collection,foreclosure', 'Charlotte', 'CA',\n",
            "        Timestamp('2012-01-10 00:00:00'), 'Closed without relief'],\n",
            "       ['Loan modification,collection,foreclosure', 'Los Angeles', 'CA',\n",
            "        Timestamp('2013-02-21 00:00:00'), 'Closed with explanation']],\n",
            "      dtype=object)]\n"
          ],
          "name": "stdout"
        }
      ]
    },
    {
      "metadata": {
        "id": "xmUGtPPflvoK",
        "colab_type": "code",
        "colab": {}
      },
      "cell_type": "code",
      "source": [
        "clusters=clusters.reshape(28423,1)"
      ],
      "execution_count": 0,
      "outputs": []
    },
    {
      "metadata": {
        "id": "0dlikXo_lv8J",
        "colab_type": "code",
        "colab": {}
      },
      "cell_type": "code",
      "source": [
        "class_cluster = pd.DataFrame(clusters,columns=['Class cluster'])"
      ],
      "execution_count": 0,
      "outputs": []
    },
    {
      "metadata": {
        "id": "kJAWqwiHlwPB",
        "colab_type": "code",
        "colab": {
          "base_uri": "https://localhost:8080/",
          "height": 204
        },
        "outputId": "82f5f485-796e-4213-85cb-8cc04d7dc170"
      },
      "cell_type": "code",
      "source": [
        "class_cluster.head()"
      ],
      "execution_count": 0,
      "outputs": [
        {
          "output_type": "execute_result",
          "data": {
            "text/html": [
              "<div>\n",
              "<style scoped>\n",
              "    .dataframe tbody tr th:only-of-type {\n",
              "        vertical-align: middle;\n",
              "    }\n",
              "\n",
              "    .dataframe tbody tr th {\n",
              "        vertical-align: top;\n",
              "    }\n",
              "\n",
              "    .dataframe thead th {\n",
              "        text-align: right;\n",
              "    }\n",
              "</style>\n",
              "<table border=\"1\" class=\"dataframe\">\n",
              "  <thead>\n",
              "    <tr style=\"text-align: right;\">\n",
              "      <th></th>\n",
              "      <th>Class cluster</th>\n",
              "    </tr>\n",
              "  </thead>\n",
              "  <tbody>\n",
              "    <tr>\n",
              "      <th>0</th>\n",
              "      <td>1</td>\n",
              "    </tr>\n",
              "    <tr>\n",
              "      <th>1</th>\n",
              "      <td>1</td>\n",
              "    </tr>\n",
              "    <tr>\n",
              "      <th>2</th>\n",
              "      <td>9</td>\n",
              "    </tr>\n",
              "    <tr>\n",
              "      <th>3</th>\n",
              "      <td>4</td>\n",
              "    </tr>\n",
              "    <tr>\n",
              "      <th>4</th>\n",
              "      <td>3</td>\n",
              "    </tr>\n",
              "  </tbody>\n",
              "</table>\n",
              "</div>"
            ],
            "text/plain": [
              "   Class cluster\n",
              "0              1\n",
              "1              1\n",
              "2              9\n",
              "3              4\n",
              "4              3"
            ]
          },
          "metadata": {
            "tags": []
          },
          "execution_count": 139
        }
      ]
    },
    {
      "metadata": {
        "id": "O4tZRJ5zlwgS",
        "colab_type": "code",
        "colab": {
          "base_uri": "https://localhost:8080/",
          "height": 204
        },
        "outputId": "f06cf735-e2c7-40fc-e5ca-e6e5e8df3ce9"
      },
      "cell_type": "code",
      "source": [
        "data_req.head()\n"
      ],
      "execution_count": 0,
      "outputs": [
        {
          "output_type": "execute_result",
          "data": {
            "text/html": [
              "<div>\n",
              "<style scoped>\n",
              "    .dataframe tbody tr th:only-of-type {\n",
              "        vertical-align: middle;\n",
              "    }\n",
              "\n",
              "    .dataframe tbody tr th {\n",
              "        vertical-align: top;\n",
              "    }\n",
              "\n",
              "    .dataframe thead th {\n",
              "        text-align: right;\n",
              "    }\n",
              "</style>\n",
              "<table border=\"1\" class=\"dataframe\">\n",
              "  <thead>\n",
              "    <tr style=\"text-align: right;\">\n",
              "      <th></th>\n",
              "      <th>Issue</th>\n",
              "      <th>City</th>\n",
              "      <th>State</th>\n",
              "      <th>Date sent to company</th>\n",
              "      <th>Company response to consumer</th>\n",
              "      <th>Time Difference</th>\n",
              "    </tr>\n",
              "  </thead>\n",
              "  <tbody>\n",
              "    <tr>\n",
              "      <th>0</th>\n",
              "      <td>Loan modification,collection,foreclosure</td>\n",
              "      <td>Anchorage</td>\n",
              "      <td>AK</td>\n",
              "      <td>2016-11-16</td>\n",
              "      <td>Closed with explanation</td>\n",
              "      <td>0.003846</td>\n",
              "    </tr>\n",
              "    <tr>\n",
              "      <th>1</th>\n",
              "      <td>Loan modification,collection,foreclosure</td>\n",
              "      <td>Chugiak</td>\n",
              "      <td>AK</td>\n",
              "      <td>2015-02-09</td>\n",
              "      <td>Closed with explanation</td>\n",
              "      <td>0.000000</td>\n",
              "    </tr>\n",
              "    <tr>\n",
              "      <th>3</th>\n",
              "      <td>Loan modification,collection,foreclosure</td>\n",
              "      <td>Anchorage</td>\n",
              "      <td>AK</td>\n",
              "      <td>2014-12-05</td>\n",
              "      <td>Closed with explanation</td>\n",
              "      <td>0.005769</td>\n",
              "    </tr>\n",
              "    <tr>\n",
              "      <th>4</th>\n",
              "      <td>Loan servicing, payments, escrow account</td>\n",
              "      <td>Anchorage</td>\n",
              "      <td>AK</td>\n",
              "      <td>2013-03-08</td>\n",
              "      <td>Closed with explanation</td>\n",
              "      <td>0.001923</td>\n",
              "    </tr>\n",
              "    <tr>\n",
              "      <th>5</th>\n",
              "      <td>Loan modification,collection,foreclosure</td>\n",
              "      <td>Anchorage</td>\n",
              "      <td>AK</td>\n",
              "      <td>2013-05-28</td>\n",
              "      <td>Closed with explanation</td>\n",
              "      <td>0.007692</td>\n",
              "    </tr>\n",
              "  </tbody>\n",
              "</table>\n",
              "</div>"
            ],
            "text/plain": [
              "                                      Issue       City State  \\\n",
              "0  Loan modification,collection,foreclosure  Anchorage    AK   \n",
              "1  Loan modification,collection,foreclosure    Chugiak    AK   \n",
              "3  Loan modification,collection,foreclosure  Anchorage    AK   \n",
              "4  Loan servicing, payments, escrow account  Anchorage    AK   \n",
              "5  Loan modification,collection,foreclosure  Anchorage    AK   \n",
              "\n",
              "  Date sent to company Company response to consumer  Time Difference  \n",
              "0           2016-11-16      Closed with explanation         0.003846  \n",
              "1           2015-02-09      Closed with explanation         0.000000  \n",
              "3           2014-12-05      Closed with explanation         0.005769  \n",
              "4           2013-03-08      Closed with explanation         0.001923  \n",
              "5           2013-05-28      Closed with explanation         0.007692  "
            ]
          },
          "metadata": {
            "tags": []
          },
          "execution_count": 140
        }
      ]
    },
    {
      "metadata": {
        "id": "z1gFdwjSp9-h",
        "colab_type": "code",
        "colab": {
          "base_uri": "https://localhost:8080/",
          "height": 204
        },
        "outputId": "20cd841f-9a8b-4ad4-97f9-f06ab04c467e"
      },
      "cell_type": "code",
      "source": [
        "data_req.index = range(data_req.shape[0])\n",
        "data_req.head()"
      ],
      "execution_count": 0,
      "outputs": [
        {
          "output_type": "execute_result",
          "data": {
            "text/html": [
              "<div>\n",
              "<style scoped>\n",
              "    .dataframe tbody tr th:only-of-type {\n",
              "        vertical-align: middle;\n",
              "    }\n",
              "\n",
              "    .dataframe tbody tr th {\n",
              "        vertical-align: top;\n",
              "    }\n",
              "\n",
              "    .dataframe thead th {\n",
              "        text-align: right;\n",
              "    }\n",
              "</style>\n",
              "<table border=\"1\" class=\"dataframe\">\n",
              "  <thead>\n",
              "    <tr style=\"text-align: right;\">\n",
              "      <th></th>\n",
              "      <th>Issue</th>\n",
              "      <th>City</th>\n",
              "      <th>State</th>\n",
              "      <th>Date sent to company</th>\n",
              "      <th>Company response to consumer</th>\n",
              "      <th>Time Difference</th>\n",
              "    </tr>\n",
              "  </thead>\n",
              "  <tbody>\n",
              "    <tr>\n",
              "      <th>0</th>\n",
              "      <td>Loan modification,collection,foreclosure</td>\n",
              "      <td>Anchorage</td>\n",
              "      <td>AK</td>\n",
              "      <td>2016-11-16</td>\n",
              "      <td>Closed with explanation</td>\n",
              "      <td>0.003846</td>\n",
              "    </tr>\n",
              "    <tr>\n",
              "      <th>1</th>\n",
              "      <td>Loan modification,collection,foreclosure</td>\n",
              "      <td>Chugiak</td>\n",
              "      <td>AK</td>\n",
              "      <td>2015-02-09</td>\n",
              "      <td>Closed with explanation</td>\n",
              "      <td>0.000000</td>\n",
              "    </tr>\n",
              "    <tr>\n",
              "      <th>2</th>\n",
              "      <td>Loan modification,collection,foreclosure</td>\n",
              "      <td>Anchorage</td>\n",
              "      <td>AK</td>\n",
              "      <td>2014-12-05</td>\n",
              "      <td>Closed with explanation</td>\n",
              "      <td>0.005769</td>\n",
              "    </tr>\n",
              "    <tr>\n",
              "      <th>3</th>\n",
              "      <td>Loan servicing, payments, escrow account</td>\n",
              "      <td>Anchorage</td>\n",
              "      <td>AK</td>\n",
              "      <td>2013-03-08</td>\n",
              "      <td>Closed with explanation</td>\n",
              "      <td>0.001923</td>\n",
              "    </tr>\n",
              "    <tr>\n",
              "      <th>4</th>\n",
              "      <td>Loan modification,collection,foreclosure</td>\n",
              "      <td>Anchorage</td>\n",
              "      <td>AK</td>\n",
              "      <td>2013-05-28</td>\n",
              "      <td>Closed with explanation</td>\n",
              "      <td>0.007692</td>\n",
              "    </tr>\n",
              "  </tbody>\n",
              "</table>\n",
              "</div>"
            ],
            "text/plain": [
              "                                      Issue       City State  \\\n",
              "0  Loan modification,collection,foreclosure  Anchorage    AK   \n",
              "1  Loan modification,collection,foreclosure    Chugiak    AK   \n",
              "2  Loan modification,collection,foreclosure  Anchorage    AK   \n",
              "3  Loan servicing, payments, escrow account  Anchorage    AK   \n",
              "4  Loan modification,collection,foreclosure  Anchorage    AK   \n",
              "\n",
              "  Date sent to company Company response to consumer  Time Difference  \n",
              "0           2016-11-16      Closed with explanation         0.003846  \n",
              "1           2015-02-09      Closed with explanation         0.000000  \n",
              "2           2014-12-05      Closed with explanation         0.005769  \n",
              "3           2013-03-08      Closed with explanation         0.001923  \n",
              "4           2013-05-28      Closed with explanation         0.007692  "
            ]
          },
          "metadata": {
            "tags": []
          },
          "execution_count": 141
        }
      ]
    },
    {
      "metadata": {
        "id": "mjOj7qIUlw15",
        "colab_type": "code",
        "colab": {}
      },
      "cell_type": "code",
      "source": [
        "data_req = pd.concat([data_req,class_cluster],axis=1)"
      ],
      "execution_count": 0,
      "outputs": []
    },
    {
      "metadata": {
        "id": "H54j4PJMlxHp",
        "colab_type": "code",
        "colab": {
          "base_uri": "https://localhost:8080/",
          "height": 204
        },
        "outputId": "cedd1c51-ba6d-40a9-9ad9-68c851b198d5"
      },
      "cell_type": "code",
      "source": [
        "data_req.head()"
      ],
      "execution_count": 0,
      "outputs": [
        {
          "output_type": "execute_result",
          "data": {
            "text/html": [
              "<div>\n",
              "<style scoped>\n",
              "    .dataframe tbody tr th:only-of-type {\n",
              "        vertical-align: middle;\n",
              "    }\n",
              "\n",
              "    .dataframe tbody tr th {\n",
              "        vertical-align: top;\n",
              "    }\n",
              "\n",
              "    .dataframe thead th {\n",
              "        text-align: right;\n",
              "    }\n",
              "</style>\n",
              "<table border=\"1\" class=\"dataframe\">\n",
              "  <thead>\n",
              "    <tr style=\"text-align: right;\">\n",
              "      <th></th>\n",
              "      <th>Issue</th>\n",
              "      <th>City</th>\n",
              "      <th>State</th>\n",
              "      <th>Date sent to company</th>\n",
              "      <th>Company response to consumer</th>\n",
              "      <th>Time Difference</th>\n",
              "      <th>Class cluster</th>\n",
              "    </tr>\n",
              "  </thead>\n",
              "  <tbody>\n",
              "    <tr>\n",
              "      <th>0</th>\n",
              "      <td>Loan modification,collection,foreclosure</td>\n",
              "      <td>Anchorage</td>\n",
              "      <td>AK</td>\n",
              "      <td>2016-11-16</td>\n",
              "      <td>Closed with explanation</td>\n",
              "      <td>0.003846</td>\n",
              "      <td>1</td>\n",
              "    </tr>\n",
              "    <tr>\n",
              "      <th>1</th>\n",
              "      <td>Loan modification,collection,foreclosure</td>\n",
              "      <td>Chugiak</td>\n",
              "      <td>AK</td>\n",
              "      <td>2015-02-09</td>\n",
              "      <td>Closed with explanation</td>\n",
              "      <td>0.000000</td>\n",
              "      <td>1</td>\n",
              "    </tr>\n",
              "    <tr>\n",
              "      <th>2</th>\n",
              "      <td>Loan modification,collection,foreclosure</td>\n",
              "      <td>Anchorage</td>\n",
              "      <td>AK</td>\n",
              "      <td>2014-12-05</td>\n",
              "      <td>Closed with explanation</td>\n",
              "      <td>0.005769</td>\n",
              "      <td>9</td>\n",
              "    </tr>\n",
              "    <tr>\n",
              "      <th>3</th>\n",
              "      <td>Loan servicing, payments, escrow account</td>\n",
              "      <td>Anchorage</td>\n",
              "      <td>AK</td>\n",
              "      <td>2013-03-08</td>\n",
              "      <td>Closed with explanation</td>\n",
              "      <td>0.001923</td>\n",
              "      <td>4</td>\n",
              "    </tr>\n",
              "    <tr>\n",
              "      <th>4</th>\n",
              "      <td>Loan modification,collection,foreclosure</td>\n",
              "      <td>Anchorage</td>\n",
              "      <td>AK</td>\n",
              "      <td>2013-05-28</td>\n",
              "      <td>Closed with explanation</td>\n",
              "      <td>0.007692</td>\n",
              "      <td>3</td>\n",
              "    </tr>\n",
              "  </tbody>\n",
              "</table>\n",
              "</div>"
            ],
            "text/plain": [
              "                                      Issue       City State  \\\n",
              "0  Loan modification,collection,foreclosure  Anchorage    AK   \n",
              "1  Loan modification,collection,foreclosure    Chugiak    AK   \n",
              "2  Loan modification,collection,foreclosure  Anchorage    AK   \n",
              "3  Loan servicing, payments, escrow account  Anchorage    AK   \n",
              "4  Loan modification,collection,foreclosure  Anchorage    AK   \n",
              "\n",
              "  Date sent to company Company response to consumer  Time Difference  \\\n",
              "0           2016-11-16      Closed with explanation         0.003846   \n",
              "1           2015-02-09      Closed with explanation         0.000000   \n",
              "2           2014-12-05      Closed with explanation         0.005769   \n",
              "3           2013-03-08      Closed with explanation         0.001923   \n",
              "4           2013-05-28      Closed with explanation         0.007692   \n",
              "\n",
              "   Class cluster  \n",
              "0              1  \n",
              "1              1  \n",
              "2              9  \n",
              "3              4  \n",
              "4              3  "
            ]
          },
          "metadata": {
            "tags": []
          },
          "execution_count": 143
        }
      ]
    },
    {
      "metadata": {
        "id": "7EYfFen8wRys",
        "colab_type": "code",
        "colab": {}
      },
      "cell_type": "code",
      "source": [
        "# DF TO CSV\n",
        "path= r'drive/Complaints_Dataset/'\n",
        "data_req.to_csv(path+'clusteredComplaintsDataSet.csv', sep=',', encoding='utf-8')\n"
      ],
      "execution_count": 0,
      "outputs": []
    },
    {
      "metadata": {
        "id": "aQ8GK-ZgZxfX",
        "colab_type": "code",
        "colab": {}
      },
      "cell_type": "code",
      "source": [
        "from __future__ import division, print_function"
      ],
      "execution_count": 0,
      "outputs": []
    },
    {
      "metadata": {
        "id": "nwUNrp1aaA6R",
        "colab_type": "code",
        "colab": {}
      },
      "cell_type": "code",
      "source": [
        "from matplotlib import pyplot as plt\n",
        "import pandas as pd\n",
        "import numpy as np\n",
        "%matplotlib inline"
      ],
      "execution_count": 0,
      "outputs": []
    },
    {
      "metadata": {
        "id": "xBi9f-cWMjJR",
        "colab_type": "code",
        "colab": {}
      },
      "cell_type": "code",
      "source": [
        "\n",
        "import  matplotlib  \n",
        "matplotlib.rc('figure', figsize = (14, 7))\n",
        "matplotlib.rc('font', size = 14)\n",
        "matplotlib.rc('axes.spines', top = False, right = False)\n",
        "matplotlib.rc('axes', grid = False)\n",
        "matplotlib.rc('axes', facecolor = 'white')"
      ],
      "execution_count": 0,
      "outputs": []
    },
    {
      "metadata": {
        "id": "-z5g31bsMmWT",
        "colab_type": "code",
        "colab": {}
      },
      "cell_type": "code",
      "source": [
        "def scatterplot(x_data, y_data, x_label, y_label, title):\n",
        "    _, ax = plt.subplots()\n",
        "    ax.scatter(x_data, y_data, s = 30, color = '#539caf', alpha = 0.75)\n",
        "    ax.set_title(title)\n",
        "    ax.set_xlabel(x_label)\n",
        "    ax.set_ylabel(y_label)"
      ],
      "execution_count": 0,
      "outputs": []
    },
    {
      "metadata": {
        "id": "C4UqBUBGMrT4",
        "colab_type": "code",
        "colab": {
          "base_uri": "https://localhost:8080/",
          "height": 457
        },
        "outputId": "c1b89c95-1bc9-4693-c260-27cb31cd2f97"
      },
      "cell_type": "code",
      "source": [
        "scatterplot(x_data = data_req['City']\n",
        "            , y_data = data_req['Issue']\n",
        "            , x_label = 'City'\n",
        "            , y_label = 'Issue'\n",
        "            , title = 'Number of Issue Vs City')"
      ],
      "execution_count": 0,
      "outputs": [
        {
          "output_type": "display_data",
          "data": {
            "image/png": "[encoded data removed]",
            "text/plain": [
              "<matplotlib.figure.Figure at 0x7ff1fed9e240>"
            ]
          },
          "metadata": {
            "tags": []
          }
        }
      ]
    },
    {
      "metadata": {
        "id": "ef6x39fXPooq",
        "colab_type": "code",
        "colab": {
          "base_uri": "https://localhost:8080/",
          "height": 306
        },
        "outputId": "61fa4e4d-9858-4bea-a12e-336f009f22b7"
      },
      "cell_type": "code",
      "source": [
        "import random\n",
        "data_req['frequency']=(data_req.groupby('City')['City'].transform('count'))\n",
        "data_req['customers_needed']=(data_req.groupby('City')['City'].transform('count')//20)+1\n",
        "data_req['Customer_id']=\"\"\n",
        "data_req.head()"
      ],
      "execution_count": 0,
      "outputs": [
        {
          "output_type": "execute_result",
          "data": {
            "text/html": [
              "<div>\n",
              "<style scoped>\n",
              "    .dataframe tbody tr th:only-of-type {\n",
              "        vertical-align: middle;\n",
              "    }\n",
              "\n",
              "    .dataframe tbody tr th {\n",
              "        vertical-align: top;\n",
              "    }\n",
              "\n",
              "    .dataframe thead th {\n",
              "        text-align: right;\n",
              "    }\n",
              "</style>\n",
              "<table border=\"1\" class=\"dataframe\">\n",
              "  <thead>\n",
              "    <tr style=\"text-align: right;\">\n",
              "      <th></th>\n",
              "      <th>Issue</th>\n",
              "      <th>City</th>\n",
              "      <th>State</th>\n",
              "      <th>Date sent to company</th>\n",
              "      <th>Company response to consumer</th>\n",
              "      <th>Time Difference</th>\n",
              "      <th>Class cluster</th>\n",
              "      <th>frequency</th>\n",
              "      <th>customers_needed</th>\n",
              "      <th>Customer_id</th>\n",
              "    </tr>\n",
              "  </thead>\n",
              "  <tbody>\n",
              "    <tr>\n",
              "      <th>0</th>\n",
              "      <td>Loan modification,collection,foreclosure</td>\n",
              "      <td>Anchorage</td>\n",
              "      <td>AK</td>\n",
              "      <td>2016-11-16</td>\n",
              "      <td>Closed with explanation</td>\n",
              "      <td>0.003846</td>\n",
              "      <td>1</td>\n",
              "      <td>30</td>\n",
              "      <td>2</td>\n",
              "      <td></td>\n",
              "    </tr>\n",
              "    <tr>\n",
              "      <th>1</th>\n",
              "      <td>Loan modification,collection,foreclosure</td>\n",
              "      <td>Chugiak</td>\n",
              "      <td>AK</td>\n",
              "      <td>2015-02-09</td>\n",
              "      <td>Closed with explanation</td>\n",
              "      <td>0.000000</td>\n",
              "      <td>1</td>\n",
              "      <td>3</td>\n",
              "      <td>1</td>\n",
              "      <td></td>\n",
              "    </tr>\n",
              "    <tr>\n",
              "      <th>2</th>\n",
              "      <td>Loan modification,collection,foreclosure</td>\n",
              "      <td>Anchorage</td>\n",
              "      <td>AK</td>\n",
              "      <td>2014-12-05</td>\n",
              "      <td>Closed with explanation</td>\n",
              "      <td>0.005769</td>\n",
              "      <td>9</td>\n",
              "      <td>30</td>\n",
              "      <td>2</td>\n",
              "      <td></td>\n",
              "    </tr>\n",
              "    <tr>\n",
              "      <th>3</th>\n",
              "      <td>Loan servicing, payments, escrow account</td>\n",
              "      <td>Anchorage</td>\n",
              "      <td>AK</td>\n",
              "      <td>2013-03-08</td>\n",
              "      <td>Closed with explanation</td>\n",
              "      <td>0.001923</td>\n",
              "      <td>4</td>\n",
              "      <td>30</td>\n",
              "      <td>2</td>\n",
              "      <td></td>\n",
              "    </tr>\n",
              "    <tr>\n",
              "      <th>4</th>\n",
              "      <td>Loan modification,collection,foreclosure</td>\n",
              "      <td>Anchorage</td>\n",
              "      <td>AK</td>\n",
              "      <td>2013-05-28</td>\n",
              "      <td>Closed with explanation</td>\n",
              "      <td>0.007692</td>\n",
              "      <td>3</td>\n",
              "      <td>30</td>\n",
              "      <td>2</td>\n",
              "      <td></td>\n",
              "    </tr>\n",
              "  </tbody>\n",
              "</table>\n",
              "</div>"
            ],
            "text/plain": [
              "                                      Issue       City State  \\\n",
              "0  Loan modification,collection,foreclosure  Anchorage    AK   \n",
              "1  Loan modification,collection,foreclosure    Chugiak    AK   \n",
              "2  Loan modification,collection,foreclosure  Anchorage    AK   \n",
              "3  Loan servicing, payments, escrow account  Anchorage    AK   \n",
              "4  Loan modification,collection,foreclosure  Anchorage    AK   \n",
              "\n",
              "  Date sent to company Company response to consumer  Time Difference  \\\n",
              "0           2016-11-16      Closed with explanation         0.003846   \n",
              "1           2015-02-09      Closed with explanation         0.000000   \n",
              "2           2014-12-05      Closed with explanation         0.005769   \n",
              "3           2013-03-08      Closed with explanation         0.001923   \n",
              "4           2013-05-28      Closed with explanation         0.007692   \n",
              "\n",
              "   Class cluster  frequency  customers_needed Customer_id  \n",
              "0              1         30                 2              \n",
              "1              1          3                 1              \n",
              "2              9         30                 2              \n",
              "3              4         30                 2              \n",
              "4              3         30                 2              "
            ]
          },
          "metadata": {
            "tags": []
          },
          "execution_count": 152
        }
      ]
    },
    {
      "metadata": {
        "id": "otZQpRD4xvHM",
        "colab_type": "code",
        "colab": {
          "base_uri": "https://localhost:8080/",
          "height": 255
        },
        "outputId": "3feec9b2-5ca4-43ce-9145-fd238acebfea"
      },
      "cell_type": "code",
      "source": [
        "data_req['customers_needed'].value_counts(dropna=False)"
      ],
      "execution_count": 0,
      "outputs": [
        {
          "output_type": "execute_result",
          "data": {
            "text/plain": [
              "1     15038\n",
              "2      4901\n",
              "3      1904\n",
              "5      1139\n",
              "4      1064\n",
              "8       910\n",
              "7       898\n",
              "6       652\n",
              "26      513\n",
              "12      458\n",
              "10      384\n",
              "15      296\n",
              "14      266\n",
              "Name: customers_needed, dtype: int64"
            ]
          },
          "metadata": {
            "tags": []
          },
          "execution_count": 153
        }
      ]
    },
    {
      "metadata": {
        "id": "szbHUuROk9VR",
        "colab_type": "code",
        "colab": {
          "base_uri": "https://localhost:8080/",
          "height": 306
        },
        "outputId": "98b89775-5091-44b7-e9a2-c3cb6f2e6576"
      },
      "cell_type": "code",
      "source": [
        "import random\n",
        "for i in data_req.index:\n",
        "  data_req.at[i, 'Customer_id']=\"Customer_\"+data_req.at[i, 'City'][0:3]+\"_\"+str(data_req.at[i, 'frequency'])+\"_\"+str(random.randint(1, data_req.at[i, 'customers_needed']))\n",
        "  \n",
        "data_req.head()\n"
      ],
      "execution_count": 0,
      "outputs": [
        {
          "output_type": "execute_result",
          "data": {
            "text/html": [
              "<div>\n",
              "<style scoped>\n",
              "    .dataframe tbody tr th:only-of-type {\n",
              "        vertical-align: middle;\n",
              "    }\n",
              "\n",
              "    .dataframe tbody tr th {\n",
              "        vertical-align: top;\n",
              "    }\n",
              "\n",
              "    .dataframe thead th {\n",
              "        text-align: right;\n",
              "    }\n",
              "</style>\n",
              "<table border=\"1\" class=\"dataframe\">\n",
              "  <thead>\n",
              "    <tr style=\"text-align: right;\">\n",
              "      <th></th>\n",
              "      <th>Issue</th>\n",
              "      <th>City</th>\n",
              "      <th>State</th>\n",
              "      <th>Date sent to company</th>\n",
              "      <th>Company response to consumer</th>\n",
              "      <th>Time Difference</th>\n",
              "      <th>Class cluster</th>\n",
              "      <th>frequency</th>\n",
              "      <th>customers_needed</th>\n",
              "      <th>Customer_id</th>\n",
              "    </tr>\n",
              "  </thead>\n",
              "  <tbody>\n",
              "    <tr>\n",
              "      <th>0</th>\n",
              "      <td>Loan modification,collection,foreclosure</td>\n",
              "      <td>Anchorage</td>\n",
              "      <td>AK</td>\n",
              "      <td>2016-11-16</td>\n",
              "      <td>Closed with explanation</td>\n",
              "      <td>0.003846</td>\n",
              "      <td>1</td>\n",
              "      <td>30</td>\n",
              "      <td>2</td>\n",
              "      <td>Customer_Anc_30_1</td>\n",
              "    </tr>\n",
              "    <tr>\n",
              "      <th>1</th>\n",
              "      <td>Loan modification,collection,foreclosure</td>\n",
              "      <td>Chugiak</td>\n",
              "      <td>AK</td>\n",
              "      <td>2015-02-09</td>\n",
              "      <td>Closed with explanation</td>\n",
              "      <td>0.000000</td>\n",
              "      <td>1</td>\n",
              "      <td>3</td>\n",
              "      <td>1</td>\n",
              "      <td>Customer_Chu_3_1</td>\n",
              "    </tr>\n",
              "    <tr>\n",
              "      <th>2</th>\n",
              "      <td>Loan modification,collection,foreclosure</td>\n",
              "      <td>Anchorage</td>\n",
              "      <td>AK</td>\n",
              "      <td>2014-12-05</td>\n",
              "      <td>Closed with explanation</td>\n",
              "      <td>0.005769</td>\n",
              "      <td>9</td>\n",
              "      <td>30</td>\n",
              "      <td>2</td>\n",
              "      <td>Customer_Anc_30_1</td>\n",
              "    </tr>\n",
              "    <tr>\n",
              "      <th>3</th>\n",
              "      <td>Loan servicing, payments, escrow account</td>\n",
              "      <td>Anchorage</td>\n",
              "      <td>AK</td>\n",
              "      <td>2013-03-08</td>\n",
              "      <td>Closed with explanation</td>\n",
              "      <td>0.001923</td>\n",
              "      <td>4</td>\n",
              "      <td>30</td>\n",
              "      <td>2</td>\n",
              "      <td>Customer_Anc_30_2</td>\n",
              "    </tr>\n",
              "    <tr>\n",
              "      <th>4</th>\n",
              "      <td>Loan modification,collection,foreclosure</td>\n",
              "      <td>Anchorage</td>\n",
              "      <td>AK</td>\n",
              "      <td>2013-05-28</td>\n",
              "      <td>Closed with explanation</td>\n",
              "      <td>0.007692</td>\n",
              "      <td>3</td>\n",
              "      <td>30</td>\n",
              "      <td>2</td>\n",
              "      <td>Customer_Anc_30_2</td>\n",
              "    </tr>\n",
              "  </tbody>\n",
              "</table>\n",
              "</div>"
            ],
            "text/plain": [
              "                                      Issue       City State  \\\n",
              "0  Loan modification,collection,foreclosure  Anchorage    AK   \n",
              "1  Loan modification,collection,foreclosure    Chugiak    AK   \n",
              "2  Loan modification,collection,foreclosure  Anchorage    AK   \n",
              "3  Loan servicing, payments, escrow account  Anchorage    AK   \n",
              "4  Loan modification,collection,foreclosure  Anchorage    AK   \n",
              "\n",
              "  Date sent to company Company response to consumer  Time Difference  \\\n",
              "0           2016-11-16      Closed with explanation         0.003846   \n",
              "1           2015-02-09      Closed with explanation         0.000000   \n",
              "2           2014-12-05      Closed with explanation         0.005769   \n",
              "3           2013-03-08      Closed with explanation         0.001923   \n",
              "4           2013-05-28      Closed with explanation         0.007692   \n",
              "\n",
              "   Class cluster  frequency  customers_needed        Customer_id  \n",
              "0              1         30                 2  Customer_Anc_30_1  \n",
              "1              1          3                 1   Customer_Chu_3_1  \n",
              "2              9         30                 2  Customer_Anc_30_1  \n",
              "3              4         30                 2  Customer_Anc_30_2  \n",
              "4              3         30                 2  Customer_Anc_30_2  "
            ]
          },
          "metadata": {
            "tags": []
          },
          "execution_count": 154
        }
      ]
    },
    {
      "metadata": {
        "id": "HfDcRE0-R4BY",
        "colab_type": "code",
        "colab": {
          "base_uri": "https://localhost:8080/",
          "height": 238
        },
        "outputId": "c1e668cd-3980-4b33-9789-b4e15b2350b8"
      },
      "cell_type": "code",
      "source": [
        "data_req=data_req.drop(columns=['frequency', 'customers_needed'])\n",
        "data_req.head()"
      ],
      "execution_count": 0,
      "outputs": [
        {
          "output_type": "execute_result",
          "data": {
            "text/html": [
              "<div>\n",
              "<style scoped>\n",
              "    .dataframe tbody tr th:only-of-type {\n",
              "        vertical-align: middle;\n",
              "    }\n",
              "\n",
              "    .dataframe tbody tr th {\n",
              "        vertical-align: top;\n",
              "    }\n",
              "\n",
              "    .dataframe thead th {\n",
              "        text-align: right;\n",
              "    }\n",
              "</style>\n",
              "<table border=\"1\" class=\"dataframe\">\n",
              "  <thead>\n",
              "    <tr style=\"text-align: right;\">\n",
              "      <th></th>\n",
              "      <th>Issue</th>\n",
              "      <th>City</th>\n",
              "      <th>State</th>\n",
              "      <th>Date sent to company</th>\n",
              "      <th>Company response to consumer</th>\n",
              "      <th>Time Difference</th>\n",
              "      <th>Class cluster</th>\n",
              "      <th>Customer_id</th>\n",
              "    </tr>\n",
              "  </thead>\n",
              "  <tbody>\n",
              "    <tr>\n",
              "      <th>0</th>\n",
              "      <td>Loan modification,collection,foreclosure</td>\n",
              "      <td>Anchorage</td>\n",
              "      <td>AK</td>\n",
              "      <td>2016-11-16</td>\n",
              "      <td>Closed with explanation</td>\n",
              "      <td>0.003846</td>\n",
              "      <td>1</td>\n",
              "      <td>Customer_Anc_30_1</td>\n",
              "    </tr>\n",
              "    <tr>\n",
              "      <th>1</th>\n",
              "      <td>Loan modification,collection,foreclosure</td>\n",
              "      <td>Chugiak</td>\n",
              "      <td>AK</td>\n",
              "      <td>2015-02-09</td>\n",
              "      <td>Closed with explanation</td>\n",
              "      <td>0.000000</td>\n",
              "      <td>1</td>\n",
              "      <td>Customer_Chu_3_1</td>\n",
              "    </tr>\n",
              "    <tr>\n",
              "      <th>2</th>\n",
              "      <td>Loan modification,collection,foreclosure</td>\n",
              "      <td>Anchorage</td>\n",
              "      <td>AK</td>\n",
              "      <td>2014-12-05</td>\n",
              "      <td>Closed with explanation</td>\n",
              "      <td>0.005769</td>\n",
              "      <td>9</td>\n",
              "      <td>Customer_Anc_30_1</td>\n",
              "    </tr>\n",
              "    <tr>\n",
              "      <th>3</th>\n",
              "      <td>Loan servicing, payments, escrow account</td>\n",
              "      <td>Anchorage</td>\n",
              "      <td>AK</td>\n",
              "      <td>2013-03-08</td>\n",
              "      <td>Closed with explanation</td>\n",
              "      <td>0.001923</td>\n",
              "      <td>4</td>\n",
              "      <td>Customer_Anc_30_2</td>\n",
              "    </tr>\n",
              "    <tr>\n",
              "      <th>4</th>\n",
              "      <td>Loan modification,collection,foreclosure</td>\n",
              "      <td>Anchorage</td>\n",
              "      <td>AK</td>\n",
              "      <td>2013-05-28</td>\n",
              "      <td>Closed with explanation</td>\n",
              "      <td>0.007692</td>\n",
              "      <td>3</td>\n",
              "      <td>Customer_Anc_30_2</td>\n",
              "    </tr>\n",
              "  </tbody>\n",
              "</table>\n",
              "</div>"
            ],
            "text/plain": [
              "                                      Issue       City State  \\\n",
              "0  Loan modification,collection,foreclosure  Anchorage    AK   \n",
              "1  Loan modification,collection,foreclosure    Chugiak    AK   \n",
              "2  Loan modification,collection,foreclosure  Anchorage    AK   \n",
              "3  Loan servicing, payments, escrow account  Anchorage    AK   \n",
              "4  Loan modification,collection,foreclosure  Anchorage    AK   \n",
              "\n",
              "  Date sent to company Company response to consumer  Time Difference  \\\n",
              "0           2016-11-16      Closed with explanation         0.003846   \n",
              "1           2015-02-09      Closed with explanation         0.000000   \n",
              "2           2014-12-05      Closed with explanation         0.005769   \n",
              "3           2013-03-08      Closed with explanation         0.001923   \n",
              "4           2013-05-28      Closed with explanation         0.007692   \n",
              "\n",
              "   Class cluster        Customer_id  \n",
              "0              1  Customer_Anc_30_1  \n",
              "1              1   Customer_Chu_3_1  \n",
              "2              9  Customer_Anc_30_1  \n",
              "3              4  Customer_Anc_30_2  \n",
              "4              3  Customer_Anc_30_2  "
            ]
          },
          "metadata": {
            "tags": []
          },
          "execution_count": 155
        }
      ]
    },
    {
      "metadata": {
        "id": "O47i2lAHwsdI",
        "colab_type": "code",
        "colab": {
          "base_uri": "https://localhost:8080/",
          "height": 238
        },
        "outputId": "ab9132ba-9328-46c3-d1a4-ca642eeb8931"
      },
      "cell_type": "code",
      "source": [
        "data_req.info()"
      ],
      "execution_count": 0,
      "outputs": [
        {
          "output_type": "stream",
          "text": [
            "<class 'pandas.core.frame.DataFrame'>\n",
            "RangeIndex: 28423 entries, 0 to 28422\n",
            "Data columns (total 8 columns):\n",
            "Issue                           28423 non-null object\n",
            "City                            28423 non-null object\n",
            "State                           28423 non-null object\n",
            "Date sent to company            28423 non-null datetime64[ns]\n",
            "Company response to consumer    28423 non-null object\n",
            "Time Difference                 28423 non-null float64\n",
            "Class cluster                   28423 non-null uint8\n",
            "Customer_id                     28423 non-null object\n",
            "dtypes: datetime64[ns](1), float64(1), object(5), uint8(1)\n",
            "memory usage: 1.5+ MB\n"
          ],
          "name": "stdout"
        }
      ]
    },
    {
      "metadata": {
        "id": "hCKEYpRNwzKu",
        "colab_type": "code",
        "colab": {
          "base_uri": "https://localhost:8080/",
          "height": 1071
        },
        "outputId": "0fffa551-4c25-4fd2-fc76-5804e869c1cb"
      },
      "cell_type": "code",
      "source": [
        "data_req['Customer_id'].value_counts(dropna=False)"
      ],
      "execution_count": 0,
      "outputs": [
        {
          "output_type": "execute_result",
          "data": {
            "text/plain": [
              "Customer_San_17_1      51\n",
              "Customer_New_7_1       49\n",
              "Customer_Red_15_1      45\n",
              "Customer_Mon_13_1      39\n",
              "Customer_El _19_1      38\n",
              "Customer_Wes_12_1      36\n",
              "Customer_Lak_34_2      34\n",
              "Customer_Lak_34_1      34\n",
              "Customer_Wes_11_1      33\n",
              "Customer_Sea_123_3     31\n",
              "Customer_Mia_513_25    30\n",
              "Customer_Gra_10_1      30\n",
              "Customer_Wes_3_1       30\n",
              "Customer_New_10_1      30\n",
              "Customer_Eas_15_1      30\n",
              "Customer_Chi_227_11    30\n",
              "Customer_Los_296_12    30\n",
              "Customer_San_15_1      30\n",
              "Customer_New_15_1      30\n",
              "Customer_Atl_266_10    29\n",
              "Customer_New_23_2      29\n",
              "Customer_Las_154_7     29\n",
              "Customer_Mia_513_16    28\n",
              "Customer_For_157_4     28\n",
              "Customer_Pal_14_1      28\n",
              "Customer_Nor_4_1       28\n",
              "Customer_New_4_1       28\n",
              "Customer_Man_14_1      28\n",
              "Customer_Roc_7_1       28\n",
              "Customer_Bro_231_3     27\n",
              "                       ..\n",
              "Customer_Zep_1_1        1\n",
              "Customer_Apa_1_1        1\n",
              "Customer_Ock_1_1        1\n",
              "Customer_Hat_1_1        1\n",
              "Customer_Mcp_1_1        1\n",
              "Customer_Swi_1_1        1\n",
              "Customer_Wic_1_1        1\n",
              "Customer_Ayl_1_1        1\n",
              "Customer_Sec_1_1        1\n",
              "Customer_Inw_1_1        1\n",
              "Customer_Byf_1_1        1\n",
              "Customer_Din_1_1        1\n",
              "Customer_Sav_1_1        1\n",
              "Customer_Wor_1_1        1\n",
              "Customer_Hun_1_1        1\n",
              "Customer_Ald_1_1        1\n",
              "Customer_Low_1_1        1\n",
              "Customer_Gen_1_1        1\n",
              "Customer_Hoi_1_1        1\n",
              "Customer_Sce_1_1        1\n",
              "Customer_Ami_1_1        1\n",
              "Customer_Neg_1_1        1\n",
              "Customer_Joa_1_1        1\n",
              "Customer_Wit_1_1        1\n",
              "Customer_Pur_1_1        1\n",
              "Customer_Eme_1_1        1\n",
              "Customer_Til_1_1        1\n",
              "Customer_Don_1_1        1\n",
              "Customer_Gad_1_1        1\n",
              "Customer_Kew_1_1        1\n",
              "Name: Customer_id, Length: 3458, dtype: int64"
            ]
          },
          "metadata": {
            "tags": []
          },
          "execution_count": 157
        }
      ]
    },
    {
      "metadata": {
        "id": "atqFPBH0xCWv",
        "colab_type": "code",
        "colab": {}
      },
      "cell_type": "code",
      "source": [
        "# DF TO CSV\n",
        "path= r'drive/Complaints_Dataset/'\n",
        "data_req.to_csv(path+'ComplaintsDataSetWithCustomers.csv', sep=',', encoding='utf-8')"
      ],
      "execution_count": 0,
      "outputs": []
    },
    {
      "metadata": {
        "id": "xwIVlWSDKaCQ",
        "colab_type": "code",
        "colab": {}
      },
      "cell_type": "code",
      "source": [
        ""
      ],
      "execution_count": 0,
      "outputs": []
    }
  ]
}